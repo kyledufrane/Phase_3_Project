{
 "cells": [
  {
   "cell_type": "code",
   "execution_count": 1,
   "metadata": {
    "pycharm": {
     "name": "#%%\n"
    },
    "tags": []
   },
   "outputs": [],
   "source": [
    "#### To start we will import all of our needed libraries and dive into our datasets.\n",
    "import warnings\n",
    "warnings.simplefilter(action='ignore', category=FutureWarning)\n",
    "\n",
    "import pandas as pd\n",
    "import numpy as np\n",
    "from fuzzywuzzy import fuzz\n",
    "from fuzzywuzzy import process\n",
    "from sklearn.impute import KNNImputer\n",
    "\n",
    "from py_files.feature_engineering import filter_column_strings, knn_impute, cat_label_pct\n"
   ]
  },
  {
   "cell_type": "code",
   "execution_count": 2,
   "metadata": {
    "pycharm": {
     "name": "#%%\n"
    }
   },
   "outputs": [
    {
     "name": "stderr",
     "output_type": "stream",
     "text": [
      "/tmp/ipykernel_123433/1910989435.py:1: DtypeWarning: Columns (3) have mixed types. Specify dtype option on import or set low_memory=False.\n",
      "  df = pd.read_csv('data/post_eda_data.csv')\n"
     ]
    }
   ],
   "source": [
    "df = pd.read_csv('data/post_eda_data.csv')\n",
    "df.drop(['Unnamed: 0', 'index'], axis=1, inplace=True)"
   ]
  },
  {
   "cell_type": "code",
   "execution_count": 3,
   "metadata": {},
   "outputs": [
    {
     "data": {
      "text/plain": "   index     id    status_group  amount_tsh        funder  gps_height  \\\n0      0  69572      functional      6000.0         Roman      1390.0   \n1      1   8776      functional         NaN       Grumeti      1399.0   \n2      2  34310      functional        25.0  Lottery Club       686.0   \n3      3  67743  non functional         NaN        Unicef       263.0   \n4      4  19728      functional         NaN   Action In A         NaN   \n\n      installer  longitude   latitude  num_private  ... water_quality  \\\n0         Roman  34.938093  -9.856322            0  ...          soft   \n1       GRUMETI  34.698766  -2.147466            0  ...          soft   \n2  World vision  37.460664  -3.821329            0  ...          soft   \n3        UNICEF  38.486161 -11.155298            0  ...          soft   \n4       Artisan  31.130847  -1.825359            0  ...          soft   \n\n  quality_group      quantity  quantity_group                source  \\\n0          good        enough          enough                spring   \n1          good  insufficient    insufficient  rainwater harvesting   \n2          good        enough          enough                   dam   \n3          good           dry             dry           machine dbh   \n4          good      seasonal        seasonal  rainwater harvesting   \n\n            source_type source_class              waterpoint_type  \\\n0                spring  groundwater           communal standpipe   \n1  rainwater harvesting      surface           communal standpipe   \n2                   dam      surface  communal standpipe multiple   \n3              borehole  groundwater  communal standpipe multiple   \n4  rainwater harvesting      surface           communal standpipe   \n\n  waterpoint_type_group pop_height  \n0    communal standpipe        NaN  \n1    communal standpipe        NaN  \n2    communal standpipe        NaN  \n3    communal standpipe        NaN  \n4    communal standpipe        NaN  \n\n[5 rows x 40 columns]",
      "text/html": "<div>\n<style scoped>\n    .dataframe tbody tr th:only-of-type {\n        vertical-align: middle;\n    }\n\n    .dataframe tbody tr th {\n        vertical-align: top;\n    }\n\n    .dataframe thead th {\n        text-align: right;\n    }\n</style>\n<table border=\"1\" class=\"dataframe\">\n  <thead>\n    <tr style=\"text-align: right;\">\n      <th></th>\n      <th>index</th>\n      <th>id</th>\n      <th>status_group</th>\n      <th>amount_tsh</th>\n      <th>funder</th>\n      <th>gps_height</th>\n      <th>installer</th>\n      <th>longitude</th>\n      <th>latitude</th>\n      <th>num_private</th>\n      <th>...</th>\n      <th>water_quality</th>\n      <th>quality_group</th>\n      <th>quantity</th>\n      <th>quantity_group</th>\n      <th>source</th>\n      <th>source_type</th>\n      <th>source_class</th>\n      <th>waterpoint_type</th>\n      <th>waterpoint_type_group</th>\n      <th>pop_height</th>\n    </tr>\n  </thead>\n  <tbody>\n    <tr>\n      <th>0</th>\n      <td>0</td>\n      <td>69572</td>\n      <td>functional</td>\n      <td>6000.0</td>\n      <td>Roman</td>\n      <td>1390.0</td>\n      <td>Roman</td>\n      <td>34.938093</td>\n      <td>-9.856322</td>\n      <td>0</td>\n      <td>...</td>\n      <td>soft</td>\n      <td>good</td>\n      <td>enough</td>\n      <td>enough</td>\n      <td>spring</td>\n      <td>spring</td>\n      <td>groundwater</td>\n      <td>communal standpipe</td>\n      <td>communal standpipe</td>\n      <td>NaN</td>\n    </tr>\n    <tr>\n      <th>1</th>\n      <td>1</td>\n      <td>8776</td>\n      <td>functional</td>\n      <td>NaN</td>\n      <td>Grumeti</td>\n      <td>1399.0</td>\n      <td>GRUMETI</td>\n      <td>34.698766</td>\n      <td>-2.147466</td>\n      <td>0</td>\n      <td>...</td>\n      <td>soft</td>\n      <td>good</td>\n      <td>insufficient</td>\n      <td>insufficient</td>\n      <td>rainwater harvesting</td>\n      <td>rainwater harvesting</td>\n      <td>surface</td>\n      <td>communal standpipe</td>\n      <td>communal standpipe</td>\n      <td>NaN</td>\n    </tr>\n    <tr>\n      <th>2</th>\n      <td>2</td>\n      <td>34310</td>\n      <td>functional</td>\n      <td>25.0</td>\n      <td>Lottery Club</td>\n      <td>686.0</td>\n      <td>World vision</td>\n      <td>37.460664</td>\n      <td>-3.821329</td>\n      <td>0</td>\n      <td>...</td>\n      <td>soft</td>\n      <td>good</td>\n      <td>enough</td>\n      <td>enough</td>\n      <td>dam</td>\n      <td>dam</td>\n      <td>surface</td>\n      <td>communal standpipe multiple</td>\n      <td>communal standpipe</td>\n      <td>NaN</td>\n    </tr>\n    <tr>\n      <th>3</th>\n      <td>3</td>\n      <td>67743</td>\n      <td>non functional</td>\n      <td>NaN</td>\n      <td>Unicef</td>\n      <td>263.0</td>\n      <td>UNICEF</td>\n      <td>38.486161</td>\n      <td>-11.155298</td>\n      <td>0</td>\n      <td>...</td>\n      <td>soft</td>\n      <td>good</td>\n      <td>dry</td>\n      <td>dry</td>\n      <td>machine dbh</td>\n      <td>borehole</td>\n      <td>groundwater</td>\n      <td>communal standpipe multiple</td>\n      <td>communal standpipe</td>\n      <td>NaN</td>\n    </tr>\n    <tr>\n      <th>4</th>\n      <td>4</td>\n      <td>19728</td>\n      <td>functional</td>\n      <td>NaN</td>\n      <td>Action In A</td>\n      <td>NaN</td>\n      <td>Artisan</td>\n      <td>31.130847</td>\n      <td>-1.825359</td>\n      <td>0</td>\n      <td>...</td>\n      <td>soft</td>\n      <td>good</td>\n      <td>seasonal</td>\n      <td>seasonal</td>\n      <td>rainwater harvesting</td>\n      <td>rainwater harvesting</td>\n      <td>surface</td>\n      <td>communal standpipe</td>\n      <td>communal standpipe</td>\n      <td>NaN</td>\n    </tr>\n  </tbody>\n</table>\n<p>5 rows × 40 columns</p>\n</div>"
     },
     "execution_count": 3,
     "metadata": {},
     "output_type": "execute_result"
    }
   ],
   "source": [
    "df.head()"
   ]
  },
  {
   "cell_type": "markdown",
   "metadata": {},
   "source": [
    "## To Do:\n",
    "\n",
    "#### String Clean up\n",
    "   \n",
    "#### Construction year to age\n",
    "#### KNNImpute\n",
    "    - population\n",
    "    - gps_height\n",
    "    - amount_tsh¶\n",
    "    \n",
    "#### Bin population\n",
    "\n",
    "#### Mask features based on value count\n",
    "\n"
   ]
  },
  {
   "cell_type": "code",
   "execution_count": 4,
   "metadata": {},
   "outputs": [
    {
     "name": "stderr",
     "output_type": "stream",
     "text": [
      "WARNING:root:Applied processor reduces input query to empty string, all comparisons will have score 0. [Query: '-']\n",
      "WARNING:root:Applied processor reduces input query to empty string, all comparisons will have score 0. [Query: '-']\n",
      "WARNING:root:Applied processor reduces input query to empty string, all comparisons will have score 0. [Query: '-']\n",
      "WARNING:root:Applied processor reduces input query to empty string, all comparisons will have score 0. [Query: '-']\n",
      "WARNING:root:Applied processor reduces input query to empty string, all comparisons will have score 0. [Query: '-']\n",
      "WARNING:root:Applied processor reduces input query to empty string, all comparisons will have score 0. [Query: '-']\n",
      "WARNING:root:Applied processor reduces input query to empty string, all comparisons will have score 0. [Query: '-']\n",
      "WARNING:root:Applied processor reduces input query to empty string, all comparisons will have score 0. [Query: '##']\n",
      "WARNING:root:Applied processor reduces input query to empty string, all comparisons will have score 0. [Query: '##']\n",
      "WARNING:root:Applied processor reduces input query to empty string, all comparisons will have score 0. [Query: '##']\n",
      "WARNING:root:Applied processor reduces input query to empty string, all comparisons will have score 0. [Query: '##']\n",
      "WARNING:root:Applied processor reduces input query to empty string, all comparisons will have score 0. [Query: '##']\n",
      "WARNING:root:Applied processor reduces input query to empty string, all comparisons will have score 0. [Query: '##']\n",
      "WARNING:root:Applied processor reduces input query to empty string, all comparisons will have score 0. [Query: '##']\n"
     ]
    }
   ],
   "source": [
    "# String Clean up \n",
    "\n",
    "columns_ = [\n",
    "    'funder',\n",
    "    'installer',\n",
    "    'scheme_name',\n",
    "    'subvillage',\n",
    "    'ward',\n",
    "    'basin',\n",
    "    'region',\n",
    "    'lga',\n",
    "    'ward',\n",
    "    'scheme_management',\n",
    "    'scheme_name',\n",
    "    'extraction_type',\n",
    "    'extraction_type_group',\n",
    "    'extraction_type_class',\n",
    "    'management',\n",
    "    'management_group',\n",
    "    'payment',\n",
    "    'payment_type',\n",
    "    'water_quality',\n",
    "    'quality_group',\n",
    "    'quantity',\n",
    "    'quantity_group',\n",
    "    'source',\n",
    "    'source_type',\n",
    "    'source_class',\n",
    "    'waterpoint_type',\n",
    "    'waterpoint_type_group'\n",
    "]\n",
    "\n",
    "for col_ in columns_:\n",
    "    df[col_] = df[col_].str.replace(' ', '') \\\n",
    "        .str.lower() \\\n",
    "        .str.replace('(','') \\\n",
    "        .str.replace(')', '') \\\n",
    "        .str.replace('/', '') \\\n",
    "        .str.replace('_', '')\n",
    "    \n",
    "    filter_column_strings(90, df, col_, fuzz.token_sort_ratio, drop=True)"
   ]
  },
  {
   "cell_type": "markdown",
   "source": [
    "#### Construction Year to Age"
   ],
   "metadata": {
    "collapsed": false,
    "pycharm": {
     "name": "#%% md\n"
    }
   }
  },
  {
   "cell_type": "code",
   "execution_count": 5,
   "metadata": {
    "pycharm": {
     "name": "#%%\n"
    }
   },
   "outputs": [],
   "source": [
    "\n",
    "df['construction_year'] = 2022 - df['construction_year']\n",
    "df = df.rename(columns={'construction_year': 'well_age'})"
   ]
  },
  {
   "cell_type": "markdown",
   "source": [
    "#### Mask low value count features"
   ],
   "metadata": {
    "collapsed": false,
    "pycharm": {
     "name": "#%% md\n"
    }
   }
  },
  {
   "cell_type": "code",
   "execution_count": 16,
   "outputs": [
    {
     "name": "stdout",
     "output_type": "stream",
     "text": [
      "funder\n",
      "governmentoftanzania    11299\n",
      "unknown                  4509\n",
      "dagida                   3909\n",
      "hasawa                   2788\n",
      "nrwssp                   1718\n",
      "                        ...  \n",
      "hasneinmuijmbunge           1\n",
      "mamaku                      1\n",
      "stp-sustainabletan          1\n",
      "teamrafiki                  1\n",
      "velem                       1\n",
      "Name: funder, Length: 1943, dtype: int64\n",
      "\n",
      "installer\n",
      "dwe              21787\n",
      "unknown           4537\n",
      "governme          2373\n",
      "hasawa            1770\n",
      "rwe               1498\n",
      "                 ...  \n",
      "deusndege            1\n",
      "billyphillips        1\n",
      "kapelo               1\n",
      "pnrda                1\n",
      "majijacharles        1\n",
      "Name: installer, Length: 1878, dtype: int64\n",
      "\n",
      "basin\n",
      "lakevictoria           12871\n",
      "pangani                11143\n",
      "rufiji                  9987\n",
      "internal                9642\n",
      "laketanganyika          8052\n",
      "wamiruvu                7577\n",
      "lakenyasa               6332\n",
      "ruvumasoutherncoast     5587\n",
      "lakerukwa               3059\n",
      "Name: basin, dtype: int64\n",
      "\n",
      "subvillage\n",
      "shule          730\n",
      "majeng         727\n",
      "maduka         693\n",
      "unknown        470\n",
      "kati           467\n",
      "              ... \n",
      "tewera           1\n",
      "bukini           1\n",
      "mpilu            1\n",
      "mkumemuembe      1\n",
      "kosoro           1\n",
      "Name: subvillage, Length: 17099, dtype: int64\n",
      "\n",
      "region\n",
      "iringa         6599\n",
      "shinyanga      6293\n",
      "mbeya          5758\n",
      "kilimanjaro    5494\n",
      "morogoro       5038\n",
      "kagera         4174\n",
      "arusha         4111\n",
      "mwanza         3897\n",
      "kigoma         3533\n",
      "pwani          3331\n",
      "ruvuma         3306\n",
      "tanga          3186\n",
      "dodoma         2779\n",
      "singida        2536\n",
      "tabora         2466\n",
      "mara           2451\n",
      "rukwa          2242\n",
      "mtwara         2144\n",
      "manyara        1972\n",
      "lindi          1920\n",
      "daressalaam    1020\n",
      "Name: region, dtype: int64\n",
      "\n",
      "lga\n",
      "njombe         3128\n",
      "moshirural     1566\n",
      "arusharural    1521\n",
      "bariadi        1485\n",
      "rungwe         1381\n",
      "               ... \n",
      "songeaurban     103\n",
      "kigomaurban      95\n",
      "arushaurban      82\n",
      "lindiurban       24\n",
      "nyamagana         2\n",
      "Name: lga, Length: 125, dtype: int64\n",
      "\n",
      "ward\n",
      "imalinyi         407\n",
      "igosi            386\n",
      "sihakati         297\n",
      "mdandu           292\n",
      "nduruma          261\n",
      "                ... \n",
      "sungwisi           1\n",
      "linda              1\n",
      "ukata              1\n",
      "uwanjawandege      1\n",
      "mwalugulu          1\n",
      "Name: ward, Length: 2023, dtype: int64\n",
      "\n",
      "public_meeting\n",
      "True       63749\n",
      "False       6346\n",
      "Unknown     4155\n",
      "Name: public_meeting, dtype: int64\n",
      "\n",
      "scheme_management\n",
      "vwc                45917\n",
      "wug                 6496\n",
      "unknown             4846\n",
      "waterauthority      3975\n",
      "wua                 3551\n",
      "waterboard          3462\n",
      "parastatal          2124\n",
      "company             1341\n",
      "privateoperator     1326\n",
      "other                996\n",
      "swc                  123\n",
      "trust                 92\n",
      "none                   1\n",
      "Name: scheme_management, dtype: int64\n",
      "\n",
      "scheme_name\n",
      "unknown                            35258\n",
      "k                                    861\n",
      "none                                 828\n",
      "borehole                             711\n",
      "chalinzewate                         502\n",
      "                                   ...  \n",
      "blkpuchinisisters                      1\n",
      "longido                                1\n",
      "sui                                    1\n",
      "floodwatersustainabilityproject        1\n",
      "blvetenary                             1\n",
      "Name: scheme_name, Length: 2284, dtype: int64\n",
      "\n",
      "permit\n",
      "True       48606\n",
      "False      21851\n",
      "Unknown     3793\n",
      "Name: permit, dtype: int64\n",
      "\n",
      "extraction_type\n",
      "gravity                   33263\n",
      "niratanira                10205\n",
      "other                      8102\n",
      "submersible                5982\n",
      "swn80                      4588\n",
      "mono                       3628\n",
      "indiamarkii                3164\n",
      "afridev                    2208\n",
      "ksb                        1790\n",
      "other-ropepump              572\n",
      "other-swn81                 284\n",
      "windmill                    152\n",
      "cemo                        108\n",
      "other-playpump              101\n",
      "walimi                       60\n",
      "climax                       41\n",
      "other-mkulimashinyanga        2\n",
      "Name: extraction_type, dtype: int64\n",
      "\n",
      "extraction_type_group\n",
      "gravity           33263\n",
      "niratanira        10205\n",
      "other              8102\n",
      "submersible        7772\n",
      "swn80              4588\n",
      "mono               3628\n",
      "indiamarkii        3164\n",
      "afridev            2208\n",
      "ropepump            572\n",
      "otherhandpump       447\n",
      "wind-powered        152\n",
      "othermotorpump      149\n",
      "Name: extraction_type_group, dtype: int64\n",
      "\n",
      "extraction_type_class\n",
      "gravity         33263\n",
      "handpump        20612\n",
      "other            8102\n",
      "submersible      7772\n",
      "motorpump        3777\n",
      "ropepump          572\n",
      "wind-powered      152\n",
      "Name: extraction_type_class, dtype: int64\n",
      "\n",
      "management\n",
      "vwc                50624\n",
      "wug                 8108\n",
      "waterboard          3688\n",
      "wua                 3118\n",
      "privateoperator     2504\n",
      "parastatal          2229\n",
      "waterauthority      1123\n",
      "other               1083\n",
      "company              859\n",
      "unknown              683\n",
      "other-school         126\n",
      "trust                105\n",
      "Name: management, dtype: int64\n",
      "\n",
      "management_group\n",
      "user-group    65538\n",
      "commercial     4591\n",
      "parastatal     2229\n",
      "other          1209\n",
      "unknown         683\n",
      "Name: management_group, dtype: int64\n",
      "\n",
      "payment\n",
      "neverpay              31712\n",
      "payperbucket          11266\n",
      "paymonthly            10397\n",
      "unknown               10149\n",
      "paywhenschemefails     4842\n",
      "payannually            4570\n",
      "other                  1314\n",
      "Name: payment, dtype: int64\n",
      "\n",
      "payment_type\n",
      "neverpay     31712\n",
      "perbucket    11266\n",
      "monthly      10397\n",
      "unknown      10149\n",
      "onfailure     4842\n",
      "annually      4570\n",
      "other         1314\n",
      "Name: payment_type, dtype: int64\n",
      "\n",
      "water_quality\n",
      "soft                 63505\n",
      "salty                 6082\n",
      "unknown               2345\n",
      "milky                 1005\n",
      "coloured               623\n",
      "saltyabandoned         423\n",
      "fluoride               244\n",
      "fluorideabandoned       23\n",
      "Name: water_quality, dtype: int64\n",
      "\n",
      "quality_group\n",
      "good        63505\n",
      "salty        6505\n",
      "unknown      2345\n",
      "milky        1005\n",
      "colored       623\n",
      "fluoride      267\n",
      "Name: quality_group, dtype: int64\n",
      "\n",
      "quantity\n",
      "enough          41522\n",
      "insufficient    18896\n",
      "dry              7782\n",
      "seasonal         5075\n",
      "unknown           975\n",
      "Name: quantity, dtype: int64\n",
      "\n",
      "quantity_group\n",
      "enough          41522\n",
      "insufficient    18896\n",
      "dry              7782\n",
      "seasonal         5075\n",
      "unknown           975\n",
      "Name: quantity_group, dtype: int64\n",
      "\n",
      "source\n",
      "spring                 21216\n",
      "shallowwell            21140\n",
      "machinedbh             13822\n",
      "river                  11964\n",
      "rainwaterharvesting     2863\n",
      "handdtw                 1108\n",
      "lake                     950\n",
      "dam                      840\n",
      "other                    261\n",
      "unknown                   86\n",
      "Name: source, dtype: int64\n",
      "\n",
      "source_type\n",
      "spring                 21216\n",
      "shallowwell            21140\n",
      "borehole               14930\n",
      "riverlake              12914\n",
      "rainwaterharvesting     2863\n",
      "dam                      840\n",
      "other                    347\n",
      "Name: source_type, dtype: int64\n",
      "\n",
      "source_class\n",
      "groundwater    57286\n",
      "surface        16617\n",
      "unknown          347\n",
      "Name: source_class, dtype: int64\n",
      "\n",
      "waterpoint_type\n",
      "communalstandpipe            35628\n",
      "handpump                     21884\n",
      "other                         8010\n",
      "communalstandpipemultiple     7611\n",
      "improvedspring                 959\n",
      "cattletrough                   150\n",
      "dam                              8\n",
      "Name: waterpoint_type, dtype: int64\n",
      "\n",
      "waterpoint_type_group\n",
      "communalstandpipe    43239\n",
      "handpump             21884\n",
      "other                 8010\n",
      "improvedspring         959\n",
      "cattletrough           150\n",
      "dam                      8\n",
      "Name: waterpoint_type_group, dtype: int64\n",
      "\n"
     ]
    }
   ],
   "source": [
    "for col in df.drop('status_group', axis=1).select_dtypes('object').columns.tolist():\n",
    "    print(col)\n",
    "    print(df[col].value_counts())\n",
    "    print()"
   ],
   "metadata": {
    "collapsed": false,
    "pycharm": {
     "name": "#%%\n"
    }
   }
  },
  {
   "cell_type": "code",
   "execution_count": 20,
   "outputs": [],
   "source": [
    "scheme_mgmt_idx = np.array(np.where(df['scheme_management'] == 'none')).tolist()[0]\n",
    "\n",
    "df.loc[scheme_mgmt_idx, 'scheme_management'] = 'other'"
   ],
   "metadata": {
    "collapsed": false,
    "pycharm": {
     "name": "#%%\n"
    }
   }
  },
  {
   "cell_type": "code",
   "execution_count": 21,
   "outputs": [],
   "source": [
    "masked_cols = ['funder', 'installer', 'subvillage', 'ward', 'scheme_name']\n",
    "\n",
    "for col in masked_cols:\n",
    "    mask_ = df[col].map(df[col].value_counts()) == 1\n",
    "    df[col] = df[col].mask(mask_, 'other')"
   ],
   "metadata": {
    "collapsed": false,
    "pycharm": {
     "name": "#%%\n"
    }
   }
  },
  {
   "cell_type": "code",
   "execution_count": 22,
   "outputs": [],
   "source": [
    "df.to_csv('data/cleaned_data.csv')"
   ],
   "metadata": {
    "collapsed": false,
    "pycharm": {
     "name": "#%%\n"
    }
   }
  },
  {
   "cell_type": "code",
   "execution_count": 42,
   "outputs": [
    {
     "name": "stderr",
     "output_type": "stream",
     "text": [
      "/tmp/ipykernel_123433/3976309765.py:1: DtypeWarning: Columns (3) have mixed types. Specify dtype option on import or set low_memory=False.\n",
      "  df = pd.read_csv('data/cleaned_data.csv')\n"
     ]
    }
   ],
   "source": [
    "df = pd.read_csv('data/cleaned_data.csv')"
   ],
   "metadata": {
    "collapsed": false,
    "pycharm": {
     "name": "#%%\n"
    }
   }
  },
  {
   "cell_type": "code",
   "execution_count": 43,
   "metadata": {
    "pycharm": {
     "name": "#%%\n"
    }
   },
   "outputs": [],
   "source": [
    "test_df = df[~df.status_group.notna()].copy()\n",
    "test_df.drop('status_group', axis=1, inplace=True)\n",
    "df = df[df.status_group.notna()].copy()"
   ]
  },
  {
   "cell_type": "code",
   "execution_count": 44,
   "outputs": [],
   "source": [
    "df.drop('pop_height', axis=1, inplace=True)\n",
    "pop_idx = np.array(np.where((df['population'] <= 0) | (df['population'] == 1))).tolist()[0]\n",
    "df.loc[pop_idx, ['population']] = np.nan"
   ],
   "metadata": {
    "collapsed": false,
    "pycharm": {
     "name": "#%%\n"
    }
   }
  },
  {
   "cell_type": "markdown",
   "source": [
    "#### KNN Imputation"
   ],
   "metadata": {
    "collapsed": false,
    "pycharm": {
     "name": "#%% md\n"
    }
   }
  },
  {
   "cell_type": "code",
   "execution_count": 45,
   "metadata": {},
   "outputs": [
    {
     "data": {
      "text/plain": "(       Unnamed: 0  index     id    status_group   amount_tsh          funder  \\\n 0               0      0  69572      functional  6000.000000           roman   \n 1               1      1   8776      functional   537.928686         grumeti   \n 2               2      2  34310      functional    25.000000     lotteryclub   \n 3               3      3  67743  non functional   785.979453           unice   \n 4               4      4  19728      functional   787.013381           other   \n ...           ...    ...    ...             ...          ...             ...   \n 59395       59395  59395  60739      functional    10.000000  germanyrepubli   \n 59396       59396  59396  27263      functional  4700.000000     cefa-njombe   \n 59397       59397  59397  37057      functional  1200.000000         unknown   \n 59398       59398  59398  31282      functional    31.783604           malec   \n 59399       59399  59399  26348      functional    20.000000       worldbank   \n \n         gps_height    installer  longitude   latitude  ...  payment_type  \\\n 0      1390.000000        roman  34.938093  -9.856322  ...      annually   \n 1      1399.000000     grumenti  34.698766  -2.147466  ...      neverpay   \n 2       686.000000  worddivisio  37.460664  -3.821329  ...     perbucket   \n 3       263.000000        uncef  38.486161 -11.155298  ...      neverpay   \n 4      1379.218302       arisan  31.130847  -1.825359  ...      neverpay   \n ...            ...          ...        ...        ...  ...           ...   \n 59395  1210.000000          ces  37.169807  -3.253847  ...     perbucket   \n 59396  1212.000000         cefa  35.249991  -9.070629  ...      annually   \n 59397  1515.493874      unknown  34.017087  -8.750434  ...       monthly   \n 59398   831.921765         musa  35.861315  -6.378573  ...      neverpay   \n 59399   191.000000        world  38.104048  -6.747464  ...     onfailure   \n \n       water_quality quality_group      quantity  quantity_group  \\\n 0              soft          good        enough          enough   \n 1              soft          good  insufficient    insufficient   \n 2              soft          good        enough          enough   \n 3              soft          good           dry             dry   \n 4              soft          good      seasonal        seasonal   \n ...             ...           ...           ...             ...   \n 59395          soft          good        enough          enough   \n 59396          soft          good        enough          enough   \n 59397      fluoride      fluoride        enough          enough   \n 59398          soft          good  insufficient    insufficient   \n 59399         salty         salty        enough          enough   \n \n                     source          source_type source_class  \\\n 0                   spring               spring  groundwater   \n 1      rainwaterharvesting  rainwaterharvesting      surface   \n 2                      dam                  dam      surface   \n 3               machinedbh             borehole  groundwater   \n 4      rainwaterharvesting  rainwaterharvesting      surface   \n ...                    ...                  ...          ...   \n 59395               spring               spring  groundwater   \n 59396                river            riverlake      surface   \n 59397           machinedbh             borehole  groundwater   \n 59398          shallowwell          shallowwell  groundwater   \n 59399          shallowwell          shallowwell  groundwater   \n \n                  waterpoint_type waterpoint_type_group  \n 0              communalstandpipe     communalstandpipe  \n 1              communalstandpipe     communalstandpipe  \n 2      communalstandpipemultiple     communalstandpipe  \n 3      communalstandpipemultiple     communalstandpipe  \n 4              communalstandpipe     communalstandpipe  \n ...                          ...                   ...  \n 59395          communalstandpipe     communalstandpipe  \n 59396          communalstandpipe     communalstandpipe  \n 59397                   handpump              handpump  \n 59398                   handpump              handpump  \n 59399                   handpump              handpump  \n \n [59400 rows x 40 columns],\n        Unnamed: 0  index     id  amount_tsh                funder  gps_height  \\\n 59400       59400      0  50785         NaN                  dmdd         NaN   \n 59401       59401      1  51630         NaN  governmentoftanzania         NaN   \n 59402       59402      2  17168         NaN               unknown         NaN   \n 59403       59403      3  45559         NaN             finnwater         NaN   \n 59404       59404      4  49871         NaN                bruder         NaN   \n ...           ...    ...    ...         ...                   ...         ...   \n 74245       74245  14845  39307         NaN                dagida         NaN   \n 74246       74246  14846  18990         NaN                  hiap         NaN   \n 74247       74247  14847  28749         NaN               unknown         NaN   \n 74248       74248  14848  33492         NaN               germany         NaN   \n 74249       74249  14849  68707         NaN  governmentoftanzania         NaN   \n \n        installer  longitude   latitude  num_private  ... water_quality  \\\n 59400       dmdd  35.290799  -4.059696            0  ...          soft   \n 59401        dwe  36.656709  -3.309214            0  ...          soft   \n 59402    unknown  34.767863  -5.004344            0  ...          soft   \n 59403  finnwater  38.058046  -9.418672            0  ...          soft   \n 59404     bruder  35.006123 -10.950412            0  ...          soft   \n ...          ...        ...        ...          ...  ...           ...   \n 74245         da  38.852669  -6.582841            0  ...          soft   \n 74246       hiap  37.451633  -5.350428            0  ...         salty   \n 74247    unknown  34.739804  -4.585587            0  ...          soft   \n 74248        dwe  35.432732 -10.584159            0  ...          soft   \n 74249   governme  34.765054 -11.226012            0  ...          soft   \n \n       quality_group      quantity  quantity_group               source  \\\n 59400          good      seasonal        seasonal  rainwaterharvesting   \n 59401          good  insufficient    insufficient               spring   \n 59402          good  insufficient    insufficient  rainwaterharvesting   \n 59403          good           dry             dry          shallowwell   \n 59404          good        enough          enough               spring   \n ...             ...           ...             ...                  ...   \n 74245          good        enough          enough                river   \n 74246         salty  insufficient    insufficient          shallowwell   \n 74247          good  insufficient    insufficient                  dam   \n 74248          good  insufficient    insufficient                river   \n 74249          good           dry             dry               spring   \n \n                source_type source_class    waterpoint_type  \\\n 59400  rainwaterharvesting      surface              other   \n 59401               spring  groundwater  communalstandpipe   \n 59402  rainwaterharvesting      surface              other   \n 59403          shallowwell  groundwater              other   \n 59404               spring  groundwater  communalstandpipe   \n ...                    ...          ...                ...   \n 74245            riverlake      surface  communalstandpipe   \n 74246          shallowwell  groundwater           handpump   \n 74247                  dam      surface  communalstandpipe   \n 74248            riverlake      surface  communalstandpipe   \n 74249               spring  groundwater  communalstandpipe   \n \n       waterpoint_type_group pop_height  \n 59400                 other        NaN  \n 59401     communalstandpipe        NaN  \n 59402                 other        NaN  \n 59403                 other        NaN  \n 59404     communalstandpipe        NaN  \n ...                     ...        ...  \n 74245     communalstandpipe        NaN  \n 74246              handpump        NaN  \n 74247     communalstandpipe        NaN  \n 74248     communalstandpipe        NaN  \n 74249     communalstandpipe        NaN  \n \n [14850 rows x 40 columns])"
     },
     "execution_count": 45,
     "metadata": {},
     "output_type": "execute_result"
    }
   ],
   "source": [
    "knn_impute(df, test_df, 'population', [0,1], 66)\n",
    "knn_impute(df, test_df, 'gps_height', 0, 66)\n",
    "knn_impute(df, test_df, 'amount_tsh', 0, 5)"
   ]
  },
  {
   "cell_type": "code",
   "execution_count": 7,
   "outputs": [],
   "source": [
    "# test_df.to_csv('data/test_set_imputed.txt')\n",
    "# df.to_csv('data/df_imputed.txt')\n",
    "\n",
    "df = pd.read_csv('data/df_imputed.txt', index_col=[0])\n",
    "test_df = pd.read_csv('data/test_set_imputed.txt', index_col=[0])"
   ],
   "metadata": {
    "collapsed": false,
    "pycharm": {
     "name": "#%%\n"
    }
   }
  },
  {
   "cell_type": "markdown",
   "source": [
    "#### Feature engineer percentage based on functionality"
   ],
   "metadata": {
    "collapsed": false,
    "pycharm": {
     "name": "#%% md\n"
    }
   }
  },
  {
   "cell_type": "code",
   "execution_count": 8,
   "outputs": [],
   "source": [
    "df[['region_code', 'district_code']] = df[['region_code', 'district_code']].astype('object')"
   ],
   "metadata": {
    "collapsed": false,
    "pycharm": {
     "name": "#%%\n"
    }
   }
  },
  {
   "cell_type": "code",
   "execution_count": 9,
   "metadata": {
    "pycharm": {
     "name": "#%%\n"
    }
   },
   "outputs": [],
   "source": [
    "columns = df.drop('status_group', axis=1).select_dtypes('object').columns.tolist()\n",
    "for col_ in columns:\n",
    "    if col_ != 'status_group':\n",
    "        df, test_df = cat_label_pct(df, test_df, col_)\n",
    "        df.drop(col_, axis=1, inplace=True)\n",
    "        test_df.drop(col_, axis=1, inplace=True)"
   ]
  },
  {
   "cell_type": "code",
   "execution_count": 10,
   "metadata": {},
   "outputs": [],
   "source": [
    "test_df.fillna(0.0, inplace=True)\n",
    "df.fillna(0.0, inplace=True)"
   ]
  },
  {
   "cell_type": "code",
   "execution_count": 13,
   "outputs": [
    {
     "data": {
      "text/plain": "True    14850\nName: id, dtype: int64"
     },
     "execution_count": 13,
     "metadata": {},
     "output_type": "execute_result"
    }
   ],
   "source": [
    "# Verifying ID's are identical in the test dataset and nan values\n",
    "og_test_df = pd.read_csv('data/Test_set.csv')\n",
    "pd.DataFrame(og_test_df['id'] == test_df['id'])['id'].value_counts()"
   ],
   "metadata": {
    "collapsed": false,
    "pycharm": {
     "name": "#%%\n"
    }
   }
  },
  {
   "cell_type": "code",
   "execution_count": 14,
   "metadata": {
    "pycharm": {
     "name": "#%%\n"
    }
   },
   "outputs": [],
   "source": [
    "test_df.to_csv('data/ml_testing.txt')\n",
    "df.to_csv('data/ml_training.txt')"
   ]
  }
 ],
 "metadata": {
  "kernelspec": {
   "display_name": "Python 3 (ipykernel)",
   "language": "python",
   "name": "python3"
  },
  "language_info": {
   "codemirror_mode": {
    "name": "ipython",
    "version": 3
   },
   "file_extension": ".py",
   "mimetype": "text/x-python",
   "name": "python",
   "nbconvert_exporter": "python",
   "pygments_lexer": "ipython3",
   "version": "3.8.0"
  }
 },
 "nbformat": 4,
 "nbformat_minor": 4
}