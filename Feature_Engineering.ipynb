{
 "cells": [
  {
   "cell_type": "code",
   "execution_count": 50,
   "metadata": {
    "pycharm": {
     "name": "#%%\n"
    },
    "tags": []
   },
   "outputs": [],
   "source": [
    "#### To start we will import all of our needed libraries and dive into our datasets.\n",
    "import warnings\n",
    "warnings.simplefilter(action='ignore', category=FutureWarning)\n",
    "\n",
    "import pandas as pd\n",
    "import numpy as np\n",
    "from fuzzywuzzy import fuzz\n",
    "from fuzzywuzzy import process\n",
    "from sklearn.impute import KNNImputer\n",
    "\n",
    "from py_files.feature_engineering import filter_column_strings, knn_impute, cat_label_pct\n"
   ]
  },
  {
   "cell_type": "code",
   "execution_count": 51,
   "metadata": {
    "pycharm": {
     "name": "#%%\n"
    }
   },
   "outputs": [
    {
     "name": "stderr",
     "output_type": "stream",
     "text": [
      "/tmp/ipykernel_447730/2834474839.py:1: DtypeWarning: Columns (3) have mixed types. Specify dtype option on import or set low_memory=False.\n",
      "  df = pd.read_csv('data/post_eda_data.csv')\n"
     ]
    }
   ],
   "source": [
    "df = pd.read_csv('data/post_eda_data.csv')\n",
    "df.drop(['Unnamed: 0', 'index'], axis=1, inplace=True)"
   ]
  },
  {
   "cell_type": "code",
   "execution_count": 52,
   "metadata": {},
   "outputs": [
    {
     "data": {
      "text/plain": "      id    status_group  amount_tsh        funder  gps_height     installer  \\\n0  69572      functional      6000.0         Roman      1390.0         Roman   \n1   8776      functional         NaN       Grumeti      1399.0       GRUMETI   \n2  34310      functional        25.0  Lottery Club       686.0  World vision   \n3  67743  non functional         NaN        Unicef       263.0        UNICEF   \n4  19728      functional         NaN   Action In A         NaN       Artisan   \n\n   longitude   latitude  num_private                    basin  ...  \\\n0  34.938093  -9.856322            0               Lake Nyasa  ...   \n1  34.698766  -2.147466            0            Lake Victoria  ...   \n2  37.460664  -3.821329            0                  Pangani  ...   \n3  38.486161 -11.155298            0  Ruvuma / Southern Coast  ...   \n4  31.130847  -1.825359            0            Lake Victoria  ...   \n\n  payment_type water_quality  quality_group      quantity quantity_group  \\\n0     annually          soft           good        enough         enough   \n1    never pay          soft           good  insufficient   insufficient   \n2   per bucket          soft           good        enough         enough   \n3    never pay          soft           good           dry            dry   \n4    never pay          soft           good      seasonal       seasonal   \n\n                 source           source_type source_class  \\\n0                spring                spring  groundwater   \n1  rainwater harvesting  rainwater harvesting      surface   \n2                   dam                   dam      surface   \n3           machine dbh              borehole  groundwater   \n4  rainwater harvesting  rainwater harvesting      surface   \n\n               waterpoint_type waterpoint_type_group  \n0           communal standpipe    communal standpipe  \n1           communal standpipe    communal standpipe  \n2  communal standpipe multiple    communal standpipe  \n3  communal standpipe multiple    communal standpipe  \n4           communal standpipe    communal standpipe  \n\n[5 rows x 38 columns]",
      "text/html": "<div>\n<style scoped>\n    .dataframe tbody tr th:only-of-type {\n        vertical-align: middle;\n    }\n\n    .dataframe tbody tr th {\n        vertical-align: top;\n    }\n\n    .dataframe thead th {\n        text-align: right;\n    }\n</style>\n<table border=\"1\" class=\"dataframe\">\n  <thead>\n    <tr style=\"text-align: right;\">\n      <th></th>\n      <th>id</th>\n      <th>status_group</th>\n      <th>amount_tsh</th>\n      <th>funder</th>\n      <th>gps_height</th>\n      <th>installer</th>\n      <th>longitude</th>\n      <th>latitude</th>\n      <th>num_private</th>\n      <th>basin</th>\n      <th>...</th>\n      <th>payment_type</th>\n      <th>water_quality</th>\n      <th>quality_group</th>\n      <th>quantity</th>\n      <th>quantity_group</th>\n      <th>source</th>\n      <th>source_type</th>\n      <th>source_class</th>\n      <th>waterpoint_type</th>\n      <th>waterpoint_type_group</th>\n    </tr>\n  </thead>\n  <tbody>\n    <tr>\n      <th>0</th>\n      <td>69572</td>\n      <td>functional</td>\n      <td>6000.0</td>\n      <td>Roman</td>\n      <td>1390.0</td>\n      <td>Roman</td>\n      <td>34.938093</td>\n      <td>-9.856322</td>\n      <td>0</td>\n      <td>Lake Nyasa</td>\n      <td>...</td>\n      <td>annually</td>\n      <td>soft</td>\n      <td>good</td>\n      <td>enough</td>\n      <td>enough</td>\n      <td>spring</td>\n      <td>spring</td>\n      <td>groundwater</td>\n      <td>communal standpipe</td>\n      <td>communal standpipe</td>\n    </tr>\n    <tr>\n      <th>1</th>\n      <td>8776</td>\n      <td>functional</td>\n      <td>NaN</td>\n      <td>Grumeti</td>\n      <td>1399.0</td>\n      <td>GRUMETI</td>\n      <td>34.698766</td>\n      <td>-2.147466</td>\n      <td>0</td>\n      <td>Lake Victoria</td>\n      <td>...</td>\n      <td>never pay</td>\n      <td>soft</td>\n      <td>good</td>\n      <td>insufficient</td>\n      <td>insufficient</td>\n      <td>rainwater harvesting</td>\n      <td>rainwater harvesting</td>\n      <td>surface</td>\n      <td>communal standpipe</td>\n      <td>communal standpipe</td>\n    </tr>\n    <tr>\n      <th>2</th>\n      <td>34310</td>\n      <td>functional</td>\n      <td>25.0</td>\n      <td>Lottery Club</td>\n      <td>686.0</td>\n      <td>World vision</td>\n      <td>37.460664</td>\n      <td>-3.821329</td>\n      <td>0</td>\n      <td>Pangani</td>\n      <td>...</td>\n      <td>per bucket</td>\n      <td>soft</td>\n      <td>good</td>\n      <td>enough</td>\n      <td>enough</td>\n      <td>dam</td>\n      <td>dam</td>\n      <td>surface</td>\n      <td>communal standpipe multiple</td>\n      <td>communal standpipe</td>\n    </tr>\n    <tr>\n      <th>3</th>\n      <td>67743</td>\n      <td>non functional</td>\n      <td>NaN</td>\n      <td>Unicef</td>\n      <td>263.0</td>\n      <td>UNICEF</td>\n      <td>38.486161</td>\n      <td>-11.155298</td>\n      <td>0</td>\n      <td>Ruvuma / Southern Coast</td>\n      <td>...</td>\n      <td>never pay</td>\n      <td>soft</td>\n      <td>good</td>\n      <td>dry</td>\n      <td>dry</td>\n      <td>machine dbh</td>\n      <td>borehole</td>\n      <td>groundwater</td>\n      <td>communal standpipe multiple</td>\n      <td>communal standpipe</td>\n    </tr>\n    <tr>\n      <th>4</th>\n      <td>19728</td>\n      <td>functional</td>\n      <td>NaN</td>\n      <td>Action In A</td>\n      <td>NaN</td>\n      <td>Artisan</td>\n      <td>31.130847</td>\n      <td>-1.825359</td>\n      <td>0</td>\n      <td>Lake Victoria</td>\n      <td>...</td>\n      <td>never pay</td>\n      <td>soft</td>\n      <td>good</td>\n      <td>seasonal</td>\n      <td>seasonal</td>\n      <td>rainwater harvesting</td>\n      <td>rainwater harvesting</td>\n      <td>surface</td>\n      <td>communal standpipe</td>\n      <td>communal standpipe</td>\n    </tr>\n  </tbody>\n</table>\n<p>5 rows × 38 columns</p>\n</div>"
     },
     "execution_count": 52,
     "metadata": {},
     "output_type": "execute_result"
    }
   ],
   "source": [
    "df.head()"
   ]
  },
  {
   "cell_type": "markdown",
   "metadata": {},
   "source": [
    "## To Do:\n",
    "\n",
    "#### String Clean up\n",
    "   \n",
    "#### Construction year to age\n",
    "#### KNNImpute\n",
    "    - population\n",
    "    - gps_height\n",
    "    - amount_tsh¶\n",
    "    \n",
    "#### Bin population\n",
    "\n",
    "#### Mask features based on value count\n",
    "\n"
   ]
  },
  {
   "cell_type": "code",
   "execution_count": 54,
   "metadata": {},
   "outputs": [
    {
     "name": "stderr",
     "output_type": "stream",
     "text": [
      "WARNING:root:Applied processor reduces input query to empty string, all comparisons will have score 0. [Query: '##']\n",
      "WARNING:root:Applied processor reduces input query to empty string, all comparisons will have score 0. [Query: '##']\n",
      "WARNING:root:Applied processor reduces input query to empty string, all comparisons will have score 0. [Query: '##']\n",
      "WARNING:root:Applied processor reduces input query to empty string, all comparisons will have score 0. [Query: '##']\n",
      "WARNING:root:Applied processor reduces input query to empty string, all comparisons will have score 0. [Query: '##']\n",
      "WARNING:root:Applied processor reduces input query to empty string, all comparisons will have score 0. [Query: '##']\n",
      "WARNING:root:Applied processor reduces input query to empty string, all comparisons will have score 0. [Query: '##']\n"
     ]
    }
   ],
   "source": [
    "# String Clean up \n",
    "\n",
    "columns_ = [\n",
    "    'funder',\n",
    "    'installer',\n",
    "    'scheme_name',\n",
    "    'subvillage',\n",
    "    'ward',\n",
    "    'basin',\n",
    "    'region',\n",
    "    'lga',\n",
    "    'ward',\n",
    "    'scheme_management',\n",
    "    'scheme_name',\n",
    "    'extraction_type',\n",
    "    'extraction_type_group',\n",
    "    'extraction_type_class',\n",
    "    'management',\n",
    "    'management_group',\n",
    "    'payment',\n",
    "    'payment_type',\n",
    "    'water_quality',\n",
    "    'quality_group',\n",
    "    'quantity',\n",
    "    'quantity_group',\n",
    "    'source',\n",
    "    'source_type',\n",
    "    'source_class',\n",
    "    'waterpoint_type',\n",
    "    'waterpoint_type_group'\n",
    "]\n",
    "\n",
    "for col_ in columns_:\n",
    "    df[col_] = df[col_].str.replace(' ', '') \\\n",
    "        .str.lower() \\\n",
    "        .str.replace('(','') \\\n",
    "        .str.replace(')', '') \\\n",
    "        .str.replace('/', '') \\\n",
    "        .str.replace('_', '')\n",
    "    \n",
    "    filter_column_strings(90, df, col_, fuzz.token_sort_ratio, drop=True)"
   ]
  },
  {
   "cell_type": "markdown",
   "source": [
    "#### Mask low value count features"
   ],
   "metadata": {
    "collapsed": false,
    "pycharm": {
     "name": "#%% md\n"
    }
   }
  },
  {
   "cell_type": "code",
   "execution_count": 61,
   "outputs": [],
   "source": [
    "scheme_mgmt_idx = np.array(np.where(df['scheme_management'] == 'none')).tolist()[0]\n",
    "\n",
    "df.loc[scheme_mgmt_idx, 'scheme_management'] = 'other'\n",
    "\n",
    "masked_cols = ['funder', 'installer', 'subvillage', 'ward', 'scheme_name']\n",
    "\n",
    "for col in masked_cols:\n",
    "    mask_ = df[col].map(df[col].value_counts()) == 1\n",
    "    df[col] = df[col].mask(mask_, 'other')"
   ],
   "metadata": {
    "collapsed": false,
    "pycharm": {
     "name": "#%%\n"
    }
   }
  },
  {
   "cell_type": "markdown",
   "source": [
    "#### Construction Year to Age"
   ],
   "metadata": {
    "collapsed": false,
    "pycharm": {
     "name": "#%% md\n"
    }
   }
  },
  {
   "cell_type": "code",
   "execution_count": 67,
   "outputs": [
    {
     "data": {
      "text/plain": "2000.0"
     },
     "execution_count": 67,
     "metadata": {},
     "output_type": "execute_result"
    }
   ],
   "source": [
    "df[df.construction_year != 0.0]['construction_year'].median()"
   ],
   "metadata": {
    "collapsed": false,
    "pycharm": {
     "name": "#%%\n"
    }
   }
  },
  {
   "cell_type": "code",
   "execution_count": 69,
   "outputs": [],
   "source": [
    "df.construction_year = df.construction_year.replace(0.0, 2000)"
   ],
   "metadata": {
    "collapsed": false,
    "pycharm": {
     "name": "#%%\n"
    }
   }
  },
  {
   "cell_type": "code",
   "execution_count": 71,
   "metadata": {
    "pycharm": {
     "name": "#%%\n"
    }
   },
   "outputs": [],
   "source": [
    "df['construction_year'] = 2022 - df['construction_year']\n",
    "df = df.rename(columns={'construction_year': 'well_age'})"
   ]
  },
  {
   "cell_type": "markdown",
   "source": [
    "#### Mask low value count features"
   ],
   "metadata": {
    "collapsed": false,
    "pycharm": {
     "name": "#%% md\n"
    }
   }
  },
  {
   "cell_type": "code",
   "execution_count": 72,
   "outputs": [],
   "source": [
    "df.to_csv('data/cleaned_data.csv')"
   ],
   "metadata": {
    "collapsed": false,
    "pycharm": {
     "name": "#%%\n"
    }
   }
  },
  {
   "cell_type": "code",
   "execution_count": 73,
   "outputs": [
    {
     "name": "stderr",
     "output_type": "stream",
     "text": [
      "/tmp/ipykernel_447730/3976309765.py:1: DtypeWarning: Columns (2) have mixed types. Specify dtype option on import or set low_memory=False.\n",
      "  df = pd.read_csv('data/cleaned_data.csv')\n"
     ]
    }
   ],
   "source": [
    "df = pd.read_csv('data/cleaned_data.csv')"
   ],
   "metadata": {
    "collapsed": false,
    "pycharm": {
     "name": "#%%\n"
    }
   }
  },
  {
   "cell_type": "code",
   "execution_count": 74,
   "metadata": {
    "pycharm": {
     "name": "#%%\n"
    }
   },
   "outputs": [],
   "source": [
    "test_df = df[~df.status_group.notna()].copy()\n",
    "test_df.drop('status_group', axis=1, inplace=True)\n",
    "df = df[df.status_group.notna()].copy()"
   ]
  },
  {
   "cell_type": "markdown",
   "source": [
    "#### KNN Imputation"
   ],
   "metadata": {
    "collapsed": false,
    "pycharm": {
     "name": "#%% md\n"
    }
   }
  },
  {
   "cell_type": "code",
   "execution_count": null,
   "metadata": {
    "pycharm": {
     "is_executing": true
    }
   },
   "outputs": [],
   "source": [
    "knn_impute(df, test_df, 'population', [0,1], 66)\n",
    "knn_impute(df, test_df, 'gps_height', 0, 66)\n",
    "knn_impute(df, test_df, 'amount_tsh', 0, 5)"
   ]
  },
  {
   "cell_type": "code",
   "execution_count": 47,
   "outputs": [],
   "source": [
    "test_df.to_csv('data/test_set_imputed.txt')\n",
    "df.to_csv('data/df_imputed.txt')\n",
    "\n",
    "df = pd.read_csv('data/df_imputed.txt', index_col=[0])\n",
    "test_df = pd.read_csv('data/test_set_imputed.txt', index_col=[0])"
   ],
   "metadata": {
    "collapsed": false,
    "pycharm": {
     "name": "#%%\n"
    }
   }
  },
  {
   "cell_type": "code",
   "execution_count": 49,
   "outputs": [
    {
     "data": {
      "text/plain": "governmentoftanzania    9084\nunknown                 3639\ndagida                  3116\nhasawa                  2205\nnrwssp                  1387\n                        ... \nkwik                       2\nzaben                      2\nsnv-swash                  2\nafricanbarrickgold         2\npadri                      2\nName: funder, Length: 867, dtype: int64"
     },
     "execution_count": 49,
     "metadata": {},
     "output_type": "execute_result"
    }
   ],
   "source": [
    "df.funder.value_counts()"
   ],
   "metadata": {
    "collapsed": false,
    "pycharm": {
     "name": "#%%\n"
    }
   }
  },
  {
   "cell_type": "markdown",
   "source": [
    "#### Feature engineer percentage based on functionality"
   ],
   "metadata": {
    "collapsed": false,
    "pycharm": {
     "name": "#%% md\n"
    }
   }
  },
  {
   "cell_type": "code",
   "execution_count": 41,
   "outputs": [],
   "source": [
    "df[['region_code', 'district_code']] = df[['region_code', 'district_code']].astype('object')"
   ],
   "metadata": {
    "collapsed": false,
    "pycharm": {
     "name": "#%%\n"
    }
   }
  },
  {
   "cell_type": "code",
   "execution_count": 42,
   "metadata": {
    "pycharm": {
     "name": "#%%\n"
    }
   },
   "outputs": [],
   "source": [
    "columns = df.drop('status_group', axis=1).select_dtypes('object').columns.tolist()\n",
    "for col_ in columns:\n",
    "    if col_ != 'status_group':\n",
    "        df, test_df = cat_label_pct(df, test_df, col_)\n",
    "        df.drop(col_, axis=1, inplace=True)\n",
    "        test_df.drop(col_, axis=1, inplace=True)"
   ]
  },
  {
   "cell_type": "code",
   "execution_count": 43,
   "metadata": {},
   "outputs": [],
   "source": [
    "test_df.fillna(0.0, inplace=True)\n",
    "df.fillna(0.0, inplace=True)"
   ]
  },
  {
   "cell_type": "code",
   "execution_count": 44,
   "outputs": [
    {
     "data": {
      "text/plain": "True    14850\nName: id, dtype: int64"
     },
     "execution_count": 44,
     "metadata": {},
     "output_type": "execute_result"
    }
   ],
   "source": [
    "# Verifying ID's are identical in the test dataset and nan values\n",
    "og_test_df = pd.read_csv('data/Test_set.csv')\n",
    "pd.DataFrame(og_test_df['id'] == test_df['id'])['id'].value_counts()"
   ],
   "metadata": {
    "collapsed": false,
    "pycharm": {
     "name": "#%%\n"
    }
   }
  },
  {
   "cell_type": "code",
   "execution_count": 45,
   "metadata": {
    "pycharm": {
     "name": "#%%\n"
    }
   },
   "outputs": [],
   "source": [
    "test_df.to_csv('data/ml_testing.txt')\n",
    "df.to_csv('data/ml_training.txt')"
   ]
  },
  {
   "cell_type": "code",
   "execution_count": null,
   "outputs": [],
   "source": [],
   "metadata": {
    "collapsed": false,
    "pycharm": {
     "name": "#%%\n"
    }
   }
  }
 ],
 "metadata": {
  "kernelspec": {
   "display_name": "Python 3 (ipykernel)",
   "language": "python",
   "name": "python3"
  },
  "language_info": {
   "codemirror_mode": {
    "name": "ipython",
    "version": 3
   },
   "file_extension": ".py",
   "mimetype": "text/x-python",
   "name": "python",
   "nbconvert_exporter": "python",
   "pygments_lexer": "ipython3",
   "version": "3.8.0"
  }
 },
 "nbformat": 4,
 "nbformat_minor": 4
}