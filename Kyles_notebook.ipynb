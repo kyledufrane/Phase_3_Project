{
 "cells": [
  {
   "cell_type": "markdown",
   "metadata": {},
   "source": [
    "# Phase III Project Technical Notebook"
   ]
  },
  {
   "cell_type": "markdown",
   "metadata": {},
   "source": [
    "#### Authors: Kyle Dufrane and Brad Horn"
   ]
  },
  {
   "cell_type": "code",
   "execution_count": 133,
   "metadata": {},
   "outputs": [],
   "source": [
    "# Import needed libraries\n",
    "\n",
    "import matplotlib.pyplot as plt\n",
    "import seaborn as sns\n",
    "import numpy as np\n",
    "import pickle\n",
    "import pandas as pd\n",
    "from yellowbrick.classifier import ROCAUC\n",
    "\n",
    "from sklearn.model_selection import train_test_split, GridSearchCV, StratifiedKFold, cross_val_score\n",
    "from sklearn.tree import DecisionTreeClassifier\n",
    "from sklearn.ensemble import RandomForestClassifier, GradientBoostingClassifier\n",
    "from sklearn.preprocessing import OneHotEncoder, OrdinalEncoder, LabelEncoder, StandardScaler\n",
    "from sklearn.impute import SimpleImputer\n",
    "from sklearn.feature_selection import SelectKBest, chi2\n",
    "from sklearn.compose import ColumnTransformer\n",
    "from sklearn.pipeline import Pipeline\n",
    "from sklearn.linear_model import LogisticRegression\n",
    "from sklearn.svm import SVC\n",
    "from sklearn.neighbors import KNeighborsClassifier\n",
    "from sklearn.metrics import accuracy_score, recall_score, precision_score, f1_score, roc_auc_score, roc_curve, confusion_matrix, plot_confusion_matrix\n",
    "\n",
    "pd.set_option('display.max_columns', 999)"
   ]
  },
  {
   "cell_type": "markdown",
   "metadata": {},
   "source": [
    "### Business Understanding"
   ]
  },
  {
   "cell_type": "markdown",
   "metadata": {},
   "source": [
    "#### Flatiron LLC has recently been awarded a contract to maintain wells in Tanzania. They're looking for a system to help develop preventative maintenance schedules by predicting pump failures and replacement schedules to better serve their client."
   ]
  },
  {
   "cell_type": "markdown",
   "metadata": {},
   "source": [
    "### Overview"
   ]
  },
  {
   "cell_type": "markdown",
   "metadata": {},
   "source": [
    "#### Given the business problem we hope to identify the following features through our EDA:\n",
    "* Are wells failing by geographic location?\n",
    "* Does well type or source effect pump longevity? \n",
    "* Does well management or payment effect pump longevity?"
   ]
  },
  {
   "cell_type": "markdown",
   "metadata": {},
   "source": [
    "### Data Understanding"
   ]
  },
  {
   "cell_type": "markdown",
   "metadata": {},
   "source": [
    "#### This dataset comes from the Government of Tanzania and contains over ~59,000 wells with the earliest recorded construction year being 1966. Below you will see our data cleaning process.\n",
    "\n",
    "#### This dataset comes in three files, test_set, training_set_labels, and training_set_values. We will exclude the test set until the final model has been completed then predict and submit our findings. \n",
    "\n",
    "#### To start we will look at the training_set_labels:"
   ]
  },
  {
   "cell_type": "code",
   "execution_count": 2,
   "metadata": {},
   "outputs": [],
   "source": [
    "# Import training labels CSV\n",
    "df_training_labels = pd.read_csv('data/Training_set_labels.csv')"
   ]
  },
  {
   "cell_type": "code",
   "execution_count": 3,
   "metadata": {},
   "outputs": [
    {
     "data": {
      "text/plain": [
       "(59400, 2)"
      ]
     },
     "execution_count": 3,
     "metadata": {},
     "output_type": "execute_result"
    }
   ],
   "source": [
    "df_training_labels.shape"
   ]
  },
  {
   "cell_type": "code",
   "execution_count": 4,
   "metadata": {},
   "outputs": [
    {
     "data": {
      "text/html": [
       "<div>\n",
       "<style scoped>\n",
       "    .dataframe tbody tr th:only-of-type {\n",
       "        vertical-align: middle;\n",
       "    }\n",
       "\n",
       "    .dataframe tbody tr th {\n",
       "        vertical-align: top;\n",
       "    }\n",
       "\n",
       "    .dataframe thead th {\n",
       "        text-align: right;\n",
       "    }\n",
       "</style>\n",
       "<table border=\"1\" class=\"dataframe\">\n",
       "  <thead>\n",
       "    <tr style=\"text-align: right;\">\n",
       "      <th></th>\n",
       "      <th>id</th>\n",
       "      <th>status_group</th>\n",
       "    </tr>\n",
       "  </thead>\n",
       "  <tbody>\n",
       "    <tr>\n",
       "      <th>0</th>\n",
       "      <td>69572</td>\n",
       "      <td>functional</td>\n",
       "    </tr>\n",
       "    <tr>\n",
       "      <th>1</th>\n",
       "      <td>8776</td>\n",
       "      <td>functional</td>\n",
       "    </tr>\n",
       "    <tr>\n",
       "      <th>2</th>\n",
       "      <td>34310</td>\n",
       "      <td>functional</td>\n",
       "    </tr>\n",
       "    <tr>\n",
       "      <th>3</th>\n",
       "      <td>67743</td>\n",
       "      <td>non functional</td>\n",
       "    </tr>\n",
       "    <tr>\n",
       "      <th>4</th>\n",
       "      <td>19728</td>\n",
       "      <td>functional</td>\n",
       "    </tr>\n",
       "  </tbody>\n",
       "</table>\n",
       "</div>"
      ],
      "text/plain": [
       "      id    status_group\n",
       "0  69572      functional\n",
       "1   8776      functional\n",
       "2  34310      functional\n",
       "3  67743  non functional\n",
       "4  19728      functional"
      ]
     },
     "execution_count": 4,
     "metadata": {},
     "output_type": "execute_result"
    }
   ],
   "source": [
    "df_training_labels.head()"
   ]
  },
  {
   "cell_type": "code",
   "execution_count": 5,
   "metadata": {},
   "outputs": [
    {
     "name": "stdout",
     "output_type": "stream",
     "text": [
      "<class 'pandas.core.frame.DataFrame'>\n",
      "RangeIndex: 59400 entries, 0 to 59399\n",
      "Data columns (total 2 columns):\n",
      " #   Column        Non-Null Count  Dtype \n",
      "---  ------        --------------  ----- \n",
      " 0   id            59400 non-null  int64 \n",
      " 1   status_group  59400 non-null  object\n",
      "dtypes: int64(1), object(1)\n",
      "memory usage: 928.2+ KB\n"
     ]
    }
   ],
   "source": [
    "df_training_labels.info()"
   ]
  },
  {
   "cell_type": "markdown",
   "metadata": {},
   "source": [
    "### Checking NA values"
   ]
  },
  {
   "cell_type": "code",
   "execution_count": 6,
   "metadata": {},
   "outputs": [
    {
     "data": {
      "text/plain": [
       "id              0\n",
       "status_group    0\n",
       "dtype: int64"
      ]
     },
     "execution_count": 6,
     "metadata": {},
     "output_type": "execute_result"
    }
   ],
   "source": [
    "df_training_labels.isna().sum()"
   ]
  },
  {
   "cell_type": "markdown",
   "metadata": {},
   "source": [
    "### Class Imbalance"
   ]
  },
  {
   "cell_type": "markdown",
   "metadata": {},
   "source": [
    "#### Based on our counts, we can see that we will have to counter the class imbalance. We will fix this issue later on in our model building process. "
   ]
  },
  {
   "cell_type": "code",
   "execution_count": 7,
   "metadata": {},
   "outputs": [
    {
     "data": {
      "text/plain": [
       "functional                 32259\n",
       "non functional             22824\n",
       "functional needs repair     4317\n",
       "Name: status_group, dtype: int64"
      ]
     },
     "execution_count": 7,
     "metadata": {},
     "output_type": "execute_result"
    }
   ],
   "source": [
    "df_training_labels['status_group'].value_counts()"
   ]
  },
  {
   "cell_type": "markdown",
   "metadata": {},
   "source": [
    "### Training_set_values"
   ]
  },
  {
   "cell_type": "code",
   "execution_count": 8,
   "metadata": {},
   "outputs": [],
   "source": [
    "# Import training values CSV\n",
    "df_training_values = pd.read_csv('data/Training_set_values.csv')"
   ]
  },
  {
   "cell_type": "code",
   "execution_count": 9,
   "metadata": {},
   "outputs": [
    {
     "data": {
      "text/plain": [
       "(59400, 40)"
      ]
     },
     "execution_count": 9,
     "metadata": {},
     "output_type": "execute_result"
    }
   ],
   "source": [
    "df_training_values.shape"
   ]
  },
  {
   "cell_type": "markdown",
   "metadata": {},
   "source": [
    "#### Looking at the above cells output we can see that we have 40 predictive features to chose from being: \n",
    "\n",
    "* amount_tsh : Total static head (amount water available to waterpoint)\n",
    "* date_recorded : The date the row was entered\n",
    "* funder : Who funded the well\n",
    "* gps_height : Altitude of the well\n",
    "* installer : Organization that installed the well\n",
    "* longitude : GPS coordinate\n",
    "* latitude : GPS coordinate\n",
    "* wpt_name : Name of the waterpoint if there is one\n",
    "* num_private :Private use or not\n",
    "* basin : Geographic water basin\n",
    "* subvillage : Geographic location\n",
    "* region : Geographic location\n",
    "* region_code : Geographic location (coded)\n",
    "* district_code : Geographic location (coded)\n",
    "* lga : Geographic location\n",
    "* ward : Geographic location\n",
    "* population : Population around the well\n",
    "* public_meeting : True/False\n",
    "* recorded_by : Group entering this row of data\n",
    "* scheme_management : Who operates the waterpoint\n",
    "* scheme_name : Who operates the waterpoint\n",
    "* permit : If the waterpoint is permitted\n",
    "* construction_year : Year the waterpoint was constructed\n",
    "* extraction_type : The kind of extraction the waterpoint uses\n",
    "* extraction_type_group : The kind of extraction the waterpoint uses\n",
    "* extraction_type_class : The kind of extraction the waterpoint uses\n",
    "* management : How the waterpoint is managed\n",
    "* management_group : How the waterpoint is managed\n",
    "* payment : What the water costs\n",
    "* payment_type : What the water costs\n",
    "* water_quality : The quality of the water\n",
    "* quality_group : The quality of the water\n",
    "* quantity : The quantity of water\n",
    "* quantity_group : The quantity of water\n",
    "* source : The source of the water\n",
    "* source_type : The source of the water\n",
    "* source_class : The source of the water\n",
    "* waterpoint_type : The kind of waterpoint\n",
    "* waterpoint_type_group : The kind of waterpoint"
   ]
  },
  {
   "cell_type": "code",
   "execution_count": 10,
   "metadata": {},
   "outputs": [
    {
     "name": "stdout",
     "output_type": "stream",
     "text": [
      "<class 'pandas.core.frame.DataFrame'>\n",
      "RangeIndex: 59400 entries, 0 to 59399\n",
      "Data columns (total 40 columns):\n",
      " #   Column                 Non-Null Count  Dtype  \n",
      "---  ------                 --------------  -----  \n",
      " 0   id                     59400 non-null  int64  \n",
      " 1   amount_tsh             59400 non-null  float64\n",
      " 2   date_recorded          59400 non-null  object \n",
      " 3   funder                 55765 non-null  object \n",
      " 4   gps_height             59400 non-null  int64  \n",
      " 5   installer              55745 non-null  object \n",
      " 6   longitude              59400 non-null  float64\n",
      " 7   latitude               59400 non-null  float64\n",
      " 8   wpt_name               59400 non-null  object \n",
      " 9   num_private            59400 non-null  int64  \n",
      " 10  basin                  59400 non-null  object \n",
      " 11  subvillage             59029 non-null  object \n",
      " 12  region                 59400 non-null  object \n",
      " 13  region_code            59400 non-null  int64  \n",
      " 14  district_code          59400 non-null  int64  \n",
      " 15  lga                    59400 non-null  object \n",
      " 16  ward                   59400 non-null  object \n",
      " 17  population             59400 non-null  int64  \n",
      " 18  public_meeting         56066 non-null  object \n",
      " 19  recorded_by            59400 non-null  object \n",
      " 20  scheme_management      55523 non-null  object \n",
      " 21  scheme_name            31234 non-null  object \n",
      " 22  permit                 56344 non-null  object \n",
      " 23  construction_year      59400 non-null  int64  \n",
      " 24  extraction_type        59400 non-null  object \n",
      " 25  extraction_type_group  59400 non-null  object \n",
      " 26  extraction_type_class  59400 non-null  object \n",
      " 27  management             59400 non-null  object \n",
      " 28  management_group       59400 non-null  object \n",
      " 29  payment                59400 non-null  object \n",
      " 30  payment_type           59400 non-null  object \n",
      " 31  water_quality          59400 non-null  object \n",
      " 32  quality_group          59400 non-null  object \n",
      " 33  quantity               59400 non-null  object \n",
      " 34  quantity_group         59400 non-null  object \n",
      " 35  source                 59400 non-null  object \n",
      " 36  source_type            59400 non-null  object \n",
      " 37  source_class           59400 non-null  object \n",
      " 38  waterpoint_type        59400 non-null  object \n",
      " 39  waterpoint_type_group  59400 non-null  object \n",
      "dtypes: float64(3), int64(7), object(30)\n",
      "memory usage: 18.1+ MB\n"
     ]
    }
   ],
   "source": [
    "df_training_values.info()"
   ]
  },
  {
   "cell_type": "markdown",
   "metadata": {},
   "source": [
    "#### A quick review of the Non-Null column shows that we are missing values in this data set. Below we will dive deeper into which columns are the most effected. "
   ]
  },
  {
   "cell_type": "code",
   "execution_count": 11,
   "metadata": {},
   "outputs": [
    {
     "data": {
      "text/plain": [
       "id                           0\n",
       "amount_tsh                   0\n",
       "date_recorded                0\n",
       "funder                    3635\n",
       "gps_height                   0\n",
       "installer                 3655\n",
       "longitude                    0\n",
       "latitude                     0\n",
       "wpt_name                     0\n",
       "num_private                  0\n",
       "basin                        0\n",
       "subvillage                 371\n",
       "region                       0\n",
       "region_code                  0\n",
       "district_code                0\n",
       "lga                          0\n",
       "ward                         0\n",
       "population                   0\n",
       "public_meeting            3334\n",
       "recorded_by                  0\n",
       "scheme_management         3877\n",
       "scheme_name              28166\n",
       "permit                    3056\n",
       "construction_year            0\n",
       "extraction_type              0\n",
       "extraction_type_group        0\n",
       "extraction_type_class        0\n",
       "management                   0\n",
       "management_group             0\n",
       "payment                      0\n",
       "payment_type                 0\n",
       "water_quality                0\n",
       "quality_group                0\n",
       "quantity                     0\n",
       "quantity_group               0\n",
       "source                       0\n",
       "source_type                  0\n",
       "source_class                 0\n",
       "waterpoint_type              0\n",
       "waterpoint_type_group        0\n",
       "dtype: int64"
      ]
     },
     "execution_count": 11,
     "metadata": {},
     "output_type": "execute_result"
    }
   ],
   "source": [
    "df_training_values.isna().sum()"
   ]
  },
  {
   "cell_type": "markdown",
   "metadata": {},
   "source": [
    "#### Out of the 40 features 7 of them are missing values. A few items stand out:\n",
    "\n",
    "* Funder and installer have close to equal amounts of missing values\n",
    "* subvillage has the least amount of missing values\n",
    "* scheme_name is missing almost half of the values - we will drop this column"
   ]
  },
  {
   "cell_type": "code",
   "execution_count": 12,
   "metadata": {},
   "outputs": [],
   "source": [
    "# Dropping column from dataframe\n",
    "df_training_values.drop('scheme_name', axis = 1, inplace = True)"
   ]
  },
  {
   "cell_type": "markdown",
   "metadata": {},
   "source": [
    "#### We need to explore more to see how we should handle these values."
   ]
  },
  {
   "cell_type": "code",
   "execution_count": 13,
   "metadata": {},
   "outputs": [
    {
     "name": "stdout",
     "output_type": "stream",
     "text": [
      "<class 'pandas.core.frame.DataFrame'>\n",
      "RangeIndex: 59400 entries, 0 to 59399\n",
      "Data columns (total 6 columns):\n",
      " #   Column             Non-Null Count  Dtype \n",
      "---  ------             --------------  ----- \n",
      " 0   funder             55765 non-null  object\n",
      " 1   installer          55745 non-null  object\n",
      " 2   subvillage         59029 non-null  object\n",
      " 3   public_meeting     56066 non-null  object\n",
      " 4   scheme_management  55523 non-null  object\n",
      " 5   permit             56344 non-null  object\n",
      "dtypes: object(6)\n",
      "memory usage: 2.7+ MB\n"
     ]
    }
   ],
   "source": [
    "# creating a list of columns with missing values\n",
    "missing_values = ['funder', 'installer', 'subvillage', 'public_meeting',\\\n",
    "                  'scheme_management', 'permit']\n",
    "\n",
    "# creating a dataframe with above missing_values\n",
    "df_training_values[missing_values].info()"
   ]
  },
  {
   "cell_type": "code",
   "execution_count": 14,
   "metadata": {},
   "outputs": [
    {
     "data": {
      "text/plain": [
       "funder               3635\n",
       "installer            3655\n",
       "subvillage            371\n",
       "public_meeting       3334\n",
       "scheme_management    3877\n",
       "permit               3056\n",
       "dtype: int64"
      ]
     },
     "execution_count": 14,
     "metadata": {},
     "output_type": "execute_result"
    }
   ],
   "source": [
    "df_training_values[missing_values].isna().sum()"
   ]
  },
  {
   "cell_type": "markdown",
   "metadata": {},
   "source": [
    "#### We can now see that all of these features are of the dtype object which narrows down our options to dealing with the missing values. What are these features composed of? \n",
    "\n",
    "#### To start, lets take a look at our previous mentioned insite of funders and installers having close to the same amount of missing values. \n",
    "\n",
    "##### Note: prior to running the below cells I misread the value counts and thought that both of these columns had the same amount of NA values. The below lines raised the red flag of 'why are the true values the same but the false values differ?'"
   ]
  },
  {
   "cell_type": "code",
   "execution_count": 15,
   "metadata": {},
   "outputs": [
    {
     "data": {
      "text/plain": [
       "True     3582\n",
       "False      53\n",
       "Name: installer, dtype: int64"
      ]
     },
     "execution_count": 15,
     "metadata": {},
     "output_type": "execute_result"
    }
   ],
   "source": [
    "df_training_values[df_training_values['funder'].isna()]['installer'].isna().value_counts()"
   ]
  },
  {
   "cell_type": "code",
   "execution_count": 16,
   "metadata": {},
   "outputs": [
    {
     "data": {
      "text/plain": [
       "True     3582\n",
       "False      73\n",
       "Name: funder, dtype: int64"
      ]
     },
     "execution_count": 16,
     "metadata": {},
     "output_type": "execute_result"
    }
   ],
   "source": [
    "df_training_values[df_training_values['installer'].isna()]['funder'].isna().value_counts()"
   ]
  },
  {
   "cell_type": "markdown",
   "metadata": {},
   "source": [
    "#### Looking at the above counts it looks like our counts vary minimally but enough so where we cannot attack these two columns as the same. "
   ]
  },
  {
   "cell_type": "code",
   "execution_count": 17,
   "metadata": {},
   "outputs": [
    {
     "data": {
      "text/plain": [
       "Government Of Tanzania    9084\n",
       "Danida                    3114\n",
       "Hesawa                    2202\n",
       "Rwssp                     1374\n",
       "World Bank                1349\n",
       "                          ... \n",
       "Balyehe                      1\n",
       "Twice                        1\n",
       "Majengo Prima                1\n",
       "Overnment                    1\n",
       "Agape Churc                  1\n",
       "Name: funder, Length: 1897, dtype: int64"
      ]
     },
     "execution_count": 17,
     "metadata": {},
     "output_type": "execute_result"
    }
   ],
   "source": [
    "df_training_values['funder'].value_counts()"
   ]
  },
  {
   "cell_type": "code",
   "execution_count": 18,
   "metadata": {},
   "outputs": [
    {
     "data": {
      "text/html": [
       "<div>\n",
       "<style scoped>\n",
       "    .dataframe tbody tr th:only-of-type {\n",
       "        vertical-align: middle;\n",
       "    }\n",
       "\n",
       "    .dataframe tbody tr th {\n",
       "        vertical-align: top;\n",
       "    }\n",
       "\n",
       "    .dataframe thead th {\n",
       "        text-align: right;\n",
       "    }\n",
       "</style>\n",
       "<table border=\"1\" class=\"dataframe\">\n",
       "  <thead>\n",
       "    <tr style=\"text-align: right;\">\n",
       "      <th></th>\n",
       "      <th>id</th>\n",
       "      <th>amount_tsh</th>\n",
       "      <th>date_recorded</th>\n",
       "      <th>funder</th>\n",
       "      <th>gps_height</th>\n",
       "      <th>installer</th>\n",
       "      <th>longitude</th>\n",
       "      <th>latitude</th>\n",
       "      <th>wpt_name</th>\n",
       "      <th>num_private</th>\n",
       "      <th>basin</th>\n",
       "      <th>subvillage</th>\n",
       "      <th>region</th>\n",
       "      <th>region_code</th>\n",
       "      <th>district_code</th>\n",
       "      <th>lga</th>\n",
       "      <th>ward</th>\n",
       "      <th>population</th>\n",
       "      <th>public_meeting</th>\n",
       "      <th>recorded_by</th>\n",
       "      <th>scheme_management</th>\n",
       "      <th>permit</th>\n",
       "      <th>construction_year</th>\n",
       "      <th>extraction_type</th>\n",
       "      <th>extraction_type_group</th>\n",
       "      <th>extraction_type_class</th>\n",
       "      <th>management</th>\n",
       "      <th>management_group</th>\n",
       "      <th>payment</th>\n",
       "      <th>payment_type</th>\n",
       "      <th>water_quality</th>\n",
       "      <th>quality_group</th>\n",
       "      <th>quantity</th>\n",
       "      <th>quantity_group</th>\n",
       "      <th>source</th>\n",
       "      <th>source_type</th>\n",
       "      <th>source_class</th>\n",
       "      <th>waterpoint_type</th>\n",
       "      <th>waterpoint_type_group</th>\n",
       "    </tr>\n",
       "  </thead>\n",
       "  <tbody>\n",
       "    <tr>\n",
       "      <th>34</th>\n",
       "      <td>41583</td>\n",
       "      <td>0.0</td>\n",
       "      <td>2011-02-23</td>\n",
       "      <td>NaN</td>\n",
       "      <td>-41</td>\n",
       "      <td>NaN</td>\n",
       "      <td>39.812912</td>\n",
       "      <td>-7.889986</td>\n",
       "      <td>Msikitini Wa Ijumaa</td>\n",
       "      <td>0</td>\n",
       "      <td>Rufiji</td>\n",
       "      <td>Kilombero B</td>\n",
       "      <td>Pwani</td>\n",
       "      <td>60</td>\n",
       "      <td>63</td>\n",
       "      <td>Mafia</td>\n",
       "      <td>Baleni</td>\n",
       "      <td>100</td>\n",
       "      <td>True</td>\n",
       "      <td>GeoData Consultants Ltd</td>\n",
       "      <td>VWC</td>\n",
       "      <td>False</td>\n",
       "      <td>0</td>\n",
       "      <td>nira/tanira</td>\n",
       "      <td>nira/tanira</td>\n",
       "      <td>handpump</td>\n",
       "      <td>vwc</td>\n",
       "      <td>user-group</td>\n",
       "      <td>never pay</td>\n",
       "      <td>never pay</td>\n",
       "      <td>salty</td>\n",
       "      <td>salty</td>\n",
       "      <td>enough</td>\n",
       "      <td>enough</td>\n",
       "      <td>shallow well</td>\n",
       "      <td>shallow well</td>\n",
       "      <td>groundwater</td>\n",
       "      <td>hand pump</td>\n",
       "      <td>hand pump</td>\n",
       "    </tr>\n",
       "    <tr>\n",
       "      <th>43</th>\n",
       "      <td>19282</td>\n",
       "      <td>0.0</td>\n",
       "      <td>2013-01-15</td>\n",
       "      <td>NaN</td>\n",
       "      <td>1642</td>\n",
       "      <td>NaN</td>\n",
       "      <td>34.967789</td>\n",
       "      <td>-4.628921</td>\n",
       "      <td>Mvae Primary</td>\n",
       "      <td>0</td>\n",
       "      <td>Internal</td>\n",
       "      <td>Mwarufyu</td>\n",
       "      <td>Singida</td>\n",
       "      <td>13</td>\n",
       "      <td>2</td>\n",
       "      <td>Singida Rural</td>\n",
       "      <td>Merya</td>\n",
       "      <td>1</td>\n",
       "      <td>True</td>\n",
       "      <td>GeoData Consultants Ltd</td>\n",
       "      <td>VWC</td>\n",
       "      <td>NaN</td>\n",
       "      <td>1980</td>\n",
       "      <td>mono</td>\n",
       "      <td>mono</td>\n",
       "      <td>motorpump</td>\n",
       "      <td>vwc</td>\n",
       "      <td>user-group</td>\n",
       "      <td>unknown</td>\n",
       "      <td>unknown</td>\n",
       "      <td>unknown</td>\n",
       "      <td>unknown</td>\n",
       "      <td>dry</td>\n",
       "      <td>dry</td>\n",
       "      <td>machine dbh</td>\n",
       "      <td>borehole</td>\n",
       "      <td>groundwater</td>\n",
       "      <td>communal standpipe</td>\n",
       "      <td>communal standpipe</td>\n",
       "    </tr>\n",
       "    <tr>\n",
       "      <th>47</th>\n",
       "      <td>13620</td>\n",
       "      <td>0.0</td>\n",
       "      <td>2011-07-27</td>\n",
       "      <td>NaN</td>\n",
       "      <td>0</td>\n",
       "      <td>NaN</td>\n",
       "      <td>33.540607</td>\n",
       "      <td>-9.172905</td>\n",
       "      <td>Mahakamani</td>\n",
       "      <td>0</td>\n",
       "      <td>Lake Nyasa</td>\n",
       "      <td>Mpandapanda</td>\n",
       "      <td>Mbeya</td>\n",
       "      <td>12</td>\n",
       "      <td>4</td>\n",
       "      <td>Rungwe</td>\n",
       "      <td>Kiwira</td>\n",
       "      <td>0</td>\n",
       "      <td>True</td>\n",
       "      <td>GeoData Consultants Ltd</td>\n",
       "      <td>VWC</td>\n",
       "      <td>NaN</td>\n",
       "      <td>0</td>\n",
       "      <td>gravity</td>\n",
       "      <td>gravity</td>\n",
       "      <td>gravity</td>\n",
       "      <td>vwc</td>\n",
       "      <td>user-group</td>\n",
       "      <td>never pay</td>\n",
       "      <td>never pay</td>\n",
       "      <td>soft</td>\n",
       "      <td>good</td>\n",
       "      <td>enough</td>\n",
       "      <td>enough</td>\n",
       "      <td>spring</td>\n",
       "      <td>spring</td>\n",
       "      <td>groundwater</td>\n",
       "      <td>communal standpipe</td>\n",
       "      <td>communal standpipe</td>\n",
       "    </tr>\n",
       "    <tr>\n",
       "      <th>65</th>\n",
       "      <td>51072</td>\n",
       "      <td>0.0</td>\n",
       "      <td>2013-02-09</td>\n",
       "      <td>NaN</td>\n",
       "      <td>1415</td>\n",
       "      <td>NaN</td>\n",
       "      <td>34.621598</td>\n",
       "      <td>-5.173136</td>\n",
       "      <td>Nyambi</td>\n",
       "      <td>0</td>\n",
       "      <td>Internal</td>\n",
       "      <td>Mfumbu</td>\n",
       "      <td>Singida</td>\n",
       "      <td>13</td>\n",
       "      <td>2</td>\n",
       "      <td>Singida Rural</td>\n",
       "      <td>Naintiri</td>\n",
       "      <td>1</td>\n",
       "      <td>True</td>\n",
       "      <td>GeoData Consultants Ltd</td>\n",
       "      <td>VWC</td>\n",
       "      <td>NaN</td>\n",
       "      <td>1970</td>\n",
       "      <td>mono</td>\n",
       "      <td>mono</td>\n",
       "      <td>motorpump</td>\n",
       "      <td>vwc</td>\n",
       "      <td>user-group</td>\n",
       "      <td>unknown</td>\n",
       "      <td>unknown</td>\n",
       "      <td>unknown</td>\n",
       "      <td>unknown</td>\n",
       "      <td>dry</td>\n",
       "      <td>dry</td>\n",
       "      <td>machine dbh</td>\n",
       "      <td>borehole</td>\n",
       "      <td>groundwater</td>\n",
       "      <td>communal standpipe</td>\n",
       "      <td>communal standpipe</td>\n",
       "    </tr>\n",
       "    <tr>\n",
       "      <th>71</th>\n",
       "      <td>17386</td>\n",
       "      <td>0.0</td>\n",
       "      <td>2011-03-31</td>\n",
       "      <td>NaN</td>\n",
       "      <td>0</td>\n",
       "      <td>NaN</td>\n",
       "      <td>34.462228</td>\n",
       "      <td>-8.575780</td>\n",
       "      <td>Kwa Manyusi Mlilo</td>\n",
       "      <td>0</td>\n",
       "      <td>Rufiji</td>\n",
       "      <td>Lembuka</td>\n",
       "      <td>Mbeya</td>\n",
       "      <td>12</td>\n",
       "      <td>7</td>\n",
       "      <td>Mbarali</td>\n",
       "      <td>Mawindi</td>\n",
       "      <td>0</td>\n",
       "      <td>True</td>\n",
       "      <td>GeoData Consultants Ltd</td>\n",
       "      <td>VWC</td>\n",
       "      <td>False</td>\n",
       "      <td>0</td>\n",
       "      <td>gravity</td>\n",
       "      <td>gravity</td>\n",
       "      <td>gravity</td>\n",
       "      <td>vwc</td>\n",
       "      <td>user-group</td>\n",
       "      <td>never pay</td>\n",
       "      <td>never pay</td>\n",
       "      <td>soft</td>\n",
       "      <td>good</td>\n",
       "      <td>insufficient</td>\n",
       "      <td>insufficient</td>\n",
       "      <td>river</td>\n",
       "      <td>river/lake</td>\n",
       "      <td>surface</td>\n",
       "      <td>communal standpipe</td>\n",
       "      <td>communal standpipe</td>\n",
       "    </tr>\n",
       "    <tr>\n",
       "      <th>...</th>\n",
       "      <td>...</td>\n",
       "      <td>...</td>\n",
       "      <td>...</td>\n",
       "      <td>...</td>\n",
       "      <td>...</td>\n",
       "      <td>...</td>\n",
       "      <td>...</td>\n",
       "      <td>...</td>\n",
       "      <td>...</td>\n",
       "      <td>...</td>\n",
       "      <td>...</td>\n",
       "      <td>...</td>\n",
       "      <td>...</td>\n",
       "      <td>...</td>\n",
       "      <td>...</td>\n",
       "      <td>...</td>\n",
       "      <td>...</td>\n",
       "      <td>...</td>\n",
       "      <td>...</td>\n",
       "      <td>...</td>\n",
       "      <td>...</td>\n",
       "      <td>...</td>\n",
       "      <td>...</td>\n",
       "      <td>...</td>\n",
       "      <td>...</td>\n",
       "      <td>...</td>\n",
       "      <td>...</td>\n",
       "      <td>...</td>\n",
       "      <td>...</td>\n",
       "      <td>...</td>\n",
       "      <td>...</td>\n",
       "      <td>...</td>\n",
       "      <td>...</td>\n",
       "      <td>...</td>\n",
       "      <td>...</td>\n",
       "      <td>...</td>\n",
       "      <td>...</td>\n",
       "      <td>...</td>\n",
       "      <td>...</td>\n",
       "    </tr>\n",
       "    <tr>\n",
       "      <th>59357</th>\n",
       "      <td>46563</td>\n",
       "      <td>0.0</td>\n",
       "      <td>2013-02-19</td>\n",
       "      <td>NaN</td>\n",
       "      <td>1635</td>\n",
       "      <td>NaN</td>\n",
       "      <td>34.971841</td>\n",
       "      <td>-5.098362</td>\n",
       "      <td>Shabani</td>\n",
       "      <td>0</td>\n",
       "      <td>Internal</td>\n",
       "      <td>Mampando A</td>\n",
       "      <td>Singida</td>\n",
       "      <td>13</td>\n",
       "      <td>2</td>\n",
       "      <td>Singida Rural</td>\n",
       "      <td>Ntuntu</td>\n",
       "      <td>1</td>\n",
       "      <td>True</td>\n",
       "      <td>GeoData Consultants Ltd</td>\n",
       "      <td>VWC</td>\n",
       "      <td>NaN</td>\n",
       "      <td>1980</td>\n",
       "      <td>nira/tanira</td>\n",
       "      <td>nira/tanira</td>\n",
       "      <td>handpump</td>\n",
       "      <td>vwc</td>\n",
       "      <td>user-group</td>\n",
       "      <td>unknown</td>\n",
       "      <td>unknown</td>\n",
       "      <td>unknown</td>\n",
       "      <td>unknown</td>\n",
       "      <td>dry</td>\n",
       "      <td>dry</td>\n",
       "      <td>shallow well</td>\n",
       "      <td>shallow well</td>\n",
       "      <td>groundwater</td>\n",
       "      <td>hand pump</td>\n",
       "      <td>hand pump</td>\n",
       "    </tr>\n",
       "    <tr>\n",
       "      <th>59366</th>\n",
       "      <td>55232</td>\n",
       "      <td>0.0</td>\n",
       "      <td>2013-02-02</td>\n",
       "      <td>NaN</td>\n",
       "      <td>1541</td>\n",
       "      <td>NaN</td>\n",
       "      <td>34.765729</td>\n",
       "      <td>-5.027725</td>\n",
       "      <td>Joshoni</td>\n",
       "      <td>0</td>\n",
       "      <td>Internal</td>\n",
       "      <td>Mungumaho</td>\n",
       "      <td>Singida</td>\n",
       "      <td>13</td>\n",
       "      <td>2</td>\n",
       "      <td>Singida Rural</td>\n",
       "      <td>Puma</td>\n",
       "      <td>200</td>\n",
       "      <td>True</td>\n",
       "      <td>GeoData Consultants Ltd</td>\n",
       "      <td>VWC</td>\n",
       "      <td>NaN</td>\n",
       "      <td>2000</td>\n",
       "      <td>nira/tanira</td>\n",
       "      <td>nira/tanira</td>\n",
       "      <td>handpump</td>\n",
       "      <td>vwc</td>\n",
       "      <td>user-group</td>\n",
       "      <td>never pay</td>\n",
       "      <td>never pay</td>\n",
       "      <td>soft</td>\n",
       "      <td>good</td>\n",
       "      <td>insufficient</td>\n",
       "      <td>insufficient</td>\n",
       "      <td>shallow well</td>\n",
       "      <td>shallow well</td>\n",
       "      <td>groundwater</td>\n",
       "      <td>hand pump</td>\n",
       "      <td>hand pump</td>\n",
       "    </tr>\n",
       "    <tr>\n",
       "      <th>59370</th>\n",
       "      <td>14796</td>\n",
       "      <td>200.0</td>\n",
       "      <td>2013-01-29</td>\n",
       "      <td>NaN</td>\n",
       "      <td>1154</td>\n",
       "      <td>NaN</td>\n",
       "      <td>30.058731</td>\n",
       "      <td>-4.902633</td>\n",
       "      <td>Village Office</td>\n",
       "      <td>0</td>\n",
       "      <td>Lake Tanganyika</td>\n",
       "      <td>Mazungwe</td>\n",
       "      <td>Kigoma</td>\n",
       "      <td>16</td>\n",
       "      <td>2</td>\n",
       "      <td>Kasulu</td>\n",
       "      <td>Rusesa</td>\n",
       "      <td>1</td>\n",
       "      <td>True</td>\n",
       "      <td>GeoData Consultants Ltd</td>\n",
       "      <td>NaN</td>\n",
       "      <td>False</td>\n",
       "      <td>0</td>\n",
       "      <td>other</td>\n",
       "      <td>other</td>\n",
       "      <td>other</td>\n",
       "      <td>unknown</td>\n",
       "      <td>unknown</td>\n",
       "      <td>pay monthly</td>\n",
       "      <td>monthly</td>\n",
       "      <td>unknown</td>\n",
       "      <td>unknown</td>\n",
       "      <td>unknown</td>\n",
       "      <td>unknown</td>\n",
       "      <td>unknown</td>\n",
       "      <td>other</td>\n",
       "      <td>unknown</td>\n",
       "      <td>other</td>\n",
       "      <td>other</td>\n",
       "    </tr>\n",
       "    <tr>\n",
       "      <th>59376</th>\n",
       "      <td>34716</td>\n",
       "      <td>0.0</td>\n",
       "      <td>2013-02-03</td>\n",
       "      <td>NaN</td>\n",
       "      <td>1581</td>\n",
       "      <td>NaN</td>\n",
       "      <td>34.821039</td>\n",
       "      <td>-5.076258</td>\n",
       "      <td>Nasingo</td>\n",
       "      <td>0</td>\n",
       "      <td>Internal</td>\n",
       "      <td>Hu</td>\n",
       "      <td>Singida</td>\n",
       "      <td>13</td>\n",
       "      <td>2</td>\n",
       "      <td>Singida Rural</td>\n",
       "      <td>Dung'unyi</td>\n",
       "      <td>1</td>\n",
       "      <td>True</td>\n",
       "      <td>GeoData Consultants Ltd</td>\n",
       "      <td>VWC</td>\n",
       "      <td>NaN</td>\n",
       "      <td>1990</td>\n",
       "      <td>other</td>\n",
       "      <td>other</td>\n",
       "      <td>other</td>\n",
       "      <td>vwc</td>\n",
       "      <td>user-group</td>\n",
       "      <td>unknown</td>\n",
       "      <td>unknown</td>\n",
       "      <td>unknown</td>\n",
       "      <td>unknown</td>\n",
       "      <td>dry</td>\n",
       "      <td>dry</td>\n",
       "      <td>shallow well</td>\n",
       "      <td>shallow well</td>\n",
       "      <td>groundwater</td>\n",
       "      <td>other</td>\n",
       "      <td>other</td>\n",
       "    </tr>\n",
       "    <tr>\n",
       "      <th>59397</th>\n",
       "      <td>37057</td>\n",
       "      <td>0.0</td>\n",
       "      <td>2011-04-11</td>\n",
       "      <td>NaN</td>\n",
       "      <td>0</td>\n",
       "      <td>NaN</td>\n",
       "      <td>34.017087</td>\n",
       "      <td>-8.750434</td>\n",
       "      <td>Mashine</td>\n",
       "      <td>0</td>\n",
       "      <td>Rufiji</td>\n",
       "      <td>Madungulu</td>\n",
       "      <td>Mbeya</td>\n",
       "      <td>12</td>\n",
       "      <td>7</td>\n",
       "      <td>Mbarali</td>\n",
       "      <td>Chimala</td>\n",
       "      <td>0</td>\n",
       "      <td>True</td>\n",
       "      <td>GeoData Consultants Ltd</td>\n",
       "      <td>VWC</td>\n",
       "      <td>False</td>\n",
       "      <td>0</td>\n",
       "      <td>swn 80</td>\n",
       "      <td>swn 80</td>\n",
       "      <td>handpump</td>\n",
       "      <td>vwc</td>\n",
       "      <td>user-group</td>\n",
       "      <td>pay monthly</td>\n",
       "      <td>monthly</td>\n",
       "      <td>fluoride</td>\n",
       "      <td>fluoride</td>\n",
       "      <td>enough</td>\n",
       "      <td>enough</td>\n",
       "      <td>machine dbh</td>\n",
       "      <td>borehole</td>\n",
       "      <td>groundwater</td>\n",
       "      <td>hand pump</td>\n",
       "      <td>hand pump</td>\n",
       "    </tr>\n",
       "  </tbody>\n",
       "</table>\n",
       "<p>3635 rows × 39 columns</p>\n",
       "</div>"
      ],
      "text/plain": [
       "          id  amount_tsh date_recorded funder  gps_height installer  \\\n",
       "34     41583         0.0    2011-02-23    NaN         -41       NaN   \n",
       "43     19282         0.0    2013-01-15    NaN        1642       NaN   \n",
       "47     13620         0.0    2011-07-27    NaN           0       NaN   \n",
       "65     51072         0.0    2013-02-09    NaN        1415       NaN   \n",
       "71     17386         0.0    2011-03-31    NaN           0       NaN   \n",
       "...      ...         ...           ...    ...         ...       ...   \n",
       "59357  46563         0.0    2013-02-19    NaN        1635       NaN   \n",
       "59366  55232         0.0    2013-02-02    NaN        1541       NaN   \n",
       "59370  14796       200.0    2013-01-29    NaN        1154       NaN   \n",
       "59376  34716         0.0    2013-02-03    NaN        1581       NaN   \n",
       "59397  37057         0.0    2011-04-11    NaN           0       NaN   \n",
       "\n",
       "       longitude  latitude             wpt_name  num_private            basin  \\\n",
       "34     39.812912 -7.889986  Msikitini Wa Ijumaa            0           Rufiji   \n",
       "43     34.967789 -4.628921         Mvae Primary            0         Internal   \n",
       "47     33.540607 -9.172905           Mahakamani            0       Lake Nyasa   \n",
       "65     34.621598 -5.173136               Nyambi            0         Internal   \n",
       "71     34.462228 -8.575780    Kwa Manyusi Mlilo            0           Rufiji   \n",
       "...          ...       ...                  ...          ...              ...   \n",
       "59357  34.971841 -5.098362              Shabani            0         Internal   \n",
       "59366  34.765729 -5.027725              Joshoni            0         Internal   \n",
       "59370  30.058731 -4.902633       Village Office            0  Lake Tanganyika   \n",
       "59376  34.821039 -5.076258              Nasingo            0         Internal   \n",
       "59397  34.017087 -8.750434              Mashine            0           Rufiji   \n",
       "\n",
       "        subvillage   region  region_code  district_code            lga  \\\n",
       "34     Kilombero B    Pwani           60             63          Mafia   \n",
       "43        Mwarufyu  Singida           13              2  Singida Rural   \n",
       "47     Mpandapanda    Mbeya           12              4         Rungwe   \n",
       "65          Mfumbu  Singida           13              2  Singida Rural   \n",
       "71         Lembuka    Mbeya           12              7        Mbarali   \n",
       "...            ...      ...          ...            ...            ...   \n",
       "59357   Mampando A  Singida           13              2  Singida Rural   \n",
       "59366    Mungumaho  Singida           13              2  Singida Rural   \n",
       "59370     Mazungwe   Kigoma           16              2         Kasulu   \n",
       "59376           Hu  Singida           13              2  Singida Rural   \n",
       "59397    Madungulu    Mbeya           12              7        Mbarali   \n",
       "\n",
       "            ward  population public_meeting              recorded_by  \\\n",
       "34        Baleni         100           True  GeoData Consultants Ltd   \n",
       "43         Merya           1           True  GeoData Consultants Ltd   \n",
       "47        Kiwira           0           True  GeoData Consultants Ltd   \n",
       "65      Naintiri           1           True  GeoData Consultants Ltd   \n",
       "71       Mawindi           0           True  GeoData Consultants Ltd   \n",
       "...          ...         ...            ...                      ...   \n",
       "59357     Ntuntu           1           True  GeoData Consultants Ltd   \n",
       "59366       Puma         200           True  GeoData Consultants Ltd   \n",
       "59370     Rusesa           1           True  GeoData Consultants Ltd   \n",
       "59376  Dung'unyi           1           True  GeoData Consultants Ltd   \n",
       "59397    Chimala           0           True  GeoData Consultants Ltd   \n",
       "\n",
       "      scheme_management permit  construction_year extraction_type  \\\n",
       "34                  VWC  False                  0     nira/tanira   \n",
       "43                  VWC    NaN               1980            mono   \n",
       "47                  VWC    NaN                  0         gravity   \n",
       "65                  VWC    NaN               1970            mono   \n",
       "71                  VWC  False                  0         gravity   \n",
       "...                 ...    ...                ...             ...   \n",
       "59357               VWC    NaN               1980     nira/tanira   \n",
       "59366               VWC    NaN               2000     nira/tanira   \n",
       "59370               NaN  False                  0           other   \n",
       "59376               VWC    NaN               1990           other   \n",
       "59397               VWC  False                  0          swn 80   \n",
       "\n",
       "      extraction_type_group extraction_type_class management management_group  \\\n",
       "34              nira/tanira              handpump        vwc       user-group   \n",
       "43                     mono             motorpump        vwc       user-group   \n",
       "47                  gravity               gravity        vwc       user-group   \n",
       "65                     mono             motorpump        vwc       user-group   \n",
       "71                  gravity               gravity        vwc       user-group   \n",
       "...                     ...                   ...        ...              ...   \n",
       "59357           nira/tanira              handpump        vwc       user-group   \n",
       "59366           nira/tanira              handpump        vwc       user-group   \n",
       "59370                 other                 other    unknown          unknown   \n",
       "59376                 other                 other        vwc       user-group   \n",
       "59397                swn 80              handpump        vwc       user-group   \n",
       "\n",
       "           payment payment_type water_quality quality_group      quantity  \\\n",
       "34       never pay    never pay         salty         salty        enough   \n",
       "43         unknown      unknown       unknown       unknown           dry   \n",
       "47       never pay    never pay          soft          good        enough   \n",
       "65         unknown      unknown       unknown       unknown           dry   \n",
       "71       never pay    never pay          soft          good  insufficient   \n",
       "...            ...          ...           ...           ...           ...   \n",
       "59357      unknown      unknown       unknown       unknown           dry   \n",
       "59366    never pay    never pay          soft          good  insufficient   \n",
       "59370  pay monthly      monthly       unknown       unknown       unknown   \n",
       "59376      unknown      unknown       unknown       unknown           dry   \n",
       "59397  pay monthly      monthly      fluoride      fluoride        enough   \n",
       "\n",
       "      quantity_group        source   source_type source_class  \\\n",
       "34            enough  shallow well  shallow well  groundwater   \n",
       "43               dry   machine dbh      borehole  groundwater   \n",
       "47            enough        spring        spring  groundwater   \n",
       "65               dry   machine dbh      borehole  groundwater   \n",
       "71      insufficient         river    river/lake      surface   \n",
       "...              ...           ...           ...          ...   \n",
       "59357            dry  shallow well  shallow well  groundwater   \n",
       "59366   insufficient  shallow well  shallow well  groundwater   \n",
       "59370        unknown       unknown         other      unknown   \n",
       "59376            dry  shallow well  shallow well  groundwater   \n",
       "59397         enough   machine dbh      borehole  groundwater   \n",
       "\n",
       "          waterpoint_type waterpoint_type_group  \n",
       "34              hand pump             hand pump  \n",
       "43     communal standpipe    communal standpipe  \n",
       "47     communal standpipe    communal standpipe  \n",
       "65     communal standpipe    communal standpipe  \n",
       "71     communal standpipe    communal standpipe  \n",
       "...                   ...                   ...  \n",
       "59357           hand pump             hand pump  \n",
       "59366           hand pump             hand pump  \n",
       "59370               other                 other  \n",
       "59376               other                 other  \n",
       "59397           hand pump             hand pump  \n",
       "\n",
       "[3635 rows x 39 columns]"
      ]
     },
     "execution_count": 18,
     "metadata": {},
     "output_type": "execute_result"
    }
   ],
   "source": [
    "df_training_values[df_training_values['funder'].isna()]"
   ]
  },
  {
   "cell_type": "code",
   "execution_count": 19,
   "metadata": {},
   "outputs": [
    {
     "data": {
      "text/plain": [
       "DWE              17402\n",
       "Government        1825\n",
       "RWE               1206\n",
       "Commu             1060\n",
       "DANIDA            1050\n",
       "                 ...  \n",
       "FAO                  1\n",
       "NSSF                 1\n",
       "KAYEMPU LTD          1\n",
       "Indiv                1\n",
       "Idara ya Maji        1\n",
       "Name: installer, Length: 2145, dtype: int64"
      ]
     },
     "execution_count": 19,
     "metadata": {},
     "output_type": "execute_result"
    }
   ],
   "source": [
    "df_training_values['installer'].value_counts()"
   ]
  },
  {
   "cell_type": "code",
   "execution_count": 20,
   "metadata": {},
   "outputs": [
    {
     "data": {
      "text/html": [
       "<div>\n",
       "<style scoped>\n",
       "    .dataframe tbody tr th:only-of-type {\n",
       "        vertical-align: middle;\n",
       "    }\n",
       "\n",
       "    .dataframe tbody tr th {\n",
       "        vertical-align: top;\n",
       "    }\n",
       "\n",
       "    .dataframe thead th {\n",
       "        text-align: right;\n",
       "    }\n",
       "</style>\n",
       "<table border=\"1\" class=\"dataframe\">\n",
       "  <thead>\n",
       "    <tr style=\"text-align: right;\">\n",
       "      <th></th>\n",
       "      <th>id</th>\n",
       "      <th>amount_tsh</th>\n",
       "      <th>date_recorded</th>\n",
       "      <th>funder</th>\n",
       "      <th>gps_height</th>\n",
       "      <th>installer</th>\n",
       "      <th>longitude</th>\n",
       "      <th>latitude</th>\n",
       "      <th>wpt_name</th>\n",
       "      <th>num_private</th>\n",
       "      <th>basin</th>\n",
       "      <th>subvillage</th>\n",
       "      <th>region</th>\n",
       "      <th>region_code</th>\n",
       "      <th>district_code</th>\n",
       "      <th>lga</th>\n",
       "      <th>ward</th>\n",
       "      <th>population</th>\n",
       "      <th>public_meeting</th>\n",
       "      <th>recorded_by</th>\n",
       "      <th>scheme_management</th>\n",
       "      <th>permit</th>\n",
       "      <th>construction_year</th>\n",
       "      <th>extraction_type</th>\n",
       "      <th>extraction_type_group</th>\n",
       "      <th>extraction_type_class</th>\n",
       "      <th>management</th>\n",
       "      <th>management_group</th>\n",
       "      <th>payment</th>\n",
       "      <th>payment_type</th>\n",
       "      <th>water_quality</th>\n",
       "      <th>quality_group</th>\n",
       "      <th>quantity</th>\n",
       "      <th>quantity_group</th>\n",
       "      <th>source</th>\n",
       "      <th>source_type</th>\n",
       "      <th>source_class</th>\n",
       "      <th>waterpoint_type</th>\n",
       "      <th>waterpoint_type_group</th>\n",
       "    </tr>\n",
       "  </thead>\n",
       "  <tbody>\n",
       "    <tr>\n",
       "      <th>34</th>\n",
       "      <td>41583</td>\n",
       "      <td>0.0</td>\n",
       "      <td>2011-02-23</td>\n",
       "      <td>NaN</td>\n",
       "      <td>-41</td>\n",
       "      <td>NaN</td>\n",
       "      <td>39.812912</td>\n",
       "      <td>-7.889986</td>\n",
       "      <td>Msikitini Wa Ijumaa</td>\n",
       "      <td>0</td>\n",
       "      <td>Rufiji</td>\n",
       "      <td>Kilombero B</td>\n",
       "      <td>Pwani</td>\n",
       "      <td>60</td>\n",
       "      <td>63</td>\n",
       "      <td>Mafia</td>\n",
       "      <td>Baleni</td>\n",
       "      <td>100</td>\n",
       "      <td>True</td>\n",
       "      <td>GeoData Consultants Ltd</td>\n",
       "      <td>VWC</td>\n",
       "      <td>False</td>\n",
       "      <td>0</td>\n",
       "      <td>nira/tanira</td>\n",
       "      <td>nira/tanira</td>\n",
       "      <td>handpump</td>\n",
       "      <td>vwc</td>\n",
       "      <td>user-group</td>\n",
       "      <td>never pay</td>\n",
       "      <td>never pay</td>\n",
       "      <td>salty</td>\n",
       "      <td>salty</td>\n",
       "      <td>enough</td>\n",
       "      <td>enough</td>\n",
       "      <td>shallow well</td>\n",
       "      <td>shallow well</td>\n",
       "      <td>groundwater</td>\n",
       "      <td>hand pump</td>\n",
       "      <td>hand pump</td>\n",
       "    </tr>\n",
       "    <tr>\n",
       "      <th>43</th>\n",
       "      <td>19282</td>\n",
       "      <td>0.0</td>\n",
       "      <td>2013-01-15</td>\n",
       "      <td>NaN</td>\n",
       "      <td>1642</td>\n",
       "      <td>NaN</td>\n",
       "      <td>34.967789</td>\n",
       "      <td>-4.628921</td>\n",
       "      <td>Mvae Primary</td>\n",
       "      <td>0</td>\n",
       "      <td>Internal</td>\n",
       "      <td>Mwarufyu</td>\n",
       "      <td>Singida</td>\n",
       "      <td>13</td>\n",
       "      <td>2</td>\n",
       "      <td>Singida Rural</td>\n",
       "      <td>Merya</td>\n",
       "      <td>1</td>\n",
       "      <td>True</td>\n",
       "      <td>GeoData Consultants Ltd</td>\n",
       "      <td>VWC</td>\n",
       "      <td>NaN</td>\n",
       "      <td>1980</td>\n",
       "      <td>mono</td>\n",
       "      <td>mono</td>\n",
       "      <td>motorpump</td>\n",
       "      <td>vwc</td>\n",
       "      <td>user-group</td>\n",
       "      <td>unknown</td>\n",
       "      <td>unknown</td>\n",
       "      <td>unknown</td>\n",
       "      <td>unknown</td>\n",
       "      <td>dry</td>\n",
       "      <td>dry</td>\n",
       "      <td>machine dbh</td>\n",
       "      <td>borehole</td>\n",
       "      <td>groundwater</td>\n",
       "      <td>communal standpipe</td>\n",
       "      <td>communal standpipe</td>\n",
       "    </tr>\n",
       "    <tr>\n",
       "      <th>47</th>\n",
       "      <td>13620</td>\n",
       "      <td>0.0</td>\n",
       "      <td>2011-07-27</td>\n",
       "      <td>NaN</td>\n",
       "      <td>0</td>\n",
       "      <td>NaN</td>\n",
       "      <td>33.540607</td>\n",
       "      <td>-9.172905</td>\n",
       "      <td>Mahakamani</td>\n",
       "      <td>0</td>\n",
       "      <td>Lake Nyasa</td>\n",
       "      <td>Mpandapanda</td>\n",
       "      <td>Mbeya</td>\n",
       "      <td>12</td>\n",
       "      <td>4</td>\n",
       "      <td>Rungwe</td>\n",
       "      <td>Kiwira</td>\n",
       "      <td>0</td>\n",
       "      <td>True</td>\n",
       "      <td>GeoData Consultants Ltd</td>\n",
       "      <td>VWC</td>\n",
       "      <td>NaN</td>\n",
       "      <td>0</td>\n",
       "      <td>gravity</td>\n",
       "      <td>gravity</td>\n",
       "      <td>gravity</td>\n",
       "      <td>vwc</td>\n",
       "      <td>user-group</td>\n",
       "      <td>never pay</td>\n",
       "      <td>never pay</td>\n",
       "      <td>soft</td>\n",
       "      <td>good</td>\n",
       "      <td>enough</td>\n",
       "      <td>enough</td>\n",
       "      <td>spring</td>\n",
       "      <td>spring</td>\n",
       "      <td>groundwater</td>\n",
       "      <td>communal standpipe</td>\n",
       "      <td>communal standpipe</td>\n",
       "    </tr>\n",
       "    <tr>\n",
       "      <th>65</th>\n",
       "      <td>51072</td>\n",
       "      <td>0.0</td>\n",
       "      <td>2013-02-09</td>\n",
       "      <td>NaN</td>\n",
       "      <td>1415</td>\n",
       "      <td>NaN</td>\n",
       "      <td>34.621598</td>\n",
       "      <td>-5.173136</td>\n",
       "      <td>Nyambi</td>\n",
       "      <td>0</td>\n",
       "      <td>Internal</td>\n",
       "      <td>Mfumbu</td>\n",
       "      <td>Singida</td>\n",
       "      <td>13</td>\n",
       "      <td>2</td>\n",
       "      <td>Singida Rural</td>\n",
       "      <td>Naintiri</td>\n",
       "      <td>1</td>\n",
       "      <td>True</td>\n",
       "      <td>GeoData Consultants Ltd</td>\n",
       "      <td>VWC</td>\n",
       "      <td>NaN</td>\n",
       "      <td>1970</td>\n",
       "      <td>mono</td>\n",
       "      <td>mono</td>\n",
       "      <td>motorpump</td>\n",
       "      <td>vwc</td>\n",
       "      <td>user-group</td>\n",
       "      <td>unknown</td>\n",
       "      <td>unknown</td>\n",
       "      <td>unknown</td>\n",
       "      <td>unknown</td>\n",
       "      <td>dry</td>\n",
       "      <td>dry</td>\n",
       "      <td>machine dbh</td>\n",
       "      <td>borehole</td>\n",
       "      <td>groundwater</td>\n",
       "      <td>communal standpipe</td>\n",
       "      <td>communal standpipe</td>\n",
       "    </tr>\n",
       "    <tr>\n",
       "      <th>71</th>\n",
       "      <td>17386</td>\n",
       "      <td>0.0</td>\n",
       "      <td>2011-03-31</td>\n",
       "      <td>NaN</td>\n",
       "      <td>0</td>\n",
       "      <td>NaN</td>\n",
       "      <td>34.462228</td>\n",
       "      <td>-8.575780</td>\n",
       "      <td>Kwa Manyusi Mlilo</td>\n",
       "      <td>0</td>\n",
       "      <td>Rufiji</td>\n",
       "      <td>Lembuka</td>\n",
       "      <td>Mbeya</td>\n",
       "      <td>12</td>\n",
       "      <td>7</td>\n",
       "      <td>Mbarali</td>\n",
       "      <td>Mawindi</td>\n",
       "      <td>0</td>\n",
       "      <td>True</td>\n",
       "      <td>GeoData Consultants Ltd</td>\n",
       "      <td>VWC</td>\n",
       "      <td>False</td>\n",
       "      <td>0</td>\n",
       "      <td>gravity</td>\n",
       "      <td>gravity</td>\n",
       "      <td>gravity</td>\n",
       "      <td>vwc</td>\n",
       "      <td>user-group</td>\n",
       "      <td>never pay</td>\n",
       "      <td>never pay</td>\n",
       "      <td>soft</td>\n",
       "      <td>good</td>\n",
       "      <td>insufficient</td>\n",
       "      <td>insufficient</td>\n",
       "      <td>river</td>\n",
       "      <td>river/lake</td>\n",
       "      <td>surface</td>\n",
       "      <td>communal standpipe</td>\n",
       "      <td>communal standpipe</td>\n",
       "    </tr>\n",
       "    <tr>\n",
       "      <th>...</th>\n",
       "      <td>...</td>\n",
       "      <td>...</td>\n",
       "      <td>...</td>\n",
       "      <td>...</td>\n",
       "      <td>...</td>\n",
       "      <td>...</td>\n",
       "      <td>...</td>\n",
       "      <td>...</td>\n",
       "      <td>...</td>\n",
       "      <td>...</td>\n",
       "      <td>...</td>\n",
       "      <td>...</td>\n",
       "      <td>...</td>\n",
       "      <td>...</td>\n",
       "      <td>...</td>\n",
       "      <td>...</td>\n",
       "      <td>...</td>\n",
       "      <td>...</td>\n",
       "      <td>...</td>\n",
       "      <td>...</td>\n",
       "      <td>...</td>\n",
       "      <td>...</td>\n",
       "      <td>...</td>\n",
       "      <td>...</td>\n",
       "      <td>...</td>\n",
       "      <td>...</td>\n",
       "      <td>...</td>\n",
       "      <td>...</td>\n",
       "      <td>...</td>\n",
       "      <td>...</td>\n",
       "      <td>...</td>\n",
       "      <td>...</td>\n",
       "      <td>...</td>\n",
       "      <td>...</td>\n",
       "      <td>...</td>\n",
       "      <td>...</td>\n",
       "      <td>...</td>\n",
       "      <td>...</td>\n",
       "      <td>...</td>\n",
       "    </tr>\n",
       "    <tr>\n",
       "      <th>59357</th>\n",
       "      <td>46563</td>\n",
       "      <td>0.0</td>\n",
       "      <td>2013-02-19</td>\n",
       "      <td>NaN</td>\n",
       "      <td>1635</td>\n",
       "      <td>NaN</td>\n",
       "      <td>34.971841</td>\n",
       "      <td>-5.098362</td>\n",
       "      <td>Shabani</td>\n",
       "      <td>0</td>\n",
       "      <td>Internal</td>\n",
       "      <td>Mampando A</td>\n",
       "      <td>Singida</td>\n",
       "      <td>13</td>\n",
       "      <td>2</td>\n",
       "      <td>Singida Rural</td>\n",
       "      <td>Ntuntu</td>\n",
       "      <td>1</td>\n",
       "      <td>True</td>\n",
       "      <td>GeoData Consultants Ltd</td>\n",
       "      <td>VWC</td>\n",
       "      <td>NaN</td>\n",
       "      <td>1980</td>\n",
       "      <td>nira/tanira</td>\n",
       "      <td>nira/tanira</td>\n",
       "      <td>handpump</td>\n",
       "      <td>vwc</td>\n",
       "      <td>user-group</td>\n",
       "      <td>unknown</td>\n",
       "      <td>unknown</td>\n",
       "      <td>unknown</td>\n",
       "      <td>unknown</td>\n",
       "      <td>dry</td>\n",
       "      <td>dry</td>\n",
       "      <td>shallow well</td>\n",
       "      <td>shallow well</td>\n",
       "      <td>groundwater</td>\n",
       "      <td>hand pump</td>\n",
       "      <td>hand pump</td>\n",
       "    </tr>\n",
       "    <tr>\n",
       "      <th>59366</th>\n",
       "      <td>55232</td>\n",
       "      <td>0.0</td>\n",
       "      <td>2013-02-02</td>\n",
       "      <td>NaN</td>\n",
       "      <td>1541</td>\n",
       "      <td>NaN</td>\n",
       "      <td>34.765729</td>\n",
       "      <td>-5.027725</td>\n",
       "      <td>Joshoni</td>\n",
       "      <td>0</td>\n",
       "      <td>Internal</td>\n",
       "      <td>Mungumaho</td>\n",
       "      <td>Singida</td>\n",
       "      <td>13</td>\n",
       "      <td>2</td>\n",
       "      <td>Singida Rural</td>\n",
       "      <td>Puma</td>\n",
       "      <td>200</td>\n",
       "      <td>True</td>\n",
       "      <td>GeoData Consultants Ltd</td>\n",
       "      <td>VWC</td>\n",
       "      <td>NaN</td>\n",
       "      <td>2000</td>\n",
       "      <td>nira/tanira</td>\n",
       "      <td>nira/tanira</td>\n",
       "      <td>handpump</td>\n",
       "      <td>vwc</td>\n",
       "      <td>user-group</td>\n",
       "      <td>never pay</td>\n",
       "      <td>never pay</td>\n",
       "      <td>soft</td>\n",
       "      <td>good</td>\n",
       "      <td>insufficient</td>\n",
       "      <td>insufficient</td>\n",
       "      <td>shallow well</td>\n",
       "      <td>shallow well</td>\n",
       "      <td>groundwater</td>\n",
       "      <td>hand pump</td>\n",
       "      <td>hand pump</td>\n",
       "    </tr>\n",
       "    <tr>\n",
       "      <th>59370</th>\n",
       "      <td>14796</td>\n",
       "      <td>200.0</td>\n",
       "      <td>2013-01-29</td>\n",
       "      <td>NaN</td>\n",
       "      <td>1154</td>\n",
       "      <td>NaN</td>\n",
       "      <td>30.058731</td>\n",
       "      <td>-4.902633</td>\n",
       "      <td>Village Office</td>\n",
       "      <td>0</td>\n",
       "      <td>Lake Tanganyika</td>\n",
       "      <td>Mazungwe</td>\n",
       "      <td>Kigoma</td>\n",
       "      <td>16</td>\n",
       "      <td>2</td>\n",
       "      <td>Kasulu</td>\n",
       "      <td>Rusesa</td>\n",
       "      <td>1</td>\n",
       "      <td>True</td>\n",
       "      <td>GeoData Consultants Ltd</td>\n",
       "      <td>NaN</td>\n",
       "      <td>False</td>\n",
       "      <td>0</td>\n",
       "      <td>other</td>\n",
       "      <td>other</td>\n",
       "      <td>other</td>\n",
       "      <td>unknown</td>\n",
       "      <td>unknown</td>\n",
       "      <td>pay monthly</td>\n",
       "      <td>monthly</td>\n",
       "      <td>unknown</td>\n",
       "      <td>unknown</td>\n",
       "      <td>unknown</td>\n",
       "      <td>unknown</td>\n",
       "      <td>unknown</td>\n",
       "      <td>other</td>\n",
       "      <td>unknown</td>\n",
       "      <td>other</td>\n",
       "      <td>other</td>\n",
       "    </tr>\n",
       "    <tr>\n",
       "      <th>59376</th>\n",
       "      <td>34716</td>\n",
       "      <td>0.0</td>\n",
       "      <td>2013-02-03</td>\n",
       "      <td>NaN</td>\n",
       "      <td>1581</td>\n",
       "      <td>NaN</td>\n",
       "      <td>34.821039</td>\n",
       "      <td>-5.076258</td>\n",
       "      <td>Nasingo</td>\n",
       "      <td>0</td>\n",
       "      <td>Internal</td>\n",
       "      <td>Hu</td>\n",
       "      <td>Singida</td>\n",
       "      <td>13</td>\n",
       "      <td>2</td>\n",
       "      <td>Singida Rural</td>\n",
       "      <td>Dung'unyi</td>\n",
       "      <td>1</td>\n",
       "      <td>True</td>\n",
       "      <td>GeoData Consultants Ltd</td>\n",
       "      <td>VWC</td>\n",
       "      <td>NaN</td>\n",
       "      <td>1990</td>\n",
       "      <td>other</td>\n",
       "      <td>other</td>\n",
       "      <td>other</td>\n",
       "      <td>vwc</td>\n",
       "      <td>user-group</td>\n",
       "      <td>unknown</td>\n",
       "      <td>unknown</td>\n",
       "      <td>unknown</td>\n",
       "      <td>unknown</td>\n",
       "      <td>dry</td>\n",
       "      <td>dry</td>\n",
       "      <td>shallow well</td>\n",
       "      <td>shallow well</td>\n",
       "      <td>groundwater</td>\n",
       "      <td>other</td>\n",
       "      <td>other</td>\n",
       "    </tr>\n",
       "    <tr>\n",
       "      <th>59397</th>\n",
       "      <td>37057</td>\n",
       "      <td>0.0</td>\n",
       "      <td>2011-04-11</td>\n",
       "      <td>NaN</td>\n",
       "      <td>0</td>\n",
       "      <td>NaN</td>\n",
       "      <td>34.017087</td>\n",
       "      <td>-8.750434</td>\n",
       "      <td>Mashine</td>\n",
       "      <td>0</td>\n",
       "      <td>Rufiji</td>\n",
       "      <td>Madungulu</td>\n",
       "      <td>Mbeya</td>\n",
       "      <td>12</td>\n",
       "      <td>7</td>\n",
       "      <td>Mbarali</td>\n",
       "      <td>Chimala</td>\n",
       "      <td>0</td>\n",
       "      <td>True</td>\n",
       "      <td>GeoData Consultants Ltd</td>\n",
       "      <td>VWC</td>\n",
       "      <td>False</td>\n",
       "      <td>0</td>\n",
       "      <td>swn 80</td>\n",
       "      <td>swn 80</td>\n",
       "      <td>handpump</td>\n",
       "      <td>vwc</td>\n",
       "      <td>user-group</td>\n",
       "      <td>pay monthly</td>\n",
       "      <td>monthly</td>\n",
       "      <td>fluoride</td>\n",
       "      <td>fluoride</td>\n",
       "      <td>enough</td>\n",
       "      <td>enough</td>\n",
       "      <td>machine dbh</td>\n",
       "      <td>borehole</td>\n",
       "      <td>groundwater</td>\n",
       "      <td>hand pump</td>\n",
       "      <td>hand pump</td>\n",
       "    </tr>\n",
       "  </tbody>\n",
       "</table>\n",
       "<p>3655 rows × 39 columns</p>\n",
       "</div>"
      ],
      "text/plain": [
       "          id  amount_tsh date_recorded funder  gps_height installer  \\\n",
       "34     41583         0.0    2011-02-23    NaN         -41       NaN   \n",
       "43     19282         0.0    2013-01-15    NaN        1642       NaN   \n",
       "47     13620         0.0    2011-07-27    NaN           0       NaN   \n",
       "65     51072         0.0    2013-02-09    NaN        1415       NaN   \n",
       "71     17386         0.0    2011-03-31    NaN           0       NaN   \n",
       "...      ...         ...           ...    ...         ...       ...   \n",
       "59357  46563         0.0    2013-02-19    NaN        1635       NaN   \n",
       "59366  55232         0.0    2013-02-02    NaN        1541       NaN   \n",
       "59370  14796       200.0    2013-01-29    NaN        1154       NaN   \n",
       "59376  34716         0.0    2013-02-03    NaN        1581       NaN   \n",
       "59397  37057         0.0    2011-04-11    NaN           0       NaN   \n",
       "\n",
       "       longitude  latitude             wpt_name  num_private            basin  \\\n",
       "34     39.812912 -7.889986  Msikitini Wa Ijumaa            0           Rufiji   \n",
       "43     34.967789 -4.628921         Mvae Primary            0         Internal   \n",
       "47     33.540607 -9.172905           Mahakamani            0       Lake Nyasa   \n",
       "65     34.621598 -5.173136               Nyambi            0         Internal   \n",
       "71     34.462228 -8.575780    Kwa Manyusi Mlilo            0           Rufiji   \n",
       "...          ...       ...                  ...          ...              ...   \n",
       "59357  34.971841 -5.098362              Shabani            0         Internal   \n",
       "59366  34.765729 -5.027725              Joshoni            0         Internal   \n",
       "59370  30.058731 -4.902633       Village Office            0  Lake Tanganyika   \n",
       "59376  34.821039 -5.076258              Nasingo            0         Internal   \n",
       "59397  34.017087 -8.750434              Mashine            0           Rufiji   \n",
       "\n",
       "        subvillage   region  region_code  district_code            lga  \\\n",
       "34     Kilombero B    Pwani           60             63          Mafia   \n",
       "43        Mwarufyu  Singida           13              2  Singida Rural   \n",
       "47     Mpandapanda    Mbeya           12              4         Rungwe   \n",
       "65          Mfumbu  Singida           13              2  Singida Rural   \n",
       "71         Lembuka    Mbeya           12              7        Mbarali   \n",
       "...            ...      ...          ...            ...            ...   \n",
       "59357   Mampando A  Singida           13              2  Singida Rural   \n",
       "59366    Mungumaho  Singida           13              2  Singida Rural   \n",
       "59370     Mazungwe   Kigoma           16              2         Kasulu   \n",
       "59376           Hu  Singida           13              2  Singida Rural   \n",
       "59397    Madungulu    Mbeya           12              7        Mbarali   \n",
       "\n",
       "            ward  population public_meeting              recorded_by  \\\n",
       "34        Baleni         100           True  GeoData Consultants Ltd   \n",
       "43         Merya           1           True  GeoData Consultants Ltd   \n",
       "47        Kiwira           0           True  GeoData Consultants Ltd   \n",
       "65      Naintiri           1           True  GeoData Consultants Ltd   \n",
       "71       Mawindi           0           True  GeoData Consultants Ltd   \n",
       "...          ...         ...            ...                      ...   \n",
       "59357     Ntuntu           1           True  GeoData Consultants Ltd   \n",
       "59366       Puma         200           True  GeoData Consultants Ltd   \n",
       "59370     Rusesa           1           True  GeoData Consultants Ltd   \n",
       "59376  Dung'unyi           1           True  GeoData Consultants Ltd   \n",
       "59397    Chimala           0           True  GeoData Consultants Ltd   \n",
       "\n",
       "      scheme_management permit  construction_year extraction_type  \\\n",
       "34                  VWC  False                  0     nira/tanira   \n",
       "43                  VWC    NaN               1980            mono   \n",
       "47                  VWC    NaN                  0         gravity   \n",
       "65                  VWC    NaN               1970            mono   \n",
       "71                  VWC  False                  0         gravity   \n",
       "...                 ...    ...                ...             ...   \n",
       "59357               VWC    NaN               1980     nira/tanira   \n",
       "59366               VWC    NaN               2000     nira/tanira   \n",
       "59370               NaN  False                  0           other   \n",
       "59376               VWC    NaN               1990           other   \n",
       "59397               VWC  False                  0          swn 80   \n",
       "\n",
       "      extraction_type_group extraction_type_class management management_group  \\\n",
       "34              nira/tanira              handpump        vwc       user-group   \n",
       "43                     mono             motorpump        vwc       user-group   \n",
       "47                  gravity               gravity        vwc       user-group   \n",
       "65                     mono             motorpump        vwc       user-group   \n",
       "71                  gravity               gravity        vwc       user-group   \n",
       "...                     ...                   ...        ...              ...   \n",
       "59357           nira/tanira              handpump        vwc       user-group   \n",
       "59366           nira/tanira              handpump        vwc       user-group   \n",
       "59370                 other                 other    unknown          unknown   \n",
       "59376                 other                 other        vwc       user-group   \n",
       "59397                swn 80              handpump        vwc       user-group   \n",
       "\n",
       "           payment payment_type water_quality quality_group      quantity  \\\n",
       "34       never pay    never pay         salty         salty        enough   \n",
       "43         unknown      unknown       unknown       unknown           dry   \n",
       "47       never pay    never pay          soft          good        enough   \n",
       "65         unknown      unknown       unknown       unknown           dry   \n",
       "71       never pay    never pay          soft          good  insufficient   \n",
       "...            ...          ...           ...           ...           ...   \n",
       "59357      unknown      unknown       unknown       unknown           dry   \n",
       "59366    never pay    never pay          soft          good  insufficient   \n",
       "59370  pay monthly      monthly       unknown       unknown       unknown   \n",
       "59376      unknown      unknown       unknown       unknown           dry   \n",
       "59397  pay monthly      monthly      fluoride      fluoride        enough   \n",
       "\n",
       "      quantity_group        source   source_type source_class  \\\n",
       "34            enough  shallow well  shallow well  groundwater   \n",
       "43               dry   machine dbh      borehole  groundwater   \n",
       "47            enough        spring        spring  groundwater   \n",
       "65               dry   machine dbh      borehole  groundwater   \n",
       "71      insufficient         river    river/lake      surface   \n",
       "...              ...           ...           ...          ...   \n",
       "59357            dry  shallow well  shallow well  groundwater   \n",
       "59366   insufficient  shallow well  shallow well  groundwater   \n",
       "59370        unknown       unknown         other      unknown   \n",
       "59376            dry  shallow well  shallow well  groundwater   \n",
       "59397         enough   machine dbh      borehole  groundwater   \n",
       "\n",
       "          waterpoint_type waterpoint_type_group  \n",
       "34              hand pump             hand pump  \n",
       "43     communal standpipe    communal standpipe  \n",
       "47     communal standpipe    communal standpipe  \n",
       "65     communal standpipe    communal standpipe  \n",
       "71     communal standpipe    communal standpipe  \n",
       "...                   ...                   ...  \n",
       "59357           hand pump             hand pump  \n",
       "59366           hand pump             hand pump  \n",
       "59370               other                 other  \n",
       "59376               other                 other  \n",
       "59397           hand pump             hand pump  \n",
       "\n",
       "[3655 rows x 39 columns]"
      ]
     },
     "execution_count": 20,
     "metadata": {},
     "output_type": "execute_result"
    }
   ],
   "source": [
    "df_training_values[df_training_values['installer'].isna()]"
   ]
  },
  {
   "cell_type": "code",
   "execution_count": 21,
   "metadata": {},
   "outputs": [
    {
     "data": {
      "text/plain": [
       "Madukani     508\n",
       "Shuleni      506\n",
       "Majengo      502\n",
       "Kati         373\n",
       "Mtakuja      262\n",
       "            ... \n",
       "Kwamagoda      1\n",
       "Ibenga         1\n",
       "Lushewa        1\n",
       "Ndida          1\n",
       "Mkalela        1\n",
       "Name: subvillage, Length: 19287, dtype: int64"
      ]
     },
     "execution_count": 21,
     "metadata": {},
     "output_type": "execute_result"
    }
   ],
   "source": [
    "df_training_values['subvillage'].value_counts()"
   ]
  },
  {
   "cell_type": "code",
   "execution_count": 22,
   "metadata": {},
   "outputs": [
    {
     "data": {
      "text/plain": [
       "0        False\n",
       "1        False\n",
       "2        False\n",
       "3        False\n",
       "4        False\n",
       "         ...  \n",
       "59395    False\n",
       "59396    False\n",
       "59397    False\n",
       "59398    False\n",
       "59399    False\n",
       "Name: subvillage, Length: 59400, dtype: bool"
      ]
     },
     "execution_count": 22,
     "metadata": {},
     "output_type": "execute_result"
    }
   ],
   "source": [
    "df_training_values['subvillage'].isna()"
   ]
  },
  {
   "cell_type": "code",
   "execution_count": 23,
   "metadata": {},
   "outputs": [
    {
     "data": {
      "text/plain": [
       "True     51011\n",
       "False     5055\n",
       "Name: public_meeting, dtype: int64"
      ]
     },
     "execution_count": 23,
     "metadata": {},
     "output_type": "execute_result"
    }
   ],
   "source": [
    "df_training_values['public_meeting'].value_counts()"
   ]
  },
  {
   "cell_type": "code",
   "execution_count": 24,
   "metadata": {},
   "outputs": [
    {
     "data": {
      "text/html": [
       "<div>\n",
       "<style scoped>\n",
       "    .dataframe tbody tr th:only-of-type {\n",
       "        vertical-align: middle;\n",
       "    }\n",
       "\n",
       "    .dataframe tbody tr th {\n",
       "        vertical-align: top;\n",
       "    }\n",
       "\n",
       "    .dataframe thead th {\n",
       "        text-align: right;\n",
       "    }\n",
       "</style>\n",
       "<table border=\"1\" class=\"dataframe\">\n",
       "  <thead>\n",
       "    <tr style=\"text-align: right;\">\n",
       "      <th></th>\n",
       "      <th>id</th>\n",
       "      <th>amount_tsh</th>\n",
       "      <th>date_recorded</th>\n",
       "      <th>funder</th>\n",
       "      <th>gps_height</th>\n",
       "      <th>installer</th>\n",
       "      <th>longitude</th>\n",
       "      <th>latitude</th>\n",
       "      <th>wpt_name</th>\n",
       "      <th>num_private</th>\n",
       "      <th>basin</th>\n",
       "      <th>subvillage</th>\n",
       "      <th>region</th>\n",
       "      <th>region_code</th>\n",
       "      <th>district_code</th>\n",
       "      <th>lga</th>\n",
       "      <th>ward</th>\n",
       "      <th>population</th>\n",
       "      <th>public_meeting</th>\n",
       "      <th>recorded_by</th>\n",
       "      <th>scheme_management</th>\n",
       "      <th>permit</th>\n",
       "      <th>construction_year</th>\n",
       "      <th>extraction_type</th>\n",
       "      <th>extraction_type_group</th>\n",
       "      <th>extraction_type_class</th>\n",
       "      <th>management</th>\n",
       "      <th>management_group</th>\n",
       "      <th>payment</th>\n",
       "      <th>payment_type</th>\n",
       "      <th>water_quality</th>\n",
       "      <th>quality_group</th>\n",
       "      <th>quantity</th>\n",
       "      <th>quantity_group</th>\n",
       "      <th>source</th>\n",
       "      <th>source_type</th>\n",
       "      <th>source_class</th>\n",
       "      <th>waterpoint_type</th>\n",
       "      <th>waterpoint_type_group</th>\n",
       "    </tr>\n",
       "  </thead>\n",
       "  <tbody>\n",
       "    <tr>\n",
       "      <th>1</th>\n",
       "      <td>8776</td>\n",
       "      <td>0.0</td>\n",
       "      <td>2013-03-06</td>\n",
       "      <td>Grumeti</td>\n",
       "      <td>1399</td>\n",
       "      <td>GRUMETI</td>\n",
       "      <td>34.698766</td>\n",
       "      <td>-2.147466e+00</td>\n",
       "      <td>Zahanati</td>\n",
       "      <td>0</td>\n",
       "      <td>Lake Victoria</td>\n",
       "      <td>Nyamara</td>\n",
       "      <td>Mara</td>\n",
       "      <td>20</td>\n",
       "      <td>2</td>\n",
       "      <td>Serengeti</td>\n",
       "      <td>Natta</td>\n",
       "      <td>280</td>\n",
       "      <td>NaN</td>\n",
       "      <td>GeoData Consultants Ltd</td>\n",
       "      <td>Other</td>\n",
       "      <td>True</td>\n",
       "      <td>2010</td>\n",
       "      <td>gravity</td>\n",
       "      <td>gravity</td>\n",
       "      <td>gravity</td>\n",
       "      <td>wug</td>\n",
       "      <td>user-group</td>\n",
       "      <td>never pay</td>\n",
       "      <td>never pay</td>\n",
       "      <td>soft</td>\n",
       "      <td>good</td>\n",
       "      <td>insufficient</td>\n",
       "      <td>insufficient</td>\n",
       "      <td>rainwater harvesting</td>\n",
       "      <td>rainwater harvesting</td>\n",
       "      <td>surface</td>\n",
       "      <td>communal standpipe</td>\n",
       "      <td>communal standpipe</td>\n",
       "    </tr>\n",
       "    <tr>\n",
       "      <th>18</th>\n",
       "      <td>34169</td>\n",
       "      <td>0.0</td>\n",
       "      <td>2011-07-22</td>\n",
       "      <td>Hesawa</td>\n",
       "      <td>1162</td>\n",
       "      <td>DWE</td>\n",
       "      <td>32.920154</td>\n",
       "      <td>-1.947868e+00</td>\n",
       "      <td>Ngomee</td>\n",
       "      <td>0</td>\n",
       "      <td>Lake Victoria</td>\n",
       "      <td>Center</td>\n",
       "      <td>Mwanza</td>\n",
       "      <td>19</td>\n",
       "      <td>1</td>\n",
       "      <td>Ukerewe</td>\n",
       "      <td>Ilangala</td>\n",
       "      <td>1000</td>\n",
       "      <td>NaN</td>\n",
       "      <td>GeoData Consultants Ltd</td>\n",
       "      <td>NaN</td>\n",
       "      <td>True</td>\n",
       "      <td>1999</td>\n",
       "      <td>other</td>\n",
       "      <td>other</td>\n",
       "      <td>other</td>\n",
       "      <td>vwc</td>\n",
       "      <td>user-group</td>\n",
       "      <td>never pay</td>\n",
       "      <td>never pay</td>\n",
       "      <td>milky</td>\n",
       "      <td>milky</td>\n",
       "      <td>insufficient</td>\n",
       "      <td>insufficient</td>\n",
       "      <td>spring</td>\n",
       "      <td>spring</td>\n",
       "      <td>groundwater</td>\n",
       "      <td>other</td>\n",
       "      <td>other</td>\n",
       "    </tr>\n",
       "    <tr>\n",
       "      <th>21</th>\n",
       "      <td>6091</td>\n",
       "      <td>0.0</td>\n",
       "      <td>2013-02-10</td>\n",
       "      <td>Dwsp</td>\n",
       "      <td>0</td>\n",
       "      <td>DWE</td>\n",
       "      <td>0.000000</td>\n",
       "      <td>-2.000000e-08</td>\n",
       "      <td>Muungano</td>\n",
       "      <td>0</td>\n",
       "      <td>Lake Victoria</td>\n",
       "      <td>Ibabachegu</td>\n",
       "      <td>Shinyanga</td>\n",
       "      <td>17</td>\n",
       "      <td>1</td>\n",
       "      <td>Bariadi</td>\n",
       "      <td>Ikungulyabashashi</td>\n",
       "      <td>0</td>\n",
       "      <td>NaN</td>\n",
       "      <td>GeoData Consultants Ltd</td>\n",
       "      <td>WUG</td>\n",
       "      <td>False</td>\n",
       "      <td>0</td>\n",
       "      <td>swn 80</td>\n",
       "      <td>swn 80</td>\n",
       "      <td>handpump</td>\n",
       "      <td>wug</td>\n",
       "      <td>user-group</td>\n",
       "      <td>unknown</td>\n",
       "      <td>unknown</td>\n",
       "      <td>unknown</td>\n",
       "      <td>unknown</td>\n",
       "      <td>unknown</td>\n",
       "      <td>unknown</td>\n",
       "      <td>shallow well</td>\n",
       "      <td>shallow well</td>\n",
       "      <td>groundwater</td>\n",
       "      <td>hand pump</td>\n",
       "      <td>hand pump</td>\n",
       "    </tr>\n",
       "    <tr>\n",
       "      <th>58</th>\n",
       "      <td>24593</td>\n",
       "      <td>0.0</td>\n",
       "      <td>2013-01-22</td>\n",
       "      <td>Kkkt</td>\n",
       "      <td>1703</td>\n",
       "      <td>KKKT</td>\n",
       "      <td>35.561346</td>\n",
       "      <td>-3.806879e+00</td>\n",
       "      <td>Kwa Iyora Mgirigisi</td>\n",
       "      <td>0</td>\n",
       "      <td>Internal</td>\n",
       "      <td>Ants B</td>\n",
       "      <td>Manyara</td>\n",
       "      <td>21</td>\n",
       "      <td>3</td>\n",
       "      <td>Mbulu</td>\n",
       "      <td>Bargish</td>\n",
       "      <td>456</td>\n",
       "      <td>NaN</td>\n",
       "      <td>GeoData Consultants Ltd</td>\n",
       "      <td>WUG</td>\n",
       "      <td>True</td>\n",
       "      <td>2000</td>\n",
       "      <td>nira/tanira</td>\n",
       "      <td>nira/tanira</td>\n",
       "      <td>handpump</td>\n",
       "      <td>wug</td>\n",
       "      <td>user-group</td>\n",
       "      <td>never pay</td>\n",
       "      <td>never pay</td>\n",
       "      <td>soft</td>\n",
       "      <td>good</td>\n",
       "      <td>enough</td>\n",
       "      <td>enough</td>\n",
       "      <td>shallow well</td>\n",
       "      <td>shallow well</td>\n",
       "      <td>groundwater</td>\n",
       "      <td>hand pump</td>\n",
       "      <td>hand pump</td>\n",
       "    </tr>\n",
       "    <tr>\n",
       "      <th>73</th>\n",
       "      <td>35715</td>\n",
       "      <td>0.0</td>\n",
       "      <td>2013-02-27</td>\n",
       "      <td>Hesawa</td>\n",
       "      <td>1565</td>\n",
       "      <td>HESAWA</td>\n",
       "      <td>34.657034</td>\n",
       "      <td>-1.888020e+00</td>\n",
       "      <td>Machumbe</td>\n",
       "      <td>0</td>\n",
       "      <td>Lake Victoria</td>\n",
       "      <td>Mtakuja</td>\n",
       "      <td>Mara</td>\n",
       "      <td>20</td>\n",
       "      <td>2</td>\n",
       "      <td>Serengeti</td>\n",
       "      <td>Manchira</td>\n",
       "      <td>200</td>\n",
       "      <td>NaN</td>\n",
       "      <td>GeoData Consultants Ltd</td>\n",
       "      <td>Other</td>\n",
       "      <td>True</td>\n",
       "      <td>1991</td>\n",
       "      <td>nira/tanira</td>\n",
       "      <td>nira/tanira</td>\n",
       "      <td>handpump</td>\n",
       "      <td>wug</td>\n",
       "      <td>user-group</td>\n",
       "      <td>other</td>\n",
       "      <td>other</td>\n",
       "      <td>soft</td>\n",
       "      <td>good</td>\n",
       "      <td>insufficient</td>\n",
       "      <td>insufficient</td>\n",
       "      <td>shallow well</td>\n",
       "      <td>shallow well</td>\n",
       "      <td>groundwater</td>\n",
       "      <td>hand pump</td>\n",
       "      <td>hand pump</td>\n",
       "    </tr>\n",
       "    <tr>\n",
       "      <th>...</th>\n",
       "      <td>...</td>\n",
       "      <td>...</td>\n",
       "      <td>...</td>\n",
       "      <td>...</td>\n",
       "      <td>...</td>\n",
       "      <td>...</td>\n",
       "      <td>...</td>\n",
       "      <td>...</td>\n",
       "      <td>...</td>\n",
       "      <td>...</td>\n",
       "      <td>...</td>\n",
       "      <td>...</td>\n",
       "      <td>...</td>\n",
       "      <td>...</td>\n",
       "      <td>...</td>\n",
       "      <td>...</td>\n",
       "      <td>...</td>\n",
       "      <td>...</td>\n",
       "      <td>...</td>\n",
       "      <td>...</td>\n",
       "      <td>...</td>\n",
       "      <td>...</td>\n",
       "      <td>...</td>\n",
       "      <td>...</td>\n",
       "      <td>...</td>\n",
       "      <td>...</td>\n",
       "      <td>...</td>\n",
       "      <td>...</td>\n",
       "      <td>...</td>\n",
       "      <td>...</td>\n",
       "      <td>...</td>\n",
       "      <td>...</td>\n",
       "      <td>...</td>\n",
       "      <td>...</td>\n",
       "      <td>...</td>\n",
       "      <td>...</td>\n",
       "      <td>...</td>\n",
       "      <td>...</td>\n",
       "      <td>...</td>\n",
       "    </tr>\n",
       "    <tr>\n",
       "      <th>59306</th>\n",
       "      <td>71419</td>\n",
       "      <td>0.0</td>\n",
       "      <td>2013-01-16</td>\n",
       "      <td>Cocern</td>\n",
       "      <td>1296</td>\n",
       "      <td>TWESA</td>\n",
       "      <td>30.930385</td>\n",
       "      <td>-3.300592e+00</td>\n",
       "      <td>Kwa Mhunda</td>\n",
       "      <td>0</td>\n",
       "      <td>Lake Tanganyika</td>\n",
       "      <td>Nguvu Kazi A</td>\n",
       "      <td>Kigoma</td>\n",
       "      <td>16</td>\n",
       "      <td>1</td>\n",
       "      <td>Kibondo</td>\n",
       "      <td>Kakonko</td>\n",
       "      <td>1</td>\n",
       "      <td>NaN</td>\n",
       "      <td>GeoData Consultants Ltd</td>\n",
       "      <td>NaN</td>\n",
       "      <td>False</td>\n",
       "      <td>2013</td>\n",
       "      <td>gravity</td>\n",
       "      <td>gravity</td>\n",
       "      <td>gravity</td>\n",
       "      <td>unknown</td>\n",
       "      <td>unknown</td>\n",
       "      <td>unknown</td>\n",
       "      <td>unknown</td>\n",
       "      <td>unknown</td>\n",
       "      <td>unknown</td>\n",
       "      <td>unknown</td>\n",
       "      <td>unknown</td>\n",
       "      <td>spring</td>\n",
       "      <td>spring</td>\n",
       "      <td>groundwater</td>\n",
       "      <td>improved spring</td>\n",
       "      <td>improved spring</td>\n",
       "    </tr>\n",
       "    <tr>\n",
       "      <th>59310</th>\n",
       "      <td>32815</td>\n",
       "      <td>0.0</td>\n",
       "      <td>2013-04-04</td>\n",
       "      <td>Tasaf</td>\n",
       "      <td>892</td>\n",
       "      <td>TASAF</td>\n",
       "      <td>37.744090</td>\n",
       "      <td>-4.062296e+00</td>\n",
       "      <td>Ward Office</td>\n",
       "      <td>0</td>\n",
       "      <td>Pangani</td>\n",
       "      <td>Same</td>\n",
       "      <td>Kilimanjaro</td>\n",
       "      <td>3</td>\n",
       "      <td>3</td>\n",
       "      <td>Same</td>\n",
       "      <td>Same Urban</td>\n",
       "      <td>65</td>\n",
       "      <td>NaN</td>\n",
       "      <td>GeoData Consultants Ltd</td>\n",
       "      <td>NaN</td>\n",
       "      <td>NaN</td>\n",
       "      <td>0</td>\n",
       "      <td>other</td>\n",
       "      <td>other</td>\n",
       "      <td>other</td>\n",
       "      <td>unknown</td>\n",
       "      <td>unknown</td>\n",
       "      <td>unknown</td>\n",
       "      <td>unknown</td>\n",
       "      <td>unknown</td>\n",
       "      <td>unknown</td>\n",
       "      <td>unknown</td>\n",
       "      <td>unknown</td>\n",
       "      <td>unknown</td>\n",
       "      <td>other</td>\n",
       "      <td>unknown</td>\n",
       "      <td>other</td>\n",
       "      <td>other</td>\n",
       "    </tr>\n",
       "    <tr>\n",
       "      <th>59324</th>\n",
       "      <td>748</td>\n",
       "      <td>0.0</td>\n",
       "      <td>2013-01-22</td>\n",
       "      <td>World Vision</td>\n",
       "      <td>0</td>\n",
       "      <td>World Vision</td>\n",
       "      <td>0.000000</td>\n",
       "      <td>-2.000000e-08</td>\n",
       "      <td>Mwazwilo</td>\n",
       "      <td>0</td>\n",
       "      <td>Lake Victoria</td>\n",
       "      <td>Mbita</td>\n",
       "      <td>Shinyanga</td>\n",
       "      <td>17</td>\n",
       "      <td>1</td>\n",
       "      <td>Bariadi</td>\n",
       "      <td>Mbita</td>\n",
       "      <td>0</td>\n",
       "      <td>NaN</td>\n",
       "      <td>GeoData Consultants Ltd</td>\n",
       "      <td>WUG</td>\n",
       "      <td>False</td>\n",
       "      <td>0</td>\n",
       "      <td>nira/tanira</td>\n",
       "      <td>nira/tanira</td>\n",
       "      <td>handpump</td>\n",
       "      <td>wug</td>\n",
       "      <td>user-group</td>\n",
       "      <td>unknown</td>\n",
       "      <td>unknown</td>\n",
       "      <td>soft</td>\n",
       "      <td>good</td>\n",
       "      <td>enough</td>\n",
       "      <td>enough</td>\n",
       "      <td>shallow well</td>\n",
       "      <td>shallow well</td>\n",
       "      <td>groundwater</td>\n",
       "      <td>hand pump</td>\n",
       "      <td>hand pump</td>\n",
       "    </tr>\n",
       "    <tr>\n",
       "      <th>59344</th>\n",
       "      <td>6450</td>\n",
       "      <td>0.0</td>\n",
       "      <td>2013-10-03</td>\n",
       "      <td>NaN</td>\n",
       "      <td>1303</td>\n",
       "      <td>NaN</td>\n",
       "      <td>36.900911</td>\n",
       "      <td>-3.111477e+00</td>\n",
       "      <td>Pentecoste Swidish</td>\n",
       "      <td>0</td>\n",
       "      <td>Internal</td>\n",
       "      <td>Madukani</td>\n",
       "      <td>Arusha</td>\n",
       "      <td>2</td>\n",
       "      <td>7</td>\n",
       "      <td>Meru</td>\n",
       "      <td>Ngarenanyuki</td>\n",
       "      <td>230</td>\n",
       "      <td>NaN</td>\n",
       "      <td>GeoData Consultants Ltd</td>\n",
       "      <td>NaN</td>\n",
       "      <td>NaN</td>\n",
       "      <td>0</td>\n",
       "      <td>gravity</td>\n",
       "      <td>gravity</td>\n",
       "      <td>gravity</td>\n",
       "      <td>unknown</td>\n",
       "      <td>unknown</td>\n",
       "      <td>unknown</td>\n",
       "      <td>unknown</td>\n",
       "      <td>unknown</td>\n",
       "      <td>unknown</td>\n",
       "      <td>unknown</td>\n",
       "      <td>unknown</td>\n",
       "      <td>spring</td>\n",
       "      <td>spring</td>\n",
       "      <td>groundwater</td>\n",
       "      <td>communal standpipe</td>\n",
       "      <td>communal standpipe</td>\n",
       "    </tr>\n",
       "    <tr>\n",
       "      <th>59387</th>\n",
       "      <td>26640</td>\n",
       "      <td>100.0</td>\n",
       "      <td>2013-03-12</td>\n",
       "      <td>0</td>\n",
       "      <td>25</td>\n",
       "      <td>0</td>\n",
       "      <td>39.176480</td>\n",
       "      <td>-6.957098e+00</td>\n",
       "      <td>Kwa Maliba</td>\n",
       "      <td>0</td>\n",
       "      <td>Wami / Ruvu</td>\n",
       "      <td>Mtaa Wa Yangeyange</td>\n",
       "      <td>Dar es Salaam</td>\n",
       "      <td>7</td>\n",
       "      <td>2</td>\n",
       "      <td>Ilala</td>\n",
       "      <td>Msongola</td>\n",
       "      <td>100</td>\n",
       "      <td>NaN</td>\n",
       "      <td>GeoData Consultants Ltd</td>\n",
       "      <td>WUA</td>\n",
       "      <td>False</td>\n",
       "      <td>2000</td>\n",
       "      <td>submersible</td>\n",
       "      <td>submersible</td>\n",
       "      <td>submersible</td>\n",
       "      <td>wua</td>\n",
       "      <td>user-group</td>\n",
       "      <td>pay per bucket</td>\n",
       "      <td>per bucket</td>\n",
       "      <td>soft</td>\n",
       "      <td>good</td>\n",
       "      <td>enough</td>\n",
       "      <td>enough</td>\n",
       "      <td>machine dbh</td>\n",
       "      <td>borehole</td>\n",
       "      <td>groundwater</td>\n",
       "      <td>communal standpipe</td>\n",
       "      <td>communal standpipe</td>\n",
       "    </tr>\n",
       "  </tbody>\n",
       "</table>\n",
       "<p>3334 rows × 39 columns</p>\n",
       "</div>"
      ],
      "text/plain": [
       "          id  amount_tsh date_recorded        funder  gps_height  \\\n",
       "1       8776         0.0    2013-03-06       Grumeti        1399   \n",
       "18     34169         0.0    2011-07-22        Hesawa        1162   \n",
       "21      6091         0.0    2013-02-10          Dwsp           0   \n",
       "58     24593         0.0    2013-01-22          Kkkt        1703   \n",
       "73     35715         0.0    2013-02-27        Hesawa        1565   \n",
       "...      ...         ...           ...           ...         ...   \n",
       "59306  71419         0.0    2013-01-16        Cocern        1296   \n",
       "59310  32815         0.0    2013-04-04         Tasaf         892   \n",
       "59324    748         0.0    2013-01-22  World Vision           0   \n",
       "59344   6450         0.0    2013-10-03           NaN        1303   \n",
       "59387  26640       100.0    2013-03-12             0          25   \n",
       "\n",
       "          installer  longitude      latitude             wpt_name  \\\n",
       "1           GRUMETI  34.698766 -2.147466e+00             Zahanati   \n",
       "18              DWE  32.920154 -1.947868e+00               Ngomee   \n",
       "21              DWE   0.000000 -2.000000e-08             Muungano   \n",
       "58             KKKT  35.561346 -3.806879e+00  Kwa Iyora Mgirigisi   \n",
       "73           HESAWA  34.657034 -1.888020e+00             Machumbe   \n",
       "...             ...        ...           ...                  ...   \n",
       "59306         TWESA  30.930385 -3.300592e+00           Kwa Mhunda   \n",
       "59310         TASAF  37.744090 -4.062296e+00          Ward Office   \n",
       "59324  World Vision   0.000000 -2.000000e-08             Mwazwilo   \n",
       "59344           NaN  36.900911 -3.111477e+00   Pentecoste Swidish   \n",
       "59387             0  39.176480 -6.957098e+00           Kwa Maliba   \n",
       "\n",
       "       num_private            basin          subvillage         region  \\\n",
       "1                0    Lake Victoria             Nyamara           Mara   \n",
       "18               0    Lake Victoria              Center         Mwanza   \n",
       "21               0    Lake Victoria          Ibabachegu      Shinyanga   \n",
       "58               0         Internal              Ants B        Manyara   \n",
       "73               0    Lake Victoria             Mtakuja           Mara   \n",
       "...            ...              ...                 ...            ...   \n",
       "59306            0  Lake Tanganyika        Nguvu Kazi A         Kigoma   \n",
       "59310            0          Pangani                Same    Kilimanjaro   \n",
       "59324            0    Lake Victoria               Mbita      Shinyanga   \n",
       "59344            0         Internal            Madukani         Arusha   \n",
       "59387            0      Wami / Ruvu  Mtaa Wa Yangeyange  Dar es Salaam   \n",
       "\n",
       "       region_code  district_code        lga               ward  population  \\\n",
       "1               20              2  Serengeti              Natta         280   \n",
       "18              19              1    Ukerewe           Ilangala        1000   \n",
       "21              17              1    Bariadi  Ikungulyabashashi           0   \n",
       "58              21              3      Mbulu            Bargish         456   \n",
       "73              20              2  Serengeti           Manchira         200   \n",
       "...            ...            ...        ...                ...         ...   \n",
       "59306           16              1    Kibondo            Kakonko           1   \n",
       "59310            3              3       Same         Same Urban          65   \n",
       "59324           17              1    Bariadi              Mbita           0   \n",
       "59344            2              7       Meru       Ngarenanyuki         230   \n",
       "59387            7              2      Ilala           Msongola         100   \n",
       "\n",
       "      public_meeting              recorded_by scheme_management permit  \\\n",
       "1                NaN  GeoData Consultants Ltd             Other   True   \n",
       "18               NaN  GeoData Consultants Ltd               NaN   True   \n",
       "21               NaN  GeoData Consultants Ltd               WUG  False   \n",
       "58               NaN  GeoData Consultants Ltd               WUG   True   \n",
       "73               NaN  GeoData Consultants Ltd             Other   True   \n",
       "...              ...                      ...               ...    ...   \n",
       "59306            NaN  GeoData Consultants Ltd               NaN  False   \n",
       "59310            NaN  GeoData Consultants Ltd               NaN    NaN   \n",
       "59324            NaN  GeoData Consultants Ltd               WUG  False   \n",
       "59344            NaN  GeoData Consultants Ltd               NaN    NaN   \n",
       "59387            NaN  GeoData Consultants Ltd               WUA  False   \n",
       "\n",
       "       construction_year extraction_type extraction_type_group  \\\n",
       "1                   2010         gravity               gravity   \n",
       "18                  1999           other                 other   \n",
       "21                     0          swn 80                swn 80   \n",
       "58                  2000     nira/tanira           nira/tanira   \n",
       "73                  1991     nira/tanira           nira/tanira   \n",
       "...                  ...             ...                   ...   \n",
       "59306               2013         gravity               gravity   \n",
       "59310                  0           other                 other   \n",
       "59324                  0     nira/tanira           nira/tanira   \n",
       "59344                  0         gravity               gravity   \n",
       "59387               2000     submersible           submersible   \n",
       "\n",
       "      extraction_type_class management management_group         payment  \\\n",
       "1                   gravity        wug       user-group       never pay   \n",
       "18                    other        vwc       user-group       never pay   \n",
       "21                 handpump        wug       user-group         unknown   \n",
       "58                 handpump        wug       user-group       never pay   \n",
       "73                 handpump        wug       user-group           other   \n",
       "...                     ...        ...              ...             ...   \n",
       "59306               gravity    unknown          unknown         unknown   \n",
       "59310                 other    unknown          unknown         unknown   \n",
       "59324              handpump        wug       user-group         unknown   \n",
       "59344               gravity    unknown          unknown         unknown   \n",
       "59387           submersible        wua       user-group  pay per bucket   \n",
       "\n",
       "      payment_type water_quality quality_group      quantity quantity_group  \\\n",
       "1        never pay          soft          good  insufficient   insufficient   \n",
       "18       never pay         milky         milky  insufficient   insufficient   \n",
       "21         unknown       unknown       unknown       unknown        unknown   \n",
       "58       never pay          soft          good        enough         enough   \n",
       "73           other          soft          good  insufficient   insufficient   \n",
       "...            ...           ...           ...           ...            ...   \n",
       "59306      unknown       unknown       unknown       unknown        unknown   \n",
       "59310      unknown       unknown       unknown       unknown        unknown   \n",
       "59324      unknown          soft          good        enough         enough   \n",
       "59344      unknown       unknown       unknown       unknown        unknown   \n",
       "59387   per bucket          soft          good        enough         enough   \n",
       "\n",
       "                     source           source_type source_class  \\\n",
       "1      rainwater harvesting  rainwater harvesting      surface   \n",
       "18                   spring                spring  groundwater   \n",
       "21             shallow well          shallow well  groundwater   \n",
       "58             shallow well          shallow well  groundwater   \n",
       "73             shallow well          shallow well  groundwater   \n",
       "...                     ...                   ...          ...   \n",
       "59306                spring                spring  groundwater   \n",
       "59310               unknown                 other      unknown   \n",
       "59324          shallow well          shallow well  groundwater   \n",
       "59344                spring                spring  groundwater   \n",
       "59387           machine dbh              borehole  groundwater   \n",
       "\n",
       "          waterpoint_type waterpoint_type_group  \n",
       "1      communal standpipe    communal standpipe  \n",
       "18                  other                 other  \n",
       "21              hand pump             hand pump  \n",
       "58              hand pump             hand pump  \n",
       "73              hand pump             hand pump  \n",
       "...                   ...                   ...  \n",
       "59306     improved spring       improved spring  \n",
       "59310               other                 other  \n",
       "59324           hand pump             hand pump  \n",
       "59344  communal standpipe    communal standpipe  \n",
       "59387  communal standpipe    communal standpipe  \n",
       "\n",
       "[3334 rows x 39 columns]"
      ]
     },
     "execution_count": 24,
     "metadata": {},
     "output_type": "execute_result"
    }
   ],
   "source": [
    "df_training_values[df_training_values['public_meeting'].isna()]"
   ]
  },
  {
   "cell_type": "code",
   "execution_count": 25,
   "metadata": {},
   "outputs": [
    {
     "data": {
      "text/plain": [
       "GeoData Consultants Ltd    3334\n",
       "Name: recorded_by, dtype: int64"
      ]
     },
     "execution_count": 25,
     "metadata": {},
     "output_type": "execute_result"
    }
   ],
   "source": [
    "df_training_values[df_training_values['public_meeting'].isna()]['recorded_by'].value_counts()"
   ]
  },
  {
   "cell_type": "markdown",
   "metadata": {},
   "source": [
    "#### Inspecting the above dataframe you can see that all the items have been recorded by GeoData Consultants Ltd. Lets take a look at the whole dataframe. "
   ]
  },
  {
   "cell_type": "code",
   "execution_count": 26,
   "metadata": {},
   "outputs": [
    {
     "data": {
      "text/plain": [
       "GeoData Consultants Ltd    59400\n",
       "Name: recorded_by, dtype: int64"
      ]
     },
     "execution_count": 26,
     "metadata": {},
     "output_type": "execute_result"
    }
   ],
   "source": [
    "df_training_values[df_training_values['recorded_by'] == 'GeoData Consultants Ltd']['recorded_by'].value_counts()"
   ]
  },
  {
   "cell_type": "markdown",
   "metadata": {},
   "source": [
    "#### Seeing how all of the data has been recorded by the same vendor this will have no impact on our modeling. This is another column that we can drop. "
   ]
  },
  {
   "cell_type": "code",
   "execution_count": 27,
   "metadata": {},
   "outputs": [],
   "source": [
    "df_training_values.drop('recorded_by', axis = 1, inplace = True)"
   ]
  },
  {
   "cell_type": "code",
   "execution_count": 28,
   "metadata": {},
   "outputs": [
    {
     "data": {
      "text/plain": [
       "VWC                 36793\n",
       "WUG                  5206\n",
       "Water authority      3153\n",
       "WUA                  2883\n",
       "Water Board          2748\n",
       "Parastatal           1680\n",
       "Private operator     1063\n",
       "Company              1061\n",
       "Other                 766\n",
       "SWC                    97\n",
       "Trust                  72\n",
       "None                    1\n",
       "Name: scheme_management, dtype: int64"
      ]
     },
     "execution_count": 28,
     "metadata": {},
     "output_type": "execute_result"
    }
   ],
   "source": [
    "df_training_values['scheme_management'].value_counts()"
   ]
  },
  {
   "cell_type": "code",
   "execution_count": 29,
   "metadata": {},
   "outputs": [
    {
     "data": {
      "text/plain": [
       "True     38852\n",
       "False    17492\n",
       "Name: permit, dtype: int64"
      ]
     },
     "execution_count": 29,
     "metadata": {},
     "output_type": "execute_result"
    }
   ],
   "source": [
    "df_training_values['permit'].value_counts()"
   ]
  },
  {
   "cell_type": "markdown",
   "metadata": {},
   "source": [
    "## Data Preparation"
   ]
  },
  {
   "cell_type": "markdown",
   "metadata": {},
   "source": [
    "### For each column we will create two variables for modeling. One with the mode value for each column and one with a newly created variable denoted 'other'."
   ]
  },
  {
   "cell_type": "code",
   "execution_count": 30,
   "metadata": {},
   "outputs": [],
   "source": [
    "# Creating new dataframe\n",
    "df_training_val_mode = df_training_values.copy()\n",
    "df_training_val_other = df_training_values.copy()\n"
   ]
  },
  {
   "cell_type": "code",
   "execution_count": 31,
   "metadata": {},
   "outputs": [],
   "source": [
    "# Filling NAN values to 'Other'\n",
    "\n",
    "df_training_val_other['funder'] = df_training_val_other['funder']\\\n",
    "                            .replace(np.nan, 'Other', regex = True)\n",
    "\n",
    "df_training_val_other['installer'] = df_training_val_other['installer']\\\n",
    "                                .replace(np.nan, 'Other', regex = True)\n",
    "\n",
    "df_training_val_other['subvillage'] = df_training_val_other['subvillage']\\\n",
    "                                    .replace(np.nan, 'Other', regex = True)\n",
    "\n",
    "df_training_val_other['public_meeting'] = df_training_val_other['public_meeting']\\\n",
    "                                            .replace(np.nan, 'Other', regex = True)\n",
    "\n",
    "df_training_val_other['scheme_management'] = df_training_val_other['scheme_management']\\\n",
    "                                                .replace(np.nan, 'Other', regex = True)\n",
    "\n",
    "df_training_val_other['permit'] = df_training_val_other['permit']\\\n",
    "                            .replace(np.nan, 'Other', regex = True)\n"
   ]
  },
  {
   "cell_type": "code",
   "execution_count": 32,
   "metadata": {},
   "outputs": [],
   "source": [
    "# Filling NAN values with most common feature based on count\n",
    "\n",
    "df_training_val_mode['funder'].fillna(df_training_val_mode['funder']\\\n",
    "                        .value_counts().index[0], inplace = True)\n",
    "\n",
    "df_training_val_mode['installer'].fillna(df_training_val_mode['installer']\\\n",
    "                                .value_counts().index[0], inplace = True)\n",
    "\n",
    "df_training_val_mode['subvillage'].fillna(df_training_val_mode['subvillage']\\\n",
    "                                    .value_counts().index[0], inplace = True)\n",
    "\n",
    "df_training_val_mode['public_meeting'].fillna(df_training_val_mode['public_meeting']\\\n",
    "                                            .value_counts().index[0], inplace = True)\n",
    "\n",
    "df_training_val_mode['scheme_management'].fillna(df_training_val_mode['scheme_management']\\\n",
    "                                                 .value_counts().index[0], inplace = True)\n",
    "\n",
    "df_training_val_mode['permit'].fillna(df_training_val_mode['permit']\\\n",
    "                            .value_counts().index[0], inplace = True)"
   ]
  },
  {
   "cell_type": "code",
   "execution_count": 33,
   "metadata": {},
   "outputs": [
    {
     "data": {
      "text/plain": [
       "id                       0\n",
       "amount_tsh               0\n",
       "date_recorded            0\n",
       "funder                   0\n",
       "gps_height               0\n",
       "installer                0\n",
       "longitude                0\n",
       "latitude                 0\n",
       "wpt_name                 0\n",
       "num_private              0\n",
       "basin                    0\n",
       "subvillage               0\n",
       "region                   0\n",
       "region_code              0\n",
       "district_code            0\n",
       "lga                      0\n",
       "ward                     0\n",
       "population               0\n",
       "public_meeting           0\n",
       "scheme_management        0\n",
       "permit                   0\n",
       "construction_year        0\n",
       "extraction_type          0\n",
       "extraction_type_group    0\n",
       "extraction_type_class    0\n",
       "management               0\n",
       "management_group         0\n",
       "payment                  0\n",
       "payment_type             0\n",
       "water_quality            0\n",
       "quality_group            0\n",
       "quantity                 0\n",
       "quantity_group           0\n",
       "source                   0\n",
       "source_type              0\n",
       "source_class             0\n",
       "waterpoint_type          0\n",
       "waterpoint_type_group    0\n",
       "dtype: int64"
      ]
     },
     "execution_count": 33,
     "metadata": {},
     "output_type": "execute_result"
    }
   ],
   "source": [
    "df_training_val_mode.isna().sum()"
   ]
  },
  {
   "cell_type": "code",
   "execution_count": 34,
   "metadata": {},
   "outputs": [
    {
     "data": {
      "text/plain": [
       "id                       0\n",
       "amount_tsh               0\n",
       "date_recorded            0\n",
       "funder                   0\n",
       "gps_height               0\n",
       "installer                0\n",
       "longitude                0\n",
       "latitude                 0\n",
       "wpt_name                 0\n",
       "num_private              0\n",
       "basin                    0\n",
       "subvillage               0\n",
       "region                   0\n",
       "region_code              0\n",
       "district_code            0\n",
       "lga                      0\n",
       "ward                     0\n",
       "population               0\n",
       "public_meeting           0\n",
       "scheme_management        0\n",
       "permit                   0\n",
       "construction_year        0\n",
       "extraction_type          0\n",
       "extraction_type_group    0\n",
       "extraction_type_class    0\n",
       "management               0\n",
       "management_group         0\n",
       "payment                  0\n",
       "payment_type             0\n",
       "water_quality            0\n",
       "quality_group            0\n",
       "quantity                 0\n",
       "quantity_group           0\n",
       "source                   0\n",
       "source_type              0\n",
       "source_class             0\n",
       "waterpoint_type          0\n",
       "waterpoint_type_group    0\n",
       "dtype: int64"
      ]
     },
     "execution_count": 34,
     "metadata": {},
     "output_type": "execute_result"
    }
   ],
   "source": [
    "df_training_val_other.isna().sum()"
   ]
  },
  {
   "cell_type": "markdown",
   "metadata": {},
   "source": [
    "### Joining Tables"
   ]
  },
  {
   "cell_type": "markdown",
   "metadata": {},
   "source": [
    "#### Now lets merge the tables so we only have two data sets to work with. To start, both dataframes have an ID column so we will create a new column on our target set and drop the identical column."
   ]
  },
  {
   "cell_type": "code",
   "execution_count": 35,
   "metadata": {},
   "outputs": [],
   "source": [
    "df_training_labels['id_2'] = df_training_labels['id']\n",
    "df_training_labels.drop('id', axis = 1, inplace = True)"
   ]
  },
  {
   "cell_type": "markdown",
   "metadata": {},
   "source": [
    "#### Next we will join our tables and create two dataframes for mode and other"
   ]
  },
  {
   "cell_type": "code",
   "execution_count": 36,
   "metadata": {},
   "outputs": [],
   "source": [
    "df_mode = pd.concat([df_training_val_mode, df_training_labels], join = 'inner', axis = 1)\n",
    "df_other = pd.concat([df_training_val_other, df_training_labels], join = 'inner', axis = 1)"
   ]
  },
  {
   "cell_type": "code",
   "execution_count": 37,
   "metadata": {},
   "outputs": [
    {
     "data": {
      "text/html": [
       "<div>\n",
       "<style scoped>\n",
       "    .dataframe tbody tr th:only-of-type {\n",
       "        vertical-align: middle;\n",
       "    }\n",
       "\n",
       "    .dataframe tbody tr th {\n",
       "        vertical-align: top;\n",
       "    }\n",
       "\n",
       "    .dataframe thead th {\n",
       "        text-align: right;\n",
       "    }\n",
       "</style>\n",
       "<table border=\"1\" class=\"dataframe\">\n",
       "  <thead>\n",
       "    <tr style=\"text-align: right;\">\n",
       "      <th></th>\n",
       "      <th>id</th>\n",
       "      <th>amount_tsh</th>\n",
       "      <th>date_recorded</th>\n",
       "      <th>funder</th>\n",
       "      <th>gps_height</th>\n",
       "      <th>installer</th>\n",
       "      <th>longitude</th>\n",
       "      <th>latitude</th>\n",
       "      <th>wpt_name</th>\n",
       "      <th>num_private</th>\n",
       "      <th>basin</th>\n",
       "      <th>subvillage</th>\n",
       "      <th>region</th>\n",
       "      <th>region_code</th>\n",
       "      <th>district_code</th>\n",
       "      <th>lga</th>\n",
       "      <th>ward</th>\n",
       "      <th>population</th>\n",
       "      <th>public_meeting</th>\n",
       "      <th>scheme_management</th>\n",
       "      <th>permit</th>\n",
       "      <th>construction_year</th>\n",
       "      <th>extraction_type</th>\n",
       "      <th>extraction_type_group</th>\n",
       "      <th>extraction_type_class</th>\n",
       "      <th>management</th>\n",
       "      <th>management_group</th>\n",
       "      <th>payment</th>\n",
       "      <th>payment_type</th>\n",
       "      <th>water_quality</th>\n",
       "      <th>quality_group</th>\n",
       "      <th>quantity</th>\n",
       "      <th>quantity_group</th>\n",
       "      <th>source</th>\n",
       "      <th>source_type</th>\n",
       "      <th>source_class</th>\n",
       "      <th>waterpoint_type</th>\n",
       "      <th>waterpoint_type_group</th>\n",
       "      <th>status_group</th>\n",
       "      <th>id_2</th>\n",
       "    </tr>\n",
       "  </thead>\n",
       "  <tbody>\n",
       "    <tr>\n",
       "      <th>0</th>\n",
       "      <td>69572</td>\n",
       "      <td>6000.0</td>\n",
       "      <td>2011-03-14</td>\n",
       "      <td>Roman</td>\n",
       "      <td>1390</td>\n",
       "      <td>Roman</td>\n",
       "      <td>34.938093</td>\n",
       "      <td>-9.856322</td>\n",
       "      <td>none</td>\n",
       "      <td>0</td>\n",
       "      <td>Lake Nyasa</td>\n",
       "      <td>Mnyusi B</td>\n",
       "      <td>Iringa</td>\n",
       "      <td>11</td>\n",
       "      <td>5</td>\n",
       "      <td>Ludewa</td>\n",
       "      <td>Mundindi</td>\n",
       "      <td>109</td>\n",
       "      <td>True</td>\n",
       "      <td>VWC</td>\n",
       "      <td>False</td>\n",
       "      <td>1999</td>\n",
       "      <td>gravity</td>\n",
       "      <td>gravity</td>\n",
       "      <td>gravity</td>\n",
       "      <td>vwc</td>\n",
       "      <td>user-group</td>\n",
       "      <td>pay annually</td>\n",
       "      <td>annually</td>\n",
       "      <td>soft</td>\n",
       "      <td>good</td>\n",
       "      <td>enough</td>\n",
       "      <td>enough</td>\n",
       "      <td>spring</td>\n",
       "      <td>spring</td>\n",
       "      <td>groundwater</td>\n",
       "      <td>communal standpipe</td>\n",
       "      <td>communal standpipe</td>\n",
       "      <td>functional</td>\n",
       "      <td>69572</td>\n",
       "    </tr>\n",
       "    <tr>\n",
       "      <th>1</th>\n",
       "      <td>8776</td>\n",
       "      <td>0.0</td>\n",
       "      <td>2013-03-06</td>\n",
       "      <td>Grumeti</td>\n",
       "      <td>1399</td>\n",
       "      <td>GRUMETI</td>\n",
       "      <td>34.698766</td>\n",
       "      <td>-2.147466</td>\n",
       "      <td>Zahanati</td>\n",
       "      <td>0</td>\n",
       "      <td>Lake Victoria</td>\n",
       "      <td>Nyamara</td>\n",
       "      <td>Mara</td>\n",
       "      <td>20</td>\n",
       "      <td>2</td>\n",
       "      <td>Serengeti</td>\n",
       "      <td>Natta</td>\n",
       "      <td>280</td>\n",
       "      <td>True</td>\n",
       "      <td>Other</td>\n",
       "      <td>True</td>\n",
       "      <td>2010</td>\n",
       "      <td>gravity</td>\n",
       "      <td>gravity</td>\n",
       "      <td>gravity</td>\n",
       "      <td>wug</td>\n",
       "      <td>user-group</td>\n",
       "      <td>never pay</td>\n",
       "      <td>never pay</td>\n",
       "      <td>soft</td>\n",
       "      <td>good</td>\n",
       "      <td>insufficient</td>\n",
       "      <td>insufficient</td>\n",
       "      <td>rainwater harvesting</td>\n",
       "      <td>rainwater harvesting</td>\n",
       "      <td>surface</td>\n",
       "      <td>communal standpipe</td>\n",
       "      <td>communal standpipe</td>\n",
       "      <td>functional</td>\n",
       "      <td>8776</td>\n",
       "    </tr>\n",
       "    <tr>\n",
       "      <th>2</th>\n",
       "      <td>34310</td>\n",
       "      <td>25.0</td>\n",
       "      <td>2013-02-25</td>\n",
       "      <td>Lottery Club</td>\n",
       "      <td>686</td>\n",
       "      <td>World vision</td>\n",
       "      <td>37.460664</td>\n",
       "      <td>-3.821329</td>\n",
       "      <td>Kwa Mahundi</td>\n",
       "      <td>0</td>\n",
       "      <td>Pangani</td>\n",
       "      <td>Majengo</td>\n",
       "      <td>Manyara</td>\n",
       "      <td>21</td>\n",
       "      <td>4</td>\n",
       "      <td>Simanjiro</td>\n",
       "      <td>Ngorika</td>\n",
       "      <td>250</td>\n",
       "      <td>True</td>\n",
       "      <td>VWC</td>\n",
       "      <td>True</td>\n",
       "      <td>2009</td>\n",
       "      <td>gravity</td>\n",
       "      <td>gravity</td>\n",
       "      <td>gravity</td>\n",
       "      <td>vwc</td>\n",
       "      <td>user-group</td>\n",
       "      <td>pay per bucket</td>\n",
       "      <td>per bucket</td>\n",
       "      <td>soft</td>\n",
       "      <td>good</td>\n",
       "      <td>enough</td>\n",
       "      <td>enough</td>\n",
       "      <td>dam</td>\n",
       "      <td>dam</td>\n",
       "      <td>surface</td>\n",
       "      <td>communal standpipe multiple</td>\n",
       "      <td>communal standpipe</td>\n",
       "      <td>functional</td>\n",
       "      <td>34310</td>\n",
       "    </tr>\n",
       "    <tr>\n",
       "      <th>3</th>\n",
       "      <td>67743</td>\n",
       "      <td>0.0</td>\n",
       "      <td>2013-01-28</td>\n",
       "      <td>Unicef</td>\n",
       "      <td>263</td>\n",
       "      <td>UNICEF</td>\n",
       "      <td>38.486161</td>\n",
       "      <td>-11.155298</td>\n",
       "      <td>Zahanati Ya Nanyumbu</td>\n",
       "      <td>0</td>\n",
       "      <td>Ruvuma / Southern Coast</td>\n",
       "      <td>Mahakamani</td>\n",
       "      <td>Mtwara</td>\n",
       "      <td>90</td>\n",
       "      <td>63</td>\n",
       "      <td>Nanyumbu</td>\n",
       "      <td>Nanyumbu</td>\n",
       "      <td>58</td>\n",
       "      <td>True</td>\n",
       "      <td>VWC</td>\n",
       "      <td>True</td>\n",
       "      <td>1986</td>\n",
       "      <td>submersible</td>\n",
       "      <td>submersible</td>\n",
       "      <td>submersible</td>\n",
       "      <td>vwc</td>\n",
       "      <td>user-group</td>\n",
       "      <td>never pay</td>\n",
       "      <td>never pay</td>\n",
       "      <td>soft</td>\n",
       "      <td>good</td>\n",
       "      <td>dry</td>\n",
       "      <td>dry</td>\n",
       "      <td>machine dbh</td>\n",
       "      <td>borehole</td>\n",
       "      <td>groundwater</td>\n",
       "      <td>communal standpipe multiple</td>\n",
       "      <td>communal standpipe</td>\n",
       "      <td>non functional</td>\n",
       "      <td>67743</td>\n",
       "    </tr>\n",
       "    <tr>\n",
       "      <th>4</th>\n",
       "      <td>19728</td>\n",
       "      <td>0.0</td>\n",
       "      <td>2011-07-13</td>\n",
       "      <td>Action In A</td>\n",
       "      <td>0</td>\n",
       "      <td>Artisan</td>\n",
       "      <td>31.130847</td>\n",
       "      <td>-1.825359</td>\n",
       "      <td>Shuleni</td>\n",
       "      <td>0</td>\n",
       "      <td>Lake Victoria</td>\n",
       "      <td>Kyanyamisa</td>\n",
       "      <td>Kagera</td>\n",
       "      <td>18</td>\n",
       "      <td>1</td>\n",
       "      <td>Karagwe</td>\n",
       "      <td>Nyakasimbi</td>\n",
       "      <td>0</td>\n",
       "      <td>True</td>\n",
       "      <td>VWC</td>\n",
       "      <td>True</td>\n",
       "      <td>0</td>\n",
       "      <td>gravity</td>\n",
       "      <td>gravity</td>\n",
       "      <td>gravity</td>\n",
       "      <td>other</td>\n",
       "      <td>other</td>\n",
       "      <td>never pay</td>\n",
       "      <td>never pay</td>\n",
       "      <td>soft</td>\n",
       "      <td>good</td>\n",
       "      <td>seasonal</td>\n",
       "      <td>seasonal</td>\n",
       "      <td>rainwater harvesting</td>\n",
       "      <td>rainwater harvesting</td>\n",
       "      <td>surface</td>\n",
       "      <td>communal standpipe</td>\n",
       "      <td>communal standpipe</td>\n",
       "      <td>functional</td>\n",
       "      <td>19728</td>\n",
       "    </tr>\n",
       "    <tr>\n",
       "      <th>...</th>\n",
       "      <td>...</td>\n",
       "      <td>...</td>\n",
       "      <td>...</td>\n",
       "      <td>...</td>\n",
       "      <td>...</td>\n",
       "      <td>...</td>\n",
       "      <td>...</td>\n",
       "      <td>...</td>\n",
       "      <td>...</td>\n",
       "      <td>...</td>\n",
       "      <td>...</td>\n",
       "      <td>...</td>\n",
       "      <td>...</td>\n",
       "      <td>...</td>\n",
       "      <td>...</td>\n",
       "      <td>...</td>\n",
       "      <td>...</td>\n",
       "      <td>...</td>\n",
       "      <td>...</td>\n",
       "      <td>...</td>\n",
       "      <td>...</td>\n",
       "      <td>...</td>\n",
       "      <td>...</td>\n",
       "      <td>...</td>\n",
       "      <td>...</td>\n",
       "      <td>...</td>\n",
       "      <td>...</td>\n",
       "      <td>...</td>\n",
       "      <td>...</td>\n",
       "      <td>...</td>\n",
       "      <td>...</td>\n",
       "      <td>...</td>\n",
       "      <td>...</td>\n",
       "      <td>...</td>\n",
       "      <td>...</td>\n",
       "      <td>...</td>\n",
       "      <td>...</td>\n",
       "      <td>...</td>\n",
       "      <td>...</td>\n",
       "      <td>...</td>\n",
       "    </tr>\n",
       "    <tr>\n",
       "      <th>59395</th>\n",
       "      <td>60739</td>\n",
       "      <td>10.0</td>\n",
       "      <td>2013-05-03</td>\n",
       "      <td>Germany Republi</td>\n",
       "      <td>1210</td>\n",
       "      <td>CES</td>\n",
       "      <td>37.169807</td>\n",
       "      <td>-3.253847</td>\n",
       "      <td>Area Three Namba 27</td>\n",
       "      <td>0</td>\n",
       "      <td>Pangani</td>\n",
       "      <td>Kiduruni</td>\n",
       "      <td>Kilimanjaro</td>\n",
       "      <td>3</td>\n",
       "      <td>5</td>\n",
       "      <td>Hai</td>\n",
       "      <td>Masama Magharibi</td>\n",
       "      <td>125</td>\n",
       "      <td>True</td>\n",
       "      <td>Water Board</td>\n",
       "      <td>True</td>\n",
       "      <td>1999</td>\n",
       "      <td>gravity</td>\n",
       "      <td>gravity</td>\n",
       "      <td>gravity</td>\n",
       "      <td>water board</td>\n",
       "      <td>user-group</td>\n",
       "      <td>pay per bucket</td>\n",
       "      <td>per bucket</td>\n",
       "      <td>soft</td>\n",
       "      <td>good</td>\n",
       "      <td>enough</td>\n",
       "      <td>enough</td>\n",
       "      <td>spring</td>\n",
       "      <td>spring</td>\n",
       "      <td>groundwater</td>\n",
       "      <td>communal standpipe</td>\n",
       "      <td>communal standpipe</td>\n",
       "      <td>functional</td>\n",
       "      <td>60739</td>\n",
       "    </tr>\n",
       "    <tr>\n",
       "      <th>59396</th>\n",
       "      <td>27263</td>\n",
       "      <td>4700.0</td>\n",
       "      <td>2011-05-07</td>\n",
       "      <td>Cefa-njombe</td>\n",
       "      <td>1212</td>\n",
       "      <td>Cefa</td>\n",
       "      <td>35.249991</td>\n",
       "      <td>-9.070629</td>\n",
       "      <td>Kwa Yahona Kuvala</td>\n",
       "      <td>0</td>\n",
       "      <td>Rufiji</td>\n",
       "      <td>Igumbilo</td>\n",
       "      <td>Iringa</td>\n",
       "      <td>11</td>\n",
       "      <td>4</td>\n",
       "      <td>Njombe</td>\n",
       "      <td>Ikondo</td>\n",
       "      <td>56</td>\n",
       "      <td>True</td>\n",
       "      <td>VWC</td>\n",
       "      <td>True</td>\n",
       "      <td>1996</td>\n",
       "      <td>gravity</td>\n",
       "      <td>gravity</td>\n",
       "      <td>gravity</td>\n",
       "      <td>vwc</td>\n",
       "      <td>user-group</td>\n",
       "      <td>pay annually</td>\n",
       "      <td>annually</td>\n",
       "      <td>soft</td>\n",
       "      <td>good</td>\n",
       "      <td>enough</td>\n",
       "      <td>enough</td>\n",
       "      <td>river</td>\n",
       "      <td>river/lake</td>\n",
       "      <td>surface</td>\n",
       "      <td>communal standpipe</td>\n",
       "      <td>communal standpipe</td>\n",
       "      <td>functional</td>\n",
       "      <td>27263</td>\n",
       "    </tr>\n",
       "    <tr>\n",
       "      <th>59397</th>\n",
       "      <td>37057</td>\n",
       "      <td>0.0</td>\n",
       "      <td>2011-04-11</td>\n",
       "      <td>Government Of Tanzania</td>\n",
       "      <td>0</td>\n",
       "      <td>DWE</td>\n",
       "      <td>34.017087</td>\n",
       "      <td>-8.750434</td>\n",
       "      <td>Mashine</td>\n",
       "      <td>0</td>\n",
       "      <td>Rufiji</td>\n",
       "      <td>Madungulu</td>\n",
       "      <td>Mbeya</td>\n",
       "      <td>12</td>\n",
       "      <td>7</td>\n",
       "      <td>Mbarali</td>\n",
       "      <td>Chimala</td>\n",
       "      <td>0</td>\n",
       "      <td>True</td>\n",
       "      <td>VWC</td>\n",
       "      <td>False</td>\n",
       "      <td>0</td>\n",
       "      <td>swn 80</td>\n",
       "      <td>swn 80</td>\n",
       "      <td>handpump</td>\n",
       "      <td>vwc</td>\n",
       "      <td>user-group</td>\n",
       "      <td>pay monthly</td>\n",
       "      <td>monthly</td>\n",
       "      <td>fluoride</td>\n",
       "      <td>fluoride</td>\n",
       "      <td>enough</td>\n",
       "      <td>enough</td>\n",
       "      <td>machine dbh</td>\n",
       "      <td>borehole</td>\n",
       "      <td>groundwater</td>\n",
       "      <td>hand pump</td>\n",
       "      <td>hand pump</td>\n",
       "      <td>functional</td>\n",
       "      <td>37057</td>\n",
       "    </tr>\n",
       "    <tr>\n",
       "      <th>59398</th>\n",
       "      <td>31282</td>\n",
       "      <td>0.0</td>\n",
       "      <td>2011-03-08</td>\n",
       "      <td>Malec</td>\n",
       "      <td>0</td>\n",
       "      <td>Musa</td>\n",
       "      <td>35.861315</td>\n",
       "      <td>-6.378573</td>\n",
       "      <td>Mshoro</td>\n",
       "      <td>0</td>\n",
       "      <td>Rufiji</td>\n",
       "      <td>Mwinyi</td>\n",
       "      <td>Dodoma</td>\n",
       "      <td>1</td>\n",
       "      <td>4</td>\n",
       "      <td>Chamwino</td>\n",
       "      <td>Mvumi Makulu</td>\n",
       "      <td>0</td>\n",
       "      <td>True</td>\n",
       "      <td>VWC</td>\n",
       "      <td>True</td>\n",
       "      <td>0</td>\n",
       "      <td>nira/tanira</td>\n",
       "      <td>nira/tanira</td>\n",
       "      <td>handpump</td>\n",
       "      <td>vwc</td>\n",
       "      <td>user-group</td>\n",
       "      <td>never pay</td>\n",
       "      <td>never pay</td>\n",
       "      <td>soft</td>\n",
       "      <td>good</td>\n",
       "      <td>insufficient</td>\n",
       "      <td>insufficient</td>\n",
       "      <td>shallow well</td>\n",
       "      <td>shallow well</td>\n",
       "      <td>groundwater</td>\n",
       "      <td>hand pump</td>\n",
       "      <td>hand pump</td>\n",
       "      <td>functional</td>\n",
       "      <td>31282</td>\n",
       "    </tr>\n",
       "    <tr>\n",
       "      <th>59399</th>\n",
       "      <td>26348</td>\n",
       "      <td>0.0</td>\n",
       "      <td>2011-03-23</td>\n",
       "      <td>World Bank</td>\n",
       "      <td>191</td>\n",
       "      <td>World</td>\n",
       "      <td>38.104048</td>\n",
       "      <td>-6.747464</td>\n",
       "      <td>Kwa Mzee Lugawa</td>\n",
       "      <td>0</td>\n",
       "      <td>Wami / Ruvu</td>\n",
       "      <td>Kikatanyemba</td>\n",
       "      <td>Morogoro</td>\n",
       "      <td>5</td>\n",
       "      <td>2</td>\n",
       "      <td>Morogoro Rural</td>\n",
       "      <td>Ngerengere</td>\n",
       "      <td>150</td>\n",
       "      <td>True</td>\n",
       "      <td>VWC</td>\n",
       "      <td>True</td>\n",
       "      <td>2002</td>\n",
       "      <td>nira/tanira</td>\n",
       "      <td>nira/tanira</td>\n",
       "      <td>handpump</td>\n",
       "      <td>vwc</td>\n",
       "      <td>user-group</td>\n",
       "      <td>pay when scheme fails</td>\n",
       "      <td>on failure</td>\n",
       "      <td>salty</td>\n",
       "      <td>salty</td>\n",
       "      <td>enough</td>\n",
       "      <td>enough</td>\n",
       "      <td>shallow well</td>\n",
       "      <td>shallow well</td>\n",
       "      <td>groundwater</td>\n",
       "      <td>hand pump</td>\n",
       "      <td>hand pump</td>\n",
       "      <td>functional</td>\n",
       "      <td>26348</td>\n",
       "    </tr>\n",
       "  </tbody>\n",
       "</table>\n",
       "<p>59400 rows × 40 columns</p>\n",
       "</div>"
      ],
      "text/plain": [
       "          id  amount_tsh date_recorded                  funder  gps_height  \\\n",
       "0      69572      6000.0    2011-03-14                   Roman        1390   \n",
       "1       8776         0.0    2013-03-06                 Grumeti        1399   \n",
       "2      34310        25.0    2013-02-25            Lottery Club         686   \n",
       "3      67743         0.0    2013-01-28                  Unicef         263   \n",
       "4      19728         0.0    2011-07-13             Action In A           0   \n",
       "...      ...         ...           ...                     ...         ...   \n",
       "59395  60739        10.0    2013-05-03         Germany Republi        1210   \n",
       "59396  27263      4700.0    2011-05-07             Cefa-njombe        1212   \n",
       "59397  37057         0.0    2011-04-11  Government Of Tanzania           0   \n",
       "59398  31282         0.0    2011-03-08                   Malec           0   \n",
       "59399  26348         0.0    2011-03-23              World Bank         191   \n",
       "\n",
       "          installer  longitude   latitude              wpt_name  num_private  \\\n",
       "0             Roman  34.938093  -9.856322                  none            0   \n",
       "1           GRUMETI  34.698766  -2.147466              Zahanati            0   \n",
       "2      World vision  37.460664  -3.821329           Kwa Mahundi            0   \n",
       "3            UNICEF  38.486161 -11.155298  Zahanati Ya Nanyumbu            0   \n",
       "4           Artisan  31.130847  -1.825359               Shuleni            0   \n",
       "...             ...        ...        ...                   ...          ...   \n",
       "59395           CES  37.169807  -3.253847   Area Three Namba 27            0   \n",
       "59396          Cefa  35.249991  -9.070629     Kwa Yahona Kuvala            0   \n",
       "59397           DWE  34.017087  -8.750434               Mashine            0   \n",
       "59398          Musa  35.861315  -6.378573                Mshoro            0   \n",
       "59399         World  38.104048  -6.747464       Kwa Mzee Lugawa            0   \n",
       "\n",
       "                         basin    subvillage       region  region_code  \\\n",
       "0                   Lake Nyasa      Mnyusi B       Iringa           11   \n",
       "1                Lake Victoria       Nyamara         Mara           20   \n",
       "2                      Pangani       Majengo      Manyara           21   \n",
       "3      Ruvuma / Southern Coast    Mahakamani       Mtwara           90   \n",
       "4                Lake Victoria    Kyanyamisa       Kagera           18   \n",
       "...                        ...           ...          ...          ...   \n",
       "59395                  Pangani      Kiduruni  Kilimanjaro            3   \n",
       "59396                   Rufiji      Igumbilo       Iringa           11   \n",
       "59397                   Rufiji     Madungulu        Mbeya           12   \n",
       "59398                   Rufiji        Mwinyi       Dodoma            1   \n",
       "59399              Wami / Ruvu  Kikatanyemba     Morogoro            5   \n",
       "\n",
       "       district_code             lga              ward  population  \\\n",
       "0                  5          Ludewa          Mundindi         109   \n",
       "1                  2       Serengeti             Natta         280   \n",
       "2                  4       Simanjiro           Ngorika         250   \n",
       "3                 63        Nanyumbu          Nanyumbu          58   \n",
       "4                  1         Karagwe        Nyakasimbi           0   \n",
       "...              ...             ...               ...         ...   \n",
       "59395              5             Hai  Masama Magharibi         125   \n",
       "59396              4          Njombe            Ikondo          56   \n",
       "59397              7         Mbarali           Chimala           0   \n",
       "59398              4        Chamwino      Mvumi Makulu           0   \n",
       "59399              2  Morogoro Rural        Ngerengere         150   \n",
       "\n",
       "       public_meeting scheme_management  permit  construction_year  \\\n",
       "0                True               VWC   False               1999   \n",
       "1                True             Other    True               2010   \n",
       "2                True               VWC    True               2009   \n",
       "3                True               VWC    True               1986   \n",
       "4                True               VWC    True                  0   \n",
       "...               ...               ...     ...                ...   \n",
       "59395            True       Water Board    True               1999   \n",
       "59396            True               VWC    True               1996   \n",
       "59397            True               VWC   False                  0   \n",
       "59398            True               VWC    True                  0   \n",
       "59399            True               VWC    True               2002   \n",
       "\n",
       "      extraction_type extraction_type_group extraction_type_class  \\\n",
       "0             gravity               gravity               gravity   \n",
       "1             gravity               gravity               gravity   \n",
       "2             gravity               gravity               gravity   \n",
       "3         submersible           submersible           submersible   \n",
       "4             gravity               gravity               gravity   \n",
       "...               ...                   ...                   ...   \n",
       "59395         gravity               gravity               gravity   \n",
       "59396         gravity               gravity               gravity   \n",
       "59397          swn 80                swn 80              handpump   \n",
       "59398     nira/tanira           nira/tanira              handpump   \n",
       "59399     nira/tanira           nira/tanira              handpump   \n",
       "\n",
       "        management management_group                payment payment_type  \\\n",
       "0              vwc       user-group           pay annually     annually   \n",
       "1              wug       user-group              never pay    never pay   \n",
       "2              vwc       user-group         pay per bucket   per bucket   \n",
       "3              vwc       user-group              never pay    never pay   \n",
       "4            other            other              never pay    never pay   \n",
       "...            ...              ...                    ...          ...   \n",
       "59395  water board       user-group         pay per bucket   per bucket   \n",
       "59396          vwc       user-group           pay annually     annually   \n",
       "59397          vwc       user-group            pay monthly      monthly   \n",
       "59398          vwc       user-group              never pay    never pay   \n",
       "59399          vwc       user-group  pay when scheme fails   on failure   \n",
       "\n",
       "      water_quality quality_group      quantity quantity_group  \\\n",
       "0              soft          good        enough         enough   \n",
       "1              soft          good  insufficient   insufficient   \n",
       "2              soft          good        enough         enough   \n",
       "3              soft          good           dry            dry   \n",
       "4              soft          good      seasonal       seasonal   \n",
       "...             ...           ...           ...            ...   \n",
       "59395          soft          good        enough         enough   \n",
       "59396          soft          good        enough         enough   \n",
       "59397      fluoride      fluoride        enough         enough   \n",
       "59398          soft          good  insufficient   insufficient   \n",
       "59399         salty         salty        enough         enough   \n",
       "\n",
       "                     source           source_type source_class  \\\n",
       "0                    spring                spring  groundwater   \n",
       "1      rainwater harvesting  rainwater harvesting      surface   \n",
       "2                       dam                   dam      surface   \n",
       "3               machine dbh              borehole  groundwater   \n",
       "4      rainwater harvesting  rainwater harvesting      surface   \n",
       "...                     ...                   ...          ...   \n",
       "59395                spring                spring  groundwater   \n",
       "59396                 river            river/lake      surface   \n",
       "59397           machine dbh              borehole  groundwater   \n",
       "59398          shallow well          shallow well  groundwater   \n",
       "59399          shallow well          shallow well  groundwater   \n",
       "\n",
       "                   waterpoint_type waterpoint_type_group    status_group  \\\n",
       "0               communal standpipe    communal standpipe      functional   \n",
       "1               communal standpipe    communal standpipe      functional   \n",
       "2      communal standpipe multiple    communal standpipe      functional   \n",
       "3      communal standpipe multiple    communal standpipe  non functional   \n",
       "4               communal standpipe    communal standpipe      functional   \n",
       "...                            ...                   ...             ...   \n",
       "59395           communal standpipe    communal standpipe      functional   \n",
       "59396           communal standpipe    communal standpipe      functional   \n",
       "59397                    hand pump             hand pump      functional   \n",
       "59398                    hand pump             hand pump      functional   \n",
       "59399                    hand pump             hand pump      functional   \n",
       "\n",
       "        id_2  \n",
       "0      69572  \n",
       "1       8776  \n",
       "2      34310  \n",
       "3      67743  \n",
       "4      19728  \n",
       "...      ...  \n",
       "59395  60739  \n",
       "59396  27263  \n",
       "59397  37057  \n",
       "59398  31282  \n",
       "59399  26348  \n",
       "\n",
       "[59400 rows x 40 columns]"
      ]
     },
     "execution_count": 37,
     "metadata": {},
     "output_type": "execute_result"
    }
   ],
   "source": [
    "df_mode"
   ]
  },
  {
   "cell_type": "code",
   "execution_count": 38,
   "metadata": {},
   "outputs": [
    {
     "data": {
      "text/html": [
       "<div>\n",
       "<style scoped>\n",
       "    .dataframe tbody tr th:only-of-type {\n",
       "        vertical-align: middle;\n",
       "    }\n",
       "\n",
       "    .dataframe tbody tr th {\n",
       "        vertical-align: top;\n",
       "    }\n",
       "\n",
       "    .dataframe thead th {\n",
       "        text-align: right;\n",
       "    }\n",
       "</style>\n",
       "<table border=\"1\" class=\"dataframe\">\n",
       "  <thead>\n",
       "    <tr style=\"text-align: right;\">\n",
       "      <th></th>\n",
       "      <th>id</th>\n",
       "      <th>amount_tsh</th>\n",
       "      <th>date_recorded</th>\n",
       "      <th>funder</th>\n",
       "      <th>gps_height</th>\n",
       "      <th>installer</th>\n",
       "      <th>longitude</th>\n",
       "      <th>latitude</th>\n",
       "      <th>wpt_name</th>\n",
       "      <th>num_private</th>\n",
       "      <th>basin</th>\n",
       "      <th>subvillage</th>\n",
       "      <th>region</th>\n",
       "      <th>region_code</th>\n",
       "      <th>district_code</th>\n",
       "      <th>lga</th>\n",
       "      <th>ward</th>\n",
       "      <th>population</th>\n",
       "      <th>public_meeting</th>\n",
       "      <th>scheme_management</th>\n",
       "      <th>permit</th>\n",
       "      <th>construction_year</th>\n",
       "      <th>extraction_type</th>\n",
       "      <th>extraction_type_group</th>\n",
       "      <th>extraction_type_class</th>\n",
       "      <th>management</th>\n",
       "      <th>management_group</th>\n",
       "      <th>payment</th>\n",
       "      <th>payment_type</th>\n",
       "      <th>water_quality</th>\n",
       "      <th>quality_group</th>\n",
       "      <th>quantity</th>\n",
       "      <th>quantity_group</th>\n",
       "      <th>source</th>\n",
       "      <th>source_type</th>\n",
       "      <th>source_class</th>\n",
       "      <th>waterpoint_type</th>\n",
       "      <th>waterpoint_type_group</th>\n",
       "      <th>status_group</th>\n",
       "      <th>id_2</th>\n",
       "    </tr>\n",
       "  </thead>\n",
       "  <tbody>\n",
       "    <tr>\n",
       "      <th>0</th>\n",
       "      <td>69572</td>\n",
       "      <td>6000.0</td>\n",
       "      <td>2011-03-14</td>\n",
       "      <td>Roman</td>\n",
       "      <td>1390</td>\n",
       "      <td>Roman</td>\n",
       "      <td>34.938093</td>\n",
       "      <td>-9.856322</td>\n",
       "      <td>none</td>\n",
       "      <td>0</td>\n",
       "      <td>Lake Nyasa</td>\n",
       "      <td>Mnyusi B</td>\n",
       "      <td>Iringa</td>\n",
       "      <td>11</td>\n",
       "      <td>5</td>\n",
       "      <td>Ludewa</td>\n",
       "      <td>Mundindi</td>\n",
       "      <td>109</td>\n",
       "      <td>True</td>\n",
       "      <td>VWC</td>\n",
       "      <td>False</td>\n",
       "      <td>1999</td>\n",
       "      <td>gravity</td>\n",
       "      <td>gravity</td>\n",
       "      <td>gravity</td>\n",
       "      <td>vwc</td>\n",
       "      <td>user-group</td>\n",
       "      <td>pay annually</td>\n",
       "      <td>annually</td>\n",
       "      <td>soft</td>\n",
       "      <td>good</td>\n",
       "      <td>enough</td>\n",
       "      <td>enough</td>\n",
       "      <td>spring</td>\n",
       "      <td>spring</td>\n",
       "      <td>groundwater</td>\n",
       "      <td>communal standpipe</td>\n",
       "      <td>communal standpipe</td>\n",
       "      <td>functional</td>\n",
       "      <td>69572</td>\n",
       "    </tr>\n",
       "    <tr>\n",
       "      <th>1</th>\n",
       "      <td>8776</td>\n",
       "      <td>0.0</td>\n",
       "      <td>2013-03-06</td>\n",
       "      <td>Grumeti</td>\n",
       "      <td>1399</td>\n",
       "      <td>GRUMETI</td>\n",
       "      <td>34.698766</td>\n",
       "      <td>-2.147466</td>\n",
       "      <td>Zahanati</td>\n",
       "      <td>0</td>\n",
       "      <td>Lake Victoria</td>\n",
       "      <td>Nyamara</td>\n",
       "      <td>Mara</td>\n",
       "      <td>20</td>\n",
       "      <td>2</td>\n",
       "      <td>Serengeti</td>\n",
       "      <td>Natta</td>\n",
       "      <td>280</td>\n",
       "      <td>True</td>\n",
       "      <td>Other</td>\n",
       "      <td>True</td>\n",
       "      <td>2010</td>\n",
       "      <td>gravity</td>\n",
       "      <td>gravity</td>\n",
       "      <td>gravity</td>\n",
       "      <td>wug</td>\n",
       "      <td>user-group</td>\n",
       "      <td>never pay</td>\n",
       "      <td>never pay</td>\n",
       "      <td>soft</td>\n",
       "      <td>good</td>\n",
       "      <td>insufficient</td>\n",
       "      <td>insufficient</td>\n",
       "      <td>rainwater harvesting</td>\n",
       "      <td>rainwater harvesting</td>\n",
       "      <td>surface</td>\n",
       "      <td>communal standpipe</td>\n",
       "      <td>communal standpipe</td>\n",
       "      <td>functional</td>\n",
       "      <td>8776</td>\n",
       "    </tr>\n",
       "    <tr>\n",
       "      <th>2</th>\n",
       "      <td>34310</td>\n",
       "      <td>25.0</td>\n",
       "      <td>2013-02-25</td>\n",
       "      <td>Lottery Club</td>\n",
       "      <td>686</td>\n",
       "      <td>World vision</td>\n",
       "      <td>37.460664</td>\n",
       "      <td>-3.821329</td>\n",
       "      <td>Kwa Mahundi</td>\n",
       "      <td>0</td>\n",
       "      <td>Pangani</td>\n",
       "      <td>Majengo</td>\n",
       "      <td>Manyara</td>\n",
       "      <td>21</td>\n",
       "      <td>4</td>\n",
       "      <td>Simanjiro</td>\n",
       "      <td>Ngorika</td>\n",
       "      <td>250</td>\n",
       "      <td>True</td>\n",
       "      <td>VWC</td>\n",
       "      <td>True</td>\n",
       "      <td>2009</td>\n",
       "      <td>gravity</td>\n",
       "      <td>gravity</td>\n",
       "      <td>gravity</td>\n",
       "      <td>vwc</td>\n",
       "      <td>user-group</td>\n",
       "      <td>pay per bucket</td>\n",
       "      <td>per bucket</td>\n",
       "      <td>soft</td>\n",
       "      <td>good</td>\n",
       "      <td>enough</td>\n",
       "      <td>enough</td>\n",
       "      <td>dam</td>\n",
       "      <td>dam</td>\n",
       "      <td>surface</td>\n",
       "      <td>communal standpipe multiple</td>\n",
       "      <td>communal standpipe</td>\n",
       "      <td>functional</td>\n",
       "      <td>34310</td>\n",
       "    </tr>\n",
       "    <tr>\n",
       "      <th>3</th>\n",
       "      <td>67743</td>\n",
       "      <td>0.0</td>\n",
       "      <td>2013-01-28</td>\n",
       "      <td>Unicef</td>\n",
       "      <td>263</td>\n",
       "      <td>UNICEF</td>\n",
       "      <td>38.486161</td>\n",
       "      <td>-11.155298</td>\n",
       "      <td>Zahanati Ya Nanyumbu</td>\n",
       "      <td>0</td>\n",
       "      <td>Ruvuma / Southern Coast</td>\n",
       "      <td>Mahakamani</td>\n",
       "      <td>Mtwara</td>\n",
       "      <td>90</td>\n",
       "      <td>63</td>\n",
       "      <td>Nanyumbu</td>\n",
       "      <td>Nanyumbu</td>\n",
       "      <td>58</td>\n",
       "      <td>True</td>\n",
       "      <td>VWC</td>\n",
       "      <td>True</td>\n",
       "      <td>1986</td>\n",
       "      <td>submersible</td>\n",
       "      <td>submersible</td>\n",
       "      <td>submersible</td>\n",
       "      <td>vwc</td>\n",
       "      <td>user-group</td>\n",
       "      <td>never pay</td>\n",
       "      <td>never pay</td>\n",
       "      <td>soft</td>\n",
       "      <td>good</td>\n",
       "      <td>dry</td>\n",
       "      <td>dry</td>\n",
       "      <td>machine dbh</td>\n",
       "      <td>borehole</td>\n",
       "      <td>groundwater</td>\n",
       "      <td>communal standpipe multiple</td>\n",
       "      <td>communal standpipe</td>\n",
       "      <td>non functional</td>\n",
       "      <td>67743</td>\n",
       "    </tr>\n",
       "    <tr>\n",
       "      <th>4</th>\n",
       "      <td>19728</td>\n",
       "      <td>0.0</td>\n",
       "      <td>2011-07-13</td>\n",
       "      <td>Action In A</td>\n",
       "      <td>0</td>\n",
       "      <td>Artisan</td>\n",
       "      <td>31.130847</td>\n",
       "      <td>-1.825359</td>\n",
       "      <td>Shuleni</td>\n",
       "      <td>0</td>\n",
       "      <td>Lake Victoria</td>\n",
       "      <td>Kyanyamisa</td>\n",
       "      <td>Kagera</td>\n",
       "      <td>18</td>\n",
       "      <td>1</td>\n",
       "      <td>Karagwe</td>\n",
       "      <td>Nyakasimbi</td>\n",
       "      <td>0</td>\n",
       "      <td>True</td>\n",
       "      <td>VWC</td>\n",
       "      <td>True</td>\n",
       "      <td>0</td>\n",
       "      <td>gravity</td>\n",
       "      <td>gravity</td>\n",
       "      <td>gravity</td>\n",
       "      <td>other</td>\n",
       "      <td>other</td>\n",
       "      <td>never pay</td>\n",
       "      <td>never pay</td>\n",
       "      <td>soft</td>\n",
       "      <td>good</td>\n",
       "      <td>seasonal</td>\n",
       "      <td>seasonal</td>\n",
       "      <td>rainwater harvesting</td>\n",
       "      <td>rainwater harvesting</td>\n",
       "      <td>surface</td>\n",
       "      <td>communal standpipe</td>\n",
       "      <td>communal standpipe</td>\n",
       "      <td>functional</td>\n",
       "      <td>19728</td>\n",
       "    </tr>\n",
       "    <tr>\n",
       "      <th>...</th>\n",
       "      <td>...</td>\n",
       "      <td>...</td>\n",
       "      <td>...</td>\n",
       "      <td>...</td>\n",
       "      <td>...</td>\n",
       "      <td>...</td>\n",
       "      <td>...</td>\n",
       "      <td>...</td>\n",
       "      <td>...</td>\n",
       "      <td>...</td>\n",
       "      <td>...</td>\n",
       "      <td>...</td>\n",
       "      <td>...</td>\n",
       "      <td>...</td>\n",
       "      <td>...</td>\n",
       "      <td>...</td>\n",
       "      <td>...</td>\n",
       "      <td>...</td>\n",
       "      <td>...</td>\n",
       "      <td>...</td>\n",
       "      <td>...</td>\n",
       "      <td>...</td>\n",
       "      <td>...</td>\n",
       "      <td>...</td>\n",
       "      <td>...</td>\n",
       "      <td>...</td>\n",
       "      <td>...</td>\n",
       "      <td>...</td>\n",
       "      <td>...</td>\n",
       "      <td>...</td>\n",
       "      <td>...</td>\n",
       "      <td>...</td>\n",
       "      <td>...</td>\n",
       "      <td>...</td>\n",
       "      <td>...</td>\n",
       "      <td>...</td>\n",
       "      <td>...</td>\n",
       "      <td>...</td>\n",
       "      <td>...</td>\n",
       "      <td>...</td>\n",
       "    </tr>\n",
       "    <tr>\n",
       "      <th>59395</th>\n",
       "      <td>60739</td>\n",
       "      <td>10.0</td>\n",
       "      <td>2013-05-03</td>\n",
       "      <td>Germany Republi</td>\n",
       "      <td>1210</td>\n",
       "      <td>CES</td>\n",
       "      <td>37.169807</td>\n",
       "      <td>-3.253847</td>\n",
       "      <td>Area Three Namba 27</td>\n",
       "      <td>0</td>\n",
       "      <td>Pangani</td>\n",
       "      <td>Kiduruni</td>\n",
       "      <td>Kilimanjaro</td>\n",
       "      <td>3</td>\n",
       "      <td>5</td>\n",
       "      <td>Hai</td>\n",
       "      <td>Masama Magharibi</td>\n",
       "      <td>125</td>\n",
       "      <td>True</td>\n",
       "      <td>Water Board</td>\n",
       "      <td>True</td>\n",
       "      <td>1999</td>\n",
       "      <td>gravity</td>\n",
       "      <td>gravity</td>\n",
       "      <td>gravity</td>\n",
       "      <td>water board</td>\n",
       "      <td>user-group</td>\n",
       "      <td>pay per bucket</td>\n",
       "      <td>per bucket</td>\n",
       "      <td>soft</td>\n",
       "      <td>good</td>\n",
       "      <td>enough</td>\n",
       "      <td>enough</td>\n",
       "      <td>spring</td>\n",
       "      <td>spring</td>\n",
       "      <td>groundwater</td>\n",
       "      <td>communal standpipe</td>\n",
       "      <td>communal standpipe</td>\n",
       "      <td>functional</td>\n",
       "      <td>60739</td>\n",
       "    </tr>\n",
       "    <tr>\n",
       "      <th>59396</th>\n",
       "      <td>27263</td>\n",
       "      <td>4700.0</td>\n",
       "      <td>2011-05-07</td>\n",
       "      <td>Cefa-njombe</td>\n",
       "      <td>1212</td>\n",
       "      <td>Cefa</td>\n",
       "      <td>35.249991</td>\n",
       "      <td>-9.070629</td>\n",
       "      <td>Kwa Yahona Kuvala</td>\n",
       "      <td>0</td>\n",
       "      <td>Rufiji</td>\n",
       "      <td>Igumbilo</td>\n",
       "      <td>Iringa</td>\n",
       "      <td>11</td>\n",
       "      <td>4</td>\n",
       "      <td>Njombe</td>\n",
       "      <td>Ikondo</td>\n",
       "      <td>56</td>\n",
       "      <td>True</td>\n",
       "      <td>VWC</td>\n",
       "      <td>True</td>\n",
       "      <td>1996</td>\n",
       "      <td>gravity</td>\n",
       "      <td>gravity</td>\n",
       "      <td>gravity</td>\n",
       "      <td>vwc</td>\n",
       "      <td>user-group</td>\n",
       "      <td>pay annually</td>\n",
       "      <td>annually</td>\n",
       "      <td>soft</td>\n",
       "      <td>good</td>\n",
       "      <td>enough</td>\n",
       "      <td>enough</td>\n",
       "      <td>river</td>\n",
       "      <td>river/lake</td>\n",
       "      <td>surface</td>\n",
       "      <td>communal standpipe</td>\n",
       "      <td>communal standpipe</td>\n",
       "      <td>functional</td>\n",
       "      <td>27263</td>\n",
       "    </tr>\n",
       "    <tr>\n",
       "      <th>59397</th>\n",
       "      <td>37057</td>\n",
       "      <td>0.0</td>\n",
       "      <td>2011-04-11</td>\n",
       "      <td>Government Of Tanzania</td>\n",
       "      <td>0</td>\n",
       "      <td>DWE</td>\n",
       "      <td>34.017087</td>\n",
       "      <td>-8.750434</td>\n",
       "      <td>Mashine</td>\n",
       "      <td>0</td>\n",
       "      <td>Rufiji</td>\n",
       "      <td>Madungulu</td>\n",
       "      <td>Mbeya</td>\n",
       "      <td>12</td>\n",
       "      <td>7</td>\n",
       "      <td>Mbarali</td>\n",
       "      <td>Chimala</td>\n",
       "      <td>0</td>\n",
       "      <td>True</td>\n",
       "      <td>VWC</td>\n",
       "      <td>False</td>\n",
       "      <td>0</td>\n",
       "      <td>swn 80</td>\n",
       "      <td>swn 80</td>\n",
       "      <td>handpump</td>\n",
       "      <td>vwc</td>\n",
       "      <td>user-group</td>\n",
       "      <td>pay monthly</td>\n",
       "      <td>monthly</td>\n",
       "      <td>fluoride</td>\n",
       "      <td>fluoride</td>\n",
       "      <td>enough</td>\n",
       "      <td>enough</td>\n",
       "      <td>machine dbh</td>\n",
       "      <td>borehole</td>\n",
       "      <td>groundwater</td>\n",
       "      <td>hand pump</td>\n",
       "      <td>hand pump</td>\n",
       "      <td>functional</td>\n",
       "      <td>37057</td>\n",
       "    </tr>\n",
       "    <tr>\n",
       "      <th>59398</th>\n",
       "      <td>31282</td>\n",
       "      <td>0.0</td>\n",
       "      <td>2011-03-08</td>\n",
       "      <td>Malec</td>\n",
       "      <td>0</td>\n",
       "      <td>Musa</td>\n",
       "      <td>35.861315</td>\n",
       "      <td>-6.378573</td>\n",
       "      <td>Mshoro</td>\n",
       "      <td>0</td>\n",
       "      <td>Rufiji</td>\n",
       "      <td>Mwinyi</td>\n",
       "      <td>Dodoma</td>\n",
       "      <td>1</td>\n",
       "      <td>4</td>\n",
       "      <td>Chamwino</td>\n",
       "      <td>Mvumi Makulu</td>\n",
       "      <td>0</td>\n",
       "      <td>True</td>\n",
       "      <td>VWC</td>\n",
       "      <td>True</td>\n",
       "      <td>0</td>\n",
       "      <td>nira/tanira</td>\n",
       "      <td>nira/tanira</td>\n",
       "      <td>handpump</td>\n",
       "      <td>vwc</td>\n",
       "      <td>user-group</td>\n",
       "      <td>never pay</td>\n",
       "      <td>never pay</td>\n",
       "      <td>soft</td>\n",
       "      <td>good</td>\n",
       "      <td>insufficient</td>\n",
       "      <td>insufficient</td>\n",
       "      <td>shallow well</td>\n",
       "      <td>shallow well</td>\n",
       "      <td>groundwater</td>\n",
       "      <td>hand pump</td>\n",
       "      <td>hand pump</td>\n",
       "      <td>functional</td>\n",
       "      <td>31282</td>\n",
       "    </tr>\n",
       "    <tr>\n",
       "      <th>59399</th>\n",
       "      <td>26348</td>\n",
       "      <td>0.0</td>\n",
       "      <td>2011-03-23</td>\n",
       "      <td>World Bank</td>\n",
       "      <td>191</td>\n",
       "      <td>World</td>\n",
       "      <td>38.104048</td>\n",
       "      <td>-6.747464</td>\n",
       "      <td>Kwa Mzee Lugawa</td>\n",
       "      <td>0</td>\n",
       "      <td>Wami / Ruvu</td>\n",
       "      <td>Kikatanyemba</td>\n",
       "      <td>Morogoro</td>\n",
       "      <td>5</td>\n",
       "      <td>2</td>\n",
       "      <td>Morogoro Rural</td>\n",
       "      <td>Ngerengere</td>\n",
       "      <td>150</td>\n",
       "      <td>True</td>\n",
       "      <td>VWC</td>\n",
       "      <td>True</td>\n",
       "      <td>2002</td>\n",
       "      <td>nira/tanira</td>\n",
       "      <td>nira/tanira</td>\n",
       "      <td>handpump</td>\n",
       "      <td>vwc</td>\n",
       "      <td>user-group</td>\n",
       "      <td>pay when scheme fails</td>\n",
       "      <td>on failure</td>\n",
       "      <td>salty</td>\n",
       "      <td>salty</td>\n",
       "      <td>enough</td>\n",
       "      <td>enough</td>\n",
       "      <td>shallow well</td>\n",
       "      <td>shallow well</td>\n",
       "      <td>groundwater</td>\n",
       "      <td>hand pump</td>\n",
       "      <td>hand pump</td>\n",
       "      <td>functional</td>\n",
       "      <td>26348</td>\n",
       "    </tr>\n",
       "  </tbody>\n",
       "</table>\n",
       "<p>59400 rows × 40 columns</p>\n",
       "</div>"
      ],
      "text/plain": [
       "          id  amount_tsh date_recorded                  funder  gps_height  \\\n",
       "0      69572      6000.0    2011-03-14                   Roman        1390   \n",
       "1       8776         0.0    2013-03-06                 Grumeti        1399   \n",
       "2      34310        25.0    2013-02-25            Lottery Club         686   \n",
       "3      67743         0.0    2013-01-28                  Unicef         263   \n",
       "4      19728         0.0    2011-07-13             Action In A           0   \n",
       "...      ...         ...           ...                     ...         ...   \n",
       "59395  60739        10.0    2013-05-03         Germany Republi        1210   \n",
       "59396  27263      4700.0    2011-05-07             Cefa-njombe        1212   \n",
       "59397  37057         0.0    2011-04-11  Government Of Tanzania           0   \n",
       "59398  31282         0.0    2011-03-08                   Malec           0   \n",
       "59399  26348         0.0    2011-03-23              World Bank         191   \n",
       "\n",
       "          installer  longitude   latitude              wpt_name  num_private  \\\n",
       "0             Roman  34.938093  -9.856322                  none            0   \n",
       "1           GRUMETI  34.698766  -2.147466              Zahanati            0   \n",
       "2      World vision  37.460664  -3.821329           Kwa Mahundi            0   \n",
       "3            UNICEF  38.486161 -11.155298  Zahanati Ya Nanyumbu            0   \n",
       "4           Artisan  31.130847  -1.825359               Shuleni            0   \n",
       "...             ...        ...        ...                   ...          ...   \n",
       "59395           CES  37.169807  -3.253847   Area Three Namba 27            0   \n",
       "59396          Cefa  35.249991  -9.070629     Kwa Yahona Kuvala            0   \n",
       "59397           DWE  34.017087  -8.750434               Mashine            0   \n",
       "59398          Musa  35.861315  -6.378573                Mshoro            0   \n",
       "59399         World  38.104048  -6.747464       Kwa Mzee Lugawa            0   \n",
       "\n",
       "                         basin    subvillage       region  region_code  \\\n",
       "0                   Lake Nyasa      Mnyusi B       Iringa           11   \n",
       "1                Lake Victoria       Nyamara         Mara           20   \n",
       "2                      Pangani       Majengo      Manyara           21   \n",
       "3      Ruvuma / Southern Coast    Mahakamani       Mtwara           90   \n",
       "4                Lake Victoria    Kyanyamisa       Kagera           18   \n",
       "...                        ...           ...          ...          ...   \n",
       "59395                  Pangani      Kiduruni  Kilimanjaro            3   \n",
       "59396                   Rufiji      Igumbilo       Iringa           11   \n",
       "59397                   Rufiji     Madungulu        Mbeya           12   \n",
       "59398                   Rufiji        Mwinyi       Dodoma            1   \n",
       "59399              Wami / Ruvu  Kikatanyemba     Morogoro            5   \n",
       "\n",
       "       district_code             lga              ward  population  \\\n",
       "0                  5          Ludewa          Mundindi         109   \n",
       "1                  2       Serengeti             Natta         280   \n",
       "2                  4       Simanjiro           Ngorika         250   \n",
       "3                 63        Nanyumbu          Nanyumbu          58   \n",
       "4                  1         Karagwe        Nyakasimbi           0   \n",
       "...              ...             ...               ...         ...   \n",
       "59395              5             Hai  Masama Magharibi         125   \n",
       "59396              4          Njombe            Ikondo          56   \n",
       "59397              7         Mbarali           Chimala           0   \n",
       "59398              4        Chamwino      Mvumi Makulu           0   \n",
       "59399              2  Morogoro Rural        Ngerengere         150   \n",
       "\n",
       "       public_meeting scheme_management  permit  construction_year  \\\n",
       "0                True               VWC   False               1999   \n",
       "1                True             Other    True               2010   \n",
       "2                True               VWC    True               2009   \n",
       "3                True               VWC    True               1986   \n",
       "4                True               VWC    True                  0   \n",
       "...               ...               ...     ...                ...   \n",
       "59395            True       Water Board    True               1999   \n",
       "59396            True               VWC    True               1996   \n",
       "59397            True               VWC   False                  0   \n",
       "59398            True               VWC    True                  0   \n",
       "59399            True               VWC    True               2002   \n",
       "\n",
       "      extraction_type extraction_type_group extraction_type_class  \\\n",
       "0             gravity               gravity               gravity   \n",
       "1             gravity               gravity               gravity   \n",
       "2             gravity               gravity               gravity   \n",
       "3         submersible           submersible           submersible   \n",
       "4             gravity               gravity               gravity   \n",
       "...               ...                   ...                   ...   \n",
       "59395         gravity               gravity               gravity   \n",
       "59396         gravity               gravity               gravity   \n",
       "59397          swn 80                swn 80              handpump   \n",
       "59398     nira/tanira           nira/tanira              handpump   \n",
       "59399     nira/tanira           nira/tanira              handpump   \n",
       "\n",
       "        management management_group                payment payment_type  \\\n",
       "0              vwc       user-group           pay annually     annually   \n",
       "1              wug       user-group              never pay    never pay   \n",
       "2              vwc       user-group         pay per bucket   per bucket   \n",
       "3              vwc       user-group              never pay    never pay   \n",
       "4            other            other              never pay    never pay   \n",
       "...            ...              ...                    ...          ...   \n",
       "59395  water board       user-group         pay per bucket   per bucket   \n",
       "59396          vwc       user-group           pay annually     annually   \n",
       "59397          vwc       user-group            pay monthly      monthly   \n",
       "59398          vwc       user-group              never pay    never pay   \n",
       "59399          vwc       user-group  pay when scheme fails   on failure   \n",
       "\n",
       "      water_quality quality_group      quantity quantity_group  \\\n",
       "0              soft          good        enough         enough   \n",
       "1              soft          good  insufficient   insufficient   \n",
       "2              soft          good        enough         enough   \n",
       "3              soft          good           dry            dry   \n",
       "4              soft          good      seasonal       seasonal   \n",
       "...             ...           ...           ...            ...   \n",
       "59395          soft          good        enough         enough   \n",
       "59396          soft          good        enough         enough   \n",
       "59397      fluoride      fluoride        enough         enough   \n",
       "59398          soft          good  insufficient   insufficient   \n",
       "59399         salty         salty        enough         enough   \n",
       "\n",
       "                     source           source_type source_class  \\\n",
       "0                    spring                spring  groundwater   \n",
       "1      rainwater harvesting  rainwater harvesting      surface   \n",
       "2                       dam                   dam      surface   \n",
       "3               machine dbh              borehole  groundwater   \n",
       "4      rainwater harvesting  rainwater harvesting      surface   \n",
       "...                     ...                   ...          ...   \n",
       "59395                spring                spring  groundwater   \n",
       "59396                 river            river/lake      surface   \n",
       "59397           machine dbh              borehole  groundwater   \n",
       "59398          shallow well          shallow well  groundwater   \n",
       "59399          shallow well          shallow well  groundwater   \n",
       "\n",
       "                   waterpoint_type waterpoint_type_group    status_group  \\\n",
       "0               communal standpipe    communal standpipe      functional   \n",
       "1               communal standpipe    communal standpipe      functional   \n",
       "2      communal standpipe multiple    communal standpipe      functional   \n",
       "3      communal standpipe multiple    communal standpipe  non functional   \n",
       "4               communal standpipe    communal standpipe      functional   \n",
       "...                            ...                   ...             ...   \n",
       "59395           communal standpipe    communal standpipe      functional   \n",
       "59396           communal standpipe    communal standpipe      functional   \n",
       "59397                    hand pump             hand pump      functional   \n",
       "59398                    hand pump             hand pump      functional   \n",
       "59399                    hand pump             hand pump      functional   \n",
       "\n",
       "        id_2  \n",
       "0      69572  \n",
       "1       8776  \n",
       "2      34310  \n",
       "3      67743  \n",
       "4      19728  \n",
       "...      ...  \n",
       "59395  60739  \n",
       "59396  27263  \n",
       "59397  37057  \n",
       "59398  31282  \n",
       "59399  26348  \n",
       "\n",
       "[59400 rows x 40 columns]"
      ]
     },
     "execution_count": 38,
     "metadata": {},
     "output_type": "execute_result"
    }
   ],
   "source": [
    "df_mode[df_mode['id'] == df_mode['id_2']]"
   ]
  },
  {
   "cell_type": "code",
   "execution_count": 39,
   "metadata": {},
   "outputs": [
    {
     "data": {
      "text/html": [
       "<div>\n",
       "<style scoped>\n",
       "    .dataframe tbody tr th:only-of-type {\n",
       "        vertical-align: middle;\n",
       "    }\n",
       "\n",
       "    .dataframe tbody tr th {\n",
       "        vertical-align: top;\n",
       "    }\n",
       "\n",
       "    .dataframe thead th {\n",
       "        text-align: right;\n",
       "    }\n",
       "</style>\n",
       "<table border=\"1\" class=\"dataframe\">\n",
       "  <thead>\n",
       "    <tr style=\"text-align: right;\">\n",
       "      <th></th>\n",
       "      <th>id</th>\n",
       "      <th>amount_tsh</th>\n",
       "      <th>date_recorded</th>\n",
       "      <th>funder</th>\n",
       "      <th>gps_height</th>\n",
       "      <th>installer</th>\n",
       "      <th>longitude</th>\n",
       "      <th>latitude</th>\n",
       "      <th>wpt_name</th>\n",
       "      <th>num_private</th>\n",
       "      <th>basin</th>\n",
       "      <th>subvillage</th>\n",
       "      <th>region</th>\n",
       "      <th>region_code</th>\n",
       "      <th>district_code</th>\n",
       "      <th>lga</th>\n",
       "      <th>ward</th>\n",
       "      <th>population</th>\n",
       "      <th>public_meeting</th>\n",
       "      <th>scheme_management</th>\n",
       "      <th>permit</th>\n",
       "      <th>construction_year</th>\n",
       "      <th>extraction_type</th>\n",
       "      <th>extraction_type_group</th>\n",
       "      <th>extraction_type_class</th>\n",
       "      <th>management</th>\n",
       "      <th>management_group</th>\n",
       "      <th>payment</th>\n",
       "      <th>payment_type</th>\n",
       "      <th>water_quality</th>\n",
       "      <th>quality_group</th>\n",
       "      <th>quantity</th>\n",
       "      <th>quantity_group</th>\n",
       "      <th>source</th>\n",
       "      <th>source_type</th>\n",
       "      <th>source_class</th>\n",
       "      <th>waterpoint_type</th>\n",
       "      <th>waterpoint_type_group</th>\n",
       "      <th>status_group</th>\n",
       "      <th>id_2</th>\n",
       "    </tr>\n",
       "  </thead>\n",
       "  <tbody>\n",
       "    <tr>\n",
       "      <th>0</th>\n",
       "      <td>69572</td>\n",
       "      <td>6000.0</td>\n",
       "      <td>2011-03-14</td>\n",
       "      <td>Roman</td>\n",
       "      <td>1390</td>\n",
       "      <td>Roman</td>\n",
       "      <td>34.938093</td>\n",
       "      <td>-9.856322</td>\n",
       "      <td>none</td>\n",
       "      <td>0</td>\n",
       "      <td>Lake Nyasa</td>\n",
       "      <td>Mnyusi B</td>\n",
       "      <td>Iringa</td>\n",
       "      <td>11</td>\n",
       "      <td>5</td>\n",
       "      <td>Ludewa</td>\n",
       "      <td>Mundindi</td>\n",
       "      <td>109</td>\n",
       "      <td>True</td>\n",
       "      <td>VWC</td>\n",
       "      <td>False</td>\n",
       "      <td>1999</td>\n",
       "      <td>gravity</td>\n",
       "      <td>gravity</td>\n",
       "      <td>gravity</td>\n",
       "      <td>vwc</td>\n",
       "      <td>user-group</td>\n",
       "      <td>pay annually</td>\n",
       "      <td>annually</td>\n",
       "      <td>soft</td>\n",
       "      <td>good</td>\n",
       "      <td>enough</td>\n",
       "      <td>enough</td>\n",
       "      <td>spring</td>\n",
       "      <td>spring</td>\n",
       "      <td>groundwater</td>\n",
       "      <td>communal standpipe</td>\n",
       "      <td>communal standpipe</td>\n",
       "      <td>functional</td>\n",
       "      <td>69572</td>\n",
       "    </tr>\n",
       "    <tr>\n",
       "      <th>1</th>\n",
       "      <td>8776</td>\n",
       "      <td>0.0</td>\n",
       "      <td>2013-03-06</td>\n",
       "      <td>Grumeti</td>\n",
       "      <td>1399</td>\n",
       "      <td>GRUMETI</td>\n",
       "      <td>34.698766</td>\n",
       "      <td>-2.147466</td>\n",
       "      <td>Zahanati</td>\n",
       "      <td>0</td>\n",
       "      <td>Lake Victoria</td>\n",
       "      <td>Nyamara</td>\n",
       "      <td>Mara</td>\n",
       "      <td>20</td>\n",
       "      <td>2</td>\n",
       "      <td>Serengeti</td>\n",
       "      <td>Natta</td>\n",
       "      <td>280</td>\n",
       "      <td>Other</td>\n",
       "      <td>Other</td>\n",
       "      <td>True</td>\n",
       "      <td>2010</td>\n",
       "      <td>gravity</td>\n",
       "      <td>gravity</td>\n",
       "      <td>gravity</td>\n",
       "      <td>wug</td>\n",
       "      <td>user-group</td>\n",
       "      <td>never pay</td>\n",
       "      <td>never pay</td>\n",
       "      <td>soft</td>\n",
       "      <td>good</td>\n",
       "      <td>insufficient</td>\n",
       "      <td>insufficient</td>\n",
       "      <td>rainwater harvesting</td>\n",
       "      <td>rainwater harvesting</td>\n",
       "      <td>surface</td>\n",
       "      <td>communal standpipe</td>\n",
       "      <td>communal standpipe</td>\n",
       "      <td>functional</td>\n",
       "      <td>8776</td>\n",
       "    </tr>\n",
       "    <tr>\n",
       "      <th>2</th>\n",
       "      <td>34310</td>\n",
       "      <td>25.0</td>\n",
       "      <td>2013-02-25</td>\n",
       "      <td>Lottery Club</td>\n",
       "      <td>686</td>\n",
       "      <td>World vision</td>\n",
       "      <td>37.460664</td>\n",
       "      <td>-3.821329</td>\n",
       "      <td>Kwa Mahundi</td>\n",
       "      <td>0</td>\n",
       "      <td>Pangani</td>\n",
       "      <td>Majengo</td>\n",
       "      <td>Manyara</td>\n",
       "      <td>21</td>\n",
       "      <td>4</td>\n",
       "      <td>Simanjiro</td>\n",
       "      <td>Ngorika</td>\n",
       "      <td>250</td>\n",
       "      <td>True</td>\n",
       "      <td>VWC</td>\n",
       "      <td>True</td>\n",
       "      <td>2009</td>\n",
       "      <td>gravity</td>\n",
       "      <td>gravity</td>\n",
       "      <td>gravity</td>\n",
       "      <td>vwc</td>\n",
       "      <td>user-group</td>\n",
       "      <td>pay per bucket</td>\n",
       "      <td>per bucket</td>\n",
       "      <td>soft</td>\n",
       "      <td>good</td>\n",
       "      <td>enough</td>\n",
       "      <td>enough</td>\n",
       "      <td>dam</td>\n",
       "      <td>dam</td>\n",
       "      <td>surface</td>\n",
       "      <td>communal standpipe multiple</td>\n",
       "      <td>communal standpipe</td>\n",
       "      <td>functional</td>\n",
       "      <td>34310</td>\n",
       "    </tr>\n",
       "    <tr>\n",
       "      <th>3</th>\n",
       "      <td>67743</td>\n",
       "      <td>0.0</td>\n",
       "      <td>2013-01-28</td>\n",
       "      <td>Unicef</td>\n",
       "      <td>263</td>\n",
       "      <td>UNICEF</td>\n",
       "      <td>38.486161</td>\n",
       "      <td>-11.155298</td>\n",
       "      <td>Zahanati Ya Nanyumbu</td>\n",
       "      <td>0</td>\n",
       "      <td>Ruvuma / Southern Coast</td>\n",
       "      <td>Mahakamani</td>\n",
       "      <td>Mtwara</td>\n",
       "      <td>90</td>\n",
       "      <td>63</td>\n",
       "      <td>Nanyumbu</td>\n",
       "      <td>Nanyumbu</td>\n",
       "      <td>58</td>\n",
       "      <td>True</td>\n",
       "      <td>VWC</td>\n",
       "      <td>True</td>\n",
       "      <td>1986</td>\n",
       "      <td>submersible</td>\n",
       "      <td>submersible</td>\n",
       "      <td>submersible</td>\n",
       "      <td>vwc</td>\n",
       "      <td>user-group</td>\n",
       "      <td>never pay</td>\n",
       "      <td>never pay</td>\n",
       "      <td>soft</td>\n",
       "      <td>good</td>\n",
       "      <td>dry</td>\n",
       "      <td>dry</td>\n",
       "      <td>machine dbh</td>\n",
       "      <td>borehole</td>\n",
       "      <td>groundwater</td>\n",
       "      <td>communal standpipe multiple</td>\n",
       "      <td>communal standpipe</td>\n",
       "      <td>non functional</td>\n",
       "      <td>67743</td>\n",
       "    </tr>\n",
       "    <tr>\n",
       "      <th>4</th>\n",
       "      <td>19728</td>\n",
       "      <td>0.0</td>\n",
       "      <td>2011-07-13</td>\n",
       "      <td>Action In A</td>\n",
       "      <td>0</td>\n",
       "      <td>Artisan</td>\n",
       "      <td>31.130847</td>\n",
       "      <td>-1.825359</td>\n",
       "      <td>Shuleni</td>\n",
       "      <td>0</td>\n",
       "      <td>Lake Victoria</td>\n",
       "      <td>Kyanyamisa</td>\n",
       "      <td>Kagera</td>\n",
       "      <td>18</td>\n",
       "      <td>1</td>\n",
       "      <td>Karagwe</td>\n",
       "      <td>Nyakasimbi</td>\n",
       "      <td>0</td>\n",
       "      <td>True</td>\n",
       "      <td>Other</td>\n",
       "      <td>True</td>\n",
       "      <td>0</td>\n",
       "      <td>gravity</td>\n",
       "      <td>gravity</td>\n",
       "      <td>gravity</td>\n",
       "      <td>other</td>\n",
       "      <td>other</td>\n",
       "      <td>never pay</td>\n",
       "      <td>never pay</td>\n",
       "      <td>soft</td>\n",
       "      <td>good</td>\n",
       "      <td>seasonal</td>\n",
       "      <td>seasonal</td>\n",
       "      <td>rainwater harvesting</td>\n",
       "      <td>rainwater harvesting</td>\n",
       "      <td>surface</td>\n",
       "      <td>communal standpipe</td>\n",
       "      <td>communal standpipe</td>\n",
       "      <td>functional</td>\n",
       "      <td>19728</td>\n",
       "    </tr>\n",
       "    <tr>\n",
       "      <th>...</th>\n",
       "      <td>...</td>\n",
       "      <td>...</td>\n",
       "      <td>...</td>\n",
       "      <td>...</td>\n",
       "      <td>...</td>\n",
       "      <td>...</td>\n",
       "      <td>...</td>\n",
       "      <td>...</td>\n",
       "      <td>...</td>\n",
       "      <td>...</td>\n",
       "      <td>...</td>\n",
       "      <td>...</td>\n",
       "      <td>...</td>\n",
       "      <td>...</td>\n",
       "      <td>...</td>\n",
       "      <td>...</td>\n",
       "      <td>...</td>\n",
       "      <td>...</td>\n",
       "      <td>...</td>\n",
       "      <td>...</td>\n",
       "      <td>...</td>\n",
       "      <td>...</td>\n",
       "      <td>...</td>\n",
       "      <td>...</td>\n",
       "      <td>...</td>\n",
       "      <td>...</td>\n",
       "      <td>...</td>\n",
       "      <td>...</td>\n",
       "      <td>...</td>\n",
       "      <td>...</td>\n",
       "      <td>...</td>\n",
       "      <td>...</td>\n",
       "      <td>...</td>\n",
       "      <td>...</td>\n",
       "      <td>...</td>\n",
       "      <td>...</td>\n",
       "      <td>...</td>\n",
       "      <td>...</td>\n",
       "      <td>...</td>\n",
       "      <td>...</td>\n",
       "    </tr>\n",
       "    <tr>\n",
       "      <th>59395</th>\n",
       "      <td>60739</td>\n",
       "      <td>10.0</td>\n",
       "      <td>2013-05-03</td>\n",
       "      <td>Germany Republi</td>\n",
       "      <td>1210</td>\n",
       "      <td>CES</td>\n",
       "      <td>37.169807</td>\n",
       "      <td>-3.253847</td>\n",
       "      <td>Area Three Namba 27</td>\n",
       "      <td>0</td>\n",
       "      <td>Pangani</td>\n",
       "      <td>Kiduruni</td>\n",
       "      <td>Kilimanjaro</td>\n",
       "      <td>3</td>\n",
       "      <td>5</td>\n",
       "      <td>Hai</td>\n",
       "      <td>Masama Magharibi</td>\n",
       "      <td>125</td>\n",
       "      <td>True</td>\n",
       "      <td>Water Board</td>\n",
       "      <td>True</td>\n",
       "      <td>1999</td>\n",
       "      <td>gravity</td>\n",
       "      <td>gravity</td>\n",
       "      <td>gravity</td>\n",
       "      <td>water board</td>\n",
       "      <td>user-group</td>\n",
       "      <td>pay per bucket</td>\n",
       "      <td>per bucket</td>\n",
       "      <td>soft</td>\n",
       "      <td>good</td>\n",
       "      <td>enough</td>\n",
       "      <td>enough</td>\n",
       "      <td>spring</td>\n",
       "      <td>spring</td>\n",
       "      <td>groundwater</td>\n",
       "      <td>communal standpipe</td>\n",
       "      <td>communal standpipe</td>\n",
       "      <td>functional</td>\n",
       "      <td>60739</td>\n",
       "    </tr>\n",
       "    <tr>\n",
       "      <th>59396</th>\n",
       "      <td>27263</td>\n",
       "      <td>4700.0</td>\n",
       "      <td>2011-05-07</td>\n",
       "      <td>Cefa-njombe</td>\n",
       "      <td>1212</td>\n",
       "      <td>Cefa</td>\n",
       "      <td>35.249991</td>\n",
       "      <td>-9.070629</td>\n",
       "      <td>Kwa Yahona Kuvala</td>\n",
       "      <td>0</td>\n",
       "      <td>Rufiji</td>\n",
       "      <td>Igumbilo</td>\n",
       "      <td>Iringa</td>\n",
       "      <td>11</td>\n",
       "      <td>4</td>\n",
       "      <td>Njombe</td>\n",
       "      <td>Ikondo</td>\n",
       "      <td>56</td>\n",
       "      <td>True</td>\n",
       "      <td>VWC</td>\n",
       "      <td>True</td>\n",
       "      <td>1996</td>\n",
       "      <td>gravity</td>\n",
       "      <td>gravity</td>\n",
       "      <td>gravity</td>\n",
       "      <td>vwc</td>\n",
       "      <td>user-group</td>\n",
       "      <td>pay annually</td>\n",
       "      <td>annually</td>\n",
       "      <td>soft</td>\n",
       "      <td>good</td>\n",
       "      <td>enough</td>\n",
       "      <td>enough</td>\n",
       "      <td>river</td>\n",
       "      <td>river/lake</td>\n",
       "      <td>surface</td>\n",
       "      <td>communal standpipe</td>\n",
       "      <td>communal standpipe</td>\n",
       "      <td>functional</td>\n",
       "      <td>27263</td>\n",
       "    </tr>\n",
       "    <tr>\n",
       "      <th>59397</th>\n",
       "      <td>37057</td>\n",
       "      <td>0.0</td>\n",
       "      <td>2011-04-11</td>\n",
       "      <td>Other</td>\n",
       "      <td>0</td>\n",
       "      <td>Other</td>\n",
       "      <td>34.017087</td>\n",
       "      <td>-8.750434</td>\n",
       "      <td>Mashine</td>\n",
       "      <td>0</td>\n",
       "      <td>Rufiji</td>\n",
       "      <td>Madungulu</td>\n",
       "      <td>Mbeya</td>\n",
       "      <td>12</td>\n",
       "      <td>7</td>\n",
       "      <td>Mbarali</td>\n",
       "      <td>Chimala</td>\n",
       "      <td>0</td>\n",
       "      <td>True</td>\n",
       "      <td>VWC</td>\n",
       "      <td>False</td>\n",
       "      <td>0</td>\n",
       "      <td>swn 80</td>\n",
       "      <td>swn 80</td>\n",
       "      <td>handpump</td>\n",
       "      <td>vwc</td>\n",
       "      <td>user-group</td>\n",
       "      <td>pay monthly</td>\n",
       "      <td>monthly</td>\n",
       "      <td>fluoride</td>\n",
       "      <td>fluoride</td>\n",
       "      <td>enough</td>\n",
       "      <td>enough</td>\n",
       "      <td>machine dbh</td>\n",
       "      <td>borehole</td>\n",
       "      <td>groundwater</td>\n",
       "      <td>hand pump</td>\n",
       "      <td>hand pump</td>\n",
       "      <td>functional</td>\n",
       "      <td>37057</td>\n",
       "    </tr>\n",
       "    <tr>\n",
       "      <th>59398</th>\n",
       "      <td>31282</td>\n",
       "      <td>0.0</td>\n",
       "      <td>2011-03-08</td>\n",
       "      <td>Malec</td>\n",
       "      <td>0</td>\n",
       "      <td>Musa</td>\n",
       "      <td>35.861315</td>\n",
       "      <td>-6.378573</td>\n",
       "      <td>Mshoro</td>\n",
       "      <td>0</td>\n",
       "      <td>Rufiji</td>\n",
       "      <td>Mwinyi</td>\n",
       "      <td>Dodoma</td>\n",
       "      <td>1</td>\n",
       "      <td>4</td>\n",
       "      <td>Chamwino</td>\n",
       "      <td>Mvumi Makulu</td>\n",
       "      <td>0</td>\n",
       "      <td>True</td>\n",
       "      <td>VWC</td>\n",
       "      <td>True</td>\n",
       "      <td>0</td>\n",
       "      <td>nira/tanira</td>\n",
       "      <td>nira/tanira</td>\n",
       "      <td>handpump</td>\n",
       "      <td>vwc</td>\n",
       "      <td>user-group</td>\n",
       "      <td>never pay</td>\n",
       "      <td>never pay</td>\n",
       "      <td>soft</td>\n",
       "      <td>good</td>\n",
       "      <td>insufficient</td>\n",
       "      <td>insufficient</td>\n",
       "      <td>shallow well</td>\n",
       "      <td>shallow well</td>\n",
       "      <td>groundwater</td>\n",
       "      <td>hand pump</td>\n",
       "      <td>hand pump</td>\n",
       "      <td>functional</td>\n",
       "      <td>31282</td>\n",
       "    </tr>\n",
       "    <tr>\n",
       "      <th>59399</th>\n",
       "      <td>26348</td>\n",
       "      <td>0.0</td>\n",
       "      <td>2011-03-23</td>\n",
       "      <td>World Bank</td>\n",
       "      <td>191</td>\n",
       "      <td>World</td>\n",
       "      <td>38.104048</td>\n",
       "      <td>-6.747464</td>\n",
       "      <td>Kwa Mzee Lugawa</td>\n",
       "      <td>0</td>\n",
       "      <td>Wami / Ruvu</td>\n",
       "      <td>Kikatanyemba</td>\n",
       "      <td>Morogoro</td>\n",
       "      <td>5</td>\n",
       "      <td>2</td>\n",
       "      <td>Morogoro Rural</td>\n",
       "      <td>Ngerengere</td>\n",
       "      <td>150</td>\n",
       "      <td>True</td>\n",
       "      <td>VWC</td>\n",
       "      <td>True</td>\n",
       "      <td>2002</td>\n",
       "      <td>nira/tanira</td>\n",
       "      <td>nira/tanira</td>\n",
       "      <td>handpump</td>\n",
       "      <td>vwc</td>\n",
       "      <td>user-group</td>\n",
       "      <td>pay when scheme fails</td>\n",
       "      <td>on failure</td>\n",
       "      <td>salty</td>\n",
       "      <td>salty</td>\n",
       "      <td>enough</td>\n",
       "      <td>enough</td>\n",
       "      <td>shallow well</td>\n",
       "      <td>shallow well</td>\n",
       "      <td>groundwater</td>\n",
       "      <td>hand pump</td>\n",
       "      <td>hand pump</td>\n",
       "      <td>functional</td>\n",
       "      <td>26348</td>\n",
       "    </tr>\n",
       "  </tbody>\n",
       "</table>\n",
       "<p>59400 rows × 40 columns</p>\n",
       "</div>"
      ],
      "text/plain": [
       "          id  amount_tsh date_recorded           funder  gps_height  \\\n",
       "0      69572      6000.0    2011-03-14            Roman        1390   \n",
       "1       8776         0.0    2013-03-06          Grumeti        1399   \n",
       "2      34310        25.0    2013-02-25     Lottery Club         686   \n",
       "3      67743         0.0    2013-01-28           Unicef         263   \n",
       "4      19728         0.0    2011-07-13      Action In A           0   \n",
       "...      ...         ...           ...              ...         ...   \n",
       "59395  60739        10.0    2013-05-03  Germany Republi        1210   \n",
       "59396  27263      4700.0    2011-05-07      Cefa-njombe        1212   \n",
       "59397  37057         0.0    2011-04-11            Other           0   \n",
       "59398  31282         0.0    2011-03-08            Malec           0   \n",
       "59399  26348         0.0    2011-03-23       World Bank         191   \n",
       "\n",
       "          installer  longitude   latitude              wpt_name  num_private  \\\n",
       "0             Roman  34.938093  -9.856322                  none            0   \n",
       "1           GRUMETI  34.698766  -2.147466              Zahanati            0   \n",
       "2      World vision  37.460664  -3.821329           Kwa Mahundi            0   \n",
       "3            UNICEF  38.486161 -11.155298  Zahanati Ya Nanyumbu            0   \n",
       "4           Artisan  31.130847  -1.825359               Shuleni            0   \n",
       "...             ...        ...        ...                   ...          ...   \n",
       "59395           CES  37.169807  -3.253847   Area Three Namba 27            0   \n",
       "59396          Cefa  35.249991  -9.070629     Kwa Yahona Kuvala            0   \n",
       "59397         Other  34.017087  -8.750434               Mashine            0   \n",
       "59398          Musa  35.861315  -6.378573                Mshoro            0   \n",
       "59399         World  38.104048  -6.747464       Kwa Mzee Lugawa            0   \n",
       "\n",
       "                         basin    subvillage       region  region_code  \\\n",
       "0                   Lake Nyasa      Mnyusi B       Iringa           11   \n",
       "1                Lake Victoria       Nyamara         Mara           20   \n",
       "2                      Pangani       Majengo      Manyara           21   \n",
       "3      Ruvuma / Southern Coast    Mahakamani       Mtwara           90   \n",
       "4                Lake Victoria    Kyanyamisa       Kagera           18   \n",
       "...                        ...           ...          ...          ...   \n",
       "59395                  Pangani      Kiduruni  Kilimanjaro            3   \n",
       "59396                   Rufiji      Igumbilo       Iringa           11   \n",
       "59397                   Rufiji     Madungulu        Mbeya           12   \n",
       "59398                   Rufiji        Mwinyi       Dodoma            1   \n",
       "59399              Wami / Ruvu  Kikatanyemba     Morogoro            5   \n",
       "\n",
       "       district_code             lga              ward  population  \\\n",
       "0                  5          Ludewa          Mundindi         109   \n",
       "1                  2       Serengeti             Natta         280   \n",
       "2                  4       Simanjiro           Ngorika         250   \n",
       "3                 63        Nanyumbu          Nanyumbu          58   \n",
       "4                  1         Karagwe        Nyakasimbi           0   \n",
       "...              ...             ...               ...         ...   \n",
       "59395              5             Hai  Masama Magharibi         125   \n",
       "59396              4          Njombe            Ikondo          56   \n",
       "59397              7         Mbarali           Chimala           0   \n",
       "59398              4        Chamwino      Mvumi Makulu           0   \n",
       "59399              2  Morogoro Rural        Ngerengere         150   \n",
       "\n",
       "      public_meeting scheme_management permit  construction_year  \\\n",
       "0               True               VWC  False               1999   \n",
       "1              Other             Other   True               2010   \n",
       "2               True               VWC   True               2009   \n",
       "3               True               VWC   True               1986   \n",
       "4               True             Other   True                  0   \n",
       "...              ...               ...    ...                ...   \n",
       "59395           True       Water Board   True               1999   \n",
       "59396           True               VWC   True               1996   \n",
       "59397           True               VWC  False                  0   \n",
       "59398           True               VWC   True                  0   \n",
       "59399           True               VWC   True               2002   \n",
       "\n",
       "      extraction_type extraction_type_group extraction_type_class  \\\n",
       "0             gravity               gravity               gravity   \n",
       "1             gravity               gravity               gravity   \n",
       "2             gravity               gravity               gravity   \n",
       "3         submersible           submersible           submersible   \n",
       "4             gravity               gravity               gravity   \n",
       "...               ...                   ...                   ...   \n",
       "59395         gravity               gravity               gravity   \n",
       "59396         gravity               gravity               gravity   \n",
       "59397          swn 80                swn 80              handpump   \n",
       "59398     nira/tanira           nira/tanira              handpump   \n",
       "59399     nira/tanira           nira/tanira              handpump   \n",
       "\n",
       "        management management_group                payment payment_type  \\\n",
       "0              vwc       user-group           pay annually     annually   \n",
       "1              wug       user-group              never pay    never pay   \n",
       "2              vwc       user-group         pay per bucket   per bucket   \n",
       "3              vwc       user-group              never pay    never pay   \n",
       "4            other            other              never pay    never pay   \n",
       "...            ...              ...                    ...          ...   \n",
       "59395  water board       user-group         pay per bucket   per bucket   \n",
       "59396          vwc       user-group           pay annually     annually   \n",
       "59397          vwc       user-group            pay monthly      monthly   \n",
       "59398          vwc       user-group              never pay    never pay   \n",
       "59399          vwc       user-group  pay when scheme fails   on failure   \n",
       "\n",
       "      water_quality quality_group      quantity quantity_group  \\\n",
       "0              soft          good        enough         enough   \n",
       "1              soft          good  insufficient   insufficient   \n",
       "2              soft          good        enough         enough   \n",
       "3              soft          good           dry            dry   \n",
       "4              soft          good      seasonal       seasonal   \n",
       "...             ...           ...           ...            ...   \n",
       "59395          soft          good        enough         enough   \n",
       "59396          soft          good        enough         enough   \n",
       "59397      fluoride      fluoride        enough         enough   \n",
       "59398          soft          good  insufficient   insufficient   \n",
       "59399         salty         salty        enough         enough   \n",
       "\n",
       "                     source           source_type source_class  \\\n",
       "0                    spring                spring  groundwater   \n",
       "1      rainwater harvesting  rainwater harvesting      surface   \n",
       "2                       dam                   dam      surface   \n",
       "3               machine dbh              borehole  groundwater   \n",
       "4      rainwater harvesting  rainwater harvesting      surface   \n",
       "...                     ...                   ...          ...   \n",
       "59395                spring                spring  groundwater   \n",
       "59396                 river            river/lake      surface   \n",
       "59397           machine dbh              borehole  groundwater   \n",
       "59398          shallow well          shallow well  groundwater   \n",
       "59399          shallow well          shallow well  groundwater   \n",
       "\n",
       "                   waterpoint_type waterpoint_type_group    status_group  \\\n",
       "0               communal standpipe    communal standpipe      functional   \n",
       "1               communal standpipe    communal standpipe      functional   \n",
       "2      communal standpipe multiple    communal standpipe      functional   \n",
       "3      communal standpipe multiple    communal standpipe  non functional   \n",
       "4               communal standpipe    communal standpipe      functional   \n",
       "...                            ...                   ...             ...   \n",
       "59395           communal standpipe    communal standpipe      functional   \n",
       "59396           communal standpipe    communal standpipe      functional   \n",
       "59397                    hand pump             hand pump      functional   \n",
       "59398                    hand pump             hand pump      functional   \n",
       "59399                    hand pump             hand pump      functional   \n",
       "\n",
       "        id_2  \n",
       "0      69572  \n",
       "1       8776  \n",
       "2      34310  \n",
       "3      67743  \n",
       "4      19728  \n",
       "...      ...  \n",
       "59395  60739  \n",
       "59396  27263  \n",
       "59397  37057  \n",
       "59398  31282  \n",
       "59399  26348  \n",
       "\n",
       "[59400 rows x 40 columns]"
      ]
     },
     "execution_count": 39,
     "metadata": {},
     "output_type": "execute_result"
    }
   ],
   "source": [
    "df_other[df_other['id'] == df_other['id_2']]"
   ]
  },
  {
   "cell_type": "markdown",
   "metadata": {},
   "source": [
    "#### As seen above our total rows equal that of the normal dataframe so we can conclude that our merges have been successful and we can drop our id_2 column."
   ]
  },
  {
   "cell_type": "code",
   "execution_count": 40,
   "metadata": {},
   "outputs": [],
   "source": [
    "df_mode.drop(['id_2'], axis = 1, inplace = True)\n",
    "df_other.drop(['id_2'], axis = 1, inplace = True)"
   ]
  },
  {
   "cell_type": "markdown",
   "metadata": {},
   "source": [
    "### Additional Columns to Drop"
   ]
  },
  {
   "cell_type": "markdown",
   "metadata": {},
   "source": [
    "#### The Id columns and date_recorded are considered admin columns and will not have much predictive power in our model therefore we can drop these columns. "
   ]
  },
  {
   "cell_type": "code",
   "execution_count": 41,
   "metadata": {},
   "outputs": [],
   "source": [
    "df_mode.drop(['id', 'date_recorded'], axis = 1, inplace = True)\n",
    "df_other.drop(['id', 'date_recorded'], axis = 1, inplace = True)"
   ]
  },
  {
   "cell_type": "code",
   "execution_count": 42,
   "metadata": {
    "tags": []
   },
   "outputs": [],
   "source": [
    "def get_totals(dataframe, filter_column, filter_groupby):\n",
    "\n",
    "        '''\n",
    "        **** filter_column & filter_groupby need to be passed\n",
    "        as strings ****\n",
    "\n",
    "        1. get_totals will calculate the sum of the variables\n",
    "        within a column and return a new column with the \n",
    "        sum of their total occurances in the dataframe\n",
    "        \n",
    "        2. get_totals will calulate the percentage of the \n",
    "        values column vs the total values\n",
    "\n",
    "        dataframe = pandas dataframe\n",
    "        filter_column = column to filter by\n",
    "        filter_groupby = groupby column to filter by\n",
    "\n",
    "        '''\n",
    "\n",
    "        df_new = pd.DataFrame(dataframe.groupby(filter_groupby)[filter_column].value_counts())\n",
    "        df_new[f'{filter_groupby}_values'] = df_new[filter_column]\n",
    "        df_new.drop(filter_column, axis = 1, inplace = True)\n",
    "        df_new.reset_index(inplace = True)\n",
    "\n",
    "        types = set()\n",
    "\n",
    "        for idx, value in enumerate(df_new[f'{filter_groupby}_values']):\n",
    "            for type_ in df_new[filter_column]:\n",
    "                types.add(type_)\n",
    "            \n",
    "        total_values = {}\n",
    "            \n",
    "        for value in types:\n",
    "            total_values[value] = df_new[df_new[filter_column] == value][f'{filter_groupby}_values'].sum()\n",
    "\n",
    "        df_new[f'{filter_groupby}_total_values'] = df_new[filter_column].map(total_values)\n",
    "\n",
    "        df_new[f'{filter_groupby}_percentage'] = df_new[f'{filter_groupby}_values'] / df_new[f'{filter_groupby}_total_values']\n",
    "            \n",
    "        return df_new\n"
   ]
  },
  {
   "cell_type": "code",
   "execution_count": 43,
   "metadata": {},
   "outputs": [],
   "source": [
    "# function_df = df.drop('status_group', axis = 1)\n",
    "\n",
    "# percentage_dict = {}\n",
    "\n",
    "# for idx, column in enumerate(function_df.columns):\n",
    "#     percentage_dict[column] = get_totals(df, column, 'status_group')\n",
    "\n",
    "# pickle_out = open('percentage_dict.pickle', 'wb')\n",
    "# pickle.dump(percentage_dict, pickle_out)"
   ]
  },
  {
   "cell_type": "code",
   "execution_count": 44,
   "metadata": {},
   "outputs": [],
   "source": [
    "pickle_in = open('percentage_dict.pickle', 'rb')\n",
    "\n",
    "percentage_dict = pickle.load(pickle_in)"
   ]
  },
  {
   "cell_type": "markdown",
   "metadata": {},
   "source": [
    "### First Simple Model"
   ]
  },
  {
   "cell_type": "markdown",
   "metadata": {},
   "source": [
    "#### To start our modeling process we will use only our integers and floats."
   ]
  },
  {
   "cell_type": "code",
   "execution_count": 45,
   "metadata": {},
   "outputs": [],
   "source": [
    "X_mode_fsm = df_mode.select_dtypes(['int64', 'float64'])\n",
    "y_mode_fsm = df_mode['status_group']\n",
    "\n",
    "X_other_fsm = df_other.select_dtypes(['int64','float64'])\n",
    "y_other_fsm = df_other['status_group']"
   ]
  },
  {
   "cell_type": "code",
   "execution_count": 46,
   "metadata": {},
   "outputs": [
    {
     "data": {
      "text/plain": [
       "DecisionTreeClassifier()"
      ]
     },
     "execution_count": 46,
     "metadata": {},
     "output_type": "execute_result"
    }
   ],
   "source": [
    "X_mode_train, X_mode_test, y_mode_train, y__mode_test = train_test_split(X_mode_fsm,y_mode_fsm, random_state = 42, stratify = y_mode_fsm)\n",
    "\n",
    "X_other_train, X_other_test, y_other_train, y_other_test = train_test_split(X_other_fsm,y_other_fsm, random_state = 42, stratify = y_mode_fsm)\n",
    "\n",
    "\n",
    "dtc_mode = DecisionTreeClassifier()\n",
    "dtc_other = DecisionTreeClassifier()\n",
    "\n",
    "dtc_mode.fit(X_mode_train, y_mode_train)\n",
    "dtc_other.fit(X_other_train, y_other_train)"
   ]
  },
  {
   "cell_type": "code",
   "execution_count": 47,
   "metadata": {},
   "outputs": [
    {
     "name": "stdout",
     "output_type": "stream",
     "text": [
      "0.9858810325476992\n",
      "0.9858810325476992\n"
     ]
    }
   ],
   "source": [
    "print(dtc_mode.score(X_mode_train, y_mode_train))\n",
    "print(dtc_other.score(X_other_train, y_other_train))"
   ]
  },
  {
   "cell_type": "code",
   "execution_count": 48,
   "metadata": {},
   "outputs": [],
   "source": [
    "y_hat_mode = dtc_mode.predict(X_mode_train)\n",
    "y_hat_other = dtc_other.predict(X_other_train)"
   ]
  },
  {
   "cell_type": "code",
   "execution_count": 49,
   "metadata": {},
   "outputs": [
    {
     "name": "stdout",
     "output_type": "stream",
     "text": [
      "mode recall: 0.9646151149443224\n",
      "mode precision: 0.9910484321431677\n",
      "mode f1 score: 0.9771278730975221\n",
      "---------------------------------------------------------\n",
      "ohter recall: 0.9646151149443224\n",
      "other precision: 0.9910484321431677\n",
      "other f1 score: 0.9771278730975221\n"
     ]
    }
   ],
   "source": [
    "print('mode recall:', recall_score(y_mode_train, y_hat_mode, average = 'macro'))\n",
    "print('mode precision:', precision_score(y_mode_train, y_hat_mode, average = 'macro'))\n",
    "print('mode f1 score:', f1_score(y_mode_train, y_hat_mode, average = 'macro'))\n",
    "\n",
    "print('---------------------------------------------------------')\n",
    "\n",
    "print('ohter recall:', recall_score(y_other_train, y_hat_other, average = 'macro'))\n",
    "print('other precision:', precision_score(y_other_train, y_hat_other, average = 'macro'))\n",
    "print('other f1 score:', f1_score(y_other_train, y_hat_other, average = 'macro'))"
   ]
  },
  {
   "cell_type": "code",
   "execution_count": 50,
   "metadata": {},
   "outputs": [
    {
     "data": {
      "text/plain": [
       "array([0.54182014, 0.54332656, 0.54594544])"
      ]
     },
     "execution_count": 50,
     "metadata": {},
     "output_type": "execute_result"
    }
   ],
   "source": [
    "cross_val_score(dtc_mode, X_mode_train, y_mode_train, cv = 3, scoring = 'recall_macro')"
   ]
  },
  {
   "cell_type": "code",
   "execution_count": 51,
   "metadata": {},
   "outputs": [
    {
     "data": {
      "text/plain": [
       "array([0.53926018, 0.54776284, 0.54795824])"
      ]
     },
     "execution_count": 51,
     "metadata": {},
     "output_type": "execute_result"
    }
   ],
   "source": [
    "cross_val_score(dtc_other, X_mode_train, y_mode_train, cv = 3, scoring = 'recall_macro')"
   ]
  },
  {
   "cell_type": "markdown",
   "metadata": {},
   "source": [
    "### The cross val scores are pretty consitent across the folds. This doesnt give us much insight as far as our NAN replacements in during the EDA. "
   ]
  },
  {
   "cell_type": "markdown",
   "metadata": {},
   "source": [
    "### Model Exploration"
   ]
  },
  {
   "cell_type": "markdown",
   "metadata": {},
   "source": [
    "#### Now that we have our baseline established we will loop through other models to see if we can get better results."
   ]
  },
  {
   "cell_type": "code",
   "execution_count": 55,
   "metadata": {},
   "outputs": [],
   "source": [
    "# model_selection = [LogisticRegression(random_state = 42, max_iter = 1000, n_jobs = -1),\\\n",
    "#                    RandomForestClassifier(random_state = 42, n_jobs = -1),\\\n",
    "#                    DecisionTreeClassifier(), KNeighborsClassifier(n_jobs = -1), \n",
    "#                   SVC(random_state = 42)]\n",
    "\n",
    "# vanilla_models = {}\n",
    "\n",
    "# for idx_mode, model in enumerate(model_selection):\n",
    "#     vanilla_models[idx_mode] = model.fit(X_mode_train, y_mode_train)"
   ]
  },
  {
   "cell_type": "code",
   "execution_count": 56,
   "metadata": {},
   "outputs": [],
   "source": [
    "# for key, val in enumerate(vanilla_models.values()):\n",
    "#     print(val, val.score(X_mode_train, y_mode_train))"
   ]
  },
  {
   "cell_type": "markdown",
   "metadata": {},
   "source": [
    "#### Based on the scores above, our scores are the best using RandomForestClassifier and DecisionTreeClassifier. Let's did deeper into these two models."
   ]
  },
  {
   "cell_type": "code",
   "execution_count": 57,
   "metadata": {},
   "outputs": [],
   "source": [
    "# # Select models from dictionary\n",
    "# rfc = vanilla_models[1]\n",
    "# dtc = vanilla_models[2]\n",
    "\n",
    "# # predict on each model\n",
    "\n",
    "# rfc_mode_yhat = rfc.predict(X_mode_train)\n",
    "# dtc_mode_yhat = dtc.predict(X_mode_train)"
   ]
  },
  {
   "cell_type": "code",
   "execution_count": 58,
   "metadata": {},
   "outputs": [],
   "source": [
    "# # Review scores for both models\n",
    "\n",
    "# print('rfc recall:', recall_score(y_mode_train, rfc_mode_yhat, average = 'macro'))\n",
    "# print('rfc precision:', precision_score(y_mode_train, rfc_mode_yhat, average = 'macro'))\n",
    "# print('rfc f1 score:', f1_score(y_mode_train, rfc_mode_yhat, average = 'macro'))\n",
    "\n",
    "# print('---------------------------------------------------------')\n",
    "\n",
    "# print('dtc recall:', recall_score(y_mode_train, dtc_mode_yhat, average = 'macro'))\n",
    "# print('dtc precision:', precision_score(y_mode_train, dtc_mode_yhat, average = 'macro'))\n",
    "# print('dtc f1 score:', f1_score(y_mode_train, dtc_mode_yhat, average = 'macro'))\n"
   ]
  },
  {
   "cell_type": "markdown",
   "metadata": {},
   "source": [
    "### Small advantage do the decision tree classifier. Lets see if our cross val & auc score shows anymore insights. "
   ]
  },
  {
   "cell_type": "code",
   "execution_count": 59,
   "metadata": {},
   "outputs": [],
   "source": [
    "# cross_val_score(rfc, X_mode_train, y_mode_train, cv = 5, n_jobs=-1, scoring = 'recall_macro')"
   ]
  },
  {
   "cell_type": "code",
   "execution_count": 60,
   "metadata": {},
   "outputs": [],
   "source": [
    "# cross_val_score(dtc, X_mode_train, y_mode_train, cv = 5, n_jobs = -1, scoring = 'recall_macro')"
   ]
  },
  {
   "cell_type": "markdown",
   "metadata": {},
   "source": [
    "### Since our stakeholder is considered with pump failures we need to avoid False Negatives. I.E. we do not want to say the bump is broken when it in fact it is operational. Therefore we need to focus on our recall score and tune our model appropriately which is why we're using the recall_macro score. As seen above our Random Forest is performing the best. We will move forward with tuning this model going forward.\n",
    "\n",
    "### Our models above only utilized our numerical values. We will now begin using our categorical features and identify feature importance. "
   ]
  },
  {
   "cell_type": "code",
   "execution_count": 61,
   "metadata": {},
   "outputs": [],
   "source": [
    "# Separate data by target and predictors\n",
    "X_cat = df_mode.drop('status_group', axis = 1)\n",
    "y_cat = df_mode['status_group']\n",
    "\n",
    "# Perform train test split\n",
    "X_train_cat, X_test_cat, y_train_cat, y_test_cat = train_test_split(X_cat, y_cat, random_state = 42, stratify = y_cat)"
   ]
  },
  {
   "cell_type": "code",
   "execution_count": 62,
   "metadata": {},
   "outputs": [
    {
     "data": {
      "text/plain": [
       "RandomForestClassifier(class_weight='balanced', n_jobs=-1, random_state=42)"
      ]
     },
     "execution_count": 62,
     "metadata": {},
     "output_type": "execute_result"
    }
   ],
   "source": [
    "# One hot encoded categorical data\n",
    "ohe = OneHotEncoder(drop = 'first')\n",
    "\n",
    "\n",
    "# Select initial parameters\n",
    "df_feat_import = X_train_cat[['extraction_type', 'management', 'payment', 'water_quality', 'source', 'source_class', 'region_code', 'district_code']]\n",
    "\n",
    "# fit transform data\n",
    "X_mode_train_enc = ohe.fit_transform(df_feat_import)\n",
    "\n",
    "# Instantiate model\n",
    "rfc_feat_import = RandomForestClassifier(random_state = 42, class_weight= 'balanced', n_jobs = -1)\n",
    "\n",
    "\n",
    "# Fit encoded data to model\n",
    "rfc_feat_import.fit(X_mode_train_enc, y_train_cat)"
   ]
  },
  {
   "cell_type": "code",
   "execution_count": 63,
   "metadata": {},
   "outputs": [
    {
     "data": {
      "text/plain": [
       "0.6889113355780022"
      ]
     },
     "execution_count": 63,
     "metadata": {},
     "output_type": "execute_result"
    }
   ],
   "source": [
    "# Model score\n",
    "rfc_feat_import.score(X_mode_train_enc, y_train_cat)"
   ]
  },
  {
   "cell_type": "code",
   "execution_count": 64,
   "metadata": {},
   "outputs": [
    {
     "data": {
      "text/plain": [
       "0.7233825002181652"
      ]
     },
     "execution_count": 64,
     "metadata": {},
     "output_type": "execute_result"
    }
   ],
   "source": [
    "# Predict on training data\n",
    "rfc_yhat = rfc_feat_import.predict(X_mode_train_enc)\n",
    "\n",
    "# Recall score on training data\n",
    "recall_score(y_train_cat, rfc_yhat, average='macro')"
   ]
  },
  {
   "cell_type": "code",
   "execution_count": 65,
   "metadata": {},
   "outputs": [
    {
     "data": {
      "text/plain": [
       "0.6280038442087865"
      ]
     },
     "execution_count": 65,
     "metadata": {},
     "output_type": "execute_result"
    }
   ],
   "source": [
    "# Precision score on training data\n",
    "precision_score(y_train_cat, rfc_yhat, average='macro')"
   ]
  },
  {
   "cell_type": "code",
   "execution_count": 66,
   "metadata": {},
   "outputs": [
    {
     "data": {
      "text/plain": [
       "0.6239806685042923"
      ]
     },
     "execution_count": 66,
     "metadata": {},
     "output_type": "execute_result"
    }
   ],
   "source": [
    "#F1 Score on training data\n",
    "f1_score(y_train_cat, rfc_yhat, average='macro')"
   ]
  },
  {
   "cell_type": "code",
   "execution_count": 67,
   "metadata": {},
   "outputs": [
    {
     "data": {
      "text/plain": [
       "array([0.65981578, 0.64289348, 0.65212093, 0.64396648, 0.63206666])"
      ]
     },
     "execution_count": 67,
     "metadata": {},
     "output_type": "execute_result"
    }
   ],
   "source": [
    "# 5-fold cross validation\n",
    "cross_val_score(rfc_feat_import, X_mode_train_enc, y_train_cat, cv = 5, scoring = 'recall_macro')"
   ]
  },
  {
   "cell_type": "code",
   "execution_count": 68,
   "metadata": {},
   "outputs": [
    {
     "data": {
      "image/png": "[encoded data removed]",
      "text/plain": [
       "<Figure size 432x288 with 2 Axes>"
      ]
     },
     "metadata": {
      "needs_background": "light"
     },
     "output_type": "display_data"
    }
   ],
   "source": [
    "plot_confusion_matrix(rfc_feat_import, X_mode_train_enc, y_train_cat);"
   ]
  },
  {
   "cell_type": "code",
   "execution_count": null,
   "metadata": {},
   "outputs": [],
   "source": [
    "visualizer = ROCAUC(clf)\n",
    "visualizer.fit(X_train, y_train)\n",
    "visualizer.score(X_train, y_train)\n",
    "visualizer.show()"
   ]
  },
  {
   "cell_type": "markdown",
   "metadata": {},
   "source": [
    "#### Adding features to see if our model improves all other steps are a repeat from above"
   ]
  },
  {
   "cell_type": "code",
   "execution_count": 69,
   "metadata": {},
   "outputs": [
    {
     "data": {
      "text/plain": [
       "RandomForestClassifier(class_weight='balanced', n_jobs=-1, random_state=42)"
      ]
     },
     "execution_count": 69,
     "metadata": {},
     "output_type": "execute_result"
    }
   ],
   "source": [
    "ohe = OneHotEncoder(drop = 'first')\n",
    "\n",
    "df_feat_import = X_train_cat[[\n",
    " 'source_type',\n",
    " 'region',\n",
    " 'district_code',\n",
    " 'public_meeting',\n",
    " 'extraction_type',\n",
    " 'extraction_type_group',\n",
    " 'extraction_type_class',\n",
    " 'management',\n",
    " 'payment_type',\n",
    " 'quantity_group',\n",
    " 'source',\n",
    " 'source_class',\n",
    " 'waterpoint_type_group']]\n",
    "\n",
    "X_mode_train_enc = ohe.fit_transform(df_feat_import)\n",
    "\n",
    "rfc_feat_import = RandomForestClassifier(random_state = 42, class_weight= 'balanced', n_jobs = -1)\n",
    "\n",
    "rfc_feat_import.fit(X_mode_train_enc, y_train_cat)"
   ]
  },
  {
   "cell_type": "code",
   "execution_count": 70,
   "metadata": {},
   "outputs": [
    {
     "data": {
      "text/plain": [
       "0.7572615039281706"
      ]
     },
     "execution_count": 70,
     "metadata": {},
     "output_type": "execute_result"
    }
   ],
   "source": [
    "rfc_feat_import.score(X_mode_train_enc, y_train_cat)"
   ]
  },
  {
   "cell_type": "code",
   "execution_count": 71,
   "metadata": {},
   "outputs": [],
   "source": [
    "rfc_yhat = rfc_feat_import.predict(X_mode_train_enc)"
   ]
  },
  {
   "cell_type": "code",
   "execution_count": 72,
   "metadata": {},
   "outputs": [
    {
     "data": {
      "text/plain": [
       "0.7785554166495784"
      ]
     },
     "execution_count": 72,
     "metadata": {},
     "output_type": "execute_result"
    }
   ],
   "source": [
    "recall_score(y_train_cat, rfc_yhat, average = 'macro')"
   ]
  },
  {
   "cell_type": "code",
   "execution_count": 73,
   "metadata": {},
   "outputs": [
    {
     "data": {
      "text/plain": [
       "array([0.69458631, 0.68486768, 0.67994059, 0.68624494, 0.67892631])"
      ]
     },
     "execution_count": 73,
     "metadata": {},
     "output_type": "execute_result"
    }
   ],
   "source": [
    "cross_val_score(rfc_feat_import, X_mode_train_enc, y_train_cat, cv = 5, scoring = 'recall_macro')"
   ]
  },
  {
   "cell_type": "code",
   "execution_count": 74,
   "metadata": {},
   "outputs": [
    {
     "data": {
      "image/png": "[encoded data removed]",
      "text/plain": [
       "<Figure size 432x288 with 2 Axes>"
      ]
     },
     "metadata": {
      "needs_background": "light"
     },
     "output_type": "display_data"
    }
   ],
   "source": [
    "plot_confusion_matrix(rfc_feat_import, X_mode_train_enc, y_train_cat);"
   ]
  },
  {
   "cell_type": "code",
   "execution_count": null,
   "metadata": {},
   "outputs": [],
   "source": [
    "visualizer = ROCAUC(clf)\n",
    "visualizer.fit(X_train, y_train)\n",
    "visualizer.score(X_train, y_train)\n",
    "visualizer.show()"
   ]
  },
  {
   "cell_type": "markdown",
   "metadata": {},
   "source": [
    "#### Adding features to see if our model improves all other steps are a repeat from above"
   ]
  },
  {
   "cell_type": "code",
   "execution_count": 75,
   "metadata": {},
   "outputs": [
    {
     "data": {
      "text/plain": [
       "RandomForestClassifier(random_state=42)"
      ]
     },
     "execution_count": 75,
     "metadata": {},
     "output_type": "execute_result"
    }
   ],
   "source": [
    "ohe = OneHotEncoder(drop = 'first')\n",
    "\n",
    "df_feat_import = X_train_cat[['region_code', 'source_type', 'basin', 'region', 'region_code', 'district_code',\\\n",
    "                   'public_meeting', 'scheme_management', 'permit', 'construction_year', 'extraction_type',\\\n",
    "                  'extraction_type_group', 'extraction_type_class','management',\\\n",
    "                   'management_group', 'payment', 'payment_type', 'water_quality',\\\n",
    "                  'quality_group', 'quantity', 'quantity_group', 'source', 'source_type',\n",
    "                   'source_class', 'waterpoint_type', 'waterpoint_type_group']]\n",
    "\n",
    "X_mode_train_enc = ohe.fit_transform(df_feat_import)\n",
    "\n",
    "rfc_feat_import = RandomForestClassifier(random_state = 42)\n",
    "\n",
    "rfc_feat_import.fit(X_mode_train_enc, y_train_cat)"
   ]
  },
  {
   "cell_type": "code",
   "execution_count": 76,
   "metadata": {},
   "outputs": [
    {
     "data": {
      "text/plain": [
       "0.8802469135802469"
      ]
     },
     "execution_count": 76,
     "metadata": {},
     "output_type": "execute_result"
    }
   ],
   "source": [
    "rfc_feat_import.score(X_mode_train_enc, y_train_cat)"
   ]
  },
  {
   "cell_type": "code",
   "execution_count": 77,
   "metadata": {},
   "outputs": [],
   "source": [
    "rfc_yhat = rfc_feat_import.predict(X_mode_train_enc)"
   ]
  },
  {
   "cell_type": "code",
   "execution_count": 78,
   "metadata": {},
   "outputs": [
    {
     "data": {
      "text/plain": [
       "0.7756334068505266"
      ]
     },
     "execution_count": 78,
     "metadata": {},
     "output_type": "execute_result"
    }
   ],
   "source": [
    "recall_score(y_train_cat, rfc_yhat, average = 'macro')"
   ]
  },
  {
   "cell_type": "code",
   "execution_count": 79,
   "metadata": {},
   "outputs": [
    {
     "data": {
      "text/plain": [
       "array([0.62831561, 0.63321211, 0.63568205, 0.62718203, 0.6233217 ])"
      ]
     },
     "execution_count": 79,
     "metadata": {},
     "output_type": "execute_result"
    }
   ],
   "source": [
    "cross_val_score(rfc_feat_import, X_mode_train_enc, y_train_cat, cv = 5, scoring = 'recall_macro')"
   ]
  },
  {
   "cell_type": "code",
   "execution_count": 80,
   "metadata": {},
   "outputs": [
    {
     "data": {
      "image/png": "[encoded data removed]",
      "text/plain": [
       "<Figure size 432x288 with 2 Axes>"
      ]
     },
     "metadata": {
      "needs_background": "light"
     },
     "output_type": "display_data"
    }
   ],
   "source": [
    "plot_confusion_matrix(rfc_feat_import, X_mode_train_enc, y_train_cat);"
   ]
  },
  {
   "cell_type": "code",
   "execution_count": null,
   "metadata": {},
   "outputs": [],
   "source": [
    "visualizer = ROCAUC(clf)\n",
    "visualizer.fit(X_train, y_train)\n",
    "visualizer.score(X_train, y_train)\n",
    "visualizer.show()"
   ]
  },
  {
   "cell_type": "markdown",
   "metadata": {},
   "source": [
    "### Now that we have seen model improvement we will use a GridSearch to find our best parameters"
   ]
  },
  {
   "cell_type": "code",
   "execution_count": 81,
   "metadata": {},
   "outputs": [],
   "source": [
    "# param_grid = {\n",
    "#  'max_depth': [3,10, None],\n",
    "#  'criterion': ['gini', 'entropy'],\n",
    "#  'min_samples_leaf': [1, 2, 4],\n",
    "#  'n_estimators': [100, 500],\n",
    "#  'class_weight': ['balanced', 'balanced_subsample'],\n",
    "#  'n_jobs': [-1]\n",
    "# }\n",
    "\n",
    "# grid_search = GridSearchCV(rfc_feat_import, param_grid, n_jobs=-1, cv = 3, return_train_score=True)\n",
    "\n",
    "# grid_search.fit(X_mode_train_enc, y_train_cat)"
   ]
  },
  {
   "cell_type": "code",
   "execution_count": 82,
   "metadata": {},
   "outputs": [],
   "source": [
    "# 'grid_search.best_params_'\n",
    "\n",
    "# \"'class_weight': 'balanced',\n",
    "#  'criterion': 'entropy',\n",
    "#  'max_depth': None,\n",
    "#  'min_samples_leaf': 1,\n",
    "#  'n_estimators': 500,\n",
    "#  'n_jobs': -1\")"
   ]
  },
  {
   "cell_type": "markdown",
   "metadata": {},
   "source": [
    "#### Base on our best_params_ we will input these features into a new to model and repeat the above steps"
   ]
  },
  {
   "cell_type": "code",
   "execution_count": 83,
   "metadata": {},
   "outputs": [
    {
     "data": {
      "text/plain": [
       "RandomForestClassifier(class_weight='balanced', criterion='entropy',\n",
       "                       n_estimators=500, n_jobs=-1, random_state=42)"
      ]
     },
     "execution_count": 83,
     "metadata": {},
     "output_type": "execute_result"
    }
   ],
   "source": [
    "ohe = OneHotEncoder(drop = 'first')\n",
    "\n",
    "df_feat_import = X_train_cat[['region_code', 'source_type', 'basin', 'region', 'region_code', 'district_code',\\\n",
    "                   'public_meeting', 'scheme_management', 'permit', 'construction_year', 'extraction_type',\\\n",
    "                  'extraction_type_group', 'extraction_type_class','management',\\\n",
    "                   'management_group', 'payment', 'payment_type', 'water_quality',\\\n",
    "                  'quality_group', 'quantity', 'quantity_group', 'source', 'source_type',\n",
    "                   'source_class', 'waterpoint_type', 'waterpoint_type_group']]\n",
    "\n",
    "X_mode_train_enc = ohe.fit_transform(df_feat_import)\n",
    "\n",
    "rfc_feat_import = RandomForestClassifier(random_state = 42, class_weight='balanced', criterion='entropy', n_estimators = 500, n_jobs=-1)\n",
    "\n",
    "rfc_feat_import.fit(X_mode_train_enc, y_train_cat)"
   ]
  },
  {
   "cell_type": "code",
   "execution_count": 84,
   "metadata": {},
   "outputs": [
    {
     "data": {
      "text/plain": [
       "0.8455443322109989"
      ]
     },
     "execution_count": 84,
     "metadata": {},
     "output_type": "execute_result"
    }
   ],
   "source": [
    "rfc_feat_import.score(X_mode_train_enc, y_train_cat)"
   ]
  },
  {
   "cell_type": "code",
   "execution_count": 85,
   "metadata": {},
   "outputs": [],
   "source": [
    "rfc_yhat = rfc_feat_import.predict(X_mode_train_enc)"
   ]
  },
  {
   "cell_type": "code",
   "execution_count": 86,
   "metadata": {},
   "outputs": [
    {
     "data": {
      "text/plain": [
       "0.8586083895692741"
      ]
     },
     "execution_count": 86,
     "metadata": {},
     "output_type": "execute_result"
    }
   ],
   "source": [
    "recall_score(y_train_cat, rfc_yhat, average = 'macro')"
   ]
  },
  {
   "cell_type": "code",
   "execution_count": 87,
   "metadata": {},
   "outputs": [
    {
     "data": {
      "text/plain": [
       "array([0.6927125 , 0.68640262, 0.68529933, 0.68550649, 0.67708189])"
      ]
     },
     "execution_count": 87,
     "metadata": {},
     "output_type": "execute_result"
    }
   ],
   "source": [
    "cross_val_score(rfc_feat_import, X_mode_train_enc, y_train_cat, cv = 5, scoring = 'recall_macro')"
   ]
  },
  {
   "cell_type": "code",
   "execution_count": 88,
   "metadata": {},
   "outputs": [
    {
     "data": {
      "image/png": "[encoded data removed]",
      "text/plain": [
       "<Figure size 432x288 with 2 Axes>"
      ]
     },
     "metadata": {
      "needs_background": "light"
     },
     "output_type": "display_data"
    }
   ],
   "source": [
    "plot_confusion_matrix(rfc_feat_import, X_mode_train_enc, y_train_cat);"
   ]
  },
  {
   "cell_type": "code",
   "execution_count": null,
   "metadata": {},
   "outputs": [],
   "source": [
    "visualizer = ROCAUC(clf)\n",
    "visualizer.fit(X_train, y_train)\n",
    "visualizer.score(X_train, y_train)\n",
    "visualizer.show()"
   ]
  },
  {
   "cell_type": "markdown",
   "metadata": {},
   "source": [
    "### Based on our previous model our recall jumped to 85.86% from 77.56%! Also, our cross_val_score is within < 2% span which is showing that our model has low bias. "
   ]
  },
  {
   "cell_type": "markdown",
   "metadata": {},
   "source": [
    "### Previously we separated our data into two data frames. We will repeat the above process with the second dataframe to see if we get different results."
   ]
  },
  {
   "cell_type": "code",
   "execution_count": 89,
   "metadata": {},
   "outputs": [],
   "source": [
    "X_other = df_other.drop('status_group', axis = 1)\n",
    "y_other = df_other['status_group']\n",
    "\n",
    "X_train_other, X_test_other, y_train_other, y_test_other = train_test_split(X_other, y_other, random_state = 42, stratify = y_other)"
   ]
  },
  {
   "cell_type": "code",
   "execution_count": 90,
   "metadata": {},
   "outputs": [
    {
     "data": {
      "text/plain": [
       "RandomForestClassifier(class_weight='balanced', n_jobs=-1, random_state=42)"
      ]
     },
     "execution_count": 90,
     "metadata": {},
     "output_type": "execute_result"
    }
   ],
   "source": [
    "ohe = OneHotEncoder(drop = 'first')\n",
    "\n",
    "df_feat_import = X_train_other[['extraction_type', 'management', 'payment', 'water_quality', 'source', 'source_class', 'region_code', 'district_code']]\n",
    "\n",
    "X_other_train_enc = ohe.fit_transform(df_feat_import)\n",
    "\n",
    "rfc_feat_import = RandomForestClassifier(random_state = 42, class_weight= 'balanced', n_jobs = -1)\n",
    "\n",
    "rfc_feat_import.fit(X_other_train_enc, y_train_other)"
   ]
  },
  {
   "cell_type": "code",
   "execution_count": 91,
   "metadata": {},
   "outputs": [
    {
     "data": {
      "text/plain": [
       "0.6889113355780022"
      ]
     },
     "execution_count": 91,
     "metadata": {},
     "output_type": "execute_result"
    }
   ],
   "source": [
    "rfc_feat_import.score(X_other_train_enc, y_train_other)"
   ]
  },
  {
   "cell_type": "code",
   "execution_count": 92,
   "metadata": {},
   "outputs": [
    {
     "data": {
      "text/plain": [
       "0.7233825002181652"
      ]
     },
     "execution_count": 92,
     "metadata": {},
     "output_type": "execute_result"
    }
   ],
   "source": [
    "rfc_yhat = rfc_feat_import.predict(X_other_train_enc)\n",
    "\n",
    "recall_score(y_train_other, rfc_yhat, average='macro')"
   ]
  },
  {
   "cell_type": "code",
   "execution_count": 93,
   "metadata": {},
   "outputs": [
    {
     "data": {
      "text/plain": [
       "array([0.65981578, 0.64289348, 0.65212093, 0.64396648, 0.63206666])"
      ]
     },
     "execution_count": 93,
     "metadata": {},
     "output_type": "execute_result"
    }
   ],
   "source": [
    "cross_val_score(rfc_feat_import, X_other_train_enc, y_train_other, cv = 5, scoring = 'recall_macro')"
   ]
  },
  {
   "cell_type": "code",
   "execution_count": 94,
   "metadata": {},
   "outputs": [
    {
     "data": {
      "image/png": "[encoded data removed]",
      "text/plain": [
       "<Figure size 432x288 with 2 Axes>"
      ]
     },
     "metadata": {
      "needs_background": "light"
     },
     "output_type": "display_data"
    }
   ],
   "source": [
    "plot_confusion_matrix(rfc_feat_import, X_other_train_enc, y_train_other);"
   ]
  },
  {
   "cell_type": "code",
   "execution_count": null,
   "metadata": {},
   "outputs": [],
   "source": [
    "visualizer = ROCAUC(clf)\n",
    "visualizer.fit(X_train, y_train)\n",
    "visualizer.score(X_train, y_train)\n",
    "visualizer.show()"
   ]
  },
  {
   "cell_type": "code",
   "execution_count": 95,
   "metadata": {},
   "outputs": [
    {
     "data": {
      "text/plain": [
       "RandomForestClassifier(class_weight='balanced', n_jobs=-1, random_state=42)"
      ]
     },
     "execution_count": 95,
     "metadata": {},
     "output_type": "execute_result"
    }
   ],
   "source": [
    "ohe = OneHotEncoder(drop = 'first')\n",
    "\n",
    "df_feat_import = X_train_other[[\n",
    " 'source_type',\n",
    " 'region',\n",
    " 'district_code',\n",
    " 'extraction_type',\n",
    " 'extraction_type_group',\n",
    " 'extraction_type_class',\n",
    " 'management',\n",
    " 'payment_type',\n",
    " 'quantity_group',\n",
    " 'source',\n",
    " 'source_class',\n",
    " 'waterpoint_type_group']]\n",
    "\n",
    "X_other_train_enc = ohe.fit_transform(df_feat_import)\n",
    "\n",
    "rfc_feat_import = RandomForestClassifier(random_state = 42, class_weight= 'balanced', n_jobs = -1)\n",
    "\n",
    "rfc_feat_import.fit(X_other_train_enc, y_train_other)"
   ]
  },
  {
   "cell_type": "code",
   "execution_count": 96,
   "metadata": {},
   "outputs": [
    {
     "data": {
      "text/plain": [
       "0.7499214365881033"
      ]
     },
     "execution_count": 96,
     "metadata": {},
     "output_type": "execute_result"
    }
   ],
   "source": [
    "rfc_feat_import.score(X_other_train_enc, y_train_other)"
   ]
  },
  {
   "cell_type": "code",
   "execution_count": 97,
   "metadata": {},
   "outputs": [
    {
     "data": {
      "text/plain": [
       "0.7740115674316418"
      ]
     },
     "execution_count": 97,
     "metadata": {},
     "output_type": "execute_result"
    }
   ],
   "source": [
    "rfc_yhat = rfc_feat_import.predict(X_other_train_enc)\n",
    "\n",
    "recall_score(y_train_other, rfc_yhat, average='macro')"
   ]
  },
  {
   "cell_type": "code",
   "execution_count": 98,
   "metadata": {},
   "outputs": [
    {
     "data": {
      "text/plain": [
       "array([0.69543024, 0.68737128, 0.67738269, 0.68435641, 0.68050183])"
      ]
     },
     "execution_count": 98,
     "metadata": {},
     "output_type": "execute_result"
    }
   ],
   "source": [
    "cross_val_score(rfc_feat_import, X_other_train_enc, y_train_other, cv = 5, scoring = 'recall_macro')"
   ]
  },
  {
   "cell_type": "code",
   "execution_count": 99,
   "metadata": {},
   "outputs": [
    {
     "data": {
      "image/png": "[encoded data removed]",
      "text/plain": [
       "<Figure size 432x288 with 2 Axes>"
      ]
     },
     "metadata": {
      "needs_background": "light"
     },
     "output_type": "display_data"
    }
   ],
   "source": [
    "plot_confusion_matrix(rfc_feat_import, X_other_train_enc, y_train_other);"
   ]
  },
  {
   "cell_type": "code",
   "execution_count": null,
   "metadata": {},
   "outputs": [],
   "source": [
    "visualizer = ROCAUC(clf)\n",
    "visualizer.fit(X_train, y_train)\n",
    "visualizer.score(X_train, y_train)\n",
    "visualizer.show()"
   ]
  },
  {
   "cell_type": "code",
   "execution_count": 100,
   "metadata": {},
   "outputs": [
    {
     "data": {
      "text/plain": [
       "RandomForestClassifier(random_state=42)"
      ]
     },
     "execution_count": 100,
     "metadata": {},
     "output_type": "execute_result"
    }
   ],
   "source": [
    "ohe = OneHotEncoder(drop = 'first')\n",
    "\n",
    "df_feat_import = X_train_other[['region_code', 'source_type', 'basin', 'region', 'region_code', 'district_code',\\\n",
    "                    'scheme_management', 'construction_year', 'extraction_type',\\\n",
    "                  'extraction_type_group', 'extraction_type_class','management',\\\n",
    "                   'management_group', 'payment', 'payment_type', 'water_quality',\\\n",
    "                  'quality_group', 'quantity', 'quantity_group', 'source', 'source_type',\n",
    "                   'source_class', 'waterpoint_type', 'waterpoint_type_group']]\n",
    "\n",
    "X_other_train_enc = ohe.fit_transform(df_feat_import)\n",
    "\n",
    "rfc_feat_import = RandomForestClassifier(random_state = 42)\n",
    "\n",
    "rfc_feat_import.fit(X_other_train_enc, y_train_other)"
   ]
  },
  {
   "cell_type": "code",
   "execution_count": 101,
   "metadata": {},
   "outputs": [
    {
     "data": {
      "text/plain": [
       "0.8766105499438833"
      ]
     },
     "execution_count": 101,
     "metadata": {},
     "output_type": "execute_result"
    }
   ],
   "source": [
    "rfc_feat_import.score(X_other_train_enc, y_train_other)"
   ]
  },
  {
   "cell_type": "code",
   "execution_count": 102,
   "metadata": {},
   "outputs": [
    {
     "data": {
      "text/plain": [
       "0.770044984760576"
      ]
     },
     "execution_count": 102,
     "metadata": {},
     "output_type": "execute_result"
    }
   ],
   "source": [
    "rfc_yhat = rfc_feat_import.predict(X_other_train_enc)\n",
    "\n",
    "recall_score(y_train_other, rfc_yhat, average='macro')"
   ]
  },
  {
   "cell_type": "code",
   "execution_count": 103,
   "metadata": {},
   "outputs": [
    {
     "data": {
      "text/plain": [
       "array([0.62753062, 0.63340959, 0.63197372, 0.63261697, 0.62273393])"
      ]
     },
     "execution_count": 103,
     "metadata": {},
     "output_type": "execute_result"
    }
   ],
   "source": [
    "cross_val_score(rfc_feat_import, X_other_train_enc, y_train_other, cv = 5, scoring = 'recall_macro')"
   ]
  },
  {
   "cell_type": "code",
   "execution_count": 104,
   "metadata": {},
   "outputs": [
    {
     "data": {
      "image/png": "[encoded data removed]",
      "text/plain": [
       "<Figure size 432x288 with 2 Axes>"
      ]
     },
     "metadata": {
      "needs_background": "light"
     },
     "output_type": "display_data"
    }
   ],
   "source": [
    "plot_confusion_matrix(rfc_feat_import, X_other_train_enc, y_train_other);"
   ]
  },
  {
   "cell_type": "code",
   "execution_count": null,
   "metadata": {},
   "outputs": [],
   "source": [
    "visualizer = ROCAUC(clf)\n",
    "visualizer.fit(X_train, y_train)\n",
    "visualizer.score(X_train, y_train)\n",
    "visualizer.show()"
   ]
  },
  {
   "cell_type": "code",
   "execution_count": 105,
   "metadata": {},
   "outputs": [
    {
     "data": {
      "text/plain": [
       "GridSearchCV(cv=3, estimator=RandomForestClassifier(random_state=42), n_jobs=-1,\n",
       "             param_grid={'class_weight': ['balanced', 'balanced_subsample'],\n",
       "                         'criterion': ['gini', 'entropy'],\n",
       "                         'max_depth': [3, 10, None],\n",
       "                         'min_samples_leaf': [1, 2, 4],\n",
       "                         'n_estimators': [100, 500], 'n_jobs': [-1]},\n",
       "             return_train_score=True)"
      ]
     },
     "execution_count": 105,
     "metadata": {},
     "output_type": "execute_result"
    }
   ],
   "source": [
    "param_grid = {\n",
    " 'max_depth': [3,10, None],\n",
    " 'criterion': ['gini', 'entropy'],\n",
    " 'min_samples_leaf': [1, 2, 4],\n",
    " 'n_estimators': [100, 500],\n",
    " 'class_weight': ['balanced', 'balanced_subsample'],\n",
    " 'n_jobs': [-1]\n",
    "}\n",
    "\n",
    "grid_search = GridSearchCV(rfc_feat_import, param_grid, n_jobs=-1, cv = 3, return_train_score=True)\n",
    "\n",
    "grid_search.fit(X_other_train_enc, y_train_other)"
   ]
  },
  {
   "cell_type": "code",
   "execution_count": 106,
   "metadata": {},
   "outputs": [
    {
     "data": {
      "text/plain": [
       "{'class_weight': 'balanced_subsample',\n",
       " 'criterion': 'gini',\n",
       " 'max_depth': None,\n",
       " 'min_samples_leaf': 1,\n",
       " 'n_estimators': 100,\n",
       " 'n_jobs': -1}"
      ]
     },
     "execution_count": 106,
     "metadata": {},
     "output_type": "execute_result"
    }
   ],
   "source": [
    "grid_search.best_params_"
   ]
  },
  {
   "cell_type": "code",
   "execution_count": 107,
   "metadata": {},
   "outputs": [
    {
     "data": {
      "text/plain": [
       "0.7355780022446688"
      ]
     },
     "execution_count": 107,
     "metadata": {},
     "output_type": "execute_result"
    }
   ],
   "source": [
    "grid_search.best_score_"
   ]
  },
  {
   "cell_type": "code",
   "execution_count": 108,
   "metadata": {},
   "outputs": [
    {
     "data": {
      "text/plain": [
       "RandomForestClassifier(class_weight='balanced_subsample', n_jobs=-1,\n",
       "                       random_state=42)"
      ]
     },
     "execution_count": 108,
     "metadata": {},
     "output_type": "execute_result"
    }
   ],
   "source": [
    "ohe = OneHotEncoder(drop = 'first')\n",
    "\n",
    "df_feat_import = X_train_other[['region_code', 'source_type', 'basin', 'region', 'region_code', 'district_code',\\\n",
    "                    'scheme_management', 'construction_year', 'extraction_type',\\\n",
    "                  'extraction_type_group', 'extraction_type_class','management',\\\n",
    "                   'management_group', 'payment', 'payment_type', 'water_quality',\\\n",
    "                  'quality_group', 'quantity', 'quantity_group', 'source', 'source_type',\n",
    "                   'source_class', 'waterpoint_type', 'waterpoint_type_group']]\n",
    "\n",
    "X_other_train_enc = ohe.fit_transform(df_feat_import)\n",
    "\n",
    "rfc_feat_import = RandomForestClassifier(class_weight='balanced_subsample', criterion='gini', min_samples_leaf=1, n_estimators=100, random_state = 42, n_jobs=-1)\n",
    "\n",
    "rfc_feat_import.fit(X_other_train_enc, y_train_other)"
   ]
  },
  {
   "cell_type": "code",
   "execution_count": 109,
   "metadata": {},
   "outputs": [
    {
     "data": {
      "text/plain": [
       "0.841257014590348"
      ]
     },
     "execution_count": 109,
     "metadata": {},
     "output_type": "execute_result"
    }
   ],
   "source": [
    "rfc_feat_import.score(X_other_train_enc, y_train_other)"
   ]
  },
  {
   "cell_type": "code",
   "execution_count": 110,
   "metadata": {},
   "outputs": [
    {
     "data": {
      "text/plain": [
       "0.8528708339552326"
      ]
     },
     "execution_count": 110,
     "metadata": {},
     "output_type": "execute_result"
    }
   ],
   "source": [
    "rfc_yhat = rfc_feat_import.predict(X_other_train_enc)\n",
    "\n",
    "recall_score(y_train_other, rfc_yhat, average='macro')"
   ]
  },
  {
   "cell_type": "code",
   "execution_count": 111,
   "metadata": {},
   "outputs": [
    {
     "data": {
      "text/plain": [
       "array([0.69037661, 0.68851548, 0.68055324, 0.68766171, 0.67460926])"
      ]
     },
     "execution_count": 111,
     "metadata": {},
     "output_type": "execute_result"
    }
   ],
   "source": [
    "cross_val_score(rfc_feat_import, X_other_train_enc, y_train_other, cv = 5, scoring = 'recall_macro')"
   ]
  },
  {
   "cell_type": "code",
   "execution_count": 112,
   "metadata": {},
   "outputs": [
    {
     "data": {
      "image/png": "[encoded data removed]",
      "text/plain": [
       "<Figure size 432x288 with 2 Axes>"
      ]
     },
     "metadata": {
      "needs_background": "light"
     },
     "output_type": "display_data"
    }
   ],
   "source": [
    "plot_confusion_matrix(rfc_feat_import, X_other_train_enc, y_train_other);"
   ]
  },
  {
   "cell_type": "code",
   "execution_count": null,
   "metadata": {},
   "outputs": [],
   "source": [
    "visualizer = ROCAUC(clf)\n",
    "visualizer.fit(X_train, y_train)\n",
    "visualizer.score(X_train, y_train)\n",
    "visualizer.show()"
   ]
  },
  {
   "cell_type": "markdown",
   "metadata": {},
   "source": [
    "### This model performed almost as good as the first one. With the first model getting a recall score of 85.86% it has beaten the second model by .58%, not much but still an increase that we're looking for!"
   ]
  },
  {
   "cell_type": "markdown",
   "metadata": {},
   "source": [
    "### Categorical & Numerical Data"
   ]
  },
  {
   "cell_type": "markdown",
   "metadata": {},
   "source": [
    "### Finally we will build a pipeline to incorporate all of our data."
   ]
  },
  {
   "cell_type": "code",
   "execution_count": 249,
   "metadata": {},
   "outputs": [],
   "source": [
    "ohe = OneHotEncoder()\n",
    "\n",
    "X_ohe = df_mode[\n",
    "['source_type',\n",
    " 'basin',\n",
    " 'region',\n",
    " 'scheme_management',\n",
    " 'extraction_type',\n",
    " 'extraction_type_group',\n",
    " 'extraction_type_class',\n",
    " 'management',\n",
    " 'management_group',\n",
    " 'payment',\n",
    " 'payment_type',\n",
    " 'water_quality',\n",
    " 'quality_group',\n",
    " 'quantity',\n",
    " 'quantity_group',\n",
    " 'source',\n",
    " 'source_class',\n",
    " 'waterpoint_type',\n",
    " 'waterpoint_type_group']]\n",
    "\n",
    "X_ohe_xfmr = ohe.fit_transform(X_ohe)"
   ]
  },
  {
   "cell_type": "code",
   "execution_count": null,
   "metadata": {},
   "outputs": [],
   "source": [
    "X_int = df_mode[['region_code',\n",
    " 'district_code',\n",
    " 'gps_height',\n",
    " 'population',\n",
    " 'construction_year',\n",
    " 'num_private',\n",
    " 'longitude',\n",
    " 'latitude']]\n",
    "\n",
    "xfmr_df = pd.concat([X_ohe_xfmr, X_int], axis = 1)\n",
    "xfmr_df"
   ]
  },
  {
   "cell_type": "code",
   "execution_count": 201,
   "metadata": {},
   "outputs": [],
   "source": [
    "X = df_mode[['region_code', 'source_type', 'basin', 'region', 'district_code',\\\n",
    "                   'public_meeting', 'scheme_management', 'permit', 'extraction_type',\\\n",
    "                  'extraction_type_group', 'extraction_type_class','management',\\\n",
    "                   'management_group', 'payment', 'payment_type', 'water_quality',\\\n",
    "                  'quality_group', 'quantity', 'quantity_group', 'source',\n",
    "                   'source_class', 'waterpoint_type', 'waterpoint_type_group', 'gps_height', 'population',\\\n",
    "                   'construction_year', 'num_private', 'longitude', 'latitude']]\n",
    "\n",
    "y = df_mode['status_group']\n",
    "\n",
    "X_train, X_test, y_train, y_test = train_test_split(X,y,random_state = 42, stratify = y)"
   ]
  },
  {
   "cell_type": "code",
   "execution_count": 209,
   "metadata": {},
   "outputs": [
    {
     "name": "stderr",
     "output_type": "stream",
     "text": [
      "[Parallel(n_jobs=1)]: Using backend SequentialBackend with 1 concurrent workers.\n",
      "[Parallel(n_jobs=1)]: Done 100 out of 100 | elapsed:  1.2min finished\n"
     ]
    },
    {
     "data": {
      "text/plain": [
       "Pipeline(steps=[('preprocessor',\n",
       "                 ColumnTransformer(transformers=[('cat',\n",
       "                                                  OneHotEncoder(handle_unknown='ignore'),\n",
       "                                                  ['region_code', 'source_type',\n",
       "                                                   'basin', 'region',\n",
       "                                                   'district_code',\n",
       "                                                   'public_meeting',\n",
       "                                                   'scheme_management',\n",
       "                                                   'permit',\n",
       "                                                   'construction_year',\n",
       "                                                   'extraction_type',\n",
       "                                                   'extraction_type_group',\n",
       "                                                   'extraction_type_class',\n",
       "                                                   'management',\n",
       "                                                   'management_group',\n",
       "                                                   'payment', 'payment_type',\n",
       "                                                   'water_quality',\n",
       "                                                   'quality_group', 'quantity',\n",
       "                                                   'quantity_group', 'source',\n",
       "                                                   'source_class',\n",
       "                                                   'waterpoint_type',\n",
       "                                                   'waterpoint_type_group'])])),\n",
       "                ('classifier',\n",
       "                 RandomForestClassifier(random_state=42, verbose=1))])"
      ]
     },
     "execution_count": 209,
     "metadata": {},
     "output_type": "execute_result"
    }
   ],
   "source": [
    "cat_features = ['region_code', 'source_type', 'basin', 'region', 'district_code',\\\n",
    "                   'public_meeting', 'scheme_management', 'permit', 'construction_year', 'extraction_type',\\\n",
    "                  'extraction_type_group', 'extraction_type_class','management',\\\n",
    "                   'management_group', 'payment', 'payment_type', 'water_quality',\\\n",
    "                  'quality_group', 'quantity', 'quantity_group', 'source',\n",
    "                   'source_class', 'waterpoint_type', 'waterpoint_type_group']\n",
    "\n",
    "categorical_transformer = OneHotEncoder(handle_unknown = 'ignore')\n",
    "\n",
    "preprocessor = ColumnTransformer([('cat', categorical_transformer, cat_features)])\n",
    "\n",
    "clf = Pipeline([('preprocessor', preprocessor), \n",
    "               ('classifier', RandomForestClassifier(verbose = 1, random_state = 42))])\n",
    "\n",
    "clf.fit(X_train, y_train)"
   ]
  },
  {
   "cell_type": "code",
   "execution_count": 210,
   "metadata": {},
   "outputs": [
    {
     "name": "stderr",
     "output_type": "stream",
     "text": [
      "[Parallel(n_jobs=1)]: Using backend SequentialBackend with 1 concurrent workers.\n",
      "[Parallel(n_jobs=1)]: Done 100 out of 100 | elapsed:    0.8s finished\n"
     ]
    },
    {
     "data": {
      "text/plain": [
       "0.8802469135802469"
      ]
     },
     "execution_count": 210,
     "metadata": {},
     "output_type": "execute_result"
    }
   ],
   "source": [
    "clf.score(X_train, y_train)"
   ]
  },
  {
   "cell_type": "code",
   "execution_count": 211,
   "metadata": {},
   "outputs": [
    {
     "name": "stderr",
     "output_type": "stream",
     "text": [
      "[Parallel(n_jobs=1)]: Using backend SequentialBackend with 1 concurrent workers.\n",
      "[Parallel(n_jobs=1)]: Done 100 out of 100 | elapsed:    0.9s finished\n"
     ]
    }
   ],
   "source": [
    "y_hat = clf.predict(X_train)"
   ]
  },
  {
   "cell_type": "code",
   "execution_count": 212,
   "metadata": {},
   "outputs": [
    {
     "data": {
      "text/plain": [
       "0.7752331347061695"
      ]
     },
     "execution_count": 212,
     "metadata": {},
     "output_type": "execute_result"
    }
   ],
   "source": [
    "recall_score(y_train, y_hat, average = 'macro')"
   ]
  },
  {
   "cell_type": "code",
   "execution_count": 214,
   "metadata": {
    "tags": []
   },
   "outputs": [
    {
     "name": "stderr",
     "output_type": "stream",
     "text": [
      "[Parallel(n_jobs=-1)]: Using backend ThreadingBackend with 16 concurrent workers.\n",
      "[Parallel(n_jobs=-1)]: Done  18 tasks      | elapsed:    3.1s\n",
      "[Parallel(n_jobs=-1)]: Done 100 out of 100 | elapsed:   10.3s finished\n"
     ]
    },
    {
     "data": {
      "text/plain": [
       "GridSearchCV(cv=3,\n",
       "             estimator=Pipeline(steps=[('preprocessor',\n",
       "                                        ColumnTransformer(transformers=[('cat',\n",
       "                                                                         OneHotEncoder(handle_unknown='ignore'),\n",
       "                                                                         ['region_code',\n",
       "                                                                          'source_type',\n",
       "                                                                          'basin',\n",
       "                                                                          'region',\n",
       "                                                                          'district_code',\n",
       "                                                                          'public_meeting',\n",
       "                                                                          'scheme_management',\n",
       "                                                                          'permit',\n",
       "                                                                          'construction_year',\n",
       "                                                                          'extraction_type',\n",
       "                                                                          'extraction_type_group',\n",
       "                                                                          'extraction_type_class',\n",
       "                                                                          'management',\n",
       "                                                                          'mana...\n",
       "                                       ('classifier',\n",
       "                                        RandomForestClassifier(random_state=42,\n",
       "                                                               verbose=1))]),\n",
       "             n_jobs=-1,\n",
       "             param_grid={'classifier__class_weight': ['balanced',\n",
       "                                                      'balanced_subsample'],\n",
       "                         'classifier__criterion': ['gini', 'entropy'],\n",
       "                         'classifier__max_depth': [3, 10, None],\n",
       "                         'classifier__min_samples_leaf': [1, 2, 4],\n",
       "                         'classifier__n_estimators': [100, 500],\n",
       "                         'classifier__n_jobs': [-1]},\n",
       "             return_train_score=True)"
      ]
     },
     "execution_count": 214,
     "metadata": {},
     "output_type": "execute_result"
    }
   ],
   "source": [
    "param_grid = {\n",
    " 'classifier__max_depth': [3,10, None],\n",
    " 'classifier__criterion': ['gini', 'entropy'],\n",
    " 'classifier__min_samples_leaf': [1, 2, 4],\n",
    " 'classifier__n_estimators': [100, 500],\n",
    " 'classifier__class_weight': ['balanced', 'balanced_subsample'],\n",
    " 'classifier__n_jobs': [-1]\n",
    "}\n",
    "\n",
    "grid_search = GridSearchCV(clf, param_grid, n_jobs=-1, cv = 3, return_train_score=True)\n",
    "\n",
    "grid_search.fit(X_train, y_train)"
   ]
  },
  {
   "cell_type": "code",
   "execution_count": 215,
   "metadata": {},
   "outputs": [
    {
     "data": {
      "text/plain": [
       "{'classifier__class_weight': 'balanced_subsample',\n",
       " 'classifier__criterion': 'entropy',\n",
       " 'classifier__max_depth': None,\n",
       " 'classifier__min_samples_leaf': 1,\n",
       " 'classifier__n_estimators': 100,\n",
       " 'classifier__n_jobs': -1}"
      ]
     },
     "execution_count": 215,
     "metadata": {},
     "output_type": "execute_result"
    }
   ],
   "source": [
    "grid_search.best_params_"
   ]
  },
  {
   "cell_type": "code",
   "execution_count": 216,
   "metadata": {},
   "outputs": [
    {
     "data": {
      "text/plain": [
       "0.7409203142536476"
      ]
     },
     "execution_count": 216,
     "metadata": {},
     "output_type": "execute_result"
    }
   ],
   "source": [
    "grid_search.best_score_"
   ]
  },
  {
   "cell_type": "code",
   "execution_count": 217,
   "metadata": {},
   "outputs": [
    {
     "name": "stderr",
     "output_type": "stream",
     "text": [
      "[Parallel(n_jobs=16)]: Using backend ThreadingBackend with 16 concurrent workers.\n",
      "[Parallel(n_jobs=16)]: Done  18 tasks      | elapsed:    0.0s\n",
      "[Parallel(n_jobs=16)]: Done 100 out of 100 | elapsed:    0.1s finished\n"
     ]
    },
    {
     "name": "stdout",
     "output_type": "stream",
     "text": [
      "recall score: 0.8574104159513118\n",
      "precision score: 0.7559316335993632\n",
      "f1 score: 0.7794504511145689\n"
     ]
    }
   ],
   "source": [
    "yhat = grid_search.predict(X_train)\n",
    "\n",
    "print('recall score:', recall_score(y_train, yhat, average = 'macro'))\n",
    "print('precision score:', precision_score(y_train, yhat, average = 'macro'))\n",
    "print('f1 score:', f1_score(y_train, yhat, average = 'macro'))"
   ]
  },
  {
   "cell_type": "code",
   "execution_count": 224,
   "metadata": {},
   "outputs": [
    {
     "name": "stderr",
     "output_type": "stream",
     "text": [
      "[Parallel(n_jobs=16)]: Using backend ThreadingBackend with 16 concurrent workers.\n",
      "[Parallel(n_jobs=16)]: Done  18 tasks      | elapsed:    0.0s\n",
      "[Parallel(n_jobs=16)]: Done 100 out of 100 | elapsed:    0.1s finished\n"
     ]
    },
    {
     "data": {
      "image/png": "[encoded data removed]",
      "text/plain": [
       "<Figure size 576x396 with 2 Axes>"
      ]
     },
     "metadata": {},
     "output_type": "display_data"
    }
   ],
   "source": [
    "plot_confusion_matrix(grid_search, X_train, y_train)\n",
    "plt.grid(None);"
   ]
  },
  {
   "cell_type": "code",
   "execution_count": 227,
   "metadata": {},
   "outputs": [
    {
     "name": "stderr",
     "output_type": "stream",
     "text": [
      "[Parallel(n_jobs=1)]: Using backend SequentialBackend with 1 concurrent workers.\n",
      "[Parallel(n_jobs=1)]: Done 100 out of 100 | elapsed:    0.8s finished\n",
      "[Parallel(n_jobs=1)]: Using backend SequentialBackend with 1 concurrent workers.\n",
      "[Parallel(n_jobs=1)]: Done 100 out of 100 | elapsed:    0.7s finished\n"
     ]
    },
    {
     "data": {
      "image/png": "[encoded data removed]",
      "text/plain": [
       "<Figure size 576x396 with 1 Axes>"
      ]
     },
     "metadata": {},
     "output_type": "display_data"
    },
    {
     "data": {
      "text/plain": [
       "<AxesSubplot:title={'center':'ROC Curves for RandomForestClassifier'}, xlabel='False Positive Rate', ylabel='True Positive Rate'>"
      ]
     },
     "execution_count": 227,
     "metadata": {},
     "output_type": "execute_result"
    }
   ],
   "source": [
    "visualizer = ROCAUC(clf)\n",
    "visualizer.fit(X_train, y_train)\n",
    "visualizer.score(X_train, y_train)\n",
    "visualizer.show()\n"
   ]
  },
  {
   "cell_type": "code",
   "execution_count": 228,
   "metadata": {},
   "outputs": [
    {
     "name": "stderr",
     "output_type": "stream",
     "text": [
      "[Parallel(n_jobs=16)]: Using backend ThreadingBackend with 16 concurrent workers.\n",
      "[Parallel(n_jobs=16)]: Done  18 tasks      | elapsed:    0.0s\n",
      "[Parallel(n_jobs=16)]: Done 100 out of 100 | elapsed:    0.0s finished\n"
     ]
    },
    {
     "name": "stdout",
     "output_type": "stream",
     "text": [
      "recall score: 0.7023081578100762\n",
      "precision score: 0.6493868828461024\n",
      "f1 score: 0.6606436396368675\n"
     ]
    }
   ],
   "source": [
    "y_hat_test = grid_search.predict(X_test)\n",
    "\n",
    "print('recall score:', recall_score(y_test, y_hat_test, average = 'macro'))\n",
    "print('precision score:', precision_score(y_test, y_hat_test, average = 'macro'))\n",
    "print('f1 score:', f1_score(y_test, y_hat_test, average = 'macro'))"
   ]
  },
  {
   "cell_type": "code",
   "execution_count": 252,
   "metadata": {},
   "outputs": [
    {
     "name": "stderr",
     "output_type": "stream",
     "text": [
      "[Parallel(n_jobs=16)]: Using backend ThreadingBackend with 16 concurrent workers.\n",
      "[Parallel(n_jobs=16)]: Done  18 tasks      | elapsed:    0.0s\n",
      "[Parallel(n_jobs=16)]: Done 100 out of 100 | elapsed:    0.0s finished\n"
     ]
    },
    {
     "data": {
      "image/png": "[encoded data removed]",
      "text/plain": [
       "<Figure size 576x396 with 2 Axes>"
      ]
     },
     "metadata": {},
     "output_type": "display_data"
    }
   ],
   "source": [
    "plot_confusion_matrix(grid_search, X_test, y_test)\n",
    "plt.grid(None)\n",
    "plt.savefig('saved_objects/final_confusion');"
   ]
  },
  {
   "cell_type": "code",
   "execution_count": 253,
   "metadata": {},
   "outputs": [
    {
     "name": "stderr",
     "output_type": "stream",
     "text": [
      "[Parallel(n_jobs=1)]: Using backend SequentialBackend with 1 concurrent workers.\n",
      "[Parallel(n_jobs=1)]: Done 100 out of 100 | elapsed:    0.3s finished\n",
      "[Parallel(n_jobs=1)]: Using backend SequentialBackend with 1 concurrent workers.\n",
      "[Parallel(n_jobs=1)]: Done 100 out of 100 | elapsed:    0.3s finished\n"
     ]
    },
    {
     "data": {
      "image/png": "[encoded data removed]",
      "text/plain": [
       "<Figure size 576x396 with 1 Axes>"
      ]
     },
     "metadata": {},
     "output_type": "display_data"
    },
    {
     "data": {
      "text/plain": [
       "<Figure size 576x396 with 0 Axes>"
      ]
     },
     "metadata": {},
     "output_type": "display_data"
    }
   ],
   "source": [
    "visualizer = ROCAUC(clf)\n",
    "visualizer.fit(X_test, y_test)\n",
    "visualizer.score(X_test, y_test)\n",
    "visualizer.show()\n",
    "plt.savefig('saved_objects/final_ROC_AUC')"
   ]
  },
  {
   "cell_type": "code",
   "execution_count": null,
   "metadata": {},
   "outputs": [],
   "source": []
  },
  {
   "cell_type": "code",
   "execution_count": 230,
   "metadata": {},
   "outputs": [
    {
     "ename": "ValueError",
     "evalue": "could not convert string to float: 'spring'",
     "output_type": "error",
     "traceback": [
      "\u001b[0;31m---------------------------------------------------------------------------\u001b[0m",
      "\u001b[0;31mValueError\u001b[0m                                Traceback (most recent call last)",
      "\u001b[0;32m<ipython-input-230-5d6519fc9c55>\u001b[0m in \u001b[0;36m<module>\u001b[0;34m\u001b[0m\n\u001b[1;32m      2\u001b[0m \u001b[0;34m\u001b[0m\u001b[0m\n\u001b[1;32m      3\u001b[0m \u001b[0mpoly\u001b[0m \u001b[0;34m=\u001b[0m \u001b[0mPolynomialFeatures\u001b[0m\u001b[0;34m(\u001b[0m\u001b[0mdegree\u001b[0m\u001b[0;34m=\u001b[0m\u001b[0;36m2\u001b[0m\u001b[0;34m,\u001b[0m \u001b[0minteraction_only\u001b[0m\u001b[0;34m=\u001b[0m\u001b[0;32mFalse\u001b[0m\u001b[0;34m,\u001b[0m \u001b[0minclude_bias\u001b[0m\u001b[0;34m=\u001b[0m\u001b[0;32mFalse\u001b[0m\u001b[0;34m)\u001b[0m\u001b[0;34m\u001b[0m\u001b[0;34m\u001b[0m\u001b[0m\n\u001b[0;32m----> 4\u001b[0;31m \u001b[0mX_poly_train\u001b[0m \u001b[0;34m=\u001b[0m \u001b[0mpd\u001b[0m\u001b[0;34m.\u001b[0m\u001b[0mDataFrame\u001b[0m\u001b[0;34m(\u001b[0m\u001b[0mpoly\u001b[0m\u001b[0;34m.\u001b[0m\u001b[0mfit_transform\u001b[0m\u001b[0;34m(\u001b[0m\u001b[0mX_train\u001b[0m\u001b[0;34m)\u001b[0m\u001b[0;34m,\u001b[0m \u001b[0mcolumns\u001b[0m\u001b[0;34m=\u001b[0m\u001b[0mpoly\u001b[0m\u001b[0;34m.\u001b[0m\u001b[0mget_feature_names\u001b[0m\u001b[0;34m(\u001b[0m\u001b[0mfeatures\u001b[0m\u001b[0;34m.\u001b[0m\u001b[0mcolumns\u001b[0m\u001b[0;34m)\u001b[0m\u001b[0;34m)\u001b[0m\u001b[0;34m\u001b[0m\u001b[0;34m\u001b[0m\u001b[0m\n\u001b[0m\u001b[1;32m      5\u001b[0m \u001b[0mX_poly_test\u001b[0m \u001b[0;34m=\u001b[0m \u001b[0mpd\u001b[0m\u001b[0;34m.\u001b[0m\u001b[0mDataFrame\u001b[0m\u001b[0;34m(\u001b[0m\u001b[0mpoly\u001b[0m\u001b[0;34m.\u001b[0m\u001b[0mtransform\u001b[0m\u001b[0;34m(\u001b[0m\u001b[0mX_test\u001b[0m\u001b[0;34m)\u001b[0m\u001b[0;34m,\u001b[0m \u001b[0mcolumns\u001b[0m\u001b[0;34m=\u001b[0m\u001b[0mpoly\u001b[0m\u001b[0;34m.\u001b[0m\u001b[0mget_feature_names\u001b[0m\u001b[0;34m(\u001b[0m\u001b[0mfeatures\u001b[0m\u001b[0;34m.\u001b[0m\u001b[0mcolumns\u001b[0m\u001b[0;34m)\u001b[0m\u001b[0;34m)\u001b[0m\u001b[0;34m\u001b[0m\u001b[0;34m\u001b[0m\u001b[0m\n\u001b[1;32m      6\u001b[0m \u001b[0mX_poly_train\u001b[0m\u001b[0;34m.\u001b[0m\u001b[0mhead\u001b[0m\u001b[0;34m(\u001b[0m\u001b[0;34m)\u001b[0m\u001b[0;34m\u001b[0m\u001b[0;34m\u001b[0m\u001b[0m\n",
      "\u001b[0;32m~/opt/anaconda3/envs/learn-env/lib/python3.9/site-packages/sklearn/base.py\u001b[0m in \u001b[0;36mfit_transform\u001b[0;34m(self, X, y, **fit_params)\u001b[0m\n\u001b[1;32m    697\u001b[0m         \u001b[0;32mif\u001b[0m \u001b[0my\u001b[0m \u001b[0;32mis\u001b[0m \u001b[0;32mNone\u001b[0m\u001b[0;34m:\u001b[0m\u001b[0;34m\u001b[0m\u001b[0;34m\u001b[0m\u001b[0m\n\u001b[1;32m    698\u001b[0m             \u001b[0;31m# fit method of arity 1 (unsupervised transformation)\u001b[0m\u001b[0;34m\u001b[0m\u001b[0;34m\u001b[0m\u001b[0;34m\u001b[0m\u001b[0m\n\u001b[0;32m--> 699\u001b[0;31m             \u001b[0;32mreturn\u001b[0m \u001b[0mself\u001b[0m\u001b[0;34m.\u001b[0m\u001b[0mfit\u001b[0m\u001b[0;34m(\u001b[0m\u001b[0mX\u001b[0m\u001b[0;34m,\u001b[0m \u001b[0;34m**\u001b[0m\u001b[0mfit_params\u001b[0m\u001b[0;34m)\u001b[0m\u001b[0;34m.\u001b[0m\u001b[0mtransform\u001b[0m\u001b[0;34m(\u001b[0m\u001b[0mX\u001b[0m\u001b[0;34m)\u001b[0m\u001b[0;34m\u001b[0m\u001b[0;34m\u001b[0m\u001b[0m\n\u001b[0m\u001b[1;32m    700\u001b[0m         \u001b[0;32melse\u001b[0m\u001b[0;34m:\u001b[0m\u001b[0;34m\u001b[0m\u001b[0;34m\u001b[0m\u001b[0m\n\u001b[1;32m    701\u001b[0m             \u001b[0;31m# fit method of arity 2 (supervised transformation)\u001b[0m\u001b[0;34m\u001b[0m\u001b[0;34m\u001b[0m\u001b[0;34m\u001b[0m\u001b[0m\n",
      "\u001b[0;32m~/opt/anaconda3/envs/learn-env/lib/python3.9/site-packages/sklearn/preprocessing/_data.py\u001b[0m in \u001b[0;36mfit\u001b[0;34m(self, X, y)\u001b[0m\n\u001b[1;32m   1702\u001b[0m             \u001b[0mFitted\u001b[0m \u001b[0mtransformer\u001b[0m\u001b[0;34m.\u001b[0m\u001b[0;34m\u001b[0m\u001b[0;34m\u001b[0m\u001b[0m\n\u001b[1;32m   1703\u001b[0m         \"\"\"\n\u001b[0;32m-> 1704\u001b[0;31m         n_samples, n_features = self._validate_data(\n\u001b[0m\u001b[1;32m   1705\u001b[0m             X, accept_sparse=True).shape\n\u001b[1;32m   1706\u001b[0m         combinations = self._combinations(n_features, self.degree,\n",
      "\u001b[0;32m~/opt/anaconda3/envs/learn-env/lib/python3.9/site-packages/sklearn/base.py\u001b[0m in \u001b[0;36m_validate_data\u001b[0;34m(self, X, y, reset, validate_separately, **check_params)\u001b[0m\n\u001b[1;32m    419\u001b[0m             \u001b[0mout\u001b[0m \u001b[0;34m=\u001b[0m \u001b[0mX\u001b[0m\u001b[0;34m\u001b[0m\u001b[0;34m\u001b[0m\u001b[0m\n\u001b[1;32m    420\u001b[0m         \u001b[0;32melif\u001b[0m \u001b[0misinstance\u001b[0m\u001b[0;34m(\u001b[0m\u001b[0my\u001b[0m\u001b[0;34m,\u001b[0m \u001b[0mstr\u001b[0m\u001b[0;34m)\u001b[0m \u001b[0;32mand\u001b[0m \u001b[0my\u001b[0m \u001b[0;34m==\u001b[0m \u001b[0;34m'no_validation'\u001b[0m\u001b[0;34m:\u001b[0m\u001b[0;34m\u001b[0m\u001b[0;34m\u001b[0m\u001b[0m\n\u001b[0;32m--> 421\u001b[0;31m             \u001b[0mX\u001b[0m \u001b[0;34m=\u001b[0m \u001b[0mcheck_array\u001b[0m\u001b[0;34m(\u001b[0m\u001b[0mX\u001b[0m\u001b[0;34m,\u001b[0m \u001b[0;34m**\u001b[0m\u001b[0mcheck_params\u001b[0m\u001b[0;34m)\u001b[0m\u001b[0;34m\u001b[0m\u001b[0;34m\u001b[0m\u001b[0m\n\u001b[0m\u001b[1;32m    422\u001b[0m             \u001b[0mout\u001b[0m \u001b[0;34m=\u001b[0m \u001b[0mX\u001b[0m\u001b[0;34m\u001b[0m\u001b[0;34m\u001b[0m\u001b[0m\n\u001b[1;32m    423\u001b[0m         \u001b[0;32melse\u001b[0m\u001b[0;34m:\u001b[0m\u001b[0;34m\u001b[0m\u001b[0;34m\u001b[0m\u001b[0m\n",
      "\u001b[0;32m~/opt/anaconda3/envs/learn-env/lib/python3.9/site-packages/sklearn/utils/validation.py\u001b[0m in \u001b[0;36minner_f\u001b[0;34m(*args, **kwargs)\u001b[0m\n\u001b[1;32m     61\u001b[0m             \u001b[0mextra_args\u001b[0m \u001b[0;34m=\u001b[0m \u001b[0mlen\u001b[0m\u001b[0;34m(\u001b[0m\u001b[0margs\u001b[0m\u001b[0;34m)\u001b[0m \u001b[0;34m-\u001b[0m \u001b[0mlen\u001b[0m\u001b[0;34m(\u001b[0m\u001b[0mall_args\u001b[0m\u001b[0;34m)\u001b[0m\u001b[0;34m\u001b[0m\u001b[0;34m\u001b[0m\u001b[0m\n\u001b[1;32m     62\u001b[0m             \u001b[0;32mif\u001b[0m \u001b[0mextra_args\u001b[0m \u001b[0;34m<=\u001b[0m \u001b[0;36m0\u001b[0m\u001b[0;34m:\u001b[0m\u001b[0;34m\u001b[0m\u001b[0;34m\u001b[0m\u001b[0m\n\u001b[0;32m---> 63\u001b[0;31m                 \u001b[0;32mreturn\u001b[0m \u001b[0mf\u001b[0m\u001b[0;34m(\u001b[0m\u001b[0;34m*\u001b[0m\u001b[0margs\u001b[0m\u001b[0;34m,\u001b[0m \u001b[0;34m**\u001b[0m\u001b[0mkwargs\u001b[0m\u001b[0;34m)\u001b[0m\u001b[0;34m\u001b[0m\u001b[0;34m\u001b[0m\u001b[0m\n\u001b[0m\u001b[1;32m     64\u001b[0m \u001b[0;34m\u001b[0m\u001b[0m\n\u001b[1;32m     65\u001b[0m             \u001b[0;31m# extra_args > 0\u001b[0m\u001b[0;34m\u001b[0m\u001b[0;34m\u001b[0m\u001b[0;34m\u001b[0m\u001b[0m\n",
      "\u001b[0;32m~/opt/anaconda3/envs/learn-env/lib/python3.9/site-packages/sklearn/utils/validation.py\u001b[0m in \u001b[0;36mcheck_array\u001b[0;34m(array, accept_sparse, accept_large_sparse, dtype, order, copy, force_all_finite, ensure_2d, allow_nd, ensure_min_samples, ensure_min_features, estimator)\u001b[0m\n\u001b[1;32m    671\u001b[0m                     \u001b[0marray\u001b[0m \u001b[0;34m=\u001b[0m \u001b[0marray\u001b[0m\u001b[0;34m.\u001b[0m\u001b[0mastype\u001b[0m\u001b[0;34m(\u001b[0m\u001b[0mdtype\u001b[0m\u001b[0;34m,\u001b[0m \u001b[0mcasting\u001b[0m\u001b[0;34m=\u001b[0m\u001b[0;34m\"unsafe\"\u001b[0m\u001b[0;34m,\u001b[0m \u001b[0mcopy\u001b[0m\u001b[0;34m=\u001b[0m\u001b[0;32mFalse\u001b[0m\u001b[0;34m)\u001b[0m\u001b[0;34m\u001b[0m\u001b[0;34m\u001b[0m\u001b[0m\n\u001b[1;32m    672\u001b[0m                 \u001b[0;32melse\u001b[0m\u001b[0;34m:\u001b[0m\u001b[0;34m\u001b[0m\u001b[0;34m\u001b[0m\u001b[0m\n\u001b[0;32m--> 673\u001b[0;31m                     \u001b[0marray\u001b[0m \u001b[0;34m=\u001b[0m \u001b[0mnp\u001b[0m\u001b[0;34m.\u001b[0m\u001b[0masarray\u001b[0m\u001b[0;34m(\u001b[0m\u001b[0marray\u001b[0m\u001b[0;34m,\u001b[0m \u001b[0morder\u001b[0m\u001b[0;34m=\u001b[0m\u001b[0morder\u001b[0m\u001b[0;34m,\u001b[0m \u001b[0mdtype\u001b[0m\u001b[0;34m=\u001b[0m\u001b[0mdtype\u001b[0m\u001b[0;34m)\u001b[0m\u001b[0;34m\u001b[0m\u001b[0;34m\u001b[0m\u001b[0m\n\u001b[0m\u001b[1;32m    674\u001b[0m             \u001b[0;32mexcept\u001b[0m \u001b[0mComplexWarning\u001b[0m \u001b[0;32mas\u001b[0m \u001b[0mcomplex_warning\u001b[0m\u001b[0;34m:\u001b[0m\u001b[0;34m\u001b[0m\u001b[0;34m\u001b[0m\u001b[0m\n\u001b[1;32m    675\u001b[0m                 raise ValueError(\"Complex data not supported\\n\"\n",
      "\u001b[0;32m~/opt/anaconda3/envs/learn-env/lib/python3.9/site-packages/numpy/core/_asarray.py\u001b[0m in \u001b[0;36masarray\u001b[0;34m(a, dtype, order, like)\u001b[0m\n\u001b[1;32m    100\u001b[0m         \u001b[0;34m(\u001b[0m\u001b[0mFortran\u001b[0m\u001b[0;34m-\u001b[0m\u001b[0mstyle\u001b[0m\u001b[0;34m)\u001b[0m \u001b[0mmemory\u001b[0m \u001b[0mrepresentation\u001b[0m\u001b[0;34m.\u001b[0m  \u001b[0mDefaults\u001b[0m \u001b[0mto\u001b[0m \u001b[0;34m'C'\u001b[0m\u001b[0;34m.\u001b[0m\u001b[0;34m\u001b[0m\u001b[0;34m\u001b[0m\u001b[0m\n\u001b[1;32m    101\u001b[0m \u001b[0;34m\u001b[0m\u001b[0m\n\u001b[0;32m--> 102\u001b[0;31m     \u001b[0mReturns\u001b[0m\u001b[0;34m\u001b[0m\u001b[0;34m\u001b[0m\u001b[0m\n\u001b[0m\u001b[1;32m    103\u001b[0m     \u001b[0;34m-\u001b[0m\u001b[0;34m-\u001b[0m\u001b[0;34m-\u001b[0m\u001b[0;34m-\u001b[0m\u001b[0;34m-\u001b[0m\u001b[0;34m-\u001b[0m\u001b[0;34m-\u001b[0m\u001b[0;34m\u001b[0m\u001b[0;34m\u001b[0m\u001b[0m\n\u001b[1;32m    104\u001b[0m     \u001b[0mout\u001b[0m \u001b[0;34m:\u001b[0m \u001b[0mndarray\u001b[0m \u001b[0;32mor\u001b[0m \u001b[0man\u001b[0m \u001b[0mndarray\u001b[0m \u001b[0msubclass\u001b[0m\u001b[0;34m\u001b[0m\u001b[0;34m\u001b[0m\u001b[0m\n",
      "\u001b[0;32m~/opt/anaconda3/envs/learn-env/lib/python3.9/site-packages/pandas/core/generic.py\u001b[0m in \u001b[0;36m__array__\u001b[0;34m(self, dtype)\u001b[0m\n\u001b[1;32m   1897\u001b[0m \u001b[0;34m\u001b[0m\u001b[0m\n\u001b[1;32m   1898\u001b[0m     \u001b[0;32mdef\u001b[0m \u001b[0m__array__\u001b[0m\u001b[0;34m(\u001b[0m\u001b[0mself\u001b[0m\u001b[0;34m,\u001b[0m \u001b[0mdtype\u001b[0m\u001b[0;34m=\u001b[0m\u001b[0;32mNone\u001b[0m\u001b[0;34m)\u001b[0m \u001b[0;34m->\u001b[0m \u001b[0mnp\u001b[0m\u001b[0;34m.\u001b[0m\u001b[0mndarray\u001b[0m\u001b[0;34m:\u001b[0m\u001b[0;34m\u001b[0m\u001b[0;34m\u001b[0m\u001b[0m\n\u001b[0;32m-> 1899\u001b[0;31m         \u001b[0;32mreturn\u001b[0m \u001b[0mnp\u001b[0m\u001b[0;34m.\u001b[0m\u001b[0masarray\u001b[0m\u001b[0;34m(\u001b[0m\u001b[0mself\u001b[0m\u001b[0;34m.\u001b[0m\u001b[0m_values\u001b[0m\u001b[0;34m,\u001b[0m \u001b[0mdtype\u001b[0m\u001b[0;34m=\u001b[0m\u001b[0mdtype\u001b[0m\u001b[0;34m)\u001b[0m\u001b[0;34m\u001b[0m\u001b[0;34m\u001b[0m\u001b[0m\n\u001b[0m\u001b[1;32m   1900\u001b[0m \u001b[0;34m\u001b[0m\u001b[0m\n\u001b[1;32m   1901\u001b[0m     def __array_wrap__(\n",
      "\u001b[0;32m~/opt/anaconda3/envs/learn-env/lib/python3.9/site-packages/numpy/core/_asarray.py\u001b[0m in \u001b[0;36masarray\u001b[0;34m(a, dtype, order, like)\u001b[0m\n\u001b[1;32m    100\u001b[0m         \u001b[0;34m(\u001b[0m\u001b[0mFortran\u001b[0m\u001b[0;34m-\u001b[0m\u001b[0mstyle\u001b[0m\u001b[0;34m)\u001b[0m \u001b[0mmemory\u001b[0m \u001b[0mrepresentation\u001b[0m\u001b[0;34m.\u001b[0m  \u001b[0mDefaults\u001b[0m \u001b[0mto\u001b[0m \u001b[0;34m'C'\u001b[0m\u001b[0;34m.\u001b[0m\u001b[0;34m\u001b[0m\u001b[0;34m\u001b[0m\u001b[0m\n\u001b[1;32m    101\u001b[0m \u001b[0;34m\u001b[0m\u001b[0m\n\u001b[0;32m--> 102\u001b[0;31m     \u001b[0mReturns\u001b[0m\u001b[0;34m\u001b[0m\u001b[0;34m\u001b[0m\u001b[0m\n\u001b[0m\u001b[1;32m    103\u001b[0m     \u001b[0;34m-\u001b[0m\u001b[0;34m-\u001b[0m\u001b[0;34m-\u001b[0m\u001b[0;34m-\u001b[0m\u001b[0;34m-\u001b[0m\u001b[0;34m-\u001b[0m\u001b[0;34m-\u001b[0m\u001b[0;34m\u001b[0m\u001b[0;34m\u001b[0m\u001b[0m\n\u001b[1;32m    104\u001b[0m     \u001b[0mout\u001b[0m \u001b[0;34m:\u001b[0m \u001b[0mndarray\u001b[0m \u001b[0;32mor\u001b[0m \u001b[0man\u001b[0m \u001b[0mndarray\u001b[0m \u001b[0msubclass\u001b[0m\u001b[0;34m\u001b[0m\u001b[0;34m\u001b[0m\u001b[0m\n",
      "\u001b[0;31mValueError\u001b[0m: could not convert string to float: 'spring'"
     ]
    }
   ],
   "source": [
    "from sklearn.preprocessing import PolynomialFeatures\n",
    "\n",
    "poly = PolynomialFeatures(degree=2, interaction_only=False, include_bias=False)\n",
    "X_poly_train = pd.DataFrame(poly.fit_transform(X_train), columns=poly.get_feature_names(features.columns))\n",
    "X_poly_test = pd.DataFrame(poly.transform(X_test), columns=poly.get_feature_names(features.columns))\n",
    "X_poly_train.head()"
   ]
  },
  {
   "cell_type": "code",
   "execution_count": 231,
   "metadata": {},
   "outputs": [
    {
     "name": "stdout",
     "output_type": "stream",
     "text": [
      "0.0\n"
     ]
    },
    {
     "ename": "ValueError",
     "evalue": "could not convert string to float: 'spring'",
     "output_type": "error",
     "traceback": [
      "\u001b[0;31m---------------------------------------------------------------------------\u001b[0m",
      "\u001b[0;31mValueError\u001b[0m                                Traceback (most recent call last)",
      "\u001b[0;32m<ipython-input-231-bbddba61757a>\u001b[0m in \u001b[0;36m<module>\u001b[0;34m\u001b[0m\n\u001b[1;32m      6\u001b[0m     \u001b[0mprint\u001b[0m\u001b[0;34m(\u001b[0m\u001b[0mthresh\u001b[0m\u001b[0;34m)\u001b[0m\u001b[0;34m\u001b[0m\u001b[0;34m\u001b[0m\u001b[0m\n\u001b[1;32m      7\u001b[0m     \u001b[0mselector\u001b[0m \u001b[0;34m=\u001b[0m \u001b[0mVarianceThreshold\u001b[0m\u001b[0;34m(\u001b[0m\u001b[0mthresh\u001b[0m\u001b[0;34m)\u001b[0m\u001b[0;34m\u001b[0m\u001b[0;34m\u001b[0m\u001b[0m\n\u001b[0;32m----> 8\u001b[0;31m     \u001b[0mreduced_feature_train\u001b[0m \u001b[0;34m=\u001b[0m \u001b[0mselector\u001b[0m\u001b[0;34m.\u001b[0m\u001b[0mfit_transform\u001b[0m\u001b[0;34m(\u001b[0m\u001b[0mX_train\u001b[0m\u001b[0;34m)\u001b[0m\u001b[0;34m\u001b[0m\u001b[0;34m\u001b[0m\u001b[0m\n\u001b[0m\u001b[1;32m      9\u001b[0m     \u001b[0mreduced_feature_test\u001b[0m \u001b[0;34m=\u001b[0m \u001b[0mselector\u001b[0m\u001b[0;34m.\u001b[0m\u001b[0mtransform\u001b[0m\u001b[0;34m(\u001b[0m\u001b[0mX_test\u001b[0m\u001b[0;34m)\u001b[0m\u001b[0;34m\u001b[0m\u001b[0;34m\u001b[0m\u001b[0m\n\u001b[1;32m     10\u001b[0m     \u001b[0mlr\u001b[0m \u001b[0;34m=\u001b[0m \u001b[0mRandomForestClassifier\u001b[0m\u001b[0;34m(\u001b[0m\u001b[0;34m)\u001b[0m\u001b[0;34m\u001b[0m\u001b[0;34m\u001b[0m\u001b[0m\n",
      "\u001b[0;32m~/opt/anaconda3/envs/learn-env/lib/python3.9/site-packages/sklearn/base.py\u001b[0m in \u001b[0;36mfit_transform\u001b[0;34m(self, X, y, **fit_params)\u001b[0m\n\u001b[1;32m    697\u001b[0m         \u001b[0;32mif\u001b[0m \u001b[0my\u001b[0m \u001b[0;32mis\u001b[0m \u001b[0;32mNone\u001b[0m\u001b[0;34m:\u001b[0m\u001b[0;34m\u001b[0m\u001b[0;34m\u001b[0m\u001b[0m\n\u001b[1;32m    698\u001b[0m             \u001b[0;31m# fit method of arity 1 (unsupervised transformation)\u001b[0m\u001b[0;34m\u001b[0m\u001b[0;34m\u001b[0m\u001b[0;34m\u001b[0m\u001b[0m\n\u001b[0;32m--> 699\u001b[0;31m             \u001b[0;32mreturn\u001b[0m \u001b[0mself\u001b[0m\u001b[0;34m.\u001b[0m\u001b[0mfit\u001b[0m\u001b[0;34m(\u001b[0m\u001b[0mX\u001b[0m\u001b[0;34m,\u001b[0m \u001b[0;34m**\u001b[0m\u001b[0mfit_params\u001b[0m\u001b[0;34m)\u001b[0m\u001b[0;34m.\u001b[0m\u001b[0mtransform\u001b[0m\u001b[0;34m(\u001b[0m\u001b[0mX\u001b[0m\u001b[0;34m)\u001b[0m\u001b[0;34m\u001b[0m\u001b[0;34m\u001b[0m\u001b[0m\n\u001b[0m\u001b[1;32m    700\u001b[0m         \u001b[0;32melse\u001b[0m\u001b[0;34m:\u001b[0m\u001b[0;34m\u001b[0m\u001b[0;34m\u001b[0m\u001b[0m\n\u001b[1;32m    701\u001b[0m             \u001b[0;31m# fit method of arity 2 (supervised transformation)\u001b[0m\u001b[0;34m\u001b[0m\u001b[0;34m\u001b[0m\u001b[0;34m\u001b[0m\u001b[0m\n",
      "\u001b[0;32m~/opt/anaconda3/envs/learn-env/lib/python3.9/site-packages/sklearn/feature_selection/_variance_threshold.py\u001b[0m in \u001b[0;36mfit\u001b[0;34m(self, X, y)\u001b[0m\n\u001b[1;32m     66\u001b[0m         \u001b[0mself\u001b[0m\u001b[0;34m\u001b[0m\u001b[0;34m\u001b[0m\u001b[0m\n\u001b[1;32m     67\u001b[0m         \"\"\"\n\u001b[0;32m---> 68\u001b[0;31m         X = self._validate_data(X, accept_sparse=('csr', 'csc'),\n\u001b[0m\u001b[1;32m     69\u001b[0m                                 \u001b[0mdtype\u001b[0m\u001b[0;34m=\u001b[0m\u001b[0mnp\u001b[0m\u001b[0;34m.\u001b[0m\u001b[0mfloat64\u001b[0m\u001b[0;34m,\u001b[0m\u001b[0;34m\u001b[0m\u001b[0;34m\u001b[0m\u001b[0m\n\u001b[1;32m     70\u001b[0m                                 force_all_finite='allow-nan')\n",
      "\u001b[0;32m~/opt/anaconda3/envs/learn-env/lib/python3.9/site-packages/sklearn/base.py\u001b[0m in \u001b[0;36m_validate_data\u001b[0;34m(self, X, y, reset, validate_separately, **check_params)\u001b[0m\n\u001b[1;32m    419\u001b[0m             \u001b[0mout\u001b[0m \u001b[0;34m=\u001b[0m \u001b[0mX\u001b[0m\u001b[0;34m\u001b[0m\u001b[0;34m\u001b[0m\u001b[0m\n\u001b[1;32m    420\u001b[0m         \u001b[0;32melif\u001b[0m \u001b[0misinstance\u001b[0m\u001b[0;34m(\u001b[0m\u001b[0my\u001b[0m\u001b[0;34m,\u001b[0m \u001b[0mstr\u001b[0m\u001b[0;34m)\u001b[0m \u001b[0;32mand\u001b[0m \u001b[0my\u001b[0m \u001b[0;34m==\u001b[0m \u001b[0;34m'no_validation'\u001b[0m\u001b[0;34m:\u001b[0m\u001b[0;34m\u001b[0m\u001b[0;34m\u001b[0m\u001b[0m\n\u001b[0;32m--> 421\u001b[0;31m             \u001b[0mX\u001b[0m \u001b[0;34m=\u001b[0m \u001b[0mcheck_array\u001b[0m\u001b[0;34m(\u001b[0m\u001b[0mX\u001b[0m\u001b[0;34m,\u001b[0m \u001b[0;34m**\u001b[0m\u001b[0mcheck_params\u001b[0m\u001b[0;34m)\u001b[0m\u001b[0;34m\u001b[0m\u001b[0;34m\u001b[0m\u001b[0m\n\u001b[0m\u001b[1;32m    422\u001b[0m             \u001b[0mout\u001b[0m \u001b[0;34m=\u001b[0m \u001b[0mX\u001b[0m\u001b[0;34m\u001b[0m\u001b[0;34m\u001b[0m\u001b[0m\n\u001b[1;32m    423\u001b[0m         \u001b[0;32melse\u001b[0m\u001b[0;34m:\u001b[0m\u001b[0;34m\u001b[0m\u001b[0;34m\u001b[0m\u001b[0m\n",
      "\u001b[0;32m~/opt/anaconda3/envs/learn-env/lib/python3.9/site-packages/sklearn/utils/validation.py\u001b[0m in \u001b[0;36minner_f\u001b[0;34m(*args, **kwargs)\u001b[0m\n\u001b[1;32m     61\u001b[0m             \u001b[0mextra_args\u001b[0m \u001b[0;34m=\u001b[0m \u001b[0mlen\u001b[0m\u001b[0;34m(\u001b[0m\u001b[0margs\u001b[0m\u001b[0;34m)\u001b[0m \u001b[0;34m-\u001b[0m \u001b[0mlen\u001b[0m\u001b[0;34m(\u001b[0m\u001b[0mall_args\u001b[0m\u001b[0;34m)\u001b[0m\u001b[0;34m\u001b[0m\u001b[0;34m\u001b[0m\u001b[0m\n\u001b[1;32m     62\u001b[0m             \u001b[0;32mif\u001b[0m \u001b[0mextra_args\u001b[0m \u001b[0;34m<=\u001b[0m \u001b[0;36m0\u001b[0m\u001b[0;34m:\u001b[0m\u001b[0;34m\u001b[0m\u001b[0;34m\u001b[0m\u001b[0m\n\u001b[0;32m---> 63\u001b[0;31m                 \u001b[0;32mreturn\u001b[0m \u001b[0mf\u001b[0m\u001b[0;34m(\u001b[0m\u001b[0;34m*\u001b[0m\u001b[0margs\u001b[0m\u001b[0;34m,\u001b[0m \u001b[0;34m**\u001b[0m\u001b[0mkwargs\u001b[0m\u001b[0;34m)\u001b[0m\u001b[0;34m\u001b[0m\u001b[0;34m\u001b[0m\u001b[0m\n\u001b[0m\u001b[1;32m     64\u001b[0m \u001b[0;34m\u001b[0m\u001b[0m\n\u001b[1;32m     65\u001b[0m             \u001b[0;31m# extra_args > 0\u001b[0m\u001b[0;34m\u001b[0m\u001b[0;34m\u001b[0m\u001b[0;34m\u001b[0m\u001b[0m\n",
      "\u001b[0;32m~/opt/anaconda3/envs/learn-env/lib/python3.9/site-packages/sklearn/utils/validation.py\u001b[0m in \u001b[0;36mcheck_array\u001b[0;34m(array, accept_sparse, accept_large_sparse, dtype, order, copy, force_all_finite, ensure_2d, allow_nd, ensure_min_samples, ensure_min_features, estimator)\u001b[0m\n\u001b[1;32m    671\u001b[0m                     \u001b[0marray\u001b[0m \u001b[0;34m=\u001b[0m \u001b[0marray\u001b[0m\u001b[0;34m.\u001b[0m\u001b[0mastype\u001b[0m\u001b[0;34m(\u001b[0m\u001b[0mdtype\u001b[0m\u001b[0;34m,\u001b[0m \u001b[0mcasting\u001b[0m\u001b[0;34m=\u001b[0m\u001b[0;34m\"unsafe\"\u001b[0m\u001b[0;34m,\u001b[0m \u001b[0mcopy\u001b[0m\u001b[0;34m=\u001b[0m\u001b[0;32mFalse\u001b[0m\u001b[0;34m)\u001b[0m\u001b[0;34m\u001b[0m\u001b[0;34m\u001b[0m\u001b[0m\n\u001b[1;32m    672\u001b[0m                 \u001b[0;32melse\u001b[0m\u001b[0;34m:\u001b[0m\u001b[0;34m\u001b[0m\u001b[0;34m\u001b[0m\u001b[0m\n\u001b[0;32m--> 673\u001b[0;31m                     \u001b[0marray\u001b[0m \u001b[0;34m=\u001b[0m \u001b[0mnp\u001b[0m\u001b[0;34m.\u001b[0m\u001b[0masarray\u001b[0m\u001b[0;34m(\u001b[0m\u001b[0marray\u001b[0m\u001b[0;34m,\u001b[0m \u001b[0morder\u001b[0m\u001b[0;34m=\u001b[0m\u001b[0morder\u001b[0m\u001b[0;34m,\u001b[0m \u001b[0mdtype\u001b[0m\u001b[0;34m=\u001b[0m\u001b[0mdtype\u001b[0m\u001b[0;34m)\u001b[0m\u001b[0;34m\u001b[0m\u001b[0;34m\u001b[0m\u001b[0m\n\u001b[0m\u001b[1;32m    674\u001b[0m             \u001b[0;32mexcept\u001b[0m \u001b[0mComplexWarning\u001b[0m \u001b[0;32mas\u001b[0m \u001b[0mcomplex_warning\u001b[0m\u001b[0;34m:\u001b[0m\u001b[0;34m\u001b[0m\u001b[0;34m\u001b[0m\u001b[0m\n\u001b[1;32m    675\u001b[0m                 raise ValueError(\"Complex data not supported\\n\"\n",
      "\u001b[0;32m~/opt/anaconda3/envs/learn-env/lib/python3.9/site-packages/numpy/core/_asarray.py\u001b[0m in \u001b[0;36masarray\u001b[0;34m(a, dtype, order, like)\u001b[0m\n\u001b[1;32m    100\u001b[0m         \u001b[0;34m(\u001b[0m\u001b[0mFortran\u001b[0m\u001b[0;34m-\u001b[0m\u001b[0mstyle\u001b[0m\u001b[0;34m)\u001b[0m \u001b[0mmemory\u001b[0m \u001b[0mrepresentation\u001b[0m\u001b[0;34m.\u001b[0m  \u001b[0mDefaults\u001b[0m \u001b[0mto\u001b[0m \u001b[0;34m'C'\u001b[0m\u001b[0;34m.\u001b[0m\u001b[0;34m\u001b[0m\u001b[0;34m\u001b[0m\u001b[0m\n\u001b[1;32m    101\u001b[0m \u001b[0;34m\u001b[0m\u001b[0m\n\u001b[0;32m--> 102\u001b[0;31m     \u001b[0mReturns\u001b[0m\u001b[0;34m\u001b[0m\u001b[0;34m\u001b[0m\u001b[0m\n\u001b[0m\u001b[1;32m    103\u001b[0m     \u001b[0;34m-\u001b[0m\u001b[0;34m-\u001b[0m\u001b[0;34m-\u001b[0m\u001b[0;34m-\u001b[0m\u001b[0;34m-\u001b[0m\u001b[0;34m-\u001b[0m\u001b[0;34m-\u001b[0m\u001b[0;34m\u001b[0m\u001b[0;34m\u001b[0m\u001b[0m\n\u001b[1;32m    104\u001b[0m     \u001b[0mout\u001b[0m \u001b[0;34m:\u001b[0m \u001b[0mndarray\u001b[0m \u001b[0;32mor\u001b[0m \u001b[0man\u001b[0m \u001b[0mndarray\u001b[0m \u001b[0msubclass\u001b[0m\u001b[0;34m\u001b[0m\u001b[0;34m\u001b[0m\u001b[0m\n",
      "\u001b[0;32m~/opt/anaconda3/envs/learn-env/lib/python3.9/site-packages/pandas/core/generic.py\u001b[0m in \u001b[0;36m__array__\u001b[0;34m(self, dtype)\u001b[0m\n\u001b[1;32m   1897\u001b[0m \u001b[0;34m\u001b[0m\u001b[0m\n\u001b[1;32m   1898\u001b[0m     \u001b[0;32mdef\u001b[0m \u001b[0m__array__\u001b[0m\u001b[0;34m(\u001b[0m\u001b[0mself\u001b[0m\u001b[0;34m,\u001b[0m \u001b[0mdtype\u001b[0m\u001b[0;34m=\u001b[0m\u001b[0;32mNone\u001b[0m\u001b[0;34m)\u001b[0m \u001b[0;34m->\u001b[0m \u001b[0mnp\u001b[0m\u001b[0;34m.\u001b[0m\u001b[0mndarray\u001b[0m\u001b[0;34m:\u001b[0m\u001b[0;34m\u001b[0m\u001b[0;34m\u001b[0m\u001b[0m\n\u001b[0;32m-> 1899\u001b[0;31m         \u001b[0;32mreturn\u001b[0m \u001b[0mnp\u001b[0m\u001b[0;34m.\u001b[0m\u001b[0masarray\u001b[0m\u001b[0;34m(\u001b[0m\u001b[0mself\u001b[0m\u001b[0;34m.\u001b[0m\u001b[0m_values\u001b[0m\u001b[0;34m,\u001b[0m \u001b[0mdtype\u001b[0m\u001b[0;34m=\u001b[0m\u001b[0mdtype\u001b[0m\u001b[0;34m)\u001b[0m\u001b[0;34m\u001b[0m\u001b[0;34m\u001b[0m\u001b[0m\n\u001b[0m\u001b[1;32m   1900\u001b[0m \u001b[0;34m\u001b[0m\u001b[0m\n\u001b[1;32m   1901\u001b[0m     def __array_wrap__(\n",
      "\u001b[0;32m~/opt/anaconda3/envs/learn-env/lib/python3.9/site-packages/numpy/core/_asarray.py\u001b[0m in \u001b[0;36masarray\u001b[0;34m(a, dtype, order, like)\u001b[0m\n\u001b[1;32m    100\u001b[0m         \u001b[0;34m(\u001b[0m\u001b[0mFortran\u001b[0m\u001b[0;34m-\u001b[0m\u001b[0mstyle\u001b[0m\u001b[0;34m)\u001b[0m \u001b[0mmemory\u001b[0m \u001b[0mrepresentation\u001b[0m\u001b[0;34m.\u001b[0m  \u001b[0mDefaults\u001b[0m \u001b[0mto\u001b[0m \u001b[0;34m'C'\u001b[0m\u001b[0;34m.\u001b[0m\u001b[0;34m\u001b[0m\u001b[0;34m\u001b[0m\u001b[0m\n\u001b[1;32m    101\u001b[0m \u001b[0;34m\u001b[0m\u001b[0m\n\u001b[0;32m--> 102\u001b[0;31m     \u001b[0mReturns\u001b[0m\u001b[0;34m\u001b[0m\u001b[0;34m\u001b[0m\u001b[0m\n\u001b[0m\u001b[1;32m    103\u001b[0m     \u001b[0;34m-\u001b[0m\u001b[0;34m-\u001b[0m\u001b[0;34m-\u001b[0m\u001b[0;34m-\u001b[0m\u001b[0;34m-\u001b[0m\u001b[0;34m-\u001b[0m\u001b[0;34m-\u001b[0m\u001b[0;34m\u001b[0m\u001b[0;34m\u001b[0m\u001b[0m\n\u001b[1;32m    104\u001b[0m     \u001b[0mout\u001b[0m \u001b[0;34m:\u001b[0m \u001b[0mndarray\u001b[0m \u001b[0;32mor\u001b[0m \u001b[0man\u001b[0m \u001b[0mndarray\u001b[0m \u001b[0msubclass\u001b[0m\u001b[0;34m\u001b[0m\u001b[0;34m\u001b[0m\u001b[0m\n",
      "\u001b[0;31mValueError\u001b[0m: could not convert string to float: 'spring'"
     ]
    }
   ],
   "source": [
    "from sklearn.feature_selection import VarianceThreshold\n",
    "\n",
    "threshold_ranges = np.linspace(0, 2, num=6)\n",
    "\n",
    "for thresh in threshold_ranges:\n",
    "    print(thresh)\n",
    "    selector = VarianceThreshold(thresh)\n",
    "    reduced_feature_train = selector.fit_transform(X_train)\n",
    "    reduced_feature_test = selector.transform(X_test)\n",
    "    lr = RandomForestClassifier()\n",
    "    lr.fit(reduced_feature_train, y_train)\n",
    "    run_model(lr, reduced_feature_train, reduced_feature_test, y_train, y_test)\n",
    "    print('--------------------------------------------------------------------')"
   ]
  },
  {
   "cell_type": "code",
   "execution_count": null,
   "metadata": {},
   "outputs": [],
   "source": []
  }
 ],
 "metadata": {
  "kernelspec": {
   "display_name": "Python (learn-env)",
   "language": "python",
   "name": "learn-env"
  },
  "language_info": {
   "codemirror_mode": {
    "name": "ipython",
    "version": 3
   },
   "file_extension": ".py",
   "mimetype": "text/x-python",
   "name": "python",
   "nbconvert_exporter": "python",
   "pygments_lexer": "ipython3",
   "version": "3.9.5"
  }
 },
 "nbformat": 4,
 "nbformat_minor": 4
}
