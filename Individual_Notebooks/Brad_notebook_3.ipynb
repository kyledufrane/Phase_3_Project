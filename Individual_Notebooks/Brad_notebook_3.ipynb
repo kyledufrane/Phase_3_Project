{
 "cells": [
  {
   "cell_type": "code",
<<<<<<< HEAD
   "execution_count": 71,
=======
   "execution_count": 1,
>>>>>>> b0c843cb0bdc3c45584c18f8a175557e4a82f34e
   "metadata": {},
   "outputs": [],
   "source": [
    "import numpy as np \n",
    "import pandas as pd \n",
    "import matplotlib.pyplot as plt\n",
    "from sklearn.model_selection import train_test_split, GridSearchCV\n",
    "from sklearn.pipeline import Pipeline\n",
    "from sklearn.preprocessing import StandardScaler, OrdinalEncoder, OneHotEncoder, PolynomialFeatures\n",
    "from sklearn.impute import SimpleImputer\n",
    "from sklearn.compose import ColumnTransformer\n",
    "from sklearn.tree import DecisionTreeClassifier\n",
    "from sklearn.ensemble import RandomForestClassifier\n",
    "from sklearn.metrics import recall_score, plot_confusion_matrix\n",
    "from sklearn.linear_model import LogisticRegression\n",
    "from sklearn.neighbors import KNeighborsClassifier\n",
    "from sklearn.naive_bayes import GaussianNB\n",
    "from sklearn.pipeline import Pipeline"
   ]
  },
  {
   "cell_type": "code",
   "execution_count": 2,
   "metadata": {},
   "outputs": [],
   "source": [
    "pd.set_option(\"display.max_columns\", None)"
   ]
  },
  {
   "cell_type": "code",
   "execution_count": 3,
   "metadata": {
    "scrolled": true
   },
   "outputs": [
    {
     "data": {
      "text/html": [
       "<div>\n",
       "<style scoped>\n",
       "    .dataframe tbody tr th:only-of-type {\n",
       "        vertical-align: middle;\n",
       "    }\n",
       "\n",
       "    .dataframe tbody tr th {\n",
       "        vertical-align: top;\n",
       "    }\n",
       "\n",
       "    .dataframe thead th {\n",
       "        text-align: right;\n",
       "    }\n",
       "</style>\n",
       "<table border=\"1\" class=\"dataframe\">\n",
       "  <thead>\n",
       "    <tr style=\"text-align: right;\">\n",
       "      <th></th>\n",
       "      <th>id</th>\n",
       "      <th>status_group</th>\n",
       "    </tr>\n",
       "  </thead>\n",
       "  <tbody>\n",
       "    <tr>\n",
       "      <th>0</th>\n",
       "      <td>69572</td>\n",
       "      <td>functional</td>\n",
       "    </tr>\n",
       "    <tr>\n",
       "      <th>1</th>\n",
       "      <td>8776</td>\n",
       "      <td>functional</td>\n",
       "    </tr>\n",
       "    <tr>\n",
       "      <th>2</th>\n",
       "      <td>34310</td>\n",
       "      <td>functional</td>\n",
       "    </tr>\n",
       "    <tr>\n",
       "      <th>3</th>\n",
       "      <td>67743</td>\n",
       "      <td>non functional</td>\n",
       "    </tr>\n",
       "    <tr>\n",
       "      <th>4</th>\n",
       "      <td>19728</td>\n",
       "      <td>functional</td>\n",
       "    </tr>\n",
       "  </tbody>\n",
       "</table>\n",
       "</div>"
      ],
      "text/plain": [
       "      id    status_group\n",
       "0  69572      functional\n",
       "1   8776      functional\n",
       "2  34310      functional\n",
       "3  67743  non functional\n",
       "4  19728      functional"
      ]
     },
     "execution_count": 3,
     "metadata": {},
     "output_type": "execute_result"
    }
   ],
   "source": [
    "pump_target = pd.read_csv('data/Training_set_labels.csv')\n",
    "pump_target.head()"
   ]
  },
  {
   "cell_type": "code",
   "execution_count": 4,
   "metadata": {},
   "outputs": [
    {
     "data": {
      "text/html": [
       "<div>\n",
       "<style scoped>\n",
       "    .dataframe tbody tr th:only-of-type {\n",
       "        vertical-align: middle;\n",
       "    }\n",
       "\n",
       "    .dataframe tbody tr th {\n",
       "        vertical-align: top;\n",
       "    }\n",
       "\n",
       "    .dataframe thead th {\n",
       "        text-align: right;\n",
       "    }\n",
       "</style>\n",
       "<table border=\"1\" class=\"dataframe\">\n",
       "  <thead>\n",
       "    <tr style=\"text-align: right;\">\n",
       "      <th></th>\n",
       "      <th>id</th>\n",
       "      <th>amount_tsh</th>\n",
       "      <th>date_recorded</th>\n",
       "      <th>funder</th>\n",
       "      <th>gps_height</th>\n",
       "      <th>installer</th>\n",
       "      <th>longitude</th>\n",
       "      <th>latitude</th>\n",
       "      <th>wpt_name</th>\n",
       "      <th>num_private</th>\n",
       "      <th>basin</th>\n",
       "      <th>subvillage</th>\n",
       "      <th>region</th>\n",
       "      <th>region_code</th>\n",
       "      <th>district_code</th>\n",
       "      <th>lga</th>\n",
       "      <th>ward</th>\n",
       "      <th>population</th>\n",
       "      <th>public_meeting</th>\n",
       "      <th>recorded_by</th>\n",
       "      <th>scheme_management</th>\n",
       "      <th>scheme_name</th>\n",
       "      <th>permit</th>\n",
       "      <th>construction_year</th>\n",
       "      <th>extraction_type</th>\n",
       "      <th>extraction_type_group</th>\n",
       "      <th>extraction_type_class</th>\n",
       "      <th>management</th>\n",
       "      <th>management_group</th>\n",
       "      <th>payment</th>\n",
       "      <th>payment_type</th>\n",
       "      <th>water_quality</th>\n",
       "      <th>quality_group</th>\n",
       "      <th>quantity</th>\n",
       "      <th>quantity_group</th>\n",
       "      <th>source</th>\n",
       "      <th>source_type</th>\n",
       "      <th>source_class</th>\n",
       "      <th>waterpoint_type</th>\n",
       "      <th>waterpoint_type_group</th>\n",
       "    </tr>\n",
       "  </thead>\n",
       "  <tbody>\n",
       "    <tr>\n",
       "      <th>0</th>\n",
       "      <td>69572</td>\n",
       "      <td>6000.0</td>\n",
       "      <td>2011-03-14</td>\n",
       "      <td>Roman</td>\n",
       "      <td>1390</td>\n",
       "      <td>Roman</td>\n",
       "      <td>34.938093</td>\n",
       "      <td>-9.856322</td>\n",
       "      <td>none</td>\n",
       "      <td>0</td>\n",
       "      <td>Lake Nyasa</td>\n",
       "      <td>Mnyusi B</td>\n",
       "      <td>Iringa</td>\n",
       "      <td>11</td>\n",
       "      <td>5</td>\n",
       "      <td>Ludewa</td>\n",
       "      <td>Mundindi</td>\n",
       "      <td>109</td>\n",
       "      <td>True</td>\n",
       "      <td>GeoData Consultants Ltd</td>\n",
       "      <td>VWC</td>\n",
       "      <td>Roman</td>\n",
       "      <td>False</td>\n",
       "      <td>1999</td>\n",
       "      <td>gravity</td>\n",
       "      <td>gravity</td>\n",
       "      <td>gravity</td>\n",
       "      <td>vwc</td>\n",
       "      <td>user-group</td>\n",
       "      <td>pay annually</td>\n",
       "      <td>annually</td>\n",
       "      <td>soft</td>\n",
       "      <td>good</td>\n",
       "      <td>enough</td>\n",
       "      <td>enough</td>\n",
       "      <td>spring</td>\n",
       "      <td>spring</td>\n",
       "      <td>groundwater</td>\n",
       "      <td>communal standpipe</td>\n",
       "      <td>communal standpipe</td>\n",
       "    </tr>\n",
       "    <tr>\n",
       "      <th>1</th>\n",
       "      <td>8776</td>\n",
       "      <td>0.0</td>\n",
       "      <td>2013-03-06</td>\n",
       "      <td>Grumeti</td>\n",
       "      <td>1399</td>\n",
       "      <td>GRUMETI</td>\n",
       "      <td>34.698766</td>\n",
       "      <td>-2.147466</td>\n",
       "      <td>Zahanati</td>\n",
       "      <td>0</td>\n",
       "      <td>Lake Victoria</td>\n",
       "      <td>Nyamara</td>\n",
       "      <td>Mara</td>\n",
       "      <td>20</td>\n",
       "      <td>2</td>\n",
       "      <td>Serengeti</td>\n",
       "      <td>Natta</td>\n",
       "      <td>280</td>\n",
       "      <td>NaN</td>\n",
       "      <td>GeoData Consultants Ltd</td>\n",
       "      <td>Other</td>\n",
       "      <td>NaN</td>\n",
       "      <td>True</td>\n",
       "      <td>2010</td>\n",
       "      <td>gravity</td>\n",
       "      <td>gravity</td>\n",
       "      <td>gravity</td>\n",
       "      <td>wug</td>\n",
       "      <td>user-group</td>\n",
       "      <td>never pay</td>\n",
       "      <td>never pay</td>\n",
       "      <td>soft</td>\n",
       "      <td>good</td>\n",
       "      <td>insufficient</td>\n",
       "      <td>insufficient</td>\n",
       "      <td>rainwater harvesting</td>\n",
       "      <td>rainwater harvesting</td>\n",
       "      <td>surface</td>\n",
       "      <td>communal standpipe</td>\n",
       "      <td>communal standpipe</td>\n",
       "    </tr>\n",
       "    <tr>\n",
       "      <th>2</th>\n",
       "      <td>34310</td>\n",
       "      <td>25.0</td>\n",
       "      <td>2013-02-25</td>\n",
       "      <td>Lottery Club</td>\n",
       "      <td>686</td>\n",
       "      <td>World vision</td>\n",
       "      <td>37.460664</td>\n",
       "      <td>-3.821329</td>\n",
       "      <td>Kwa Mahundi</td>\n",
       "      <td>0</td>\n",
       "      <td>Pangani</td>\n",
       "      <td>Majengo</td>\n",
       "      <td>Manyara</td>\n",
       "      <td>21</td>\n",
       "      <td>4</td>\n",
       "      <td>Simanjiro</td>\n",
       "      <td>Ngorika</td>\n",
       "      <td>250</td>\n",
       "      <td>True</td>\n",
       "      <td>GeoData Consultants Ltd</td>\n",
       "      <td>VWC</td>\n",
       "      <td>Nyumba ya mungu pipe scheme</td>\n",
       "      <td>True</td>\n",
       "      <td>2009</td>\n",
       "      <td>gravity</td>\n",
       "      <td>gravity</td>\n",
       "      <td>gravity</td>\n",
       "      <td>vwc</td>\n",
       "      <td>user-group</td>\n",
       "      <td>pay per bucket</td>\n",
       "      <td>per bucket</td>\n",
       "      <td>soft</td>\n",
       "      <td>good</td>\n",
       "      <td>enough</td>\n",
       "      <td>enough</td>\n",
       "      <td>dam</td>\n",
       "      <td>dam</td>\n",
       "      <td>surface</td>\n",
       "      <td>communal standpipe multiple</td>\n",
       "      <td>communal standpipe</td>\n",
       "    </tr>\n",
       "    <tr>\n",
       "      <th>3</th>\n",
       "      <td>67743</td>\n",
       "      <td>0.0</td>\n",
       "      <td>2013-01-28</td>\n",
       "      <td>Unicef</td>\n",
       "      <td>263</td>\n",
       "      <td>UNICEF</td>\n",
       "      <td>38.486161</td>\n",
       "      <td>-11.155298</td>\n",
       "      <td>Zahanati Ya Nanyumbu</td>\n",
       "      <td>0</td>\n",
       "      <td>Ruvuma / Southern Coast</td>\n",
       "      <td>Mahakamani</td>\n",
       "      <td>Mtwara</td>\n",
       "      <td>90</td>\n",
       "      <td>63</td>\n",
       "      <td>Nanyumbu</td>\n",
       "      <td>Nanyumbu</td>\n",
       "      <td>58</td>\n",
       "      <td>True</td>\n",
       "      <td>GeoData Consultants Ltd</td>\n",
       "      <td>VWC</td>\n",
       "      <td>NaN</td>\n",
       "      <td>True</td>\n",
       "      <td>1986</td>\n",
       "      <td>submersible</td>\n",
       "      <td>submersible</td>\n",
       "      <td>submersible</td>\n",
       "      <td>vwc</td>\n",
       "      <td>user-group</td>\n",
       "      <td>never pay</td>\n",
       "      <td>never pay</td>\n",
       "      <td>soft</td>\n",
       "      <td>good</td>\n",
       "      <td>dry</td>\n",
       "      <td>dry</td>\n",
       "      <td>machine dbh</td>\n",
       "      <td>borehole</td>\n",
       "      <td>groundwater</td>\n",
       "      <td>communal standpipe multiple</td>\n",
       "      <td>communal standpipe</td>\n",
       "    </tr>\n",
       "    <tr>\n",
       "      <th>4</th>\n",
       "      <td>19728</td>\n",
       "      <td>0.0</td>\n",
       "      <td>2011-07-13</td>\n",
       "      <td>Action In A</td>\n",
       "      <td>0</td>\n",
       "      <td>Artisan</td>\n",
       "      <td>31.130847</td>\n",
       "      <td>-1.825359</td>\n",
       "      <td>Shuleni</td>\n",
       "      <td>0</td>\n",
       "      <td>Lake Victoria</td>\n",
       "      <td>Kyanyamisa</td>\n",
       "      <td>Kagera</td>\n",
       "      <td>18</td>\n",
       "      <td>1</td>\n",
       "      <td>Karagwe</td>\n",
       "      <td>Nyakasimbi</td>\n",
       "      <td>0</td>\n",
       "      <td>True</td>\n",
       "      <td>GeoData Consultants Ltd</td>\n",
       "      <td>NaN</td>\n",
       "      <td>NaN</td>\n",
       "      <td>True</td>\n",
       "      <td>0</td>\n",
       "      <td>gravity</td>\n",
       "      <td>gravity</td>\n",
       "      <td>gravity</td>\n",
       "      <td>other</td>\n",
       "      <td>other</td>\n",
       "      <td>never pay</td>\n",
       "      <td>never pay</td>\n",
       "      <td>soft</td>\n",
       "      <td>good</td>\n",
       "      <td>seasonal</td>\n",
       "      <td>seasonal</td>\n",
       "      <td>rainwater harvesting</td>\n",
       "      <td>rainwater harvesting</td>\n",
       "      <td>surface</td>\n",
       "      <td>communal standpipe</td>\n",
       "      <td>communal standpipe</td>\n",
       "    </tr>\n",
       "  </tbody>\n",
       "</table>\n",
       "</div>"
      ],
      "text/plain": [
       "      id  amount_tsh date_recorded        funder  gps_height     installer  \\\n",
       "0  69572      6000.0    2011-03-14         Roman        1390         Roman   \n",
       "1   8776         0.0    2013-03-06       Grumeti        1399       GRUMETI   \n",
       "2  34310        25.0    2013-02-25  Lottery Club         686  World vision   \n",
       "3  67743         0.0    2013-01-28        Unicef         263        UNICEF   \n",
       "4  19728         0.0    2011-07-13   Action In A           0       Artisan   \n",
       "\n",
       "   longitude   latitude              wpt_name  num_private  \\\n",
       "0  34.938093  -9.856322                  none            0   \n",
       "1  34.698766  -2.147466              Zahanati            0   \n",
       "2  37.460664  -3.821329           Kwa Mahundi            0   \n",
       "3  38.486161 -11.155298  Zahanati Ya Nanyumbu            0   \n",
       "4  31.130847  -1.825359               Shuleni            0   \n",
       "\n",
       "                     basin  subvillage   region  region_code  district_code  \\\n",
       "0               Lake Nyasa    Mnyusi B   Iringa           11              5   \n",
       "1            Lake Victoria     Nyamara     Mara           20              2   \n",
       "2                  Pangani     Majengo  Manyara           21              4   \n",
       "3  Ruvuma / Southern Coast  Mahakamani   Mtwara           90             63   \n",
       "4            Lake Victoria  Kyanyamisa   Kagera           18              1   \n",
       "\n",
       "         lga        ward  population public_meeting              recorded_by  \\\n",
       "0     Ludewa    Mundindi         109           True  GeoData Consultants Ltd   \n",
       "1  Serengeti       Natta         280            NaN  GeoData Consultants Ltd   \n",
       "2  Simanjiro     Ngorika         250           True  GeoData Consultants Ltd   \n",
       "3   Nanyumbu    Nanyumbu          58           True  GeoData Consultants Ltd   \n",
       "4    Karagwe  Nyakasimbi           0           True  GeoData Consultants Ltd   \n",
       "\n",
       "  scheme_management                  scheme_name permit  construction_year  \\\n",
       "0               VWC                        Roman  False               1999   \n",
       "1             Other                          NaN   True               2010   \n",
       "2               VWC  Nyumba ya mungu pipe scheme   True               2009   \n",
       "3               VWC                          NaN   True               1986   \n",
       "4               NaN                          NaN   True                  0   \n",
       "\n",
       "  extraction_type extraction_type_group extraction_type_class management  \\\n",
       "0         gravity               gravity               gravity        vwc   \n",
       "1         gravity               gravity               gravity        wug   \n",
       "2         gravity               gravity               gravity        vwc   \n",
       "3     submersible           submersible           submersible        vwc   \n",
       "4         gravity               gravity               gravity      other   \n",
       "\n",
       "  management_group         payment payment_type water_quality quality_group  \\\n",
       "0       user-group    pay annually     annually          soft          good   \n",
       "1       user-group       never pay    never pay          soft          good   \n",
       "2       user-group  pay per bucket   per bucket          soft          good   \n",
       "3       user-group       never pay    never pay          soft          good   \n",
       "4            other       never pay    never pay          soft          good   \n",
       "\n",
       "       quantity quantity_group                source           source_type  \\\n",
       "0        enough         enough                spring                spring   \n",
       "1  insufficient   insufficient  rainwater harvesting  rainwater harvesting   \n",
       "2        enough         enough                   dam                   dam   \n",
       "3           dry            dry           machine dbh              borehole   \n",
       "4      seasonal       seasonal  rainwater harvesting  rainwater harvesting   \n",
       "\n",
       "  source_class              waterpoint_type waterpoint_type_group  \n",
       "0  groundwater           communal standpipe    communal standpipe  \n",
       "1      surface           communal standpipe    communal standpipe  \n",
       "2      surface  communal standpipe multiple    communal standpipe  \n",
       "3  groundwater  communal standpipe multiple    communal standpipe  \n",
       "4      surface           communal standpipe    communal standpipe  "
      ]
     },
     "execution_count": 4,
     "metadata": {},
     "output_type": "execute_result"
    }
   ],
   "source": [
    "pump_features = pd.read_csv('data/Training_set_values.csv')\n",
    "pump_features.head()"
   ]
  },
  {
   "cell_type": "code",
   "execution_count": 5,
   "metadata": {},
   "outputs": [
    {
     "data": {
      "text/html": [
       "<div>\n",
       "<style scoped>\n",
       "    .dataframe tbody tr th:only-of-type {\n",
       "        vertical-align: middle;\n",
       "    }\n",
       "\n",
       "    .dataframe tbody tr th {\n",
       "        vertical-align: top;\n",
       "    }\n",
       "\n",
       "    .dataframe thead th {\n",
       "        text-align: right;\n",
       "    }\n",
       "</style>\n",
       "<table border=\"1\" class=\"dataframe\">\n",
       "  <thead>\n",
       "    <tr style=\"text-align: right;\">\n",
       "      <th></th>\n",
       "      <th>id</th>\n",
       "      <th>amount_tsh</th>\n",
       "      <th>date_recorded</th>\n",
       "      <th>funder</th>\n",
       "      <th>gps_height</th>\n",
       "      <th>installer</th>\n",
       "      <th>longitude</th>\n",
       "      <th>latitude</th>\n",
       "      <th>wpt_name</th>\n",
       "      <th>num_private</th>\n",
       "      <th>basin</th>\n",
       "      <th>subvillage</th>\n",
       "      <th>region</th>\n",
       "      <th>region_code</th>\n",
       "      <th>district_code</th>\n",
       "      <th>lga</th>\n",
       "      <th>ward</th>\n",
       "      <th>population</th>\n",
       "      <th>public_meeting</th>\n",
       "      <th>recorded_by</th>\n",
       "      <th>scheme_management</th>\n",
       "      <th>scheme_name</th>\n",
       "      <th>permit</th>\n",
       "      <th>construction_year</th>\n",
       "      <th>extraction_type</th>\n",
       "      <th>extraction_type_group</th>\n",
       "      <th>extraction_type_class</th>\n",
       "      <th>management</th>\n",
       "      <th>management_group</th>\n",
       "      <th>payment</th>\n",
       "      <th>payment_type</th>\n",
       "      <th>water_quality</th>\n",
       "      <th>quality_group</th>\n",
       "      <th>quantity</th>\n",
       "      <th>quantity_group</th>\n",
       "      <th>source</th>\n",
       "      <th>source_type</th>\n",
       "      <th>source_class</th>\n",
       "      <th>waterpoint_type</th>\n",
       "      <th>waterpoint_type_group</th>\n",
       "      <th>status_group</th>\n",
       "    </tr>\n",
       "  </thead>\n",
       "  <tbody>\n",
       "    <tr>\n",
       "      <th>0</th>\n",
       "      <td>69572</td>\n",
       "      <td>6000.0</td>\n",
       "      <td>2011-03-14</td>\n",
       "      <td>Roman</td>\n",
       "      <td>1390</td>\n",
       "      <td>Roman</td>\n",
       "      <td>34.938093</td>\n",
       "      <td>-9.856322</td>\n",
       "      <td>none</td>\n",
       "      <td>0</td>\n",
       "      <td>Lake Nyasa</td>\n",
       "      <td>Mnyusi B</td>\n",
       "      <td>Iringa</td>\n",
       "      <td>11</td>\n",
       "      <td>5</td>\n",
       "      <td>Ludewa</td>\n",
       "      <td>Mundindi</td>\n",
       "      <td>109</td>\n",
       "      <td>True</td>\n",
       "      <td>GeoData Consultants Ltd</td>\n",
       "      <td>VWC</td>\n",
       "      <td>Roman</td>\n",
       "      <td>False</td>\n",
       "      <td>1999</td>\n",
       "      <td>gravity</td>\n",
       "      <td>gravity</td>\n",
       "      <td>gravity</td>\n",
       "      <td>vwc</td>\n",
       "      <td>user-group</td>\n",
       "      <td>pay annually</td>\n",
       "      <td>annually</td>\n",
       "      <td>soft</td>\n",
       "      <td>good</td>\n",
       "      <td>enough</td>\n",
       "      <td>enough</td>\n",
       "      <td>spring</td>\n",
       "      <td>spring</td>\n",
       "      <td>groundwater</td>\n",
       "      <td>communal standpipe</td>\n",
       "      <td>communal standpipe</td>\n",
       "      <td>functional</td>\n",
       "    </tr>\n",
       "    <tr>\n",
       "      <th>1</th>\n",
       "      <td>8776</td>\n",
       "      <td>0.0</td>\n",
       "      <td>2013-03-06</td>\n",
       "      <td>Grumeti</td>\n",
       "      <td>1399</td>\n",
       "      <td>GRUMETI</td>\n",
       "      <td>34.698766</td>\n",
       "      <td>-2.147466</td>\n",
       "      <td>Zahanati</td>\n",
       "      <td>0</td>\n",
       "      <td>Lake Victoria</td>\n",
       "      <td>Nyamara</td>\n",
       "      <td>Mara</td>\n",
       "      <td>20</td>\n",
       "      <td>2</td>\n",
       "      <td>Serengeti</td>\n",
       "      <td>Natta</td>\n",
       "      <td>280</td>\n",
       "      <td>NaN</td>\n",
       "      <td>GeoData Consultants Ltd</td>\n",
       "      <td>Other</td>\n",
       "      <td>NaN</td>\n",
       "      <td>True</td>\n",
       "      <td>2010</td>\n",
       "      <td>gravity</td>\n",
       "      <td>gravity</td>\n",
       "      <td>gravity</td>\n",
       "      <td>wug</td>\n",
       "      <td>user-group</td>\n",
       "      <td>never pay</td>\n",
       "      <td>never pay</td>\n",
       "      <td>soft</td>\n",
       "      <td>good</td>\n",
       "      <td>insufficient</td>\n",
       "      <td>insufficient</td>\n",
       "      <td>rainwater harvesting</td>\n",
       "      <td>rainwater harvesting</td>\n",
       "      <td>surface</td>\n",
       "      <td>communal standpipe</td>\n",
       "      <td>communal standpipe</td>\n",
       "      <td>functional</td>\n",
       "    </tr>\n",
       "    <tr>\n",
       "      <th>2</th>\n",
       "      <td>34310</td>\n",
       "      <td>25.0</td>\n",
       "      <td>2013-02-25</td>\n",
       "      <td>Lottery Club</td>\n",
       "      <td>686</td>\n",
       "      <td>World vision</td>\n",
       "      <td>37.460664</td>\n",
       "      <td>-3.821329</td>\n",
       "      <td>Kwa Mahundi</td>\n",
       "      <td>0</td>\n",
       "      <td>Pangani</td>\n",
       "      <td>Majengo</td>\n",
       "      <td>Manyara</td>\n",
       "      <td>21</td>\n",
       "      <td>4</td>\n",
       "      <td>Simanjiro</td>\n",
       "      <td>Ngorika</td>\n",
       "      <td>250</td>\n",
       "      <td>True</td>\n",
       "      <td>GeoData Consultants Ltd</td>\n",
       "      <td>VWC</td>\n",
       "      <td>Nyumba ya mungu pipe scheme</td>\n",
       "      <td>True</td>\n",
       "      <td>2009</td>\n",
       "      <td>gravity</td>\n",
       "      <td>gravity</td>\n",
       "      <td>gravity</td>\n",
       "      <td>vwc</td>\n",
       "      <td>user-group</td>\n",
       "      <td>pay per bucket</td>\n",
       "      <td>per bucket</td>\n",
       "      <td>soft</td>\n",
       "      <td>good</td>\n",
       "      <td>enough</td>\n",
       "      <td>enough</td>\n",
       "      <td>dam</td>\n",
       "      <td>dam</td>\n",
       "      <td>surface</td>\n",
       "      <td>communal standpipe multiple</td>\n",
       "      <td>communal standpipe</td>\n",
       "      <td>functional</td>\n",
       "    </tr>\n",
       "    <tr>\n",
       "      <th>3</th>\n",
       "      <td>67743</td>\n",
       "      <td>0.0</td>\n",
       "      <td>2013-01-28</td>\n",
       "      <td>Unicef</td>\n",
       "      <td>263</td>\n",
       "      <td>UNICEF</td>\n",
       "      <td>38.486161</td>\n",
       "      <td>-11.155298</td>\n",
       "      <td>Zahanati Ya Nanyumbu</td>\n",
       "      <td>0</td>\n",
       "      <td>Ruvuma / Southern Coast</td>\n",
       "      <td>Mahakamani</td>\n",
       "      <td>Mtwara</td>\n",
       "      <td>90</td>\n",
       "      <td>63</td>\n",
       "      <td>Nanyumbu</td>\n",
       "      <td>Nanyumbu</td>\n",
       "      <td>58</td>\n",
       "      <td>True</td>\n",
       "      <td>GeoData Consultants Ltd</td>\n",
       "      <td>VWC</td>\n",
       "      <td>NaN</td>\n",
       "      <td>True</td>\n",
       "      <td>1986</td>\n",
       "      <td>submersible</td>\n",
       "      <td>submersible</td>\n",
       "      <td>submersible</td>\n",
       "      <td>vwc</td>\n",
       "      <td>user-group</td>\n",
       "      <td>never pay</td>\n",
       "      <td>never pay</td>\n",
       "      <td>soft</td>\n",
       "      <td>good</td>\n",
       "      <td>dry</td>\n",
       "      <td>dry</td>\n",
       "      <td>machine dbh</td>\n",
       "      <td>borehole</td>\n",
       "      <td>groundwater</td>\n",
       "      <td>communal standpipe multiple</td>\n",
       "      <td>communal standpipe</td>\n",
       "      <td>non functional</td>\n",
       "    </tr>\n",
       "    <tr>\n",
       "      <th>4</th>\n",
       "      <td>19728</td>\n",
       "      <td>0.0</td>\n",
       "      <td>2011-07-13</td>\n",
       "      <td>Action In A</td>\n",
       "      <td>0</td>\n",
       "      <td>Artisan</td>\n",
       "      <td>31.130847</td>\n",
       "      <td>-1.825359</td>\n",
       "      <td>Shuleni</td>\n",
       "      <td>0</td>\n",
       "      <td>Lake Victoria</td>\n",
       "      <td>Kyanyamisa</td>\n",
       "      <td>Kagera</td>\n",
       "      <td>18</td>\n",
       "      <td>1</td>\n",
       "      <td>Karagwe</td>\n",
       "      <td>Nyakasimbi</td>\n",
       "      <td>0</td>\n",
       "      <td>True</td>\n",
       "      <td>GeoData Consultants Ltd</td>\n",
       "      <td>NaN</td>\n",
       "      <td>NaN</td>\n",
       "      <td>True</td>\n",
       "      <td>0</td>\n",
       "      <td>gravity</td>\n",
       "      <td>gravity</td>\n",
       "      <td>gravity</td>\n",
       "      <td>other</td>\n",
       "      <td>other</td>\n",
       "      <td>never pay</td>\n",
       "      <td>never pay</td>\n",
       "      <td>soft</td>\n",
       "      <td>good</td>\n",
       "      <td>seasonal</td>\n",
       "      <td>seasonal</td>\n",
       "      <td>rainwater harvesting</td>\n",
       "      <td>rainwater harvesting</td>\n",
       "      <td>surface</td>\n",
       "      <td>communal standpipe</td>\n",
       "      <td>communal standpipe</td>\n",
       "      <td>functional</td>\n",
       "    </tr>\n",
       "  </tbody>\n",
       "</table>\n",
       "</div>"
      ],
      "text/plain": [
       "      id  amount_tsh date_recorded        funder  gps_height     installer  \\\n",
       "0  69572      6000.0    2011-03-14         Roman        1390         Roman   \n",
       "1   8776         0.0    2013-03-06       Grumeti        1399       GRUMETI   \n",
       "2  34310        25.0    2013-02-25  Lottery Club         686  World vision   \n",
       "3  67743         0.0    2013-01-28        Unicef         263        UNICEF   \n",
       "4  19728         0.0    2011-07-13   Action In A           0       Artisan   \n",
       "\n",
       "   longitude   latitude              wpt_name  num_private  \\\n",
       "0  34.938093  -9.856322                  none            0   \n",
       "1  34.698766  -2.147466              Zahanati            0   \n",
       "2  37.460664  -3.821329           Kwa Mahundi            0   \n",
       "3  38.486161 -11.155298  Zahanati Ya Nanyumbu            0   \n",
       "4  31.130847  -1.825359               Shuleni            0   \n",
       "\n",
       "                     basin  subvillage   region  region_code  district_code  \\\n",
       "0               Lake Nyasa    Mnyusi B   Iringa           11              5   \n",
       "1            Lake Victoria     Nyamara     Mara           20              2   \n",
       "2                  Pangani     Majengo  Manyara           21              4   \n",
       "3  Ruvuma / Southern Coast  Mahakamani   Mtwara           90             63   \n",
       "4            Lake Victoria  Kyanyamisa   Kagera           18              1   \n",
       "\n",
       "         lga        ward  population public_meeting              recorded_by  \\\n",
       "0     Ludewa    Mundindi         109           True  GeoData Consultants Ltd   \n",
       "1  Serengeti       Natta         280            NaN  GeoData Consultants Ltd   \n",
       "2  Simanjiro     Ngorika         250           True  GeoData Consultants Ltd   \n",
       "3   Nanyumbu    Nanyumbu          58           True  GeoData Consultants Ltd   \n",
       "4    Karagwe  Nyakasimbi           0           True  GeoData Consultants Ltd   \n",
       "\n",
       "  scheme_management                  scheme_name permit  construction_year  \\\n",
       "0               VWC                        Roman  False               1999   \n",
       "1             Other                          NaN   True               2010   \n",
       "2               VWC  Nyumba ya mungu pipe scheme   True               2009   \n",
       "3               VWC                          NaN   True               1986   \n",
       "4               NaN                          NaN   True                  0   \n",
       "\n",
       "  extraction_type extraction_type_group extraction_type_class management  \\\n",
       "0         gravity               gravity               gravity        vwc   \n",
       "1         gravity               gravity               gravity        wug   \n",
       "2         gravity               gravity               gravity        vwc   \n",
       "3     submersible           submersible           submersible        vwc   \n",
       "4         gravity               gravity               gravity      other   \n",
       "\n",
       "  management_group         payment payment_type water_quality quality_group  \\\n",
       "0       user-group    pay annually     annually          soft          good   \n",
       "1       user-group       never pay    never pay          soft          good   \n",
       "2       user-group  pay per bucket   per bucket          soft          good   \n",
       "3       user-group       never pay    never pay          soft          good   \n",
       "4            other       never pay    never pay          soft          good   \n",
       "\n",
       "       quantity quantity_group                source           source_type  \\\n",
       "0        enough         enough                spring                spring   \n",
       "1  insufficient   insufficient  rainwater harvesting  rainwater harvesting   \n",
       "2        enough         enough                   dam                   dam   \n",
       "3           dry            dry           machine dbh              borehole   \n",
       "4      seasonal       seasonal  rainwater harvesting  rainwater harvesting   \n",
       "\n",
       "  source_class              waterpoint_type waterpoint_type_group  \\\n",
       "0  groundwater           communal standpipe    communal standpipe   \n",
       "1      surface           communal standpipe    communal standpipe   \n",
       "2      surface  communal standpipe multiple    communal standpipe   \n",
       "3  groundwater  communal standpipe multiple    communal standpipe   \n",
       "4      surface           communal standpipe    communal standpipe   \n",
       "\n",
       "     status_group  \n",
       "0      functional  \n",
       "1      functional  \n",
       "2      functional  \n",
       "3  non functional  \n",
       "4      functional  "
      ]
     },
     "execution_count": 5,
     "metadata": {},
     "output_type": "execute_result"
    }
   ],
   "source": [
    "pumps = pump_features.merge(pump_target)\n",
    "pumps.head()"
   ]
  },
  {
   "cell_type": "code",
   "execution_count": 6,
   "metadata": {},
   "outputs": [
    {
     "data": {
      "text/html": [
       "<div>\n",
       "<style scoped>\n",
       "    .dataframe tbody tr th:only-of-type {\n",
       "        vertical-align: middle;\n",
       "    }\n",
       "\n",
       "    .dataframe tbody tr th {\n",
       "        vertical-align: top;\n",
       "    }\n",
       "\n",
       "    .dataframe thead th {\n",
       "        text-align: right;\n",
       "    }\n",
       "</style>\n",
       "<table border=\"1\" class=\"dataframe\">\n",
       "  <thead>\n",
       "    <tr style=\"text-align: right;\">\n",
       "      <th></th>\n",
       "      <th>amount_tsh</th>\n",
       "      <th>funder</th>\n",
       "      <th>gps_height</th>\n",
       "      <th>installer</th>\n",
       "      <th>longitude</th>\n",
       "      <th>latitude</th>\n",
       "      <th>wpt_name</th>\n",
       "      <th>num_private</th>\n",
       "      <th>basin</th>\n",
       "      <th>subvillage</th>\n",
       "      <th>region</th>\n",
       "      <th>region_code</th>\n",
       "      <th>district_code</th>\n",
       "      <th>lga</th>\n",
       "      <th>ward</th>\n",
       "      <th>population</th>\n",
       "      <th>public_meeting</th>\n",
       "      <th>scheme_management</th>\n",
       "      <th>scheme_name</th>\n",
       "      <th>permit</th>\n",
       "      <th>construction_year</th>\n",
       "      <th>extraction_type</th>\n",
       "      <th>extraction_type_group</th>\n",
       "      <th>extraction_type_class</th>\n",
       "      <th>management</th>\n",
       "      <th>management_group</th>\n",
       "      <th>payment</th>\n",
       "      <th>payment_type</th>\n",
       "      <th>water_quality</th>\n",
       "      <th>quality_group</th>\n",
       "      <th>quantity</th>\n",
       "      <th>quantity_group</th>\n",
       "      <th>source</th>\n",
       "      <th>source_type</th>\n",
       "      <th>source_class</th>\n",
       "      <th>waterpoint_type</th>\n",
       "      <th>waterpoint_type_group</th>\n",
       "      <th>status_group</th>\n",
       "    </tr>\n",
       "  </thead>\n",
       "  <tbody>\n",
       "    <tr>\n",
       "      <th>0</th>\n",
       "      <td>6000.0</td>\n",
       "      <td>Roman</td>\n",
       "      <td>1390</td>\n",
       "      <td>Roman</td>\n",
       "      <td>34.938093</td>\n",
       "      <td>-9.856322</td>\n",
       "      <td>none</td>\n",
       "      <td>0</td>\n",
       "      <td>Lake Nyasa</td>\n",
       "      <td>Mnyusi B</td>\n",
       "      <td>Iringa</td>\n",
       "      <td>11</td>\n",
       "      <td>5</td>\n",
       "      <td>Ludewa</td>\n",
       "      <td>Mundindi</td>\n",
       "      <td>109</td>\n",
       "      <td>True</td>\n",
       "      <td>VWC</td>\n",
       "      <td>Roman</td>\n",
       "      <td>False</td>\n",
       "      <td>1999</td>\n",
       "      <td>gravity</td>\n",
       "      <td>gravity</td>\n",
       "      <td>gravity</td>\n",
       "      <td>vwc</td>\n",
       "      <td>user-group</td>\n",
       "      <td>pay annually</td>\n",
       "      <td>annually</td>\n",
       "      <td>soft</td>\n",
       "      <td>good</td>\n",
       "      <td>enough</td>\n",
       "      <td>enough</td>\n",
       "      <td>spring</td>\n",
       "      <td>spring</td>\n",
       "      <td>groundwater</td>\n",
       "      <td>communal standpipe</td>\n",
       "      <td>communal standpipe</td>\n",
       "      <td>functional</td>\n",
       "    </tr>\n",
       "    <tr>\n",
       "      <th>1</th>\n",
       "      <td>0.0</td>\n",
       "      <td>Grumeti</td>\n",
       "      <td>1399</td>\n",
       "      <td>GRUMETI</td>\n",
       "      <td>34.698766</td>\n",
       "      <td>-2.147466</td>\n",
       "      <td>Zahanati</td>\n",
       "      <td>0</td>\n",
       "      <td>Lake Victoria</td>\n",
       "      <td>Nyamara</td>\n",
       "      <td>Mara</td>\n",
       "      <td>20</td>\n",
       "      <td>2</td>\n",
       "      <td>Serengeti</td>\n",
       "      <td>Natta</td>\n",
       "      <td>280</td>\n",
       "      <td>NaN</td>\n",
       "      <td>Other</td>\n",
       "      <td>NaN</td>\n",
       "      <td>True</td>\n",
       "      <td>2010</td>\n",
       "      <td>gravity</td>\n",
       "      <td>gravity</td>\n",
       "      <td>gravity</td>\n",
       "      <td>wug</td>\n",
       "      <td>user-group</td>\n",
       "      <td>never pay</td>\n",
       "      <td>never pay</td>\n",
       "      <td>soft</td>\n",
       "      <td>good</td>\n",
       "      <td>insufficient</td>\n",
       "      <td>insufficient</td>\n",
       "      <td>rainwater harvesting</td>\n",
       "      <td>rainwater harvesting</td>\n",
       "      <td>surface</td>\n",
       "      <td>communal standpipe</td>\n",
       "      <td>communal standpipe</td>\n",
       "      <td>functional</td>\n",
       "    </tr>\n",
       "    <tr>\n",
       "      <th>2</th>\n",
       "      <td>25.0</td>\n",
       "      <td>Lottery Club</td>\n",
       "      <td>686</td>\n",
       "      <td>World vision</td>\n",
       "      <td>37.460664</td>\n",
       "      <td>-3.821329</td>\n",
       "      <td>Kwa Mahundi</td>\n",
       "      <td>0</td>\n",
       "      <td>Pangani</td>\n",
       "      <td>Majengo</td>\n",
       "      <td>Manyara</td>\n",
       "      <td>21</td>\n",
       "      <td>4</td>\n",
       "      <td>Simanjiro</td>\n",
       "      <td>Ngorika</td>\n",
       "      <td>250</td>\n",
       "      <td>True</td>\n",
       "      <td>VWC</td>\n",
       "      <td>Nyumba ya mungu pipe scheme</td>\n",
       "      <td>True</td>\n",
       "      <td>2009</td>\n",
       "      <td>gravity</td>\n",
       "      <td>gravity</td>\n",
       "      <td>gravity</td>\n",
       "      <td>vwc</td>\n",
       "      <td>user-group</td>\n",
       "      <td>pay per bucket</td>\n",
       "      <td>per bucket</td>\n",
       "      <td>soft</td>\n",
       "      <td>good</td>\n",
       "      <td>enough</td>\n",
       "      <td>enough</td>\n",
       "      <td>dam</td>\n",
       "      <td>dam</td>\n",
       "      <td>surface</td>\n",
       "      <td>communal standpipe multiple</td>\n",
       "      <td>communal standpipe</td>\n",
       "      <td>functional</td>\n",
       "    </tr>\n",
       "    <tr>\n",
       "      <th>3</th>\n",
       "      <td>0.0</td>\n",
       "      <td>Unicef</td>\n",
       "      <td>263</td>\n",
       "      <td>UNICEF</td>\n",
       "      <td>38.486161</td>\n",
       "      <td>-11.155298</td>\n",
       "      <td>Zahanati Ya Nanyumbu</td>\n",
       "      <td>0</td>\n",
       "      <td>Ruvuma / Southern Coast</td>\n",
       "      <td>Mahakamani</td>\n",
       "      <td>Mtwara</td>\n",
       "      <td>90</td>\n",
       "      <td>63</td>\n",
       "      <td>Nanyumbu</td>\n",
       "      <td>Nanyumbu</td>\n",
       "      <td>58</td>\n",
       "      <td>True</td>\n",
       "      <td>VWC</td>\n",
       "      <td>NaN</td>\n",
       "      <td>True</td>\n",
       "      <td>1986</td>\n",
       "      <td>submersible</td>\n",
       "      <td>submersible</td>\n",
       "      <td>submersible</td>\n",
       "      <td>vwc</td>\n",
       "      <td>user-group</td>\n",
       "      <td>never pay</td>\n",
       "      <td>never pay</td>\n",
       "      <td>soft</td>\n",
       "      <td>good</td>\n",
       "      <td>dry</td>\n",
       "      <td>dry</td>\n",
       "      <td>machine dbh</td>\n",
       "      <td>borehole</td>\n",
       "      <td>groundwater</td>\n",
       "      <td>communal standpipe multiple</td>\n",
       "      <td>communal standpipe</td>\n",
       "      <td>non functional</td>\n",
       "    </tr>\n",
       "    <tr>\n",
       "      <th>4</th>\n",
       "      <td>0.0</td>\n",
       "      <td>Action In A</td>\n",
       "      <td>0</td>\n",
       "      <td>Artisan</td>\n",
       "      <td>31.130847</td>\n",
       "      <td>-1.825359</td>\n",
       "      <td>Shuleni</td>\n",
       "      <td>0</td>\n",
       "      <td>Lake Victoria</td>\n",
       "      <td>Kyanyamisa</td>\n",
       "      <td>Kagera</td>\n",
       "      <td>18</td>\n",
       "      <td>1</td>\n",
       "      <td>Karagwe</td>\n",
       "      <td>Nyakasimbi</td>\n",
       "      <td>0</td>\n",
       "      <td>True</td>\n",
       "      <td>NaN</td>\n",
       "      <td>NaN</td>\n",
       "      <td>True</td>\n",
       "      <td>0</td>\n",
       "      <td>gravity</td>\n",
       "      <td>gravity</td>\n",
       "      <td>gravity</td>\n",
       "      <td>other</td>\n",
       "      <td>other</td>\n",
       "      <td>never pay</td>\n",
       "      <td>never pay</td>\n",
       "      <td>soft</td>\n",
       "      <td>good</td>\n",
       "      <td>seasonal</td>\n",
       "      <td>seasonal</td>\n",
       "      <td>rainwater harvesting</td>\n",
       "      <td>rainwater harvesting</td>\n",
       "      <td>surface</td>\n",
       "      <td>communal standpipe</td>\n",
       "      <td>communal standpipe</td>\n",
       "      <td>functional</td>\n",
       "    </tr>\n",
       "  </tbody>\n",
       "</table>\n",
       "</div>"
      ],
      "text/plain": [
       "   amount_tsh        funder  gps_height     installer  longitude   latitude  \\\n",
       "0      6000.0         Roman        1390         Roman  34.938093  -9.856322   \n",
       "1         0.0       Grumeti        1399       GRUMETI  34.698766  -2.147466   \n",
       "2        25.0  Lottery Club         686  World vision  37.460664  -3.821329   \n",
       "3         0.0        Unicef         263        UNICEF  38.486161 -11.155298   \n",
       "4         0.0   Action In A           0       Artisan  31.130847  -1.825359   \n",
       "\n",
       "               wpt_name  num_private                    basin  subvillage  \\\n",
       "0                  none            0               Lake Nyasa    Mnyusi B   \n",
       "1              Zahanati            0            Lake Victoria     Nyamara   \n",
       "2           Kwa Mahundi            0                  Pangani     Majengo   \n",
       "3  Zahanati Ya Nanyumbu            0  Ruvuma / Southern Coast  Mahakamani   \n",
       "4               Shuleni            0            Lake Victoria  Kyanyamisa   \n",
       "\n",
       "    region  region_code  district_code        lga        ward  population  \\\n",
       "0   Iringa           11              5     Ludewa    Mundindi         109   \n",
       "1     Mara           20              2  Serengeti       Natta         280   \n",
       "2  Manyara           21              4  Simanjiro     Ngorika         250   \n",
       "3   Mtwara           90             63   Nanyumbu    Nanyumbu          58   \n",
       "4   Kagera           18              1    Karagwe  Nyakasimbi           0   \n",
       "\n",
       "  public_meeting scheme_management                  scheme_name permit  \\\n",
       "0           True               VWC                        Roman  False   \n",
       "1            NaN             Other                          NaN   True   \n",
       "2           True               VWC  Nyumba ya mungu pipe scheme   True   \n",
       "3           True               VWC                          NaN   True   \n",
       "4           True               NaN                          NaN   True   \n",
       "\n",
       "   construction_year extraction_type extraction_type_group  \\\n",
       "0               1999         gravity               gravity   \n",
       "1               2010         gravity               gravity   \n",
       "2               2009         gravity               gravity   \n",
       "3               1986     submersible           submersible   \n",
       "4                  0         gravity               gravity   \n",
       "\n",
       "  extraction_type_class management management_group         payment  \\\n",
       "0               gravity        vwc       user-group    pay annually   \n",
       "1               gravity        wug       user-group       never pay   \n",
       "2               gravity        vwc       user-group  pay per bucket   \n",
       "3           submersible        vwc       user-group       never pay   \n",
       "4               gravity      other            other       never pay   \n",
       "\n",
       "  payment_type water_quality quality_group      quantity quantity_group  \\\n",
       "0     annually          soft          good        enough         enough   \n",
       "1    never pay          soft          good  insufficient   insufficient   \n",
       "2   per bucket          soft          good        enough         enough   \n",
       "3    never pay          soft          good           dry            dry   \n",
       "4    never pay          soft          good      seasonal       seasonal   \n",
       "\n",
       "                 source           source_type source_class  \\\n",
       "0                spring                spring  groundwater   \n",
       "1  rainwater harvesting  rainwater harvesting      surface   \n",
       "2                   dam                   dam      surface   \n",
       "3           machine dbh              borehole  groundwater   \n",
       "4  rainwater harvesting  rainwater harvesting      surface   \n",
       "\n",
       "               waterpoint_type waterpoint_type_group    status_group  \n",
       "0           communal standpipe    communal standpipe      functional  \n",
       "1           communal standpipe    communal standpipe      functional  \n",
       "2  communal standpipe multiple    communal standpipe      functional  \n",
       "3  communal standpipe multiple    communal standpipe  non functional  \n",
       "4           communal standpipe    communal standpipe      functional  "
      ]
     },
     "execution_count": 6,
     "metadata": {},
     "output_type": "execute_result"
    }
   ],
   "source": [
    "# Droping columns about when pump data was recored due to not being useful.\n",
    "pumps.drop(['id', 'date_recorded', 'recorded_by'], axis=1, inplace=True)\n",
    "pumps.head()"
   ]
  },
  {
   "cell_type": "code",
   "execution_count": 7,
   "metadata": {},
   "outputs": [],
   "source": [
    "# Numeric fearures from the data set.\n",
    "numeric_features = []\n",
    "\n",
    "# Boolean fearures from the data set.\n",
    "boolean_features = []\n",
    "\n",
    "# Categorical fearures from the data set.\n",
    "categorical_features = []\n",
    "\n",
    "for column in pumps.columns[:-1]:\n",
    "    if type(pumps[column][0]) is np.float64 or type(pumps[column][0]) is np.int64:\n",
    "        numeric_features.append(column)\n",
    "    elif type(pumps[column][0]) == bool:\n",
    "        boolean_features.append(column)\n",
    "    elif type(pumps[column][0]) == str:\n",
    "        categorical_features.append(column)"
   ]
  },
  {
   "cell_type": "markdown",
   "metadata": {},
   "source": [
    "There are a few categorical columns that have many single values, so will be spliting these columns into two lists."
   ]
  },
  {
   "cell_type": "code",
   "execution_count": 8,
   "metadata": {},
   "outputs": [],
   "source": [
    "# Spliting the categorical fearure by there value counts.\n",
    "categorical_features_over_100 = []\n",
    "categorical_features_under_100 = []\n",
    "\n",
    "for column in categorical_features:\n",
    "    if pumps[column].value_counts()[-1] > 100:\n",
    "        categorical_features_over_100.append(column)\n",
    "    else:\n",
    "        categorical_features_under_100.append(column)"
   ]
  },
  {
   "cell_type": "markdown",
   "metadata": {},
   "source": [
    "# Simple Model (Numeric Only)"
   ]
  },
  {
   "cell_type": "code",
   "execution_count": 9,
   "metadata": {},
   "outputs": [],
   "source": [
    "X = pumps[numeric_features]\n",
    "y = pumps['status_group']\n",
    "X_train, X_test, y_train, y_test = train_test_split(X, y, random_state=42, stratify=pumps['status_group'])"
   ]
  },
  {
   "cell_type": "code",
   "execution_count": 10,
   "metadata": {},
   "outputs": [
    {
     "data": {
      "text/plain": [
       "DecisionTreeClassifier(class_weight='balanced', random_state=42)"
      ]
     },
     "execution_count": 10,
     "metadata": {},
     "output_type": "execute_result"
    }
   ],
   "source": [
    "tree = DecisionTreeClassifier(random_state=42, class_weight=\"balanced\")\n",
    "tree.fit(X_train, y_train)"
   ]
  },
  {
   "cell_type": "code",
   "execution_count": 11,
   "metadata": {},
   "outputs": [],
   "source": [
    "y_hat = tree.predict(X_test)"
   ]
  },
  {
   "cell_type": "code",
   "execution_count": 12,
   "metadata": {},
   "outputs": [
    {
     "data": {
      "text/plain": [
       "0.5776668027793255"
      ]
     },
     "execution_count": 12,
     "metadata": {},
     "output_type": "execute_result"
    }
   ],
   "source": [
    "recall_score(y_test, y_hat, average='macro')"
   ]
  },
  {
   "cell_type": "code",
   "execution_count": 13,
   "metadata": {},
   "outputs": [
    {
     "data": {
      "text/html": [
       "<div>\n",
       "<style scoped>\n",
       "    .dataframe tbody tr th:only-of-type {\n",
       "        vertical-align: middle;\n",
       "    }\n",
       "\n",
       "    .dataframe tbody tr th {\n",
       "        vertical-align: top;\n",
       "    }\n",
       "\n",
       "    .dataframe thead th {\n",
       "        text-align: right;\n",
       "    }\n",
       "</style>\n",
       "<table border=\"1\" class=\"dataframe\">\n",
       "  <thead>\n",
       "    <tr style=\"text-align: right;\">\n",
       "      <th></th>\n",
       "      <th>amount_tsh</th>\n",
       "      <th>gps_height</th>\n",
       "      <th>longitude</th>\n",
       "      <th>latitude</th>\n",
       "      <th>num_private</th>\n",
       "      <th>region_code</th>\n",
       "      <th>district_code</th>\n",
       "      <th>population</th>\n",
       "      <th>construction_year</th>\n",
       "    </tr>\n",
       "  </thead>\n",
       "  <tbody>\n",
       "    <tr>\n",
       "      <th>0</th>\n",
       "      <td>0.0385</td>\n",
       "      <td>0.11593</td>\n",
       "      <td>0.335819</td>\n",
       "      <td>0.295822</td>\n",
       "      <td>0.001753</td>\n",
       "      <td>0.021718</td>\n",
       "      <td>0.033613</td>\n",
       "      <td>0.081513</td>\n",
       "      <td>0.075334</td>\n",
       "    </tr>\n",
       "  </tbody>\n",
       "</table>\n",
       "</div>"
      ],
      "text/plain": [
       "   amount_tsh  gps_height  longitude  latitude  num_private  region_code  \\\n",
       "0      0.0385     0.11593   0.335819  0.295822     0.001753     0.021718   \n",
       "\n",
       "   district_code  population  construction_year  \n",
       "0       0.033613    0.081513           0.075334  "
      ]
     },
     "execution_count": 13,
     "metadata": {},
     "output_type": "execute_result"
    }
   ],
   "source": [
    "numeric_feature_importances = pd.DataFrame(dict(zip(numeric_features, tree.feature_importances_)), index=[0])\n",
    "numeric_feature_importances"
   ]
  },
  {
   "cell_type": "markdown",
   "metadata": {},
   "source": [
    "For the first simple model we have a score of 57.8%, and looks like gps_height, longitude and latitude did the most work."
   ]
  },
  {
   "cell_type": "markdown",
   "metadata": {},
   "source": [
    "# Simple Model (Numeric / Boolean)"
   ]
  },
  {
   "cell_type": "markdown",
   "metadata": {},
   "source": [
    "Try adding in boolean featears to see if we can get better scores. But first we will need to do something about the na values."
   ]
  },
  {
   "cell_type": "code",
   "execution_count": 14,
   "metadata": {},
   "outputs": [],
   "source": [
    "pumps[boolean_features] = pumps[boolean_features].fillna(False)"
   ]
  },
  {
   "cell_type": "code",
<<<<<<< HEAD
   "execution_count": 130,
=======
   "execution_count": 15,
>>>>>>> b0c843cb0bdc3c45584c18f8a175557e4a82f34e
   "metadata": {},
   "outputs": [],
   "source": [
    "X = pumps[numeric_features + boolean_features]\n",
    "y = pumps['status_group']\n",
    "X_train, X_test, y_train, y_test = train_test_split(X, y, random_state=42, stratify=pumps['status_group'])"
   ]
  },
  {
   "cell_type": "code",
<<<<<<< HEAD
   "execution_count": 131,
=======
   "execution_count": 16,
>>>>>>> b0c843cb0bdc3c45584c18f8a175557e4a82f34e
   "metadata": {},
   "outputs": [
    {
     "data": {
      "text/plain": [
       "DecisionTreeClassifier(class_weight='balanced', random_state=42)"
      ]
     },
<<<<<<< HEAD
     "execution_count": 131,
=======
     "execution_count": 16,
>>>>>>> b0c843cb0bdc3c45584c18f8a175557e4a82f34e
     "metadata": {},
     "output_type": "execute_result"
    }
   ],
   "source": [
    "tree = DecisionTreeClassifier(random_state=42, class_weight=\"balanced\")\n",
    "tree.fit(X_train, y_train)"
   ]
  },
  {
   "cell_type": "code",
<<<<<<< HEAD
   "execution_count": 132,
=======
   "execution_count": 17,
>>>>>>> b0c843cb0bdc3c45584c18f8a175557e4a82f34e
   "metadata": {},
   "outputs": [],
   "source": [
    "y_hat = tree.predict(X_test)"
   ]
  },
  {
   "cell_type": "code",
<<<<<<< HEAD
   "execution_count": 133,
=======
   "execution_count": 18,
>>>>>>> b0c843cb0bdc3c45584c18f8a175557e4a82f34e
   "metadata": {},
   "outputs": [
    {
     "data": {
      "text/plain": [
       "0.5797634750330795"
      ]
     },
<<<<<<< HEAD
     "execution_count": 133,
=======
     "execution_count": 18,
>>>>>>> b0c843cb0bdc3c45584c18f8a175557e4a82f34e
     "metadata": {},
     "output_type": "execute_result"
    }
   ],
   "source": [
    "recall_score(y_test, y_hat, average='macro')"
   ]
  },
  {
   "cell_type": "code",
<<<<<<< HEAD
   "execution_count": 134,
=======
   "execution_count": 19,
   "metadata": {},
   "outputs": [],
   "source": [
    "from yellowbrick.classifier import ROCAUC\n"
   ]
  },
  {
   "cell_type": "code",
   "execution_count": 21,
>>>>>>> b0c843cb0bdc3c45584c18f8a175557e4a82f34e
   "metadata": {},
   "outputs": [
    {
     "data": {
<<<<<<< HEAD
      "text/plain": [
       "<sklearn.metrics._plot.confusion_matrix.ConfusionMatrixDisplay at 0x1293d474ee0>"
      ]
     },
     "execution_count": 134,
     "metadata": {},
     "output_type": "execute_result"
    },
    {
     "data": {
      "image/png": "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\n",
      "text/plain": [
       "<Figure size 432x288 with 2 Axes>"
      ]
     },
     "metadata": {
      "needs_background": "light"
     },
=======
      "image/png": "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\n",
      "text/plain": [
       "<Figure size 576x396 with 1 Axes>"
      ]
     },
     "metadata": {},
     "output_type": "display_data"
    },
    {
     "data": {
      "text/plain": [
       "<Figure size 576x396 with 0 Axes>"
      ]
     },
     "metadata": {},
>>>>>>> b0c843cb0bdc3c45584c18f8a175557e4a82f34e
     "output_type": "display_data"
    }
   ],
   "source": [
<<<<<<< HEAD
    "plot_confusion_matrix(tree, X_test, y_test, xticks_rotation=45, \n",
    "                      display_labels=['Functional', 'Needs Repair', 'Non-Functional'])"
=======
    "visualizer = ROCAUC(tree)\n",
    "visualizer.fit(X_test, y_test)\n",
    "visualizer.score(X_test, y_test)\n",
    "visualizer.show()\n",
    "plt.savefig('saved_objects/fsm_ROC_AUC')"
>>>>>>> b0c843cb0bdc3c45584c18f8a175557e4a82f34e
   ]
  },
  {
   "cell_type": "code",
<<<<<<< HEAD
   "execution_count": 135,
   "metadata": {},
   "outputs": [
    {
     "data": {
      "image/png": "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\n",
      "text/plain": [
       "<Figure size 432x288 with 1 Axes>"
      ]
     },
     "metadata": {},
     "output_type": "display_data"
    }
   ],
   "source": [
    "fsm_recall = recall_score(y_test, y_hat, average='macro')\n",
    "\n",
    "# Create a pieplot\n",
    "plt.pie([fsm_recall,1-fsm_recall])\n",
    "\n",
    "# add a circle at the center to transform it in a donut chart\n",
    "my_circle=plt.Circle( (0,0), 0.7, color='white')\n",
    "p=plt.gcf()\n",
    "p.gca().add_artist(my_circle)\n",
    "\n",
    "plt.show()"
=======
   "execution_count": null,
   "metadata": {},
   "outputs": [],
   "source": [
    "asdfd"
>>>>>>> b0c843cb0bdc3c45584c18f8a175557e4a82f34e
   ]
  },
  {
   "cell_type": "markdown",
   "metadata": {},
   "source": [
    "For this model we have a score of 58.0%, by adding in the boolean features. That is only an increase of 0.2% not very help full."
   ]
  },
  {
   "cell_type": "markdown",
   "metadata": {},
   "source": [
    "# Simple Model (Numeric / Categorical > 100)"
   ]
  },
  {
   "cell_type": "code",
<<<<<<< HEAD
   "execution_count": 105,
=======
   "execution_count": null,
>>>>>>> b0c843cb0bdc3c45584c18f8a175557e4a82f34e
   "metadata": {},
   "outputs": [],
   "source": [
    "X = pumps[numeric_features + categorical_features_over_100]\n",
    "y = pumps['status_group']\n",
    "X_train, X_test, y_train, y_test = train_test_split(X, y, random_state=42, stratify=pumps['status_group'])"
   ]
  },
  {
   "cell_type": "code",
<<<<<<< HEAD
   "execution_count": 106,
=======
   "execution_count": null,
>>>>>>> b0c843cb0bdc3c45584c18f8a175557e4a82f34e
   "metadata": {},
   "outputs": [],
   "source": [
    "ohe = OneHotEncoder(drop='first', sparse=False)\n",
    "X_train_transformed = ohe.fit_transform(X_train[categorical_features_over_100])\n",
    "X_train_transformed = X_train[numeric_features].join(pd.DataFrame(X_train_transformed, index=X_train.index), how='outer')\n",
    "\n",
    "X_test_transformed = ohe.transform(X_test[categorical_features_over_100])\n",
    "X_test_transformed = X_test[numeric_features].join(pd.DataFrame(X_test_transformed, index=X_test.index), how='outer')"
   ]
  },
  {
   "cell_type": "code",
<<<<<<< HEAD
   "execution_count": 107,
   "metadata": {},
   "outputs": [
    {
     "data": {
      "text/plain": [
       "DecisionTreeClassifier(class_weight='balanced', random_state=42)"
      ]
     },
     "execution_count": 107,
     "metadata": {},
     "output_type": "execute_result"
    }
   ],
=======
   "execution_count": null,
   "metadata": {},
   "outputs": [],
>>>>>>> b0c843cb0bdc3c45584c18f8a175557e4a82f34e
   "source": [
    "tree = DecisionTreeClassifier(random_state=42, class_weight=\"balanced\")\n",
    "tree.fit(X_train_transformed, y_train)"
   ]
  },
  {
   "cell_type": "code",
<<<<<<< HEAD
   "execution_count": 108,
=======
   "execution_count": null,
>>>>>>> b0c843cb0bdc3c45584c18f8a175557e4a82f34e
   "metadata": {},
   "outputs": [],
   "source": [
    "y_hat = tree.predict(X_test_transformed)"
   ]
  },
  {
   "cell_type": "code",
<<<<<<< HEAD
   "execution_count": 109,
   "metadata": {},
   "outputs": [
    {
     "data": {
      "text/plain": [
       "0.6501960822398155"
      ]
     },
     "execution_count": 109,
     "metadata": {},
     "output_type": "execute_result"
    }
   ],
=======
   "execution_count": null,
   "metadata": {},
   "outputs": [],
>>>>>>> b0c843cb0bdc3c45584c18f8a175557e4a82f34e
   "source": [
    "recall_score(y_test, y_hat, average='macro')"
   ]
  },
  {
   "cell_type": "code",
   "execution_count": 111,
   "metadata": {},
   "outputs": [
    {
     "data": {
      "image/png": "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\n",
      "text/plain": [
       "<Figure size 432x288 with 1 Axes>"
      ]
     },
     "metadata": {},
     "output_type": "display_data"
    }
   ],
   "source": [
    "fsm_recall = recall_score(y_test, y_hat, average='macro')\n",
    "\n",
    "# Create a pieplot\n",
    "plt.pie([fsm_recall,1-fsm_recall])\n",
    "\n",
    "# add a circle at the center to transform it in a donut chart\n",
    "my_circle=plt.Circle( (0,0), 0.7, color='white')\n",
    "p=plt.gcf()\n",
    "p.gca().add_artist(my_circle)\n",
    "\n",
    "plt.show()"
   ]
  },
  {
   "cell_type": "markdown",
   "metadata": {},
   "source": [
    "Awesome we got a score of 65.0% that is a nice impovement."
   ]
  },
  {
   "cell_type": "markdown",
   "metadata": {},
   "source": [
    "## Math Magic 1 (gps * longitude/latitude)"
   ]
  },
  {
   "cell_type": "code",
<<<<<<< HEAD
   "execution_count": 24,
=======
   "execution_count": null,
>>>>>>> b0c843cb0bdc3c45584c18f8a175557e4a82f34e
   "metadata": {},
   "outputs": [],
   "source": [
    "pumps_magic = pumps"
   ]
  },
  {
   "cell_type": "code",
<<<<<<< HEAD
   "execution_count": 25,
=======
   "execution_count": null,
>>>>>>> b0c843cb0bdc3c45584c18f8a175557e4a82f34e
   "metadata": {},
   "outputs": [],
   "source": [
    "math_magic_features = ['gps_long', 'gps_lat']"
   ]
  },
  {
   "cell_type": "code",
<<<<<<< HEAD
   "execution_count": 26,
=======
   "execution_count": null,
>>>>>>> b0c843cb0bdc3c45584c18f8a175557e4a82f34e
   "metadata": {},
   "outputs": [],
   "source": [
    "pumps_magic['gps_long'] = pumps_magic['gps_height'] * pumps_magic['longitude']\n",
    "\n",
    "pumps_magic['gps_lat'] = pumps_magic['gps_height'] * pumps_magic['latitude']"
   ]
  },
  {
   "cell_type": "code",
<<<<<<< HEAD
   "execution_count": 27,
=======
   "execution_count": null,
>>>>>>> b0c843cb0bdc3c45584c18f8a175557e4a82f34e
   "metadata": {},
   "outputs": [],
   "source": [
    "X = pumps[numeric_features + categorical_features_over_100 + math_magic_features]\n",
    "y = pumps['status_group']\n",
    "X_train, X_test, y_train, y_test = train_test_split(X, y, random_state=42, stratify=pumps['status_group'])"
   ]
  },
  {
   "cell_type": "code",
<<<<<<< HEAD
   "execution_count": 28,
=======
   "execution_count": null,
>>>>>>> b0c843cb0bdc3c45584c18f8a175557e4a82f34e
   "metadata": {},
   "outputs": [],
   "source": [
    "ohe = OneHotEncoder(drop='first', sparse=False)\n",
    "X_train_transformed = ohe.fit_transform(X_train[categorical_features_over_100])\n",
    "X_train_transformed = X_train[numeric_features + math_magic_features].join(pd.DataFrame(X_train_transformed, \n",
    "                                                                                        index=X_train.index), how='outer')\n",
    "\n",
    "X_test_transformed = ohe.transform(X_test[categorical_features_over_100])\n",
    "X_test_transformed = X_test[numeric_features + math_magic_features].join(pd.DataFrame(X_test_transformed, \n",
    "                                                                                      index=X_test.index), how='outer')"
   ]
  },
  {
   "cell_type": "code",
<<<<<<< HEAD
   "execution_count": 29,
   "metadata": {},
   "outputs": [
    {
     "data": {
      "text/plain": [
       "DecisionTreeClassifier(class_weight='balanced', random_state=42)"
      ]
     },
     "execution_count": 29,
     "metadata": {},
     "output_type": "execute_result"
    }
   ],
=======
   "execution_count": null,
   "metadata": {},
   "outputs": [],
>>>>>>> b0c843cb0bdc3c45584c18f8a175557e4a82f34e
   "source": [
    "tree = DecisionTreeClassifier(random_state=42, class_weight=\"balanced\")\n",
    "tree.fit(X_train_transformed, y_train)"
   ]
  },
  {
   "cell_type": "code",
<<<<<<< HEAD
   "execution_count": 30,
=======
   "execution_count": null,
>>>>>>> b0c843cb0bdc3c45584c18f8a175557e4a82f34e
   "metadata": {},
   "outputs": [],
   "source": [
    "y_hat = tree.predict(X_test_transformed)"
   ]
  },
  {
   "cell_type": "code",
<<<<<<< HEAD
   "execution_count": 31,
   "metadata": {},
   "outputs": [
    {
     "data": {
      "text/plain": [
       "0.6446429524620947"
      ]
     },
     "execution_count": 31,
     "metadata": {},
     "output_type": "execute_result"
    }
   ],
=======
   "execution_count": null,
   "metadata": {},
   "outputs": [],
>>>>>>> b0c843cb0bdc3c45584c18f8a175557e4a82f34e
   "source": [
    "recall_score(y_test, y_hat, average='macro')"
   ]
  },
  {
   "cell_type": "markdown",
   "metadata": {},
   "source": [
    "Recall score when down some of 64.5%."
   ]
  },
  {
   "cell_type": "markdown",
   "metadata": {},
   "source": [
    "## Math Magic 2 (gps * pop)"
   ]
  },
  {
   "cell_type": "code",
<<<<<<< HEAD
   "execution_count": 32,
=======
   "execution_count": null,
>>>>>>> b0c843cb0bdc3c45584c18f8a175557e4a82f34e
   "metadata": {},
   "outputs": [],
   "source": [
    "pumps_magic = pumps"
   ]
  },
  {
   "cell_type": "code",
<<<<<<< HEAD
   "execution_count": 33,
=======
   "execution_count": null,
>>>>>>> b0c843cb0bdc3c45584c18f8a175557e4a82f34e
   "metadata": {},
   "outputs": [],
   "source": [
    "math_magic_features = ['gps_pop']"
   ]
  },
  {
   "cell_type": "code",
<<<<<<< HEAD
   "execution_count": 34,
=======
   "execution_count": null,
>>>>>>> b0c843cb0bdc3c45584c18f8a175557e4a82f34e
   "metadata": {},
   "outputs": [],
   "source": [
    "pumps_magic['gps_pop'] = pumps_magic['gps_height'] * pumps_magic['population']"
   ]
  },
  {
   "cell_type": "code",
<<<<<<< HEAD
   "execution_count": 35,
=======
   "execution_count": null,
>>>>>>> b0c843cb0bdc3c45584c18f8a175557e4a82f34e
   "metadata": {},
   "outputs": [],
   "source": [
    "X = pumps[numeric_features + categorical_features_over_100 + math_magic_features]\n",
    "y = pumps['status_group']\n",
    "X_train, X_test, y_train, y_test = train_test_split(X, y, random_state=42, stratify=pumps['status_group'])"
   ]
  },
  {
   "cell_type": "code",
<<<<<<< HEAD
   "execution_count": 36,
=======
   "execution_count": null,
>>>>>>> b0c843cb0bdc3c45584c18f8a175557e4a82f34e
   "metadata": {},
   "outputs": [],
   "source": [
    "ohe = OneHotEncoder(drop='first', sparse=False)\n",
    "X_train_transformed = ohe.fit_transform(X_train[categorical_features_over_100])\n",
    "X_train_transformed = X_train[numeric_features + math_magic_features].join(pd.DataFrame(X_train_transformed, \n",
    "                                                                                        index=X_train.index), how='outer')\n",
    "\n",
    "X_test_transformed = ohe.transform(X_test[categorical_features_over_100])\n",
    "X_test_transformed = X_test[numeric_features + math_magic_features].join(pd.DataFrame(X_test_transformed, \n",
    "                                                                                      index=X_test.index), how='outer')"
   ]
  },
  {
   "cell_type": "code",
<<<<<<< HEAD
   "execution_count": 37,
   "metadata": {},
   "outputs": [
    {
     "data": {
      "text/plain": [
       "DecisionTreeClassifier(class_weight='balanced', random_state=42)"
      ]
     },
     "execution_count": 37,
     "metadata": {},
     "output_type": "execute_result"
    }
   ],
=======
   "execution_count": null,
   "metadata": {},
   "outputs": [],
>>>>>>> b0c843cb0bdc3c45584c18f8a175557e4a82f34e
   "source": [
    "tree = DecisionTreeClassifier(random_state=42, class_weight=\"balanced\")\n",
    "tree.fit(X_train_transformed, y_train)"
   ]
  },
  {
   "cell_type": "code",
<<<<<<< HEAD
   "execution_count": 38,
=======
   "execution_count": null,
>>>>>>> b0c843cb0bdc3c45584c18f8a175557e4a82f34e
   "metadata": {},
   "outputs": [],
   "source": [
    "y_hat = tree.predict(X_test_transformed)"
   ]
  },
  {
   "cell_type": "code",
<<<<<<< HEAD
   "execution_count": 39,
   "metadata": {},
   "outputs": [
    {
     "data": {
      "text/plain": [
       "0.6476395833684608"
      ]
     },
     "execution_count": 39,
     "metadata": {},
     "output_type": "execute_result"
    }
   ],
=======
   "execution_count": null,
   "metadata": {},
   "outputs": [],
>>>>>>> b0c843cb0bdc3c45584c18f8a175557e4a82f34e
   "source": [
    "recall_score(y_test, y_hat, average='macro')"
   ]
  },
  {
   "cell_type": "markdown",
   "metadata": {},
   "source": [
    "Same as last Recall score when down some of 64.8%."
   ]
  },
  {
   "cell_type": "markdown",
   "metadata": {},
   "source": [
    "## Math Magic (Polynomial Features)"
   ]
  },
  {
   "cell_type": "code",
<<<<<<< HEAD
   "execution_count": 40,
=======
   "execution_count": null,
>>>>>>> b0c843cb0bdc3c45584c18f8a175557e4a82f34e
   "metadata": {},
   "outputs": [],
   "source": [
    "X = pumps[numeric_features + categorical_features_over_100 + math_magic_features]\n",
    "y = pumps['status_group']\n",
    "X_train, X_test, y_train, y_test = train_test_split(X, y, random_state=42, stratify=pumps['status_group'])"
   ]
  },
  {
   "cell_type": "code",
<<<<<<< HEAD
   "execution_count": 41,
=======
   "execution_count": null,
>>>>>>> b0c843cb0bdc3c45584c18f8a175557e4a82f34e
   "metadata": {},
   "outputs": [],
   "source": [
    "ohe = OneHotEncoder(drop='first', sparse=False)\n",
    "X_train_ohe = ohe.fit_transform(X_train[categorical_features_over_100])\n",
    "X_train_transformed = X_train[numeric_features].join(pd.DataFrame(X_train_ohe, index=X_train.index), how='outer')\n",
    "\n",
    "X_test_ohe = ohe.transform(X_test[categorical_features_over_100])\n",
    "X_test_transformed = X_test[numeric_features].join(pd.DataFrame(X_test_ohe, index=X_test.index), how='outer')"
   ]
  },
  {
   "cell_type": "code",
<<<<<<< HEAD
   "execution_count": 42,
=======
   "execution_count": null,
>>>>>>> b0c843cb0bdc3c45584c18f8a175557e4a82f34e
   "metadata": {},
   "outputs": [],
   "source": [
    "pf = PolynomialFeatures()\n",
    "X_train_pf = pf.fit_transform(X_train[numeric_features])\n",
    "X_train_transformed = X_train_transformed.join(pd.DataFrame(X_train_pf, index=X_train.index), how='outer', rsuffix='pf')\n",
    "\n",
    "X_test_pf = pf.transform(X_test[numeric_features])\n",
    "X_test_transformed = X_test_transformed.join(pd.DataFrame(X_test_pf, index=X_test.index), how='outer', rsuffix='pf')"
   ]
  },
  {
   "cell_type": "code",
<<<<<<< HEAD
   "execution_count": 43,
   "metadata": {},
   "outputs": [
    {
     "data": {
      "text/plain": [
       "DecisionTreeClassifier(class_weight='balanced', random_state=42)"
      ]
     },
     "execution_count": 43,
     "metadata": {},
     "output_type": "execute_result"
    }
   ],
=======
   "execution_count": null,
   "metadata": {},
   "outputs": [],
>>>>>>> b0c843cb0bdc3c45584c18f8a175557e4a82f34e
   "source": [
    "tree = DecisionTreeClassifier(random_state=42, class_weight=\"balanced\")\n",
    "tree.fit(X_train_transformed, y_train)"
   ]
  },
  {
   "cell_type": "code",
<<<<<<< HEAD
   "execution_count": 44,
=======
   "execution_count": null,
>>>>>>> b0c843cb0bdc3c45584c18f8a175557e4a82f34e
   "metadata": {},
   "outputs": [],
   "source": [
    "y_hat = tree.predict(X_test_transformed)"
   ]
  },
  {
   "cell_type": "code",
<<<<<<< HEAD
   "execution_count": 45,
   "metadata": {},
   "outputs": [
    {
     "data": {
      "text/plain": [
       "0.6457696598756999"
      ]
     },
     "execution_count": 45,
     "metadata": {},
     "output_type": "execute_result"
    }
   ],
=======
   "execution_count": null,
   "metadata": {},
   "outputs": [],
>>>>>>> b0c843cb0bdc3c45584c18f8a175557e4a82f34e
   "source": [
    "recall_score(y_test, y_hat, average='macro')"
   ]
  },
  {
   "cell_type": "markdown",
   "metadata": {},
   "source": [
    "Recall score of 64.6% no impovement."
   ]
  },
  {
   "cell_type": "markdown",
   "metadata": {},
   "source": [
    "# Forest Model (Numeric / Categorical > 100)"
   ]
  },
  {
   "cell_type": "code",
<<<<<<< HEAD
   "execution_count": 46,
=======
   "execution_count": null,
>>>>>>> b0c843cb0bdc3c45584c18f8a175557e4a82f34e
   "metadata": {},
   "outputs": [],
   "source": [
    "X = pumps[numeric_features + categorical_features_over_100]\n",
    "y = pumps['status_group']\n",
    "X_train, X_test, y_train, y_test = train_test_split(X, y, random_state=42, stratify=pumps['status_group'])"
   ]
  },
  {
   "cell_type": "code",
<<<<<<< HEAD
   "execution_count": 47,
=======
   "execution_count": null,
>>>>>>> b0c843cb0bdc3c45584c18f8a175557e4a82f34e
   "metadata": {},
   "outputs": [],
   "source": [
    "ohe = OneHotEncoder(drop='first', sparse=False)\n",
    "X_train_transformed = ohe.fit_transform(X_train[categorical_features_over_100])\n",
    "X_train_transformed = X_train[numeric_features].join(pd.DataFrame(X_train_transformed, index=X_train.index), how='outer')\n",
    "\n",
    "X_test_transformed = ohe.transform(X_test[categorical_features_over_100])\n",
    "X_test_transformed = X_test[numeric_features].join(pd.DataFrame(X_test_transformed, index=X_test.index), how='outer')"
   ]
  },
  {
   "cell_type": "code",
<<<<<<< HEAD
   "execution_count": 48,
   "metadata": {},
   "outputs": [
    {
     "data": {
      "text/plain": [
       "RandomForestClassifier(class_weight='balanced', random_state=42)"
      ]
     },
     "execution_count": 48,
     "metadata": {},
     "output_type": "execute_result"
    }
   ],
=======
   "execution_count": null,
   "metadata": {},
   "outputs": [],
>>>>>>> b0c843cb0bdc3c45584c18f8a175557e4a82f34e
   "source": [
    "tree = RandomForestClassifier(random_state=42, class_weight=\"balanced\")\n",
    "tree.fit(X_train_transformed, y_train)"
   ]
  },
  {
   "cell_type": "code",
<<<<<<< HEAD
   "execution_count": 49,
=======
   "execution_count": null,
>>>>>>> b0c843cb0bdc3c45584c18f8a175557e4a82f34e
   "metadata": {},
   "outputs": [],
   "source": [
    "y_hat = tree.predict(X_test_transformed)"
   ]
  },
  {
   "cell_type": "code",
<<<<<<< HEAD
   "execution_count": 50,
   "metadata": {},
   "outputs": [
    {
     "data": {
      "text/plain": [
       "0.6764681296465412"
      ]
     },
     "execution_count": 50,
     "metadata": {},
     "output_type": "execute_result"
    }
   ],
=======
   "execution_count": null,
   "metadata": {},
   "outputs": [],
>>>>>>> b0c843cb0bdc3c45584c18f8a175557e4a82f34e
   "source": [
    "recall_score(y_test, y_hat, average='macro')"
   ]
  },
  {
   "cell_type": "markdown",
   "metadata": {},
   "source": [
    "Awesome we got a score of 67.6% that is a little impovement."
   ]
  },
  {
   "cell_type": "markdown",
   "metadata": {},
   "source": [
    "# Grid Search Forest Model (Numeric / Categorical > 100)"
   ]
  },
  {
   "cell_type": "code",
<<<<<<< HEAD
   "execution_count": 51,
=======
   "execution_count": null,
>>>>>>> b0c843cb0bdc3c45584c18f8a175557e4a82f34e
   "metadata": {},
   "outputs": [],
   "source": [
    "X = pumps[numeric_features + categorical_features_over_100]\n",
    "y = pumps['status_group']\n",
    "X_train, X_test, y_train, y_test = train_test_split(X, y, random_state=42, stratify=pumps['status_group'])"
   ]
  },
  {
   "cell_type": "code",
<<<<<<< HEAD
   "execution_count": 52,
=======
   "execution_count": null,
>>>>>>> b0c843cb0bdc3c45584c18f8a175557e4a82f34e
   "metadata": {},
   "outputs": [],
   "source": [
    "ohe = OneHotEncoder(drop='first', sparse=False)\n",
    "\n",
    "preprocessor = ColumnTransformer(transformers=[('categorical', ohe, categorical_features_over_100)])"
   ]
  },
  {
   "cell_type": "code",
<<<<<<< HEAD
   "execution_count": 61,
   "metadata": {},
   "outputs": [
    {
     "data": {
      "text/plain": [
       "GridSearchCV(cv=3,\n",
       "             estimator=Pipeline(steps=[('preprocessor',\n",
       "                                        ColumnTransformer(transformers=[('categorical',\n",
       "                                                                         OneHotEncoder(drop='first',\n",
       "                                                                                       sparse=False),\n",
       "                                                                         ['basin',\n",
       "                                                                          'region',\n",
       "                                                                          'extraction_type_class',\n",
       "                                                                          'management_group',\n",
       "                                                                          'payment',\n",
       "                                                                          'payment_type',\n",
       "                                                                          'quality_group',\n",
       "                                                                          'quantity',\n",
       "                                                                          'quantity_group',\n",
       "                                                                          'source_type',\n",
       "                                                                          'source_class'])])),\n",
       "                                       ('classifier',\n",
       "                                        RandomForestClassifier(class_weight='balanced',\n",
       "                                                               random_state=42))]),\n",
       "             param_grid={'classifier__criterion': ['gini', 'entropy'],\n",
       "                         'classifier__max_depth': [3, 10, None],\n",
       "                         'classifier__min_samples_leaf': [1, 2, 4],\n",
       "                         'classifier__n_estimators': [100, 500]},\n",
       "             scoring='recall_macro')"
      ]
     },
     "execution_count": 61,
     "metadata": {},
     "output_type": "execute_result"
    }
   ],
=======
   "execution_count": null,
   "metadata": {},
   "outputs": [],
>>>>>>> b0c843cb0bdc3c45584c18f8a175557e4a82f34e
   "source": [
    "pipeline = Pipeline([('preprocessor', preprocessor), \n",
    "                     ('classifier', RandomForestClassifier(random_state=42, class_weight=\"balanced\"))])\n",
    "\n",
    "param_grid = {\n",
    " 'classifier__max_depth': [3, 10, None],\n",
    " 'classifier__criterion': ['gini', 'entropy'],\n",
    " 'classifier__min_samples_leaf': [1, 2, 4],\n",
    " 'classifier__n_estimators': [100, 500]\n",
    "}\n",
    "\n",
    "gs = GridSearchCV(pipeline, param_grid, cv=3, scoring='recall_macro')\n",
    "gs.fit(X_train, y_train)"
   ]
  },
  {
   "cell_type": "code",
<<<<<<< HEAD
   "execution_count": 66,
   "metadata": {},
   "outputs": [
    {
     "data": {
      "text/plain": [
       "array([0.53156429, 0.52885294, 0.53155051, 0.52885294, 0.5315562 ,\n",
       "       0.52896315, 0.64082171, 0.64229284, 0.63872677, 0.64072422,\n",
       "       0.63488298, 0.63668788, 0.65719016, 0.65734038, 0.65959893,\n",
       "       0.65978044, 0.65854048, 0.65730948, 0.53156902, 0.52520205,\n",
       "       0.53164444, 0.52520205, 0.53151953, 0.52515502, 0.64115907,\n",
       "       0.64169056, 0.64192834, 0.63910362, 0.63864167, 0.63749607,\n",
       "       0.65677853, 0.65772371, 0.66069399, 0.65941261, 0.65715179,\n",
       "       0.65731823])"
      ]
     },
     "execution_count": 66,
     "metadata": {},
     "output_type": "execute_result"
    }
   ],
   "source": [
    "gs.cv_results_['mean_test_score']"
   ]
  },
  {
   "cell_type": "code",
   "execution_count": 54,
   "metadata": {},
   "outputs": [
    {
     "data": {
      "text/plain": [
       "{'classifier__criterion': 'gini',\n",
       " 'classifier__max_depth': None,\n",
       " 'classifier__min_samples_leaf': 2,\n",
       " 'classifier__n_estimators': 100}"
      ]
     },
     "execution_count": 54,
     "metadata": {},
     "output_type": "execute_result"
    }
   ],
=======
   "execution_count": null,
   "metadata": {},
   "outputs": [],
>>>>>>> b0c843cb0bdc3c45584c18f8a175557e4a82f34e
   "source": [
    "gs.best_params_"
   ]
  },
  {
   "cell_type": "code",
<<<<<<< HEAD
   "execution_count": 55,
   "metadata": {},
   "outputs": [
    {
     "data": {
      "text/plain": [
       "Pipeline(steps=[('preprocessor',\n",
       "                 ColumnTransformer(transformers=[('categorical',\n",
       "                                                  OneHotEncoder(drop='first',\n",
       "                                                                sparse=False),\n",
       "                                                  ['basin', 'region',\n",
       "                                                   'extraction_type_class',\n",
       "                                                   'management_group',\n",
       "                                                   'payment', 'payment_type',\n",
       "                                                   'quality_group', 'quantity',\n",
       "                                                   'quantity_group',\n",
       "                                                   'source_type',\n",
       "                                                   'source_class'])])),\n",
       "                ('classifier',\n",
       "                 RandomForestClassifier(class_weight='balanced',\n",
       "                                        min_samples_leaf=2, random_state=42))])"
      ]
     },
     "execution_count": 55,
     "metadata": {},
     "output_type": "execute_result"
    }
   ],
=======
   "execution_count": null,
   "metadata": {},
   "outputs": [],
>>>>>>> b0c843cb0bdc3c45584c18f8a175557e4a82f34e
   "source": [
    "pipeline = Pipeline([('preprocessor', preprocessor), \n",
    "                     ('classifier', RandomForestClassifier(random_state=42,\n",
    "                                                           criterion='gini',\n",
    "                                                           max_depth=None,\n",
    "                                                           min_samples_leaf=2,\n",
    "                                                           n_estimators=100,\n",
    "                                                           class_weight=\"balanced\"))])\n",
    "pipeline.fit(X_train, y_train)"
   ]
  },
  {
   "cell_type": "code",
<<<<<<< HEAD
   "execution_count": 56,
=======
   "execution_count": null,
>>>>>>> b0c843cb0bdc3c45584c18f8a175557e4a82f34e
   "metadata": {},
   "outputs": [],
   "source": [
    "y_hat = pipeline.predict(X_test)"
   ]
  },
  {
   "cell_type": "code",
<<<<<<< HEAD
   "execution_count": 57,
   "metadata": {},
   "outputs": [
    {
     "data": {
      "text/plain": [
       "0.6729731611141924"
      ]
     },
     "execution_count": 57,
     "metadata": {},
     "output_type": "execute_result"
    }
   ],
=======
   "execution_count": null,
   "metadata": {},
   "outputs": [],
>>>>>>> b0c843cb0bdc3c45584c18f8a175557e4a82f34e
   "source": [
    "recall_score(y_test, y_hat, average='macro')"
   ]
  },
  {
   "cell_type": "markdown",
   "metadata": {},
   "source": [
    "Recoll score of 67.3%."
   ]
  },
  {
   "cell_type": "markdown",
   "metadata": {},
   "source": [
    "# Grid Search Models (Numeric / Categorical > 100)"
   ]
  },
  {
   "cell_type": "code",
   "execution_count": 99,
   "metadata": {},
   "outputs": [],
   "source": [
    "X = pumps[numeric_features + categorical_features_over_100]\n",
    "y = pumps['status_group']\n",
    "X_train, X_test, y_train, y_test = train_test_split(X, y, random_state=42, stratify=pumps['status_group'])"
   ]
  },
  {
   "cell_type": "code",
   "execution_count": 100,
   "metadata": {},
   "outputs": [],
   "source": [
    "ohe = OneHotEncoder(drop='first', sparse=False)\n",
    "\n",
    "preprocessor = ColumnTransformer(transformers=[('categorical', ohe, categorical_features_over_100)])"
   ]
  },
  {
   "cell_type": "code",
   "execution_count": 101,
   "metadata": {},
   "outputs": [],
   "source": [
    "rfc_pipeline = Pipeline([('preprocessor', preprocessor), \n",
    "                         ('rfc', RandomForestClassifier(random_state=42, class_weight=\"balanced\"))])\n",
    "\n",
    "lf_pipeline = Pipeline([('preprocessor', preprocessor),\n",
    "                       ('lf', LogisticRegression(random_state=42, class_weight=\"balanced\"))])\n",
    "\n",
    "knc_pipeline = Pipeline([('preprocessor', preprocessor),\n",
    "                         ('knc', KNeighborsClassifier())])\n",
    "\n",
    "\n",
    "rfc_param_grid = {\n",
    " 'rfc__max_depth': [3, 10, None],\n",
    " 'rfc__criterion': ['gini', 'entropy'],\n",
    " 'rfc__min_samples_leaf': [1, 2, 4],\n",
    " 'rfc__n_estimators': [100, 500]\n",
    "}\n",
    "\n",
    "lf_param_grid = {\n",
    "    'lf__penalty': ['l1', 'l2', 'elasticnet', None],\n",
    "    'lf__C': [1.0, 0.1, 0.01, 0.001],\n",
    "    'lf__solver': ['newton-cg', 'lbfgs', 'liblinear', 'sag', 'saga']\n",
    "}\n",
    "\n",
    "knc_param_grid = {\n",
    "    'knc__n_neighbors': [3, 5, 10],\n",
    "    'knc__weights': ['uniform', 'distance'],\n",
    "    'knc__metric': ['manhattan', 'euclidean', 'minkowski']\n",
    "}\n"
   ]
  },
  {
   "cell_type": "code",
   "execution_count": 92,
   "metadata": {
    "scrolled": true
   },
   "outputs": [
    {
     "name": "stdout",
     "output_type": "stream",
     "text": [
      "Fitting 5 folds for each of 36 candidates, totalling 180 fits\n",
      "[CV] rfc__criterion=gini, rfc__max_depth=3, rfc__min_samples_leaf=1, rfc__n_estimators=100 \n"
     ]
    },
    {
     "name": "stderr",
     "output_type": "stream",
     "text": [
      "[Parallel(n_jobs=1)]: Using backend SequentialBackend with 1 concurrent workers.\n"
     ]
    },
    {
     "name": "stdout",
     "output_type": "stream",
     "text": [
      "[CV]  rfc__criterion=gini, rfc__max_depth=3, rfc__min_samples_leaf=1, rfc__n_estimators=100, score=0.528, total=   1.2s\n",
      "[CV] rfc__criterion=gini, rfc__max_depth=3, rfc__min_samples_leaf=1, rfc__n_estimators=100 \n"
     ]
    },
    {
     "name": "stderr",
     "output_type": "stream",
     "text": [
      "[Parallel(n_jobs=1)]: Done   1 out of   1 | elapsed:    1.1s remaining:    0.0s\n"
     ]
    },
    {
     "name": "stdout",
     "output_type": "stream",
     "text": [
      "[CV]  rfc__criterion=gini, rfc__max_depth=3, rfc__min_samples_leaf=1, rfc__n_estimators=100, score=0.541, total=   1.3s\n",
      "[CV] rfc__criterion=gini, rfc__max_depth=3, rfc__min_samples_leaf=1, rfc__n_estimators=100 \n"
     ]
    },
    {
     "name": "stderr",
     "output_type": "stream",
     "text": [
      "[Parallel(n_jobs=1)]: Done   2 out of   2 | elapsed:    2.3s remaining:    0.0s\n"
     ]
    },
    {
     "name": "stdout",
     "output_type": "stream",
     "text": [
      "[CV]  rfc__criterion=gini, rfc__max_depth=3, rfc__min_samples_leaf=1, rfc__n_estimators=100, score=0.537, total=   1.4s\n",
      "[CV] rfc__criterion=gini, rfc__max_depth=3, rfc__min_samples_leaf=1, rfc__n_estimators=100 \n",
      "[CV]  rfc__criterion=gini, rfc__max_depth=3, rfc__min_samples_leaf=1, rfc__n_estimators=100, score=0.543, total=   1.3s\n",
      "[CV] rfc__criterion=gini, rfc__max_depth=3, rfc__min_samples_leaf=1, rfc__n_estimators=100 \n",
      "[CV]  rfc__criterion=gini, rfc__max_depth=3, rfc__min_samples_leaf=1, rfc__n_estimators=100, score=0.535, total=   1.3s\n",
      "[CV] rfc__criterion=gini, rfc__max_depth=3, rfc__min_samples_leaf=1, rfc__n_estimators=500 \n",
      "[CV]  rfc__criterion=gini, rfc__max_depth=3, rfc__min_samples_leaf=1, rfc__n_estimators=500, score=0.520, total=   5.6s\n",
      "[CV] rfc__criterion=gini, rfc__max_depth=3, rfc__min_samples_leaf=1, rfc__n_estimators=500 \n",
      "[CV]  rfc__criterion=gini, rfc__max_depth=3, rfc__min_samples_leaf=1, rfc__n_estimators=500, score=0.524, total=   5.6s\n",
      "[CV] rfc__criterion=gini, rfc__max_depth=3, rfc__min_samples_leaf=1, rfc__n_estimators=500 \n",
      "[CV]  rfc__criterion=gini, rfc__max_depth=3, rfc__min_samples_leaf=1, rfc__n_estimators=500, score=0.530, total=   5.7s\n",
      "[CV] rfc__criterion=gini, rfc__max_depth=3, rfc__min_samples_leaf=1, rfc__n_estimators=500 \n",
      "[CV]  rfc__criterion=gini, rfc__max_depth=3, rfc__min_samples_leaf=1, rfc__n_estimators=500, score=0.532, total=   5.4s\n",
      "[CV] rfc__criterion=gini, rfc__max_depth=3, rfc__min_samples_leaf=1, rfc__n_estimators=500 \n",
      "[CV]  rfc__criterion=gini, rfc__max_depth=3, rfc__min_samples_leaf=1, rfc__n_estimators=500, score=0.530, total=   5.5s\n",
      "[CV] rfc__criterion=gini, rfc__max_depth=3, rfc__min_samples_leaf=2, rfc__n_estimators=100 \n",
      "[CV]  rfc__criterion=gini, rfc__max_depth=3, rfc__min_samples_leaf=2, rfc__n_estimators=100, score=0.528, total=   1.2s\n",
      "[CV] rfc__criterion=gini, rfc__max_depth=3, rfc__min_samples_leaf=2, rfc__n_estimators=100 \n",
      "[CV]  rfc__criterion=gini, rfc__max_depth=3, rfc__min_samples_leaf=2, rfc__n_estimators=100, score=0.541, total=   1.1s\n",
      "[CV] rfc__criterion=gini, rfc__max_depth=3, rfc__min_samples_leaf=2, rfc__n_estimators=100 \n",
      "[CV]  rfc__criterion=gini, rfc__max_depth=3, rfc__min_samples_leaf=2, rfc__n_estimators=100, score=0.537, total=   1.1s\n",
      "[CV] rfc__criterion=gini, rfc__max_depth=3, rfc__min_samples_leaf=2, rfc__n_estimators=100 \n",
      "[CV]  rfc__criterion=gini, rfc__max_depth=3, rfc__min_samples_leaf=2, rfc__n_estimators=100, score=0.543, total=   1.1s\n",
      "[CV] rfc__criterion=gini, rfc__max_depth=3, rfc__min_samples_leaf=2, rfc__n_estimators=100 \n",
      "[CV]  rfc__criterion=gini, rfc__max_depth=3, rfc__min_samples_leaf=2, rfc__n_estimators=100, score=0.535, total=   1.3s\n",
      "[CV] rfc__criterion=gini, rfc__max_depth=3, rfc__min_samples_leaf=2, rfc__n_estimators=500 \n",
      "[CV]  rfc__criterion=gini, rfc__max_depth=3, rfc__min_samples_leaf=2, rfc__n_estimators=500, score=0.520, total=   5.4s\n",
      "[CV] rfc__criterion=gini, rfc__max_depth=3, rfc__min_samples_leaf=2, rfc__n_estimators=500 \n",
      "[CV]  rfc__criterion=gini, rfc__max_depth=3, rfc__min_samples_leaf=2, rfc__n_estimators=500, score=0.524, total=   4.9s\n",
      "[CV] rfc__criterion=gini, rfc__max_depth=3, rfc__min_samples_leaf=2, rfc__n_estimators=500 \n",
      "[CV]  rfc__criterion=gini, rfc__max_depth=3, rfc__min_samples_leaf=2, rfc__n_estimators=500, score=0.530, total=   5.6s\n",
      "[CV] rfc__criterion=gini, rfc__max_depth=3, rfc__min_samples_leaf=2, rfc__n_estimators=500 \n",
      "[CV]  rfc__criterion=gini, rfc__max_depth=3, rfc__min_samples_leaf=2, rfc__n_estimators=500, score=0.532, total=   5.0s\n",
      "[CV] rfc__criterion=gini, rfc__max_depth=3, rfc__min_samples_leaf=2, rfc__n_estimators=500 \n",
      "[CV]  rfc__criterion=gini, rfc__max_depth=3, rfc__min_samples_leaf=2, rfc__n_estimators=500, score=0.530, total=   5.2s\n",
      "[CV] rfc__criterion=gini, rfc__max_depth=3, rfc__min_samples_leaf=4, rfc__n_estimators=100 \n",
      "[CV]  rfc__criterion=gini, rfc__max_depth=3, rfc__min_samples_leaf=4, rfc__n_estimators=100, score=0.528, total=   1.4s\n",
      "[CV] rfc__criterion=gini, rfc__max_depth=3, rfc__min_samples_leaf=4, rfc__n_estimators=100 \n",
      "[CV]  rfc__criterion=gini, rfc__max_depth=3, rfc__min_samples_leaf=4, rfc__n_estimators=100, score=0.541, total=   1.3s\n",
      "[CV] rfc__criterion=gini, rfc__max_depth=3, rfc__min_samples_leaf=4, rfc__n_estimators=100 \n",
      "[CV]  rfc__criterion=gini, rfc__max_depth=3, rfc__min_samples_leaf=4, rfc__n_estimators=100, score=0.537, total=   1.2s\n",
      "[CV] rfc__criterion=gini, rfc__max_depth=3, rfc__min_samples_leaf=4, rfc__n_estimators=100 \n",
      "[CV]  rfc__criterion=gini, rfc__max_depth=3, rfc__min_samples_leaf=4, rfc__n_estimators=100, score=0.543, total=   1.4s\n",
      "[CV] rfc__criterion=gini, rfc__max_depth=3, rfc__min_samples_leaf=4, rfc__n_estimators=100 \n",
      "[CV]  rfc__criterion=gini, rfc__max_depth=3, rfc__min_samples_leaf=4, rfc__n_estimators=100, score=0.535, total=   1.4s\n",
      "[CV] rfc__criterion=gini, rfc__max_depth=3, rfc__min_samples_leaf=4, rfc__n_estimators=500 \n",
      "[CV]  rfc__criterion=gini, rfc__max_depth=3, rfc__min_samples_leaf=4, rfc__n_estimators=500, score=0.520, total=   5.4s\n",
      "[CV] rfc__criterion=gini, rfc__max_depth=3, rfc__min_samples_leaf=4, rfc__n_estimators=500 \n",
      "[CV]  rfc__criterion=gini, rfc__max_depth=3, rfc__min_samples_leaf=4, rfc__n_estimators=500, score=0.524, total=   5.1s\n",
      "[CV] rfc__criterion=gini, rfc__max_depth=3, rfc__min_samples_leaf=4, rfc__n_estimators=500 \n",
      "[CV]  rfc__criterion=gini, rfc__max_depth=3, rfc__min_samples_leaf=4, rfc__n_estimators=500, score=0.530, total=   5.5s\n",
      "[CV] rfc__criterion=gini, rfc__max_depth=3, rfc__min_samples_leaf=4, rfc__n_estimators=500 \n",
      "[CV]  rfc__criterion=gini, rfc__max_depth=3, rfc__min_samples_leaf=4, rfc__n_estimators=500, score=0.532, total=   5.8s\n",
      "[CV] rfc__criterion=gini, rfc__max_depth=3, rfc__min_samples_leaf=4, rfc__n_estimators=500 \n",
      "[CV]  rfc__criterion=gini, rfc__max_depth=3, rfc__min_samples_leaf=4, rfc__n_estimators=500, score=0.530, total=   5.6s\n",
      "[CV] rfc__criterion=gini, rfc__max_depth=10, rfc__min_samples_leaf=1, rfc__n_estimators=100 \n",
      "[CV]  rfc__criterion=gini, rfc__max_depth=10, rfc__min_samples_leaf=1, rfc__n_estimators=100, score=0.635, total=   2.1s\n",
      "[CV] rfc__criterion=gini, rfc__max_depth=10, rfc__min_samples_leaf=1, rfc__n_estimators=100 \n",
      "[CV]  rfc__criterion=gini, rfc__max_depth=10, rfc__min_samples_leaf=1, rfc__n_estimators=100, score=0.649, total=   2.2s\n",
      "[CV] rfc__criterion=gini, rfc__max_depth=10, rfc__min_samples_leaf=1, rfc__n_estimators=100 \n",
      "[CV]  rfc__criterion=gini, rfc__max_depth=10, rfc__min_samples_leaf=1, rfc__n_estimators=100, score=0.647, total=   2.1s\n",
      "[CV] rfc__criterion=gini, rfc__max_depth=10, rfc__min_samples_leaf=1, rfc__n_estimators=100 \n",
      "[CV]  rfc__criterion=gini, rfc__max_depth=10, rfc__min_samples_leaf=1, rfc__n_estimators=100, score=0.640, total=   2.1s\n",
      "[CV] rfc__criterion=gini, rfc__max_depth=10, rfc__min_samples_leaf=1, rfc__n_estimators=100 \n",
      "[CV]  rfc__criterion=gini, rfc__max_depth=10, rfc__min_samples_leaf=1, rfc__n_estimators=100, score=0.642, total=   2.2s\n",
      "[CV] rfc__criterion=gini, rfc__max_depth=10, rfc__min_samples_leaf=1, rfc__n_estimators=500 \n",
      "[CV]  rfc__criterion=gini, rfc__max_depth=10, rfc__min_samples_leaf=1, rfc__n_estimators=500, score=0.641, total=   9.5s\n",
      "[CV] rfc__criterion=gini, rfc__max_depth=10, rfc__min_samples_leaf=1, rfc__n_estimators=500 \n",
      "[CV]  rfc__criterion=gini, rfc__max_depth=10, rfc__min_samples_leaf=1, rfc__n_estimators=500, score=0.649, total=   9.4s\n",
      "[CV] rfc__criterion=gini, rfc__max_depth=10, rfc__min_samples_leaf=1, rfc__n_estimators=500 \n",
      "[CV]  rfc__criterion=gini, rfc__max_depth=10, rfc__min_samples_leaf=1, rfc__n_estimators=500, score=0.644, total=   8.2s\n",
      "[CV] rfc__criterion=gini, rfc__max_depth=10, rfc__min_samples_leaf=1, rfc__n_estimators=500 \n",
      "[CV]  rfc__criterion=gini, rfc__max_depth=10, rfc__min_samples_leaf=1, rfc__n_estimators=500, score=0.641, total=   8.2s\n",
      "[CV] rfc__criterion=gini, rfc__max_depth=10, rfc__min_samples_leaf=1, rfc__n_estimators=500 \n",
      "[CV]  rfc__criterion=gini, rfc__max_depth=10, rfc__min_samples_leaf=1, rfc__n_estimators=500, score=0.647, total=   8.0s\n",
      "[CV] rfc__criterion=gini, rfc__max_depth=10, rfc__min_samples_leaf=2, rfc__n_estimators=100 \n",
      "[CV]  rfc__criterion=gini, rfc__max_depth=10, rfc__min_samples_leaf=2, rfc__n_estimators=100, score=0.637, total=   1.8s\n",
      "[CV] rfc__criterion=gini, rfc__max_depth=10, rfc__min_samples_leaf=2, rfc__n_estimators=100 \n"
     ]
    },
    {
     "name": "stdout",
     "output_type": "stream",
     "text": [
      "[CV]  rfc__criterion=gini, rfc__max_depth=10, rfc__min_samples_leaf=2, rfc__n_estimators=100, score=0.644, total=   1.8s\n",
      "[CV] rfc__criterion=gini, rfc__max_depth=10, rfc__min_samples_leaf=2, rfc__n_estimators=100 \n",
      "[CV]  rfc__criterion=gini, rfc__max_depth=10, rfc__min_samples_leaf=2, rfc__n_estimators=100, score=0.643, total=   1.8s\n",
      "[CV] rfc__criterion=gini, rfc__max_depth=10, rfc__min_samples_leaf=2, rfc__n_estimators=100 \n",
      "[CV]  rfc__criterion=gini, rfc__max_depth=10, rfc__min_samples_leaf=2, rfc__n_estimators=100, score=0.640, total=   1.8s\n",
      "[CV] rfc__criterion=gini, rfc__max_depth=10, rfc__min_samples_leaf=2, rfc__n_estimators=100 \n",
      "[CV]  rfc__criterion=gini, rfc__max_depth=10, rfc__min_samples_leaf=2, rfc__n_estimators=100, score=0.643, total=   1.8s\n",
      "[CV] rfc__criterion=gini, rfc__max_depth=10, rfc__min_samples_leaf=2, rfc__n_estimators=500 \n",
      "[CV]  rfc__criterion=gini, rfc__max_depth=10, rfc__min_samples_leaf=2, rfc__n_estimators=500, score=0.639, total=   7.9s\n",
      "[CV] rfc__criterion=gini, rfc__max_depth=10, rfc__min_samples_leaf=2, rfc__n_estimators=500 \n",
      "[CV]  rfc__criterion=gini, rfc__max_depth=10, rfc__min_samples_leaf=2, rfc__n_estimators=500, score=0.645, total=   8.9s\n",
      "[CV] rfc__criterion=gini, rfc__max_depth=10, rfc__min_samples_leaf=2, rfc__n_estimators=500 \n",
      "[CV]  rfc__criterion=gini, rfc__max_depth=10, rfc__min_samples_leaf=2, rfc__n_estimators=500, score=0.643, total=  10.0s\n",
      "[CV] rfc__criterion=gini, rfc__max_depth=10, rfc__min_samples_leaf=2, rfc__n_estimators=500 \n",
      "[CV]  rfc__criterion=gini, rfc__max_depth=10, rfc__min_samples_leaf=2, rfc__n_estimators=500, score=0.643, total=   9.6s\n",
      "[CV] rfc__criterion=gini, rfc__max_depth=10, rfc__min_samples_leaf=2, rfc__n_estimators=500 \n",
      "[CV]  rfc__criterion=gini, rfc__max_depth=10, rfc__min_samples_leaf=2, rfc__n_estimators=500, score=0.647, total=   9.7s\n",
      "[CV] rfc__criterion=gini, rfc__max_depth=10, rfc__min_samples_leaf=4, rfc__n_estimators=100 \n",
      "[CV]  rfc__criterion=gini, rfc__max_depth=10, rfc__min_samples_leaf=4, rfc__n_estimators=100, score=0.628, total=   2.1s\n",
      "[CV] rfc__criterion=gini, rfc__max_depth=10, rfc__min_samples_leaf=4, rfc__n_estimators=100 \n",
      "[CV]  rfc__criterion=gini, rfc__max_depth=10, rfc__min_samples_leaf=4, rfc__n_estimators=100, score=0.643, total=   2.2s\n",
      "[CV] rfc__criterion=gini, rfc__max_depth=10, rfc__min_samples_leaf=4, rfc__n_estimators=100 \n",
      "[CV]  rfc__criterion=gini, rfc__max_depth=10, rfc__min_samples_leaf=4, rfc__n_estimators=100, score=0.638, total=   2.0s\n",
      "[CV] rfc__criterion=gini, rfc__max_depth=10, rfc__min_samples_leaf=4, rfc__n_estimators=100 \n",
      "[CV]  rfc__criterion=gini, rfc__max_depth=10, rfc__min_samples_leaf=4, rfc__n_estimators=100, score=0.642, total=   2.1s\n",
      "[CV] rfc__criterion=gini, rfc__max_depth=10, rfc__min_samples_leaf=4, rfc__n_estimators=100 \n",
      "[CV]  rfc__criterion=gini, rfc__max_depth=10, rfc__min_samples_leaf=4, rfc__n_estimators=100, score=0.640, total=   2.1s\n",
      "[CV] rfc__criterion=gini, rfc__max_depth=10, rfc__min_samples_leaf=4, rfc__n_estimators=500 \n",
      "[CV]  rfc__criterion=gini, rfc__max_depth=10, rfc__min_samples_leaf=4, rfc__n_estimators=500, score=0.632, total=   9.3s\n",
      "[CV] rfc__criterion=gini, rfc__max_depth=10, rfc__min_samples_leaf=4, rfc__n_estimators=500 \n",
      "[CV]  rfc__criterion=gini, rfc__max_depth=10, rfc__min_samples_leaf=4, rfc__n_estimators=500, score=0.642, total=   9.4s\n",
      "[CV] rfc__criterion=gini, rfc__max_depth=10, rfc__min_samples_leaf=4, rfc__n_estimators=500 \n",
      "[CV]  rfc__criterion=gini, rfc__max_depth=10, rfc__min_samples_leaf=4, rfc__n_estimators=500, score=0.640, total=   9.5s\n",
      "[CV] rfc__criterion=gini, rfc__max_depth=10, rfc__min_samples_leaf=4, rfc__n_estimators=500 \n",
      "[CV]  rfc__criterion=gini, rfc__max_depth=10, rfc__min_samples_leaf=4, rfc__n_estimators=500, score=0.640, total=   9.5s\n",
      "[CV] rfc__criterion=gini, rfc__max_depth=10, rfc__min_samples_leaf=4, rfc__n_estimators=500 \n",
      "[CV]  rfc__criterion=gini, rfc__max_depth=10, rfc__min_samples_leaf=4, rfc__n_estimators=500, score=0.640, total=   8.4s\n",
      "[CV] rfc__criterion=gini, rfc__max_depth=None, rfc__min_samples_leaf=1, rfc__n_estimators=100 \n",
      "[CV]  rfc__criterion=gini, rfc__max_depth=None, rfc__min_samples_leaf=1, rfc__n_estimators=100, score=0.665, total=   3.0s\n",
      "[CV] rfc__criterion=gini, rfc__max_depth=None, rfc__min_samples_leaf=1, rfc__n_estimators=100 \n",
      "[CV]  rfc__criterion=gini, rfc__max_depth=None, rfc__min_samples_leaf=1, rfc__n_estimators=100, score=0.660, total=   3.2s\n",
      "[CV] rfc__criterion=gini, rfc__max_depth=None, rfc__min_samples_leaf=1, rfc__n_estimators=100 \n",
      "[CV]  rfc__criterion=gini, rfc__max_depth=None, rfc__min_samples_leaf=1, rfc__n_estimators=100, score=0.658, total=   3.4s\n",
      "[CV] rfc__criterion=gini, rfc__max_depth=None, rfc__min_samples_leaf=1, rfc__n_estimators=100 \n",
      "[CV]  rfc__criterion=gini, rfc__max_depth=None, rfc__min_samples_leaf=1, rfc__n_estimators=100, score=0.663, total=   3.3s\n",
      "[CV] rfc__criterion=gini, rfc__max_depth=None, rfc__min_samples_leaf=1, rfc__n_estimators=100 \n",
      "[CV]  rfc__criterion=gini, rfc__max_depth=None, rfc__min_samples_leaf=1, rfc__n_estimators=100, score=0.656, total=   3.3s\n",
      "[CV] rfc__criterion=gini, rfc__max_depth=None, rfc__min_samples_leaf=1, rfc__n_estimators=500 \n",
      "[CV]  rfc__criterion=gini, rfc__max_depth=None, rfc__min_samples_leaf=1, rfc__n_estimators=500, score=0.665, total=  13.9s\n",
      "[CV] rfc__criterion=gini, rfc__max_depth=None, rfc__min_samples_leaf=1, rfc__n_estimators=500 \n",
      "[CV]  rfc__criterion=gini, rfc__max_depth=None, rfc__min_samples_leaf=1, rfc__n_estimators=500, score=0.659, total=  13.4s\n",
      "[CV] rfc__criterion=gini, rfc__max_depth=None, rfc__min_samples_leaf=1, rfc__n_estimators=500 \n",
      "[CV]  rfc__criterion=gini, rfc__max_depth=None, rfc__min_samples_leaf=1, rfc__n_estimators=500, score=0.658, total=  13.1s\n",
      "[CV] rfc__criterion=gini, rfc__max_depth=None, rfc__min_samples_leaf=1, rfc__n_estimators=500 \n",
      "[CV]  rfc__criterion=gini, rfc__max_depth=None, rfc__min_samples_leaf=1, rfc__n_estimators=500, score=0.664, total=  14.1s\n",
      "[CV] rfc__criterion=gini, rfc__max_depth=None, rfc__min_samples_leaf=1, rfc__n_estimators=500 \n",
      "[CV]  rfc__criterion=gini, rfc__max_depth=None, rfc__min_samples_leaf=1, rfc__n_estimators=500, score=0.659, total=  13.7s\n",
      "[CV] rfc__criterion=gini, rfc__max_depth=None, rfc__min_samples_leaf=2, rfc__n_estimators=100 \n",
      "[CV]  rfc__criterion=gini, rfc__max_depth=None, rfc__min_samples_leaf=2, rfc__n_estimators=100, score=0.667, total=   2.5s\n",
      "[CV] rfc__criterion=gini, rfc__max_depth=None, rfc__min_samples_leaf=2, rfc__n_estimators=100 \n",
      "[CV]  rfc__criterion=gini, rfc__max_depth=None, rfc__min_samples_leaf=2, rfc__n_estimators=100, score=0.663, total=   2.7s\n",
      "[CV] rfc__criterion=gini, rfc__max_depth=None, rfc__min_samples_leaf=2, rfc__n_estimators=100 \n",
      "[CV]  rfc__criterion=gini, rfc__max_depth=None, rfc__min_samples_leaf=2, rfc__n_estimators=100, score=0.666, total=   2.9s\n",
      "[CV] rfc__criterion=gini, rfc__max_depth=None, rfc__min_samples_leaf=2, rfc__n_estimators=100 \n",
      "[CV]  rfc__criterion=gini, rfc__max_depth=None, rfc__min_samples_leaf=2, rfc__n_estimators=100, score=0.661, total=   3.0s\n",
      "[CV] rfc__criterion=gini, rfc__max_depth=None, rfc__min_samples_leaf=2, rfc__n_estimators=100 \n",
      "[CV]  rfc__criterion=gini, rfc__max_depth=None, rfc__min_samples_leaf=2, rfc__n_estimators=100, score=0.658, total=   2.6s\n",
      "[CV] rfc__criterion=gini, rfc__max_depth=None, rfc__min_samples_leaf=2, rfc__n_estimators=500 \n",
      "[CV]  rfc__criterion=gini, rfc__max_depth=None, rfc__min_samples_leaf=2, rfc__n_estimators=500, score=0.666, total=  13.1s\n",
      "[CV] rfc__criterion=gini, rfc__max_depth=None, rfc__min_samples_leaf=2, rfc__n_estimators=500 \n",
      "[CV]  rfc__criterion=gini, rfc__max_depth=None, rfc__min_samples_leaf=2, rfc__n_estimators=500, score=0.665, total=  11.3s\n",
      "[CV] rfc__criterion=gini, rfc__max_depth=None, rfc__min_samples_leaf=2, rfc__n_estimators=500 \n",
      "[CV]  rfc__criterion=gini, rfc__max_depth=None, rfc__min_samples_leaf=2, rfc__n_estimators=500, score=0.663, total=  11.3s\n",
      "[CV] rfc__criterion=gini, rfc__max_depth=None, rfc__min_samples_leaf=2, rfc__n_estimators=500 \n",
      "[CV]  rfc__criterion=gini, rfc__max_depth=None, rfc__min_samples_leaf=2, rfc__n_estimators=500, score=0.660, total=  11.2s\n",
      "[CV] rfc__criterion=gini, rfc__max_depth=None, rfc__min_samples_leaf=2, rfc__n_estimators=500 \n"
     ]
    },
    {
     "name": "stdout",
     "output_type": "stream",
     "text": [
      "[CV]  rfc__criterion=gini, rfc__max_depth=None, rfc__min_samples_leaf=2, rfc__n_estimators=500, score=0.665, total=  11.2s\n",
      "[CV] rfc__criterion=gini, rfc__max_depth=None, rfc__min_samples_leaf=4, rfc__n_estimators=100 \n",
      "[CV]  rfc__criterion=gini, rfc__max_depth=None, rfc__min_samples_leaf=4, rfc__n_estimators=100, score=0.665, total=   2.3s\n",
      "[CV] rfc__criterion=gini, rfc__max_depth=None, rfc__min_samples_leaf=4, rfc__n_estimators=100 \n",
      "[CV]  rfc__criterion=gini, rfc__max_depth=None, rfc__min_samples_leaf=4, rfc__n_estimators=100, score=0.663, total=   2.2s\n",
      "[CV] rfc__criterion=gini, rfc__max_depth=None, rfc__min_samples_leaf=4, rfc__n_estimators=100 \n",
      "[CV]  rfc__criterion=gini, rfc__max_depth=None, rfc__min_samples_leaf=4, rfc__n_estimators=100, score=0.663, total=   2.3s\n",
      "[CV] rfc__criterion=gini, rfc__max_depth=None, rfc__min_samples_leaf=4, rfc__n_estimators=100 \n",
      "[CV]  rfc__criterion=gini, rfc__max_depth=None, rfc__min_samples_leaf=4, rfc__n_estimators=100, score=0.657, total=   2.2s\n",
      "[CV] rfc__criterion=gini, rfc__max_depth=None, rfc__min_samples_leaf=4, rfc__n_estimators=100 \n",
      "[CV]  rfc__criterion=gini, rfc__max_depth=None, rfc__min_samples_leaf=4, rfc__n_estimators=100, score=0.661, total=   2.2s\n",
      "[CV] rfc__criterion=gini, rfc__max_depth=None, rfc__min_samples_leaf=4, rfc__n_estimators=500 \n",
      "[CV]  rfc__criterion=gini, rfc__max_depth=None, rfc__min_samples_leaf=4, rfc__n_estimators=500, score=0.666, total=  11.1s\n",
      "[CV] rfc__criterion=gini, rfc__max_depth=None, rfc__min_samples_leaf=4, rfc__n_estimators=500 \n",
      "[CV]  rfc__criterion=gini, rfc__max_depth=None, rfc__min_samples_leaf=4, rfc__n_estimators=500, score=0.664, total=  11.4s\n",
      "[CV] rfc__criterion=gini, rfc__max_depth=None, rfc__min_samples_leaf=4, rfc__n_estimators=500 \n",
      "[CV]  rfc__criterion=gini, rfc__max_depth=None, rfc__min_samples_leaf=4, rfc__n_estimators=500, score=0.666, total=  10.2s\n",
      "[CV] rfc__criterion=gini, rfc__max_depth=None, rfc__min_samples_leaf=4, rfc__n_estimators=500 \n",
      "[CV]  rfc__criterion=gini, rfc__max_depth=None, rfc__min_samples_leaf=4, rfc__n_estimators=500, score=0.658, total=  10.2s\n",
      "[CV] rfc__criterion=gini, rfc__max_depth=None, rfc__min_samples_leaf=4, rfc__n_estimators=500 \n",
      "[CV]  rfc__criterion=gini, rfc__max_depth=None, rfc__min_samples_leaf=4, rfc__n_estimators=500, score=0.663, total=  10.4s\n",
      "[CV] rfc__criterion=entropy, rfc__max_depth=3, rfc__min_samples_leaf=1, rfc__n_estimators=100 \n",
      "[CV]  rfc__criterion=entropy, rfc__max_depth=3, rfc__min_samples_leaf=1, rfc__n_estimators=100, score=0.529, total=   1.1s\n",
      "[CV] rfc__criterion=entropy, rfc__max_depth=3, rfc__min_samples_leaf=1, rfc__n_estimators=100 \n",
      "[CV]  rfc__criterion=entropy, rfc__max_depth=3, rfc__min_samples_leaf=1, rfc__n_estimators=100, score=0.531, total=   1.1s\n",
      "[CV] rfc__criterion=entropy, rfc__max_depth=3, rfc__min_samples_leaf=1, rfc__n_estimators=100 \n",
      "[CV]  rfc__criterion=entropy, rfc__max_depth=3, rfc__min_samples_leaf=1, rfc__n_estimators=100, score=0.538, total=   1.1s\n",
      "[CV] rfc__criterion=entropy, rfc__max_depth=3, rfc__min_samples_leaf=1, rfc__n_estimators=100 \n",
      "[CV]  rfc__criterion=entropy, rfc__max_depth=3, rfc__min_samples_leaf=1, rfc__n_estimators=100, score=0.543, total=   1.1s\n",
      "[CV] rfc__criterion=entropy, rfc__max_depth=3, rfc__min_samples_leaf=1, rfc__n_estimators=100 \n",
      "[CV]  rfc__criterion=entropy, rfc__max_depth=3, rfc__min_samples_leaf=1, rfc__n_estimators=100, score=0.531, total=   1.1s\n",
      "[CV] rfc__criterion=entropy, rfc__max_depth=3, rfc__min_samples_leaf=1, rfc__n_estimators=500 \n",
      "[CV]  rfc__criterion=entropy, rfc__max_depth=3, rfc__min_samples_leaf=1, rfc__n_estimators=500, score=0.519, total=   4.6s\n",
      "[CV] rfc__criterion=entropy, rfc__max_depth=3, rfc__min_samples_leaf=1, rfc__n_estimators=500 \n",
      "[CV]  rfc__criterion=entropy, rfc__max_depth=3, rfc__min_samples_leaf=1, rfc__n_estimators=500, score=0.521, total=   4.7s\n",
      "[CV] rfc__criterion=entropy, rfc__max_depth=3, rfc__min_samples_leaf=1, rfc__n_estimators=500 \n",
      "[CV]  rfc__criterion=entropy, rfc__max_depth=3, rfc__min_samples_leaf=1, rfc__n_estimators=500, score=0.525, total=   4.7s\n",
      "[CV] rfc__criterion=entropy, rfc__max_depth=3, rfc__min_samples_leaf=1, rfc__n_estimators=500 \n",
      "[CV]  rfc__criterion=entropy, rfc__max_depth=3, rfc__min_samples_leaf=1, rfc__n_estimators=500, score=0.528, total=   4.7s\n",
      "[CV] rfc__criterion=entropy, rfc__max_depth=3, rfc__min_samples_leaf=1, rfc__n_estimators=500 \n",
      "[CV]  rfc__criterion=entropy, rfc__max_depth=3, rfc__min_samples_leaf=1, rfc__n_estimators=500, score=0.527, total=   5.0s\n",
      "[CV] rfc__criterion=entropy, rfc__max_depth=3, rfc__min_samples_leaf=2, rfc__n_estimators=100 \n",
      "[CV]  rfc__criterion=entropy, rfc__max_depth=3, rfc__min_samples_leaf=2, rfc__n_estimators=100, score=0.529, total=   1.2s\n",
      "[CV] rfc__criterion=entropy, rfc__max_depth=3, rfc__min_samples_leaf=2, rfc__n_estimators=100 \n",
      "[CV]  rfc__criterion=entropy, rfc__max_depth=3, rfc__min_samples_leaf=2, rfc__n_estimators=100, score=0.531, total=   1.2s\n",
      "[CV] rfc__criterion=entropy, rfc__max_depth=3, rfc__min_samples_leaf=2, rfc__n_estimators=100 \n",
      "[CV]  rfc__criterion=entropy, rfc__max_depth=3, rfc__min_samples_leaf=2, rfc__n_estimators=100, score=0.538, total=   1.2s\n",
      "[CV] rfc__criterion=entropy, rfc__max_depth=3, rfc__min_samples_leaf=2, rfc__n_estimators=100 \n",
      "[CV]  rfc__criterion=entropy, rfc__max_depth=3, rfc__min_samples_leaf=2, rfc__n_estimators=100, score=0.543, total=   1.2s\n",
      "[CV] rfc__criterion=entropy, rfc__max_depth=3, rfc__min_samples_leaf=2, rfc__n_estimators=100 \n",
      "[CV]  rfc__criterion=entropy, rfc__max_depth=3, rfc__min_samples_leaf=2, rfc__n_estimators=100, score=0.531, total=   1.4s\n",
      "[CV] rfc__criterion=entropy, rfc__max_depth=3, rfc__min_samples_leaf=2, rfc__n_estimators=500 \n",
      "[CV]  rfc__criterion=entropy, rfc__max_depth=3, rfc__min_samples_leaf=2, rfc__n_estimators=500, score=0.519, total=   5.5s\n",
      "[CV] rfc__criterion=entropy, rfc__max_depth=3, rfc__min_samples_leaf=2, rfc__n_estimators=500 \n",
      "[CV]  rfc__criterion=entropy, rfc__max_depth=3, rfc__min_samples_leaf=2, rfc__n_estimators=500, score=0.521, total=   5.5s\n",
      "[CV] rfc__criterion=entropy, rfc__max_depth=3, rfc__min_samples_leaf=2, rfc__n_estimators=500 \n",
      "[CV]  rfc__criterion=entropy, rfc__max_depth=3, rfc__min_samples_leaf=2, rfc__n_estimators=500, score=0.525, total=   5.3s\n",
      "[CV] rfc__criterion=entropy, rfc__max_depth=3, rfc__min_samples_leaf=2, rfc__n_estimators=500 \n",
      "[CV]  rfc__criterion=entropy, rfc__max_depth=3, rfc__min_samples_leaf=2, rfc__n_estimators=500, score=0.528, total=   5.7s\n",
      "[CV] rfc__criterion=entropy, rfc__max_depth=3, rfc__min_samples_leaf=2, rfc__n_estimators=500 \n",
      "[CV]  rfc__criterion=entropy, rfc__max_depth=3, rfc__min_samples_leaf=2, rfc__n_estimators=500, score=0.527, total=   5.2s\n",
      "[CV] rfc__criterion=entropy, rfc__max_depth=3, rfc__min_samples_leaf=4, rfc__n_estimators=100 \n",
      "[CV]  rfc__criterion=entropy, rfc__max_depth=3, rfc__min_samples_leaf=4, rfc__n_estimators=100, score=0.530, total=   1.4s\n",
      "[CV] rfc__criterion=entropy, rfc__max_depth=3, rfc__min_samples_leaf=4, rfc__n_estimators=100 \n",
      "[CV]  rfc__criterion=entropy, rfc__max_depth=3, rfc__min_samples_leaf=4, rfc__n_estimators=100, score=0.531, total=   1.3s\n",
      "[CV] rfc__criterion=entropy, rfc__max_depth=3, rfc__min_samples_leaf=4, rfc__n_estimators=100 \n",
      "[CV]  rfc__criterion=entropy, rfc__max_depth=3, rfc__min_samples_leaf=4, rfc__n_estimators=100, score=0.538, total=   1.2s\n",
      "[CV] rfc__criterion=entropy, rfc__max_depth=3, rfc__min_samples_leaf=4, rfc__n_estimators=100 \n",
      "[CV]  rfc__criterion=entropy, rfc__max_depth=3, rfc__min_samples_leaf=4, rfc__n_estimators=100, score=0.543, total=   1.3s\n",
      "[CV] rfc__criterion=entropy, rfc__max_depth=3, rfc__min_samples_leaf=4, rfc__n_estimators=100 \n",
      "[CV]  rfc__criterion=entropy, rfc__max_depth=3, rfc__min_samples_leaf=4, rfc__n_estimators=100, score=0.531, total=   1.3s\n",
      "[CV] rfc__criterion=entropy, rfc__max_depth=3, rfc__min_samples_leaf=4, rfc__n_estimators=500 \n",
      "[CV]  rfc__criterion=entropy, rfc__max_depth=3, rfc__min_samples_leaf=4, rfc__n_estimators=500, score=0.519, total=   5.7s\n",
      "[CV] rfc__criterion=entropy, rfc__max_depth=3, rfc__min_samples_leaf=4, rfc__n_estimators=500 \n",
      "[CV]  rfc__criterion=entropy, rfc__max_depth=3, rfc__min_samples_leaf=4, rfc__n_estimators=500, score=0.521, total=   4.8s\n",
      "[CV] rfc__criterion=entropy, rfc__max_depth=3, rfc__min_samples_leaf=4, rfc__n_estimators=500 \n"
     ]
    },
    {
     "name": "stdout",
     "output_type": "stream",
     "text": [
      "[CV]  rfc__criterion=entropy, rfc__max_depth=3, rfc__min_samples_leaf=4, rfc__n_estimators=500, score=0.525, total=   4.6s\n",
      "[CV] rfc__criterion=entropy, rfc__max_depth=3, rfc__min_samples_leaf=4, rfc__n_estimators=500 \n",
      "[CV]  rfc__criterion=entropy, rfc__max_depth=3, rfc__min_samples_leaf=4, rfc__n_estimators=500, score=0.528, total=   4.7s\n",
      "[CV] rfc__criterion=entropy, rfc__max_depth=3, rfc__min_samples_leaf=4, rfc__n_estimators=500 \n",
      "[CV]  rfc__criterion=entropy, rfc__max_depth=3, rfc__min_samples_leaf=4, rfc__n_estimators=500, score=0.527, total=   4.7s\n",
      "[CV] rfc__criterion=entropy, rfc__max_depth=10, rfc__min_samples_leaf=1, rfc__n_estimators=100 \n",
      "[CV]  rfc__criterion=entropy, rfc__max_depth=10, rfc__min_samples_leaf=1, rfc__n_estimators=100, score=0.634, total=   1.9s\n",
      "[CV] rfc__criterion=entropy, rfc__max_depth=10, rfc__min_samples_leaf=1, rfc__n_estimators=100 \n",
      "[CV]  rfc__criterion=entropy, rfc__max_depth=10, rfc__min_samples_leaf=1, rfc__n_estimators=100, score=0.644, total=   1.9s\n",
      "[CV] rfc__criterion=entropy, rfc__max_depth=10, rfc__min_samples_leaf=1, rfc__n_estimators=100 \n",
      "[CV]  rfc__criterion=entropy, rfc__max_depth=10, rfc__min_samples_leaf=1, rfc__n_estimators=100, score=0.644, total=   1.8s\n",
      "[CV] rfc__criterion=entropy, rfc__max_depth=10, rfc__min_samples_leaf=1, rfc__n_estimators=100 \n",
      "[CV]  rfc__criterion=entropy, rfc__max_depth=10, rfc__min_samples_leaf=1, rfc__n_estimators=100, score=0.641, total=   1.8s\n",
      "[CV] rfc__criterion=entropy, rfc__max_depth=10, rfc__min_samples_leaf=1, rfc__n_estimators=100 \n",
      "[CV]  rfc__criterion=entropy, rfc__max_depth=10, rfc__min_samples_leaf=1, rfc__n_estimators=100, score=0.644, total=   1.8s\n",
      "[CV] rfc__criterion=entropy, rfc__max_depth=10, rfc__min_samples_leaf=1, rfc__n_estimators=500 \n",
      "[CV]  rfc__criterion=entropy, rfc__max_depth=10, rfc__min_samples_leaf=1, rfc__n_estimators=500, score=0.640, total=   9.3s\n",
      "[CV] rfc__criterion=entropy, rfc__max_depth=10, rfc__min_samples_leaf=1, rfc__n_estimators=500 \n",
      "[CV]  rfc__criterion=entropy, rfc__max_depth=10, rfc__min_samples_leaf=1, rfc__n_estimators=500, score=0.647, total=   8.3s\n",
      "[CV] rfc__criterion=entropy, rfc__max_depth=10, rfc__min_samples_leaf=1, rfc__n_estimators=500 \n",
      "[CV]  rfc__criterion=entropy, rfc__max_depth=10, rfc__min_samples_leaf=1, rfc__n_estimators=500, score=0.640, total=   8.0s\n",
      "[CV] rfc__criterion=entropy, rfc__max_depth=10, rfc__min_samples_leaf=1, rfc__n_estimators=500 \n",
      "[CV]  rfc__criterion=entropy, rfc__max_depth=10, rfc__min_samples_leaf=1, rfc__n_estimators=500, score=0.641, total=   8.1s\n",
      "[CV] rfc__criterion=entropy, rfc__max_depth=10, rfc__min_samples_leaf=1, rfc__n_estimators=500 \n",
      "[CV]  rfc__criterion=entropy, rfc__max_depth=10, rfc__min_samples_leaf=1, rfc__n_estimators=500, score=0.646, total=   8.1s\n",
      "[CV] rfc__criterion=entropy, rfc__max_depth=10, rfc__min_samples_leaf=2, rfc__n_estimators=100 \n",
      "[CV]  rfc__criterion=entropy, rfc__max_depth=10, rfc__min_samples_leaf=2, rfc__n_estimators=100, score=0.642, total=   1.8s\n",
      "[CV] rfc__criterion=entropy, rfc__max_depth=10, rfc__min_samples_leaf=2, rfc__n_estimators=100 \n",
      "[CV]  rfc__criterion=entropy, rfc__max_depth=10, rfc__min_samples_leaf=2, rfc__n_estimators=100, score=0.649, total=   1.8s\n",
      "[CV] rfc__criterion=entropy, rfc__max_depth=10, rfc__min_samples_leaf=2, rfc__n_estimators=100 \n",
      "[CV]  rfc__criterion=entropy, rfc__max_depth=10, rfc__min_samples_leaf=2, rfc__n_estimators=100, score=0.640, total=   1.8s\n",
      "[CV] rfc__criterion=entropy, rfc__max_depth=10, rfc__min_samples_leaf=2, rfc__n_estimators=100 \n",
      "[CV]  rfc__criterion=entropy, rfc__max_depth=10, rfc__min_samples_leaf=2, rfc__n_estimators=100, score=0.645, total=   1.8s\n",
      "[CV] rfc__criterion=entropy, rfc__max_depth=10, rfc__min_samples_leaf=2, rfc__n_estimators=100 \n",
      "[CV]  rfc__criterion=entropy, rfc__max_depth=10, rfc__min_samples_leaf=2, rfc__n_estimators=100, score=0.640, total=   1.8s\n",
      "[CV] rfc__criterion=entropy, rfc__max_depth=10, rfc__min_samples_leaf=2, rfc__n_estimators=500 \n",
      "[CV]  rfc__criterion=entropy, rfc__max_depth=10, rfc__min_samples_leaf=2, rfc__n_estimators=500, score=0.639, total=   7.9s\n",
      "[CV] rfc__criterion=entropy, rfc__max_depth=10, rfc__min_samples_leaf=2, rfc__n_estimators=500 \n",
      "[CV]  rfc__criterion=entropy, rfc__max_depth=10, rfc__min_samples_leaf=2, rfc__n_estimators=500, score=0.644, total=   8.0s\n",
      "[CV] rfc__criterion=entropy, rfc__max_depth=10, rfc__min_samples_leaf=2, rfc__n_estimators=500 \n",
      "[CV]  rfc__criterion=entropy, rfc__max_depth=10, rfc__min_samples_leaf=2, rfc__n_estimators=500, score=0.639, total=   8.0s\n",
      "[CV] rfc__criterion=entropy, rfc__max_depth=10, rfc__min_samples_leaf=2, rfc__n_estimators=500 \n",
      "[CV]  rfc__criterion=entropy, rfc__max_depth=10, rfc__min_samples_leaf=2, rfc__n_estimators=500, score=0.643, total=   8.0s\n",
      "[CV] rfc__criterion=entropy, rfc__max_depth=10, rfc__min_samples_leaf=2, rfc__n_estimators=500 \n",
      "[CV]  rfc__criterion=entropy, rfc__max_depth=10, rfc__min_samples_leaf=2, rfc__n_estimators=500, score=0.643, total=   8.7s\n",
      "[CV] rfc__criterion=entropy, rfc__max_depth=10, rfc__min_samples_leaf=4, rfc__n_estimators=100 \n",
      "[CV]  rfc__criterion=entropy, rfc__max_depth=10, rfc__min_samples_leaf=4, rfc__n_estimators=100, score=0.631, total=   2.0s\n",
      "[CV] rfc__criterion=entropy, rfc__max_depth=10, rfc__min_samples_leaf=4, rfc__n_estimators=100 \n",
      "[CV]  rfc__criterion=entropy, rfc__max_depth=10, rfc__min_samples_leaf=4, rfc__n_estimators=100, score=0.640, total=   1.8s\n",
      "[CV] rfc__criterion=entropy, rfc__max_depth=10, rfc__min_samples_leaf=4, rfc__n_estimators=100 \n",
      "[CV]  rfc__criterion=entropy, rfc__max_depth=10, rfc__min_samples_leaf=4, rfc__n_estimators=100, score=0.640, total=   1.8s\n",
      "[CV] rfc__criterion=entropy, rfc__max_depth=10, rfc__min_samples_leaf=4, rfc__n_estimators=100 \n",
      "[CV]  rfc__criterion=entropy, rfc__max_depth=10, rfc__min_samples_leaf=4, rfc__n_estimators=100, score=0.635, total=   1.8s\n",
      "[CV] rfc__criterion=entropy, rfc__max_depth=10, rfc__min_samples_leaf=4, rfc__n_estimators=100 \n",
      "[CV]  rfc__criterion=entropy, rfc__max_depth=10, rfc__min_samples_leaf=4, rfc__n_estimators=100, score=0.638, total=   1.7s\n",
      "[CV] rfc__criterion=entropy, rfc__max_depth=10, rfc__min_samples_leaf=4, rfc__n_estimators=500 \n",
      "[CV]  rfc__criterion=entropy, rfc__max_depth=10, rfc__min_samples_leaf=4, rfc__n_estimators=500, score=0.632, total=   7.9s\n",
      "[CV] rfc__criterion=entropy, rfc__max_depth=10, rfc__min_samples_leaf=4, rfc__n_estimators=500 \n",
      "[CV]  rfc__criterion=entropy, rfc__max_depth=10, rfc__min_samples_leaf=4, rfc__n_estimators=500, score=0.644, total=   8.0s\n",
      "[CV] rfc__criterion=entropy, rfc__max_depth=10, rfc__min_samples_leaf=4, rfc__n_estimators=500 \n",
      "[CV]  rfc__criterion=entropy, rfc__max_depth=10, rfc__min_samples_leaf=4, rfc__n_estimators=500, score=0.637, total=   7.8s\n",
      "[CV] rfc__criterion=entropy, rfc__max_depth=10, rfc__min_samples_leaf=4, rfc__n_estimators=500 \n",
      "[CV]  rfc__criterion=entropy, rfc__max_depth=10, rfc__min_samples_leaf=4, rfc__n_estimators=500, score=0.637, total=   7.8s\n",
      "[CV] rfc__criterion=entropy, rfc__max_depth=10, rfc__min_samples_leaf=4, rfc__n_estimators=500 \n",
      "[CV]  rfc__criterion=entropy, rfc__max_depth=10, rfc__min_samples_leaf=4, rfc__n_estimators=500, score=0.640, total=   7.9s\n",
      "[CV] rfc__criterion=entropy, rfc__max_depth=None, rfc__min_samples_leaf=1, rfc__n_estimators=100 \n",
      "[CV]  rfc__criterion=entropy, rfc__max_depth=None, rfc__min_samples_leaf=1, rfc__n_estimators=100, score=0.665, total=   2.8s\n",
      "[CV] rfc__criterion=entropy, rfc__max_depth=None, rfc__min_samples_leaf=1, rfc__n_estimators=100 \n",
      "[CV]  rfc__criterion=entropy, rfc__max_depth=None, rfc__min_samples_leaf=1, rfc__n_estimators=100, score=0.659, total=   2.8s\n",
      "[CV] rfc__criterion=entropy, rfc__max_depth=None, rfc__min_samples_leaf=1, rfc__n_estimators=100 \n",
      "[CV]  rfc__criterion=entropy, rfc__max_depth=None, rfc__min_samples_leaf=1, rfc__n_estimators=100, score=0.657, total=   2.9s\n",
      "[CV] rfc__criterion=entropy, rfc__max_depth=None, rfc__min_samples_leaf=1, rfc__n_estimators=100 \n",
      "[CV]  rfc__criterion=entropy, rfc__max_depth=None, rfc__min_samples_leaf=1, rfc__n_estimators=100, score=0.663, total=   2.9s\n",
      "[CV] rfc__criterion=entropy, rfc__max_depth=None, rfc__min_samples_leaf=1, rfc__n_estimators=100 \n",
      "[CV]  rfc__criterion=entropy, rfc__max_depth=None, rfc__min_samples_leaf=1, rfc__n_estimators=100, score=0.658, total=   3.2s\n",
      "[CV] rfc__criterion=entropy, rfc__max_depth=None, rfc__min_samples_leaf=1, rfc__n_estimators=500 \n"
     ]
    },
    {
     "name": "stdout",
     "output_type": "stream",
     "text": [
      "[CV]  rfc__criterion=entropy, rfc__max_depth=None, rfc__min_samples_leaf=1, rfc__n_estimators=500, score=0.665, total=  14.1s\n",
      "[CV] rfc__criterion=entropy, rfc__max_depth=None, rfc__min_samples_leaf=1, rfc__n_estimators=500 \n",
      "[CV]  rfc__criterion=entropy, rfc__max_depth=None, rfc__min_samples_leaf=1, rfc__n_estimators=500, score=0.658, total=  13.4s\n",
      "[CV] rfc__criterion=entropy, rfc__max_depth=None, rfc__min_samples_leaf=1, rfc__n_estimators=500 \n",
      "[CV]  rfc__criterion=entropy, rfc__max_depth=None, rfc__min_samples_leaf=1, rfc__n_estimators=500, score=0.657, total=  13.4s\n",
      "[CV] rfc__criterion=entropy, rfc__max_depth=None, rfc__min_samples_leaf=1, rfc__n_estimators=500 \n",
      "[CV]  rfc__criterion=entropy, rfc__max_depth=None, rfc__min_samples_leaf=1, rfc__n_estimators=500, score=0.664, total=  13.6s\n",
      "[CV] rfc__criterion=entropy, rfc__max_depth=None, rfc__min_samples_leaf=1, rfc__n_estimators=500 \n",
      "[CV]  rfc__criterion=entropy, rfc__max_depth=None, rfc__min_samples_leaf=1, rfc__n_estimators=500, score=0.659, total=  13.4s\n",
      "[CV] rfc__criterion=entropy, rfc__max_depth=None, rfc__min_samples_leaf=2, rfc__n_estimators=100 \n",
      "[CV]  rfc__criterion=entropy, rfc__max_depth=None, rfc__min_samples_leaf=2, rfc__n_estimators=100, score=0.665, total=   2.5s\n",
      "[CV] rfc__criterion=entropy, rfc__max_depth=None, rfc__min_samples_leaf=2, rfc__n_estimators=100 \n",
      "[CV]  rfc__criterion=entropy, rfc__max_depth=None, rfc__min_samples_leaf=2, rfc__n_estimators=100, score=0.665, total=   2.5s\n",
      "[CV] rfc__criterion=entropy, rfc__max_depth=None, rfc__min_samples_leaf=2, rfc__n_estimators=100 \n",
      "[CV]  rfc__criterion=entropy, rfc__max_depth=None, rfc__min_samples_leaf=2, rfc__n_estimators=100, score=0.665, total=   2.5s\n",
      "[CV] rfc__criterion=entropy, rfc__max_depth=None, rfc__min_samples_leaf=2, rfc__n_estimators=100 \n",
      "[CV]  rfc__criterion=entropy, rfc__max_depth=None, rfc__min_samples_leaf=2, rfc__n_estimators=100, score=0.660, total=   2.5s\n",
      "[CV] rfc__criterion=entropy, rfc__max_depth=None, rfc__min_samples_leaf=2, rfc__n_estimators=100 \n",
      "[CV]  rfc__criterion=entropy, rfc__max_depth=None, rfc__min_samples_leaf=2, rfc__n_estimators=100, score=0.663, total=   2.5s\n",
      "[CV] rfc__criterion=entropy, rfc__max_depth=None, rfc__min_samples_leaf=2, rfc__n_estimators=500 \n",
      "[CV]  rfc__criterion=entropy, rfc__max_depth=None, rfc__min_samples_leaf=2, rfc__n_estimators=500, score=0.667, total=  11.5s\n",
      "[CV] rfc__criterion=entropy, rfc__max_depth=None, rfc__min_samples_leaf=2, rfc__n_estimators=500 \n",
      "[CV]  rfc__criterion=entropy, rfc__max_depth=None, rfc__min_samples_leaf=2, rfc__n_estimators=500, score=0.666, total=  12.8s\n",
      "[CV] rfc__criterion=entropy, rfc__max_depth=None, rfc__min_samples_leaf=2, rfc__n_estimators=500 \n",
      "[CV]  rfc__criterion=entropy, rfc__max_depth=None, rfc__min_samples_leaf=2, rfc__n_estimators=500, score=0.663, total=  11.5s\n",
      "[CV] rfc__criterion=entropy, rfc__max_depth=None, rfc__min_samples_leaf=2, rfc__n_estimators=500 \n",
      "[CV]  rfc__criterion=entropy, rfc__max_depth=None, rfc__min_samples_leaf=2, rfc__n_estimators=500, score=0.661, total=  11.6s\n",
      "[CV] rfc__criterion=entropy, rfc__max_depth=None, rfc__min_samples_leaf=2, rfc__n_estimators=500 \n",
      "[CV]  rfc__criterion=entropy, rfc__max_depth=None, rfc__min_samples_leaf=2, rfc__n_estimators=500, score=0.664, total=  11.5s\n",
      "[CV] rfc__criterion=entropy, rfc__max_depth=None, rfc__min_samples_leaf=4, rfc__n_estimators=100 \n",
      "[CV]  rfc__criterion=entropy, rfc__max_depth=None, rfc__min_samples_leaf=4, rfc__n_estimators=100, score=0.667, total=   2.2s\n",
      "[CV] rfc__criterion=entropy, rfc__max_depth=None, rfc__min_samples_leaf=4, rfc__n_estimators=100 \n",
      "[CV]  rfc__criterion=entropy, rfc__max_depth=None, rfc__min_samples_leaf=4, rfc__n_estimators=100, score=0.661, total=   2.3s\n",
      "[CV] rfc__criterion=entropy, rfc__max_depth=None, rfc__min_samples_leaf=4, rfc__n_estimators=100 \n",
      "[CV]  rfc__criterion=entropy, rfc__max_depth=None, rfc__min_samples_leaf=4, rfc__n_estimators=100, score=0.661, total=   2.3s\n",
      "[CV] rfc__criterion=entropy, rfc__max_depth=None, rfc__min_samples_leaf=4, rfc__n_estimators=100 \n",
      "[CV]  rfc__criterion=entropy, rfc__max_depth=None, rfc__min_samples_leaf=4, rfc__n_estimators=100, score=0.657, total=   2.3s\n",
      "[CV] rfc__criterion=entropy, rfc__max_depth=None, rfc__min_samples_leaf=4, rfc__n_estimators=100 \n",
      "[CV]  rfc__criterion=entropy, rfc__max_depth=None, rfc__min_samples_leaf=4, rfc__n_estimators=100, score=0.662, total=   2.3s\n",
      "[CV] rfc__criterion=entropy, rfc__max_depth=None, rfc__min_samples_leaf=4, rfc__n_estimators=500 \n",
      "[CV]  rfc__criterion=entropy, rfc__max_depth=None, rfc__min_samples_leaf=4, rfc__n_estimators=500, score=0.666, total=  10.4s\n",
      "[CV] rfc__criterion=entropy, rfc__max_depth=None, rfc__min_samples_leaf=4, rfc__n_estimators=500 \n",
      "[CV]  rfc__criterion=entropy, rfc__max_depth=None, rfc__min_samples_leaf=4, rfc__n_estimators=500, score=0.662, total=  10.4s\n",
      "[CV] rfc__criterion=entropy, rfc__max_depth=None, rfc__min_samples_leaf=4, rfc__n_estimators=500 \n",
      "[CV]  rfc__criterion=entropy, rfc__max_depth=None, rfc__min_samples_leaf=4, rfc__n_estimators=500, score=0.662, total=  10.5s\n",
      "[CV] rfc__criterion=entropy, rfc__max_depth=None, rfc__min_samples_leaf=4, rfc__n_estimators=500 \n",
      "[CV]  rfc__criterion=entropy, rfc__max_depth=None, rfc__min_samples_leaf=4, rfc__n_estimators=500, score=0.655, total=  10.8s\n",
      "[CV] rfc__criterion=entropy, rfc__max_depth=None, rfc__min_samples_leaf=4, rfc__n_estimators=500 \n",
      "[CV]  rfc__criterion=entropy, rfc__max_depth=None, rfc__min_samples_leaf=4, rfc__n_estimators=500, score=0.664, total=  10.6s\n"
     ]
    },
    {
     "name": "stderr",
     "output_type": "stream",
     "text": [
      "[Parallel(n_jobs=1)]: Done 180 out of 180 | elapsed: 15.8min finished\n"
     ]
    },
    {
     "name": "stdout",
     "output_type": "stream",
     "text": [
      "+++++++++++++\n",
      "RandomForestClassifier\n",
      "+++++++++++++\n",
      "Mean_Test Score\n",
      "-------------\n",
      "[0.53677875 0.52699546 0.53677875 0.52699546 0.53677875 0.52699546\n",
      " 0.64249222 0.6442805  0.64125512 0.6432719  0.63836379 0.63880592\n",
      " 0.66035738 0.66081198 0.66326909 0.66397509 0.66194867 0.66341208\n",
      " 0.5345104  0.5242863  0.5345104  0.5242863  0.53471617 0.52427253\n",
      " 0.64154391 0.64293518 0.64329247 0.64175872 0.63666598 0.63803115\n",
      " 0.66036609 0.66083056 0.66369623 0.66414463 0.66164187 0.66203503]\n",
      "-------------\n",
      "Best Params\n",
      "-------------\n",
      "{'rfc__criterion': 'entropy', 'rfc__max_depth': None, 'rfc__min_samples_leaf': 2, 'rfc__n_estimators': 500}\n"
     ]
    }
   ],
   "source": [
    "gs = GridSearchCV(rfc_pipeline, rfc_param_grid, cv=5, scoring='recall_macro', verbose=3)\n",
    "gs.fit(X_train, y_train)\n",
    "print('+++++++++++++')\n",
    "print('RandomForestClassifier')\n",
    "print('+++++++++++++')\n",
    "print('Mean_Test Score')\n",
    "print('-------------')\n",
    "print(gs.cv_results_['mean_test_score'])\n",
    "print('-------------')\n",
    "print('Best Params')\n",
    "print('-------------')\n",
    "print(gs.best_params_)"
   ]
  },
  {
   "cell_type": "code",
   "execution_count": 93,
   "metadata": {
    "scrolled": true
   },
   "outputs": [
    {
     "name": "stdout",
     "output_type": "stream",
     "text": [
      "Fitting 5 folds for each of 80 candidates, totalling 400 fits\n",
      "[CV] lf__C=1.0, lf__penalty=l1, lf__solver=newton-cg .................\n",
      "[CV]  lf__C=1.0, lf__penalty=l1, lf__solver=newton-cg, score=nan, total=   0.1s\n",
      "[CV] lf__C=1.0, lf__penalty=l1, lf__solver=newton-cg .................\n"
     ]
    },
    {
     "name": "stderr",
     "output_type": "stream",
     "text": [
      "[Parallel(n_jobs=1)]: Using backend SequentialBackend with 1 concurrent workers.\n",
      "C:\\Users\\drago\\anaconda3\\envs\\learn-env\\lib\\site-packages\\sklearn\\model_selection\\_validation.py:548: FitFailedWarning: Estimator fit failed. The score on this train-test partition for these parameters will be set to nan. Details: \n",
      "Traceback (most recent call last):\n",
      "  File \"C:\\Users\\drago\\anaconda3\\envs\\learn-env\\lib\\site-packages\\sklearn\\model_selection\\_validation.py\", line 531, in _fit_and_score\n",
      "    estimator.fit(X_train, y_train, **fit_params)\n",
      "  File \"C:\\Users\\drago\\anaconda3\\envs\\learn-env\\lib\\site-packages\\sklearn\\pipeline.py\", line 335, in fit\n",
      "    self._final_estimator.fit(Xt, y, **fit_params_last_step)\n",
      "  File \"C:\\Users\\drago\\anaconda3\\envs\\learn-env\\lib\\site-packages\\sklearn\\linear_model\\_logistic.py\", line 1304, in fit\n",
      "    solver = _check_solver(self.solver, self.penalty, self.dual)\n",
      "  File \"C:\\Users\\drago\\anaconda3\\envs\\learn-env\\lib\\site-packages\\sklearn\\linear_model\\_logistic.py\", line 442, in _check_solver\n",
      "    raise ValueError(\"Solver %s supports only 'l2' or 'none' penalties, \"\n",
      "ValueError: Solver newton-cg supports only 'l2' or 'none' penalties, got l1 penalty.\n",
      "\n",
      "  warnings.warn(\"Estimator fit failed. The score on this train-test\"\n",
      "[Parallel(n_jobs=1)]: Done   1 out of   1 | elapsed:    0.0s remaining:    0.0s\n"
     ]
    },
    {
     "name": "stdout",
     "output_type": "stream",
     "text": [
      "[CV]  lf__C=1.0, lf__penalty=l1, lf__solver=newton-cg, score=nan, total=   0.1s\n",
      "[CV] lf__C=1.0, lf__penalty=l1, lf__solver=newton-cg .................\n"
     ]
    },
    {
     "name": "stderr",
     "output_type": "stream",
     "text": [
      "C:\\Users\\drago\\anaconda3\\envs\\learn-env\\lib\\site-packages\\sklearn\\model_selection\\_validation.py:548: FitFailedWarning: Estimator fit failed. The score on this train-test partition for these parameters will be set to nan. Details: \n",
      "Traceback (most recent call last):\n",
      "  File \"C:\\Users\\drago\\anaconda3\\envs\\learn-env\\lib\\site-packages\\sklearn\\model_selection\\_validation.py\", line 531, in _fit_and_score\n",
      "    estimator.fit(X_train, y_train, **fit_params)\n",
      "  File \"C:\\Users\\drago\\anaconda3\\envs\\learn-env\\lib\\site-packages\\sklearn\\pipeline.py\", line 335, in fit\n",
      "    self._final_estimator.fit(Xt, y, **fit_params_last_step)\n",
      "  File \"C:\\Users\\drago\\anaconda3\\envs\\learn-env\\lib\\site-packages\\sklearn\\linear_model\\_logistic.py\", line 1304, in fit\n",
      "    solver = _check_solver(self.solver, self.penalty, self.dual)\n",
      "  File \"C:\\Users\\drago\\anaconda3\\envs\\learn-env\\lib\\site-packages\\sklearn\\linear_model\\_logistic.py\", line 442, in _check_solver\n",
      "    raise ValueError(\"Solver %s supports only 'l2' or 'none' penalties, \"\n",
      "ValueError: Solver newton-cg supports only 'l2' or 'none' penalties, got l1 penalty.\n",
      "\n",
      "  warnings.warn(\"Estimator fit failed. The score on this train-test\"\n",
      "[Parallel(n_jobs=1)]: Done   2 out of   2 | elapsed:    0.2s remaining:    0.0s\n",
      "C:\\Users\\drago\\anaconda3\\envs\\learn-env\\lib\\site-packages\\sklearn\\model_selection\\_validation.py:548: FitFailedWarning: Estimator fit failed. The score on this train-test partition for these parameters will be set to nan. Details: \n",
      "Traceback (most recent call last):\n",
      "  File \"C:\\Users\\drago\\anaconda3\\envs\\learn-env\\lib\\site-packages\\sklearn\\model_selection\\_validation.py\", line 531, in _fit_and_score\n",
      "    estimator.fit(X_train, y_train, **fit_params)\n",
      "  File \"C:\\Users\\drago\\anaconda3\\envs\\learn-env\\lib\\site-packages\\sklearn\\pipeline.py\", line 335, in fit\n",
      "    self._final_estimator.fit(Xt, y, **fit_params_last_step)\n",
      "  File \"C:\\Users\\drago\\anaconda3\\envs\\learn-env\\lib\\site-packages\\sklearn\\linear_model\\_logistic.py\", line 1304, in fit\n",
      "    solver = _check_solver(self.solver, self.penalty, self.dual)\n",
      "  File \"C:\\Users\\drago\\anaconda3\\envs\\learn-env\\lib\\site-packages\\sklearn\\linear_model\\_logistic.py\", line 442, in _check_solver\n",
      "    raise ValueError(\"Solver %s supports only 'l2' or 'none' penalties, \"\n",
      "ValueError: Solver newton-cg supports only 'l2' or 'none' penalties, got l1 penalty.\n",
      "\n",
      "  warnings.warn(\"Estimator fit failed. The score on this train-test\"\n"
     ]
    },
    {
     "name": "stdout",
     "output_type": "stream",
     "text": [
      "[CV]  lf__C=1.0, lf__penalty=l1, lf__solver=newton-cg, score=nan, total=   0.1s\n",
      "[CV] lf__C=1.0, lf__penalty=l1, lf__solver=newton-cg .................\n",
      "[CV]  lf__C=1.0, lf__penalty=l1, lf__solver=newton-cg, score=nan, total=   0.1s\n",
      "[CV] lf__C=1.0, lf__penalty=l1, lf__solver=newton-cg .................\n"
     ]
    },
    {
     "name": "stderr",
     "output_type": "stream",
     "text": [
      "C:\\Users\\drago\\anaconda3\\envs\\learn-env\\lib\\site-packages\\sklearn\\model_selection\\_validation.py:548: FitFailedWarning: Estimator fit failed. The score on this train-test partition for these parameters will be set to nan. Details: \n",
      "Traceback (most recent call last):\n",
      "  File \"C:\\Users\\drago\\anaconda3\\envs\\learn-env\\lib\\site-packages\\sklearn\\model_selection\\_validation.py\", line 531, in _fit_and_score\n",
      "    estimator.fit(X_train, y_train, **fit_params)\n",
      "  File \"C:\\Users\\drago\\anaconda3\\envs\\learn-env\\lib\\site-packages\\sklearn\\pipeline.py\", line 335, in fit\n",
      "    self._final_estimator.fit(Xt, y, **fit_params_last_step)\n",
      "  File \"C:\\Users\\drago\\anaconda3\\envs\\learn-env\\lib\\site-packages\\sklearn\\linear_model\\_logistic.py\", line 1304, in fit\n",
      "    solver = _check_solver(self.solver, self.penalty, self.dual)\n",
      "  File \"C:\\Users\\drago\\anaconda3\\envs\\learn-env\\lib\\site-packages\\sklearn\\linear_model\\_logistic.py\", line 442, in _check_solver\n",
      "    raise ValueError(\"Solver %s supports only 'l2' or 'none' penalties, \"\n",
      "ValueError: Solver newton-cg supports only 'l2' or 'none' penalties, got l1 penalty.\n",
      "\n",
      "  warnings.warn(\"Estimator fit failed. The score on this train-test\"\n",
      "C:\\Users\\drago\\anaconda3\\envs\\learn-env\\lib\\site-packages\\sklearn\\model_selection\\_validation.py:548: FitFailedWarning: Estimator fit failed. The score on this train-test partition for these parameters will be set to nan. Details: \n",
      "Traceback (most recent call last):\n",
      "  File \"C:\\Users\\drago\\anaconda3\\envs\\learn-env\\lib\\site-packages\\sklearn\\model_selection\\_validation.py\", line 531, in _fit_and_score\n",
      "    estimator.fit(X_train, y_train, **fit_params)\n",
      "  File \"C:\\Users\\drago\\anaconda3\\envs\\learn-env\\lib\\site-packages\\sklearn\\pipeline.py\", line 335, in fit\n",
      "    self._final_estimator.fit(Xt, y, **fit_params_last_step)\n",
      "  File \"C:\\Users\\drago\\anaconda3\\envs\\learn-env\\lib\\site-packages\\sklearn\\linear_model\\_logistic.py\", line 1304, in fit\n",
      "    solver = _check_solver(self.solver, self.penalty, self.dual)\n",
      "  File \"C:\\Users\\drago\\anaconda3\\envs\\learn-env\\lib\\site-packages\\sklearn\\linear_model\\_logistic.py\", line 442, in _check_solver\n",
      "    raise ValueError(\"Solver %s supports only 'l2' or 'none' penalties, \"\n",
      "ValueError: Solver newton-cg supports only 'l2' or 'none' penalties, got l1 penalty.\n",
      "\n",
      "  warnings.warn(\"Estimator fit failed. The score on this train-test\"\n"
     ]
    },
    {
     "name": "stdout",
     "output_type": "stream",
     "text": [
      "[CV]  lf__C=1.0, lf__penalty=l1, lf__solver=newton-cg, score=nan, total=   0.1s\n",
      "[CV] lf__C=1.0, lf__penalty=l1, lf__solver=lbfgs .....................\n",
      "[CV]  lf__C=1.0, lf__penalty=l1, lf__solver=lbfgs, score=nan, total=   0.1s\n",
      "[CV] lf__C=1.0, lf__penalty=l1, lf__solver=lbfgs .....................\n"
     ]
    },
    {
     "name": "stderr",
     "output_type": "stream",
     "text": [
      "C:\\Users\\drago\\anaconda3\\envs\\learn-env\\lib\\site-packages\\sklearn\\model_selection\\_validation.py:548: FitFailedWarning: Estimator fit failed. The score on this train-test partition for these parameters will be set to nan. Details: \n",
      "Traceback (most recent call last):\n",
      "  File \"C:\\Users\\drago\\anaconda3\\envs\\learn-env\\lib\\site-packages\\sklearn\\model_selection\\_validation.py\", line 531, in _fit_and_score\n",
      "    estimator.fit(X_train, y_train, **fit_params)\n",
      "  File \"C:\\Users\\drago\\anaconda3\\envs\\learn-env\\lib\\site-packages\\sklearn\\pipeline.py\", line 335, in fit\n",
      "    self._final_estimator.fit(Xt, y, **fit_params_last_step)\n",
      "  File \"C:\\Users\\drago\\anaconda3\\envs\\learn-env\\lib\\site-packages\\sklearn\\linear_model\\_logistic.py\", line 1304, in fit\n",
      "    solver = _check_solver(self.solver, self.penalty, self.dual)\n",
      "  File \"C:\\Users\\drago\\anaconda3\\envs\\learn-env\\lib\\site-packages\\sklearn\\linear_model\\_logistic.py\", line 442, in _check_solver\n",
      "    raise ValueError(\"Solver %s supports only 'l2' or 'none' penalties, \"\n",
      "ValueError: Solver lbfgs supports only 'l2' or 'none' penalties, got l1 penalty.\n",
      "\n",
      "  warnings.warn(\"Estimator fit failed. The score on this train-test\"\n",
      "C:\\Users\\drago\\anaconda3\\envs\\learn-env\\lib\\site-packages\\sklearn\\model_selection\\_validation.py:548: FitFailedWarning: Estimator fit failed. The score on this train-test partition for these parameters will be set to nan. Details: \n",
      "Traceback (most recent call last):\n",
      "  File \"C:\\Users\\drago\\anaconda3\\envs\\learn-env\\lib\\site-packages\\sklearn\\model_selection\\_validation.py\", line 531, in _fit_and_score\n",
      "    estimator.fit(X_train, y_train, **fit_params)\n",
      "  File \"C:\\Users\\drago\\anaconda3\\envs\\learn-env\\lib\\site-packages\\sklearn\\pipeline.py\", line 335, in fit\n",
      "    self._final_estimator.fit(Xt, y, **fit_params_last_step)\n",
      "  File \"C:\\Users\\drago\\anaconda3\\envs\\learn-env\\lib\\site-packages\\sklearn\\linear_model\\_logistic.py\", line 1304, in fit\n",
      "    solver = _check_solver(self.solver, self.penalty, self.dual)\n",
      "  File \"C:\\Users\\drago\\anaconda3\\envs\\learn-env\\lib\\site-packages\\sklearn\\linear_model\\_logistic.py\", line 442, in _check_solver\n",
      "    raise ValueError(\"Solver %s supports only 'l2' or 'none' penalties, \"\n",
      "ValueError: Solver lbfgs supports only 'l2' or 'none' penalties, got l1 penalty.\n",
      "\n",
      "  warnings.warn(\"Estimator fit failed. The score on this train-test\"\n"
     ]
    },
    {
     "name": "stdout",
     "output_type": "stream",
     "text": [
      "[CV]  lf__C=1.0, lf__penalty=l1, lf__solver=lbfgs, score=nan, total=   0.1s\n",
      "[CV] lf__C=1.0, lf__penalty=l1, lf__solver=lbfgs .....................\n",
      "[CV]  lf__C=1.0, lf__penalty=l1, lf__solver=lbfgs, score=nan, total=   0.1s\n",
      "[CV] lf__C=1.0, lf__penalty=l1, lf__solver=lbfgs .....................\n"
     ]
    },
    {
     "name": "stderr",
     "output_type": "stream",
     "text": [
      "C:\\Users\\drago\\anaconda3\\envs\\learn-env\\lib\\site-packages\\sklearn\\model_selection\\_validation.py:548: FitFailedWarning: Estimator fit failed. The score on this train-test partition for these parameters will be set to nan. Details: \n",
      "Traceback (most recent call last):\n",
      "  File \"C:\\Users\\drago\\anaconda3\\envs\\learn-env\\lib\\site-packages\\sklearn\\model_selection\\_validation.py\", line 531, in _fit_and_score\n",
      "    estimator.fit(X_train, y_train, **fit_params)\n",
      "  File \"C:\\Users\\drago\\anaconda3\\envs\\learn-env\\lib\\site-packages\\sklearn\\pipeline.py\", line 335, in fit\n",
      "    self._final_estimator.fit(Xt, y, **fit_params_last_step)\n",
      "  File \"C:\\Users\\drago\\anaconda3\\envs\\learn-env\\lib\\site-packages\\sklearn\\linear_model\\_logistic.py\", line 1304, in fit\n",
      "    solver = _check_solver(self.solver, self.penalty, self.dual)\n",
      "  File \"C:\\Users\\drago\\anaconda3\\envs\\learn-env\\lib\\site-packages\\sklearn\\linear_model\\_logistic.py\", line 442, in _check_solver\n",
      "    raise ValueError(\"Solver %s supports only 'l2' or 'none' penalties, \"\n",
      "ValueError: Solver lbfgs supports only 'l2' or 'none' penalties, got l1 penalty.\n",
      "\n",
      "  warnings.warn(\"Estimator fit failed. The score on this train-test\"\n",
      "C:\\Users\\drago\\anaconda3\\envs\\learn-env\\lib\\site-packages\\sklearn\\model_selection\\_validation.py:548: FitFailedWarning: Estimator fit failed. The score on this train-test partition for these parameters will be set to nan. Details: \n",
      "Traceback (most recent call last):\n",
      "  File \"C:\\Users\\drago\\anaconda3\\envs\\learn-env\\lib\\site-packages\\sklearn\\model_selection\\_validation.py\", line 531, in _fit_and_score\n",
      "    estimator.fit(X_train, y_train, **fit_params)\n",
      "  File \"C:\\Users\\drago\\anaconda3\\envs\\learn-env\\lib\\site-packages\\sklearn\\pipeline.py\", line 335, in fit\n",
      "    self._final_estimator.fit(Xt, y, **fit_params_last_step)\n",
      "  File \"C:\\Users\\drago\\anaconda3\\envs\\learn-env\\lib\\site-packages\\sklearn\\linear_model\\_logistic.py\", line 1304, in fit\n",
      "    solver = _check_solver(self.solver, self.penalty, self.dual)\n",
      "  File \"C:\\Users\\drago\\anaconda3\\envs\\learn-env\\lib\\site-packages\\sklearn\\linear_model\\_logistic.py\", line 442, in _check_solver\n",
      "    raise ValueError(\"Solver %s supports only 'l2' or 'none' penalties, \"\n",
      "ValueError: Solver lbfgs supports only 'l2' or 'none' penalties, got l1 penalty.\n",
      "\n",
      "  warnings.warn(\"Estimator fit failed. The score on this train-test\"\n"
     ]
    },
    {
     "name": "stdout",
     "output_type": "stream",
     "text": [
      "[CV]  lf__C=1.0, lf__penalty=l1, lf__solver=lbfgs, score=nan, total=   0.1s\n",
      "[CV] lf__C=1.0, lf__penalty=l1, lf__solver=lbfgs .....................\n",
      "[CV]  lf__C=1.0, lf__penalty=l1, lf__solver=lbfgs, score=nan, total=   0.1s\n",
      "[CV] lf__C=1.0, lf__penalty=l1, lf__solver=liblinear .................\n"
     ]
    },
    {
     "name": "stderr",
     "output_type": "stream",
     "text": [
      "C:\\Users\\drago\\anaconda3\\envs\\learn-env\\lib\\site-packages\\sklearn\\model_selection\\_validation.py:548: FitFailedWarning: Estimator fit failed. The score on this train-test partition for these parameters will be set to nan. Details: \n",
      "Traceback (most recent call last):\n",
      "  File \"C:\\Users\\drago\\anaconda3\\envs\\learn-env\\lib\\site-packages\\sklearn\\model_selection\\_validation.py\", line 531, in _fit_and_score\n",
      "    estimator.fit(X_train, y_train, **fit_params)\n",
      "  File \"C:\\Users\\drago\\anaconda3\\envs\\learn-env\\lib\\site-packages\\sklearn\\pipeline.py\", line 335, in fit\n",
      "    self._final_estimator.fit(Xt, y, **fit_params_last_step)\n",
      "  File \"C:\\Users\\drago\\anaconda3\\envs\\learn-env\\lib\\site-packages\\sklearn\\linear_model\\_logistic.py\", line 1304, in fit\n",
      "    solver = _check_solver(self.solver, self.penalty, self.dual)\n",
      "  File \"C:\\Users\\drago\\anaconda3\\envs\\learn-env\\lib\\site-packages\\sklearn\\linear_model\\_logistic.py\", line 442, in _check_solver\n",
      "    raise ValueError(\"Solver %s supports only 'l2' or 'none' penalties, \"\n",
      "ValueError: Solver lbfgs supports only 'l2' or 'none' penalties, got l1 penalty.\n",
      "\n",
      "  warnings.warn(\"Estimator fit failed. The score on this train-test\"\n"
     ]
    },
    {
     "name": "stdout",
     "output_type": "stream",
     "text": [
      "[CV]  lf__C=1.0, lf__penalty=l1, lf__solver=liblinear, score=0.592, total=  10.9s\n",
      "[CV] lf__C=1.0, lf__penalty=l1, lf__solver=liblinear .................\n",
      "[CV]  lf__C=1.0, lf__penalty=l1, lf__solver=liblinear, score=0.581, total=   9.9s\n",
      "[CV] lf__C=1.0, lf__penalty=l1, lf__solver=liblinear .................\n",
      "[CV]  lf__C=1.0, lf__penalty=l1, lf__solver=liblinear, score=0.583, total=   8.8s\n",
      "[CV] lf__C=1.0, lf__penalty=l1, lf__solver=liblinear .................\n",
      "[CV]  lf__C=1.0, lf__penalty=l1, lf__solver=liblinear, score=0.579, total=   9.0s\n",
      "[CV] lf__C=1.0, lf__penalty=l1, lf__solver=liblinear .................\n",
      "[CV]  lf__C=1.0, lf__penalty=l1, lf__solver=liblinear, score=0.588, total=   9.2s\n",
      "[CV] lf__C=1.0, lf__penalty=l1, lf__solver=sag .......................\n",
      "[CV]  lf__C=1.0, lf__penalty=l1, lf__solver=sag, score=nan, total=   0.1s\n",
      "[CV] lf__C=1.0, lf__penalty=l1, lf__solver=sag .......................\n"
     ]
    },
    {
     "name": "stderr",
     "output_type": "stream",
     "text": [
      "C:\\Users\\drago\\anaconda3\\envs\\learn-env\\lib\\site-packages\\sklearn\\model_selection\\_validation.py:548: FitFailedWarning: Estimator fit failed. The score on this train-test partition for these parameters will be set to nan. Details: \n",
      "Traceback (most recent call last):\n",
      "  File \"C:\\Users\\drago\\anaconda3\\envs\\learn-env\\lib\\site-packages\\sklearn\\model_selection\\_validation.py\", line 531, in _fit_and_score\n",
      "    estimator.fit(X_train, y_train, **fit_params)\n",
      "  File \"C:\\Users\\drago\\anaconda3\\envs\\learn-env\\lib\\site-packages\\sklearn\\pipeline.py\", line 335, in fit\n",
      "    self._final_estimator.fit(Xt, y, **fit_params_last_step)\n",
      "  File \"C:\\Users\\drago\\anaconda3\\envs\\learn-env\\lib\\site-packages\\sklearn\\linear_model\\_logistic.py\", line 1304, in fit\n",
      "    solver = _check_solver(self.solver, self.penalty, self.dual)\n",
      "  File \"C:\\Users\\drago\\anaconda3\\envs\\learn-env\\lib\\site-packages\\sklearn\\linear_model\\_logistic.py\", line 442, in _check_solver\n",
      "    raise ValueError(\"Solver %s supports only 'l2' or 'none' penalties, \"\n",
      "ValueError: Solver sag supports only 'l2' or 'none' penalties, got l1 penalty.\n",
      "\n",
      "  warnings.warn(\"Estimator fit failed. The score on this train-test\"\n",
      "C:\\Users\\drago\\anaconda3\\envs\\learn-env\\lib\\site-packages\\sklearn\\model_selection\\_validation.py:548: FitFailedWarning: Estimator fit failed. The score on this train-test partition for these parameters will be set to nan. Details: \n",
      "Traceback (most recent call last):\n",
      "  File \"C:\\Users\\drago\\anaconda3\\envs\\learn-env\\lib\\site-packages\\sklearn\\model_selection\\_validation.py\", line 531, in _fit_and_score\n",
      "    estimator.fit(X_train, y_train, **fit_params)\n",
      "  File \"C:\\Users\\drago\\anaconda3\\envs\\learn-env\\lib\\site-packages\\sklearn\\pipeline.py\", line 335, in fit\n",
      "    self._final_estimator.fit(Xt, y, **fit_params_last_step)\n",
      "  File \"C:\\Users\\drago\\anaconda3\\envs\\learn-env\\lib\\site-packages\\sklearn\\linear_model\\_logistic.py\", line 1304, in fit\n",
      "    solver = _check_solver(self.solver, self.penalty, self.dual)\n",
      "  File \"C:\\Users\\drago\\anaconda3\\envs\\learn-env\\lib\\site-packages\\sklearn\\linear_model\\_logistic.py\", line 442, in _check_solver\n",
      "    raise ValueError(\"Solver %s supports only 'l2' or 'none' penalties, \"\n",
      "ValueError: Solver sag supports only 'l2' or 'none' penalties, got l1 penalty.\n",
      "\n",
      "  warnings.warn(\"Estimator fit failed. The score on this train-test\"\n"
     ]
    },
    {
     "name": "stdout",
     "output_type": "stream",
     "text": [
      "[CV]  lf__C=1.0, lf__penalty=l1, lf__solver=sag, score=nan, total=   0.1s\n",
      "[CV] lf__C=1.0, lf__penalty=l1, lf__solver=sag .......................\n",
      "[CV]  lf__C=1.0, lf__penalty=l1, lf__solver=sag, score=nan, total=   0.1s\n",
      "[CV] lf__C=1.0, lf__penalty=l1, lf__solver=sag .......................\n"
     ]
    },
    {
     "name": "stderr",
     "output_type": "stream",
     "text": [
      "C:\\Users\\drago\\anaconda3\\envs\\learn-env\\lib\\site-packages\\sklearn\\model_selection\\_validation.py:548: FitFailedWarning: Estimator fit failed. The score on this train-test partition for these parameters will be set to nan. Details: \n",
      "Traceback (most recent call last):\n",
      "  File \"C:\\Users\\drago\\anaconda3\\envs\\learn-env\\lib\\site-packages\\sklearn\\model_selection\\_validation.py\", line 531, in _fit_and_score\n",
      "    estimator.fit(X_train, y_train, **fit_params)\n",
      "  File \"C:\\Users\\drago\\anaconda3\\envs\\learn-env\\lib\\site-packages\\sklearn\\pipeline.py\", line 335, in fit\n",
      "    self._final_estimator.fit(Xt, y, **fit_params_last_step)\n",
      "  File \"C:\\Users\\drago\\anaconda3\\envs\\learn-env\\lib\\site-packages\\sklearn\\linear_model\\_logistic.py\", line 1304, in fit\n",
      "    solver = _check_solver(self.solver, self.penalty, self.dual)\n",
      "  File \"C:\\Users\\drago\\anaconda3\\envs\\learn-env\\lib\\site-packages\\sklearn\\linear_model\\_logistic.py\", line 442, in _check_solver\n",
      "    raise ValueError(\"Solver %s supports only 'l2' or 'none' penalties, \"\n",
      "ValueError: Solver sag supports only 'l2' or 'none' penalties, got l1 penalty.\n",
      "\n",
      "  warnings.warn(\"Estimator fit failed. The score on this train-test\"\n",
      "C:\\Users\\drago\\anaconda3\\envs\\learn-env\\lib\\site-packages\\sklearn\\model_selection\\_validation.py:548: FitFailedWarning: Estimator fit failed. The score on this train-test partition for these parameters will be set to nan. Details: \n",
      "Traceback (most recent call last):\n",
      "  File \"C:\\Users\\drago\\anaconda3\\envs\\learn-env\\lib\\site-packages\\sklearn\\model_selection\\_validation.py\", line 531, in _fit_and_score\n",
      "    estimator.fit(X_train, y_train, **fit_params)\n",
      "  File \"C:\\Users\\drago\\anaconda3\\envs\\learn-env\\lib\\site-packages\\sklearn\\pipeline.py\", line 335, in fit\n",
      "    self._final_estimator.fit(Xt, y, **fit_params_last_step)\n",
      "  File \"C:\\Users\\drago\\anaconda3\\envs\\learn-env\\lib\\site-packages\\sklearn\\linear_model\\_logistic.py\", line 1304, in fit\n",
      "    solver = _check_solver(self.solver, self.penalty, self.dual)\n",
      "  File \"C:\\Users\\drago\\anaconda3\\envs\\learn-env\\lib\\site-packages\\sklearn\\linear_model\\_logistic.py\", line 442, in _check_solver\n",
      "    raise ValueError(\"Solver %s supports only 'l2' or 'none' penalties, \"\n",
      "ValueError: Solver sag supports only 'l2' or 'none' penalties, got l1 penalty.\n",
      "\n",
      "  warnings.warn(\"Estimator fit failed. The score on this train-test\"\n"
     ]
    },
    {
     "name": "stdout",
     "output_type": "stream",
     "text": [
      "[CV]  lf__C=1.0, lf__penalty=l1, lf__solver=sag, score=nan, total=   0.1s\n",
      "[CV] lf__C=1.0, lf__penalty=l1, lf__solver=sag .......................\n",
      "[CV]  lf__C=1.0, lf__penalty=l1, lf__solver=sag, score=nan, total=   0.1s\n",
      "[CV] lf__C=1.0, lf__penalty=l1, lf__solver=saga ......................\n"
     ]
    },
    {
     "name": "stderr",
     "output_type": "stream",
     "text": [
      "C:\\Users\\drago\\anaconda3\\envs\\learn-env\\lib\\site-packages\\sklearn\\model_selection\\_validation.py:548: FitFailedWarning: Estimator fit failed. The score on this train-test partition for these parameters will be set to nan. Details: \n",
      "Traceback (most recent call last):\n",
      "  File \"C:\\Users\\drago\\anaconda3\\envs\\learn-env\\lib\\site-packages\\sklearn\\model_selection\\_validation.py\", line 531, in _fit_and_score\n",
      "    estimator.fit(X_train, y_train, **fit_params)\n",
      "  File \"C:\\Users\\drago\\anaconda3\\envs\\learn-env\\lib\\site-packages\\sklearn\\pipeline.py\", line 335, in fit\n",
      "    self._final_estimator.fit(Xt, y, **fit_params_last_step)\n",
      "  File \"C:\\Users\\drago\\anaconda3\\envs\\learn-env\\lib\\site-packages\\sklearn\\linear_model\\_logistic.py\", line 1304, in fit\n",
      "    solver = _check_solver(self.solver, self.penalty, self.dual)\n",
      "  File \"C:\\Users\\drago\\anaconda3\\envs\\learn-env\\lib\\site-packages\\sklearn\\linear_model\\_logistic.py\", line 442, in _check_solver\n",
      "    raise ValueError(\"Solver %s supports only 'l2' or 'none' penalties, \"\n",
      "ValueError: Solver sag supports only 'l2' or 'none' penalties, got l1 penalty.\n",
      "\n",
      "  warnings.warn(\"Estimator fit failed. The score on this train-test\"\n",
      "C:\\Users\\drago\\anaconda3\\envs\\learn-env\\lib\\site-packages\\sklearn\\linear_model\\_sag.py:329: ConvergenceWarning: The max_iter was reached which means the coef_ did not converge\n",
      "  warnings.warn(\"The max_iter was reached which means \"\n"
     ]
    },
    {
     "name": "stdout",
     "output_type": "stream",
     "text": [
      "[CV]  lf__C=1.0, lf__penalty=l1, lf__solver=saga, score=0.472, total=   7.3s\n",
      "[CV] lf__C=1.0, lf__penalty=l1, lf__solver=saga ......................\n"
     ]
    },
    {
     "name": "stderr",
     "output_type": "stream",
     "text": [
      "C:\\Users\\drago\\anaconda3\\envs\\learn-env\\lib\\site-packages\\sklearn\\linear_model\\_sag.py:329: ConvergenceWarning: The max_iter was reached which means the coef_ did not converge\n",
      "  warnings.warn(\"The max_iter was reached which means \"\n"
     ]
    },
    {
     "name": "stdout",
     "output_type": "stream",
     "text": [
      "[CV]  lf__C=1.0, lf__penalty=l1, lf__solver=saga, score=0.489, total=   7.9s\n",
      "[CV] lf__C=1.0, lf__penalty=l1, lf__solver=saga ......................\n"
     ]
    },
    {
     "name": "stderr",
     "output_type": "stream",
     "text": [
      "C:\\Users\\drago\\anaconda3\\envs\\learn-env\\lib\\site-packages\\sklearn\\linear_model\\_sag.py:329: ConvergenceWarning: The max_iter was reached which means the coef_ did not converge\n",
      "  warnings.warn(\"The max_iter was reached which means \"\n"
     ]
    },
    {
     "name": "stdout",
     "output_type": "stream",
     "text": [
      "[CV]  lf__C=1.0, lf__penalty=l1, lf__solver=saga, score=0.583, total=   8.2s\n",
      "[CV] lf__C=1.0, lf__penalty=l1, lf__solver=saga ......................\n"
     ]
    },
    {
     "name": "stderr",
     "output_type": "stream",
     "text": [
      "C:\\Users\\drago\\anaconda3\\envs\\learn-env\\lib\\site-packages\\sklearn\\linear_model\\_sag.py:329: ConvergenceWarning: The max_iter was reached which means the coef_ did not converge\n",
      "  warnings.warn(\"The max_iter was reached which means \"\n"
     ]
    },
    {
     "name": "stdout",
     "output_type": "stream",
     "text": [
      "[CV]  lf__C=1.0, lf__penalty=l1, lf__solver=saga, score=0.575, total=   8.3s\n",
      "[CV] lf__C=1.0, lf__penalty=l1, lf__solver=saga ......................\n"
     ]
    },
    {
     "name": "stderr",
     "output_type": "stream",
     "text": [
      "C:\\Users\\drago\\anaconda3\\envs\\learn-env\\lib\\site-packages\\sklearn\\linear_model\\_sag.py:329: ConvergenceWarning: The max_iter was reached which means the coef_ did not converge\n",
      "  warnings.warn(\"The max_iter was reached which means \"\n"
     ]
    },
    {
     "name": "stdout",
     "output_type": "stream",
     "text": [
      "[CV]  lf__C=1.0, lf__penalty=l1, lf__solver=saga, score=0.568, total=   8.3s\n",
      "[CV] lf__C=1.0, lf__penalty=l2, lf__solver=newton-cg .................\n",
      "[CV]  lf__C=1.0, lf__penalty=l2, lf__solver=newton-cg, score=0.603, total=   2.9s\n",
      "[CV] lf__C=1.0, lf__penalty=l2, lf__solver=newton-cg .................\n",
      "[CV]  lf__C=1.0, lf__penalty=l2, lf__solver=newton-cg, score=0.610, total=   3.3s\n",
      "[CV] lf__C=1.0, lf__penalty=l2, lf__solver=newton-cg .................\n",
      "[CV]  lf__C=1.0, lf__penalty=l2, lf__solver=newton-cg, score=0.609, total=   3.3s\n",
      "[CV] lf__C=1.0, lf__penalty=l2, lf__solver=newton-cg .................\n",
      "[CV]  lf__C=1.0, lf__penalty=l2, lf__solver=newton-cg, score=0.610, total=   4.2s\n",
      "[CV] lf__C=1.0, lf__penalty=l2, lf__solver=newton-cg .................\n",
      "[CV]  lf__C=1.0, lf__penalty=l2, lf__solver=newton-cg, score=0.598, total=   4.5s\n",
      "[CV] lf__C=1.0, lf__penalty=l2, lf__solver=lbfgs .....................\n"
     ]
    },
    {
     "name": "stderr",
     "output_type": "stream",
     "text": [
      "C:\\Users\\drago\\anaconda3\\envs\\learn-env\\lib\\site-packages\\sklearn\\linear_model\\_logistic.py:762: ConvergenceWarning: lbfgs failed to converge (status=1):\n",
      "STOP: TOTAL NO. of ITERATIONS REACHED LIMIT.\n",
      "\n",
      "Increase the number of iterations (max_iter) or scale the data as shown in:\n",
      "    https://scikit-learn.org/stable/modules/preprocessing.html\n",
      "Please also refer to the documentation for alternative solver options:\n",
      "    https://scikit-learn.org/stable/modules/linear_model.html#logistic-regression\n",
      "  n_iter_i = _check_optimize_result(\n"
     ]
    },
    {
     "name": "stdout",
     "output_type": "stream",
     "text": [
      "[CV]  lf__C=1.0, lf__penalty=l2, lf__solver=lbfgs, score=0.603, total=   1.8s\n",
      "[CV] lf__C=1.0, lf__penalty=l2, lf__solver=lbfgs .....................\n"
     ]
    },
    {
     "name": "stderr",
     "output_type": "stream",
     "text": [
      "C:\\Users\\drago\\anaconda3\\envs\\learn-env\\lib\\site-packages\\sklearn\\linear_model\\_logistic.py:762: ConvergenceWarning: lbfgs failed to converge (status=1):\n",
      "STOP: TOTAL NO. of ITERATIONS REACHED LIMIT.\n",
      "\n",
      "Increase the number of iterations (max_iter) or scale the data as shown in:\n",
      "    https://scikit-learn.org/stable/modules/preprocessing.html\n",
      "Please also refer to the documentation for alternative solver options:\n",
      "    https://scikit-learn.org/stable/modules/linear_model.html#logistic-regression\n",
      "  n_iter_i = _check_optimize_result(\n"
     ]
    },
    {
     "name": "stdout",
     "output_type": "stream",
     "text": [
      "[CV]  lf__C=1.0, lf__penalty=l2, lf__solver=lbfgs, score=0.611, total=   1.9s\n",
      "[CV] lf__C=1.0, lf__penalty=l2, lf__solver=lbfgs .....................\n"
     ]
    },
    {
     "name": "stderr",
     "output_type": "stream",
     "text": [
      "C:\\Users\\drago\\anaconda3\\envs\\learn-env\\lib\\site-packages\\sklearn\\linear_model\\_logistic.py:762: ConvergenceWarning: lbfgs failed to converge (status=1):\n",
      "STOP: TOTAL NO. of ITERATIONS REACHED LIMIT.\n",
      "\n",
      "Increase the number of iterations (max_iter) or scale the data as shown in:\n",
      "    https://scikit-learn.org/stable/modules/preprocessing.html\n",
      "Please also refer to the documentation for alternative solver options:\n",
      "    https://scikit-learn.org/stable/modules/linear_model.html#logistic-regression\n",
      "  n_iter_i = _check_optimize_result(\n"
     ]
    },
    {
     "name": "stdout",
     "output_type": "stream",
     "text": [
      "[CV]  lf__C=1.0, lf__penalty=l2, lf__solver=lbfgs, score=0.610, total=   1.8s\n",
      "[CV] lf__C=1.0, lf__penalty=l2, lf__solver=lbfgs .....................\n"
     ]
    },
    {
     "name": "stderr",
     "output_type": "stream",
     "text": [
      "C:\\Users\\drago\\anaconda3\\envs\\learn-env\\lib\\site-packages\\sklearn\\linear_model\\_logistic.py:762: ConvergenceWarning: lbfgs failed to converge (status=1):\n",
      "STOP: TOTAL NO. of ITERATIONS REACHED LIMIT.\n",
      "\n",
      "Increase the number of iterations (max_iter) or scale the data as shown in:\n",
      "    https://scikit-learn.org/stable/modules/preprocessing.html\n",
      "Please also refer to the documentation for alternative solver options:\n",
      "    https://scikit-learn.org/stable/modules/linear_model.html#logistic-regression\n",
      "  n_iter_i = _check_optimize_result(\n"
     ]
    },
    {
     "name": "stdout",
     "output_type": "stream",
     "text": [
      "[CV]  lf__C=1.0, lf__penalty=l2, lf__solver=lbfgs, score=0.612, total=   1.8s\n",
      "[CV] lf__C=1.0, lf__penalty=l2, lf__solver=lbfgs .....................\n"
     ]
    },
    {
     "name": "stderr",
     "output_type": "stream",
     "text": [
      "C:\\Users\\drago\\anaconda3\\envs\\learn-env\\lib\\site-packages\\sklearn\\linear_model\\_logistic.py:762: ConvergenceWarning: lbfgs failed to converge (status=1):\n",
      "STOP: TOTAL NO. of ITERATIONS REACHED LIMIT.\n",
      "\n",
      "Increase the number of iterations (max_iter) or scale the data as shown in:\n",
      "    https://scikit-learn.org/stable/modules/preprocessing.html\n",
      "Please also refer to the documentation for alternative solver options:\n",
      "    https://scikit-learn.org/stable/modules/linear_model.html#logistic-regression\n",
      "  n_iter_i = _check_optimize_result(\n"
     ]
    },
    {
     "name": "stdout",
     "output_type": "stream",
     "text": [
      "[CV]  lf__C=1.0, lf__penalty=l2, lf__solver=lbfgs, score=0.598, total=   1.9s\n",
      "[CV] lf__C=1.0, lf__penalty=l2, lf__solver=liblinear .................\n",
      "[CV]  lf__C=1.0, lf__penalty=l2, lf__solver=liblinear, score=0.593, total=   0.9s\n",
      "[CV] lf__C=1.0, lf__penalty=l2, lf__solver=liblinear .................\n",
      "[CV]  lf__C=1.0, lf__penalty=l2, lf__solver=liblinear, score=0.581, total=   0.8s\n",
      "[CV] lf__C=1.0, lf__penalty=l2, lf__solver=liblinear .................\n",
      "[CV]  lf__C=1.0, lf__penalty=l2, lf__solver=liblinear, score=0.583, total=   0.9s\n",
      "[CV] lf__C=1.0, lf__penalty=l2, lf__solver=liblinear .................\n",
      "[CV]  lf__C=1.0, lf__penalty=l2, lf__solver=liblinear, score=0.578, total=   0.9s\n",
      "[CV] lf__C=1.0, lf__penalty=l2, lf__solver=liblinear .................\n",
      "[CV]  lf__C=1.0, lf__penalty=l2, lf__solver=liblinear, score=0.589, total=   0.7s\n",
      "[CV] lf__C=1.0, lf__penalty=l2, lf__solver=sag .......................\n"
     ]
    },
    {
     "name": "stderr",
     "output_type": "stream",
     "text": [
      "C:\\Users\\drago\\anaconda3\\envs\\learn-env\\lib\\site-packages\\sklearn\\linear_model\\_sag.py:329: ConvergenceWarning: The max_iter was reached which means the coef_ did not converge\n",
      "  warnings.warn(\"The max_iter was reached which means \"\n"
     ]
    },
    {
     "name": "stdout",
     "output_type": "stream",
     "text": [
      "[CV]  lf__C=1.0, lf__penalty=l2, lf__solver=sag, score=0.455, total=   5.1s\n",
      "[CV] lf__C=1.0, lf__penalty=l2, lf__solver=sag .......................\n"
     ]
    },
    {
     "name": "stderr",
     "output_type": "stream",
     "text": [
      "C:\\Users\\drago\\anaconda3\\envs\\learn-env\\lib\\site-packages\\sklearn\\linear_model\\_sag.py:329: ConvergenceWarning: The max_iter was reached which means the coef_ did not converge\n",
      "  warnings.warn(\"The max_iter was reached which means \"\n"
     ]
    },
    {
     "name": "stdout",
     "output_type": "stream",
     "text": [
      "[CV]  lf__C=1.0, lf__penalty=l2, lf__solver=sag, score=0.507, total=   5.2s\n",
      "[CV] lf__C=1.0, lf__penalty=l2, lf__solver=sag .......................\n"
     ]
    },
    {
     "name": "stderr",
     "output_type": "stream",
     "text": [
      "C:\\Users\\drago\\anaconda3\\envs\\learn-env\\lib\\site-packages\\sklearn\\linear_model\\_sag.py:329: ConvergenceWarning: The max_iter was reached which means the coef_ did not converge\n",
      "  warnings.warn(\"The max_iter was reached which means \"\n"
     ]
    },
    {
     "name": "stdout",
     "output_type": "stream",
     "text": [
      "[CV]  lf__C=1.0, lf__penalty=l2, lf__solver=sag, score=0.517, total=   4.7s\n",
      "[CV] lf__C=1.0, lf__penalty=l2, lf__solver=sag .......................\n"
     ]
    },
    {
     "name": "stderr",
     "output_type": "stream",
     "text": [
      "C:\\Users\\drago\\anaconda3\\envs\\learn-env\\lib\\site-packages\\sklearn\\linear_model\\_sag.py:329: ConvergenceWarning: The max_iter was reached which means the coef_ did not converge\n",
      "  warnings.warn(\"The max_iter was reached which means \"\n"
     ]
    },
    {
     "name": "stdout",
     "output_type": "stream",
     "text": [
      "[CV]  lf__C=1.0, lf__penalty=l2, lf__solver=sag, score=0.530, total=   4.2s\n",
      "[CV] lf__C=1.0, lf__penalty=l2, lf__solver=sag .......................\n"
     ]
    },
    {
     "name": "stderr",
     "output_type": "stream",
     "text": [
      "C:\\Users\\drago\\anaconda3\\envs\\learn-env\\lib\\site-packages\\sklearn\\linear_model\\_sag.py:329: ConvergenceWarning: The max_iter was reached which means the coef_ did not converge\n",
      "  warnings.warn(\"The max_iter was reached which means \"\n"
     ]
    },
    {
     "name": "stdout",
     "output_type": "stream",
     "text": [
      "[CV]  lf__C=1.0, lf__penalty=l2, lf__solver=sag, score=0.505, total=   4.3s\n",
      "[CV] lf__C=1.0, lf__penalty=l2, lf__solver=saga ......................\n"
     ]
    },
    {
     "name": "stderr",
     "output_type": "stream",
     "text": [
      "C:\\Users\\drago\\anaconda3\\envs\\learn-env\\lib\\site-packages\\sklearn\\linear_model\\_sag.py:329: ConvergenceWarning: The max_iter was reached which means the coef_ did not converge\n",
      "  warnings.warn(\"The max_iter was reached which means \"\n"
     ]
    },
    {
     "name": "stdout",
     "output_type": "stream",
     "text": [
      "[CV]  lf__C=1.0, lf__penalty=l2, lf__solver=saga, score=0.604, total=   4.5s\n",
      "[CV] lf__C=1.0, lf__penalty=l2, lf__solver=saga ......................\n"
     ]
    },
    {
     "name": "stderr",
     "output_type": "stream",
     "text": [
      "C:\\Users\\drago\\anaconda3\\envs\\learn-env\\lib\\site-packages\\sklearn\\linear_model\\_sag.py:329: ConvergenceWarning: The max_iter was reached which means the coef_ did not converge\n",
      "  warnings.warn(\"The max_iter was reached which means \"\n"
     ]
    },
    {
     "name": "stdout",
     "output_type": "stream",
     "text": [
      "[CV]  lf__C=1.0, lf__penalty=l2, lf__solver=saga, score=0.608, total=   4.6s\n",
      "[CV] lf__C=1.0, lf__penalty=l2, lf__solver=saga ......................\n"
     ]
    },
    {
     "name": "stderr",
     "output_type": "stream",
     "text": [
      "C:\\Users\\drago\\anaconda3\\envs\\learn-env\\lib\\site-packages\\sklearn\\linear_model\\_sag.py:329: ConvergenceWarning: The max_iter was reached which means the coef_ did not converge\n",
      "  warnings.warn(\"The max_iter was reached which means \"\n"
     ]
    },
    {
     "name": "stdout",
     "output_type": "stream",
     "text": [
      "[CV]  lf__C=1.0, lf__penalty=l2, lf__solver=saga, score=0.604, total=   4.5s\n",
      "[CV] lf__C=1.0, lf__penalty=l2, lf__solver=saga ......................\n"
     ]
    },
    {
     "name": "stderr",
     "output_type": "stream",
     "text": [
      "C:\\Users\\drago\\anaconda3\\envs\\learn-env\\lib\\site-packages\\sklearn\\linear_model\\_sag.py:329: ConvergenceWarning: The max_iter was reached which means the coef_ did not converge\n",
      "  warnings.warn(\"The max_iter was reached which means \"\n"
     ]
    },
    {
     "name": "stdout",
     "output_type": "stream",
     "text": [
      "[CV]  lf__C=1.0, lf__penalty=l2, lf__solver=saga, score=0.611, total=   4.8s\n",
      "[CV] lf__C=1.0, lf__penalty=l2, lf__solver=saga ......................\n"
     ]
    },
    {
     "name": "stderr",
     "output_type": "stream",
     "text": [
      "C:\\Users\\drago\\anaconda3\\envs\\learn-env\\lib\\site-packages\\sklearn\\linear_model\\_sag.py:329: ConvergenceWarning: The max_iter was reached which means the coef_ did not converge\n",
      "  warnings.warn(\"The max_iter was reached which means \"\n",
      "C:\\Users\\drago\\anaconda3\\envs\\learn-env\\lib\\site-packages\\sklearn\\model_selection\\_validation.py:548: FitFailedWarning: Estimator fit failed. The score on this train-test partition for these parameters will be set to nan. Details: \n",
      "Traceback (most recent call last):\n",
      "  File \"C:\\Users\\drago\\anaconda3\\envs\\learn-env\\lib\\site-packages\\sklearn\\model_selection\\_validation.py\", line 531, in _fit_and_score\n",
      "    estimator.fit(X_train, y_train, **fit_params)\n",
      "  File \"C:\\Users\\drago\\anaconda3\\envs\\learn-env\\lib\\site-packages\\sklearn\\pipeline.py\", line 335, in fit\n",
      "    self._final_estimator.fit(Xt, y, **fit_params_last_step)\n",
      "  File \"C:\\Users\\drago\\anaconda3\\envs\\learn-env\\lib\\site-packages\\sklearn\\linear_model\\_logistic.py\", line 1304, in fit\n",
      "    solver = _check_solver(self.solver, self.penalty, self.dual)\n",
      "  File \"C:\\Users\\drago\\anaconda3\\envs\\learn-env\\lib\\site-packages\\sklearn\\linear_model\\_logistic.py\", line 442, in _check_solver\n",
      "    raise ValueError(\"Solver %s supports only 'l2' or 'none' penalties, \"\n",
      "ValueError: Solver newton-cg supports only 'l2' or 'none' penalties, got elasticnet penalty.\n",
      "\n",
      "  warnings.warn(\"Estimator fit failed. The score on this train-test\"\n"
     ]
    },
    {
     "name": "stdout",
     "output_type": "stream",
     "text": [
      "[CV]  lf__C=1.0, lf__penalty=l2, lf__solver=saga, score=0.575, total=   5.1s\n",
      "[CV] lf__C=1.0, lf__penalty=elasticnet, lf__solver=newton-cg .........\n",
      "[CV]  lf__C=1.0, lf__penalty=elasticnet, lf__solver=newton-cg, score=nan, total=   0.1s\n",
      "[CV] lf__C=1.0, lf__penalty=elasticnet, lf__solver=newton-cg .........\n"
     ]
    },
    {
     "name": "stderr",
     "output_type": "stream",
     "text": [
      "C:\\Users\\drago\\anaconda3\\envs\\learn-env\\lib\\site-packages\\sklearn\\model_selection\\_validation.py:548: FitFailedWarning: Estimator fit failed. The score on this train-test partition for these parameters will be set to nan. Details: \n",
      "Traceback (most recent call last):\n",
      "  File \"C:\\Users\\drago\\anaconda3\\envs\\learn-env\\lib\\site-packages\\sklearn\\model_selection\\_validation.py\", line 531, in _fit_and_score\n",
      "    estimator.fit(X_train, y_train, **fit_params)\n",
      "  File \"C:\\Users\\drago\\anaconda3\\envs\\learn-env\\lib\\site-packages\\sklearn\\pipeline.py\", line 335, in fit\n",
      "    self._final_estimator.fit(Xt, y, **fit_params_last_step)\n",
      "  File \"C:\\Users\\drago\\anaconda3\\envs\\learn-env\\lib\\site-packages\\sklearn\\linear_model\\_logistic.py\", line 1304, in fit\n",
      "    solver = _check_solver(self.solver, self.penalty, self.dual)\n",
      "  File \"C:\\Users\\drago\\anaconda3\\envs\\learn-env\\lib\\site-packages\\sklearn\\linear_model\\_logistic.py\", line 442, in _check_solver\n",
      "    raise ValueError(\"Solver %s supports only 'l2' or 'none' penalties, \"\n",
      "ValueError: Solver newton-cg supports only 'l2' or 'none' penalties, got elasticnet penalty.\n",
      "\n",
      "  warnings.warn(\"Estimator fit failed. The score on this train-test\"\n",
      "C:\\Users\\drago\\anaconda3\\envs\\learn-env\\lib\\site-packages\\sklearn\\model_selection\\_validation.py:548: FitFailedWarning: Estimator fit failed. The score on this train-test partition for these parameters will be set to nan. Details: \n",
      "Traceback (most recent call last):\n",
      "  File \"C:\\Users\\drago\\anaconda3\\envs\\learn-env\\lib\\site-packages\\sklearn\\model_selection\\_validation.py\", line 531, in _fit_and_score\n",
      "    estimator.fit(X_train, y_train, **fit_params)\n",
      "  File \"C:\\Users\\drago\\anaconda3\\envs\\learn-env\\lib\\site-packages\\sklearn\\pipeline.py\", line 335, in fit\n",
      "    self._final_estimator.fit(Xt, y, **fit_params_last_step)\n",
      "  File \"C:\\Users\\drago\\anaconda3\\envs\\learn-env\\lib\\site-packages\\sklearn\\linear_model\\_logistic.py\", line 1304, in fit\n",
      "    solver = _check_solver(self.solver, self.penalty, self.dual)\n",
      "  File \"C:\\Users\\drago\\anaconda3\\envs\\learn-env\\lib\\site-packages\\sklearn\\linear_model\\_logistic.py\", line 442, in _check_solver\n",
      "    raise ValueError(\"Solver %s supports only 'l2' or 'none' penalties, \"\n",
      "ValueError: Solver newton-cg supports only 'l2' or 'none' penalties, got elasticnet penalty.\n",
      "\n",
      "  warnings.warn(\"Estimator fit failed. The score on this train-test\"\n"
     ]
    },
    {
     "name": "stdout",
     "output_type": "stream",
     "text": [
      "[CV]  lf__C=1.0, lf__penalty=elasticnet, lf__solver=newton-cg, score=nan, total=   0.1s\n",
      "[CV] lf__C=1.0, lf__penalty=elasticnet, lf__solver=newton-cg .........\n",
      "[CV]  lf__C=1.0, lf__penalty=elasticnet, lf__solver=newton-cg, score=nan, total=   0.1s\n",
      "[CV] lf__C=1.0, lf__penalty=elasticnet, lf__solver=newton-cg .........\n"
     ]
    },
    {
     "name": "stderr",
     "output_type": "stream",
     "text": [
      "C:\\Users\\drago\\anaconda3\\envs\\learn-env\\lib\\site-packages\\sklearn\\model_selection\\_validation.py:548: FitFailedWarning: Estimator fit failed. The score on this train-test partition for these parameters will be set to nan. Details: \n",
      "Traceback (most recent call last):\n",
      "  File \"C:\\Users\\drago\\anaconda3\\envs\\learn-env\\lib\\site-packages\\sklearn\\model_selection\\_validation.py\", line 531, in _fit_and_score\n",
      "    estimator.fit(X_train, y_train, **fit_params)\n",
      "  File \"C:\\Users\\drago\\anaconda3\\envs\\learn-env\\lib\\site-packages\\sklearn\\pipeline.py\", line 335, in fit\n",
      "    self._final_estimator.fit(Xt, y, **fit_params_last_step)\n",
      "  File \"C:\\Users\\drago\\anaconda3\\envs\\learn-env\\lib\\site-packages\\sklearn\\linear_model\\_logistic.py\", line 1304, in fit\n",
      "    solver = _check_solver(self.solver, self.penalty, self.dual)\n",
      "  File \"C:\\Users\\drago\\anaconda3\\envs\\learn-env\\lib\\site-packages\\sklearn\\linear_model\\_logistic.py\", line 442, in _check_solver\n",
      "    raise ValueError(\"Solver %s supports only 'l2' or 'none' penalties, \"\n",
      "ValueError: Solver newton-cg supports only 'l2' or 'none' penalties, got elasticnet penalty.\n",
      "\n",
      "  warnings.warn(\"Estimator fit failed. The score on this train-test\"\n",
      "C:\\Users\\drago\\anaconda3\\envs\\learn-env\\lib\\site-packages\\sklearn\\model_selection\\_validation.py:548: FitFailedWarning: Estimator fit failed. The score on this train-test partition for these parameters will be set to nan. Details: \n",
      "Traceback (most recent call last):\n",
      "  File \"C:\\Users\\drago\\anaconda3\\envs\\learn-env\\lib\\site-packages\\sklearn\\model_selection\\_validation.py\", line 531, in _fit_and_score\n",
      "    estimator.fit(X_train, y_train, **fit_params)\n",
      "  File \"C:\\Users\\drago\\anaconda3\\envs\\learn-env\\lib\\site-packages\\sklearn\\pipeline.py\", line 335, in fit\n",
      "    self._final_estimator.fit(Xt, y, **fit_params_last_step)\n",
      "  File \"C:\\Users\\drago\\anaconda3\\envs\\learn-env\\lib\\site-packages\\sklearn\\linear_model\\_logistic.py\", line 1304, in fit\n",
      "    solver = _check_solver(self.solver, self.penalty, self.dual)\n",
      "  File \"C:\\Users\\drago\\anaconda3\\envs\\learn-env\\lib\\site-packages\\sklearn\\linear_model\\_logistic.py\", line 442, in _check_solver\n",
      "    raise ValueError(\"Solver %s supports only 'l2' or 'none' penalties, \"\n",
      "ValueError: Solver newton-cg supports only 'l2' or 'none' penalties, got elasticnet penalty.\n",
      "\n",
      "  warnings.warn(\"Estimator fit failed. The score on this train-test\"\n"
     ]
    },
    {
     "name": "stdout",
     "output_type": "stream",
     "text": [
      "[CV]  lf__C=1.0, lf__penalty=elasticnet, lf__solver=newton-cg, score=nan, total=   0.1s\n",
      "[CV] lf__C=1.0, lf__penalty=elasticnet, lf__solver=newton-cg .........\n",
      "[CV]  lf__C=1.0, lf__penalty=elasticnet, lf__solver=newton-cg, score=nan, total=   0.1s\n",
      "[CV] lf__C=1.0, lf__penalty=elasticnet, lf__solver=lbfgs .............\n"
     ]
    },
    {
     "name": "stderr",
     "output_type": "stream",
     "text": [
      "C:\\Users\\drago\\anaconda3\\envs\\learn-env\\lib\\site-packages\\sklearn\\model_selection\\_validation.py:548: FitFailedWarning: Estimator fit failed. The score on this train-test partition for these parameters will be set to nan. Details: \n",
      "Traceback (most recent call last):\n",
      "  File \"C:\\Users\\drago\\anaconda3\\envs\\learn-env\\lib\\site-packages\\sklearn\\model_selection\\_validation.py\", line 531, in _fit_and_score\n",
      "    estimator.fit(X_train, y_train, **fit_params)\n",
      "  File \"C:\\Users\\drago\\anaconda3\\envs\\learn-env\\lib\\site-packages\\sklearn\\pipeline.py\", line 335, in fit\n",
      "    self._final_estimator.fit(Xt, y, **fit_params_last_step)\n",
      "  File \"C:\\Users\\drago\\anaconda3\\envs\\learn-env\\lib\\site-packages\\sklearn\\linear_model\\_logistic.py\", line 1304, in fit\n",
      "    solver = _check_solver(self.solver, self.penalty, self.dual)\n",
      "  File \"C:\\Users\\drago\\anaconda3\\envs\\learn-env\\lib\\site-packages\\sklearn\\linear_model\\_logistic.py\", line 442, in _check_solver\n",
      "    raise ValueError(\"Solver %s supports only 'l2' or 'none' penalties, \"\n",
      "ValueError: Solver lbfgs supports only 'l2' or 'none' penalties, got elasticnet penalty.\n",
      "\n",
      "  warnings.warn(\"Estimator fit failed. The score on this train-test\"\n",
      "C:\\Users\\drago\\anaconda3\\envs\\learn-env\\lib\\site-packages\\sklearn\\model_selection\\_validation.py:548: FitFailedWarning: Estimator fit failed. The score on this train-test partition for these parameters will be set to nan. Details: \n",
      "Traceback (most recent call last):\n",
      "  File \"C:\\Users\\drago\\anaconda3\\envs\\learn-env\\lib\\site-packages\\sklearn\\model_selection\\_validation.py\", line 531, in _fit_and_score\n",
      "    estimator.fit(X_train, y_train, **fit_params)\n",
      "  File \"C:\\Users\\drago\\anaconda3\\envs\\learn-env\\lib\\site-packages\\sklearn\\pipeline.py\", line 335, in fit\n",
      "    self._final_estimator.fit(Xt, y, **fit_params_last_step)\n",
      "  File \"C:\\Users\\drago\\anaconda3\\envs\\learn-env\\lib\\site-packages\\sklearn\\linear_model\\_logistic.py\", line 1304, in fit\n",
      "    solver = _check_solver(self.solver, self.penalty, self.dual)\n",
      "  File \"C:\\Users\\drago\\anaconda3\\envs\\learn-env\\lib\\site-packages\\sklearn\\linear_model\\_logistic.py\", line 442, in _check_solver\n",
      "    raise ValueError(\"Solver %s supports only 'l2' or 'none' penalties, \"\n",
      "ValueError: Solver lbfgs supports only 'l2' or 'none' penalties, got elasticnet penalty.\n",
      "\n",
      "  warnings.warn(\"Estimator fit failed. The score on this train-test\"\n"
     ]
    },
    {
     "name": "stdout",
     "output_type": "stream",
     "text": [
      "[CV]  lf__C=1.0, lf__penalty=elasticnet, lf__solver=lbfgs, score=nan, total=   0.1s\n",
      "[CV] lf__C=1.0, lf__penalty=elasticnet, lf__solver=lbfgs .............\n",
      "[CV]  lf__C=1.0, lf__penalty=elasticnet, lf__solver=lbfgs, score=nan, total=   0.1s\n",
      "[CV] lf__C=1.0, lf__penalty=elasticnet, lf__solver=lbfgs .............\n"
     ]
    },
    {
     "name": "stderr",
     "output_type": "stream",
     "text": [
      "C:\\Users\\drago\\anaconda3\\envs\\learn-env\\lib\\site-packages\\sklearn\\model_selection\\_validation.py:548: FitFailedWarning: Estimator fit failed. The score on this train-test partition for these parameters will be set to nan. Details: \n",
      "Traceback (most recent call last):\n",
      "  File \"C:\\Users\\drago\\anaconda3\\envs\\learn-env\\lib\\site-packages\\sklearn\\model_selection\\_validation.py\", line 531, in _fit_and_score\n",
      "    estimator.fit(X_train, y_train, **fit_params)\n",
      "  File \"C:\\Users\\drago\\anaconda3\\envs\\learn-env\\lib\\site-packages\\sklearn\\pipeline.py\", line 335, in fit\n",
      "    self._final_estimator.fit(Xt, y, **fit_params_last_step)\n",
      "  File \"C:\\Users\\drago\\anaconda3\\envs\\learn-env\\lib\\site-packages\\sklearn\\linear_model\\_logistic.py\", line 1304, in fit\n",
      "    solver = _check_solver(self.solver, self.penalty, self.dual)\n",
      "  File \"C:\\Users\\drago\\anaconda3\\envs\\learn-env\\lib\\site-packages\\sklearn\\linear_model\\_logistic.py\", line 442, in _check_solver\n",
      "    raise ValueError(\"Solver %s supports only 'l2' or 'none' penalties, \"\n",
      "ValueError: Solver lbfgs supports only 'l2' or 'none' penalties, got elasticnet penalty.\n",
      "\n",
      "  warnings.warn(\"Estimator fit failed. The score on this train-test\"\n",
      "C:\\Users\\drago\\anaconda3\\envs\\learn-env\\lib\\site-packages\\sklearn\\model_selection\\_validation.py:548: FitFailedWarning: Estimator fit failed. The score on this train-test partition for these parameters will be set to nan. Details: \n",
      "Traceback (most recent call last):\n",
      "  File \"C:\\Users\\drago\\anaconda3\\envs\\learn-env\\lib\\site-packages\\sklearn\\model_selection\\_validation.py\", line 531, in _fit_and_score\n",
      "    estimator.fit(X_train, y_train, **fit_params)\n",
      "  File \"C:\\Users\\drago\\anaconda3\\envs\\learn-env\\lib\\site-packages\\sklearn\\pipeline.py\", line 335, in fit\n",
      "    self._final_estimator.fit(Xt, y, **fit_params_last_step)\n",
      "  File \"C:\\Users\\drago\\anaconda3\\envs\\learn-env\\lib\\site-packages\\sklearn\\linear_model\\_logistic.py\", line 1304, in fit\n",
      "    solver = _check_solver(self.solver, self.penalty, self.dual)\n",
      "  File \"C:\\Users\\drago\\anaconda3\\envs\\learn-env\\lib\\site-packages\\sklearn\\linear_model\\_logistic.py\", line 442, in _check_solver\n",
      "    raise ValueError(\"Solver %s supports only 'l2' or 'none' penalties, \"\n",
      "ValueError: Solver lbfgs supports only 'l2' or 'none' penalties, got elasticnet penalty.\n",
      "\n",
      "  warnings.warn(\"Estimator fit failed. The score on this train-test\"\n"
     ]
    },
    {
     "name": "stdout",
     "output_type": "stream",
     "text": [
      "[CV]  lf__C=1.0, lf__penalty=elasticnet, lf__solver=lbfgs, score=nan, total=   0.1s\n",
      "[CV] lf__C=1.0, lf__penalty=elasticnet, lf__solver=lbfgs .............\n",
      "[CV]  lf__C=1.0, lf__penalty=elasticnet, lf__solver=lbfgs, score=nan, total=   0.1s\n",
      "[CV] lf__C=1.0, lf__penalty=elasticnet, lf__solver=lbfgs .............\n"
     ]
    },
    {
     "name": "stderr",
     "output_type": "stream",
     "text": [
      "C:\\Users\\drago\\anaconda3\\envs\\learn-env\\lib\\site-packages\\sklearn\\model_selection\\_validation.py:548: FitFailedWarning: Estimator fit failed. The score on this train-test partition for these parameters will be set to nan. Details: \n",
      "Traceback (most recent call last):\n",
      "  File \"C:\\Users\\drago\\anaconda3\\envs\\learn-env\\lib\\site-packages\\sklearn\\model_selection\\_validation.py\", line 531, in _fit_and_score\n",
      "    estimator.fit(X_train, y_train, **fit_params)\n",
      "  File \"C:\\Users\\drago\\anaconda3\\envs\\learn-env\\lib\\site-packages\\sklearn\\pipeline.py\", line 335, in fit\n",
      "    self._final_estimator.fit(Xt, y, **fit_params_last_step)\n",
      "  File \"C:\\Users\\drago\\anaconda3\\envs\\learn-env\\lib\\site-packages\\sklearn\\linear_model\\_logistic.py\", line 1304, in fit\n",
      "    solver = _check_solver(self.solver, self.penalty, self.dual)\n",
      "  File \"C:\\Users\\drago\\anaconda3\\envs\\learn-env\\lib\\site-packages\\sklearn\\linear_model\\_logistic.py\", line 442, in _check_solver\n",
      "    raise ValueError(\"Solver %s supports only 'l2' or 'none' penalties, \"\n",
      "ValueError: Solver lbfgs supports only 'l2' or 'none' penalties, got elasticnet penalty.\n",
      "\n",
      "  warnings.warn(\"Estimator fit failed. The score on this train-test\"\n",
      "C:\\Users\\drago\\anaconda3\\envs\\learn-env\\lib\\site-packages\\sklearn\\model_selection\\_validation.py:548: FitFailedWarning: Estimator fit failed. The score on this train-test partition for these parameters will be set to nan. Details: \n",
      "Traceback (most recent call last):\n",
      "  File \"C:\\Users\\drago\\anaconda3\\envs\\learn-env\\lib\\site-packages\\sklearn\\model_selection\\_validation.py\", line 531, in _fit_and_score\n",
      "    estimator.fit(X_train, y_train, **fit_params)\n",
      "  File \"C:\\Users\\drago\\anaconda3\\envs\\learn-env\\lib\\site-packages\\sklearn\\pipeline.py\", line 335, in fit\n",
      "    self._final_estimator.fit(Xt, y, **fit_params_last_step)\n",
      "  File \"C:\\Users\\drago\\anaconda3\\envs\\learn-env\\lib\\site-packages\\sklearn\\linear_model\\_logistic.py\", line 1304, in fit\n",
      "    solver = _check_solver(self.solver, self.penalty, self.dual)\n",
      "  File \"C:\\Users\\drago\\anaconda3\\envs\\learn-env\\lib\\site-packages\\sklearn\\linear_model\\_logistic.py\", line 449, in _check_solver\n",
      "    raise ValueError(\"Only 'saga' solver supports elasticnet penalty,\"\n",
      "ValueError: Only 'saga' solver supports elasticnet penalty, got solver=liblinear.\n",
      "\n",
      "  warnings.warn(\"Estimator fit failed. The score on this train-test\"\n"
     ]
    },
    {
     "name": "stdout",
     "output_type": "stream",
     "text": [
      "[CV]  lf__C=1.0, lf__penalty=elasticnet, lf__solver=lbfgs, score=nan, total=   0.1s\n",
      "[CV] lf__C=1.0, lf__penalty=elasticnet, lf__solver=liblinear .........\n",
      "[CV]  lf__C=1.0, lf__penalty=elasticnet, lf__solver=liblinear, score=nan, total=   0.1s\n",
      "[CV] lf__C=1.0, lf__penalty=elasticnet, lf__solver=liblinear .........\n"
     ]
    },
    {
     "name": "stderr",
     "output_type": "stream",
     "text": [
      "C:\\Users\\drago\\anaconda3\\envs\\learn-env\\lib\\site-packages\\sklearn\\model_selection\\_validation.py:548: FitFailedWarning: Estimator fit failed. The score on this train-test partition for these parameters will be set to nan. Details: \n",
      "Traceback (most recent call last):\n",
      "  File \"C:\\Users\\drago\\anaconda3\\envs\\learn-env\\lib\\site-packages\\sklearn\\model_selection\\_validation.py\", line 531, in _fit_and_score\n",
      "    estimator.fit(X_train, y_train, **fit_params)\n",
      "  File \"C:\\Users\\drago\\anaconda3\\envs\\learn-env\\lib\\site-packages\\sklearn\\pipeline.py\", line 335, in fit\n",
      "    self._final_estimator.fit(Xt, y, **fit_params_last_step)\n",
      "  File \"C:\\Users\\drago\\anaconda3\\envs\\learn-env\\lib\\site-packages\\sklearn\\linear_model\\_logistic.py\", line 1304, in fit\n",
      "    solver = _check_solver(self.solver, self.penalty, self.dual)\n",
      "  File \"C:\\Users\\drago\\anaconda3\\envs\\learn-env\\lib\\site-packages\\sklearn\\linear_model\\_logistic.py\", line 449, in _check_solver\n",
      "    raise ValueError(\"Only 'saga' solver supports elasticnet penalty,\"\n",
      "ValueError: Only 'saga' solver supports elasticnet penalty, got solver=liblinear.\n",
      "\n",
      "  warnings.warn(\"Estimator fit failed. The score on this train-test\"\n",
      "C:\\Users\\drago\\anaconda3\\envs\\learn-env\\lib\\site-packages\\sklearn\\model_selection\\_validation.py:548: FitFailedWarning: Estimator fit failed. The score on this train-test partition for these parameters will be set to nan. Details: \n",
      "Traceback (most recent call last):\n",
      "  File \"C:\\Users\\drago\\anaconda3\\envs\\learn-env\\lib\\site-packages\\sklearn\\model_selection\\_validation.py\", line 531, in _fit_and_score\n",
      "    estimator.fit(X_train, y_train, **fit_params)\n",
      "  File \"C:\\Users\\drago\\anaconda3\\envs\\learn-env\\lib\\site-packages\\sklearn\\pipeline.py\", line 335, in fit\n",
      "    self._final_estimator.fit(Xt, y, **fit_params_last_step)\n",
      "  File \"C:\\Users\\drago\\anaconda3\\envs\\learn-env\\lib\\site-packages\\sklearn\\linear_model\\_logistic.py\", line 1304, in fit\n",
      "    solver = _check_solver(self.solver, self.penalty, self.dual)\n",
      "  File \"C:\\Users\\drago\\anaconda3\\envs\\learn-env\\lib\\site-packages\\sklearn\\linear_model\\_logistic.py\", line 449, in _check_solver\n",
      "    raise ValueError(\"Only 'saga' solver supports elasticnet penalty,\"\n",
      "ValueError: Only 'saga' solver supports elasticnet penalty, got solver=liblinear.\n",
      "\n",
      "  warnings.warn(\"Estimator fit failed. The score on this train-test\"\n"
     ]
    },
    {
     "name": "stdout",
     "output_type": "stream",
     "text": [
      "[CV]  lf__C=1.0, lf__penalty=elasticnet, lf__solver=liblinear, score=nan, total=   0.1s\n",
      "[CV] lf__C=1.0, lf__penalty=elasticnet, lf__solver=liblinear .........\n",
      "[CV]  lf__C=1.0, lf__penalty=elasticnet, lf__solver=liblinear, score=nan, total=   0.1s\n",
      "[CV] lf__C=1.0, lf__penalty=elasticnet, lf__solver=liblinear .........\n"
     ]
    },
    {
     "name": "stderr",
     "output_type": "stream",
     "text": [
      "C:\\Users\\drago\\anaconda3\\envs\\learn-env\\lib\\site-packages\\sklearn\\model_selection\\_validation.py:548: FitFailedWarning: Estimator fit failed. The score on this train-test partition for these parameters will be set to nan. Details: \n",
      "Traceback (most recent call last):\n",
      "  File \"C:\\Users\\drago\\anaconda3\\envs\\learn-env\\lib\\site-packages\\sklearn\\model_selection\\_validation.py\", line 531, in _fit_and_score\n",
      "    estimator.fit(X_train, y_train, **fit_params)\n",
      "  File \"C:\\Users\\drago\\anaconda3\\envs\\learn-env\\lib\\site-packages\\sklearn\\pipeline.py\", line 335, in fit\n",
      "    self._final_estimator.fit(Xt, y, **fit_params_last_step)\n",
      "  File \"C:\\Users\\drago\\anaconda3\\envs\\learn-env\\lib\\site-packages\\sklearn\\linear_model\\_logistic.py\", line 1304, in fit\n",
      "    solver = _check_solver(self.solver, self.penalty, self.dual)\n",
      "  File \"C:\\Users\\drago\\anaconda3\\envs\\learn-env\\lib\\site-packages\\sklearn\\linear_model\\_logistic.py\", line 449, in _check_solver\n",
      "    raise ValueError(\"Only 'saga' solver supports elasticnet penalty,\"\n",
      "ValueError: Only 'saga' solver supports elasticnet penalty, got solver=liblinear.\n",
      "\n",
      "  warnings.warn(\"Estimator fit failed. The score on this train-test\"\n",
      "C:\\Users\\drago\\anaconda3\\envs\\learn-env\\lib\\site-packages\\sklearn\\model_selection\\_validation.py:548: FitFailedWarning: Estimator fit failed. The score on this train-test partition for these parameters will be set to nan. Details: \n",
      "Traceback (most recent call last):\n",
      "  File \"C:\\Users\\drago\\anaconda3\\envs\\learn-env\\lib\\site-packages\\sklearn\\model_selection\\_validation.py\", line 531, in _fit_and_score\n",
      "    estimator.fit(X_train, y_train, **fit_params)\n",
      "  File \"C:\\Users\\drago\\anaconda3\\envs\\learn-env\\lib\\site-packages\\sklearn\\pipeline.py\", line 335, in fit\n",
      "    self._final_estimator.fit(Xt, y, **fit_params_last_step)\n",
      "  File \"C:\\Users\\drago\\anaconda3\\envs\\learn-env\\lib\\site-packages\\sklearn\\linear_model\\_logistic.py\", line 1304, in fit\n",
      "    solver = _check_solver(self.solver, self.penalty, self.dual)\n",
      "  File \"C:\\Users\\drago\\anaconda3\\envs\\learn-env\\lib\\site-packages\\sklearn\\linear_model\\_logistic.py\", line 449, in _check_solver\n",
      "    raise ValueError(\"Only 'saga' solver supports elasticnet penalty,\"\n",
      "ValueError: Only 'saga' solver supports elasticnet penalty, got solver=liblinear.\n",
      "\n",
      "  warnings.warn(\"Estimator fit failed. The score on this train-test\"\n"
     ]
    },
    {
     "name": "stdout",
     "output_type": "stream",
     "text": [
      "[CV]  lf__C=1.0, lf__penalty=elasticnet, lf__solver=liblinear, score=nan, total=   0.1s\n",
      "[CV] lf__C=1.0, lf__penalty=elasticnet, lf__solver=liblinear .........\n",
      "[CV]  lf__C=1.0, lf__penalty=elasticnet, lf__solver=liblinear, score=nan, total=   0.1s\n",
      "[CV] lf__C=1.0, lf__penalty=elasticnet, lf__solver=sag ...............\n"
     ]
    },
    {
     "name": "stderr",
     "output_type": "stream",
     "text": [
      "C:\\Users\\drago\\anaconda3\\envs\\learn-env\\lib\\site-packages\\sklearn\\model_selection\\_validation.py:548: FitFailedWarning: Estimator fit failed. The score on this train-test partition for these parameters will be set to nan. Details: \n",
      "Traceback (most recent call last):\n",
      "  File \"C:\\Users\\drago\\anaconda3\\envs\\learn-env\\lib\\site-packages\\sklearn\\model_selection\\_validation.py\", line 531, in _fit_and_score\n",
      "    estimator.fit(X_train, y_train, **fit_params)\n",
      "  File \"C:\\Users\\drago\\anaconda3\\envs\\learn-env\\lib\\site-packages\\sklearn\\pipeline.py\", line 335, in fit\n",
      "    self._final_estimator.fit(Xt, y, **fit_params_last_step)\n",
      "  File \"C:\\Users\\drago\\anaconda3\\envs\\learn-env\\lib\\site-packages\\sklearn\\linear_model\\_logistic.py\", line 1304, in fit\n",
      "    solver = _check_solver(self.solver, self.penalty, self.dual)\n",
      "  File \"C:\\Users\\drago\\anaconda3\\envs\\learn-env\\lib\\site-packages\\sklearn\\linear_model\\_logistic.py\", line 442, in _check_solver\n",
      "    raise ValueError(\"Solver %s supports only 'l2' or 'none' penalties, \"\n",
      "ValueError: Solver sag supports only 'l2' or 'none' penalties, got elasticnet penalty.\n",
      "\n",
      "  warnings.warn(\"Estimator fit failed. The score on this train-test\"\n",
      "C:\\Users\\drago\\anaconda3\\envs\\learn-env\\lib\\site-packages\\sklearn\\model_selection\\_validation.py:548: FitFailedWarning: Estimator fit failed. The score on this train-test partition for these parameters will be set to nan. Details: \n",
      "Traceback (most recent call last):\n",
      "  File \"C:\\Users\\drago\\anaconda3\\envs\\learn-env\\lib\\site-packages\\sklearn\\model_selection\\_validation.py\", line 531, in _fit_and_score\n",
      "    estimator.fit(X_train, y_train, **fit_params)\n",
      "  File \"C:\\Users\\drago\\anaconda3\\envs\\learn-env\\lib\\site-packages\\sklearn\\pipeline.py\", line 335, in fit\n",
      "    self._final_estimator.fit(Xt, y, **fit_params_last_step)\n",
      "  File \"C:\\Users\\drago\\anaconda3\\envs\\learn-env\\lib\\site-packages\\sklearn\\linear_model\\_logistic.py\", line 1304, in fit\n",
      "    solver = _check_solver(self.solver, self.penalty, self.dual)\n",
      "  File \"C:\\Users\\drago\\anaconda3\\envs\\learn-env\\lib\\site-packages\\sklearn\\linear_model\\_logistic.py\", line 442, in _check_solver\n",
      "    raise ValueError(\"Solver %s supports only 'l2' or 'none' penalties, \"\n",
      "ValueError: Solver sag supports only 'l2' or 'none' penalties, got elasticnet penalty.\n",
      "\n",
      "  warnings.warn(\"Estimator fit failed. The score on this train-test\"\n"
     ]
    },
    {
     "name": "stdout",
     "output_type": "stream",
     "text": [
      "[CV]  lf__C=1.0, lf__penalty=elasticnet, lf__solver=sag, score=nan, total=   0.1s\n",
      "[CV] lf__C=1.0, lf__penalty=elasticnet, lf__solver=sag ...............\n",
      "[CV]  lf__C=1.0, lf__penalty=elasticnet, lf__solver=sag, score=nan, total=   0.1s\n",
      "[CV] lf__C=1.0, lf__penalty=elasticnet, lf__solver=sag ...............\n"
     ]
    },
    {
     "name": "stderr",
     "output_type": "stream",
     "text": [
      "C:\\Users\\drago\\anaconda3\\envs\\learn-env\\lib\\site-packages\\sklearn\\model_selection\\_validation.py:548: FitFailedWarning: Estimator fit failed. The score on this train-test partition for these parameters will be set to nan. Details: \n",
      "Traceback (most recent call last):\n",
      "  File \"C:\\Users\\drago\\anaconda3\\envs\\learn-env\\lib\\site-packages\\sklearn\\model_selection\\_validation.py\", line 531, in _fit_and_score\n",
      "    estimator.fit(X_train, y_train, **fit_params)\n",
      "  File \"C:\\Users\\drago\\anaconda3\\envs\\learn-env\\lib\\site-packages\\sklearn\\pipeline.py\", line 335, in fit\n",
      "    self._final_estimator.fit(Xt, y, **fit_params_last_step)\n",
      "  File \"C:\\Users\\drago\\anaconda3\\envs\\learn-env\\lib\\site-packages\\sklearn\\linear_model\\_logistic.py\", line 1304, in fit\n",
      "    solver = _check_solver(self.solver, self.penalty, self.dual)\n",
      "  File \"C:\\Users\\drago\\anaconda3\\envs\\learn-env\\lib\\site-packages\\sklearn\\linear_model\\_logistic.py\", line 442, in _check_solver\n",
      "    raise ValueError(\"Solver %s supports only 'l2' or 'none' penalties, \"\n",
      "ValueError: Solver sag supports only 'l2' or 'none' penalties, got elasticnet penalty.\n",
      "\n",
      "  warnings.warn(\"Estimator fit failed. The score on this train-test\"\n",
      "C:\\Users\\drago\\anaconda3\\envs\\learn-env\\lib\\site-packages\\sklearn\\model_selection\\_validation.py:548: FitFailedWarning: Estimator fit failed. The score on this train-test partition for these parameters will be set to nan. Details: \n",
      "Traceback (most recent call last):\n",
      "  File \"C:\\Users\\drago\\anaconda3\\envs\\learn-env\\lib\\site-packages\\sklearn\\model_selection\\_validation.py\", line 531, in _fit_and_score\n",
      "    estimator.fit(X_train, y_train, **fit_params)\n",
      "  File \"C:\\Users\\drago\\anaconda3\\envs\\learn-env\\lib\\site-packages\\sklearn\\pipeline.py\", line 335, in fit\n",
      "    self._final_estimator.fit(Xt, y, **fit_params_last_step)\n",
      "  File \"C:\\Users\\drago\\anaconda3\\envs\\learn-env\\lib\\site-packages\\sklearn\\linear_model\\_logistic.py\", line 1304, in fit\n",
      "    solver = _check_solver(self.solver, self.penalty, self.dual)\n",
      "  File \"C:\\Users\\drago\\anaconda3\\envs\\learn-env\\lib\\site-packages\\sklearn\\linear_model\\_logistic.py\", line 442, in _check_solver\n",
      "    raise ValueError(\"Solver %s supports only 'l2' or 'none' penalties, \"\n",
      "ValueError: Solver sag supports only 'l2' or 'none' penalties, got elasticnet penalty.\n",
      "\n",
      "  warnings.warn(\"Estimator fit failed. The score on this train-test\"\n"
     ]
    },
    {
     "name": "stdout",
     "output_type": "stream",
     "text": [
      "[CV]  lf__C=1.0, lf__penalty=elasticnet, lf__solver=sag, score=nan, total=   0.1s\n",
      "[CV] lf__C=1.0, lf__penalty=elasticnet, lf__solver=sag ...............\n",
      "[CV]  lf__C=1.0, lf__penalty=elasticnet, lf__solver=sag, score=nan, total=   0.1s\n",
      "[CV] lf__C=1.0, lf__penalty=elasticnet, lf__solver=sag ...............\n"
     ]
    },
    {
     "name": "stderr",
     "output_type": "stream",
     "text": [
      "C:\\Users\\drago\\anaconda3\\envs\\learn-env\\lib\\site-packages\\sklearn\\model_selection\\_validation.py:548: FitFailedWarning: Estimator fit failed. The score on this train-test partition for these parameters will be set to nan. Details: \n",
      "Traceback (most recent call last):\n",
      "  File \"C:\\Users\\drago\\anaconda3\\envs\\learn-env\\lib\\site-packages\\sklearn\\model_selection\\_validation.py\", line 531, in _fit_and_score\n",
      "    estimator.fit(X_train, y_train, **fit_params)\n",
      "  File \"C:\\Users\\drago\\anaconda3\\envs\\learn-env\\lib\\site-packages\\sklearn\\pipeline.py\", line 335, in fit\n",
      "    self._final_estimator.fit(Xt, y, **fit_params_last_step)\n",
      "  File \"C:\\Users\\drago\\anaconda3\\envs\\learn-env\\lib\\site-packages\\sklearn\\linear_model\\_logistic.py\", line 1304, in fit\n",
      "    solver = _check_solver(self.solver, self.penalty, self.dual)\n",
      "  File \"C:\\Users\\drago\\anaconda3\\envs\\learn-env\\lib\\site-packages\\sklearn\\linear_model\\_logistic.py\", line 442, in _check_solver\n",
      "    raise ValueError(\"Solver %s supports only 'l2' or 'none' penalties, \"\n",
      "ValueError: Solver sag supports only 'l2' or 'none' penalties, got elasticnet penalty.\n",
      "\n",
      "  warnings.warn(\"Estimator fit failed. The score on this train-test\"\n",
      "C:\\Users\\drago\\anaconda3\\envs\\learn-env\\lib\\site-packages\\sklearn\\model_selection\\_validation.py:548: FitFailedWarning: Estimator fit failed. The score on this train-test partition for these parameters will be set to nan. Details: \n",
      "Traceback (most recent call last):\n",
      "  File \"C:\\Users\\drago\\anaconda3\\envs\\learn-env\\lib\\site-packages\\sklearn\\model_selection\\_validation.py\", line 531, in _fit_and_score\n",
      "    estimator.fit(X_train, y_train, **fit_params)\n",
      "  File \"C:\\Users\\drago\\anaconda3\\envs\\learn-env\\lib\\site-packages\\sklearn\\pipeline.py\", line 335, in fit\n",
      "    self._final_estimator.fit(Xt, y, **fit_params_last_step)\n",
      "  File \"C:\\Users\\drago\\anaconda3\\envs\\learn-env\\lib\\site-packages\\sklearn\\linear_model\\_logistic.py\", line 1312, in fit\n",
      "    raise ValueError(\"l1_ratio must be between 0 and 1;\"\n",
      "ValueError: l1_ratio must be between 0 and 1; got (l1_ratio=None)\n",
      "\n",
      "  warnings.warn(\"Estimator fit failed. The score on this train-test\"\n"
     ]
    },
    {
     "name": "stdout",
     "output_type": "stream",
     "text": [
      "[CV]  lf__C=1.0, lf__penalty=elasticnet, lf__solver=sag, score=nan, total=   0.1s\n",
      "[CV] lf__C=1.0, lf__penalty=elasticnet, lf__solver=saga ..............\n",
      "[CV]  lf__C=1.0, lf__penalty=elasticnet, lf__solver=saga, score=nan, total=   0.1s\n",
      "[CV] lf__C=1.0, lf__penalty=elasticnet, lf__solver=saga ..............\n"
     ]
    },
    {
     "name": "stderr",
     "output_type": "stream",
     "text": [
      "C:\\Users\\drago\\anaconda3\\envs\\learn-env\\lib\\site-packages\\sklearn\\model_selection\\_validation.py:548: FitFailedWarning: Estimator fit failed. The score on this train-test partition for these parameters will be set to nan. Details: \n",
      "Traceback (most recent call last):\n",
      "  File \"C:\\Users\\drago\\anaconda3\\envs\\learn-env\\lib\\site-packages\\sklearn\\model_selection\\_validation.py\", line 531, in _fit_and_score\n",
      "    estimator.fit(X_train, y_train, **fit_params)\n",
      "  File \"C:\\Users\\drago\\anaconda3\\envs\\learn-env\\lib\\site-packages\\sklearn\\pipeline.py\", line 335, in fit\n",
      "    self._final_estimator.fit(Xt, y, **fit_params_last_step)\n",
      "  File \"C:\\Users\\drago\\anaconda3\\envs\\learn-env\\lib\\site-packages\\sklearn\\linear_model\\_logistic.py\", line 1312, in fit\n",
      "    raise ValueError(\"l1_ratio must be between 0 and 1;\"\n",
      "ValueError: l1_ratio must be between 0 and 1; got (l1_ratio=None)\n",
      "\n",
      "  warnings.warn(\"Estimator fit failed. The score on this train-test\"\n",
      "C:\\Users\\drago\\anaconda3\\envs\\learn-env\\lib\\site-packages\\sklearn\\model_selection\\_validation.py:548: FitFailedWarning: Estimator fit failed. The score on this train-test partition for these parameters will be set to nan. Details: \n",
      "Traceback (most recent call last):\n",
      "  File \"C:\\Users\\drago\\anaconda3\\envs\\learn-env\\lib\\site-packages\\sklearn\\model_selection\\_validation.py\", line 531, in _fit_and_score\n",
      "    estimator.fit(X_train, y_train, **fit_params)\n",
      "  File \"C:\\Users\\drago\\anaconda3\\envs\\learn-env\\lib\\site-packages\\sklearn\\pipeline.py\", line 335, in fit\n",
      "    self._final_estimator.fit(Xt, y, **fit_params_last_step)\n",
      "  File \"C:\\Users\\drago\\anaconda3\\envs\\learn-env\\lib\\site-packages\\sklearn\\linear_model\\_logistic.py\", line 1312, in fit\n",
      "    raise ValueError(\"l1_ratio must be between 0 and 1;\"\n",
      "ValueError: l1_ratio must be between 0 and 1; got (l1_ratio=None)\n",
      "\n",
      "  warnings.warn(\"Estimator fit failed. The score on this train-test\"\n"
     ]
    },
    {
     "name": "stdout",
     "output_type": "stream",
     "text": [
      "[CV]  lf__C=1.0, lf__penalty=elasticnet, lf__solver=saga, score=nan, total=   0.1s\n",
      "[CV] lf__C=1.0, lf__penalty=elasticnet, lf__solver=saga ..............\n",
      "[CV]  lf__C=1.0, lf__penalty=elasticnet, lf__solver=saga, score=nan, total=   0.1s\n",
      "[CV] lf__C=1.0, lf__penalty=elasticnet, lf__solver=saga ..............\n"
     ]
    },
    {
     "name": "stderr",
     "output_type": "stream",
     "text": [
      "C:\\Users\\drago\\anaconda3\\envs\\learn-env\\lib\\site-packages\\sklearn\\model_selection\\_validation.py:548: FitFailedWarning: Estimator fit failed. The score on this train-test partition for these parameters will be set to nan. Details: \n",
      "Traceback (most recent call last):\n",
      "  File \"C:\\Users\\drago\\anaconda3\\envs\\learn-env\\lib\\site-packages\\sklearn\\model_selection\\_validation.py\", line 531, in _fit_and_score\n",
      "    estimator.fit(X_train, y_train, **fit_params)\n",
      "  File \"C:\\Users\\drago\\anaconda3\\envs\\learn-env\\lib\\site-packages\\sklearn\\pipeline.py\", line 335, in fit\n",
      "    self._final_estimator.fit(Xt, y, **fit_params_last_step)\n",
      "  File \"C:\\Users\\drago\\anaconda3\\envs\\learn-env\\lib\\site-packages\\sklearn\\linear_model\\_logistic.py\", line 1312, in fit\n",
      "    raise ValueError(\"l1_ratio must be between 0 and 1;\"\n",
      "ValueError: l1_ratio must be between 0 and 1; got (l1_ratio=None)\n",
      "\n",
      "  warnings.warn(\"Estimator fit failed. The score on this train-test\"\n",
      "C:\\Users\\drago\\anaconda3\\envs\\learn-env\\lib\\site-packages\\sklearn\\model_selection\\_validation.py:548: FitFailedWarning: Estimator fit failed. The score on this train-test partition for these parameters will be set to nan. Details: \n",
      "Traceback (most recent call last):\n",
      "  File \"C:\\Users\\drago\\anaconda3\\envs\\learn-env\\lib\\site-packages\\sklearn\\model_selection\\_validation.py\", line 531, in _fit_and_score\n",
      "    estimator.fit(X_train, y_train, **fit_params)\n",
      "  File \"C:\\Users\\drago\\anaconda3\\envs\\learn-env\\lib\\site-packages\\sklearn\\pipeline.py\", line 335, in fit\n",
      "    self._final_estimator.fit(Xt, y, **fit_params_last_step)\n",
      "  File \"C:\\Users\\drago\\anaconda3\\envs\\learn-env\\lib\\site-packages\\sklearn\\linear_model\\_logistic.py\", line 1312, in fit\n",
      "    raise ValueError(\"l1_ratio must be between 0 and 1;\"\n",
      "ValueError: l1_ratio must be between 0 and 1; got (l1_ratio=None)\n",
      "\n",
      "  warnings.warn(\"Estimator fit failed. The score on this train-test\"\n"
     ]
    },
    {
     "name": "stdout",
     "output_type": "stream",
     "text": [
      "[CV]  lf__C=1.0, lf__penalty=elasticnet, lf__solver=saga, score=nan, total=   0.1s\n",
      "[CV] lf__C=1.0, lf__penalty=elasticnet, lf__solver=saga ..............\n",
      "[CV]  lf__C=1.0, lf__penalty=elasticnet, lf__solver=saga, score=nan, total=   0.1s\n",
      "[CV] lf__C=1.0, lf__penalty=None, lf__solver=newton-cg ...............\n"
     ]
    },
    {
     "name": "stderr",
     "output_type": "stream",
     "text": [
      "C:\\Users\\drago\\anaconda3\\envs\\learn-env\\lib\\site-packages\\sklearn\\model_selection\\_validation.py:548: FitFailedWarning: Estimator fit failed. The score on this train-test partition for these parameters will be set to nan. Details: \n",
      "Traceback (most recent call last):\n",
      "  File \"C:\\Users\\drago\\anaconda3\\envs\\learn-env\\lib\\site-packages\\sklearn\\model_selection\\_validation.py\", line 531, in _fit_and_score\n",
      "    estimator.fit(X_train, y_train, **fit_params)\n",
      "  File \"C:\\Users\\drago\\anaconda3\\envs\\learn-env\\lib\\site-packages\\sklearn\\pipeline.py\", line 335, in fit\n",
      "    self._final_estimator.fit(Xt, y, **fit_params_last_step)\n",
      "  File \"C:\\Users\\drago\\anaconda3\\envs\\learn-env\\lib\\site-packages\\sklearn\\linear_model\\_logistic.py\", line 1304, in fit\n",
      "    solver = _check_solver(self.solver, self.penalty, self.dual)\n",
      "  File \"C:\\Users\\drago\\anaconda3\\envs\\learn-env\\lib\\site-packages\\sklearn\\linear_model\\_logistic.py\", line 438, in _check_solver\n",
      "    raise ValueError(\"Logistic Regression supports only penalties in %s,\"\n",
      "ValueError: Logistic Regression supports only penalties in ['l1', 'l2', 'elasticnet', 'none'], got None.\n",
      "\n",
      "  warnings.warn(\"Estimator fit failed. The score on this train-test\"\n",
      "C:\\Users\\drago\\anaconda3\\envs\\learn-env\\lib\\site-packages\\sklearn\\model_selection\\_validation.py:548: FitFailedWarning: Estimator fit failed. The score on this train-test partition for these parameters will be set to nan. Details: \n",
      "Traceback (most recent call last):\n",
      "  File \"C:\\Users\\drago\\anaconda3\\envs\\learn-env\\lib\\site-packages\\sklearn\\model_selection\\_validation.py\", line 531, in _fit_and_score\n",
      "    estimator.fit(X_train, y_train, **fit_params)\n",
      "  File \"C:\\Users\\drago\\anaconda3\\envs\\learn-env\\lib\\site-packages\\sklearn\\pipeline.py\", line 335, in fit\n",
      "    self._final_estimator.fit(Xt, y, **fit_params_last_step)\n",
      "  File \"C:\\Users\\drago\\anaconda3\\envs\\learn-env\\lib\\site-packages\\sklearn\\linear_model\\_logistic.py\", line 1304, in fit\n",
      "    solver = _check_solver(self.solver, self.penalty, self.dual)\n",
      "  File \"C:\\Users\\drago\\anaconda3\\envs\\learn-env\\lib\\site-packages\\sklearn\\linear_model\\_logistic.py\", line 438, in _check_solver\n",
      "    raise ValueError(\"Logistic Regression supports only penalties in %s,\"\n",
      "ValueError: Logistic Regression supports only penalties in ['l1', 'l2', 'elasticnet', 'none'], got None.\n",
      "\n",
      "  warnings.warn(\"Estimator fit failed. The score on this train-test\"\n"
     ]
    },
    {
     "name": "stdout",
     "output_type": "stream",
     "text": [
      "[CV]  lf__C=1.0, lf__penalty=None, lf__solver=newton-cg, score=nan, total=   0.1s\n",
      "[CV] lf__C=1.0, lf__penalty=None, lf__solver=newton-cg ...............\n",
      "[CV]  lf__C=1.0, lf__penalty=None, lf__solver=newton-cg, score=nan, total=   0.1s\n",
      "[CV] lf__C=1.0, lf__penalty=None, lf__solver=newton-cg ...............\n"
     ]
    },
    {
     "name": "stderr",
     "output_type": "stream",
     "text": [
      "C:\\Users\\drago\\anaconda3\\envs\\learn-env\\lib\\site-packages\\sklearn\\model_selection\\_validation.py:548: FitFailedWarning: Estimator fit failed. The score on this train-test partition for these parameters will be set to nan. Details: \n",
      "Traceback (most recent call last):\n",
      "  File \"C:\\Users\\drago\\anaconda3\\envs\\learn-env\\lib\\site-packages\\sklearn\\model_selection\\_validation.py\", line 531, in _fit_and_score\n",
      "    estimator.fit(X_train, y_train, **fit_params)\n",
      "  File \"C:\\Users\\drago\\anaconda3\\envs\\learn-env\\lib\\site-packages\\sklearn\\pipeline.py\", line 335, in fit\n",
      "    self._final_estimator.fit(Xt, y, **fit_params_last_step)\n",
      "  File \"C:\\Users\\drago\\anaconda3\\envs\\learn-env\\lib\\site-packages\\sklearn\\linear_model\\_logistic.py\", line 1304, in fit\n",
      "    solver = _check_solver(self.solver, self.penalty, self.dual)\n",
      "  File \"C:\\Users\\drago\\anaconda3\\envs\\learn-env\\lib\\site-packages\\sklearn\\linear_model\\_logistic.py\", line 438, in _check_solver\n",
      "    raise ValueError(\"Logistic Regression supports only penalties in %s,\"\n",
      "ValueError: Logistic Regression supports only penalties in ['l1', 'l2', 'elasticnet', 'none'], got None.\n",
      "\n",
      "  warnings.warn(\"Estimator fit failed. The score on this train-test\"\n",
      "C:\\Users\\drago\\anaconda3\\envs\\learn-env\\lib\\site-packages\\sklearn\\model_selection\\_validation.py:548: FitFailedWarning: Estimator fit failed. The score on this train-test partition for these parameters will be set to nan. Details: \n",
      "Traceback (most recent call last):\n",
      "  File \"C:\\Users\\drago\\anaconda3\\envs\\learn-env\\lib\\site-packages\\sklearn\\model_selection\\_validation.py\", line 531, in _fit_and_score\n",
      "    estimator.fit(X_train, y_train, **fit_params)\n",
      "  File \"C:\\Users\\drago\\anaconda3\\envs\\learn-env\\lib\\site-packages\\sklearn\\pipeline.py\", line 335, in fit\n",
      "    self._final_estimator.fit(Xt, y, **fit_params_last_step)\n",
      "  File \"C:\\Users\\drago\\anaconda3\\envs\\learn-env\\lib\\site-packages\\sklearn\\linear_model\\_logistic.py\", line 1304, in fit\n",
      "    solver = _check_solver(self.solver, self.penalty, self.dual)\n",
      "  File \"C:\\Users\\drago\\anaconda3\\envs\\learn-env\\lib\\site-packages\\sklearn\\linear_model\\_logistic.py\", line 438, in _check_solver\n",
      "    raise ValueError(\"Logistic Regression supports only penalties in %s,\"\n",
      "ValueError: Logistic Regression supports only penalties in ['l1', 'l2', 'elasticnet', 'none'], got None.\n",
      "\n",
      "  warnings.warn(\"Estimator fit failed. The score on this train-test\"\n"
     ]
    },
    {
     "name": "stdout",
     "output_type": "stream",
     "text": [
      "[CV]  lf__C=1.0, lf__penalty=None, lf__solver=newton-cg, score=nan, total=   0.1s\n",
      "[CV] lf__C=1.0, lf__penalty=None, lf__solver=newton-cg ...............\n",
      "[CV]  lf__C=1.0, lf__penalty=None, lf__solver=newton-cg, score=nan, total=   0.1s\n",
      "[CV] lf__C=1.0, lf__penalty=None, lf__solver=newton-cg ...............\n"
     ]
    },
    {
     "name": "stderr",
     "output_type": "stream",
     "text": [
      "C:\\Users\\drago\\anaconda3\\envs\\learn-env\\lib\\site-packages\\sklearn\\model_selection\\_validation.py:548: FitFailedWarning: Estimator fit failed. The score on this train-test partition for these parameters will be set to nan. Details: \n",
      "Traceback (most recent call last):\n",
      "  File \"C:\\Users\\drago\\anaconda3\\envs\\learn-env\\lib\\site-packages\\sklearn\\model_selection\\_validation.py\", line 531, in _fit_and_score\n",
      "    estimator.fit(X_train, y_train, **fit_params)\n",
      "  File \"C:\\Users\\drago\\anaconda3\\envs\\learn-env\\lib\\site-packages\\sklearn\\pipeline.py\", line 335, in fit\n",
      "    self._final_estimator.fit(Xt, y, **fit_params_last_step)\n",
      "  File \"C:\\Users\\drago\\anaconda3\\envs\\learn-env\\lib\\site-packages\\sklearn\\linear_model\\_logistic.py\", line 1304, in fit\n",
      "    solver = _check_solver(self.solver, self.penalty, self.dual)\n",
      "  File \"C:\\Users\\drago\\anaconda3\\envs\\learn-env\\lib\\site-packages\\sklearn\\linear_model\\_logistic.py\", line 438, in _check_solver\n",
      "    raise ValueError(\"Logistic Regression supports only penalties in %s,\"\n",
      "ValueError: Logistic Regression supports only penalties in ['l1', 'l2', 'elasticnet', 'none'], got None.\n",
      "\n",
      "  warnings.warn(\"Estimator fit failed. The score on this train-test\"\n",
      "C:\\Users\\drago\\anaconda3\\envs\\learn-env\\lib\\site-packages\\sklearn\\model_selection\\_validation.py:548: FitFailedWarning: Estimator fit failed. The score on this train-test partition for these parameters will be set to nan. Details: \n",
      "Traceback (most recent call last):\n",
      "  File \"C:\\Users\\drago\\anaconda3\\envs\\learn-env\\lib\\site-packages\\sklearn\\model_selection\\_validation.py\", line 531, in _fit_and_score\n",
      "    estimator.fit(X_train, y_train, **fit_params)\n",
      "  File \"C:\\Users\\drago\\anaconda3\\envs\\learn-env\\lib\\site-packages\\sklearn\\pipeline.py\", line 335, in fit\n",
      "    self._final_estimator.fit(Xt, y, **fit_params_last_step)\n",
      "  File \"C:\\Users\\drago\\anaconda3\\envs\\learn-env\\lib\\site-packages\\sklearn\\linear_model\\_logistic.py\", line 1304, in fit\n",
      "    solver = _check_solver(self.solver, self.penalty, self.dual)\n",
      "  File \"C:\\Users\\drago\\anaconda3\\envs\\learn-env\\lib\\site-packages\\sklearn\\linear_model\\_logistic.py\", line 438, in _check_solver\n",
      "    raise ValueError(\"Logistic Regression supports only penalties in %s,\"\n",
      "ValueError: Logistic Regression supports only penalties in ['l1', 'l2', 'elasticnet', 'none'], got None.\n",
      "\n",
      "  warnings.warn(\"Estimator fit failed. The score on this train-test\"\n"
     ]
    },
    {
     "name": "stdout",
     "output_type": "stream",
     "text": [
      "[CV]  lf__C=1.0, lf__penalty=None, lf__solver=newton-cg, score=nan, total=   0.1s\n",
      "[CV] lf__C=1.0, lf__penalty=None, lf__solver=lbfgs ...................\n",
      "[CV]  lf__C=1.0, lf__penalty=None, lf__solver=lbfgs, score=nan, total=   0.1s\n",
      "[CV] lf__C=1.0, lf__penalty=None, lf__solver=lbfgs ...................\n"
     ]
    },
    {
     "name": "stderr",
     "output_type": "stream",
     "text": [
      "C:\\Users\\drago\\anaconda3\\envs\\learn-env\\lib\\site-packages\\sklearn\\model_selection\\_validation.py:548: FitFailedWarning: Estimator fit failed. The score on this train-test partition for these parameters will be set to nan. Details: \n",
      "Traceback (most recent call last):\n",
      "  File \"C:\\Users\\drago\\anaconda3\\envs\\learn-env\\lib\\site-packages\\sklearn\\model_selection\\_validation.py\", line 531, in _fit_and_score\n",
      "    estimator.fit(X_train, y_train, **fit_params)\n",
      "  File \"C:\\Users\\drago\\anaconda3\\envs\\learn-env\\lib\\site-packages\\sklearn\\pipeline.py\", line 335, in fit\n",
      "    self._final_estimator.fit(Xt, y, **fit_params_last_step)\n",
      "  File \"C:\\Users\\drago\\anaconda3\\envs\\learn-env\\lib\\site-packages\\sklearn\\linear_model\\_logistic.py\", line 1304, in fit\n",
      "    solver = _check_solver(self.solver, self.penalty, self.dual)\n",
      "  File \"C:\\Users\\drago\\anaconda3\\envs\\learn-env\\lib\\site-packages\\sklearn\\linear_model\\_logistic.py\", line 438, in _check_solver\n",
      "    raise ValueError(\"Logistic Regression supports only penalties in %s,\"\n",
      "ValueError: Logistic Regression supports only penalties in ['l1', 'l2', 'elasticnet', 'none'], got None.\n",
      "\n",
      "  warnings.warn(\"Estimator fit failed. The score on this train-test\"\n",
      "C:\\Users\\drago\\anaconda3\\envs\\learn-env\\lib\\site-packages\\sklearn\\model_selection\\_validation.py:548: FitFailedWarning: Estimator fit failed. The score on this train-test partition for these parameters will be set to nan. Details: \n",
      "Traceback (most recent call last):\n",
      "  File \"C:\\Users\\drago\\anaconda3\\envs\\learn-env\\lib\\site-packages\\sklearn\\model_selection\\_validation.py\", line 531, in _fit_and_score\n",
      "    estimator.fit(X_train, y_train, **fit_params)\n",
      "  File \"C:\\Users\\drago\\anaconda3\\envs\\learn-env\\lib\\site-packages\\sklearn\\pipeline.py\", line 335, in fit\n",
      "    self._final_estimator.fit(Xt, y, **fit_params_last_step)\n",
      "  File \"C:\\Users\\drago\\anaconda3\\envs\\learn-env\\lib\\site-packages\\sklearn\\linear_model\\_logistic.py\", line 1304, in fit\n",
      "    solver = _check_solver(self.solver, self.penalty, self.dual)\n",
      "  File \"C:\\Users\\drago\\anaconda3\\envs\\learn-env\\lib\\site-packages\\sklearn\\linear_model\\_logistic.py\", line 438, in _check_solver\n",
      "    raise ValueError(\"Logistic Regression supports only penalties in %s,\"\n",
      "ValueError: Logistic Regression supports only penalties in ['l1', 'l2', 'elasticnet', 'none'], got None.\n",
      "\n",
      "  warnings.warn(\"Estimator fit failed. The score on this train-test\"\n"
     ]
    },
    {
     "name": "stdout",
     "output_type": "stream",
     "text": [
      "[CV]  lf__C=1.0, lf__penalty=None, lf__solver=lbfgs, score=nan, total=   0.1s\n",
      "[CV] lf__C=1.0, lf__penalty=None, lf__solver=lbfgs ...................\n",
      "[CV]  lf__C=1.0, lf__penalty=None, lf__solver=lbfgs, score=nan, total=   0.1s\n",
      "[CV] lf__C=1.0, lf__penalty=None, lf__solver=lbfgs ...................\n"
     ]
    },
    {
     "name": "stderr",
     "output_type": "stream",
     "text": [
      "C:\\Users\\drago\\anaconda3\\envs\\learn-env\\lib\\site-packages\\sklearn\\model_selection\\_validation.py:548: FitFailedWarning: Estimator fit failed. The score on this train-test partition for these parameters will be set to nan. Details: \n",
      "Traceback (most recent call last):\n",
      "  File \"C:\\Users\\drago\\anaconda3\\envs\\learn-env\\lib\\site-packages\\sklearn\\model_selection\\_validation.py\", line 531, in _fit_and_score\n",
      "    estimator.fit(X_train, y_train, **fit_params)\n",
      "  File \"C:\\Users\\drago\\anaconda3\\envs\\learn-env\\lib\\site-packages\\sklearn\\pipeline.py\", line 335, in fit\n",
      "    self._final_estimator.fit(Xt, y, **fit_params_last_step)\n",
      "  File \"C:\\Users\\drago\\anaconda3\\envs\\learn-env\\lib\\site-packages\\sklearn\\linear_model\\_logistic.py\", line 1304, in fit\n",
      "    solver = _check_solver(self.solver, self.penalty, self.dual)\n",
      "  File \"C:\\Users\\drago\\anaconda3\\envs\\learn-env\\lib\\site-packages\\sklearn\\linear_model\\_logistic.py\", line 438, in _check_solver\n",
      "    raise ValueError(\"Logistic Regression supports only penalties in %s,\"\n",
      "ValueError: Logistic Regression supports only penalties in ['l1', 'l2', 'elasticnet', 'none'], got None.\n",
      "\n",
      "  warnings.warn(\"Estimator fit failed. The score on this train-test\"\n",
      "C:\\Users\\drago\\anaconda3\\envs\\learn-env\\lib\\site-packages\\sklearn\\model_selection\\_validation.py:548: FitFailedWarning: Estimator fit failed. The score on this train-test partition for these parameters will be set to nan. Details: \n",
      "Traceback (most recent call last):\n",
      "  File \"C:\\Users\\drago\\anaconda3\\envs\\learn-env\\lib\\site-packages\\sklearn\\model_selection\\_validation.py\", line 531, in _fit_and_score\n",
      "    estimator.fit(X_train, y_train, **fit_params)\n",
      "  File \"C:\\Users\\drago\\anaconda3\\envs\\learn-env\\lib\\site-packages\\sklearn\\pipeline.py\", line 335, in fit\n",
      "    self._final_estimator.fit(Xt, y, **fit_params_last_step)\n",
      "  File \"C:\\Users\\drago\\anaconda3\\envs\\learn-env\\lib\\site-packages\\sklearn\\linear_model\\_logistic.py\", line 1304, in fit\n",
      "    solver = _check_solver(self.solver, self.penalty, self.dual)\n",
      "  File \"C:\\Users\\drago\\anaconda3\\envs\\learn-env\\lib\\site-packages\\sklearn\\linear_model\\_logistic.py\", line 438, in _check_solver\n",
      "    raise ValueError(\"Logistic Regression supports only penalties in %s,\"\n",
      "ValueError: Logistic Regression supports only penalties in ['l1', 'l2', 'elasticnet', 'none'], got None.\n",
      "\n",
      "  warnings.warn(\"Estimator fit failed. The score on this train-test\"\n"
     ]
    },
    {
     "name": "stdout",
     "output_type": "stream",
     "text": [
      "[CV]  lf__C=1.0, lf__penalty=None, lf__solver=lbfgs, score=nan, total=   0.1s\n",
      "[CV] lf__C=1.0, lf__penalty=None, lf__solver=lbfgs ...................\n",
      "[CV]  lf__C=1.0, lf__penalty=None, lf__solver=lbfgs, score=nan, total=   0.1s\n",
      "[CV] lf__C=1.0, lf__penalty=None, lf__solver=liblinear ...............\n"
     ]
    },
    {
     "name": "stderr",
     "output_type": "stream",
     "text": [
      "C:\\Users\\drago\\anaconda3\\envs\\learn-env\\lib\\site-packages\\sklearn\\model_selection\\_validation.py:548: FitFailedWarning: Estimator fit failed. The score on this train-test partition for these parameters will be set to nan. Details: \n",
      "Traceback (most recent call last):\n",
      "  File \"C:\\Users\\drago\\anaconda3\\envs\\learn-env\\lib\\site-packages\\sklearn\\model_selection\\_validation.py\", line 531, in _fit_and_score\n",
      "    estimator.fit(X_train, y_train, **fit_params)\n",
      "  File \"C:\\Users\\drago\\anaconda3\\envs\\learn-env\\lib\\site-packages\\sklearn\\pipeline.py\", line 335, in fit\n",
      "    self._final_estimator.fit(Xt, y, **fit_params_last_step)\n",
      "  File \"C:\\Users\\drago\\anaconda3\\envs\\learn-env\\lib\\site-packages\\sklearn\\linear_model\\_logistic.py\", line 1304, in fit\n",
      "    solver = _check_solver(self.solver, self.penalty, self.dual)\n",
      "  File \"C:\\Users\\drago\\anaconda3\\envs\\learn-env\\lib\\site-packages\\sklearn\\linear_model\\_logistic.py\", line 438, in _check_solver\n",
      "    raise ValueError(\"Logistic Regression supports only penalties in %s,\"\n",
      "ValueError: Logistic Regression supports only penalties in ['l1', 'l2', 'elasticnet', 'none'], got None.\n",
      "\n",
      "  warnings.warn(\"Estimator fit failed. The score on this train-test\"\n",
      "C:\\Users\\drago\\anaconda3\\envs\\learn-env\\lib\\site-packages\\sklearn\\model_selection\\_validation.py:548: FitFailedWarning: Estimator fit failed. The score on this train-test partition for these parameters will be set to nan. Details: \n",
      "Traceback (most recent call last):\n",
      "  File \"C:\\Users\\drago\\anaconda3\\envs\\learn-env\\lib\\site-packages\\sklearn\\model_selection\\_validation.py\", line 531, in _fit_and_score\n",
      "    estimator.fit(X_train, y_train, **fit_params)\n",
      "  File \"C:\\Users\\drago\\anaconda3\\envs\\learn-env\\lib\\site-packages\\sklearn\\pipeline.py\", line 335, in fit\n",
      "    self._final_estimator.fit(Xt, y, **fit_params_last_step)\n",
      "  File \"C:\\Users\\drago\\anaconda3\\envs\\learn-env\\lib\\site-packages\\sklearn\\linear_model\\_logistic.py\", line 1304, in fit\n",
      "    solver = _check_solver(self.solver, self.penalty, self.dual)\n",
      "  File \"C:\\Users\\drago\\anaconda3\\envs\\learn-env\\lib\\site-packages\\sklearn\\linear_model\\_logistic.py\", line 438, in _check_solver\n",
      "    raise ValueError(\"Logistic Regression supports only penalties in %s,\"\n",
      "ValueError: Logistic Regression supports only penalties in ['l1', 'l2', 'elasticnet', 'none'], got None.\n",
      "\n",
      "  warnings.warn(\"Estimator fit failed. The score on this train-test\"\n"
     ]
    },
    {
     "name": "stdout",
     "output_type": "stream",
     "text": [
      "[CV]  lf__C=1.0, lf__penalty=None, lf__solver=liblinear, score=nan, total=   0.1s\n",
      "[CV] lf__C=1.0, lf__penalty=None, lf__solver=liblinear ...............\n",
      "[CV]  lf__C=1.0, lf__penalty=None, lf__solver=liblinear, score=nan, total=   0.1s\n",
      "[CV] lf__C=1.0, lf__penalty=None, lf__solver=liblinear ...............\n"
     ]
    },
    {
     "name": "stderr",
     "output_type": "stream",
     "text": [
      "C:\\Users\\drago\\anaconda3\\envs\\learn-env\\lib\\site-packages\\sklearn\\model_selection\\_validation.py:548: FitFailedWarning: Estimator fit failed. The score on this train-test partition for these parameters will be set to nan. Details: \n",
      "Traceback (most recent call last):\n",
      "  File \"C:\\Users\\drago\\anaconda3\\envs\\learn-env\\lib\\site-packages\\sklearn\\model_selection\\_validation.py\", line 531, in _fit_and_score\n",
      "    estimator.fit(X_train, y_train, **fit_params)\n",
      "  File \"C:\\Users\\drago\\anaconda3\\envs\\learn-env\\lib\\site-packages\\sklearn\\pipeline.py\", line 335, in fit\n",
      "    self._final_estimator.fit(Xt, y, **fit_params_last_step)\n",
      "  File \"C:\\Users\\drago\\anaconda3\\envs\\learn-env\\lib\\site-packages\\sklearn\\linear_model\\_logistic.py\", line 1304, in fit\n",
      "    solver = _check_solver(self.solver, self.penalty, self.dual)\n",
      "  File \"C:\\Users\\drago\\anaconda3\\envs\\learn-env\\lib\\site-packages\\sklearn\\linear_model\\_logistic.py\", line 438, in _check_solver\n",
      "    raise ValueError(\"Logistic Regression supports only penalties in %s,\"\n",
      "ValueError: Logistic Regression supports only penalties in ['l1', 'l2', 'elasticnet', 'none'], got None.\n",
      "\n",
      "  warnings.warn(\"Estimator fit failed. The score on this train-test\"\n",
      "C:\\Users\\drago\\anaconda3\\envs\\learn-env\\lib\\site-packages\\sklearn\\model_selection\\_validation.py:548: FitFailedWarning: Estimator fit failed. The score on this train-test partition for these parameters will be set to nan. Details: \n",
      "Traceback (most recent call last):\n",
      "  File \"C:\\Users\\drago\\anaconda3\\envs\\learn-env\\lib\\site-packages\\sklearn\\model_selection\\_validation.py\", line 531, in _fit_and_score\n",
      "    estimator.fit(X_train, y_train, **fit_params)\n",
      "  File \"C:\\Users\\drago\\anaconda3\\envs\\learn-env\\lib\\site-packages\\sklearn\\pipeline.py\", line 335, in fit\n",
      "    self._final_estimator.fit(Xt, y, **fit_params_last_step)\n",
      "  File \"C:\\Users\\drago\\anaconda3\\envs\\learn-env\\lib\\site-packages\\sklearn\\linear_model\\_logistic.py\", line 1304, in fit\n",
      "    solver = _check_solver(self.solver, self.penalty, self.dual)\n",
      "  File \"C:\\Users\\drago\\anaconda3\\envs\\learn-env\\lib\\site-packages\\sklearn\\linear_model\\_logistic.py\", line 438, in _check_solver\n",
      "    raise ValueError(\"Logistic Regression supports only penalties in %s,\"\n",
      "ValueError: Logistic Regression supports only penalties in ['l1', 'l2', 'elasticnet', 'none'], got None.\n",
      "\n",
      "  warnings.warn(\"Estimator fit failed. The score on this train-test\"\n"
     ]
    },
    {
     "name": "stdout",
     "output_type": "stream",
     "text": [
      "[CV]  lf__C=1.0, lf__penalty=None, lf__solver=liblinear, score=nan, total=   0.1s\n",
      "[CV] lf__C=1.0, lf__penalty=None, lf__solver=liblinear ...............\n",
      "[CV]  lf__C=1.0, lf__penalty=None, lf__solver=liblinear, score=nan, total=   0.1s\n",
      "[CV] lf__C=1.0, lf__penalty=None, lf__solver=liblinear ...............\n"
     ]
    },
    {
     "name": "stderr",
     "output_type": "stream",
     "text": [
      "C:\\Users\\drago\\anaconda3\\envs\\learn-env\\lib\\site-packages\\sklearn\\model_selection\\_validation.py:548: FitFailedWarning: Estimator fit failed. The score on this train-test partition for these parameters will be set to nan. Details: \n",
      "Traceback (most recent call last):\n",
      "  File \"C:\\Users\\drago\\anaconda3\\envs\\learn-env\\lib\\site-packages\\sklearn\\model_selection\\_validation.py\", line 531, in _fit_and_score\n",
      "    estimator.fit(X_train, y_train, **fit_params)\n",
      "  File \"C:\\Users\\drago\\anaconda3\\envs\\learn-env\\lib\\site-packages\\sklearn\\pipeline.py\", line 335, in fit\n",
      "    self._final_estimator.fit(Xt, y, **fit_params_last_step)\n",
      "  File \"C:\\Users\\drago\\anaconda3\\envs\\learn-env\\lib\\site-packages\\sklearn\\linear_model\\_logistic.py\", line 1304, in fit\n",
      "    solver = _check_solver(self.solver, self.penalty, self.dual)\n",
      "  File \"C:\\Users\\drago\\anaconda3\\envs\\learn-env\\lib\\site-packages\\sklearn\\linear_model\\_logistic.py\", line 438, in _check_solver\n",
      "    raise ValueError(\"Logistic Regression supports only penalties in %s,\"\n",
      "ValueError: Logistic Regression supports only penalties in ['l1', 'l2', 'elasticnet', 'none'], got None.\n",
      "\n",
      "  warnings.warn(\"Estimator fit failed. The score on this train-test\"\n",
      "C:\\Users\\drago\\anaconda3\\envs\\learn-env\\lib\\site-packages\\sklearn\\model_selection\\_validation.py:548: FitFailedWarning: Estimator fit failed. The score on this train-test partition for these parameters will be set to nan. Details: \n",
      "Traceback (most recent call last):\n",
      "  File \"C:\\Users\\drago\\anaconda3\\envs\\learn-env\\lib\\site-packages\\sklearn\\model_selection\\_validation.py\", line 531, in _fit_and_score\n",
      "    estimator.fit(X_train, y_train, **fit_params)\n",
      "  File \"C:\\Users\\drago\\anaconda3\\envs\\learn-env\\lib\\site-packages\\sklearn\\pipeline.py\", line 335, in fit\n",
      "    self._final_estimator.fit(Xt, y, **fit_params_last_step)\n",
      "  File \"C:\\Users\\drago\\anaconda3\\envs\\learn-env\\lib\\site-packages\\sklearn\\linear_model\\_logistic.py\", line 1304, in fit\n",
      "    solver = _check_solver(self.solver, self.penalty, self.dual)\n",
      "  File \"C:\\Users\\drago\\anaconda3\\envs\\learn-env\\lib\\site-packages\\sklearn\\linear_model\\_logistic.py\", line 438, in _check_solver\n",
      "    raise ValueError(\"Logistic Regression supports only penalties in %s,\"\n",
      "ValueError: Logistic Regression supports only penalties in ['l1', 'l2', 'elasticnet', 'none'], got None.\n",
      "\n",
      "  warnings.warn(\"Estimator fit failed. The score on this train-test\"\n"
     ]
    },
    {
     "name": "stdout",
     "output_type": "stream",
     "text": [
      "[CV]  lf__C=1.0, lf__penalty=None, lf__solver=liblinear, score=nan, total=   0.1s\n",
      "[CV] lf__C=1.0, lf__penalty=None, lf__solver=sag .....................\n",
      "[CV]  lf__C=1.0, lf__penalty=None, lf__solver=sag, score=nan, total=   0.1s\n",
      "[CV] lf__C=1.0, lf__penalty=None, lf__solver=sag .....................\n"
     ]
    },
    {
     "name": "stderr",
     "output_type": "stream",
     "text": [
      "C:\\Users\\drago\\anaconda3\\envs\\learn-env\\lib\\site-packages\\sklearn\\model_selection\\_validation.py:548: FitFailedWarning: Estimator fit failed. The score on this train-test partition for these parameters will be set to nan. Details: \n",
      "Traceback (most recent call last):\n",
      "  File \"C:\\Users\\drago\\anaconda3\\envs\\learn-env\\lib\\site-packages\\sklearn\\model_selection\\_validation.py\", line 531, in _fit_and_score\n",
      "    estimator.fit(X_train, y_train, **fit_params)\n",
      "  File \"C:\\Users\\drago\\anaconda3\\envs\\learn-env\\lib\\site-packages\\sklearn\\pipeline.py\", line 335, in fit\n",
      "    self._final_estimator.fit(Xt, y, **fit_params_last_step)\n",
      "  File \"C:\\Users\\drago\\anaconda3\\envs\\learn-env\\lib\\site-packages\\sklearn\\linear_model\\_logistic.py\", line 1304, in fit\n",
      "    solver = _check_solver(self.solver, self.penalty, self.dual)\n",
      "  File \"C:\\Users\\drago\\anaconda3\\envs\\learn-env\\lib\\site-packages\\sklearn\\linear_model\\_logistic.py\", line 438, in _check_solver\n",
      "    raise ValueError(\"Logistic Regression supports only penalties in %s,\"\n",
      "ValueError: Logistic Regression supports only penalties in ['l1', 'l2', 'elasticnet', 'none'], got None.\n",
      "\n",
      "  warnings.warn(\"Estimator fit failed. The score on this train-test\"\n",
      "C:\\Users\\drago\\anaconda3\\envs\\learn-env\\lib\\site-packages\\sklearn\\model_selection\\_validation.py:548: FitFailedWarning: Estimator fit failed. The score on this train-test partition for these parameters will be set to nan. Details: \n",
      "Traceback (most recent call last):\n",
      "  File \"C:\\Users\\drago\\anaconda3\\envs\\learn-env\\lib\\site-packages\\sklearn\\model_selection\\_validation.py\", line 531, in _fit_and_score\n",
      "    estimator.fit(X_train, y_train, **fit_params)\n",
      "  File \"C:\\Users\\drago\\anaconda3\\envs\\learn-env\\lib\\site-packages\\sklearn\\pipeline.py\", line 335, in fit\n",
      "    self._final_estimator.fit(Xt, y, **fit_params_last_step)\n",
      "  File \"C:\\Users\\drago\\anaconda3\\envs\\learn-env\\lib\\site-packages\\sklearn\\linear_model\\_logistic.py\", line 1304, in fit\n",
      "    solver = _check_solver(self.solver, self.penalty, self.dual)\n",
      "  File \"C:\\Users\\drago\\anaconda3\\envs\\learn-env\\lib\\site-packages\\sklearn\\linear_model\\_logistic.py\", line 438, in _check_solver\n",
      "    raise ValueError(\"Logistic Regression supports only penalties in %s,\"\n",
      "ValueError: Logistic Regression supports only penalties in ['l1', 'l2', 'elasticnet', 'none'], got None.\n",
      "\n",
      "  warnings.warn(\"Estimator fit failed. The score on this train-test\"\n"
     ]
    },
    {
     "name": "stdout",
     "output_type": "stream",
     "text": [
      "[CV]  lf__C=1.0, lf__penalty=None, lf__solver=sag, score=nan, total=   0.1s\n",
      "[CV] lf__C=1.0, lf__penalty=None, lf__solver=sag .....................\n",
      "[CV]  lf__C=1.0, lf__penalty=None, lf__solver=sag, score=nan, total=   0.1s\n",
      "[CV] lf__C=1.0, lf__penalty=None, lf__solver=sag .....................\n"
     ]
    },
    {
     "name": "stderr",
     "output_type": "stream",
     "text": [
      "C:\\Users\\drago\\anaconda3\\envs\\learn-env\\lib\\site-packages\\sklearn\\model_selection\\_validation.py:548: FitFailedWarning: Estimator fit failed. The score on this train-test partition for these parameters will be set to nan. Details: \n",
      "Traceback (most recent call last):\n",
      "  File \"C:\\Users\\drago\\anaconda3\\envs\\learn-env\\lib\\site-packages\\sklearn\\model_selection\\_validation.py\", line 531, in _fit_and_score\n",
      "    estimator.fit(X_train, y_train, **fit_params)\n",
      "  File \"C:\\Users\\drago\\anaconda3\\envs\\learn-env\\lib\\site-packages\\sklearn\\pipeline.py\", line 335, in fit\n",
      "    self._final_estimator.fit(Xt, y, **fit_params_last_step)\n",
      "  File \"C:\\Users\\drago\\anaconda3\\envs\\learn-env\\lib\\site-packages\\sklearn\\linear_model\\_logistic.py\", line 1304, in fit\n",
      "    solver = _check_solver(self.solver, self.penalty, self.dual)\n",
      "  File \"C:\\Users\\drago\\anaconda3\\envs\\learn-env\\lib\\site-packages\\sklearn\\linear_model\\_logistic.py\", line 438, in _check_solver\n",
      "    raise ValueError(\"Logistic Regression supports only penalties in %s,\"\n",
      "ValueError: Logistic Regression supports only penalties in ['l1', 'l2', 'elasticnet', 'none'], got None.\n",
      "\n",
      "  warnings.warn(\"Estimator fit failed. The score on this train-test\"\n",
      "C:\\Users\\drago\\anaconda3\\envs\\learn-env\\lib\\site-packages\\sklearn\\model_selection\\_validation.py:548: FitFailedWarning: Estimator fit failed. The score on this train-test partition for these parameters will be set to nan. Details: \n",
      "Traceback (most recent call last):\n",
      "  File \"C:\\Users\\drago\\anaconda3\\envs\\learn-env\\lib\\site-packages\\sklearn\\model_selection\\_validation.py\", line 531, in _fit_and_score\n",
      "    estimator.fit(X_train, y_train, **fit_params)\n",
      "  File \"C:\\Users\\drago\\anaconda3\\envs\\learn-env\\lib\\site-packages\\sklearn\\pipeline.py\", line 335, in fit\n",
      "    self._final_estimator.fit(Xt, y, **fit_params_last_step)\n",
      "  File \"C:\\Users\\drago\\anaconda3\\envs\\learn-env\\lib\\site-packages\\sklearn\\linear_model\\_logistic.py\", line 1304, in fit\n",
      "    solver = _check_solver(self.solver, self.penalty, self.dual)\n",
      "  File \"C:\\Users\\drago\\anaconda3\\envs\\learn-env\\lib\\site-packages\\sklearn\\linear_model\\_logistic.py\", line 438, in _check_solver\n",
      "    raise ValueError(\"Logistic Regression supports only penalties in %s,\"\n",
      "ValueError: Logistic Regression supports only penalties in ['l1', 'l2', 'elasticnet', 'none'], got None.\n",
      "\n",
      "  warnings.warn(\"Estimator fit failed. The score on this train-test\"\n"
     ]
    },
    {
     "name": "stdout",
     "output_type": "stream",
     "text": [
      "[CV]  lf__C=1.0, lf__penalty=None, lf__solver=sag, score=nan, total=   0.1s\n",
      "[CV] lf__C=1.0, lf__penalty=None, lf__solver=sag .....................\n",
      "[CV]  lf__C=1.0, lf__penalty=None, lf__solver=sag, score=nan, total=   0.1s\n",
      "[CV] lf__C=1.0, lf__penalty=None, lf__solver=saga ....................\n"
     ]
    },
    {
     "name": "stderr",
     "output_type": "stream",
     "text": [
      "C:\\Users\\drago\\anaconda3\\envs\\learn-env\\lib\\site-packages\\sklearn\\model_selection\\_validation.py:548: FitFailedWarning: Estimator fit failed. The score on this train-test partition for these parameters will be set to nan. Details: \n",
      "Traceback (most recent call last):\n",
      "  File \"C:\\Users\\drago\\anaconda3\\envs\\learn-env\\lib\\site-packages\\sklearn\\model_selection\\_validation.py\", line 531, in _fit_and_score\n",
      "    estimator.fit(X_train, y_train, **fit_params)\n",
      "  File \"C:\\Users\\drago\\anaconda3\\envs\\learn-env\\lib\\site-packages\\sklearn\\pipeline.py\", line 335, in fit\n",
      "    self._final_estimator.fit(Xt, y, **fit_params_last_step)\n",
      "  File \"C:\\Users\\drago\\anaconda3\\envs\\learn-env\\lib\\site-packages\\sklearn\\linear_model\\_logistic.py\", line 1304, in fit\n",
      "    solver = _check_solver(self.solver, self.penalty, self.dual)\n",
      "  File \"C:\\Users\\drago\\anaconda3\\envs\\learn-env\\lib\\site-packages\\sklearn\\linear_model\\_logistic.py\", line 438, in _check_solver\n",
      "    raise ValueError(\"Logistic Regression supports only penalties in %s,\"\n",
      "ValueError: Logistic Regression supports only penalties in ['l1', 'l2', 'elasticnet', 'none'], got None.\n",
      "\n",
      "  warnings.warn(\"Estimator fit failed. The score on this train-test\"\n",
      "C:\\Users\\drago\\anaconda3\\envs\\learn-env\\lib\\site-packages\\sklearn\\model_selection\\_validation.py:548: FitFailedWarning: Estimator fit failed. The score on this train-test partition for these parameters will be set to nan. Details: \n",
      "Traceback (most recent call last):\n",
      "  File \"C:\\Users\\drago\\anaconda3\\envs\\learn-env\\lib\\site-packages\\sklearn\\model_selection\\_validation.py\", line 531, in _fit_and_score\n",
      "    estimator.fit(X_train, y_train, **fit_params)\n",
      "  File \"C:\\Users\\drago\\anaconda3\\envs\\learn-env\\lib\\site-packages\\sklearn\\pipeline.py\", line 335, in fit\n",
      "    self._final_estimator.fit(Xt, y, **fit_params_last_step)\n",
      "  File \"C:\\Users\\drago\\anaconda3\\envs\\learn-env\\lib\\site-packages\\sklearn\\linear_model\\_logistic.py\", line 1304, in fit\n",
      "    solver = _check_solver(self.solver, self.penalty, self.dual)\n",
      "  File \"C:\\Users\\drago\\anaconda3\\envs\\learn-env\\lib\\site-packages\\sklearn\\linear_model\\_logistic.py\", line 438, in _check_solver\n",
      "    raise ValueError(\"Logistic Regression supports only penalties in %s,\"\n",
      "ValueError: Logistic Regression supports only penalties in ['l1', 'l2', 'elasticnet', 'none'], got None.\n",
      "\n",
      "  warnings.warn(\"Estimator fit failed. The score on this train-test\"\n"
     ]
    },
    {
     "name": "stdout",
     "output_type": "stream",
     "text": [
      "[CV]  lf__C=1.0, lf__penalty=None, lf__solver=saga, score=nan, total=   0.1s\n",
      "[CV] lf__C=1.0, lf__penalty=None, lf__solver=saga ....................\n",
      "[CV]  lf__C=1.0, lf__penalty=None, lf__solver=saga, score=nan, total=   0.1s\n",
      "[CV] lf__C=1.0, lf__penalty=None, lf__solver=saga ....................\n"
     ]
    },
    {
     "name": "stderr",
     "output_type": "stream",
     "text": [
      "C:\\Users\\drago\\anaconda3\\envs\\learn-env\\lib\\site-packages\\sklearn\\model_selection\\_validation.py:548: FitFailedWarning: Estimator fit failed. The score on this train-test partition for these parameters will be set to nan. Details: \n",
      "Traceback (most recent call last):\n",
      "  File \"C:\\Users\\drago\\anaconda3\\envs\\learn-env\\lib\\site-packages\\sklearn\\model_selection\\_validation.py\", line 531, in _fit_and_score\n",
      "    estimator.fit(X_train, y_train, **fit_params)\n",
      "  File \"C:\\Users\\drago\\anaconda3\\envs\\learn-env\\lib\\site-packages\\sklearn\\pipeline.py\", line 335, in fit\n",
      "    self._final_estimator.fit(Xt, y, **fit_params_last_step)\n",
      "  File \"C:\\Users\\drago\\anaconda3\\envs\\learn-env\\lib\\site-packages\\sklearn\\linear_model\\_logistic.py\", line 1304, in fit\n",
      "    solver = _check_solver(self.solver, self.penalty, self.dual)\n",
      "  File \"C:\\Users\\drago\\anaconda3\\envs\\learn-env\\lib\\site-packages\\sklearn\\linear_model\\_logistic.py\", line 438, in _check_solver\n",
      "    raise ValueError(\"Logistic Regression supports only penalties in %s,\"\n",
      "ValueError: Logistic Regression supports only penalties in ['l1', 'l2', 'elasticnet', 'none'], got None.\n",
      "\n",
      "  warnings.warn(\"Estimator fit failed. The score on this train-test\"\n",
      "C:\\Users\\drago\\anaconda3\\envs\\learn-env\\lib\\site-packages\\sklearn\\model_selection\\_validation.py:548: FitFailedWarning: Estimator fit failed. The score on this train-test partition for these parameters will be set to nan. Details: \n",
      "Traceback (most recent call last):\n",
      "  File \"C:\\Users\\drago\\anaconda3\\envs\\learn-env\\lib\\site-packages\\sklearn\\model_selection\\_validation.py\", line 531, in _fit_and_score\n",
      "    estimator.fit(X_train, y_train, **fit_params)\n",
      "  File \"C:\\Users\\drago\\anaconda3\\envs\\learn-env\\lib\\site-packages\\sklearn\\pipeline.py\", line 335, in fit\n",
      "    self._final_estimator.fit(Xt, y, **fit_params_last_step)\n",
      "  File \"C:\\Users\\drago\\anaconda3\\envs\\learn-env\\lib\\site-packages\\sklearn\\linear_model\\_logistic.py\", line 1304, in fit\n",
      "    solver = _check_solver(self.solver, self.penalty, self.dual)\n",
      "  File \"C:\\Users\\drago\\anaconda3\\envs\\learn-env\\lib\\site-packages\\sklearn\\linear_model\\_logistic.py\", line 438, in _check_solver\n",
      "    raise ValueError(\"Logistic Regression supports only penalties in %s,\"\n",
      "ValueError: Logistic Regression supports only penalties in ['l1', 'l2', 'elasticnet', 'none'], got None.\n",
      "\n",
      "  warnings.warn(\"Estimator fit failed. The score on this train-test\"\n"
     ]
    },
    {
     "name": "stdout",
     "output_type": "stream",
     "text": [
      "[CV]  lf__C=1.0, lf__penalty=None, lf__solver=saga, score=nan, total=   0.1s\n",
      "[CV] lf__C=1.0, lf__penalty=None, lf__solver=saga ....................\n",
      "[CV]  lf__C=1.0, lf__penalty=None, lf__solver=saga, score=nan, total=   0.1s\n",
      "[CV] lf__C=1.0, lf__penalty=None, lf__solver=saga ....................\n"
     ]
    },
    {
     "name": "stderr",
     "output_type": "stream",
     "text": [
      "C:\\Users\\drago\\anaconda3\\envs\\learn-env\\lib\\site-packages\\sklearn\\model_selection\\_validation.py:548: FitFailedWarning: Estimator fit failed. The score on this train-test partition for these parameters will be set to nan. Details: \n",
      "Traceback (most recent call last):\n",
      "  File \"C:\\Users\\drago\\anaconda3\\envs\\learn-env\\lib\\site-packages\\sklearn\\model_selection\\_validation.py\", line 531, in _fit_and_score\n",
      "    estimator.fit(X_train, y_train, **fit_params)\n",
      "  File \"C:\\Users\\drago\\anaconda3\\envs\\learn-env\\lib\\site-packages\\sklearn\\pipeline.py\", line 335, in fit\n",
      "    self._final_estimator.fit(Xt, y, **fit_params_last_step)\n",
      "  File \"C:\\Users\\drago\\anaconda3\\envs\\learn-env\\lib\\site-packages\\sklearn\\linear_model\\_logistic.py\", line 1304, in fit\n",
      "    solver = _check_solver(self.solver, self.penalty, self.dual)\n",
      "  File \"C:\\Users\\drago\\anaconda3\\envs\\learn-env\\lib\\site-packages\\sklearn\\linear_model\\_logistic.py\", line 438, in _check_solver\n",
      "    raise ValueError(\"Logistic Regression supports only penalties in %s,\"\n",
      "ValueError: Logistic Regression supports only penalties in ['l1', 'l2', 'elasticnet', 'none'], got None.\n",
      "\n",
      "  warnings.warn(\"Estimator fit failed. The score on this train-test\"\n",
      "C:\\Users\\drago\\anaconda3\\envs\\learn-env\\lib\\site-packages\\sklearn\\model_selection\\_validation.py:548: FitFailedWarning: Estimator fit failed. The score on this train-test partition for these parameters will be set to nan. Details: \n",
      "Traceback (most recent call last):\n",
      "  File \"C:\\Users\\drago\\anaconda3\\envs\\learn-env\\lib\\site-packages\\sklearn\\model_selection\\_validation.py\", line 531, in _fit_and_score\n",
      "    estimator.fit(X_train, y_train, **fit_params)\n",
      "  File \"C:\\Users\\drago\\anaconda3\\envs\\learn-env\\lib\\site-packages\\sklearn\\pipeline.py\", line 335, in fit\n",
      "    self._final_estimator.fit(Xt, y, **fit_params_last_step)\n",
      "  File \"C:\\Users\\drago\\anaconda3\\envs\\learn-env\\lib\\site-packages\\sklearn\\linear_model\\_logistic.py\", line 1304, in fit\n",
      "    solver = _check_solver(self.solver, self.penalty, self.dual)\n",
      "  File \"C:\\Users\\drago\\anaconda3\\envs\\learn-env\\lib\\site-packages\\sklearn\\linear_model\\_logistic.py\", line 442, in _check_solver\n",
      "    raise ValueError(\"Solver %s supports only 'l2' or 'none' penalties, \"\n",
      "ValueError: Solver newton-cg supports only 'l2' or 'none' penalties, got l1 penalty.\n",
      "\n",
      "  warnings.warn(\"Estimator fit failed. The score on this train-test\"\n"
     ]
    },
    {
     "name": "stdout",
     "output_type": "stream",
     "text": [
      "[CV]  lf__C=1.0, lf__penalty=None, lf__solver=saga, score=nan, total=   0.1s\n",
      "[CV] lf__C=0.1, lf__penalty=l1, lf__solver=newton-cg .................\n",
      "[CV]  lf__C=0.1, lf__penalty=l1, lf__solver=newton-cg, score=nan, total=   0.1s\n",
      "[CV] lf__C=0.1, lf__penalty=l1, lf__solver=newton-cg .................\n"
     ]
    },
    {
     "name": "stderr",
     "output_type": "stream",
     "text": [
      "C:\\Users\\drago\\anaconda3\\envs\\learn-env\\lib\\site-packages\\sklearn\\model_selection\\_validation.py:548: FitFailedWarning: Estimator fit failed. The score on this train-test partition for these parameters will be set to nan. Details: \n",
      "Traceback (most recent call last):\n",
      "  File \"C:\\Users\\drago\\anaconda3\\envs\\learn-env\\lib\\site-packages\\sklearn\\model_selection\\_validation.py\", line 531, in _fit_and_score\n",
      "    estimator.fit(X_train, y_train, **fit_params)\n",
      "  File \"C:\\Users\\drago\\anaconda3\\envs\\learn-env\\lib\\site-packages\\sklearn\\pipeline.py\", line 335, in fit\n",
      "    self._final_estimator.fit(Xt, y, **fit_params_last_step)\n",
      "  File \"C:\\Users\\drago\\anaconda3\\envs\\learn-env\\lib\\site-packages\\sklearn\\linear_model\\_logistic.py\", line 1304, in fit\n",
      "    solver = _check_solver(self.solver, self.penalty, self.dual)\n",
      "  File \"C:\\Users\\drago\\anaconda3\\envs\\learn-env\\lib\\site-packages\\sklearn\\linear_model\\_logistic.py\", line 442, in _check_solver\n",
      "    raise ValueError(\"Solver %s supports only 'l2' or 'none' penalties, \"\n",
      "ValueError: Solver newton-cg supports only 'l2' or 'none' penalties, got l1 penalty.\n",
      "\n",
      "  warnings.warn(\"Estimator fit failed. The score on this train-test\"\n",
      "C:\\Users\\drago\\anaconda3\\envs\\learn-env\\lib\\site-packages\\sklearn\\model_selection\\_validation.py:548: FitFailedWarning: Estimator fit failed. The score on this train-test partition for these parameters will be set to nan. Details: \n",
      "Traceback (most recent call last):\n",
      "  File \"C:\\Users\\drago\\anaconda3\\envs\\learn-env\\lib\\site-packages\\sklearn\\model_selection\\_validation.py\", line 531, in _fit_and_score\n",
      "    estimator.fit(X_train, y_train, **fit_params)\n",
      "  File \"C:\\Users\\drago\\anaconda3\\envs\\learn-env\\lib\\site-packages\\sklearn\\pipeline.py\", line 335, in fit\n",
      "    self._final_estimator.fit(Xt, y, **fit_params_last_step)\n",
      "  File \"C:\\Users\\drago\\anaconda3\\envs\\learn-env\\lib\\site-packages\\sklearn\\linear_model\\_logistic.py\", line 1304, in fit\n",
      "    solver = _check_solver(self.solver, self.penalty, self.dual)\n",
      "  File \"C:\\Users\\drago\\anaconda3\\envs\\learn-env\\lib\\site-packages\\sklearn\\linear_model\\_logistic.py\", line 442, in _check_solver\n",
      "    raise ValueError(\"Solver %s supports only 'l2' or 'none' penalties, \"\n",
      "ValueError: Solver newton-cg supports only 'l2' or 'none' penalties, got l1 penalty.\n",
      "\n",
      "  warnings.warn(\"Estimator fit failed. The score on this train-test\"\n"
     ]
    },
    {
     "name": "stdout",
     "output_type": "stream",
     "text": [
      "[CV]  lf__C=0.1, lf__penalty=l1, lf__solver=newton-cg, score=nan, total=   0.1s\n",
      "[CV] lf__C=0.1, lf__penalty=l1, lf__solver=newton-cg .................\n",
      "[CV]  lf__C=0.1, lf__penalty=l1, lf__solver=newton-cg, score=nan, total=   0.1s\n",
      "[CV] lf__C=0.1, lf__penalty=l1, lf__solver=newton-cg .................\n"
     ]
    },
    {
     "name": "stderr",
     "output_type": "stream",
     "text": [
      "C:\\Users\\drago\\anaconda3\\envs\\learn-env\\lib\\site-packages\\sklearn\\model_selection\\_validation.py:548: FitFailedWarning: Estimator fit failed. The score on this train-test partition for these parameters will be set to nan. Details: \n",
      "Traceback (most recent call last):\n",
      "  File \"C:\\Users\\drago\\anaconda3\\envs\\learn-env\\lib\\site-packages\\sklearn\\model_selection\\_validation.py\", line 531, in _fit_and_score\n",
      "    estimator.fit(X_train, y_train, **fit_params)\n",
      "  File \"C:\\Users\\drago\\anaconda3\\envs\\learn-env\\lib\\site-packages\\sklearn\\pipeline.py\", line 335, in fit\n",
      "    self._final_estimator.fit(Xt, y, **fit_params_last_step)\n",
      "  File \"C:\\Users\\drago\\anaconda3\\envs\\learn-env\\lib\\site-packages\\sklearn\\linear_model\\_logistic.py\", line 1304, in fit\n",
      "    solver = _check_solver(self.solver, self.penalty, self.dual)\n",
      "  File \"C:\\Users\\drago\\anaconda3\\envs\\learn-env\\lib\\site-packages\\sklearn\\linear_model\\_logistic.py\", line 442, in _check_solver\n",
      "    raise ValueError(\"Solver %s supports only 'l2' or 'none' penalties, \"\n",
      "ValueError: Solver newton-cg supports only 'l2' or 'none' penalties, got l1 penalty.\n",
      "\n",
      "  warnings.warn(\"Estimator fit failed. The score on this train-test\"\n",
      "C:\\Users\\drago\\anaconda3\\envs\\learn-env\\lib\\site-packages\\sklearn\\model_selection\\_validation.py:548: FitFailedWarning: Estimator fit failed. The score on this train-test partition for these parameters will be set to nan. Details: \n",
      "Traceback (most recent call last):\n",
      "  File \"C:\\Users\\drago\\anaconda3\\envs\\learn-env\\lib\\site-packages\\sklearn\\model_selection\\_validation.py\", line 531, in _fit_and_score\n",
      "    estimator.fit(X_train, y_train, **fit_params)\n",
      "  File \"C:\\Users\\drago\\anaconda3\\envs\\learn-env\\lib\\site-packages\\sklearn\\pipeline.py\", line 335, in fit\n",
      "    self._final_estimator.fit(Xt, y, **fit_params_last_step)\n",
      "  File \"C:\\Users\\drago\\anaconda3\\envs\\learn-env\\lib\\site-packages\\sklearn\\linear_model\\_logistic.py\", line 1304, in fit\n",
      "    solver = _check_solver(self.solver, self.penalty, self.dual)\n",
      "  File \"C:\\Users\\drago\\anaconda3\\envs\\learn-env\\lib\\site-packages\\sklearn\\linear_model\\_logistic.py\", line 442, in _check_solver\n",
      "    raise ValueError(\"Solver %s supports only 'l2' or 'none' penalties, \"\n",
      "ValueError: Solver newton-cg supports only 'l2' or 'none' penalties, got l1 penalty.\n",
      "\n",
      "  warnings.warn(\"Estimator fit failed. The score on this train-test\"\n"
     ]
    },
    {
     "name": "stdout",
     "output_type": "stream",
     "text": [
      "[CV]  lf__C=0.1, lf__penalty=l1, lf__solver=newton-cg, score=nan, total=   0.1s\n",
      "[CV] lf__C=0.1, lf__penalty=l1, lf__solver=newton-cg .................\n",
      "[CV]  lf__C=0.1, lf__penalty=l1, lf__solver=newton-cg, score=nan, total=   0.1s\n",
      "[CV] lf__C=0.1, lf__penalty=l1, lf__solver=lbfgs .....................\n"
     ]
    },
    {
     "name": "stderr",
     "output_type": "stream",
     "text": [
      "C:\\Users\\drago\\anaconda3\\envs\\learn-env\\lib\\site-packages\\sklearn\\model_selection\\_validation.py:548: FitFailedWarning: Estimator fit failed. The score on this train-test partition for these parameters will be set to nan. Details: \n",
      "Traceback (most recent call last):\n",
      "  File \"C:\\Users\\drago\\anaconda3\\envs\\learn-env\\lib\\site-packages\\sklearn\\model_selection\\_validation.py\", line 531, in _fit_and_score\n",
      "    estimator.fit(X_train, y_train, **fit_params)\n",
      "  File \"C:\\Users\\drago\\anaconda3\\envs\\learn-env\\lib\\site-packages\\sklearn\\pipeline.py\", line 335, in fit\n",
      "    self._final_estimator.fit(Xt, y, **fit_params_last_step)\n",
      "  File \"C:\\Users\\drago\\anaconda3\\envs\\learn-env\\lib\\site-packages\\sklearn\\linear_model\\_logistic.py\", line 1304, in fit\n",
      "    solver = _check_solver(self.solver, self.penalty, self.dual)\n",
      "  File \"C:\\Users\\drago\\anaconda3\\envs\\learn-env\\lib\\site-packages\\sklearn\\linear_model\\_logistic.py\", line 442, in _check_solver\n",
      "    raise ValueError(\"Solver %s supports only 'l2' or 'none' penalties, \"\n",
      "ValueError: Solver lbfgs supports only 'l2' or 'none' penalties, got l1 penalty.\n",
      "\n",
      "  warnings.warn(\"Estimator fit failed. The score on this train-test\"\n",
      "C:\\Users\\drago\\anaconda3\\envs\\learn-env\\lib\\site-packages\\sklearn\\model_selection\\_validation.py:548: FitFailedWarning: Estimator fit failed. The score on this train-test partition for these parameters will be set to nan. Details: \n",
      "Traceback (most recent call last):\n",
      "  File \"C:\\Users\\drago\\anaconda3\\envs\\learn-env\\lib\\site-packages\\sklearn\\model_selection\\_validation.py\", line 531, in _fit_and_score\n",
      "    estimator.fit(X_train, y_train, **fit_params)\n",
      "  File \"C:\\Users\\drago\\anaconda3\\envs\\learn-env\\lib\\site-packages\\sklearn\\pipeline.py\", line 335, in fit\n",
      "    self._final_estimator.fit(Xt, y, **fit_params_last_step)\n",
      "  File \"C:\\Users\\drago\\anaconda3\\envs\\learn-env\\lib\\site-packages\\sklearn\\linear_model\\_logistic.py\", line 1304, in fit\n",
      "    solver = _check_solver(self.solver, self.penalty, self.dual)\n",
      "  File \"C:\\Users\\drago\\anaconda3\\envs\\learn-env\\lib\\site-packages\\sklearn\\linear_model\\_logistic.py\", line 442, in _check_solver\n",
      "    raise ValueError(\"Solver %s supports only 'l2' or 'none' penalties, \"\n",
      "ValueError: Solver lbfgs supports only 'l2' or 'none' penalties, got l1 penalty.\n",
      "\n",
      "  warnings.warn(\"Estimator fit failed. The score on this train-test\"\n"
     ]
    },
    {
     "name": "stdout",
     "output_type": "stream",
     "text": [
      "[CV]  lf__C=0.1, lf__penalty=l1, lf__solver=lbfgs, score=nan, total=   0.1s\n",
      "[CV] lf__C=0.1, lf__penalty=l1, lf__solver=lbfgs .....................\n",
      "[CV]  lf__C=0.1, lf__penalty=l1, lf__solver=lbfgs, score=nan, total=   0.1s\n",
      "[CV] lf__C=0.1, lf__penalty=l1, lf__solver=lbfgs .....................\n"
     ]
    },
    {
     "name": "stderr",
     "output_type": "stream",
     "text": [
      "C:\\Users\\drago\\anaconda3\\envs\\learn-env\\lib\\site-packages\\sklearn\\model_selection\\_validation.py:548: FitFailedWarning: Estimator fit failed. The score on this train-test partition for these parameters will be set to nan. Details: \n",
      "Traceback (most recent call last):\n",
      "  File \"C:\\Users\\drago\\anaconda3\\envs\\learn-env\\lib\\site-packages\\sklearn\\model_selection\\_validation.py\", line 531, in _fit_and_score\n",
      "    estimator.fit(X_train, y_train, **fit_params)\n",
      "  File \"C:\\Users\\drago\\anaconda3\\envs\\learn-env\\lib\\site-packages\\sklearn\\pipeline.py\", line 335, in fit\n",
      "    self._final_estimator.fit(Xt, y, **fit_params_last_step)\n",
      "  File \"C:\\Users\\drago\\anaconda3\\envs\\learn-env\\lib\\site-packages\\sklearn\\linear_model\\_logistic.py\", line 1304, in fit\n",
      "    solver = _check_solver(self.solver, self.penalty, self.dual)\n",
      "  File \"C:\\Users\\drago\\anaconda3\\envs\\learn-env\\lib\\site-packages\\sklearn\\linear_model\\_logistic.py\", line 442, in _check_solver\n",
      "    raise ValueError(\"Solver %s supports only 'l2' or 'none' penalties, \"\n",
      "ValueError: Solver lbfgs supports only 'l2' or 'none' penalties, got l1 penalty.\n",
      "\n",
      "  warnings.warn(\"Estimator fit failed. The score on this train-test\"\n",
      "C:\\Users\\drago\\anaconda3\\envs\\learn-env\\lib\\site-packages\\sklearn\\model_selection\\_validation.py:548: FitFailedWarning: Estimator fit failed. The score on this train-test partition for these parameters will be set to nan. Details: \n",
      "Traceback (most recent call last):\n",
      "  File \"C:\\Users\\drago\\anaconda3\\envs\\learn-env\\lib\\site-packages\\sklearn\\model_selection\\_validation.py\", line 531, in _fit_and_score\n",
      "    estimator.fit(X_train, y_train, **fit_params)\n",
      "  File \"C:\\Users\\drago\\anaconda3\\envs\\learn-env\\lib\\site-packages\\sklearn\\pipeline.py\", line 335, in fit\n",
      "    self._final_estimator.fit(Xt, y, **fit_params_last_step)\n",
      "  File \"C:\\Users\\drago\\anaconda3\\envs\\learn-env\\lib\\site-packages\\sklearn\\linear_model\\_logistic.py\", line 1304, in fit\n",
      "    solver = _check_solver(self.solver, self.penalty, self.dual)\n",
      "  File \"C:\\Users\\drago\\anaconda3\\envs\\learn-env\\lib\\site-packages\\sklearn\\linear_model\\_logistic.py\", line 442, in _check_solver\n",
      "    raise ValueError(\"Solver %s supports only 'l2' or 'none' penalties, \"\n",
      "ValueError: Solver lbfgs supports only 'l2' or 'none' penalties, got l1 penalty.\n",
      "\n",
      "  warnings.warn(\"Estimator fit failed. The score on this train-test\"\n"
     ]
    },
    {
     "name": "stdout",
     "output_type": "stream",
     "text": [
      "[CV]  lf__C=0.1, lf__penalty=l1, lf__solver=lbfgs, score=nan, total=   0.1s\n",
      "[CV] lf__C=0.1, lf__penalty=l1, lf__solver=lbfgs .....................\n",
      "[CV]  lf__C=0.1, lf__penalty=l1, lf__solver=lbfgs, score=nan, total=   0.1s\n",
      "[CV] lf__C=0.1, lf__penalty=l1, lf__solver=lbfgs .....................\n"
     ]
    },
    {
     "name": "stderr",
     "output_type": "stream",
     "text": [
      "C:\\Users\\drago\\anaconda3\\envs\\learn-env\\lib\\site-packages\\sklearn\\model_selection\\_validation.py:548: FitFailedWarning: Estimator fit failed. The score on this train-test partition for these parameters will be set to nan. Details: \n",
      "Traceback (most recent call last):\n",
      "  File \"C:\\Users\\drago\\anaconda3\\envs\\learn-env\\lib\\site-packages\\sklearn\\model_selection\\_validation.py\", line 531, in _fit_and_score\n",
      "    estimator.fit(X_train, y_train, **fit_params)\n",
      "  File \"C:\\Users\\drago\\anaconda3\\envs\\learn-env\\lib\\site-packages\\sklearn\\pipeline.py\", line 335, in fit\n",
      "    self._final_estimator.fit(Xt, y, **fit_params_last_step)\n",
      "  File \"C:\\Users\\drago\\anaconda3\\envs\\learn-env\\lib\\site-packages\\sklearn\\linear_model\\_logistic.py\", line 1304, in fit\n",
      "    solver = _check_solver(self.solver, self.penalty, self.dual)\n",
      "  File \"C:\\Users\\drago\\anaconda3\\envs\\learn-env\\lib\\site-packages\\sklearn\\linear_model\\_logistic.py\", line 442, in _check_solver\n",
      "    raise ValueError(\"Solver %s supports only 'l2' or 'none' penalties, \"\n",
      "ValueError: Solver lbfgs supports only 'l2' or 'none' penalties, got l1 penalty.\n",
      "\n",
      "  warnings.warn(\"Estimator fit failed. The score on this train-test\"\n"
     ]
    },
    {
     "name": "stdout",
     "output_type": "stream",
     "text": [
      "[CV]  lf__C=0.1, lf__penalty=l1, lf__solver=lbfgs, score=nan, total=   0.1s\n",
      "[CV] lf__C=0.1, lf__penalty=l1, lf__solver=liblinear .................\n",
      "[CV]  lf__C=0.1, lf__penalty=l1, lf__solver=liblinear, score=0.580, total=   3.4s\n",
      "[CV] lf__C=0.1, lf__penalty=l1, lf__solver=liblinear .................\n",
      "[CV]  lf__C=0.1, lf__penalty=l1, lf__solver=liblinear, score=0.571, total=   2.7s\n",
      "[CV] lf__C=0.1, lf__penalty=l1, lf__solver=liblinear .................\n",
      "[CV]  lf__C=0.1, lf__penalty=l1, lf__solver=liblinear, score=0.579, total=   3.3s\n",
      "[CV] lf__C=0.1, lf__penalty=l1, lf__solver=liblinear .................\n",
      "[CV]  lf__C=0.1, lf__penalty=l1, lf__solver=liblinear, score=0.579, total=   3.2s\n",
      "[CV] lf__C=0.1, lf__penalty=l1, lf__solver=liblinear .................\n",
      "[CV]  lf__C=0.1, lf__penalty=l1, lf__solver=liblinear, score=0.578, total=   3.3s\n",
      "[CV] lf__C=0.1, lf__penalty=l1, lf__solver=sag .......................\n",
      "[CV]  lf__C=0.1, lf__penalty=l1, lf__solver=sag, score=nan, total=   0.1s\n",
      "[CV] lf__C=0.1, lf__penalty=l1, lf__solver=sag .......................\n"
     ]
    },
    {
     "name": "stderr",
     "output_type": "stream",
     "text": [
      "C:\\Users\\drago\\anaconda3\\envs\\learn-env\\lib\\site-packages\\sklearn\\model_selection\\_validation.py:548: FitFailedWarning: Estimator fit failed. The score on this train-test partition for these parameters will be set to nan. Details: \n",
      "Traceback (most recent call last):\n",
      "  File \"C:\\Users\\drago\\anaconda3\\envs\\learn-env\\lib\\site-packages\\sklearn\\model_selection\\_validation.py\", line 531, in _fit_and_score\n",
      "    estimator.fit(X_train, y_train, **fit_params)\n",
      "  File \"C:\\Users\\drago\\anaconda3\\envs\\learn-env\\lib\\site-packages\\sklearn\\pipeline.py\", line 335, in fit\n",
      "    self._final_estimator.fit(Xt, y, **fit_params_last_step)\n",
      "  File \"C:\\Users\\drago\\anaconda3\\envs\\learn-env\\lib\\site-packages\\sklearn\\linear_model\\_logistic.py\", line 1304, in fit\n",
      "    solver = _check_solver(self.solver, self.penalty, self.dual)\n",
      "  File \"C:\\Users\\drago\\anaconda3\\envs\\learn-env\\lib\\site-packages\\sklearn\\linear_model\\_logistic.py\", line 442, in _check_solver\n",
      "    raise ValueError(\"Solver %s supports only 'l2' or 'none' penalties, \"\n",
      "ValueError: Solver sag supports only 'l2' or 'none' penalties, got l1 penalty.\n",
      "\n",
      "  warnings.warn(\"Estimator fit failed. The score on this train-test\"\n",
      "C:\\Users\\drago\\anaconda3\\envs\\learn-env\\lib\\site-packages\\sklearn\\model_selection\\_validation.py:548: FitFailedWarning: Estimator fit failed. The score on this train-test partition for these parameters will be set to nan. Details: \n",
      "Traceback (most recent call last):\n",
      "  File \"C:\\Users\\drago\\anaconda3\\envs\\learn-env\\lib\\site-packages\\sklearn\\model_selection\\_validation.py\", line 531, in _fit_and_score\n",
      "    estimator.fit(X_train, y_train, **fit_params)\n",
      "  File \"C:\\Users\\drago\\anaconda3\\envs\\learn-env\\lib\\site-packages\\sklearn\\pipeline.py\", line 335, in fit\n",
      "    self._final_estimator.fit(Xt, y, **fit_params_last_step)\n",
      "  File \"C:\\Users\\drago\\anaconda3\\envs\\learn-env\\lib\\site-packages\\sklearn\\linear_model\\_logistic.py\", line 1304, in fit\n",
      "    solver = _check_solver(self.solver, self.penalty, self.dual)\n",
      "  File \"C:\\Users\\drago\\anaconda3\\envs\\learn-env\\lib\\site-packages\\sklearn\\linear_model\\_logistic.py\", line 442, in _check_solver\n",
      "    raise ValueError(\"Solver %s supports only 'l2' or 'none' penalties, \"\n",
      "ValueError: Solver sag supports only 'l2' or 'none' penalties, got l1 penalty.\n",
      "\n",
      "  warnings.warn(\"Estimator fit failed. The score on this train-test\"\n"
     ]
    },
    {
     "name": "stdout",
     "output_type": "stream",
     "text": [
      "[CV]  lf__C=0.1, lf__penalty=l1, lf__solver=sag, score=nan, total=   0.1s\n",
      "[CV] lf__C=0.1, lf__penalty=l1, lf__solver=sag .......................\n",
      "[CV]  lf__C=0.1, lf__penalty=l1, lf__solver=sag, score=nan, total=   0.1s\n",
      "[CV] lf__C=0.1, lf__penalty=l1, lf__solver=sag .......................\n"
     ]
    },
    {
     "name": "stderr",
     "output_type": "stream",
     "text": [
      "C:\\Users\\drago\\anaconda3\\envs\\learn-env\\lib\\site-packages\\sklearn\\model_selection\\_validation.py:548: FitFailedWarning: Estimator fit failed. The score on this train-test partition for these parameters will be set to nan. Details: \n",
      "Traceback (most recent call last):\n",
      "  File \"C:\\Users\\drago\\anaconda3\\envs\\learn-env\\lib\\site-packages\\sklearn\\model_selection\\_validation.py\", line 531, in _fit_and_score\n",
      "    estimator.fit(X_train, y_train, **fit_params)\n",
      "  File \"C:\\Users\\drago\\anaconda3\\envs\\learn-env\\lib\\site-packages\\sklearn\\pipeline.py\", line 335, in fit\n",
      "    self._final_estimator.fit(Xt, y, **fit_params_last_step)\n",
      "  File \"C:\\Users\\drago\\anaconda3\\envs\\learn-env\\lib\\site-packages\\sklearn\\linear_model\\_logistic.py\", line 1304, in fit\n",
      "    solver = _check_solver(self.solver, self.penalty, self.dual)\n",
      "  File \"C:\\Users\\drago\\anaconda3\\envs\\learn-env\\lib\\site-packages\\sklearn\\linear_model\\_logistic.py\", line 442, in _check_solver\n",
      "    raise ValueError(\"Solver %s supports only 'l2' or 'none' penalties, \"\n",
      "ValueError: Solver sag supports only 'l2' or 'none' penalties, got l1 penalty.\n",
      "\n",
      "  warnings.warn(\"Estimator fit failed. The score on this train-test\"\n",
      "C:\\Users\\drago\\anaconda3\\envs\\learn-env\\lib\\site-packages\\sklearn\\model_selection\\_validation.py:548: FitFailedWarning: Estimator fit failed. The score on this train-test partition for these parameters will be set to nan. Details: \n",
      "Traceback (most recent call last):\n",
      "  File \"C:\\Users\\drago\\anaconda3\\envs\\learn-env\\lib\\site-packages\\sklearn\\model_selection\\_validation.py\", line 531, in _fit_and_score\n",
      "    estimator.fit(X_train, y_train, **fit_params)\n",
      "  File \"C:\\Users\\drago\\anaconda3\\envs\\learn-env\\lib\\site-packages\\sklearn\\pipeline.py\", line 335, in fit\n",
      "    self._final_estimator.fit(Xt, y, **fit_params_last_step)\n",
      "  File \"C:\\Users\\drago\\anaconda3\\envs\\learn-env\\lib\\site-packages\\sklearn\\linear_model\\_logistic.py\", line 1304, in fit\n",
      "    solver = _check_solver(self.solver, self.penalty, self.dual)\n",
      "  File \"C:\\Users\\drago\\anaconda3\\envs\\learn-env\\lib\\site-packages\\sklearn\\linear_model\\_logistic.py\", line 442, in _check_solver\n",
      "    raise ValueError(\"Solver %s supports only 'l2' or 'none' penalties, \"\n",
      "ValueError: Solver sag supports only 'l2' or 'none' penalties, got l1 penalty.\n",
      "\n",
      "  warnings.warn(\"Estimator fit failed. The score on this train-test\"\n"
     ]
    },
    {
     "name": "stdout",
     "output_type": "stream",
     "text": [
      "[CV]  lf__C=0.1, lf__penalty=l1, lf__solver=sag, score=nan, total=   0.1s\n",
      "[CV] lf__C=0.1, lf__penalty=l1, lf__solver=sag .......................\n",
      "[CV]  lf__C=0.1, lf__penalty=l1, lf__solver=sag, score=nan, total=   0.1s\n",
      "[CV] lf__C=0.1, lf__penalty=l1, lf__solver=saga ......................\n"
     ]
    },
    {
     "name": "stderr",
     "output_type": "stream",
     "text": [
      "C:\\Users\\drago\\anaconda3\\envs\\learn-env\\lib\\site-packages\\sklearn\\model_selection\\_validation.py:548: FitFailedWarning: Estimator fit failed. The score on this train-test partition for these parameters will be set to nan. Details: \n",
      "Traceback (most recent call last):\n",
      "  File \"C:\\Users\\drago\\anaconda3\\envs\\learn-env\\lib\\site-packages\\sklearn\\model_selection\\_validation.py\", line 531, in _fit_and_score\n",
      "    estimator.fit(X_train, y_train, **fit_params)\n",
      "  File \"C:\\Users\\drago\\anaconda3\\envs\\learn-env\\lib\\site-packages\\sklearn\\pipeline.py\", line 335, in fit\n",
      "    self._final_estimator.fit(Xt, y, **fit_params_last_step)\n",
      "  File \"C:\\Users\\drago\\anaconda3\\envs\\learn-env\\lib\\site-packages\\sklearn\\linear_model\\_logistic.py\", line 1304, in fit\n",
      "    solver = _check_solver(self.solver, self.penalty, self.dual)\n",
      "  File \"C:\\Users\\drago\\anaconda3\\envs\\learn-env\\lib\\site-packages\\sklearn\\linear_model\\_logistic.py\", line 442, in _check_solver\n",
      "    raise ValueError(\"Solver %s supports only 'l2' or 'none' penalties, \"\n",
      "ValueError: Solver sag supports only 'l2' or 'none' penalties, got l1 penalty.\n",
      "\n",
      "  warnings.warn(\"Estimator fit failed. The score on this train-test\"\n",
      "C:\\Users\\drago\\anaconda3\\envs\\learn-env\\lib\\site-packages\\sklearn\\linear_model\\_sag.py:329: ConvergenceWarning: The max_iter was reached which means the coef_ did not converge\n",
      "  warnings.warn(\"The max_iter was reached which means \"\n"
     ]
    },
    {
     "name": "stdout",
     "output_type": "stream",
     "text": [
      "[CV]  lf__C=0.1, lf__penalty=l1, lf__solver=saga, score=0.578, total=   7.8s\n",
      "[CV] lf__C=0.1, lf__penalty=l1, lf__solver=saga ......................\n"
     ]
    },
    {
     "name": "stderr",
     "output_type": "stream",
     "text": [
      "C:\\Users\\drago\\anaconda3\\envs\\learn-env\\lib\\site-packages\\sklearn\\linear_model\\_sag.py:329: ConvergenceWarning: The max_iter was reached which means the coef_ did not converge\n",
      "  warnings.warn(\"The max_iter was reached which means \"\n"
     ]
    },
    {
     "name": "stdout",
     "output_type": "stream",
     "text": [
      "[CV]  lf__C=0.1, lf__penalty=l1, lf__solver=saga, score=0.491, total=   8.1s\n",
      "[CV] lf__C=0.1, lf__penalty=l1, lf__solver=saga ......................\n"
     ]
    },
    {
     "name": "stderr",
     "output_type": "stream",
     "text": [
      "C:\\Users\\drago\\anaconda3\\envs\\learn-env\\lib\\site-packages\\sklearn\\linear_model\\_sag.py:329: ConvergenceWarning: The max_iter was reached which means the coef_ did not converge\n",
      "  warnings.warn(\"The max_iter was reached which means \"\n"
     ]
    },
    {
     "name": "stdout",
     "output_type": "stream",
     "text": [
      "[CV]  lf__C=0.1, lf__penalty=l1, lf__solver=saga, score=0.596, total=   8.2s\n",
      "[CV] lf__C=0.1, lf__penalty=l1, lf__solver=saga ......................\n"
     ]
    },
    {
     "name": "stderr",
     "output_type": "stream",
     "text": [
      "C:\\Users\\drago\\anaconda3\\envs\\learn-env\\lib\\site-packages\\sklearn\\linear_model\\_sag.py:329: ConvergenceWarning: The max_iter was reached which means the coef_ did not converge\n",
      "  warnings.warn(\"The max_iter was reached which means \"\n"
     ]
    },
    {
     "name": "stdout",
     "output_type": "stream",
     "text": [
      "[CV]  lf__C=0.1, lf__penalty=l1, lf__solver=saga, score=0.596, total=   8.0s\n",
      "[CV] lf__C=0.1, lf__penalty=l1, lf__solver=saga ......................\n"
     ]
    },
    {
     "name": "stderr",
     "output_type": "stream",
     "text": [
      "C:\\Users\\drago\\anaconda3\\envs\\learn-env\\lib\\site-packages\\sklearn\\linear_model\\_sag.py:329: ConvergenceWarning: The max_iter was reached which means the coef_ did not converge\n",
      "  warnings.warn(\"The max_iter was reached which means \"\n"
     ]
    },
    {
     "name": "stdout",
     "output_type": "stream",
     "text": [
      "[CV]  lf__C=0.1, lf__penalty=l1, lf__solver=saga, score=0.522, total=   8.0s\n",
      "[CV] lf__C=0.1, lf__penalty=l2, lf__solver=newton-cg .................\n",
      "[CV]  lf__C=0.1, lf__penalty=l2, lf__solver=newton-cg, score=0.604, total=   2.7s\n",
      "[CV] lf__C=0.1, lf__penalty=l2, lf__solver=newton-cg .................\n",
      "[CV]  lf__C=0.1, lf__penalty=l2, lf__solver=newton-cg, score=0.612, total=   2.6s\n",
      "[CV] lf__C=0.1, lf__penalty=l2, lf__solver=newton-cg .................\n",
      "[CV]  lf__C=0.1, lf__penalty=l2, lf__solver=newton-cg, score=0.611, total=   2.6s\n",
      "[CV] lf__C=0.1, lf__penalty=l2, lf__solver=newton-cg .................\n",
      "[CV]  lf__C=0.1, lf__penalty=l2, lf__solver=newton-cg, score=0.607, total=   2.6s\n",
      "[CV] lf__C=0.1, lf__penalty=l2, lf__solver=newton-cg .................\n",
      "[CV]  lf__C=0.1, lf__penalty=l2, lf__solver=newton-cg, score=0.596, total=   2.9s\n",
      "[CV] lf__C=0.1, lf__penalty=l2, lf__solver=lbfgs .....................\n"
     ]
    },
    {
     "name": "stderr",
     "output_type": "stream",
     "text": [
      "C:\\Users\\drago\\anaconda3\\envs\\learn-env\\lib\\site-packages\\sklearn\\linear_model\\_logistic.py:762: ConvergenceWarning: lbfgs failed to converge (status=1):\n",
      "STOP: TOTAL NO. of ITERATIONS REACHED LIMIT.\n",
      "\n",
      "Increase the number of iterations (max_iter) or scale the data as shown in:\n",
      "    https://scikit-learn.org/stable/modules/preprocessing.html\n",
      "Please also refer to the documentation for alternative solver options:\n",
      "    https://scikit-learn.org/stable/modules/linear_model.html#logistic-regression\n",
      "  n_iter_i = _check_optimize_result(\n"
     ]
    },
    {
     "name": "stdout",
     "output_type": "stream",
     "text": [
      "[CV]  lf__C=0.1, lf__penalty=l2, lf__solver=lbfgs, score=0.604, total=   1.6s\n",
      "[CV] lf__C=0.1, lf__penalty=l2, lf__solver=lbfgs .....................\n"
     ]
    },
    {
     "name": "stderr",
     "output_type": "stream",
     "text": [
      "C:\\Users\\drago\\anaconda3\\envs\\learn-env\\lib\\site-packages\\sklearn\\linear_model\\_logistic.py:762: ConvergenceWarning: lbfgs failed to converge (status=1):\n",
      "STOP: TOTAL NO. of ITERATIONS REACHED LIMIT.\n",
      "\n",
      "Increase the number of iterations (max_iter) or scale the data as shown in:\n",
      "    https://scikit-learn.org/stable/modules/preprocessing.html\n",
      "Please also refer to the documentation for alternative solver options:\n",
      "    https://scikit-learn.org/stable/modules/linear_model.html#logistic-regression\n",
      "  n_iter_i = _check_optimize_result(\n"
     ]
    },
    {
     "name": "stdout",
     "output_type": "stream",
     "text": [
      "[CV]  lf__C=0.1, lf__penalty=l2, lf__solver=lbfgs, score=0.612, total=   1.8s\n",
      "[CV] lf__C=0.1, lf__penalty=l2, lf__solver=lbfgs .....................\n"
     ]
    },
    {
     "name": "stderr",
     "output_type": "stream",
     "text": [
      "C:\\Users\\drago\\anaconda3\\envs\\learn-env\\lib\\site-packages\\sklearn\\linear_model\\_logistic.py:762: ConvergenceWarning: lbfgs failed to converge (status=1):\n",
      "STOP: TOTAL NO. of ITERATIONS REACHED LIMIT.\n",
      "\n",
      "Increase the number of iterations (max_iter) or scale the data as shown in:\n",
      "    https://scikit-learn.org/stable/modules/preprocessing.html\n",
      "Please also refer to the documentation for alternative solver options:\n",
      "    https://scikit-learn.org/stable/modules/linear_model.html#logistic-regression\n",
      "  n_iter_i = _check_optimize_result(\n"
     ]
    },
    {
     "name": "stdout",
     "output_type": "stream",
     "text": [
      "[CV]  lf__C=0.1, lf__penalty=l2, lf__solver=lbfgs, score=0.611, total=   1.8s\n",
      "[CV] lf__C=0.1, lf__penalty=l2, lf__solver=lbfgs .....................\n"
     ]
    },
    {
     "name": "stderr",
     "output_type": "stream",
     "text": [
      "C:\\Users\\drago\\anaconda3\\envs\\learn-env\\lib\\site-packages\\sklearn\\linear_model\\_logistic.py:762: ConvergenceWarning: lbfgs failed to converge (status=1):\n",
      "STOP: TOTAL NO. of ITERATIONS REACHED LIMIT.\n",
      "\n",
      "Increase the number of iterations (max_iter) or scale the data as shown in:\n",
      "    https://scikit-learn.org/stable/modules/preprocessing.html\n",
      "Please also refer to the documentation for alternative solver options:\n",
      "    https://scikit-learn.org/stable/modules/linear_model.html#logistic-regression\n",
      "  n_iter_i = _check_optimize_result(\n"
     ]
    },
    {
     "name": "stdout",
     "output_type": "stream",
     "text": [
      "[CV]  lf__C=0.1, lf__penalty=l2, lf__solver=lbfgs, score=0.607, total=   1.7s\n",
      "[CV] lf__C=0.1, lf__penalty=l2, lf__solver=lbfgs .....................\n"
     ]
    },
    {
     "name": "stderr",
     "output_type": "stream",
     "text": [
      "C:\\Users\\drago\\anaconda3\\envs\\learn-env\\lib\\site-packages\\sklearn\\linear_model\\_logistic.py:762: ConvergenceWarning: lbfgs failed to converge (status=1):\n",
      "STOP: TOTAL NO. of ITERATIONS REACHED LIMIT.\n",
      "\n",
      "Increase the number of iterations (max_iter) or scale the data as shown in:\n",
      "    https://scikit-learn.org/stable/modules/preprocessing.html\n",
      "Please also refer to the documentation for alternative solver options:\n",
      "    https://scikit-learn.org/stable/modules/linear_model.html#logistic-regression\n",
      "  n_iter_i = _check_optimize_result(\n"
     ]
    },
    {
     "name": "stdout",
     "output_type": "stream",
     "text": [
      "[CV]  lf__C=0.1, lf__penalty=l2, lf__solver=lbfgs, score=0.596, total=   1.7s\n",
      "[CV] lf__C=0.1, lf__penalty=l2, lf__solver=liblinear .................\n",
      "[CV]  lf__C=0.1, lf__penalty=l2, lf__solver=liblinear, score=0.582, total=   0.6s\n",
      "[CV] lf__C=0.1, lf__penalty=l2, lf__solver=liblinear .................\n",
      "[CV]  lf__C=0.1, lf__penalty=l2, lf__solver=liblinear, score=0.572, total=   0.6s\n",
      "[CV] lf__C=0.1, lf__penalty=l2, lf__solver=liblinear .................\n",
      "[CV]  lf__C=0.1, lf__penalty=l2, lf__solver=liblinear, score=0.581, total=   0.7s\n",
      "[CV] lf__C=0.1, lf__penalty=l2, lf__solver=liblinear .................\n",
      "[CV]  lf__C=0.1, lf__penalty=l2, lf__solver=liblinear, score=0.577, total=   0.6s\n",
      "[CV] lf__C=0.1, lf__penalty=l2, lf__solver=liblinear .................\n",
      "[CV]  lf__C=0.1, lf__penalty=l2, lf__solver=liblinear, score=0.583, total=   0.6s\n",
      "[CV] lf__C=0.1, lf__penalty=l2, lf__solver=sag .......................\n",
      "[CV]  lf__C=0.1, lf__penalty=l2, lf__solver=sag, score=0.604, total=   2.3s\n",
      "[CV] lf__C=0.1, lf__penalty=l2, lf__solver=sag .......................\n",
      "[CV]  lf__C=0.1, lf__penalty=l2, lf__solver=sag, score=0.612, total=   2.0s\n",
      "[CV] lf__C=0.1, lf__penalty=l2, lf__solver=sag .......................\n",
      "[CV]  lf__C=0.1, lf__penalty=l2, lf__solver=sag, score=0.611, total=   2.2s\n",
      "[CV] lf__C=0.1, lf__penalty=l2, lf__solver=sag .......................\n",
      "[CV]  lf__C=0.1, lf__penalty=l2, lf__solver=sag, score=0.607, total=   2.0s\n",
      "[CV] lf__C=0.1, lf__penalty=l2, lf__solver=sag .......................\n",
      "[CV]  lf__C=0.1, lf__penalty=l2, lf__solver=sag, score=0.596, total=   2.0s\n",
      "[CV] lf__C=0.1, lf__penalty=l2, lf__solver=saga ......................\n",
      "[CV]  lf__C=0.1, lf__penalty=l2, lf__solver=saga, score=0.604, total=   5.0s\n",
      "[CV] lf__C=0.1, lf__penalty=l2, lf__solver=saga ......................\n",
      "[CV]  lf__C=0.1, lf__penalty=l2, lf__solver=saga, score=0.612, total=   4.3s\n",
      "[CV] lf__C=0.1, lf__penalty=l2, lf__solver=saga ......................\n",
      "[CV]  lf__C=0.1, lf__penalty=l2, lf__solver=saga, score=0.611, total=   4.5s\n",
      "[CV] lf__C=0.1, lf__penalty=l2, lf__solver=saga ......................\n",
      "[CV]  lf__C=0.1, lf__penalty=l2, lf__solver=saga, score=0.607, total=   4.5s\n",
      "[CV] lf__C=0.1, lf__penalty=l2, lf__solver=saga ......................\n",
      "[CV]  lf__C=0.1, lf__penalty=l2, lf__solver=saga, score=0.596, total=   4.5s\n",
      "[CV] lf__C=0.1, lf__penalty=elasticnet, lf__solver=newton-cg .........\n",
      "[CV]  lf__C=0.1, lf__penalty=elasticnet, lf__solver=newton-cg, score=nan, total=   0.1s\n",
      "[CV] lf__C=0.1, lf__penalty=elasticnet, lf__solver=newton-cg .........\n"
     ]
    },
    {
     "name": "stderr",
     "output_type": "stream",
     "text": [
      "C:\\Users\\drago\\anaconda3\\envs\\learn-env\\lib\\site-packages\\sklearn\\model_selection\\_validation.py:548: FitFailedWarning: Estimator fit failed. The score on this train-test partition for these parameters will be set to nan. Details: \n",
      "Traceback (most recent call last):\n",
      "  File \"C:\\Users\\drago\\anaconda3\\envs\\learn-env\\lib\\site-packages\\sklearn\\model_selection\\_validation.py\", line 531, in _fit_and_score\n",
      "    estimator.fit(X_train, y_train, **fit_params)\n",
      "  File \"C:\\Users\\drago\\anaconda3\\envs\\learn-env\\lib\\site-packages\\sklearn\\pipeline.py\", line 335, in fit\n",
      "    self._final_estimator.fit(Xt, y, **fit_params_last_step)\n",
      "  File \"C:\\Users\\drago\\anaconda3\\envs\\learn-env\\lib\\site-packages\\sklearn\\linear_model\\_logistic.py\", line 1304, in fit\n",
      "    solver = _check_solver(self.solver, self.penalty, self.dual)\n",
      "  File \"C:\\Users\\drago\\anaconda3\\envs\\learn-env\\lib\\site-packages\\sklearn\\linear_model\\_logistic.py\", line 442, in _check_solver\n",
      "    raise ValueError(\"Solver %s supports only 'l2' or 'none' penalties, \"\n",
      "ValueError: Solver newton-cg supports only 'l2' or 'none' penalties, got elasticnet penalty.\n",
      "\n",
      "  warnings.warn(\"Estimator fit failed. The score on this train-test\"\n",
      "C:\\Users\\drago\\anaconda3\\envs\\learn-env\\lib\\site-packages\\sklearn\\model_selection\\_validation.py:548: FitFailedWarning: Estimator fit failed. The score on this train-test partition for these parameters will be set to nan. Details: \n",
      "Traceback (most recent call last):\n",
      "  File \"C:\\Users\\drago\\anaconda3\\envs\\learn-env\\lib\\site-packages\\sklearn\\model_selection\\_validation.py\", line 531, in _fit_and_score\n",
      "    estimator.fit(X_train, y_train, **fit_params)\n",
      "  File \"C:\\Users\\drago\\anaconda3\\envs\\learn-env\\lib\\site-packages\\sklearn\\pipeline.py\", line 335, in fit\n",
      "    self._final_estimator.fit(Xt, y, **fit_params_last_step)\n",
      "  File \"C:\\Users\\drago\\anaconda3\\envs\\learn-env\\lib\\site-packages\\sklearn\\linear_model\\_logistic.py\", line 1304, in fit\n",
      "    solver = _check_solver(self.solver, self.penalty, self.dual)\n",
      "  File \"C:\\Users\\drago\\anaconda3\\envs\\learn-env\\lib\\site-packages\\sklearn\\linear_model\\_logistic.py\", line 442, in _check_solver\n",
      "    raise ValueError(\"Solver %s supports only 'l2' or 'none' penalties, \"\n",
      "ValueError: Solver newton-cg supports only 'l2' or 'none' penalties, got elasticnet penalty.\n",
      "\n",
      "  warnings.warn(\"Estimator fit failed. The score on this train-test\"\n"
     ]
    },
    {
     "name": "stdout",
     "output_type": "stream",
     "text": [
      "[CV]  lf__C=0.1, lf__penalty=elasticnet, lf__solver=newton-cg, score=nan, total=   0.1s\n",
      "[CV] lf__C=0.1, lf__penalty=elasticnet, lf__solver=newton-cg .........\n",
      "[CV]  lf__C=0.1, lf__penalty=elasticnet, lf__solver=newton-cg, score=nan, total=   0.1s\n",
      "[CV] lf__C=0.1, lf__penalty=elasticnet, lf__solver=newton-cg .........\n"
     ]
    },
    {
     "name": "stderr",
     "output_type": "stream",
     "text": [
      "C:\\Users\\drago\\anaconda3\\envs\\learn-env\\lib\\site-packages\\sklearn\\model_selection\\_validation.py:548: FitFailedWarning: Estimator fit failed. The score on this train-test partition for these parameters will be set to nan. Details: \n",
      "Traceback (most recent call last):\n",
      "  File \"C:\\Users\\drago\\anaconda3\\envs\\learn-env\\lib\\site-packages\\sklearn\\model_selection\\_validation.py\", line 531, in _fit_and_score\n",
      "    estimator.fit(X_train, y_train, **fit_params)\n",
      "  File \"C:\\Users\\drago\\anaconda3\\envs\\learn-env\\lib\\site-packages\\sklearn\\pipeline.py\", line 335, in fit\n",
      "    self._final_estimator.fit(Xt, y, **fit_params_last_step)\n",
      "  File \"C:\\Users\\drago\\anaconda3\\envs\\learn-env\\lib\\site-packages\\sklearn\\linear_model\\_logistic.py\", line 1304, in fit\n",
      "    solver = _check_solver(self.solver, self.penalty, self.dual)\n",
      "  File \"C:\\Users\\drago\\anaconda3\\envs\\learn-env\\lib\\site-packages\\sklearn\\linear_model\\_logistic.py\", line 442, in _check_solver\n",
      "    raise ValueError(\"Solver %s supports only 'l2' or 'none' penalties, \"\n",
      "ValueError: Solver newton-cg supports only 'l2' or 'none' penalties, got elasticnet penalty.\n",
      "\n",
      "  warnings.warn(\"Estimator fit failed. The score on this train-test\"\n",
      "C:\\Users\\drago\\anaconda3\\envs\\learn-env\\lib\\site-packages\\sklearn\\model_selection\\_validation.py:548: FitFailedWarning: Estimator fit failed. The score on this train-test partition for these parameters will be set to nan. Details: \n",
      "Traceback (most recent call last):\n",
      "  File \"C:\\Users\\drago\\anaconda3\\envs\\learn-env\\lib\\site-packages\\sklearn\\model_selection\\_validation.py\", line 531, in _fit_and_score\n",
      "    estimator.fit(X_train, y_train, **fit_params)\n",
      "  File \"C:\\Users\\drago\\anaconda3\\envs\\learn-env\\lib\\site-packages\\sklearn\\pipeline.py\", line 335, in fit\n",
      "    self._final_estimator.fit(Xt, y, **fit_params_last_step)\n",
      "  File \"C:\\Users\\drago\\anaconda3\\envs\\learn-env\\lib\\site-packages\\sklearn\\linear_model\\_logistic.py\", line 1304, in fit\n",
      "    solver = _check_solver(self.solver, self.penalty, self.dual)\n",
      "  File \"C:\\Users\\drago\\anaconda3\\envs\\learn-env\\lib\\site-packages\\sklearn\\linear_model\\_logistic.py\", line 442, in _check_solver\n",
      "    raise ValueError(\"Solver %s supports only 'l2' or 'none' penalties, \"\n",
      "ValueError: Solver newton-cg supports only 'l2' or 'none' penalties, got elasticnet penalty.\n",
      "\n",
      "  warnings.warn(\"Estimator fit failed. The score on this train-test\"\n"
     ]
    },
    {
     "name": "stdout",
     "output_type": "stream",
     "text": [
      "[CV]  lf__C=0.1, lf__penalty=elasticnet, lf__solver=newton-cg, score=nan, total=   0.1s\n",
      "[CV] lf__C=0.1, lf__penalty=elasticnet, lf__solver=newton-cg .........\n",
      "[CV]  lf__C=0.1, lf__penalty=elasticnet, lf__solver=newton-cg, score=nan, total=   0.1s\n",
      "[CV] lf__C=0.1, lf__penalty=elasticnet, lf__solver=lbfgs .............\n"
     ]
    },
    {
     "name": "stderr",
     "output_type": "stream",
     "text": [
      "C:\\Users\\drago\\anaconda3\\envs\\learn-env\\lib\\site-packages\\sklearn\\model_selection\\_validation.py:548: FitFailedWarning: Estimator fit failed. The score on this train-test partition for these parameters will be set to nan. Details: \n",
      "Traceback (most recent call last):\n",
      "  File \"C:\\Users\\drago\\anaconda3\\envs\\learn-env\\lib\\site-packages\\sklearn\\model_selection\\_validation.py\", line 531, in _fit_and_score\n",
      "    estimator.fit(X_train, y_train, **fit_params)\n",
      "  File \"C:\\Users\\drago\\anaconda3\\envs\\learn-env\\lib\\site-packages\\sklearn\\pipeline.py\", line 335, in fit\n",
      "    self._final_estimator.fit(Xt, y, **fit_params_last_step)\n",
      "  File \"C:\\Users\\drago\\anaconda3\\envs\\learn-env\\lib\\site-packages\\sklearn\\linear_model\\_logistic.py\", line 1304, in fit\n",
      "    solver = _check_solver(self.solver, self.penalty, self.dual)\n",
      "  File \"C:\\Users\\drago\\anaconda3\\envs\\learn-env\\lib\\site-packages\\sklearn\\linear_model\\_logistic.py\", line 442, in _check_solver\n",
      "    raise ValueError(\"Solver %s supports only 'l2' or 'none' penalties, \"\n",
      "ValueError: Solver newton-cg supports only 'l2' or 'none' penalties, got elasticnet penalty.\n",
      "\n",
      "  warnings.warn(\"Estimator fit failed. The score on this train-test\"\n",
      "C:\\Users\\drago\\anaconda3\\envs\\learn-env\\lib\\site-packages\\sklearn\\model_selection\\_validation.py:548: FitFailedWarning: Estimator fit failed. The score on this train-test partition for these parameters will be set to nan. Details: \n",
      "Traceback (most recent call last):\n",
      "  File \"C:\\Users\\drago\\anaconda3\\envs\\learn-env\\lib\\site-packages\\sklearn\\model_selection\\_validation.py\", line 531, in _fit_and_score\n",
      "    estimator.fit(X_train, y_train, **fit_params)\n",
      "  File \"C:\\Users\\drago\\anaconda3\\envs\\learn-env\\lib\\site-packages\\sklearn\\pipeline.py\", line 335, in fit\n",
      "    self._final_estimator.fit(Xt, y, **fit_params_last_step)\n",
      "  File \"C:\\Users\\drago\\anaconda3\\envs\\learn-env\\lib\\site-packages\\sklearn\\linear_model\\_logistic.py\", line 1304, in fit\n",
      "    solver = _check_solver(self.solver, self.penalty, self.dual)\n",
      "  File \"C:\\Users\\drago\\anaconda3\\envs\\learn-env\\lib\\site-packages\\sklearn\\linear_model\\_logistic.py\", line 442, in _check_solver\n",
      "    raise ValueError(\"Solver %s supports only 'l2' or 'none' penalties, \"\n",
      "ValueError: Solver lbfgs supports only 'l2' or 'none' penalties, got elasticnet penalty.\n",
      "\n",
      "  warnings.warn(\"Estimator fit failed. The score on this train-test\"\n"
     ]
    },
    {
     "name": "stdout",
     "output_type": "stream",
     "text": [
      "[CV]  lf__C=0.1, lf__penalty=elasticnet, lf__solver=lbfgs, score=nan, total=   0.1s\n",
      "[CV] lf__C=0.1, lf__penalty=elasticnet, lf__solver=lbfgs .............\n",
      "[CV]  lf__C=0.1, lf__penalty=elasticnet, lf__solver=lbfgs, score=nan, total=   0.1s\n",
      "[CV] lf__C=0.1, lf__penalty=elasticnet, lf__solver=lbfgs .............\n"
     ]
    },
    {
     "name": "stderr",
     "output_type": "stream",
     "text": [
      "C:\\Users\\drago\\anaconda3\\envs\\learn-env\\lib\\site-packages\\sklearn\\model_selection\\_validation.py:548: FitFailedWarning: Estimator fit failed. The score on this train-test partition for these parameters will be set to nan. Details: \n",
      "Traceback (most recent call last):\n",
      "  File \"C:\\Users\\drago\\anaconda3\\envs\\learn-env\\lib\\site-packages\\sklearn\\model_selection\\_validation.py\", line 531, in _fit_and_score\n",
      "    estimator.fit(X_train, y_train, **fit_params)\n",
      "  File \"C:\\Users\\drago\\anaconda3\\envs\\learn-env\\lib\\site-packages\\sklearn\\pipeline.py\", line 335, in fit\n",
      "    self._final_estimator.fit(Xt, y, **fit_params_last_step)\n",
      "  File \"C:\\Users\\drago\\anaconda3\\envs\\learn-env\\lib\\site-packages\\sklearn\\linear_model\\_logistic.py\", line 1304, in fit\n",
      "    solver = _check_solver(self.solver, self.penalty, self.dual)\n",
      "  File \"C:\\Users\\drago\\anaconda3\\envs\\learn-env\\lib\\site-packages\\sklearn\\linear_model\\_logistic.py\", line 442, in _check_solver\n",
      "    raise ValueError(\"Solver %s supports only 'l2' or 'none' penalties, \"\n",
      "ValueError: Solver lbfgs supports only 'l2' or 'none' penalties, got elasticnet penalty.\n",
      "\n",
      "  warnings.warn(\"Estimator fit failed. The score on this train-test\"\n",
      "C:\\Users\\drago\\anaconda3\\envs\\learn-env\\lib\\site-packages\\sklearn\\model_selection\\_validation.py:548: FitFailedWarning: Estimator fit failed. The score on this train-test partition for these parameters will be set to nan. Details: \n",
      "Traceback (most recent call last):\n",
      "  File \"C:\\Users\\drago\\anaconda3\\envs\\learn-env\\lib\\site-packages\\sklearn\\model_selection\\_validation.py\", line 531, in _fit_and_score\n",
      "    estimator.fit(X_train, y_train, **fit_params)\n",
      "  File \"C:\\Users\\drago\\anaconda3\\envs\\learn-env\\lib\\site-packages\\sklearn\\pipeline.py\", line 335, in fit\n",
      "    self._final_estimator.fit(Xt, y, **fit_params_last_step)\n",
      "  File \"C:\\Users\\drago\\anaconda3\\envs\\learn-env\\lib\\site-packages\\sklearn\\linear_model\\_logistic.py\", line 1304, in fit\n",
      "    solver = _check_solver(self.solver, self.penalty, self.dual)\n",
      "  File \"C:\\Users\\drago\\anaconda3\\envs\\learn-env\\lib\\site-packages\\sklearn\\linear_model\\_logistic.py\", line 442, in _check_solver\n",
      "    raise ValueError(\"Solver %s supports only 'l2' or 'none' penalties, \"\n",
      "ValueError: Solver lbfgs supports only 'l2' or 'none' penalties, got elasticnet penalty.\n",
      "\n",
      "  warnings.warn(\"Estimator fit failed. The score on this train-test\"\n"
     ]
    },
    {
     "name": "stdout",
     "output_type": "stream",
     "text": [
      "[CV]  lf__C=0.1, lf__penalty=elasticnet, lf__solver=lbfgs, score=nan, total=   0.1s\n",
      "[CV] lf__C=0.1, lf__penalty=elasticnet, lf__solver=lbfgs .............\n",
      "[CV]  lf__C=0.1, lf__penalty=elasticnet, lf__solver=lbfgs, score=nan, total=   0.1s\n",
      "[CV] lf__C=0.1, lf__penalty=elasticnet, lf__solver=lbfgs .............\n"
     ]
    },
    {
     "name": "stderr",
     "output_type": "stream",
     "text": [
      "C:\\Users\\drago\\anaconda3\\envs\\learn-env\\lib\\site-packages\\sklearn\\model_selection\\_validation.py:548: FitFailedWarning: Estimator fit failed. The score on this train-test partition for these parameters will be set to nan. Details: \n",
      "Traceback (most recent call last):\n",
      "  File \"C:\\Users\\drago\\anaconda3\\envs\\learn-env\\lib\\site-packages\\sklearn\\model_selection\\_validation.py\", line 531, in _fit_and_score\n",
      "    estimator.fit(X_train, y_train, **fit_params)\n",
      "  File \"C:\\Users\\drago\\anaconda3\\envs\\learn-env\\lib\\site-packages\\sklearn\\pipeline.py\", line 335, in fit\n",
      "    self._final_estimator.fit(Xt, y, **fit_params_last_step)\n",
      "  File \"C:\\Users\\drago\\anaconda3\\envs\\learn-env\\lib\\site-packages\\sklearn\\linear_model\\_logistic.py\", line 1304, in fit\n",
      "    solver = _check_solver(self.solver, self.penalty, self.dual)\n",
      "  File \"C:\\Users\\drago\\anaconda3\\envs\\learn-env\\lib\\site-packages\\sklearn\\linear_model\\_logistic.py\", line 442, in _check_solver\n",
      "    raise ValueError(\"Solver %s supports only 'l2' or 'none' penalties, \"\n",
      "ValueError: Solver lbfgs supports only 'l2' or 'none' penalties, got elasticnet penalty.\n",
      "\n",
      "  warnings.warn(\"Estimator fit failed. The score on this train-test\"\n",
      "C:\\Users\\drago\\anaconda3\\envs\\learn-env\\lib\\site-packages\\sklearn\\model_selection\\_validation.py:548: FitFailedWarning: Estimator fit failed. The score on this train-test partition for these parameters will be set to nan. Details: \n",
      "Traceback (most recent call last):\n",
      "  File \"C:\\Users\\drago\\anaconda3\\envs\\learn-env\\lib\\site-packages\\sklearn\\model_selection\\_validation.py\", line 531, in _fit_and_score\n",
      "    estimator.fit(X_train, y_train, **fit_params)\n",
      "  File \"C:\\Users\\drago\\anaconda3\\envs\\learn-env\\lib\\site-packages\\sklearn\\pipeline.py\", line 335, in fit\n",
      "    self._final_estimator.fit(Xt, y, **fit_params_last_step)\n",
      "  File \"C:\\Users\\drago\\anaconda3\\envs\\learn-env\\lib\\site-packages\\sklearn\\linear_model\\_logistic.py\", line 1304, in fit\n",
      "    solver = _check_solver(self.solver, self.penalty, self.dual)\n",
      "  File \"C:\\Users\\drago\\anaconda3\\envs\\learn-env\\lib\\site-packages\\sklearn\\linear_model\\_logistic.py\", line 442, in _check_solver\n",
      "    raise ValueError(\"Solver %s supports only 'l2' or 'none' penalties, \"\n",
      "ValueError: Solver lbfgs supports only 'l2' or 'none' penalties, got elasticnet penalty.\n",
      "\n",
      "  warnings.warn(\"Estimator fit failed. The score on this train-test\"\n"
     ]
    },
    {
     "name": "stdout",
     "output_type": "stream",
     "text": [
      "[CV]  lf__C=0.1, lf__penalty=elasticnet, lf__solver=lbfgs, score=nan, total=   0.1s\n",
      "[CV] lf__C=0.1, lf__penalty=elasticnet, lf__solver=liblinear .........\n",
      "[CV]  lf__C=0.1, lf__penalty=elasticnet, lf__solver=liblinear, score=nan, total=   0.1s\n",
      "[CV] lf__C=0.1, lf__penalty=elasticnet, lf__solver=liblinear .........\n"
     ]
    },
    {
     "name": "stderr",
     "output_type": "stream",
     "text": [
      "C:\\Users\\drago\\anaconda3\\envs\\learn-env\\lib\\site-packages\\sklearn\\model_selection\\_validation.py:548: FitFailedWarning: Estimator fit failed. The score on this train-test partition for these parameters will be set to nan. Details: \n",
      "Traceback (most recent call last):\n",
      "  File \"C:\\Users\\drago\\anaconda3\\envs\\learn-env\\lib\\site-packages\\sklearn\\model_selection\\_validation.py\", line 531, in _fit_and_score\n",
      "    estimator.fit(X_train, y_train, **fit_params)\n",
      "  File \"C:\\Users\\drago\\anaconda3\\envs\\learn-env\\lib\\site-packages\\sklearn\\pipeline.py\", line 335, in fit\n",
      "    self._final_estimator.fit(Xt, y, **fit_params_last_step)\n",
      "  File \"C:\\Users\\drago\\anaconda3\\envs\\learn-env\\lib\\site-packages\\sklearn\\linear_model\\_logistic.py\", line 1304, in fit\n",
      "    solver = _check_solver(self.solver, self.penalty, self.dual)\n",
      "  File \"C:\\Users\\drago\\anaconda3\\envs\\learn-env\\lib\\site-packages\\sklearn\\linear_model\\_logistic.py\", line 449, in _check_solver\n",
      "    raise ValueError(\"Only 'saga' solver supports elasticnet penalty,\"\n",
      "ValueError: Only 'saga' solver supports elasticnet penalty, got solver=liblinear.\n",
      "\n",
      "  warnings.warn(\"Estimator fit failed. The score on this train-test\"\n",
      "C:\\Users\\drago\\anaconda3\\envs\\learn-env\\lib\\site-packages\\sklearn\\model_selection\\_validation.py:548: FitFailedWarning: Estimator fit failed. The score on this train-test partition for these parameters will be set to nan. Details: \n",
      "Traceback (most recent call last):\n",
      "  File \"C:\\Users\\drago\\anaconda3\\envs\\learn-env\\lib\\site-packages\\sklearn\\model_selection\\_validation.py\", line 531, in _fit_and_score\n",
      "    estimator.fit(X_train, y_train, **fit_params)\n",
      "  File \"C:\\Users\\drago\\anaconda3\\envs\\learn-env\\lib\\site-packages\\sklearn\\pipeline.py\", line 335, in fit\n",
      "    self._final_estimator.fit(Xt, y, **fit_params_last_step)\n",
      "  File \"C:\\Users\\drago\\anaconda3\\envs\\learn-env\\lib\\site-packages\\sklearn\\linear_model\\_logistic.py\", line 1304, in fit\n",
      "    solver = _check_solver(self.solver, self.penalty, self.dual)\n",
      "  File \"C:\\Users\\drago\\anaconda3\\envs\\learn-env\\lib\\site-packages\\sklearn\\linear_model\\_logistic.py\", line 449, in _check_solver\n",
      "    raise ValueError(\"Only 'saga' solver supports elasticnet penalty,\"\n",
      "ValueError: Only 'saga' solver supports elasticnet penalty, got solver=liblinear.\n",
      "\n",
      "  warnings.warn(\"Estimator fit failed. The score on this train-test\"\n"
     ]
    },
    {
     "name": "stdout",
     "output_type": "stream",
     "text": [
      "[CV]  lf__C=0.1, lf__penalty=elasticnet, lf__solver=liblinear, score=nan, total=   0.1s\n",
      "[CV] lf__C=0.1, lf__penalty=elasticnet, lf__solver=liblinear .........\n",
      "[CV]  lf__C=0.1, lf__penalty=elasticnet, lf__solver=liblinear, score=nan, total=   0.1s\n",
      "[CV] lf__C=0.1, lf__penalty=elasticnet, lf__solver=liblinear .........\n"
     ]
    },
    {
     "name": "stderr",
     "output_type": "stream",
     "text": [
      "C:\\Users\\drago\\anaconda3\\envs\\learn-env\\lib\\site-packages\\sklearn\\model_selection\\_validation.py:548: FitFailedWarning: Estimator fit failed. The score on this train-test partition for these parameters will be set to nan. Details: \n",
      "Traceback (most recent call last):\n",
      "  File \"C:\\Users\\drago\\anaconda3\\envs\\learn-env\\lib\\site-packages\\sklearn\\model_selection\\_validation.py\", line 531, in _fit_and_score\n",
      "    estimator.fit(X_train, y_train, **fit_params)\n",
      "  File \"C:\\Users\\drago\\anaconda3\\envs\\learn-env\\lib\\site-packages\\sklearn\\pipeline.py\", line 335, in fit\n",
      "    self._final_estimator.fit(Xt, y, **fit_params_last_step)\n",
      "  File \"C:\\Users\\drago\\anaconda3\\envs\\learn-env\\lib\\site-packages\\sklearn\\linear_model\\_logistic.py\", line 1304, in fit\n",
      "    solver = _check_solver(self.solver, self.penalty, self.dual)\n",
      "  File \"C:\\Users\\drago\\anaconda3\\envs\\learn-env\\lib\\site-packages\\sklearn\\linear_model\\_logistic.py\", line 449, in _check_solver\n",
      "    raise ValueError(\"Only 'saga' solver supports elasticnet penalty,\"\n",
      "ValueError: Only 'saga' solver supports elasticnet penalty, got solver=liblinear.\n",
      "\n",
      "  warnings.warn(\"Estimator fit failed. The score on this train-test\"\n",
      "C:\\Users\\drago\\anaconda3\\envs\\learn-env\\lib\\site-packages\\sklearn\\model_selection\\_validation.py:548: FitFailedWarning: Estimator fit failed. The score on this train-test partition for these parameters will be set to nan. Details: \n",
      "Traceback (most recent call last):\n",
      "  File \"C:\\Users\\drago\\anaconda3\\envs\\learn-env\\lib\\site-packages\\sklearn\\model_selection\\_validation.py\", line 531, in _fit_and_score\n",
      "    estimator.fit(X_train, y_train, **fit_params)\n",
      "  File \"C:\\Users\\drago\\anaconda3\\envs\\learn-env\\lib\\site-packages\\sklearn\\pipeline.py\", line 335, in fit\n",
      "    self._final_estimator.fit(Xt, y, **fit_params_last_step)\n",
      "  File \"C:\\Users\\drago\\anaconda3\\envs\\learn-env\\lib\\site-packages\\sklearn\\linear_model\\_logistic.py\", line 1304, in fit\n",
      "    solver = _check_solver(self.solver, self.penalty, self.dual)\n",
      "  File \"C:\\Users\\drago\\anaconda3\\envs\\learn-env\\lib\\site-packages\\sklearn\\linear_model\\_logistic.py\", line 449, in _check_solver\n",
      "    raise ValueError(\"Only 'saga' solver supports elasticnet penalty,\"\n",
      "ValueError: Only 'saga' solver supports elasticnet penalty, got solver=liblinear.\n",
      "\n",
      "  warnings.warn(\"Estimator fit failed. The score on this train-test\"\n"
     ]
    },
    {
     "name": "stdout",
     "output_type": "stream",
     "text": [
      "[CV]  lf__C=0.1, lf__penalty=elasticnet, lf__solver=liblinear, score=nan, total=   0.1s\n",
      "[CV] lf__C=0.1, lf__penalty=elasticnet, lf__solver=liblinear .........\n",
      "[CV]  lf__C=0.1, lf__penalty=elasticnet, lf__solver=liblinear, score=nan, total=   0.1s\n",
      "[CV] lf__C=0.1, lf__penalty=elasticnet, lf__solver=sag ...............\n"
     ]
    },
    {
     "name": "stderr",
     "output_type": "stream",
     "text": [
      "C:\\Users\\drago\\anaconda3\\envs\\learn-env\\lib\\site-packages\\sklearn\\model_selection\\_validation.py:548: FitFailedWarning: Estimator fit failed. The score on this train-test partition for these parameters will be set to nan. Details: \n",
      "Traceback (most recent call last):\n",
      "  File \"C:\\Users\\drago\\anaconda3\\envs\\learn-env\\lib\\site-packages\\sklearn\\model_selection\\_validation.py\", line 531, in _fit_and_score\n",
      "    estimator.fit(X_train, y_train, **fit_params)\n",
      "  File \"C:\\Users\\drago\\anaconda3\\envs\\learn-env\\lib\\site-packages\\sklearn\\pipeline.py\", line 335, in fit\n",
      "    self._final_estimator.fit(Xt, y, **fit_params_last_step)\n",
      "  File \"C:\\Users\\drago\\anaconda3\\envs\\learn-env\\lib\\site-packages\\sklearn\\linear_model\\_logistic.py\", line 1304, in fit\n",
      "    solver = _check_solver(self.solver, self.penalty, self.dual)\n",
      "  File \"C:\\Users\\drago\\anaconda3\\envs\\learn-env\\lib\\site-packages\\sklearn\\linear_model\\_logistic.py\", line 449, in _check_solver\n",
      "    raise ValueError(\"Only 'saga' solver supports elasticnet penalty,\"\n",
      "ValueError: Only 'saga' solver supports elasticnet penalty, got solver=liblinear.\n",
      "\n",
      "  warnings.warn(\"Estimator fit failed. The score on this train-test\"\n",
      "C:\\Users\\drago\\anaconda3\\envs\\learn-env\\lib\\site-packages\\sklearn\\model_selection\\_validation.py:548: FitFailedWarning: Estimator fit failed. The score on this train-test partition for these parameters will be set to nan. Details: \n",
      "Traceback (most recent call last):\n",
      "  File \"C:\\Users\\drago\\anaconda3\\envs\\learn-env\\lib\\site-packages\\sklearn\\model_selection\\_validation.py\", line 531, in _fit_and_score\n",
      "    estimator.fit(X_train, y_train, **fit_params)\n",
      "  File \"C:\\Users\\drago\\anaconda3\\envs\\learn-env\\lib\\site-packages\\sklearn\\pipeline.py\", line 335, in fit\n",
      "    self._final_estimator.fit(Xt, y, **fit_params_last_step)\n",
      "  File \"C:\\Users\\drago\\anaconda3\\envs\\learn-env\\lib\\site-packages\\sklearn\\linear_model\\_logistic.py\", line 1304, in fit\n",
      "    solver = _check_solver(self.solver, self.penalty, self.dual)\n",
      "  File \"C:\\Users\\drago\\anaconda3\\envs\\learn-env\\lib\\site-packages\\sklearn\\linear_model\\_logistic.py\", line 442, in _check_solver\n",
      "    raise ValueError(\"Solver %s supports only 'l2' or 'none' penalties, \"\n",
      "ValueError: Solver sag supports only 'l2' or 'none' penalties, got elasticnet penalty.\n",
      "\n",
      "  warnings.warn(\"Estimator fit failed. The score on this train-test\"\n"
     ]
    },
    {
     "name": "stdout",
     "output_type": "stream",
     "text": [
      "[CV]  lf__C=0.1, lf__penalty=elasticnet, lf__solver=sag, score=nan, total=   0.1s\n",
      "[CV] lf__C=0.1, lf__penalty=elasticnet, lf__solver=sag ...............\n",
      "[CV]  lf__C=0.1, lf__penalty=elasticnet, lf__solver=sag, score=nan, total=   0.1s\n",
      "[CV] lf__C=0.1, lf__penalty=elasticnet, lf__solver=sag ...............\n"
     ]
    },
    {
     "name": "stderr",
     "output_type": "stream",
     "text": [
      "C:\\Users\\drago\\anaconda3\\envs\\learn-env\\lib\\site-packages\\sklearn\\model_selection\\_validation.py:548: FitFailedWarning: Estimator fit failed. The score on this train-test partition for these parameters will be set to nan. Details: \n",
      "Traceback (most recent call last):\n",
      "  File \"C:\\Users\\drago\\anaconda3\\envs\\learn-env\\lib\\site-packages\\sklearn\\model_selection\\_validation.py\", line 531, in _fit_and_score\n",
      "    estimator.fit(X_train, y_train, **fit_params)\n",
      "  File \"C:\\Users\\drago\\anaconda3\\envs\\learn-env\\lib\\site-packages\\sklearn\\pipeline.py\", line 335, in fit\n",
      "    self._final_estimator.fit(Xt, y, **fit_params_last_step)\n",
      "  File \"C:\\Users\\drago\\anaconda3\\envs\\learn-env\\lib\\site-packages\\sklearn\\linear_model\\_logistic.py\", line 1304, in fit\n",
      "    solver = _check_solver(self.solver, self.penalty, self.dual)\n",
      "  File \"C:\\Users\\drago\\anaconda3\\envs\\learn-env\\lib\\site-packages\\sklearn\\linear_model\\_logistic.py\", line 442, in _check_solver\n",
      "    raise ValueError(\"Solver %s supports only 'l2' or 'none' penalties, \"\n",
      "ValueError: Solver sag supports only 'l2' or 'none' penalties, got elasticnet penalty.\n",
      "\n",
      "  warnings.warn(\"Estimator fit failed. The score on this train-test\"\n",
      "C:\\Users\\drago\\anaconda3\\envs\\learn-env\\lib\\site-packages\\sklearn\\model_selection\\_validation.py:548: FitFailedWarning: Estimator fit failed. The score on this train-test partition for these parameters will be set to nan. Details: \n",
      "Traceback (most recent call last):\n",
      "  File \"C:\\Users\\drago\\anaconda3\\envs\\learn-env\\lib\\site-packages\\sklearn\\model_selection\\_validation.py\", line 531, in _fit_and_score\n",
      "    estimator.fit(X_train, y_train, **fit_params)\n",
      "  File \"C:\\Users\\drago\\anaconda3\\envs\\learn-env\\lib\\site-packages\\sklearn\\pipeline.py\", line 335, in fit\n",
      "    self._final_estimator.fit(Xt, y, **fit_params_last_step)\n",
      "  File \"C:\\Users\\drago\\anaconda3\\envs\\learn-env\\lib\\site-packages\\sklearn\\linear_model\\_logistic.py\", line 1304, in fit\n",
      "    solver = _check_solver(self.solver, self.penalty, self.dual)\n",
      "  File \"C:\\Users\\drago\\anaconda3\\envs\\learn-env\\lib\\site-packages\\sklearn\\linear_model\\_logistic.py\", line 442, in _check_solver\n",
      "    raise ValueError(\"Solver %s supports only 'l2' or 'none' penalties, \"\n",
      "ValueError: Solver sag supports only 'l2' or 'none' penalties, got elasticnet penalty.\n",
      "\n",
      "  warnings.warn(\"Estimator fit failed. The score on this train-test\"\n"
     ]
    },
    {
     "name": "stdout",
     "output_type": "stream",
     "text": [
      "[CV]  lf__C=0.1, lf__penalty=elasticnet, lf__solver=sag, score=nan, total=   0.1s\n",
      "[CV] lf__C=0.1, lf__penalty=elasticnet, lf__solver=sag ...............\n",
      "[CV]  lf__C=0.1, lf__penalty=elasticnet, lf__solver=sag, score=nan, total=   0.1s\n",
      "[CV] lf__C=0.1, lf__penalty=elasticnet, lf__solver=sag ...............\n"
     ]
    },
    {
     "name": "stderr",
     "output_type": "stream",
     "text": [
      "C:\\Users\\drago\\anaconda3\\envs\\learn-env\\lib\\site-packages\\sklearn\\model_selection\\_validation.py:548: FitFailedWarning: Estimator fit failed. The score on this train-test partition for these parameters will be set to nan. Details: \n",
      "Traceback (most recent call last):\n",
      "  File \"C:\\Users\\drago\\anaconda3\\envs\\learn-env\\lib\\site-packages\\sklearn\\model_selection\\_validation.py\", line 531, in _fit_and_score\n",
      "    estimator.fit(X_train, y_train, **fit_params)\n",
      "  File \"C:\\Users\\drago\\anaconda3\\envs\\learn-env\\lib\\site-packages\\sklearn\\pipeline.py\", line 335, in fit\n",
      "    self._final_estimator.fit(Xt, y, **fit_params_last_step)\n",
      "  File \"C:\\Users\\drago\\anaconda3\\envs\\learn-env\\lib\\site-packages\\sklearn\\linear_model\\_logistic.py\", line 1304, in fit\n",
      "    solver = _check_solver(self.solver, self.penalty, self.dual)\n",
      "  File \"C:\\Users\\drago\\anaconda3\\envs\\learn-env\\lib\\site-packages\\sklearn\\linear_model\\_logistic.py\", line 442, in _check_solver\n",
      "    raise ValueError(\"Solver %s supports only 'l2' or 'none' penalties, \"\n",
      "ValueError: Solver sag supports only 'l2' or 'none' penalties, got elasticnet penalty.\n",
      "\n",
      "  warnings.warn(\"Estimator fit failed. The score on this train-test\"\n",
      "C:\\Users\\drago\\anaconda3\\envs\\learn-env\\lib\\site-packages\\sklearn\\model_selection\\_validation.py:548: FitFailedWarning: Estimator fit failed. The score on this train-test partition for these parameters will be set to nan. Details: \n",
      "Traceback (most recent call last):\n",
      "  File \"C:\\Users\\drago\\anaconda3\\envs\\learn-env\\lib\\site-packages\\sklearn\\model_selection\\_validation.py\", line 531, in _fit_and_score\n",
      "    estimator.fit(X_train, y_train, **fit_params)\n",
      "  File \"C:\\Users\\drago\\anaconda3\\envs\\learn-env\\lib\\site-packages\\sklearn\\pipeline.py\", line 335, in fit\n",
      "    self._final_estimator.fit(Xt, y, **fit_params_last_step)\n",
      "  File \"C:\\Users\\drago\\anaconda3\\envs\\learn-env\\lib\\site-packages\\sklearn\\linear_model\\_logistic.py\", line 1304, in fit\n",
      "    solver = _check_solver(self.solver, self.penalty, self.dual)\n",
      "  File \"C:\\Users\\drago\\anaconda3\\envs\\learn-env\\lib\\site-packages\\sklearn\\linear_model\\_logistic.py\", line 442, in _check_solver\n",
      "    raise ValueError(\"Solver %s supports only 'l2' or 'none' penalties, \"\n",
      "ValueError: Solver sag supports only 'l2' or 'none' penalties, got elasticnet penalty.\n",
      "\n",
      "  warnings.warn(\"Estimator fit failed. The score on this train-test\"\n"
     ]
    },
    {
     "name": "stdout",
     "output_type": "stream",
     "text": [
      "[CV]  lf__C=0.1, lf__penalty=elasticnet, lf__solver=sag, score=nan, total=   0.1s\n",
      "[CV] lf__C=0.1, lf__penalty=elasticnet, lf__solver=saga ..............\n",
      "[CV]  lf__C=0.1, lf__penalty=elasticnet, lf__solver=saga, score=nan, total=   0.1s\n",
      "[CV] lf__C=0.1, lf__penalty=elasticnet, lf__solver=saga ..............\n"
     ]
    },
    {
     "name": "stderr",
     "output_type": "stream",
     "text": [
      "C:\\Users\\drago\\anaconda3\\envs\\learn-env\\lib\\site-packages\\sklearn\\model_selection\\_validation.py:548: FitFailedWarning: Estimator fit failed. The score on this train-test partition for these parameters will be set to nan. Details: \n",
      "Traceback (most recent call last):\n",
      "  File \"C:\\Users\\drago\\anaconda3\\envs\\learn-env\\lib\\site-packages\\sklearn\\model_selection\\_validation.py\", line 531, in _fit_and_score\n",
      "    estimator.fit(X_train, y_train, **fit_params)\n",
      "  File \"C:\\Users\\drago\\anaconda3\\envs\\learn-env\\lib\\site-packages\\sklearn\\pipeline.py\", line 335, in fit\n",
      "    self._final_estimator.fit(Xt, y, **fit_params_last_step)\n",
      "  File \"C:\\Users\\drago\\anaconda3\\envs\\learn-env\\lib\\site-packages\\sklearn\\linear_model\\_logistic.py\", line 1312, in fit\n",
      "    raise ValueError(\"l1_ratio must be between 0 and 1;\"\n",
      "ValueError: l1_ratio must be between 0 and 1; got (l1_ratio=None)\n",
      "\n",
      "  warnings.warn(\"Estimator fit failed. The score on this train-test\"\n",
      "C:\\Users\\drago\\anaconda3\\envs\\learn-env\\lib\\site-packages\\sklearn\\model_selection\\_validation.py:548: FitFailedWarning: Estimator fit failed. The score on this train-test partition for these parameters will be set to nan. Details: \n",
      "Traceback (most recent call last):\n",
      "  File \"C:\\Users\\drago\\anaconda3\\envs\\learn-env\\lib\\site-packages\\sklearn\\model_selection\\_validation.py\", line 531, in _fit_and_score\n",
      "    estimator.fit(X_train, y_train, **fit_params)\n",
      "  File \"C:\\Users\\drago\\anaconda3\\envs\\learn-env\\lib\\site-packages\\sklearn\\pipeline.py\", line 335, in fit\n",
      "    self._final_estimator.fit(Xt, y, **fit_params_last_step)\n",
      "  File \"C:\\Users\\drago\\anaconda3\\envs\\learn-env\\lib\\site-packages\\sklearn\\linear_model\\_logistic.py\", line 1312, in fit\n",
      "    raise ValueError(\"l1_ratio must be between 0 and 1;\"\n",
      "ValueError: l1_ratio must be between 0 and 1; got (l1_ratio=None)\n",
      "\n",
      "  warnings.warn(\"Estimator fit failed. The score on this train-test\"\n"
     ]
    },
    {
     "name": "stdout",
     "output_type": "stream",
     "text": [
      "[CV]  lf__C=0.1, lf__penalty=elasticnet, lf__solver=saga, score=nan, total=   0.1s\n",
      "[CV] lf__C=0.1, lf__penalty=elasticnet, lf__solver=saga ..............\n",
      "[CV]  lf__C=0.1, lf__penalty=elasticnet, lf__solver=saga, score=nan, total=   0.1s\n",
      "[CV] lf__C=0.1, lf__penalty=elasticnet, lf__solver=saga ..............\n"
     ]
    },
    {
     "name": "stderr",
     "output_type": "stream",
     "text": [
      "C:\\Users\\drago\\anaconda3\\envs\\learn-env\\lib\\site-packages\\sklearn\\model_selection\\_validation.py:548: FitFailedWarning: Estimator fit failed. The score on this train-test partition for these parameters will be set to nan. Details: \n",
      "Traceback (most recent call last):\n",
      "  File \"C:\\Users\\drago\\anaconda3\\envs\\learn-env\\lib\\site-packages\\sklearn\\model_selection\\_validation.py\", line 531, in _fit_and_score\n",
      "    estimator.fit(X_train, y_train, **fit_params)\n",
      "  File \"C:\\Users\\drago\\anaconda3\\envs\\learn-env\\lib\\site-packages\\sklearn\\pipeline.py\", line 335, in fit\n",
      "    self._final_estimator.fit(Xt, y, **fit_params_last_step)\n",
      "  File \"C:\\Users\\drago\\anaconda3\\envs\\learn-env\\lib\\site-packages\\sklearn\\linear_model\\_logistic.py\", line 1312, in fit\n",
      "    raise ValueError(\"l1_ratio must be between 0 and 1;\"\n",
      "ValueError: l1_ratio must be between 0 and 1; got (l1_ratio=None)\n",
      "\n",
      "  warnings.warn(\"Estimator fit failed. The score on this train-test\"\n",
      "C:\\Users\\drago\\anaconda3\\envs\\learn-env\\lib\\site-packages\\sklearn\\model_selection\\_validation.py:548: FitFailedWarning: Estimator fit failed. The score on this train-test partition for these parameters will be set to nan. Details: \n",
      "Traceback (most recent call last):\n",
      "  File \"C:\\Users\\drago\\anaconda3\\envs\\learn-env\\lib\\site-packages\\sklearn\\model_selection\\_validation.py\", line 531, in _fit_and_score\n",
      "    estimator.fit(X_train, y_train, **fit_params)\n",
      "  File \"C:\\Users\\drago\\anaconda3\\envs\\learn-env\\lib\\site-packages\\sklearn\\pipeline.py\", line 335, in fit\n",
      "    self._final_estimator.fit(Xt, y, **fit_params_last_step)\n",
      "  File \"C:\\Users\\drago\\anaconda3\\envs\\learn-env\\lib\\site-packages\\sklearn\\linear_model\\_logistic.py\", line 1312, in fit\n",
      "    raise ValueError(\"l1_ratio must be between 0 and 1;\"\n",
      "ValueError: l1_ratio must be between 0 and 1; got (l1_ratio=None)\n",
      "\n",
      "  warnings.warn(\"Estimator fit failed. The score on this train-test\"\n"
     ]
    },
    {
     "name": "stdout",
     "output_type": "stream",
     "text": [
      "[CV]  lf__C=0.1, lf__penalty=elasticnet, lf__solver=saga, score=nan, total=   0.1s\n",
      "[CV] lf__C=0.1, lf__penalty=elasticnet, lf__solver=saga ..............\n",
      "[CV]  lf__C=0.1, lf__penalty=elasticnet, lf__solver=saga, score=nan, total=   0.1s\n",
      "[CV] lf__C=0.1, lf__penalty=None, lf__solver=newton-cg ...............\n"
     ]
    },
    {
     "name": "stderr",
     "output_type": "stream",
     "text": [
      "C:\\Users\\drago\\anaconda3\\envs\\learn-env\\lib\\site-packages\\sklearn\\model_selection\\_validation.py:548: FitFailedWarning: Estimator fit failed. The score on this train-test partition for these parameters will be set to nan. Details: \n",
      "Traceback (most recent call last):\n",
      "  File \"C:\\Users\\drago\\anaconda3\\envs\\learn-env\\lib\\site-packages\\sklearn\\model_selection\\_validation.py\", line 531, in _fit_and_score\n",
      "    estimator.fit(X_train, y_train, **fit_params)\n",
      "  File \"C:\\Users\\drago\\anaconda3\\envs\\learn-env\\lib\\site-packages\\sklearn\\pipeline.py\", line 335, in fit\n",
      "    self._final_estimator.fit(Xt, y, **fit_params_last_step)\n",
      "  File \"C:\\Users\\drago\\anaconda3\\envs\\learn-env\\lib\\site-packages\\sklearn\\linear_model\\_logistic.py\", line 1312, in fit\n",
      "    raise ValueError(\"l1_ratio must be between 0 and 1;\"\n",
      "ValueError: l1_ratio must be between 0 and 1; got (l1_ratio=None)\n",
      "\n",
      "  warnings.warn(\"Estimator fit failed. The score on this train-test\"\n",
      "C:\\Users\\drago\\anaconda3\\envs\\learn-env\\lib\\site-packages\\sklearn\\model_selection\\_validation.py:548: FitFailedWarning: Estimator fit failed. The score on this train-test partition for these parameters will be set to nan. Details: \n",
      "Traceback (most recent call last):\n",
      "  File \"C:\\Users\\drago\\anaconda3\\envs\\learn-env\\lib\\site-packages\\sklearn\\model_selection\\_validation.py\", line 531, in _fit_and_score\n",
      "    estimator.fit(X_train, y_train, **fit_params)\n",
      "  File \"C:\\Users\\drago\\anaconda3\\envs\\learn-env\\lib\\site-packages\\sklearn\\pipeline.py\", line 335, in fit\n",
      "    self._final_estimator.fit(Xt, y, **fit_params_last_step)\n",
      "  File \"C:\\Users\\drago\\anaconda3\\envs\\learn-env\\lib\\site-packages\\sklearn\\linear_model\\_logistic.py\", line 1304, in fit\n",
      "    solver = _check_solver(self.solver, self.penalty, self.dual)\n",
      "  File \"C:\\Users\\drago\\anaconda3\\envs\\learn-env\\lib\\site-packages\\sklearn\\linear_model\\_logistic.py\", line 438, in _check_solver\n",
      "    raise ValueError(\"Logistic Regression supports only penalties in %s,\"\n",
      "ValueError: Logistic Regression supports only penalties in ['l1', 'l2', 'elasticnet', 'none'], got None.\n",
      "\n",
      "  warnings.warn(\"Estimator fit failed. The score on this train-test\"\n"
     ]
    },
    {
     "name": "stdout",
     "output_type": "stream",
     "text": [
      "[CV]  lf__C=0.1, lf__penalty=None, lf__solver=newton-cg, score=nan, total=   0.1s\n",
      "[CV] lf__C=0.1, lf__penalty=None, lf__solver=newton-cg ...............\n",
      "[CV]  lf__C=0.1, lf__penalty=None, lf__solver=newton-cg, score=nan, total=   0.1s\n",
      "[CV] lf__C=0.1, lf__penalty=None, lf__solver=newton-cg ...............\n"
     ]
    },
    {
     "name": "stderr",
     "output_type": "stream",
     "text": [
      "C:\\Users\\drago\\anaconda3\\envs\\learn-env\\lib\\site-packages\\sklearn\\model_selection\\_validation.py:548: FitFailedWarning: Estimator fit failed. The score on this train-test partition for these parameters will be set to nan. Details: \n",
      "Traceback (most recent call last):\n",
      "  File \"C:\\Users\\drago\\anaconda3\\envs\\learn-env\\lib\\site-packages\\sklearn\\model_selection\\_validation.py\", line 531, in _fit_and_score\n",
      "    estimator.fit(X_train, y_train, **fit_params)\n",
      "  File \"C:\\Users\\drago\\anaconda3\\envs\\learn-env\\lib\\site-packages\\sklearn\\pipeline.py\", line 335, in fit\n",
      "    self._final_estimator.fit(Xt, y, **fit_params_last_step)\n",
      "  File \"C:\\Users\\drago\\anaconda3\\envs\\learn-env\\lib\\site-packages\\sklearn\\linear_model\\_logistic.py\", line 1304, in fit\n",
      "    solver = _check_solver(self.solver, self.penalty, self.dual)\n",
      "  File \"C:\\Users\\drago\\anaconda3\\envs\\learn-env\\lib\\site-packages\\sklearn\\linear_model\\_logistic.py\", line 438, in _check_solver\n",
      "    raise ValueError(\"Logistic Regression supports only penalties in %s,\"\n",
      "ValueError: Logistic Regression supports only penalties in ['l1', 'l2', 'elasticnet', 'none'], got None.\n",
      "\n",
      "  warnings.warn(\"Estimator fit failed. The score on this train-test\"\n",
      "C:\\Users\\drago\\anaconda3\\envs\\learn-env\\lib\\site-packages\\sklearn\\model_selection\\_validation.py:548: FitFailedWarning: Estimator fit failed. The score on this train-test partition for these parameters will be set to nan. Details: \n",
      "Traceback (most recent call last):\n",
      "  File \"C:\\Users\\drago\\anaconda3\\envs\\learn-env\\lib\\site-packages\\sklearn\\model_selection\\_validation.py\", line 531, in _fit_and_score\n",
      "    estimator.fit(X_train, y_train, **fit_params)\n",
      "  File \"C:\\Users\\drago\\anaconda3\\envs\\learn-env\\lib\\site-packages\\sklearn\\pipeline.py\", line 335, in fit\n",
      "    self._final_estimator.fit(Xt, y, **fit_params_last_step)\n",
      "  File \"C:\\Users\\drago\\anaconda3\\envs\\learn-env\\lib\\site-packages\\sklearn\\linear_model\\_logistic.py\", line 1304, in fit\n",
      "    solver = _check_solver(self.solver, self.penalty, self.dual)\n",
      "  File \"C:\\Users\\drago\\anaconda3\\envs\\learn-env\\lib\\site-packages\\sklearn\\linear_model\\_logistic.py\", line 438, in _check_solver\n",
      "    raise ValueError(\"Logistic Regression supports only penalties in %s,\"\n",
      "ValueError: Logistic Regression supports only penalties in ['l1', 'l2', 'elasticnet', 'none'], got None.\n",
      "\n",
      "  warnings.warn(\"Estimator fit failed. The score on this train-test\"\n"
     ]
    },
    {
     "name": "stdout",
     "output_type": "stream",
     "text": [
      "[CV]  lf__C=0.1, lf__penalty=None, lf__solver=newton-cg, score=nan, total=   0.1s\n",
      "[CV] lf__C=0.1, lf__penalty=None, lf__solver=newton-cg ...............\n",
      "[CV]  lf__C=0.1, lf__penalty=None, lf__solver=newton-cg, score=nan, total=   0.1s\n",
      "[CV] lf__C=0.1, lf__penalty=None, lf__solver=newton-cg ...............\n"
     ]
    },
    {
     "name": "stderr",
     "output_type": "stream",
     "text": [
      "C:\\Users\\drago\\anaconda3\\envs\\learn-env\\lib\\site-packages\\sklearn\\model_selection\\_validation.py:548: FitFailedWarning: Estimator fit failed. The score on this train-test partition for these parameters will be set to nan. Details: \n",
      "Traceback (most recent call last):\n",
      "  File \"C:\\Users\\drago\\anaconda3\\envs\\learn-env\\lib\\site-packages\\sklearn\\model_selection\\_validation.py\", line 531, in _fit_and_score\n",
      "    estimator.fit(X_train, y_train, **fit_params)\n",
      "  File \"C:\\Users\\drago\\anaconda3\\envs\\learn-env\\lib\\site-packages\\sklearn\\pipeline.py\", line 335, in fit\n",
      "    self._final_estimator.fit(Xt, y, **fit_params_last_step)\n",
      "  File \"C:\\Users\\drago\\anaconda3\\envs\\learn-env\\lib\\site-packages\\sklearn\\linear_model\\_logistic.py\", line 1304, in fit\n",
      "    solver = _check_solver(self.solver, self.penalty, self.dual)\n",
      "  File \"C:\\Users\\drago\\anaconda3\\envs\\learn-env\\lib\\site-packages\\sklearn\\linear_model\\_logistic.py\", line 438, in _check_solver\n",
      "    raise ValueError(\"Logistic Regression supports only penalties in %s,\"\n",
      "ValueError: Logistic Regression supports only penalties in ['l1', 'l2', 'elasticnet', 'none'], got None.\n",
      "\n",
      "  warnings.warn(\"Estimator fit failed. The score on this train-test\"\n",
      "C:\\Users\\drago\\anaconda3\\envs\\learn-env\\lib\\site-packages\\sklearn\\model_selection\\_validation.py:548: FitFailedWarning: Estimator fit failed. The score on this train-test partition for these parameters will be set to nan. Details: \n",
      "Traceback (most recent call last):\n",
      "  File \"C:\\Users\\drago\\anaconda3\\envs\\learn-env\\lib\\site-packages\\sklearn\\model_selection\\_validation.py\", line 531, in _fit_and_score\n",
      "    estimator.fit(X_train, y_train, **fit_params)\n",
      "  File \"C:\\Users\\drago\\anaconda3\\envs\\learn-env\\lib\\site-packages\\sklearn\\pipeline.py\", line 335, in fit\n",
      "    self._final_estimator.fit(Xt, y, **fit_params_last_step)\n",
      "  File \"C:\\Users\\drago\\anaconda3\\envs\\learn-env\\lib\\site-packages\\sklearn\\linear_model\\_logistic.py\", line 1304, in fit\n",
      "    solver = _check_solver(self.solver, self.penalty, self.dual)\n",
      "  File \"C:\\Users\\drago\\anaconda3\\envs\\learn-env\\lib\\site-packages\\sklearn\\linear_model\\_logistic.py\", line 438, in _check_solver\n",
      "    raise ValueError(\"Logistic Regression supports only penalties in %s,\"\n",
      "ValueError: Logistic Regression supports only penalties in ['l1', 'l2', 'elasticnet', 'none'], got None.\n",
      "\n",
      "  warnings.warn(\"Estimator fit failed. The score on this train-test\"\n"
     ]
    },
    {
     "name": "stdout",
     "output_type": "stream",
     "text": [
      "[CV]  lf__C=0.1, lf__penalty=None, lf__solver=newton-cg, score=nan, total=   0.1s\n",
      "[CV] lf__C=0.1, lf__penalty=None, lf__solver=lbfgs ...................\n",
      "[CV]  lf__C=0.1, lf__penalty=None, lf__solver=lbfgs, score=nan, total=   0.1s\n",
      "[CV] lf__C=0.1, lf__penalty=None, lf__solver=lbfgs ...................\n"
     ]
    },
    {
     "name": "stderr",
     "output_type": "stream",
     "text": [
      "C:\\Users\\drago\\anaconda3\\envs\\learn-env\\lib\\site-packages\\sklearn\\model_selection\\_validation.py:548: FitFailedWarning: Estimator fit failed. The score on this train-test partition for these parameters will be set to nan. Details: \n",
      "Traceback (most recent call last):\n",
      "  File \"C:\\Users\\drago\\anaconda3\\envs\\learn-env\\lib\\site-packages\\sklearn\\model_selection\\_validation.py\", line 531, in _fit_and_score\n",
      "    estimator.fit(X_train, y_train, **fit_params)\n",
      "  File \"C:\\Users\\drago\\anaconda3\\envs\\learn-env\\lib\\site-packages\\sklearn\\pipeline.py\", line 335, in fit\n",
      "    self._final_estimator.fit(Xt, y, **fit_params_last_step)\n",
      "  File \"C:\\Users\\drago\\anaconda3\\envs\\learn-env\\lib\\site-packages\\sklearn\\linear_model\\_logistic.py\", line 1304, in fit\n",
      "    solver = _check_solver(self.solver, self.penalty, self.dual)\n",
      "  File \"C:\\Users\\drago\\anaconda3\\envs\\learn-env\\lib\\site-packages\\sklearn\\linear_model\\_logistic.py\", line 438, in _check_solver\n",
      "    raise ValueError(\"Logistic Regression supports only penalties in %s,\"\n",
      "ValueError: Logistic Regression supports only penalties in ['l1', 'l2', 'elasticnet', 'none'], got None.\n",
      "\n",
      "  warnings.warn(\"Estimator fit failed. The score on this train-test\"\n",
      "C:\\Users\\drago\\anaconda3\\envs\\learn-env\\lib\\site-packages\\sklearn\\model_selection\\_validation.py:548: FitFailedWarning: Estimator fit failed. The score on this train-test partition for these parameters will be set to nan. Details: \n",
      "Traceback (most recent call last):\n",
      "  File \"C:\\Users\\drago\\anaconda3\\envs\\learn-env\\lib\\site-packages\\sklearn\\model_selection\\_validation.py\", line 531, in _fit_and_score\n",
      "    estimator.fit(X_train, y_train, **fit_params)\n",
      "  File \"C:\\Users\\drago\\anaconda3\\envs\\learn-env\\lib\\site-packages\\sklearn\\pipeline.py\", line 335, in fit\n",
      "    self._final_estimator.fit(Xt, y, **fit_params_last_step)\n",
      "  File \"C:\\Users\\drago\\anaconda3\\envs\\learn-env\\lib\\site-packages\\sklearn\\linear_model\\_logistic.py\", line 1304, in fit\n",
      "    solver = _check_solver(self.solver, self.penalty, self.dual)\n",
      "  File \"C:\\Users\\drago\\anaconda3\\envs\\learn-env\\lib\\site-packages\\sklearn\\linear_model\\_logistic.py\", line 438, in _check_solver\n",
      "    raise ValueError(\"Logistic Regression supports only penalties in %s,\"\n",
      "ValueError: Logistic Regression supports only penalties in ['l1', 'l2', 'elasticnet', 'none'], got None.\n",
      "\n",
      "  warnings.warn(\"Estimator fit failed. The score on this train-test\"\n"
     ]
    },
    {
     "name": "stdout",
     "output_type": "stream",
     "text": [
      "[CV]  lf__C=0.1, lf__penalty=None, lf__solver=lbfgs, score=nan, total=   0.1s\n",
      "[CV] lf__C=0.1, lf__penalty=None, lf__solver=lbfgs ...................\n",
      "[CV]  lf__C=0.1, lf__penalty=None, lf__solver=lbfgs, score=nan, total=   0.1s\n",
      "[CV] lf__C=0.1, lf__penalty=None, lf__solver=lbfgs ...................\n"
     ]
    },
    {
     "name": "stderr",
     "output_type": "stream",
     "text": [
      "C:\\Users\\drago\\anaconda3\\envs\\learn-env\\lib\\site-packages\\sklearn\\model_selection\\_validation.py:548: FitFailedWarning: Estimator fit failed. The score on this train-test partition for these parameters will be set to nan. Details: \n",
      "Traceback (most recent call last):\n",
      "  File \"C:\\Users\\drago\\anaconda3\\envs\\learn-env\\lib\\site-packages\\sklearn\\model_selection\\_validation.py\", line 531, in _fit_and_score\n",
      "    estimator.fit(X_train, y_train, **fit_params)\n",
      "  File \"C:\\Users\\drago\\anaconda3\\envs\\learn-env\\lib\\site-packages\\sklearn\\pipeline.py\", line 335, in fit\n",
      "    self._final_estimator.fit(Xt, y, **fit_params_last_step)\n",
      "  File \"C:\\Users\\drago\\anaconda3\\envs\\learn-env\\lib\\site-packages\\sklearn\\linear_model\\_logistic.py\", line 1304, in fit\n",
      "    solver = _check_solver(self.solver, self.penalty, self.dual)\n",
      "  File \"C:\\Users\\drago\\anaconda3\\envs\\learn-env\\lib\\site-packages\\sklearn\\linear_model\\_logistic.py\", line 438, in _check_solver\n",
      "    raise ValueError(\"Logistic Regression supports only penalties in %s,\"\n",
      "ValueError: Logistic Regression supports only penalties in ['l1', 'l2', 'elasticnet', 'none'], got None.\n",
      "\n",
      "  warnings.warn(\"Estimator fit failed. The score on this train-test\"\n",
      "C:\\Users\\drago\\anaconda3\\envs\\learn-env\\lib\\site-packages\\sklearn\\model_selection\\_validation.py:548: FitFailedWarning: Estimator fit failed. The score on this train-test partition for these parameters will be set to nan. Details: \n",
      "Traceback (most recent call last):\n",
      "  File \"C:\\Users\\drago\\anaconda3\\envs\\learn-env\\lib\\site-packages\\sklearn\\model_selection\\_validation.py\", line 531, in _fit_and_score\n",
      "    estimator.fit(X_train, y_train, **fit_params)\n",
      "  File \"C:\\Users\\drago\\anaconda3\\envs\\learn-env\\lib\\site-packages\\sklearn\\pipeline.py\", line 335, in fit\n",
      "    self._final_estimator.fit(Xt, y, **fit_params_last_step)\n",
      "  File \"C:\\Users\\drago\\anaconda3\\envs\\learn-env\\lib\\site-packages\\sklearn\\linear_model\\_logistic.py\", line 1304, in fit\n",
      "    solver = _check_solver(self.solver, self.penalty, self.dual)\n",
      "  File \"C:\\Users\\drago\\anaconda3\\envs\\learn-env\\lib\\site-packages\\sklearn\\linear_model\\_logistic.py\", line 438, in _check_solver\n",
      "    raise ValueError(\"Logistic Regression supports only penalties in %s,\"\n",
      "ValueError: Logistic Regression supports only penalties in ['l1', 'l2', 'elasticnet', 'none'], got None.\n",
      "\n",
      "  warnings.warn(\"Estimator fit failed. The score on this train-test\"\n"
     ]
    },
    {
     "name": "stdout",
     "output_type": "stream",
     "text": [
      "[CV]  lf__C=0.1, lf__penalty=None, lf__solver=lbfgs, score=nan, total=   0.1s\n",
      "[CV] lf__C=0.1, lf__penalty=None, lf__solver=lbfgs ...................\n",
      "[CV]  lf__C=0.1, lf__penalty=None, lf__solver=lbfgs, score=nan, total=   0.1s\n",
      "[CV] lf__C=0.1, lf__penalty=None, lf__solver=liblinear ...............\n"
     ]
    },
    {
     "name": "stderr",
     "output_type": "stream",
     "text": [
      "C:\\Users\\drago\\anaconda3\\envs\\learn-env\\lib\\site-packages\\sklearn\\model_selection\\_validation.py:548: FitFailedWarning: Estimator fit failed. The score on this train-test partition for these parameters will be set to nan. Details: \n",
      "Traceback (most recent call last):\n",
      "  File \"C:\\Users\\drago\\anaconda3\\envs\\learn-env\\lib\\site-packages\\sklearn\\model_selection\\_validation.py\", line 531, in _fit_and_score\n",
      "    estimator.fit(X_train, y_train, **fit_params)\n",
      "  File \"C:\\Users\\drago\\anaconda3\\envs\\learn-env\\lib\\site-packages\\sklearn\\pipeline.py\", line 335, in fit\n",
      "    self._final_estimator.fit(Xt, y, **fit_params_last_step)\n",
      "  File \"C:\\Users\\drago\\anaconda3\\envs\\learn-env\\lib\\site-packages\\sklearn\\linear_model\\_logistic.py\", line 1304, in fit\n",
      "    solver = _check_solver(self.solver, self.penalty, self.dual)\n",
      "  File \"C:\\Users\\drago\\anaconda3\\envs\\learn-env\\lib\\site-packages\\sklearn\\linear_model\\_logistic.py\", line 438, in _check_solver\n",
      "    raise ValueError(\"Logistic Regression supports only penalties in %s,\"\n",
      "ValueError: Logistic Regression supports only penalties in ['l1', 'l2', 'elasticnet', 'none'], got None.\n",
      "\n",
      "  warnings.warn(\"Estimator fit failed. The score on this train-test\"\n",
      "C:\\Users\\drago\\anaconda3\\envs\\learn-env\\lib\\site-packages\\sklearn\\model_selection\\_validation.py:548: FitFailedWarning: Estimator fit failed. The score on this train-test partition for these parameters will be set to nan. Details: \n",
      "Traceback (most recent call last):\n",
      "  File \"C:\\Users\\drago\\anaconda3\\envs\\learn-env\\lib\\site-packages\\sklearn\\model_selection\\_validation.py\", line 531, in _fit_and_score\n",
      "    estimator.fit(X_train, y_train, **fit_params)\n",
      "  File \"C:\\Users\\drago\\anaconda3\\envs\\learn-env\\lib\\site-packages\\sklearn\\pipeline.py\", line 335, in fit\n",
      "    self._final_estimator.fit(Xt, y, **fit_params_last_step)\n",
      "  File \"C:\\Users\\drago\\anaconda3\\envs\\learn-env\\lib\\site-packages\\sklearn\\linear_model\\_logistic.py\", line 1304, in fit\n",
      "    solver = _check_solver(self.solver, self.penalty, self.dual)\n",
      "  File \"C:\\Users\\drago\\anaconda3\\envs\\learn-env\\lib\\site-packages\\sklearn\\linear_model\\_logistic.py\", line 438, in _check_solver\n",
      "    raise ValueError(\"Logistic Regression supports only penalties in %s,\"\n",
      "ValueError: Logistic Regression supports only penalties in ['l1', 'l2', 'elasticnet', 'none'], got None.\n",
      "\n",
      "  warnings.warn(\"Estimator fit failed. The score on this train-test\"\n"
     ]
    },
    {
     "name": "stdout",
     "output_type": "stream",
     "text": [
      "[CV]  lf__C=0.1, lf__penalty=None, lf__solver=liblinear, score=nan, total=   0.1s\n",
      "[CV] lf__C=0.1, lf__penalty=None, lf__solver=liblinear ...............\n",
      "[CV]  lf__C=0.1, lf__penalty=None, lf__solver=liblinear, score=nan, total=   0.1s\n",
      "[CV] lf__C=0.1, lf__penalty=None, lf__solver=liblinear ...............\n"
     ]
    },
    {
     "name": "stderr",
     "output_type": "stream",
     "text": [
      "C:\\Users\\drago\\anaconda3\\envs\\learn-env\\lib\\site-packages\\sklearn\\model_selection\\_validation.py:548: FitFailedWarning: Estimator fit failed. The score on this train-test partition for these parameters will be set to nan. Details: \n",
      "Traceback (most recent call last):\n",
      "  File \"C:\\Users\\drago\\anaconda3\\envs\\learn-env\\lib\\site-packages\\sklearn\\model_selection\\_validation.py\", line 531, in _fit_and_score\n",
      "    estimator.fit(X_train, y_train, **fit_params)\n",
      "  File \"C:\\Users\\drago\\anaconda3\\envs\\learn-env\\lib\\site-packages\\sklearn\\pipeline.py\", line 335, in fit\n",
      "    self._final_estimator.fit(Xt, y, **fit_params_last_step)\n",
      "  File \"C:\\Users\\drago\\anaconda3\\envs\\learn-env\\lib\\site-packages\\sklearn\\linear_model\\_logistic.py\", line 1304, in fit\n",
      "    solver = _check_solver(self.solver, self.penalty, self.dual)\n",
      "  File \"C:\\Users\\drago\\anaconda3\\envs\\learn-env\\lib\\site-packages\\sklearn\\linear_model\\_logistic.py\", line 438, in _check_solver\n",
      "    raise ValueError(\"Logistic Regression supports only penalties in %s,\"\n",
      "ValueError: Logistic Regression supports only penalties in ['l1', 'l2', 'elasticnet', 'none'], got None.\n",
      "\n",
      "  warnings.warn(\"Estimator fit failed. The score on this train-test\"\n",
      "C:\\Users\\drago\\anaconda3\\envs\\learn-env\\lib\\site-packages\\sklearn\\model_selection\\_validation.py:548: FitFailedWarning: Estimator fit failed. The score on this train-test partition for these parameters will be set to nan. Details: \n",
      "Traceback (most recent call last):\n",
      "  File \"C:\\Users\\drago\\anaconda3\\envs\\learn-env\\lib\\site-packages\\sklearn\\model_selection\\_validation.py\", line 531, in _fit_and_score\n",
      "    estimator.fit(X_train, y_train, **fit_params)\n",
      "  File \"C:\\Users\\drago\\anaconda3\\envs\\learn-env\\lib\\site-packages\\sklearn\\pipeline.py\", line 335, in fit\n",
      "    self._final_estimator.fit(Xt, y, **fit_params_last_step)\n",
      "  File \"C:\\Users\\drago\\anaconda3\\envs\\learn-env\\lib\\site-packages\\sklearn\\linear_model\\_logistic.py\", line 1304, in fit\n",
      "    solver = _check_solver(self.solver, self.penalty, self.dual)\n",
      "  File \"C:\\Users\\drago\\anaconda3\\envs\\learn-env\\lib\\site-packages\\sklearn\\linear_model\\_logistic.py\", line 438, in _check_solver\n",
      "    raise ValueError(\"Logistic Regression supports only penalties in %s,\"\n",
      "ValueError: Logistic Regression supports only penalties in ['l1', 'l2', 'elasticnet', 'none'], got None.\n",
      "\n",
      "  warnings.warn(\"Estimator fit failed. The score on this train-test\"\n"
     ]
    },
    {
     "name": "stdout",
     "output_type": "stream",
     "text": [
      "[CV]  lf__C=0.1, lf__penalty=None, lf__solver=liblinear, score=nan, total=   0.1s\n",
      "[CV] lf__C=0.1, lf__penalty=None, lf__solver=liblinear ...............\n",
      "[CV]  lf__C=0.1, lf__penalty=None, lf__solver=liblinear, score=nan, total=   0.1s\n",
      "[CV] lf__C=0.1, lf__penalty=None, lf__solver=liblinear ...............\n"
     ]
    },
    {
     "name": "stderr",
     "output_type": "stream",
     "text": [
      "C:\\Users\\drago\\anaconda3\\envs\\learn-env\\lib\\site-packages\\sklearn\\model_selection\\_validation.py:548: FitFailedWarning: Estimator fit failed. The score on this train-test partition for these parameters will be set to nan. Details: \n",
      "Traceback (most recent call last):\n",
      "  File \"C:\\Users\\drago\\anaconda3\\envs\\learn-env\\lib\\site-packages\\sklearn\\model_selection\\_validation.py\", line 531, in _fit_and_score\n",
      "    estimator.fit(X_train, y_train, **fit_params)\n",
      "  File \"C:\\Users\\drago\\anaconda3\\envs\\learn-env\\lib\\site-packages\\sklearn\\pipeline.py\", line 335, in fit\n",
      "    self._final_estimator.fit(Xt, y, **fit_params_last_step)\n",
      "  File \"C:\\Users\\drago\\anaconda3\\envs\\learn-env\\lib\\site-packages\\sklearn\\linear_model\\_logistic.py\", line 1304, in fit\n",
      "    solver = _check_solver(self.solver, self.penalty, self.dual)\n",
      "  File \"C:\\Users\\drago\\anaconda3\\envs\\learn-env\\lib\\site-packages\\sklearn\\linear_model\\_logistic.py\", line 438, in _check_solver\n",
      "    raise ValueError(\"Logistic Regression supports only penalties in %s,\"\n",
      "ValueError: Logistic Regression supports only penalties in ['l1', 'l2', 'elasticnet', 'none'], got None.\n",
      "\n",
      "  warnings.warn(\"Estimator fit failed. The score on this train-test\"\n",
      "C:\\Users\\drago\\anaconda3\\envs\\learn-env\\lib\\site-packages\\sklearn\\model_selection\\_validation.py:548: FitFailedWarning: Estimator fit failed. The score on this train-test partition for these parameters will be set to nan. Details: \n",
      "Traceback (most recent call last):\n",
      "  File \"C:\\Users\\drago\\anaconda3\\envs\\learn-env\\lib\\site-packages\\sklearn\\model_selection\\_validation.py\", line 531, in _fit_and_score\n",
      "    estimator.fit(X_train, y_train, **fit_params)\n",
      "  File \"C:\\Users\\drago\\anaconda3\\envs\\learn-env\\lib\\site-packages\\sklearn\\pipeline.py\", line 335, in fit\n",
      "    self._final_estimator.fit(Xt, y, **fit_params_last_step)\n",
      "  File \"C:\\Users\\drago\\anaconda3\\envs\\learn-env\\lib\\site-packages\\sklearn\\linear_model\\_logistic.py\", line 1304, in fit\n",
      "    solver = _check_solver(self.solver, self.penalty, self.dual)\n",
      "  File \"C:\\Users\\drago\\anaconda3\\envs\\learn-env\\lib\\site-packages\\sklearn\\linear_model\\_logistic.py\", line 438, in _check_solver\n",
      "    raise ValueError(\"Logistic Regression supports only penalties in %s,\"\n",
      "ValueError: Logistic Regression supports only penalties in ['l1', 'l2', 'elasticnet', 'none'], got None.\n",
      "\n",
      "  warnings.warn(\"Estimator fit failed. The score on this train-test\"\n"
     ]
    },
    {
     "name": "stdout",
     "output_type": "stream",
     "text": [
      "[CV]  lf__C=0.1, lf__penalty=None, lf__solver=liblinear, score=nan, total=   0.1s\n",
      "[CV] lf__C=0.1, lf__penalty=None, lf__solver=sag .....................\n",
      "[CV]  lf__C=0.1, lf__penalty=None, lf__solver=sag, score=nan, total=   0.1s\n",
      "[CV] lf__C=0.1, lf__penalty=None, lf__solver=sag .....................\n"
     ]
    },
    {
     "name": "stderr",
     "output_type": "stream",
     "text": [
      "C:\\Users\\drago\\anaconda3\\envs\\learn-env\\lib\\site-packages\\sklearn\\model_selection\\_validation.py:548: FitFailedWarning: Estimator fit failed. The score on this train-test partition for these parameters will be set to nan. Details: \n",
      "Traceback (most recent call last):\n",
      "  File \"C:\\Users\\drago\\anaconda3\\envs\\learn-env\\lib\\site-packages\\sklearn\\model_selection\\_validation.py\", line 531, in _fit_and_score\n",
      "    estimator.fit(X_train, y_train, **fit_params)\n",
      "  File \"C:\\Users\\drago\\anaconda3\\envs\\learn-env\\lib\\site-packages\\sklearn\\pipeline.py\", line 335, in fit\n",
      "    self._final_estimator.fit(Xt, y, **fit_params_last_step)\n",
      "  File \"C:\\Users\\drago\\anaconda3\\envs\\learn-env\\lib\\site-packages\\sklearn\\linear_model\\_logistic.py\", line 1304, in fit\n",
      "    solver = _check_solver(self.solver, self.penalty, self.dual)\n",
      "  File \"C:\\Users\\drago\\anaconda3\\envs\\learn-env\\lib\\site-packages\\sklearn\\linear_model\\_logistic.py\", line 438, in _check_solver\n",
      "    raise ValueError(\"Logistic Regression supports only penalties in %s,\"\n",
      "ValueError: Logistic Regression supports only penalties in ['l1', 'l2', 'elasticnet', 'none'], got None.\n",
      "\n",
      "  warnings.warn(\"Estimator fit failed. The score on this train-test\"\n",
      "C:\\Users\\drago\\anaconda3\\envs\\learn-env\\lib\\site-packages\\sklearn\\model_selection\\_validation.py:548: FitFailedWarning: Estimator fit failed. The score on this train-test partition for these parameters will be set to nan. Details: \n",
      "Traceback (most recent call last):\n",
      "  File \"C:\\Users\\drago\\anaconda3\\envs\\learn-env\\lib\\site-packages\\sklearn\\model_selection\\_validation.py\", line 531, in _fit_and_score\n",
      "    estimator.fit(X_train, y_train, **fit_params)\n",
      "  File \"C:\\Users\\drago\\anaconda3\\envs\\learn-env\\lib\\site-packages\\sklearn\\pipeline.py\", line 335, in fit\n",
      "    self._final_estimator.fit(Xt, y, **fit_params_last_step)\n",
      "  File \"C:\\Users\\drago\\anaconda3\\envs\\learn-env\\lib\\site-packages\\sklearn\\linear_model\\_logistic.py\", line 1304, in fit\n",
      "    solver = _check_solver(self.solver, self.penalty, self.dual)\n",
      "  File \"C:\\Users\\drago\\anaconda3\\envs\\learn-env\\lib\\site-packages\\sklearn\\linear_model\\_logistic.py\", line 438, in _check_solver\n",
      "    raise ValueError(\"Logistic Regression supports only penalties in %s,\"\n",
      "ValueError: Logistic Regression supports only penalties in ['l1', 'l2', 'elasticnet', 'none'], got None.\n",
      "\n",
      "  warnings.warn(\"Estimator fit failed. The score on this train-test\"\n"
     ]
    },
    {
     "name": "stdout",
     "output_type": "stream",
     "text": [
      "[CV]  lf__C=0.1, lf__penalty=None, lf__solver=sag, score=nan, total=   0.1s\n",
      "[CV] lf__C=0.1, lf__penalty=None, lf__solver=sag .....................\n",
      "[CV]  lf__C=0.1, lf__penalty=None, lf__solver=sag, score=nan, total=   0.1s\n",
      "[CV] lf__C=0.1, lf__penalty=None, lf__solver=sag .....................\n"
     ]
    },
    {
     "name": "stderr",
     "output_type": "stream",
     "text": [
      "C:\\Users\\drago\\anaconda3\\envs\\learn-env\\lib\\site-packages\\sklearn\\model_selection\\_validation.py:548: FitFailedWarning: Estimator fit failed. The score on this train-test partition for these parameters will be set to nan. Details: \n",
      "Traceback (most recent call last):\n",
      "  File \"C:\\Users\\drago\\anaconda3\\envs\\learn-env\\lib\\site-packages\\sklearn\\model_selection\\_validation.py\", line 531, in _fit_and_score\n",
      "    estimator.fit(X_train, y_train, **fit_params)\n",
      "  File \"C:\\Users\\drago\\anaconda3\\envs\\learn-env\\lib\\site-packages\\sklearn\\pipeline.py\", line 335, in fit\n",
      "    self._final_estimator.fit(Xt, y, **fit_params_last_step)\n",
      "  File \"C:\\Users\\drago\\anaconda3\\envs\\learn-env\\lib\\site-packages\\sklearn\\linear_model\\_logistic.py\", line 1304, in fit\n",
      "    solver = _check_solver(self.solver, self.penalty, self.dual)\n",
      "  File \"C:\\Users\\drago\\anaconda3\\envs\\learn-env\\lib\\site-packages\\sklearn\\linear_model\\_logistic.py\", line 438, in _check_solver\n",
      "    raise ValueError(\"Logistic Regression supports only penalties in %s,\"\n",
      "ValueError: Logistic Regression supports only penalties in ['l1', 'l2', 'elasticnet', 'none'], got None.\n",
      "\n",
      "  warnings.warn(\"Estimator fit failed. The score on this train-test\"\n",
      "C:\\Users\\drago\\anaconda3\\envs\\learn-env\\lib\\site-packages\\sklearn\\model_selection\\_validation.py:548: FitFailedWarning: Estimator fit failed. The score on this train-test partition for these parameters will be set to nan. Details: \n",
      "Traceback (most recent call last):\n",
      "  File \"C:\\Users\\drago\\anaconda3\\envs\\learn-env\\lib\\site-packages\\sklearn\\model_selection\\_validation.py\", line 531, in _fit_and_score\n",
      "    estimator.fit(X_train, y_train, **fit_params)\n",
      "  File \"C:\\Users\\drago\\anaconda3\\envs\\learn-env\\lib\\site-packages\\sklearn\\pipeline.py\", line 335, in fit\n",
      "    self._final_estimator.fit(Xt, y, **fit_params_last_step)\n",
      "  File \"C:\\Users\\drago\\anaconda3\\envs\\learn-env\\lib\\site-packages\\sklearn\\linear_model\\_logistic.py\", line 1304, in fit\n",
      "    solver = _check_solver(self.solver, self.penalty, self.dual)\n",
      "  File \"C:\\Users\\drago\\anaconda3\\envs\\learn-env\\lib\\site-packages\\sklearn\\linear_model\\_logistic.py\", line 438, in _check_solver\n",
      "    raise ValueError(\"Logistic Regression supports only penalties in %s,\"\n",
      "ValueError: Logistic Regression supports only penalties in ['l1', 'l2', 'elasticnet', 'none'], got None.\n",
      "\n",
      "  warnings.warn(\"Estimator fit failed. The score on this train-test\"\n"
     ]
    },
    {
     "name": "stdout",
     "output_type": "stream",
     "text": [
      "[CV]  lf__C=0.1, lf__penalty=None, lf__solver=sag, score=nan, total=   0.1s\n",
      "[CV] lf__C=0.1, lf__penalty=None, lf__solver=sag .....................\n",
      "[CV]  lf__C=0.1, lf__penalty=None, lf__solver=sag, score=nan, total=   0.1s\n",
      "[CV] lf__C=0.1, lf__penalty=None, lf__solver=saga ....................\n"
     ]
    },
    {
     "name": "stderr",
     "output_type": "stream",
     "text": [
      "C:\\Users\\drago\\anaconda3\\envs\\learn-env\\lib\\site-packages\\sklearn\\model_selection\\_validation.py:548: FitFailedWarning: Estimator fit failed. The score on this train-test partition for these parameters will be set to nan. Details: \n",
      "Traceback (most recent call last):\n",
      "  File \"C:\\Users\\drago\\anaconda3\\envs\\learn-env\\lib\\site-packages\\sklearn\\model_selection\\_validation.py\", line 531, in _fit_and_score\n",
      "    estimator.fit(X_train, y_train, **fit_params)\n",
      "  File \"C:\\Users\\drago\\anaconda3\\envs\\learn-env\\lib\\site-packages\\sklearn\\pipeline.py\", line 335, in fit\n",
      "    self._final_estimator.fit(Xt, y, **fit_params_last_step)\n",
      "  File \"C:\\Users\\drago\\anaconda3\\envs\\learn-env\\lib\\site-packages\\sklearn\\linear_model\\_logistic.py\", line 1304, in fit\n",
      "    solver = _check_solver(self.solver, self.penalty, self.dual)\n",
      "  File \"C:\\Users\\drago\\anaconda3\\envs\\learn-env\\lib\\site-packages\\sklearn\\linear_model\\_logistic.py\", line 438, in _check_solver\n",
      "    raise ValueError(\"Logistic Regression supports only penalties in %s,\"\n",
      "ValueError: Logistic Regression supports only penalties in ['l1', 'l2', 'elasticnet', 'none'], got None.\n",
      "\n",
      "  warnings.warn(\"Estimator fit failed. The score on this train-test\"\n",
      "C:\\Users\\drago\\anaconda3\\envs\\learn-env\\lib\\site-packages\\sklearn\\model_selection\\_validation.py:548: FitFailedWarning: Estimator fit failed. The score on this train-test partition for these parameters will be set to nan. Details: \n",
      "Traceback (most recent call last):\n",
      "  File \"C:\\Users\\drago\\anaconda3\\envs\\learn-env\\lib\\site-packages\\sklearn\\model_selection\\_validation.py\", line 531, in _fit_and_score\n",
      "    estimator.fit(X_train, y_train, **fit_params)\n",
      "  File \"C:\\Users\\drago\\anaconda3\\envs\\learn-env\\lib\\site-packages\\sklearn\\pipeline.py\", line 335, in fit\n",
      "    self._final_estimator.fit(Xt, y, **fit_params_last_step)\n",
      "  File \"C:\\Users\\drago\\anaconda3\\envs\\learn-env\\lib\\site-packages\\sklearn\\linear_model\\_logistic.py\", line 1304, in fit\n",
      "    solver = _check_solver(self.solver, self.penalty, self.dual)\n",
      "  File \"C:\\Users\\drago\\anaconda3\\envs\\learn-env\\lib\\site-packages\\sklearn\\linear_model\\_logistic.py\", line 438, in _check_solver\n",
      "    raise ValueError(\"Logistic Regression supports only penalties in %s,\"\n",
      "ValueError: Logistic Regression supports only penalties in ['l1', 'l2', 'elasticnet', 'none'], got None.\n",
      "\n",
      "  warnings.warn(\"Estimator fit failed. The score on this train-test\"\n"
     ]
    },
    {
     "name": "stdout",
     "output_type": "stream",
     "text": [
      "[CV]  lf__C=0.1, lf__penalty=None, lf__solver=saga, score=nan, total=   0.1s\n",
      "[CV] lf__C=0.1, lf__penalty=None, lf__solver=saga ....................\n",
      "[CV]  lf__C=0.1, lf__penalty=None, lf__solver=saga, score=nan, total=   0.1s\n",
      "[CV] lf__C=0.1, lf__penalty=None, lf__solver=saga ....................\n"
     ]
    },
    {
     "name": "stderr",
     "output_type": "stream",
     "text": [
      "C:\\Users\\drago\\anaconda3\\envs\\learn-env\\lib\\site-packages\\sklearn\\model_selection\\_validation.py:548: FitFailedWarning: Estimator fit failed. The score on this train-test partition for these parameters will be set to nan. Details: \n",
      "Traceback (most recent call last):\n",
      "  File \"C:\\Users\\drago\\anaconda3\\envs\\learn-env\\lib\\site-packages\\sklearn\\model_selection\\_validation.py\", line 531, in _fit_and_score\n",
      "    estimator.fit(X_train, y_train, **fit_params)\n",
      "  File \"C:\\Users\\drago\\anaconda3\\envs\\learn-env\\lib\\site-packages\\sklearn\\pipeline.py\", line 335, in fit\n",
      "    self._final_estimator.fit(Xt, y, **fit_params_last_step)\n",
      "  File \"C:\\Users\\drago\\anaconda3\\envs\\learn-env\\lib\\site-packages\\sklearn\\linear_model\\_logistic.py\", line 1304, in fit\n",
      "    solver = _check_solver(self.solver, self.penalty, self.dual)\n",
      "  File \"C:\\Users\\drago\\anaconda3\\envs\\learn-env\\lib\\site-packages\\sklearn\\linear_model\\_logistic.py\", line 438, in _check_solver\n",
      "    raise ValueError(\"Logistic Regression supports only penalties in %s,\"\n",
      "ValueError: Logistic Regression supports only penalties in ['l1', 'l2', 'elasticnet', 'none'], got None.\n",
      "\n",
      "  warnings.warn(\"Estimator fit failed. The score on this train-test\"\n",
      "C:\\Users\\drago\\anaconda3\\envs\\learn-env\\lib\\site-packages\\sklearn\\model_selection\\_validation.py:548: FitFailedWarning: Estimator fit failed. The score on this train-test partition for these parameters will be set to nan. Details: \n",
      "Traceback (most recent call last):\n",
      "  File \"C:\\Users\\drago\\anaconda3\\envs\\learn-env\\lib\\site-packages\\sklearn\\model_selection\\_validation.py\", line 531, in _fit_and_score\n",
      "    estimator.fit(X_train, y_train, **fit_params)\n",
      "  File \"C:\\Users\\drago\\anaconda3\\envs\\learn-env\\lib\\site-packages\\sklearn\\pipeline.py\", line 335, in fit\n",
      "    self._final_estimator.fit(Xt, y, **fit_params_last_step)\n",
      "  File \"C:\\Users\\drago\\anaconda3\\envs\\learn-env\\lib\\site-packages\\sklearn\\linear_model\\_logistic.py\", line 1304, in fit\n",
      "    solver = _check_solver(self.solver, self.penalty, self.dual)\n",
      "  File \"C:\\Users\\drago\\anaconda3\\envs\\learn-env\\lib\\site-packages\\sklearn\\linear_model\\_logistic.py\", line 438, in _check_solver\n",
      "    raise ValueError(\"Logistic Regression supports only penalties in %s,\"\n",
      "ValueError: Logistic Regression supports only penalties in ['l1', 'l2', 'elasticnet', 'none'], got None.\n",
      "\n",
      "  warnings.warn(\"Estimator fit failed. The score on this train-test\"\n"
     ]
    },
    {
     "name": "stdout",
     "output_type": "stream",
     "text": [
      "[CV]  lf__C=0.1, lf__penalty=None, lf__solver=saga, score=nan, total=   0.1s\n",
      "[CV] lf__C=0.1, lf__penalty=None, lf__solver=saga ....................\n",
      "[CV]  lf__C=0.1, lf__penalty=None, lf__solver=saga, score=nan, total=   0.1s\n",
      "[CV] lf__C=0.1, lf__penalty=None, lf__solver=saga ....................\n"
     ]
    },
    {
     "name": "stderr",
     "output_type": "stream",
     "text": [
      "C:\\Users\\drago\\anaconda3\\envs\\learn-env\\lib\\site-packages\\sklearn\\model_selection\\_validation.py:548: FitFailedWarning: Estimator fit failed. The score on this train-test partition for these parameters will be set to nan. Details: \n",
      "Traceback (most recent call last):\n",
      "  File \"C:\\Users\\drago\\anaconda3\\envs\\learn-env\\lib\\site-packages\\sklearn\\model_selection\\_validation.py\", line 531, in _fit_and_score\n",
      "    estimator.fit(X_train, y_train, **fit_params)\n",
      "  File \"C:\\Users\\drago\\anaconda3\\envs\\learn-env\\lib\\site-packages\\sklearn\\pipeline.py\", line 335, in fit\n",
      "    self._final_estimator.fit(Xt, y, **fit_params_last_step)\n",
      "  File \"C:\\Users\\drago\\anaconda3\\envs\\learn-env\\lib\\site-packages\\sklearn\\linear_model\\_logistic.py\", line 1304, in fit\n",
      "    solver = _check_solver(self.solver, self.penalty, self.dual)\n",
      "  File \"C:\\Users\\drago\\anaconda3\\envs\\learn-env\\lib\\site-packages\\sklearn\\linear_model\\_logistic.py\", line 438, in _check_solver\n",
      "    raise ValueError(\"Logistic Regression supports only penalties in %s,\"\n",
      "ValueError: Logistic Regression supports only penalties in ['l1', 'l2', 'elasticnet', 'none'], got None.\n",
      "\n",
      "  warnings.warn(\"Estimator fit failed. The score on this train-test\"\n",
      "C:\\Users\\drago\\anaconda3\\envs\\learn-env\\lib\\site-packages\\sklearn\\model_selection\\_validation.py:548: FitFailedWarning: Estimator fit failed. The score on this train-test partition for these parameters will be set to nan. Details: \n",
      "Traceback (most recent call last):\n",
      "  File \"C:\\Users\\drago\\anaconda3\\envs\\learn-env\\lib\\site-packages\\sklearn\\model_selection\\_validation.py\", line 531, in _fit_and_score\n",
      "    estimator.fit(X_train, y_train, **fit_params)\n",
      "  File \"C:\\Users\\drago\\anaconda3\\envs\\learn-env\\lib\\site-packages\\sklearn\\pipeline.py\", line 335, in fit\n",
      "    self._final_estimator.fit(Xt, y, **fit_params_last_step)\n",
      "  File \"C:\\Users\\drago\\anaconda3\\envs\\learn-env\\lib\\site-packages\\sklearn\\linear_model\\_logistic.py\", line 1304, in fit\n",
      "    solver = _check_solver(self.solver, self.penalty, self.dual)\n",
      "  File \"C:\\Users\\drago\\anaconda3\\envs\\learn-env\\lib\\site-packages\\sklearn\\linear_model\\_logistic.py\", line 438, in _check_solver\n",
      "    raise ValueError(\"Logistic Regression supports only penalties in %s,\"\n",
      "ValueError: Logistic Regression supports only penalties in ['l1', 'l2', 'elasticnet', 'none'], got None.\n",
      "\n",
      "  warnings.warn(\"Estimator fit failed. The score on this train-test\"\n"
     ]
    },
    {
     "name": "stdout",
     "output_type": "stream",
     "text": [
      "[CV]  lf__C=0.1, lf__penalty=None, lf__solver=saga, score=nan, total=   0.1s\n",
      "[CV] lf__C=0.01, lf__penalty=l1, lf__solver=newton-cg ................\n",
      "[CV]  lf__C=0.01, lf__penalty=l1, lf__solver=newton-cg, score=nan, total=   0.1s\n",
      "[CV] lf__C=0.01, lf__penalty=l1, lf__solver=newton-cg ................\n"
     ]
    },
    {
     "name": "stderr",
     "output_type": "stream",
     "text": [
      "C:\\Users\\drago\\anaconda3\\envs\\learn-env\\lib\\site-packages\\sklearn\\model_selection\\_validation.py:548: FitFailedWarning: Estimator fit failed. The score on this train-test partition for these parameters will be set to nan. Details: \n",
      "Traceback (most recent call last):\n",
      "  File \"C:\\Users\\drago\\anaconda3\\envs\\learn-env\\lib\\site-packages\\sklearn\\model_selection\\_validation.py\", line 531, in _fit_and_score\n",
      "    estimator.fit(X_train, y_train, **fit_params)\n",
      "  File \"C:\\Users\\drago\\anaconda3\\envs\\learn-env\\lib\\site-packages\\sklearn\\pipeline.py\", line 335, in fit\n",
      "    self._final_estimator.fit(Xt, y, **fit_params_last_step)\n",
      "  File \"C:\\Users\\drago\\anaconda3\\envs\\learn-env\\lib\\site-packages\\sklearn\\linear_model\\_logistic.py\", line 1304, in fit\n",
      "    solver = _check_solver(self.solver, self.penalty, self.dual)\n",
      "  File \"C:\\Users\\drago\\anaconda3\\envs\\learn-env\\lib\\site-packages\\sklearn\\linear_model\\_logistic.py\", line 442, in _check_solver\n",
      "    raise ValueError(\"Solver %s supports only 'l2' or 'none' penalties, \"\n",
      "ValueError: Solver newton-cg supports only 'l2' or 'none' penalties, got l1 penalty.\n",
      "\n",
      "  warnings.warn(\"Estimator fit failed. The score on this train-test\"\n",
      "C:\\Users\\drago\\anaconda3\\envs\\learn-env\\lib\\site-packages\\sklearn\\model_selection\\_validation.py:548: FitFailedWarning: Estimator fit failed. The score on this train-test partition for these parameters will be set to nan. Details: \n",
      "Traceback (most recent call last):\n",
      "  File \"C:\\Users\\drago\\anaconda3\\envs\\learn-env\\lib\\site-packages\\sklearn\\model_selection\\_validation.py\", line 531, in _fit_and_score\n",
      "    estimator.fit(X_train, y_train, **fit_params)\n",
      "  File \"C:\\Users\\drago\\anaconda3\\envs\\learn-env\\lib\\site-packages\\sklearn\\pipeline.py\", line 335, in fit\n",
      "    self._final_estimator.fit(Xt, y, **fit_params_last_step)\n",
      "  File \"C:\\Users\\drago\\anaconda3\\envs\\learn-env\\lib\\site-packages\\sklearn\\linear_model\\_logistic.py\", line 1304, in fit\n",
      "    solver = _check_solver(self.solver, self.penalty, self.dual)\n",
      "  File \"C:\\Users\\drago\\anaconda3\\envs\\learn-env\\lib\\site-packages\\sklearn\\linear_model\\_logistic.py\", line 442, in _check_solver\n",
      "    raise ValueError(\"Solver %s supports only 'l2' or 'none' penalties, \"\n",
      "ValueError: Solver newton-cg supports only 'l2' or 'none' penalties, got l1 penalty.\n",
      "\n",
      "  warnings.warn(\"Estimator fit failed. The score on this train-test\"\n"
     ]
    },
    {
     "name": "stdout",
     "output_type": "stream",
     "text": [
      "[CV]  lf__C=0.01, lf__penalty=l1, lf__solver=newton-cg, score=nan, total=   0.1s\n",
      "[CV] lf__C=0.01, lf__penalty=l1, lf__solver=newton-cg ................\n",
      "[CV]  lf__C=0.01, lf__penalty=l1, lf__solver=newton-cg, score=nan, total=   0.1s\n",
      "[CV] lf__C=0.01, lf__penalty=l1, lf__solver=newton-cg ................\n"
     ]
    },
    {
     "name": "stderr",
     "output_type": "stream",
     "text": [
      "C:\\Users\\drago\\anaconda3\\envs\\learn-env\\lib\\site-packages\\sklearn\\model_selection\\_validation.py:548: FitFailedWarning: Estimator fit failed. The score on this train-test partition for these parameters will be set to nan. Details: \n",
      "Traceback (most recent call last):\n",
      "  File \"C:\\Users\\drago\\anaconda3\\envs\\learn-env\\lib\\site-packages\\sklearn\\model_selection\\_validation.py\", line 531, in _fit_and_score\n",
      "    estimator.fit(X_train, y_train, **fit_params)\n",
      "  File \"C:\\Users\\drago\\anaconda3\\envs\\learn-env\\lib\\site-packages\\sklearn\\pipeline.py\", line 335, in fit\n",
      "    self._final_estimator.fit(Xt, y, **fit_params_last_step)\n",
      "  File \"C:\\Users\\drago\\anaconda3\\envs\\learn-env\\lib\\site-packages\\sklearn\\linear_model\\_logistic.py\", line 1304, in fit\n",
      "    solver = _check_solver(self.solver, self.penalty, self.dual)\n",
      "  File \"C:\\Users\\drago\\anaconda3\\envs\\learn-env\\lib\\site-packages\\sklearn\\linear_model\\_logistic.py\", line 442, in _check_solver\n",
      "    raise ValueError(\"Solver %s supports only 'l2' or 'none' penalties, \"\n",
      "ValueError: Solver newton-cg supports only 'l2' or 'none' penalties, got l1 penalty.\n",
      "\n",
      "  warnings.warn(\"Estimator fit failed. The score on this train-test\"\n",
      "C:\\Users\\drago\\anaconda3\\envs\\learn-env\\lib\\site-packages\\sklearn\\model_selection\\_validation.py:548: FitFailedWarning: Estimator fit failed. The score on this train-test partition for these parameters will be set to nan. Details: \n",
      "Traceback (most recent call last):\n",
      "  File \"C:\\Users\\drago\\anaconda3\\envs\\learn-env\\lib\\site-packages\\sklearn\\model_selection\\_validation.py\", line 531, in _fit_and_score\n",
      "    estimator.fit(X_train, y_train, **fit_params)\n",
      "  File \"C:\\Users\\drago\\anaconda3\\envs\\learn-env\\lib\\site-packages\\sklearn\\pipeline.py\", line 335, in fit\n",
      "    self._final_estimator.fit(Xt, y, **fit_params_last_step)\n",
      "  File \"C:\\Users\\drago\\anaconda3\\envs\\learn-env\\lib\\site-packages\\sklearn\\linear_model\\_logistic.py\", line 1304, in fit\n",
      "    solver = _check_solver(self.solver, self.penalty, self.dual)\n",
      "  File \"C:\\Users\\drago\\anaconda3\\envs\\learn-env\\lib\\site-packages\\sklearn\\linear_model\\_logistic.py\", line 442, in _check_solver\n",
      "    raise ValueError(\"Solver %s supports only 'l2' or 'none' penalties, \"\n",
      "ValueError: Solver newton-cg supports only 'l2' or 'none' penalties, got l1 penalty.\n",
      "\n",
      "  warnings.warn(\"Estimator fit failed. The score on this train-test\"\n"
     ]
    },
    {
     "name": "stdout",
     "output_type": "stream",
     "text": [
      "[CV]  lf__C=0.01, lf__penalty=l1, lf__solver=newton-cg, score=nan, total=   0.1s\n",
      "[CV] lf__C=0.01, lf__penalty=l1, lf__solver=newton-cg ................\n",
      "[CV]  lf__C=0.01, lf__penalty=l1, lf__solver=newton-cg, score=nan, total=   0.1s\n",
      "[CV] lf__C=0.01, lf__penalty=l1, lf__solver=lbfgs ....................\n"
     ]
    },
    {
     "name": "stderr",
     "output_type": "stream",
     "text": [
      "C:\\Users\\drago\\anaconda3\\envs\\learn-env\\lib\\site-packages\\sklearn\\model_selection\\_validation.py:548: FitFailedWarning: Estimator fit failed. The score on this train-test partition for these parameters will be set to nan. Details: \n",
      "Traceback (most recent call last):\n",
      "  File \"C:\\Users\\drago\\anaconda3\\envs\\learn-env\\lib\\site-packages\\sklearn\\model_selection\\_validation.py\", line 531, in _fit_and_score\n",
      "    estimator.fit(X_train, y_train, **fit_params)\n",
      "  File \"C:\\Users\\drago\\anaconda3\\envs\\learn-env\\lib\\site-packages\\sklearn\\pipeline.py\", line 335, in fit\n",
      "    self._final_estimator.fit(Xt, y, **fit_params_last_step)\n",
      "  File \"C:\\Users\\drago\\anaconda3\\envs\\learn-env\\lib\\site-packages\\sklearn\\linear_model\\_logistic.py\", line 1304, in fit\n",
      "    solver = _check_solver(self.solver, self.penalty, self.dual)\n",
      "  File \"C:\\Users\\drago\\anaconda3\\envs\\learn-env\\lib\\site-packages\\sklearn\\linear_model\\_logistic.py\", line 442, in _check_solver\n",
      "    raise ValueError(\"Solver %s supports only 'l2' or 'none' penalties, \"\n",
      "ValueError: Solver newton-cg supports only 'l2' or 'none' penalties, got l1 penalty.\n",
      "\n",
      "  warnings.warn(\"Estimator fit failed. The score on this train-test\"\n",
      "C:\\Users\\drago\\anaconda3\\envs\\learn-env\\lib\\site-packages\\sklearn\\model_selection\\_validation.py:548: FitFailedWarning: Estimator fit failed. The score on this train-test partition for these parameters will be set to nan. Details: \n",
      "Traceback (most recent call last):\n",
      "  File \"C:\\Users\\drago\\anaconda3\\envs\\learn-env\\lib\\site-packages\\sklearn\\model_selection\\_validation.py\", line 531, in _fit_and_score\n",
      "    estimator.fit(X_train, y_train, **fit_params)\n",
      "  File \"C:\\Users\\drago\\anaconda3\\envs\\learn-env\\lib\\site-packages\\sklearn\\pipeline.py\", line 335, in fit\n",
      "    self._final_estimator.fit(Xt, y, **fit_params_last_step)\n",
      "  File \"C:\\Users\\drago\\anaconda3\\envs\\learn-env\\lib\\site-packages\\sklearn\\linear_model\\_logistic.py\", line 1304, in fit\n",
      "    solver = _check_solver(self.solver, self.penalty, self.dual)\n",
      "  File \"C:\\Users\\drago\\anaconda3\\envs\\learn-env\\lib\\site-packages\\sklearn\\linear_model\\_logistic.py\", line 442, in _check_solver\n",
      "    raise ValueError(\"Solver %s supports only 'l2' or 'none' penalties, \"\n",
      "ValueError: Solver lbfgs supports only 'l2' or 'none' penalties, got l1 penalty.\n",
      "\n",
      "  warnings.warn(\"Estimator fit failed. The score on this train-test\"\n"
     ]
    },
    {
     "name": "stdout",
     "output_type": "stream",
     "text": [
      "[CV]  lf__C=0.01, lf__penalty=l1, lf__solver=lbfgs, score=nan, total=   0.1s\n",
      "[CV] lf__C=0.01, lf__penalty=l1, lf__solver=lbfgs ....................\n",
      "[CV]  lf__C=0.01, lf__penalty=l1, lf__solver=lbfgs, score=nan, total=   0.1s\n",
      "[CV] lf__C=0.01, lf__penalty=l1, lf__solver=lbfgs ....................\n"
     ]
    },
    {
     "name": "stderr",
     "output_type": "stream",
     "text": [
      "C:\\Users\\drago\\anaconda3\\envs\\learn-env\\lib\\site-packages\\sklearn\\model_selection\\_validation.py:548: FitFailedWarning: Estimator fit failed. The score on this train-test partition for these parameters will be set to nan. Details: \n",
      "Traceback (most recent call last):\n",
      "  File \"C:\\Users\\drago\\anaconda3\\envs\\learn-env\\lib\\site-packages\\sklearn\\model_selection\\_validation.py\", line 531, in _fit_and_score\n",
      "    estimator.fit(X_train, y_train, **fit_params)\n",
      "  File \"C:\\Users\\drago\\anaconda3\\envs\\learn-env\\lib\\site-packages\\sklearn\\pipeline.py\", line 335, in fit\n",
      "    self._final_estimator.fit(Xt, y, **fit_params_last_step)\n",
      "  File \"C:\\Users\\drago\\anaconda3\\envs\\learn-env\\lib\\site-packages\\sklearn\\linear_model\\_logistic.py\", line 1304, in fit\n",
      "    solver = _check_solver(self.solver, self.penalty, self.dual)\n",
      "  File \"C:\\Users\\drago\\anaconda3\\envs\\learn-env\\lib\\site-packages\\sklearn\\linear_model\\_logistic.py\", line 442, in _check_solver\n",
      "    raise ValueError(\"Solver %s supports only 'l2' or 'none' penalties, \"\n",
      "ValueError: Solver lbfgs supports only 'l2' or 'none' penalties, got l1 penalty.\n",
      "\n",
      "  warnings.warn(\"Estimator fit failed. The score on this train-test\"\n",
      "C:\\Users\\drago\\anaconda3\\envs\\learn-env\\lib\\site-packages\\sklearn\\model_selection\\_validation.py:548: FitFailedWarning: Estimator fit failed. The score on this train-test partition for these parameters will be set to nan. Details: \n",
      "Traceback (most recent call last):\n",
      "  File \"C:\\Users\\drago\\anaconda3\\envs\\learn-env\\lib\\site-packages\\sklearn\\model_selection\\_validation.py\", line 531, in _fit_and_score\n",
      "    estimator.fit(X_train, y_train, **fit_params)\n",
      "  File \"C:\\Users\\drago\\anaconda3\\envs\\learn-env\\lib\\site-packages\\sklearn\\pipeline.py\", line 335, in fit\n",
      "    self._final_estimator.fit(Xt, y, **fit_params_last_step)\n",
      "  File \"C:\\Users\\drago\\anaconda3\\envs\\learn-env\\lib\\site-packages\\sklearn\\linear_model\\_logistic.py\", line 1304, in fit\n",
      "    solver = _check_solver(self.solver, self.penalty, self.dual)\n",
      "  File \"C:\\Users\\drago\\anaconda3\\envs\\learn-env\\lib\\site-packages\\sklearn\\linear_model\\_logistic.py\", line 442, in _check_solver\n",
      "    raise ValueError(\"Solver %s supports only 'l2' or 'none' penalties, \"\n",
      "ValueError: Solver lbfgs supports only 'l2' or 'none' penalties, got l1 penalty.\n",
      "\n",
      "  warnings.warn(\"Estimator fit failed. The score on this train-test\"\n"
     ]
    },
    {
     "name": "stdout",
     "output_type": "stream",
     "text": [
      "[CV]  lf__C=0.01, lf__penalty=l1, lf__solver=lbfgs, score=nan, total=   0.1s\n",
      "[CV] lf__C=0.01, lf__penalty=l1, lf__solver=lbfgs ....................\n",
      "[CV]  lf__C=0.01, lf__penalty=l1, lf__solver=lbfgs, score=nan, total=   0.1s\n",
      "[CV] lf__C=0.01, lf__penalty=l1, lf__solver=lbfgs ....................\n"
     ]
    },
    {
     "name": "stderr",
     "output_type": "stream",
     "text": [
      "C:\\Users\\drago\\anaconda3\\envs\\learn-env\\lib\\site-packages\\sklearn\\model_selection\\_validation.py:548: FitFailedWarning: Estimator fit failed. The score on this train-test partition for these parameters will be set to nan. Details: \n",
      "Traceback (most recent call last):\n",
      "  File \"C:\\Users\\drago\\anaconda3\\envs\\learn-env\\lib\\site-packages\\sklearn\\model_selection\\_validation.py\", line 531, in _fit_and_score\n",
      "    estimator.fit(X_train, y_train, **fit_params)\n",
      "  File \"C:\\Users\\drago\\anaconda3\\envs\\learn-env\\lib\\site-packages\\sklearn\\pipeline.py\", line 335, in fit\n",
      "    self._final_estimator.fit(Xt, y, **fit_params_last_step)\n",
      "  File \"C:\\Users\\drago\\anaconda3\\envs\\learn-env\\lib\\site-packages\\sklearn\\linear_model\\_logistic.py\", line 1304, in fit\n",
      "    solver = _check_solver(self.solver, self.penalty, self.dual)\n",
      "  File \"C:\\Users\\drago\\anaconda3\\envs\\learn-env\\lib\\site-packages\\sklearn\\linear_model\\_logistic.py\", line 442, in _check_solver\n",
      "    raise ValueError(\"Solver %s supports only 'l2' or 'none' penalties, \"\n",
      "ValueError: Solver lbfgs supports only 'l2' or 'none' penalties, got l1 penalty.\n",
      "\n",
      "  warnings.warn(\"Estimator fit failed. The score on this train-test\"\n",
      "C:\\Users\\drago\\anaconda3\\envs\\learn-env\\lib\\site-packages\\sklearn\\model_selection\\_validation.py:548: FitFailedWarning: Estimator fit failed. The score on this train-test partition for these parameters will be set to nan. Details: \n",
      "Traceback (most recent call last):\n",
      "  File \"C:\\Users\\drago\\anaconda3\\envs\\learn-env\\lib\\site-packages\\sklearn\\model_selection\\_validation.py\", line 531, in _fit_and_score\n",
      "    estimator.fit(X_train, y_train, **fit_params)\n",
      "  File \"C:\\Users\\drago\\anaconda3\\envs\\learn-env\\lib\\site-packages\\sklearn\\pipeline.py\", line 335, in fit\n",
      "    self._final_estimator.fit(Xt, y, **fit_params_last_step)\n",
      "  File \"C:\\Users\\drago\\anaconda3\\envs\\learn-env\\lib\\site-packages\\sklearn\\linear_model\\_logistic.py\", line 1304, in fit\n",
      "    solver = _check_solver(self.solver, self.penalty, self.dual)\n",
      "  File \"C:\\Users\\drago\\anaconda3\\envs\\learn-env\\lib\\site-packages\\sklearn\\linear_model\\_logistic.py\", line 442, in _check_solver\n",
      "    raise ValueError(\"Solver %s supports only 'l2' or 'none' penalties, \"\n",
      "ValueError: Solver lbfgs supports only 'l2' or 'none' penalties, got l1 penalty.\n",
      "\n",
      "  warnings.warn(\"Estimator fit failed. The score on this train-test\"\n"
     ]
    },
    {
     "name": "stdout",
     "output_type": "stream",
     "text": [
      "[CV]  lf__C=0.01, lf__penalty=l1, lf__solver=lbfgs, score=nan, total=   0.1s\n",
      "[CV] lf__C=0.01, lf__penalty=l1, lf__solver=liblinear ................\n",
      "[CV]  lf__C=0.01, lf__penalty=l1, lf__solver=liblinear, score=0.555, total=   0.7s\n",
      "[CV] lf__C=0.01, lf__penalty=l1, lf__solver=liblinear ................\n",
      "[CV]  lf__C=0.01, lf__penalty=l1, lf__solver=liblinear, score=0.543, total=   0.7s\n",
      "[CV] lf__C=0.01, lf__penalty=l1, lf__solver=liblinear ................\n",
      "[CV]  lf__C=0.01, lf__penalty=l1, lf__solver=liblinear, score=0.550, total=   0.8s\n",
      "[CV] lf__C=0.01, lf__penalty=l1, lf__solver=liblinear ................\n",
      "[CV]  lf__C=0.01, lf__penalty=l1, lf__solver=liblinear, score=0.542, total=   0.7s\n",
      "[CV] lf__C=0.01, lf__penalty=l1, lf__solver=liblinear ................\n",
      "[CV]  lf__C=0.01, lf__penalty=l1, lf__solver=liblinear, score=0.556, total=   0.7s\n",
      "[CV] lf__C=0.01, lf__penalty=l1, lf__solver=sag ......................\n",
      "[CV]  lf__C=0.01, lf__penalty=l1, lf__solver=sag, score=nan, total=   0.1s\n",
      "[CV] lf__C=0.01, lf__penalty=l1, lf__solver=sag ......................\n"
     ]
    },
    {
     "name": "stderr",
     "output_type": "stream",
     "text": [
      "C:\\Users\\drago\\anaconda3\\envs\\learn-env\\lib\\site-packages\\sklearn\\model_selection\\_validation.py:548: FitFailedWarning: Estimator fit failed. The score on this train-test partition for these parameters will be set to nan. Details: \n",
      "Traceback (most recent call last):\n",
      "  File \"C:\\Users\\drago\\anaconda3\\envs\\learn-env\\lib\\site-packages\\sklearn\\model_selection\\_validation.py\", line 531, in _fit_and_score\n",
      "    estimator.fit(X_train, y_train, **fit_params)\n",
      "  File \"C:\\Users\\drago\\anaconda3\\envs\\learn-env\\lib\\site-packages\\sklearn\\pipeline.py\", line 335, in fit\n",
      "    self._final_estimator.fit(Xt, y, **fit_params_last_step)\n",
      "  File \"C:\\Users\\drago\\anaconda3\\envs\\learn-env\\lib\\site-packages\\sklearn\\linear_model\\_logistic.py\", line 1304, in fit\n",
      "    solver = _check_solver(self.solver, self.penalty, self.dual)\n",
      "  File \"C:\\Users\\drago\\anaconda3\\envs\\learn-env\\lib\\site-packages\\sklearn\\linear_model\\_logistic.py\", line 442, in _check_solver\n",
      "    raise ValueError(\"Solver %s supports only 'l2' or 'none' penalties, \"\n",
      "ValueError: Solver sag supports only 'l2' or 'none' penalties, got l1 penalty.\n",
      "\n",
      "  warnings.warn(\"Estimator fit failed. The score on this train-test\"\n",
      "C:\\Users\\drago\\anaconda3\\envs\\learn-env\\lib\\site-packages\\sklearn\\model_selection\\_validation.py:548: FitFailedWarning: Estimator fit failed. The score on this train-test partition for these parameters will be set to nan. Details: \n",
      "Traceback (most recent call last):\n",
      "  File \"C:\\Users\\drago\\anaconda3\\envs\\learn-env\\lib\\site-packages\\sklearn\\model_selection\\_validation.py\", line 531, in _fit_and_score\n",
      "    estimator.fit(X_train, y_train, **fit_params)\n",
      "  File \"C:\\Users\\drago\\anaconda3\\envs\\learn-env\\lib\\site-packages\\sklearn\\pipeline.py\", line 335, in fit\n",
      "    self._final_estimator.fit(Xt, y, **fit_params_last_step)\n",
      "  File \"C:\\Users\\drago\\anaconda3\\envs\\learn-env\\lib\\site-packages\\sklearn\\linear_model\\_logistic.py\", line 1304, in fit\n",
      "    solver = _check_solver(self.solver, self.penalty, self.dual)\n",
      "  File \"C:\\Users\\drago\\anaconda3\\envs\\learn-env\\lib\\site-packages\\sklearn\\linear_model\\_logistic.py\", line 442, in _check_solver\n",
      "    raise ValueError(\"Solver %s supports only 'l2' or 'none' penalties, \"\n",
      "ValueError: Solver sag supports only 'l2' or 'none' penalties, got l1 penalty.\n",
      "\n",
      "  warnings.warn(\"Estimator fit failed. The score on this train-test\"\n"
     ]
    },
    {
     "name": "stdout",
     "output_type": "stream",
     "text": [
      "[CV]  lf__C=0.01, lf__penalty=l1, lf__solver=sag, score=nan, total=   0.1s\n",
      "[CV] lf__C=0.01, lf__penalty=l1, lf__solver=sag ......................\n",
      "[CV]  lf__C=0.01, lf__penalty=l1, lf__solver=sag, score=nan, total=   0.1s\n",
      "[CV] lf__C=0.01, lf__penalty=l1, lf__solver=sag ......................\n"
     ]
    },
    {
     "name": "stderr",
     "output_type": "stream",
     "text": [
      "C:\\Users\\drago\\anaconda3\\envs\\learn-env\\lib\\site-packages\\sklearn\\model_selection\\_validation.py:548: FitFailedWarning: Estimator fit failed. The score on this train-test partition for these parameters will be set to nan. Details: \n",
      "Traceback (most recent call last):\n",
      "  File \"C:\\Users\\drago\\anaconda3\\envs\\learn-env\\lib\\site-packages\\sklearn\\model_selection\\_validation.py\", line 531, in _fit_and_score\n",
      "    estimator.fit(X_train, y_train, **fit_params)\n",
      "  File \"C:\\Users\\drago\\anaconda3\\envs\\learn-env\\lib\\site-packages\\sklearn\\pipeline.py\", line 335, in fit\n",
      "    self._final_estimator.fit(Xt, y, **fit_params_last_step)\n",
      "  File \"C:\\Users\\drago\\anaconda3\\envs\\learn-env\\lib\\site-packages\\sklearn\\linear_model\\_logistic.py\", line 1304, in fit\n",
      "    solver = _check_solver(self.solver, self.penalty, self.dual)\n",
      "  File \"C:\\Users\\drago\\anaconda3\\envs\\learn-env\\lib\\site-packages\\sklearn\\linear_model\\_logistic.py\", line 442, in _check_solver\n",
      "    raise ValueError(\"Solver %s supports only 'l2' or 'none' penalties, \"\n",
      "ValueError: Solver sag supports only 'l2' or 'none' penalties, got l1 penalty.\n",
      "\n",
      "  warnings.warn(\"Estimator fit failed. The score on this train-test\"\n",
      "C:\\Users\\drago\\anaconda3\\envs\\learn-env\\lib\\site-packages\\sklearn\\model_selection\\_validation.py:548: FitFailedWarning: Estimator fit failed. The score on this train-test partition for these parameters will be set to nan. Details: \n",
      "Traceback (most recent call last):\n",
      "  File \"C:\\Users\\drago\\anaconda3\\envs\\learn-env\\lib\\site-packages\\sklearn\\model_selection\\_validation.py\", line 531, in _fit_and_score\n",
      "    estimator.fit(X_train, y_train, **fit_params)\n",
      "  File \"C:\\Users\\drago\\anaconda3\\envs\\learn-env\\lib\\site-packages\\sklearn\\pipeline.py\", line 335, in fit\n",
      "    self._final_estimator.fit(Xt, y, **fit_params_last_step)\n",
      "  File \"C:\\Users\\drago\\anaconda3\\envs\\learn-env\\lib\\site-packages\\sklearn\\linear_model\\_logistic.py\", line 1304, in fit\n",
      "    solver = _check_solver(self.solver, self.penalty, self.dual)\n",
      "  File \"C:\\Users\\drago\\anaconda3\\envs\\learn-env\\lib\\site-packages\\sklearn\\linear_model\\_logistic.py\", line 442, in _check_solver\n",
      "    raise ValueError(\"Solver %s supports only 'l2' or 'none' penalties, \"\n",
      "ValueError: Solver sag supports only 'l2' or 'none' penalties, got l1 penalty.\n",
      "\n",
      "  warnings.warn(\"Estimator fit failed. The score on this train-test\"\n"
     ]
    },
    {
     "name": "stdout",
     "output_type": "stream",
     "text": [
      "[CV]  lf__C=0.01, lf__penalty=l1, lf__solver=sag, score=nan, total=   0.1s\n",
      "[CV] lf__C=0.01, lf__penalty=l1, lf__solver=sag ......................\n",
      "[CV]  lf__C=0.01, lf__penalty=l1, lf__solver=sag, score=nan, total=   0.1s\n",
      "[CV] lf__C=0.01, lf__penalty=l1, lf__solver=saga .....................\n"
     ]
    },
    {
     "name": "stderr",
     "output_type": "stream",
     "text": [
      "C:\\Users\\drago\\anaconda3\\envs\\learn-env\\lib\\site-packages\\sklearn\\model_selection\\_validation.py:548: FitFailedWarning: Estimator fit failed. The score on this train-test partition for these parameters will be set to nan. Details: \n",
      "Traceback (most recent call last):\n",
      "  File \"C:\\Users\\drago\\anaconda3\\envs\\learn-env\\lib\\site-packages\\sklearn\\model_selection\\_validation.py\", line 531, in _fit_and_score\n",
      "    estimator.fit(X_train, y_train, **fit_params)\n",
      "  File \"C:\\Users\\drago\\anaconda3\\envs\\learn-env\\lib\\site-packages\\sklearn\\pipeline.py\", line 335, in fit\n",
      "    self._final_estimator.fit(Xt, y, **fit_params_last_step)\n",
      "  File \"C:\\Users\\drago\\anaconda3\\envs\\learn-env\\lib\\site-packages\\sklearn\\linear_model\\_logistic.py\", line 1304, in fit\n",
      "    solver = _check_solver(self.solver, self.penalty, self.dual)\n",
      "  File \"C:\\Users\\drago\\anaconda3\\envs\\learn-env\\lib\\site-packages\\sklearn\\linear_model\\_logistic.py\", line 442, in _check_solver\n",
      "    raise ValueError(\"Solver %s supports only 'l2' or 'none' penalties, \"\n",
      "ValueError: Solver sag supports only 'l2' or 'none' penalties, got l1 penalty.\n",
      "\n",
      "  warnings.warn(\"Estimator fit failed. The score on this train-test\"\n",
      "C:\\Users\\drago\\anaconda3\\envs\\learn-env\\lib\\site-packages\\sklearn\\linear_model\\_sag.py:329: ConvergenceWarning: The max_iter was reached which means the coef_ did not converge\n",
      "  warnings.warn(\"The max_iter was reached which means \"\n"
     ]
    },
    {
     "name": "stdout",
     "output_type": "stream",
     "text": [
      "[CV]  lf__C=0.01, lf__penalty=l1, lf__solver=saga, score=0.478, total=   7.9s\n",
      "[CV] lf__C=0.01, lf__penalty=l1, lf__solver=saga .....................\n"
     ]
    },
    {
     "name": "stderr",
     "output_type": "stream",
     "text": [
      "C:\\Users\\drago\\anaconda3\\envs\\learn-env\\lib\\site-packages\\sklearn\\linear_model\\_sag.py:329: ConvergenceWarning: The max_iter was reached which means the coef_ did not converge\n",
      "  warnings.warn(\"The max_iter was reached which means \"\n"
     ]
    },
    {
     "name": "stdout",
     "output_type": "stream",
     "text": [
      "[CV]  lf__C=0.01, lf__penalty=l1, lf__solver=saga, score=0.545, total=   8.5s\n",
      "[CV] lf__C=0.01, lf__penalty=l1, lf__solver=saga .....................\n"
     ]
    },
    {
     "name": "stderr",
     "output_type": "stream",
     "text": [
      "C:\\Users\\drago\\anaconda3\\envs\\learn-env\\lib\\site-packages\\sklearn\\linear_model\\_sag.py:329: ConvergenceWarning: The max_iter was reached which means the coef_ did not converge\n",
      "  warnings.warn(\"The max_iter was reached which means \"\n"
     ]
    },
    {
     "name": "stdout",
     "output_type": "stream",
     "text": [
      "[CV]  lf__C=0.01, lf__penalty=l1, lf__solver=saga, score=0.608, total=   8.6s\n",
      "[CV] lf__C=0.01, lf__penalty=l1, lf__solver=saga .....................\n"
     ]
    },
    {
     "name": "stderr",
     "output_type": "stream",
     "text": [
      "C:\\Users\\drago\\anaconda3\\envs\\learn-env\\lib\\site-packages\\sklearn\\linear_model\\_sag.py:329: ConvergenceWarning: The max_iter was reached which means the coef_ did not converge\n",
      "  warnings.warn(\"The max_iter was reached which means \"\n"
     ]
    },
    {
     "name": "stdout",
     "output_type": "stream",
     "text": [
      "[CV]  lf__C=0.01, lf__penalty=l1, lf__solver=saga, score=0.568, total=   8.6s\n",
      "[CV] lf__C=0.01, lf__penalty=l1, lf__solver=saga .....................\n"
     ]
    },
    {
     "name": "stderr",
     "output_type": "stream",
     "text": [
      "C:\\Users\\drago\\anaconda3\\envs\\learn-env\\lib\\site-packages\\sklearn\\linear_model\\_sag.py:329: ConvergenceWarning: The max_iter was reached which means the coef_ did not converge\n",
      "  warnings.warn(\"The max_iter was reached which means \"\n"
     ]
    },
    {
     "name": "stdout",
     "output_type": "stream",
     "text": [
      "[CV]  lf__C=0.01, lf__penalty=l1, lf__solver=saga, score=0.522, total=   8.4s\n",
      "[CV] lf__C=0.01, lf__penalty=l2, lf__solver=newton-cg ................\n",
      "[CV]  lf__C=0.01, lf__penalty=l2, lf__solver=newton-cg, score=0.602, total=   1.8s\n",
      "[CV] lf__C=0.01, lf__penalty=l2, lf__solver=newton-cg ................\n",
      "[CV]  lf__C=0.01, lf__penalty=l2, lf__solver=newton-cg, score=0.614, total=   1.7s\n",
      "[CV] lf__C=0.01, lf__penalty=l2, lf__solver=newton-cg ................\n",
      "[CV]  lf__C=0.01, lf__penalty=l2, lf__solver=newton-cg, score=0.611, total=   1.6s\n",
      "[CV] lf__C=0.01, lf__penalty=l2, lf__solver=newton-cg ................\n",
      "[CV]  lf__C=0.01, lf__penalty=l2, lf__solver=newton-cg, score=0.606, total=   1.9s\n",
      "[CV] lf__C=0.01, lf__penalty=l2, lf__solver=newton-cg ................\n",
      "[CV]  lf__C=0.01, lf__penalty=l2, lf__solver=newton-cg, score=0.601, total=   1.9s\n",
      "[CV] lf__C=0.01, lf__penalty=l2, lf__solver=lbfgs ....................\n",
      "[CV]  lf__C=0.01, lf__penalty=l2, lf__solver=lbfgs, score=0.602, total=   1.4s\n",
      "[CV] lf__C=0.01, lf__penalty=l2, lf__solver=lbfgs ....................\n",
      "[CV]  lf__C=0.01, lf__penalty=l2, lf__solver=lbfgs, score=0.614, total=   1.4s\n",
      "[CV] lf__C=0.01, lf__penalty=l2, lf__solver=lbfgs ....................\n",
      "[CV]  lf__C=0.01, lf__penalty=l2, lf__solver=lbfgs, score=0.611, total=   1.2s\n",
      "[CV] lf__C=0.01, lf__penalty=l2, lf__solver=lbfgs ....................\n",
      "[CV]  lf__C=0.01, lf__penalty=l2, lf__solver=lbfgs, score=0.607, total=   1.4s\n",
      "[CV] lf__C=0.01, lf__penalty=l2, lf__solver=lbfgs ....................\n",
      "[CV]  lf__C=0.01, lf__penalty=l2, lf__solver=lbfgs, score=0.601, total=   1.4s\n",
      "[CV] lf__C=0.01, lf__penalty=l2, lf__solver=liblinear ................\n",
      "[CV]  lf__C=0.01, lf__penalty=l2, lf__solver=liblinear, score=0.568, total=   0.6s\n",
      "[CV] lf__C=0.01, lf__penalty=l2, lf__solver=liblinear ................\n",
      "[CV]  lf__C=0.01, lf__penalty=l2, lf__solver=liblinear, score=0.559, total=   0.5s\n",
      "[CV] lf__C=0.01, lf__penalty=l2, lf__solver=liblinear ................\n",
      "[CV]  lf__C=0.01, lf__penalty=l2, lf__solver=liblinear, score=0.574, total=   0.5s\n",
      "[CV] lf__C=0.01, lf__penalty=l2, lf__solver=liblinear ................\n",
      "[CV]  lf__C=0.01, lf__penalty=l2, lf__solver=liblinear, score=0.564, total=   0.5s\n",
      "[CV] lf__C=0.01, lf__penalty=l2, lf__solver=liblinear ................\n",
      "[CV]  lf__C=0.01, lf__penalty=l2, lf__solver=liblinear, score=0.568, total=   0.5s\n",
      "[CV] lf__C=0.01, lf__penalty=l2, lf__solver=sag ......................\n",
      "[CV]  lf__C=0.01, lf__penalty=l2, lf__solver=sag, score=0.602, total=   1.2s\n",
      "[CV] lf__C=0.01, lf__penalty=l2, lf__solver=sag ......................\n",
      "[CV]  lf__C=0.01, lf__penalty=l2, lf__solver=sag, score=0.614, total=   1.1s\n",
      "[CV] lf__C=0.01, lf__penalty=l2, lf__solver=sag ......................\n",
      "[CV]  lf__C=0.01, lf__penalty=l2, lf__solver=sag, score=0.611, total=   1.1s\n",
      "[CV] lf__C=0.01, lf__penalty=l2, lf__solver=sag ......................\n",
      "[CV]  lf__C=0.01, lf__penalty=l2, lf__solver=sag, score=0.606, total=   1.1s\n",
      "[CV] lf__C=0.01, lf__penalty=l2, lf__solver=sag ......................\n",
      "[CV]  lf__C=0.01, lf__penalty=l2, lf__solver=sag, score=0.601, total=   1.1s\n",
      "[CV] lf__C=0.01, lf__penalty=l2, lf__solver=saga .....................\n",
      "[CV]  lf__C=0.01, lf__penalty=l2, lf__solver=saga, score=0.602, total=   4.7s\n",
      "[CV] lf__C=0.01, lf__penalty=l2, lf__solver=saga .....................\n",
      "[CV]  lf__C=0.01, lf__penalty=l2, lf__solver=saga, score=0.614, total=   4.1s\n",
      "[CV] lf__C=0.01, lf__penalty=l2, lf__solver=saga .....................\n",
      "[CV]  lf__C=0.01, lf__penalty=l2, lf__solver=saga, score=0.611, total=   4.5s\n",
      "[CV] lf__C=0.01, lf__penalty=l2, lf__solver=saga .....................\n",
      "[CV]  lf__C=0.01, lf__penalty=l2, lf__solver=saga, score=0.606, total=   3.7s\n",
      "[CV] lf__C=0.01, lf__penalty=l2, lf__solver=saga .....................\n",
      "[CV]  lf__C=0.01, lf__penalty=l2, lf__solver=saga, score=0.601, total=   3.9s\n",
      "[CV] lf__C=0.01, lf__penalty=elasticnet, lf__solver=newton-cg ........\n",
      "[CV]  lf__C=0.01, lf__penalty=elasticnet, lf__solver=newton-cg, score=nan, total=   0.1s\n",
      "[CV] lf__C=0.01, lf__penalty=elasticnet, lf__solver=newton-cg ........\n"
     ]
    },
    {
     "name": "stderr",
     "output_type": "stream",
     "text": [
      "C:\\Users\\drago\\anaconda3\\envs\\learn-env\\lib\\site-packages\\sklearn\\model_selection\\_validation.py:548: FitFailedWarning: Estimator fit failed. The score on this train-test partition for these parameters will be set to nan. Details: \n",
      "Traceback (most recent call last):\n",
      "  File \"C:\\Users\\drago\\anaconda3\\envs\\learn-env\\lib\\site-packages\\sklearn\\model_selection\\_validation.py\", line 531, in _fit_and_score\n",
      "    estimator.fit(X_train, y_train, **fit_params)\n",
      "  File \"C:\\Users\\drago\\anaconda3\\envs\\learn-env\\lib\\site-packages\\sklearn\\pipeline.py\", line 335, in fit\n",
      "    self._final_estimator.fit(Xt, y, **fit_params_last_step)\n",
      "  File \"C:\\Users\\drago\\anaconda3\\envs\\learn-env\\lib\\site-packages\\sklearn\\linear_model\\_logistic.py\", line 1304, in fit\n",
      "    solver = _check_solver(self.solver, self.penalty, self.dual)\n",
      "  File \"C:\\Users\\drago\\anaconda3\\envs\\learn-env\\lib\\site-packages\\sklearn\\linear_model\\_logistic.py\", line 442, in _check_solver\n",
      "    raise ValueError(\"Solver %s supports only 'l2' or 'none' penalties, \"\n",
      "ValueError: Solver newton-cg supports only 'l2' or 'none' penalties, got elasticnet penalty.\n",
      "\n",
      "  warnings.warn(\"Estimator fit failed. The score on this train-test\"\n",
      "C:\\Users\\drago\\anaconda3\\envs\\learn-env\\lib\\site-packages\\sklearn\\model_selection\\_validation.py:548: FitFailedWarning: Estimator fit failed. The score on this train-test partition for these parameters will be set to nan. Details: \n",
      "Traceback (most recent call last):\n",
      "  File \"C:\\Users\\drago\\anaconda3\\envs\\learn-env\\lib\\site-packages\\sklearn\\model_selection\\_validation.py\", line 531, in _fit_and_score\n",
      "    estimator.fit(X_train, y_train, **fit_params)\n",
      "  File \"C:\\Users\\drago\\anaconda3\\envs\\learn-env\\lib\\site-packages\\sklearn\\pipeline.py\", line 335, in fit\n",
      "    self._final_estimator.fit(Xt, y, **fit_params_last_step)\n",
      "  File \"C:\\Users\\drago\\anaconda3\\envs\\learn-env\\lib\\site-packages\\sklearn\\linear_model\\_logistic.py\", line 1304, in fit\n",
      "    solver = _check_solver(self.solver, self.penalty, self.dual)\n",
      "  File \"C:\\Users\\drago\\anaconda3\\envs\\learn-env\\lib\\site-packages\\sklearn\\linear_model\\_logistic.py\", line 442, in _check_solver\n",
      "    raise ValueError(\"Solver %s supports only 'l2' or 'none' penalties, \"\n",
      "ValueError: Solver newton-cg supports only 'l2' or 'none' penalties, got elasticnet penalty.\n",
      "\n",
      "  warnings.warn(\"Estimator fit failed. The score on this train-test\"\n"
     ]
    },
    {
     "name": "stdout",
     "output_type": "stream",
     "text": [
      "[CV]  lf__C=0.01, lf__penalty=elasticnet, lf__solver=newton-cg, score=nan, total=   0.1s\n",
      "[CV] lf__C=0.01, lf__penalty=elasticnet, lf__solver=newton-cg ........\n",
      "[CV]  lf__C=0.01, lf__penalty=elasticnet, lf__solver=newton-cg, score=nan, total=   0.1s\n",
      "[CV] lf__C=0.01, lf__penalty=elasticnet, lf__solver=newton-cg ........\n"
     ]
    },
    {
     "name": "stderr",
     "output_type": "stream",
     "text": [
      "C:\\Users\\drago\\anaconda3\\envs\\learn-env\\lib\\site-packages\\sklearn\\model_selection\\_validation.py:548: FitFailedWarning: Estimator fit failed. The score on this train-test partition for these parameters will be set to nan. Details: \n",
      "Traceback (most recent call last):\n",
      "  File \"C:\\Users\\drago\\anaconda3\\envs\\learn-env\\lib\\site-packages\\sklearn\\model_selection\\_validation.py\", line 531, in _fit_and_score\n",
      "    estimator.fit(X_train, y_train, **fit_params)\n",
      "  File \"C:\\Users\\drago\\anaconda3\\envs\\learn-env\\lib\\site-packages\\sklearn\\pipeline.py\", line 335, in fit\n",
      "    self._final_estimator.fit(Xt, y, **fit_params_last_step)\n",
      "  File \"C:\\Users\\drago\\anaconda3\\envs\\learn-env\\lib\\site-packages\\sklearn\\linear_model\\_logistic.py\", line 1304, in fit\n",
      "    solver = _check_solver(self.solver, self.penalty, self.dual)\n",
      "  File \"C:\\Users\\drago\\anaconda3\\envs\\learn-env\\lib\\site-packages\\sklearn\\linear_model\\_logistic.py\", line 442, in _check_solver\n",
      "    raise ValueError(\"Solver %s supports only 'l2' or 'none' penalties, \"\n",
      "ValueError: Solver newton-cg supports only 'l2' or 'none' penalties, got elasticnet penalty.\n",
      "\n",
      "  warnings.warn(\"Estimator fit failed. The score on this train-test\"\n",
      "C:\\Users\\drago\\anaconda3\\envs\\learn-env\\lib\\site-packages\\sklearn\\model_selection\\_validation.py:548: FitFailedWarning: Estimator fit failed. The score on this train-test partition for these parameters will be set to nan. Details: \n",
      "Traceback (most recent call last):\n",
      "  File \"C:\\Users\\drago\\anaconda3\\envs\\learn-env\\lib\\site-packages\\sklearn\\model_selection\\_validation.py\", line 531, in _fit_and_score\n",
      "    estimator.fit(X_train, y_train, **fit_params)\n",
      "  File \"C:\\Users\\drago\\anaconda3\\envs\\learn-env\\lib\\site-packages\\sklearn\\pipeline.py\", line 335, in fit\n",
      "    self._final_estimator.fit(Xt, y, **fit_params_last_step)\n",
      "  File \"C:\\Users\\drago\\anaconda3\\envs\\learn-env\\lib\\site-packages\\sklearn\\linear_model\\_logistic.py\", line 1304, in fit\n",
      "    solver = _check_solver(self.solver, self.penalty, self.dual)\n",
      "  File \"C:\\Users\\drago\\anaconda3\\envs\\learn-env\\lib\\site-packages\\sklearn\\linear_model\\_logistic.py\", line 442, in _check_solver\n",
      "    raise ValueError(\"Solver %s supports only 'l2' or 'none' penalties, \"\n",
      "ValueError: Solver newton-cg supports only 'l2' or 'none' penalties, got elasticnet penalty.\n",
      "\n",
      "  warnings.warn(\"Estimator fit failed. The score on this train-test\"\n"
     ]
    },
    {
     "name": "stdout",
     "output_type": "stream",
     "text": [
      "[CV]  lf__C=0.01, lf__penalty=elasticnet, lf__solver=newton-cg, score=nan, total=   0.1s\n",
      "[CV] lf__C=0.01, lf__penalty=elasticnet, lf__solver=newton-cg ........\n",
      "[CV]  lf__C=0.01, lf__penalty=elasticnet, lf__solver=newton-cg, score=nan, total=   0.1s\n",
      "[CV] lf__C=0.01, lf__penalty=elasticnet, lf__solver=lbfgs ............\n"
     ]
    },
    {
     "name": "stderr",
     "output_type": "stream",
     "text": [
      "C:\\Users\\drago\\anaconda3\\envs\\learn-env\\lib\\site-packages\\sklearn\\model_selection\\_validation.py:548: FitFailedWarning: Estimator fit failed. The score on this train-test partition for these parameters will be set to nan. Details: \n",
      "Traceback (most recent call last):\n",
      "  File \"C:\\Users\\drago\\anaconda3\\envs\\learn-env\\lib\\site-packages\\sklearn\\model_selection\\_validation.py\", line 531, in _fit_and_score\n",
      "    estimator.fit(X_train, y_train, **fit_params)\n",
      "  File \"C:\\Users\\drago\\anaconda3\\envs\\learn-env\\lib\\site-packages\\sklearn\\pipeline.py\", line 335, in fit\n",
      "    self._final_estimator.fit(Xt, y, **fit_params_last_step)\n",
      "  File \"C:\\Users\\drago\\anaconda3\\envs\\learn-env\\lib\\site-packages\\sklearn\\linear_model\\_logistic.py\", line 1304, in fit\n",
      "    solver = _check_solver(self.solver, self.penalty, self.dual)\n",
      "  File \"C:\\Users\\drago\\anaconda3\\envs\\learn-env\\lib\\site-packages\\sklearn\\linear_model\\_logistic.py\", line 442, in _check_solver\n",
      "    raise ValueError(\"Solver %s supports only 'l2' or 'none' penalties, \"\n",
      "ValueError: Solver newton-cg supports only 'l2' or 'none' penalties, got elasticnet penalty.\n",
      "\n",
      "  warnings.warn(\"Estimator fit failed. The score on this train-test\"\n",
      "C:\\Users\\drago\\anaconda3\\envs\\learn-env\\lib\\site-packages\\sklearn\\model_selection\\_validation.py:548: FitFailedWarning: Estimator fit failed. The score on this train-test partition for these parameters will be set to nan. Details: \n",
      "Traceback (most recent call last):\n",
      "  File \"C:\\Users\\drago\\anaconda3\\envs\\learn-env\\lib\\site-packages\\sklearn\\model_selection\\_validation.py\", line 531, in _fit_and_score\n",
      "    estimator.fit(X_train, y_train, **fit_params)\n",
      "  File \"C:\\Users\\drago\\anaconda3\\envs\\learn-env\\lib\\site-packages\\sklearn\\pipeline.py\", line 335, in fit\n",
      "    self._final_estimator.fit(Xt, y, **fit_params_last_step)\n",
      "  File \"C:\\Users\\drago\\anaconda3\\envs\\learn-env\\lib\\site-packages\\sklearn\\linear_model\\_logistic.py\", line 1304, in fit\n",
      "    solver = _check_solver(self.solver, self.penalty, self.dual)\n",
      "  File \"C:\\Users\\drago\\anaconda3\\envs\\learn-env\\lib\\site-packages\\sklearn\\linear_model\\_logistic.py\", line 442, in _check_solver\n",
      "    raise ValueError(\"Solver %s supports only 'l2' or 'none' penalties, \"\n",
      "ValueError: Solver lbfgs supports only 'l2' or 'none' penalties, got elasticnet penalty.\n",
      "\n",
      "  warnings.warn(\"Estimator fit failed. The score on this train-test\"\n"
     ]
    },
    {
     "name": "stdout",
     "output_type": "stream",
     "text": [
      "[CV]  lf__C=0.01, lf__penalty=elasticnet, lf__solver=lbfgs, score=nan, total=   0.1s\n",
      "[CV] lf__C=0.01, lf__penalty=elasticnet, lf__solver=lbfgs ............\n",
      "[CV]  lf__C=0.01, lf__penalty=elasticnet, lf__solver=lbfgs, score=nan, total=   0.1s\n",
      "[CV] lf__C=0.01, lf__penalty=elasticnet, lf__solver=lbfgs ............\n"
     ]
    },
    {
     "name": "stderr",
     "output_type": "stream",
     "text": [
      "C:\\Users\\drago\\anaconda3\\envs\\learn-env\\lib\\site-packages\\sklearn\\model_selection\\_validation.py:548: FitFailedWarning: Estimator fit failed. The score on this train-test partition for these parameters will be set to nan. Details: \n",
      "Traceback (most recent call last):\n",
      "  File \"C:\\Users\\drago\\anaconda3\\envs\\learn-env\\lib\\site-packages\\sklearn\\model_selection\\_validation.py\", line 531, in _fit_and_score\n",
      "    estimator.fit(X_train, y_train, **fit_params)\n",
      "  File \"C:\\Users\\drago\\anaconda3\\envs\\learn-env\\lib\\site-packages\\sklearn\\pipeline.py\", line 335, in fit\n",
      "    self._final_estimator.fit(Xt, y, **fit_params_last_step)\n",
      "  File \"C:\\Users\\drago\\anaconda3\\envs\\learn-env\\lib\\site-packages\\sklearn\\linear_model\\_logistic.py\", line 1304, in fit\n",
      "    solver = _check_solver(self.solver, self.penalty, self.dual)\n",
      "  File \"C:\\Users\\drago\\anaconda3\\envs\\learn-env\\lib\\site-packages\\sklearn\\linear_model\\_logistic.py\", line 442, in _check_solver\n",
      "    raise ValueError(\"Solver %s supports only 'l2' or 'none' penalties, \"\n",
      "ValueError: Solver lbfgs supports only 'l2' or 'none' penalties, got elasticnet penalty.\n",
      "\n",
      "  warnings.warn(\"Estimator fit failed. The score on this train-test\"\n",
      "C:\\Users\\drago\\anaconda3\\envs\\learn-env\\lib\\site-packages\\sklearn\\model_selection\\_validation.py:548: FitFailedWarning: Estimator fit failed. The score on this train-test partition for these parameters will be set to nan. Details: \n",
      "Traceback (most recent call last):\n",
      "  File \"C:\\Users\\drago\\anaconda3\\envs\\learn-env\\lib\\site-packages\\sklearn\\model_selection\\_validation.py\", line 531, in _fit_and_score\n",
      "    estimator.fit(X_train, y_train, **fit_params)\n",
      "  File \"C:\\Users\\drago\\anaconda3\\envs\\learn-env\\lib\\site-packages\\sklearn\\pipeline.py\", line 335, in fit\n",
      "    self._final_estimator.fit(Xt, y, **fit_params_last_step)\n",
      "  File \"C:\\Users\\drago\\anaconda3\\envs\\learn-env\\lib\\site-packages\\sklearn\\linear_model\\_logistic.py\", line 1304, in fit\n",
      "    solver = _check_solver(self.solver, self.penalty, self.dual)\n",
      "  File \"C:\\Users\\drago\\anaconda3\\envs\\learn-env\\lib\\site-packages\\sklearn\\linear_model\\_logistic.py\", line 442, in _check_solver\n",
      "    raise ValueError(\"Solver %s supports only 'l2' or 'none' penalties, \"\n",
      "ValueError: Solver lbfgs supports only 'l2' or 'none' penalties, got elasticnet penalty.\n",
      "\n",
      "  warnings.warn(\"Estimator fit failed. The score on this train-test\"\n"
     ]
    },
    {
     "name": "stdout",
     "output_type": "stream",
     "text": [
      "[CV]  lf__C=0.01, lf__penalty=elasticnet, lf__solver=lbfgs, score=nan, total=   0.1s\n",
      "[CV] lf__C=0.01, lf__penalty=elasticnet, lf__solver=lbfgs ............\n",
      "[CV]  lf__C=0.01, lf__penalty=elasticnet, lf__solver=lbfgs, score=nan, total=   0.1s\n",
      "[CV] lf__C=0.01, lf__penalty=elasticnet, lf__solver=lbfgs ............\n"
     ]
    },
    {
     "name": "stderr",
     "output_type": "stream",
     "text": [
      "C:\\Users\\drago\\anaconda3\\envs\\learn-env\\lib\\site-packages\\sklearn\\model_selection\\_validation.py:548: FitFailedWarning: Estimator fit failed. The score on this train-test partition for these parameters will be set to nan. Details: \n",
      "Traceback (most recent call last):\n",
      "  File \"C:\\Users\\drago\\anaconda3\\envs\\learn-env\\lib\\site-packages\\sklearn\\model_selection\\_validation.py\", line 531, in _fit_and_score\n",
      "    estimator.fit(X_train, y_train, **fit_params)\n",
      "  File \"C:\\Users\\drago\\anaconda3\\envs\\learn-env\\lib\\site-packages\\sklearn\\pipeline.py\", line 335, in fit\n",
      "    self._final_estimator.fit(Xt, y, **fit_params_last_step)\n",
      "  File \"C:\\Users\\drago\\anaconda3\\envs\\learn-env\\lib\\site-packages\\sklearn\\linear_model\\_logistic.py\", line 1304, in fit\n",
      "    solver = _check_solver(self.solver, self.penalty, self.dual)\n",
      "  File \"C:\\Users\\drago\\anaconda3\\envs\\learn-env\\lib\\site-packages\\sklearn\\linear_model\\_logistic.py\", line 442, in _check_solver\n",
      "    raise ValueError(\"Solver %s supports only 'l2' or 'none' penalties, \"\n",
      "ValueError: Solver lbfgs supports only 'l2' or 'none' penalties, got elasticnet penalty.\n",
      "\n",
      "  warnings.warn(\"Estimator fit failed. The score on this train-test\"\n",
      "C:\\Users\\drago\\anaconda3\\envs\\learn-env\\lib\\site-packages\\sklearn\\model_selection\\_validation.py:548: FitFailedWarning: Estimator fit failed. The score on this train-test partition for these parameters will be set to nan. Details: \n",
      "Traceback (most recent call last):\n",
      "  File \"C:\\Users\\drago\\anaconda3\\envs\\learn-env\\lib\\site-packages\\sklearn\\model_selection\\_validation.py\", line 531, in _fit_and_score\n",
      "    estimator.fit(X_train, y_train, **fit_params)\n",
      "  File \"C:\\Users\\drago\\anaconda3\\envs\\learn-env\\lib\\site-packages\\sklearn\\pipeline.py\", line 335, in fit\n",
      "    self._final_estimator.fit(Xt, y, **fit_params_last_step)\n",
      "  File \"C:\\Users\\drago\\anaconda3\\envs\\learn-env\\lib\\site-packages\\sklearn\\linear_model\\_logistic.py\", line 1304, in fit\n",
      "    solver = _check_solver(self.solver, self.penalty, self.dual)\n",
      "  File \"C:\\Users\\drago\\anaconda3\\envs\\learn-env\\lib\\site-packages\\sklearn\\linear_model\\_logistic.py\", line 442, in _check_solver\n",
      "    raise ValueError(\"Solver %s supports only 'l2' or 'none' penalties, \"\n",
      "ValueError: Solver lbfgs supports only 'l2' or 'none' penalties, got elasticnet penalty.\n",
      "\n",
      "  warnings.warn(\"Estimator fit failed. The score on this train-test\"\n"
     ]
    },
    {
     "name": "stdout",
     "output_type": "stream",
     "text": [
      "[CV]  lf__C=0.01, lf__penalty=elasticnet, lf__solver=lbfgs, score=nan, total=   0.1s\n",
      "[CV] lf__C=0.01, lf__penalty=elasticnet, lf__solver=liblinear ........\n",
      "[CV]  lf__C=0.01, lf__penalty=elasticnet, lf__solver=liblinear, score=nan, total=   0.1s\n",
      "[CV] lf__C=0.01, lf__penalty=elasticnet, lf__solver=liblinear ........\n"
     ]
    },
    {
     "name": "stderr",
     "output_type": "stream",
     "text": [
      "C:\\Users\\drago\\anaconda3\\envs\\learn-env\\lib\\site-packages\\sklearn\\model_selection\\_validation.py:548: FitFailedWarning: Estimator fit failed. The score on this train-test partition for these parameters will be set to nan. Details: \n",
      "Traceback (most recent call last):\n",
      "  File \"C:\\Users\\drago\\anaconda3\\envs\\learn-env\\lib\\site-packages\\sklearn\\model_selection\\_validation.py\", line 531, in _fit_and_score\n",
      "    estimator.fit(X_train, y_train, **fit_params)\n",
      "  File \"C:\\Users\\drago\\anaconda3\\envs\\learn-env\\lib\\site-packages\\sklearn\\pipeline.py\", line 335, in fit\n",
      "    self._final_estimator.fit(Xt, y, **fit_params_last_step)\n",
      "  File \"C:\\Users\\drago\\anaconda3\\envs\\learn-env\\lib\\site-packages\\sklearn\\linear_model\\_logistic.py\", line 1304, in fit\n",
      "    solver = _check_solver(self.solver, self.penalty, self.dual)\n",
      "  File \"C:\\Users\\drago\\anaconda3\\envs\\learn-env\\lib\\site-packages\\sklearn\\linear_model\\_logistic.py\", line 449, in _check_solver\n",
      "    raise ValueError(\"Only 'saga' solver supports elasticnet penalty,\"\n",
      "ValueError: Only 'saga' solver supports elasticnet penalty, got solver=liblinear.\n",
      "\n",
      "  warnings.warn(\"Estimator fit failed. The score on this train-test\"\n",
      "C:\\Users\\drago\\anaconda3\\envs\\learn-env\\lib\\site-packages\\sklearn\\model_selection\\_validation.py:548: FitFailedWarning: Estimator fit failed. The score on this train-test partition for these parameters will be set to nan. Details: \n",
      "Traceback (most recent call last):\n",
      "  File \"C:\\Users\\drago\\anaconda3\\envs\\learn-env\\lib\\site-packages\\sklearn\\model_selection\\_validation.py\", line 531, in _fit_and_score\n",
      "    estimator.fit(X_train, y_train, **fit_params)\n",
      "  File \"C:\\Users\\drago\\anaconda3\\envs\\learn-env\\lib\\site-packages\\sklearn\\pipeline.py\", line 335, in fit\n",
      "    self._final_estimator.fit(Xt, y, **fit_params_last_step)\n",
      "  File \"C:\\Users\\drago\\anaconda3\\envs\\learn-env\\lib\\site-packages\\sklearn\\linear_model\\_logistic.py\", line 1304, in fit\n",
      "    solver = _check_solver(self.solver, self.penalty, self.dual)\n",
      "  File \"C:\\Users\\drago\\anaconda3\\envs\\learn-env\\lib\\site-packages\\sklearn\\linear_model\\_logistic.py\", line 449, in _check_solver\n",
      "    raise ValueError(\"Only 'saga' solver supports elasticnet penalty,\"\n",
      "ValueError: Only 'saga' solver supports elasticnet penalty, got solver=liblinear.\n",
      "\n",
      "  warnings.warn(\"Estimator fit failed. The score on this train-test\"\n"
     ]
    },
    {
     "name": "stdout",
     "output_type": "stream",
     "text": [
      "[CV]  lf__C=0.01, lf__penalty=elasticnet, lf__solver=liblinear, score=nan, total=   0.1s\n",
      "[CV] lf__C=0.01, lf__penalty=elasticnet, lf__solver=liblinear ........\n",
      "[CV]  lf__C=0.01, lf__penalty=elasticnet, lf__solver=liblinear, score=nan, total=   0.1s\n",
      "[CV] lf__C=0.01, lf__penalty=elasticnet, lf__solver=liblinear ........\n"
     ]
    },
    {
     "name": "stderr",
     "output_type": "stream",
     "text": [
      "C:\\Users\\drago\\anaconda3\\envs\\learn-env\\lib\\site-packages\\sklearn\\model_selection\\_validation.py:548: FitFailedWarning: Estimator fit failed. The score on this train-test partition for these parameters will be set to nan. Details: \n",
      "Traceback (most recent call last):\n",
      "  File \"C:\\Users\\drago\\anaconda3\\envs\\learn-env\\lib\\site-packages\\sklearn\\model_selection\\_validation.py\", line 531, in _fit_and_score\n",
      "    estimator.fit(X_train, y_train, **fit_params)\n",
      "  File \"C:\\Users\\drago\\anaconda3\\envs\\learn-env\\lib\\site-packages\\sklearn\\pipeline.py\", line 335, in fit\n",
      "    self._final_estimator.fit(Xt, y, **fit_params_last_step)\n",
      "  File \"C:\\Users\\drago\\anaconda3\\envs\\learn-env\\lib\\site-packages\\sklearn\\linear_model\\_logistic.py\", line 1304, in fit\n",
      "    solver = _check_solver(self.solver, self.penalty, self.dual)\n",
      "  File \"C:\\Users\\drago\\anaconda3\\envs\\learn-env\\lib\\site-packages\\sklearn\\linear_model\\_logistic.py\", line 449, in _check_solver\n",
      "    raise ValueError(\"Only 'saga' solver supports elasticnet penalty,\"\n",
      "ValueError: Only 'saga' solver supports elasticnet penalty, got solver=liblinear.\n",
      "\n",
      "  warnings.warn(\"Estimator fit failed. The score on this train-test\"\n",
      "C:\\Users\\drago\\anaconda3\\envs\\learn-env\\lib\\site-packages\\sklearn\\model_selection\\_validation.py:548: FitFailedWarning: Estimator fit failed. The score on this train-test partition for these parameters will be set to nan. Details: \n",
      "Traceback (most recent call last):\n",
      "  File \"C:\\Users\\drago\\anaconda3\\envs\\learn-env\\lib\\site-packages\\sklearn\\model_selection\\_validation.py\", line 531, in _fit_and_score\n",
      "    estimator.fit(X_train, y_train, **fit_params)\n",
      "  File \"C:\\Users\\drago\\anaconda3\\envs\\learn-env\\lib\\site-packages\\sklearn\\pipeline.py\", line 335, in fit\n",
      "    self._final_estimator.fit(Xt, y, **fit_params_last_step)\n",
      "  File \"C:\\Users\\drago\\anaconda3\\envs\\learn-env\\lib\\site-packages\\sklearn\\linear_model\\_logistic.py\", line 1304, in fit\n",
      "    solver = _check_solver(self.solver, self.penalty, self.dual)\n",
      "  File \"C:\\Users\\drago\\anaconda3\\envs\\learn-env\\lib\\site-packages\\sklearn\\linear_model\\_logistic.py\", line 449, in _check_solver\n",
      "    raise ValueError(\"Only 'saga' solver supports elasticnet penalty,\"\n",
      "ValueError: Only 'saga' solver supports elasticnet penalty, got solver=liblinear.\n",
      "\n",
      "  warnings.warn(\"Estimator fit failed. The score on this train-test\"\n"
     ]
    },
    {
     "name": "stdout",
     "output_type": "stream",
     "text": [
      "[CV]  lf__C=0.01, lf__penalty=elasticnet, lf__solver=liblinear, score=nan, total=   0.1s\n",
      "[CV] lf__C=0.01, lf__penalty=elasticnet, lf__solver=liblinear ........\n",
      "[CV]  lf__C=0.01, lf__penalty=elasticnet, lf__solver=liblinear, score=nan, total=   0.1s\n",
      "[CV] lf__C=0.01, lf__penalty=elasticnet, lf__solver=sag ..............\n"
     ]
    },
    {
     "name": "stderr",
     "output_type": "stream",
     "text": [
      "C:\\Users\\drago\\anaconda3\\envs\\learn-env\\lib\\site-packages\\sklearn\\model_selection\\_validation.py:548: FitFailedWarning: Estimator fit failed. The score on this train-test partition for these parameters will be set to nan. Details: \n",
      "Traceback (most recent call last):\n",
      "  File \"C:\\Users\\drago\\anaconda3\\envs\\learn-env\\lib\\site-packages\\sklearn\\model_selection\\_validation.py\", line 531, in _fit_and_score\n",
      "    estimator.fit(X_train, y_train, **fit_params)\n",
      "  File \"C:\\Users\\drago\\anaconda3\\envs\\learn-env\\lib\\site-packages\\sklearn\\pipeline.py\", line 335, in fit\n",
      "    self._final_estimator.fit(Xt, y, **fit_params_last_step)\n",
      "  File \"C:\\Users\\drago\\anaconda3\\envs\\learn-env\\lib\\site-packages\\sklearn\\linear_model\\_logistic.py\", line 1304, in fit\n",
      "    solver = _check_solver(self.solver, self.penalty, self.dual)\n",
      "  File \"C:\\Users\\drago\\anaconda3\\envs\\learn-env\\lib\\site-packages\\sklearn\\linear_model\\_logistic.py\", line 449, in _check_solver\n",
      "    raise ValueError(\"Only 'saga' solver supports elasticnet penalty,\"\n",
      "ValueError: Only 'saga' solver supports elasticnet penalty, got solver=liblinear.\n",
      "\n",
      "  warnings.warn(\"Estimator fit failed. The score on this train-test\"\n",
      "C:\\Users\\drago\\anaconda3\\envs\\learn-env\\lib\\site-packages\\sklearn\\model_selection\\_validation.py:548: FitFailedWarning: Estimator fit failed. The score on this train-test partition for these parameters will be set to nan. Details: \n",
      "Traceback (most recent call last):\n",
      "  File \"C:\\Users\\drago\\anaconda3\\envs\\learn-env\\lib\\site-packages\\sklearn\\model_selection\\_validation.py\", line 531, in _fit_and_score\n",
      "    estimator.fit(X_train, y_train, **fit_params)\n",
      "  File \"C:\\Users\\drago\\anaconda3\\envs\\learn-env\\lib\\site-packages\\sklearn\\pipeline.py\", line 335, in fit\n",
      "    self._final_estimator.fit(Xt, y, **fit_params_last_step)\n",
      "  File \"C:\\Users\\drago\\anaconda3\\envs\\learn-env\\lib\\site-packages\\sklearn\\linear_model\\_logistic.py\", line 1304, in fit\n",
      "    solver = _check_solver(self.solver, self.penalty, self.dual)\n",
      "  File \"C:\\Users\\drago\\anaconda3\\envs\\learn-env\\lib\\site-packages\\sklearn\\linear_model\\_logistic.py\", line 442, in _check_solver\n",
      "    raise ValueError(\"Solver %s supports only 'l2' or 'none' penalties, \"\n",
      "ValueError: Solver sag supports only 'l2' or 'none' penalties, got elasticnet penalty.\n",
      "\n",
      "  warnings.warn(\"Estimator fit failed. The score on this train-test\"\n"
     ]
    },
    {
     "name": "stdout",
     "output_type": "stream",
     "text": [
      "[CV]  lf__C=0.01, lf__penalty=elasticnet, lf__solver=sag, score=nan, total=   0.1s\n",
      "[CV] lf__C=0.01, lf__penalty=elasticnet, lf__solver=sag ..............\n",
      "[CV]  lf__C=0.01, lf__penalty=elasticnet, lf__solver=sag, score=nan, total=   0.1s\n",
      "[CV] lf__C=0.01, lf__penalty=elasticnet, lf__solver=sag ..............\n"
     ]
    },
    {
     "name": "stderr",
     "output_type": "stream",
     "text": [
      "C:\\Users\\drago\\anaconda3\\envs\\learn-env\\lib\\site-packages\\sklearn\\model_selection\\_validation.py:548: FitFailedWarning: Estimator fit failed. The score on this train-test partition for these parameters will be set to nan. Details: \n",
      "Traceback (most recent call last):\n",
      "  File \"C:\\Users\\drago\\anaconda3\\envs\\learn-env\\lib\\site-packages\\sklearn\\model_selection\\_validation.py\", line 531, in _fit_and_score\n",
      "    estimator.fit(X_train, y_train, **fit_params)\n",
      "  File \"C:\\Users\\drago\\anaconda3\\envs\\learn-env\\lib\\site-packages\\sklearn\\pipeline.py\", line 335, in fit\n",
      "    self._final_estimator.fit(Xt, y, **fit_params_last_step)\n",
      "  File \"C:\\Users\\drago\\anaconda3\\envs\\learn-env\\lib\\site-packages\\sklearn\\linear_model\\_logistic.py\", line 1304, in fit\n",
      "    solver = _check_solver(self.solver, self.penalty, self.dual)\n",
      "  File \"C:\\Users\\drago\\anaconda3\\envs\\learn-env\\lib\\site-packages\\sklearn\\linear_model\\_logistic.py\", line 442, in _check_solver\n",
      "    raise ValueError(\"Solver %s supports only 'l2' or 'none' penalties, \"\n",
      "ValueError: Solver sag supports only 'l2' or 'none' penalties, got elasticnet penalty.\n",
      "\n",
      "  warnings.warn(\"Estimator fit failed. The score on this train-test\"\n",
      "C:\\Users\\drago\\anaconda3\\envs\\learn-env\\lib\\site-packages\\sklearn\\model_selection\\_validation.py:548: FitFailedWarning: Estimator fit failed. The score on this train-test partition for these parameters will be set to nan. Details: \n",
      "Traceback (most recent call last):\n",
      "  File \"C:\\Users\\drago\\anaconda3\\envs\\learn-env\\lib\\site-packages\\sklearn\\model_selection\\_validation.py\", line 531, in _fit_and_score\n",
      "    estimator.fit(X_train, y_train, **fit_params)\n",
      "  File \"C:\\Users\\drago\\anaconda3\\envs\\learn-env\\lib\\site-packages\\sklearn\\pipeline.py\", line 335, in fit\n",
      "    self._final_estimator.fit(Xt, y, **fit_params_last_step)\n",
      "  File \"C:\\Users\\drago\\anaconda3\\envs\\learn-env\\lib\\site-packages\\sklearn\\linear_model\\_logistic.py\", line 1304, in fit\n",
      "    solver = _check_solver(self.solver, self.penalty, self.dual)\n",
      "  File \"C:\\Users\\drago\\anaconda3\\envs\\learn-env\\lib\\site-packages\\sklearn\\linear_model\\_logistic.py\", line 442, in _check_solver\n",
      "    raise ValueError(\"Solver %s supports only 'l2' or 'none' penalties, \"\n",
      "ValueError: Solver sag supports only 'l2' or 'none' penalties, got elasticnet penalty.\n",
      "\n",
      "  warnings.warn(\"Estimator fit failed. The score on this train-test\"\n"
     ]
    },
    {
     "name": "stdout",
     "output_type": "stream",
     "text": [
      "[CV]  lf__C=0.01, lf__penalty=elasticnet, lf__solver=sag, score=nan, total=   0.1s\n",
      "[CV] lf__C=0.01, lf__penalty=elasticnet, lf__solver=sag ..............\n",
      "[CV]  lf__C=0.01, lf__penalty=elasticnet, lf__solver=sag, score=nan, total=   0.1s\n",
      "[CV] lf__C=0.01, lf__penalty=elasticnet, lf__solver=sag ..............\n"
     ]
    },
    {
     "name": "stderr",
     "output_type": "stream",
     "text": [
      "C:\\Users\\drago\\anaconda3\\envs\\learn-env\\lib\\site-packages\\sklearn\\model_selection\\_validation.py:548: FitFailedWarning: Estimator fit failed. The score on this train-test partition for these parameters will be set to nan. Details: \n",
      "Traceback (most recent call last):\n",
      "  File \"C:\\Users\\drago\\anaconda3\\envs\\learn-env\\lib\\site-packages\\sklearn\\model_selection\\_validation.py\", line 531, in _fit_and_score\n",
      "    estimator.fit(X_train, y_train, **fit_params)\n",
      "  File \"C:\\Users\\drago\\anaconda3\\envs\\learn-env\\lib\\site-packages\\sklearn\\pipeline.py\", line 335, in fit\n",
      "    self._final_estimator.fit(Xt, y, **fit_params_last_step)\n",
      "  File \"C:\\Users\\drago\\anaconda3\\envs\\learn-env\\lib\\site-packages\\sklearn\\linear_model\\_logistic.py\", line 1304, in fit\n",
      "    solver = _check_solver(self.solver, self.penalty, self.dual)\n",
      "  File \"C:\\Users\\drago\\anaconda3\\envs\\learn-env\\lib\\site-packages\\sklearn\\linear_model\\_logistic.py\", line 442, in _check_solver\n",
      "    raise ValueError(\"Solver %s supports only 'l2' or 'none' penalties, \"\n",
      "ValueError: Solver sag supports only 'l2' or 'none' penalties, got elasticnet penalty.\n",
      "\n",
      "  warnings.warn(\"Estimator fit failed. The score on this train-test\"\n",
      "C:\\Users\\drago\\anaconda3\\envs\\learn-env\\lib\\site-packages\\sklearn\\model_selection\\_validation.py:548: FitFailedWarning: Estimator fit failed. The score on this train-test partition for these parameters will be set to nan. Details: \n",
      "Traceback (most recent call last):\n",
      "  File \"C:\\Users\\drago\\anaconda3\\envs\\learn-env\\lib\\site-packages\\sklearn\\model_selection\\_validation.py\", line 531, in _fit_and_score\n",
      "    estimator.fit(X_train, y_train, **fit_params)\n",
      "  File \"C:\\Users\\drago\\anaconda3\\envs\\learn-env\\lib\\site-packages\\sklearn\\pipeline.py\", line 335, in fit\n",
      "    self._final_estimator.fit(Xt, y, **fit_params_last_step)\n",
      "  File \"C:\\Users\\drago\\anaconda3\\envs\\learn-env\\lib\\site-packages\\sklearn\\linear_model\\_logistic.py\", line 1304, in fit\n",
      "    solver = _check_solver(self.solver, self.penalty, self.dual)\n",
      "  File \"C:\\Users\\drago\\anaconda3\\envs\\learn-env\\lib\\site-packages\\sklearn\\linear_model\\_logistic.py\", line 442, in _check_solver\n",
      "    raise ValueError(\"Solver %s supports only 'l2' or 'none' penalties, \"\n",
      "ValueError: Solver sag supports only 'l2' or 'none' penalties, got elasticnet penalty.\n",
      "\n",
      "  warnings.warn(\"Estimator fit failed. The score on this train-test\"\n"
     ]
    },
    {
     "name": "stdout",
     "output_type": "stream",
     "text": [
      "[CV]  lf__C=0.01, lf__penalty=elasticnet, lf__solver=sag, score=nan, total=   0.1s\n",
      "[CV] lf__C=0.01, lf__penalty=elasticnet, lf__solver=saga .............\n",
      "[CV]  lf__C=0.01, lf__penalty=elasticnet, lf__solver=saga, score=nan, total=   0.1s\n",
      "[CV] lf__C=0.01, lf__penalty=elasticnet, lf__solver=saga .............\n"
     ]
    },
    {
     "name": "stderr",
     "output_type": "stream",
     "text": [
      "C:\\Users\\drago\\anaconda3\\envs\\learn-env\\lib\\site-packages\\sklearn\\model_selection\\_validation.py:548: FitFailedWarning: Estimator fit failed. The score on this train-test partition for these parameters will be set to nan. Details: \n",
      "Traceback (most recent call last):\n",
      "  File \"C:\\Users\\drago\\anaconda3\\envs\\learn-env\\lib\\site-packages\\sklearn\\model_selection\\_validation.py\", line 531, in _fit_and_score\n",
      "    estimator.fit(X_train, y_train, **fit_params)\n",
      "  File \"C:\\Users\\drago\\anaconda3\\envs\\learn-env\\lib\\site-packages\\sklearn\\pipeline.py\", line 335, in fit\n",
      "    self._final_estimator.fit(Xt, y, **fit_params_last_step)\n",
      "  File \"C:\\Users\\drago\\anaconda3\\envs\\learn-env\\lib\\site-packages\\sklearn\\linear_model\\_logistic.py\", line 1312, in fit\n",
      "    raise ValueError(\"l1_ratio must be between 0 and 1;\"\n",
      "ValueError: l1_ratio must be between 0 and 1; got (l1_ratio=None)\n",
      "\n",
      "  warnings.warn(\"Estimator fit failed. The score on this train-test\"\n",
      "C:\\Users\\drago\\anaconda3\\envs\\learn-env\\lib\\site-packages\\sklearn\\model_selection\\_validation.py:548: FitFailedWarning: Estimator fit failed. The score on this train-test partition for these parameters will be set to nan. Details: \n",
      "Traceback (most recent call last):\n",
      "  File \"C:\\Users\\drago\\anaconda3\\envs\\learn-env\\lib\\site-packages\\sklearn\\model_selection\\_validation.py\", line 531, in _fit_and_score\n",
      "    estimator.fit(X_train, y_train, **fit_params)\n",
      "  File \"C:\\Users\\drago\\anaconda3\\envs\\learn-env\\lib\\site-packages\\sklearn\\pipeline.py\", line 335, in fit\n",
      "    self._final_estimator.fit(Xt, y, **fit_params_last_step)\n",
      "  File \"C:\\Users\\drago\\anaconda3\\envs\\learn-env\\lib\\site-packages\\sklearn\\linear_model\\_logistic.py\", line 1312, in fit\n",
      "    raise ValueError(\"l1_ratio must be between 0 and 1;\"\n",
      "ValueError: l1_ratio must be between 0 and 1; got (l1_ratio=None)\n",
      "\n",
      "  warnings.warn(\"Estimator fit failed. The score on this train-test\"\n"
     ]
    },
    {
     "name": "stdout",
     "output_type": "stream",
     "text": [
      "[CV]  lf__C=0.01, lf__penalty=elasticnet, lf__solver=saga, score=nan, total=   0.1s\n",
      "[CV] lf__C=0.01, lf__penalty=elasticnet, lf__solver=saga .............\n",
      "[CV]  lf__C=0.01, lf__penalty=elasticnet, lf__solver=saga, score=nan, total=   0.1s\n",
      "[CV] lf__C=0.01, lf__penalty=elasticnet, lf__solver=saga .............\n"
     ]
    },
    {
     "name": "stderr",
     "output_type": "stream",
     "text": [
      "C:\\Users\\drago\\anaconda3\\envs\\learn-env\\lib\\site-packages\\sklearn\\model_selection\\_validation.py:548: FitFailedWarning: Estimator fit failed. The score on this train-test partition for these parameters will be set to nan. Details: \n",
      "Traceback (most recent call last):\n",
      "  File \"C:\\Users\\drago\\anaconda3\\envs\\learn-env\\lib\\site-packages\\sklearn\\model_selection\\_validation.py\", line 531, in _fit_and_score\n",
      "    estimator.fit(X_train, y_train, **fit_params)\n",
      "  File \"C:\\Users\\drago\\anaconda3\\envs\\learn-env\\lib\\site-packages\\sklearn\\pipeline.py\", line 335, in fit\n",
      "    self._final_estimator.fit(Xt, y, **fit_params_last_step)\n",
      "  File \"C:\\Users\\drago\\anaconda3\\envs\\learn-env\\lib\\site-packages\\sklearn\\linear_model\\_logistic.py\", line 1312, in fit\n",
      "    raise ValueError(\"l1_ratio must be between 0 and 1;\"\n",
      "ValueError: l1_ratio must be between 0 and 1; got (l1_ratio=None)\n",
      "\n",
      "  warnings.warn(\"Estimator fit failed. The score on this train-test\"\n",
      "C:\\Users\\drago\\anaconda3\\envs\\learn-env\\lib\\site-packages\\sklearn\\model_selection\\_validation.py:548: FitFailedWarning: Estimator fit failed. The score on this train-test partition for these parameters will be set to nan. Details: \n",
      "Traceback (most recent call last):\n",
      "  File \"C:\\Users\\drago\\anaconda3\\envs\\learn-env\\lib\\site-packages\\sklearn\\model_selection\\_validation.py\", line 531, in _fit_and_score\n",
      "    estimator.fit(X_train, y_train, **fit_params)\n",
      "  File \"C:\\Users\\drago\\anaconda3\\envs\\learn-env\\lib\\site-packages\\sklearn\\pipeline.py\", line 335, in fit\n",
      "    self._final_estimator.fit(Xt, y, **fit_params_last_step)\n",
      "  File \"C:\\Users\\drago\\anaconda3\\envs\\learn-env\\lib\\site-packages\\sklearn\\linear_model\\_logistic.py\", line 1312, in fit\n",
      "    raise ValueError(\"l1_ratio must be between 0 and 1;\"\n",
      "ValueError: l1_ratio must be between 0 and 1; got (l1_ratio=None)\n",
      "\n",
      "  warnings.warn(\"Estimator fit failed. The score on this train-test\"\n"
     ]
    },
    {
     "name": "stdout",
     "output_type": "stream",
     "text": [
      "[CV]  lf__C=0.01, lf__penalty=elasticnet, lf__solver=saga, score=nan, total=   0.1s\n",
      "[CV] lf__C=0.01, lf__penalty=elasticnet, lf__solver=saga .............\n",
      "[CV]  lf__C=0.01, lf__penalty=elasticnet, lf__solver=saga, score=nan, total=   0.1s\n",
      "[CV] lf__C=0.01, lf__penalty=None, lf__solver=newton-cg ..............\n"
     ]
    },
    {
     "name": "stderr",
     "output_type": "stream",
     "text": [
      "C:\\Users\\drago\\anaconda3\\envs\\learn-env\\lib\\site-packages\\sklearn\\model_selection\\_validation.py:548: FitFailedWarning: Estimator fit failed. The score on this train-test partition for these parameters will be set to nan. Details: \n",
      "Traceback (most recent call last):\n",
      "  File \"C:\\Users\\drago\\anaconda3\\envs\\learn-env\\lib\\site-packages\\sklearn\\model_selection\\_validation.py\", line 531, in _fit_and_score\n",
      "    estimator.fit(X_train, y_train, **fit_params)\n",
      "  File \"C:\\Users\\drago\\anaconda3\\envs\\learn-env\\lib\\site-packages\\sklearn\\pipeline.py\", line 335, in fit\n",
      "    self._final_estimator.fit(Xt, y, **fit_params_last_step)\n",
      "  File \"C:\\Users\\drago\\anaconda3\\envs\\learn-env\\lib\\site-packages\\sklearn\\linear_model\\_logistic.py\", line 1312, in fit\n",
      "    raise ValueError(\"l1_ratio must be between 0 and 1;\"\n",
      "ValueError: l1_ratio must be between 0 and 1; got (l1_ratio=None)\n",
      "\n",
      "  warnings.warn(\"Estimator fit failed. The score on this train-test\"\n",
      "C:\\Users\\drago\\anaconda3\\envs\\learn-env\\lib\\site-packages\\sklearn\\model_selection\\_validation.py:548: FitFailedWarning: Estimator fit failed. The score on this train-test partition for these parameters will be set to nan. Details: \n",
      "Traceback (most recent call last):\n",
      "  File \"C:\\Users\\drago\\anaconda3\\envs\\learn-env\\lib\\site-packages\\sklearn\\model_selection\\_validation.py\", line 531, in _fit_and_score\n",
      "    estimator.fit(X_train, y_train, **fit_params)\n",
      "  File \"C:\\Users\\drago\\anaconda3\\envs\\learn-env\\lib\\site-packages\\sklearn\\pipeline.py\", line 335, in fit\n",
      "    self._final_estimator.fit(Xt, y, **fit_params_last_step)\n",
      "  File \"C:\\Users\\drago\\anaconda3\\envs\\learn-env\\lib\\site-packages\\sklearn\\linear_model\\_logistic.py\", line 1304, in fit\n",
      "    solver = _check_solver(self.solver, self.penalty, self.dual)\n",
      "  File \"C:\\Users\\drago\\anaconda3\\envs\\learn-env\\lib\\site-packages\\sklearn\\linear_model\\_logistic.py\", line 438, in _check_solver\n",
      "    raise ValueError(\"Logistic Regression supports only penalties in %s,\"\n",
      "ValueError: Logistic Regression supports only penalties in ['l1', 'l2', 'elasticnet', 'none'], got None.\n",
      "\n",
      "  warnings.warn(\"Estimator fit failed. The score on this train-test\"\n"
     ]
    },
    {
     "name": "stdout",
     "output_type": "stream",
     "text": [
      "[CV]  lf__C=0.01, lf__penalty=None, lf__solver=newton-cg, score=nan, total=   0.1s\n",
      "[CV] lf__C=0.01, lf__penalty=None, lf__solver=newton-cg ..............\n",
      "[CV]  lf__C=0.01, lf__penalty=None, lf__solver=newton-cg, score=nan, total=   0.1s\n",
      "[CV] lf__C=0.01, lf__penalty=None, lf__solver=newton-cg ..............\n"
     ]
    },
    {
     "name": "stderr",
     "output_type": "stream",
     "text": [
      "C:\\Users\\drago\\anaconda3\\envs\\learn-env\\lib\\site-packages\\sklearn\\model_selection\\_validation.py:548: FitFailedWarning: Estimator fit failed. The score on this train-test partition for these parameters will be set to nan. Details: \n",
      "Traceback (most recent call last):\n",
      "  File \"C:\\Users\\drago\\anaconda3\\envs\\learn-env\\lib\\site-packages\\sklearn\\model_selection\\_validation.py\", line 531, in _fit_and_score\n",
      "    estimator.fit(X_train, y_train, **fit_params)\n",
      "  File \"C:\\Users\\drago\\anaconda3\\envs\\learn-env\\lib\\site-packages\\sklearn\\pipeline.py\", line 335, in fit\n",
      "    self._final_estimator.fit(Xt, y, **fit_params_last_step)\n",
      "  File \"C:\\Users\\drago\\anaconda3\\envs\\learn-env\\lib\\site-packages\\sklearn\\linear_model\\_logistic.py\", line 1304, in fit\n",
      "    solver = _check_solver(self.solver, self.penalty, self.dual)\n",
      "  File \"C:\\Users\\drago\\anaconda3\\envs\\learn-env\\lib\\site-packages\\sklearn\\linear_model\\_logistic.py\", line 438, in _check_solver\n",
      "    raise ValueError(\"Logistic Regression supports only penalties in %s,\"\n",
      "ValueError: Logistic Regression supports only penalties in ['l1', 'l2', 'elasticnet', 'none'], got None.\n",
      "\n",
      "  warnings.warn(\"Estimator fit failed. The score on this train-test\"\n",
      "C:\\Users\\drago\\anaconda3\\envs\\learn-env\\lib\\site-packages\\sklearn\\model_selection\\_validation.py:548: FitFailedWarning: Estimator fit failed. The score on this train-test partition for these parameters will be set to nan. Details: \n",
      "Traceback (most recent call last):\n",
      "  File \"C:\\Users\\drago\\anaconda3\\envs\\learn-env\\lib\\site-packages\\sklearn\\model_selection\\_validation.py\", line 531, in _fit_and_score\n",
      "    estimator.fit(X_train, y_train, **fit_params)\n",
      "  File \"C:\\Users\\drago\\anaconda3\\envs\\learn-env\\lib\\site-packages\\sklearn\\pipeline.py\", line 335, in fit\n",
      "    self._final_estimator.fit(Xt, y, **fit_params_last_step)\n",
      "  File \"C:\\Users\\drago\\anaconda3\\envs\\learn-env\\lib\\site-packages\\sklearn\\linear_model\\_logistic.py\", line 1304, in fit\n",
      "    solver = _check_solver(self.solver, self.penalty, self.dual)\n",
      "  File \"C:\\Users\\drago\\anaconda3\\envs\\learn-env\\lib\\site-packages\\sklearn\\linear_model\\_logistic.py\", line 438, in _check_solver\n",
      "    raise ValueError(\"Logistic Regression supports only penalties in %s,\"\n",
      "ValueError: Logistic Regression supports only penalties in ['l1', 'l2', 'elasticnet', 'none'], got None.\n",
      "\n",
      "  warnings.warn(\"Estimator fit failed. The score on this train-test\"\n"
     ]
    },
    {
     "name": "stdout",
     "output_type": "stream",
     "text": [
      "[CV]  lf__C=0.01, lf__penalty=None, lf__solver=newton-cg, score=nan, total=   0.1s\n",
      "[CV] lf__C=0.01, lf__penalty=None, lf__solver=newton-cg ..............\n",
      "[CV]  lf__C=0.01, lf__penalty=None, lf__solver=newton-cg, score=nan, total=   0.1s\n",
      "[CV] lf__C=0.01, lf__penalty=None, lf__solver=newton-cg ..............\n"
     ]
    },
    {
     "name": "stderr",
     "output_type": "stream",
     "text": [
      "C:\\Users\\drago\\anaconda3\\envs\\learn-env\\lib\\site-packages\\sklearn\\model_selection\\_validation.py:548: FitFailedWarning: Estimator fit failed. The score on this train-test partition for these parameters will be set to nan. Details: \n",
      "Traceback (most recent call last):\n",
      "  File \"C:\\Users\\drago\\anaconda3\\envs\\learn-env\\lib\\site-packages\\sklearn\\model_selection\\_validation.py\", line 531, in _fit_and_score\n",
      "    estimator.fit(X_train, y_train, **fit_params)\n",
      "  File \"C:\\Users\\drago\\anaconda3\\envs\\learn-env\\lib\\site-packages\\sklearn\\pipeline.py\", line 335, in fit\n",
      "    self._final_estimator.fit(Xt, y, **fit_params_last_step)\n",
      "  File \"C:\\Users\\drago\\anaconda3\\envs\\learn-env\\lib\\site-packages\\sklearn\\linear_model\\_logistic.py\", line 1304, in fit\n",
      "    solver = _check_solver(self.solver, self.penalty, self.dual)\n",
      "  File \"C:\\Users\\drago\\anaconda3\\envs\\learn-env\\lib\\site-packages\\sklearn\\linear_model\\_logistic.py\", line 438, in _check_solver\n",
      "    raise ValueError(\"Logistic Regression supports only penalties in %s,\"\n",
      "ValueError: Logistic Regression supports only penalties in ['l1', 'l2', 'elasticnet', 'none'], got None.\n",
      "\n",
      "  warnings.warn(\"Estimator fit failed. The score on this train-test\"\n",
      "C:\\Users\\drago\\anaconda3\\envs\\learn-env\\lib\\site-packages\\sklearn\\model_selection\\_validation.py:548: FitFailedWarning: Estimator fit failed. The score on this train-test partition for these parameters will be set to nan. Details: \n",
      "Traceback (most recent call last):\n",
      "  File \"C:\\Users\\drago\\anaconda3\\envs\\learn-env\\lib\\site-packages\\sklearn\\model_selection\\_validation.py\", line 531, in _fit_and_score\n",
      "    estimator.fit(X_train, y_train, **fit_params)\n",
      "  File \"C:\\Users\\drago\\anaconda3\\envs\\learn-env\\lib\\site-packages\\sklearn\\pipeline.py\", line 335, in fit\n",
      "    self._final_estimator.fit(Xt, y, **fit_params_last_step)\n",
      "  File \"C:\\Users\\drago\\anaconda3\\envs\\learn-env\\lib\\site-packages\\sklearn\\linear_model\\_logistic.py\", line 1304, in fit\n",
      "    solver = _check_solver(self.solver, self.penalty, self.dual)\n",
      "  File \"C:\\Users\\drago\\anaconda3\\envs\\learn-env\\lib\\site-packages\\sklearn\\linear_model\\_logistic.py\", line 438, in _check_solver\n",
      "    raise ValueError(\"Logistic Regression supports only penalties in %s,\"\n",
      "ValueError: Logistic Regression supports only penalties in ['l1', 'l2', 'elasticnet', 'none'], got None.\n",
      "\n",
      "  warnings.warn(\"Estimator fit failed. The score on this train-test\"\n"
     ]
    },
    {
     "name": "stdout",
     "output_type": "stream",
     "text": [
      "[CV]  lf__C=0.01, lf__penalty=None, lf__solver=newton-cg, score=nan, total=   0.1s\n",
      "[CV] lf__C=0.01, lf__penalty=None, lf__solver=lbfgs ..................\n",
      "[CV]  lf__C=0.01, lf__penalty=None, lf__solver=lbfgs, score=nan, total=   0.1s\n",
      "[CV] lf__C=0.01, lf__penalty=None, lf__solver=lbfgs ..................\n"
     ]
    },
    {
     "name": "stderr",
     "output_type": "stream",
     "text": [
      "C:\\Users\\drago\\anaconda3\\envs\\learn-env\\lib\\site-packages\\sklearn\\model_selection\\_validation.py:548: FitFailedWarning: Estimator fit failed. The score on this train-test partition for these parameters will be set to nan. Details: \n",
      "Traceback (most recent call last):\n",
      "  File \"C:\\Users\\drago\\anaconda3\\envs\\learn-env\\lib\\site-packages\\sklearn\\model_selection\\_validation.py\", line 531, in _fit_and_score\n",
      "    estimator.fit(X_train, y_train, **fit_params)\n",
      "  File \"C:\\Users\\drago\\anaconda3\\envs\\learn-env\\lib\\site-packages\\sklearn\\pipeline.py\", line 335, in fit\n",
      "    self._final_estimator.fit(Xt, y, **fit_params_last_step)\n",
      "  File \"C:\\Users\\drago\\anaconda3\\envs\\learn-env\\lib\\site-packages\\sklearn\\linear_model\\_logistic.py\", line 1304, in fit\n",
      "    solver = _check_solver(self.solver, self.penalty, self.dual)\n",
      "  File \"C:\\Users\\drago\\anaconda3\\envs\\learn-env\\lib\\site-packages\\sklearn\\linear_model\\_logistic.py\", line 438, in _check_solver\n",
      "    raise ValueError(\"Logistic Regression supports only penalties in %s,\"\n",
      "ValueError: Logistic Regression supports only penalties in ['l1', 'l2', 'elasticnet', 'none'], got None.\n",
      "\n",
      "  warnings.warn(\"Estimator fit failed. The score on this train-test\"\n",
      "C:\\Users\\drago\\anaconda3\\envs\\learn-env\\lib\\site-packages\\sklearn\\model_selection\\_validation.py:548: FitFailedWarning: Estimator fit failed. The score on this train-test partition for these parameters will be set to nan. Details: \n",
      "Traceback (most recent call last):\n",
      "  File \"C:\\Users\\drago\\anaconda3\\envs\\learn-env\\lib\\site-packages\\sklearn\\model_selection\\_validation.py\", line 531, in _fit_and_score\n",
      "    estimator.fit(X_train, y_train, **fit_params)\n",
      "  File \"C:\\Users\\drago\\anaconda3\\envs\\learn-env\\lib\\site-packages\\sklearn\\pipeline.py\", line 335, in fit\n",
      "    self._final_estimator.fit(Xt, y, **fit_params_last_step)\n",
      "  File \"C:\\Users\\drago\\anaconda3\\envs\\learn-env\\lib\\site-packages\\sklearn\\linear_model\\_logistic.py\", line 1304, in fit\n",
      "    solver = _check_solver(self.solver, self.penalty, self.dual)\n",
      "  File \"C:\\Users\\drago\\anaconda3\\envs\\learn-env\\lib\\site-packages\\sklearn\\linear_model\\_logistic.py\", line 438, in _check_solver\n",
      "    raise ValueError(\"Logistic Regression supports only penalties in %s,\"\n",
      "ValueError: Logistic Regression supports only penalties in ['l1', 'l2', 'elasticnet', 'none'], got None.\n",
      "\n",
      "  warnings.warn(\"Estimator fit failed. The score on this train-test\"\n"
     ]
    },
    {
     "name": "stdout",
     "output_type": "stream",
     "text": [
      "[CV]  lf__C=0.01, lf__penalty=None, lf__solver=lbfgs, score=nan, total=   0.1s\n",
      "[CV] lf__C=0.01, lf__penalty=None, lf__solver=lbfgs ..................\n",
      "[CV]  lf__C=0.01, lf__penalty=None, lf__solver=lbfgs, score=nan, total=   0.1s\n",
      "[CV] lf__C=0.01, lf__penalty=None, lf__solver=lbfgs ..................\n"
     ]
    },
    {
     "name": "stderr",
     "output_type": "stream",
     "text": [
      "C:\\Users\\drago\\anaconda3\\envs\\learn-env\\lib\\site-packages\\sklearn\\model_selection\\_validation.py:548: FitFailedWarning: Estimator fit failed. The score on this train-test partition for these parameters will be set to nan. Details: \n",
      "Traceback (most recent call last):\n",
      "  File \"C:\\Users\\drago\\anaconda3\\envs\\learn-env\\lib\\site-packages\\sklearn\\model_selection\\_validation.py\", line 531, in _fit_and_score\n",
      "    estimator.fit(X_train, y_train, **fit_params)\n",
      "  File \"C:\\Users\\drago\\anaconda3\\envs\\learn-env\\lib\\site-packages\\sklearn\\pipeline.py\", line 335, in fit\n",
      "    self._final_estimator.fit(Xt, y, **fit_params_last_step)\n",
      "  File \"C:\\Users\\drago\\anaconda3\\envs\\learn-env\\lib\\site-packages\\sklearn\\linear_model\\_logistic.py\", line 1304, in fit\n",
      "    solver = _check_solver(self.solver, self.penalty, self.dual)\n",
      "  File \"C:\\Users\\drago\\anaconda3\\envs\\learn-env\\lib\\site-packages\\sklearn\\linear_model\\_logistic.py\", line 438, in _check_solver\n",
      "    raise ValueError(\"Logistic Regression supports only penalties in %s,\"\n",
      "ValueError: Logistic Regression supports only penalties in ['l1', 'l2', 'elasticnet', 'none'], got None.\n",
      "\n",
      "  warnings.warn(\"Estimator fit failed. The score on this train-test\"\n",
      "C:\\Users\\drago\\anaconda3\\envs\\learn-env\\lib\\site-packages\\sklearn\\model_selection\\_validation.py:548: FitFailedWarning: Estimator fit failed. The score on this train-test partition for these parameters will be set to nan. Details: \n",
      "Traceback (most recent call last):\n",
      "  File \"C:\\Users\\drago\\anaconda3\\envs\\learn-env\\lib\\site-packages\\sklearn\\model_selection\\_validation.py\", line 531, in _fit_and_score\n",
      "    estimator.fit(X_train, y_train, **fit_params)\n",
      "  File \"C:\\Users\\drago\\anaconda3\\envs\\learn-env\\lib\\site-packages\\sklearn\\pipeline.py\", line 335, in fit\n",
      "    self._final_estimator.fit(Xt, y, **fit_params_last_step)\n",
      "  File \"C:\\Users\\drago\\anaconda3\\envs\\learn-env\\lib\\site-packages\\sklearn\\linear_model\\_logistic.py\", line 1304, in fit\n",
      "    solver = _check_solver(self.solver, self.penalty, self.dual)\n",
      "  File \"C:\\Users\\drago\\anaconda3\\envs\\learn-env\\lib\\site-packages\\sklearn\\linear_model\\_logistic.py\", line 438, in _check_solver\n",
      "    raise ValueError(\"Logistic Regression supports only penalties in %s,\"\n",
      "ValueError: Logistic Regression supports only penalties in ['l1', 'l2', 'elasticnet', 'none'], got None.\n",
      "\n",
      "  warnings.warn(\"Estimator fit failed. The score on this train-test\"\n"
     ]
    },
    {
     "name": "stdout",
     "output_type": "stream",
     "text": [
      "[CV]  lf__C=0.01, lf__penalty=None, lf__solver=lbfgs, score=nan, total=   0.1s\n",
      "[CV] lf__C=0.01, lf__penalty=None, lf__solver=lbfgs ..................\n",
      "[CV]  lf__C=0.01, lf__penalty=None, lf__solver=lbfgs, score=nan, total=   0.1s\n",
      "[CV] lf__C=0.01, lf__penalty=None, lf__solver=liblinear ..............\n"
     ]
    },
    {
     "name": "stderr",
     "output_type": "stream",
     "text": [
      "C:\\Users\\drago\\anaconda3\\envs\\learn-env\\lib\\site-packages\\sklearn\\model_selection\\_validation.py:548: FitFailedWarning: Estimator fit failed. The score on this train-test partition for these parameters will be set to nan. Details: \n",
      "Traceback (most recent call last):\n",
      "  File \"C:\\Users\\drago\\anaconda3\\envs\\learn-env\\lib\\site-packages\\sklearn\\model_selection\\_validation.py\", line 531, in _fit_and_score\n",
      "    estimator.fit(X_train, y_train, **fit_params)\n",
      "  File \"C:\\Users\\drago\\anaconda3\\envs\\learn-env\\lib\\site-packages\\sklearn\\pipeline.py\", line 335, in fit\n",
      "    self._final_estimator.fit(Xt, y, **fit_params_last_step)\n",
      "  File \"C:\\Users\\drago\\anaconda3\\envs\\learn-env\\lib\\site-packages\\sklearn\\linear_model\\_logistic.py\", line 1304, in fit\n",
      "    solver = _check_solver(self.solver, self.penalty, self.dual)\n",
      "  File \"C:\\Users\\drago\\anaconda3\\envs\\learn-env\\lib\\site-packages\\sklearn\\linear_model\\_logistic.py\", line 438, in _check_solver\n",
      "    raise ValueError(\"Logistic Regression supports only penalties in %s,\"\n",
      "ValueError: Logistic Regression supports only penalties in ['l1', 'l2', 'elasticnet', 'none'], got None.\n",
      "\n",
      "  warnings.warn(\"Estimator fit failed. The score on this train-test\"\n",
      "C:\\Users\\drago\\anaconda3\\envs\\learn-env\\lib\\site-packages\\sklearn\\model_selection\\_validation.py:548: FitFailedWarning: Estimator fit failed. The score on this train-test partition for these parameters will be set to nan. Details: \n",
      "Traceback (most recent call last):\n",
      "  File \"C:\\Users\\drago\\anaconda3\\envs\\learn-env\\lib\\site-packages\\sklearn\\model_selection\\_validation.py\", line 531, in _fit_and_score\n",
      "    estimator.fit(X_train, y_train, **fit_params)\n",
      "  File \"C:\\Users\\drago\\anaconda3\\envs\\learn-env\\lib\\site-packages\\sklearn\\pipeline.py\", line 335, in fit\n",
      "    self._final_estimator.fit(Xt, y, **fit_params_last_step)\n",
      "  File \"C:\\Users\\drago\\anaconda3\\envs\\learn-env\\lib\\site-packages\\sklearn\\linear_model\\_logistic.py\", line 1304, in fit\n",
      "    solver = _check_solver(self.solver, self.penalty, self.dual)\n",
      "  File \"C:\\Users\\drago\\anaconda3\\envs\\learn-env\\lib\\site-packages\\sklearn\\linear_model\\_logistic.py\", line 438, in _check_solver\n",
      "    raise ValueError(\"Logistic Regression supports only penalties in %s,\"\n",
      "ValueError: Logistic Regression supports only penalties in ['l1', 'l2', 'elasticnet', 'none'], got None.\n",
      "\n",
      "  warnings.warn(\"Estimator fit failed. The score on this train-test\"\n"
     ]
    },
    {
     "name": "stdout",
     "output_type": "stream",
     "text": [
      "[CV]  lf__C=0.01, lf__penalty=None, lf__solver=liblinear, score=nan, total=   0.1s\n",
      "[CV] lf__C=0.01, lf__penalty=None, lf__solver=liblinear ..............\n",
      "[CV]  lf__C=0.01, lf__penalty=None, lf__solver=liblinear, score=nan, total=   0.1s\n",
      "[CV] lf__C=0.01, lf__penalty=None, lf__solver=liblinear ..............\n"
     ]
    },
    {
     "name": "stderr",
     "output_type": "stream",
     "text": [
      "C:\\Users\\drago\\anaconda3\\envs\\learn-env\\lib\\site-packages\\sklearn\\model_selection\\_validation.py:548: FitFailedWarning: Estimator fit failed. The score on this train-test partition for these parameters will be set to nan. Details: \n",
      "Traceback (most recent call last):\n",
      "  File \"C:\\Users\\drago\\anaconda3\\envs\\learn-env\\lib\\site-packages\\sklearn\\model_selection\\_validation.py\", line 531, in _fit_and_score\n",
      "    estimator.fit(X_train, y_train, **fit_params)\n",
      "  File \"C:\\Users\\drago\\anaconda3\\envs\\learn-env\\lib\\site-packages\\sklearn\\pipeline.py\", line 335, in fit\n",
      "    self._final_estimator.fit(Xt, y, **fit_params_last_step)\n",
      "  File \"C:\\Users\\drago\\anaconda3\\envs\\learn-env\\lib\\site-packages\\sklearn\\linear_model\\_logistic.py\", line 1304, in fit\n",
      "    solver = _check_solver(self.solver, self.penalty, self.dual)\n",
      "  File \"C:\\Users\\drago\\anaconda3\\envs\\learn-env\\lib\\site-packages\\sklearn\\linear_model\\_logistic.py\", line 438, in _check_solver\n",
      "    raise ValueError(\"Logistic Regression supports only penalties in %s,\"\n",
      "ValueError: Logistic Regression supports only penalties in ['l1', 'l2', 'elasticnet', 'none'], got None.\n",
      "\n",
      "  warnings.warn(\"Estimator fit failed. The score on this train-test\"\n",
      "C:\\Users\\drago\\anaconda3\\envs\\learn-env\\lib\\site-packages\\sklearn\\model_selection\\_validation.py:548: FitFailedWarning: Estimator fit failed. The score on this train-test partition for these parameters will be set to nan. Details: \n",
      "Traceback (most recent call last):\n",
      "  File \"C:\\Users\\drago\\anaconda3\\envs\\learn-env\\lib\\site-packages\\sklearn\\model_selection\\_validation.py\", line 531, in _fit_and_score\n",
      "    estimator.fit(X_train, y_train, **fit_params)\n",
      "  File \"C:\\Users\\drago\\anaconda3\\envs\\learn-env\\lib\\site-packages\\sklearn\\pipeline.py\", line 335, in fit\n",
      "    self._final_estimator.fit(Xt, y, **fit_params_last_step)\n",
      "  File \"C:\\Users\\drago\\anaconda3\\envs\\learn-env\\lib\\site-packages\\sklearn\\linear_model\\_logistic.py\", line 1304, in fit\n",
      "    solver = _check_solver(self.solver, self.penalty, self.dual)\n",
      "  File \"C:\\Users\\drago\\anaconda3\\envs\\learn-env\\lib\\site-packages\\sklearn\\linear_model\\_logistic.py\", line 438, in _check_solver\n",
      "    raise ValueError(\"Logistic Regression supports only penalties in %s,\"\n",
      "ValueError: Logistic Regression supports only penalties in ['l1', 'l2', 'elasticnet', 'none'], got None.\n",
      "\n",
      "  warnings.warn(\"Estimator fit failed. The score on this train-test\"\n"
     ]
    },
    {
     "name": "stdout",
     "output_type": "stream",
     "text": [
      "[CV]  lf__C=0.01, lf__penalty=None, lf__solver=liblinear, score=nan, total=   0.1s\n",
      "[CV] lf__C=0.01, lf__penalty=None, lf__solver=liblinear ..............\n",
      "[CV]  lf__C=0.01, lf__penalty=None, lf__solver=liblinear, score=nan, total=   0.1s\n",
      "[CV] lf__C=0.01, lf__penalty=None, lf__solver=liblinear ..............\n"
     ]
    },
    {
     "name": "stderr",
     "output_type": "stream",
     "text": [
      "C:\\Users\\drago\\anaconda3\\envs\\learn-env\\lib\\site-packages\\sklearn\\model_selection\\_validation.py:548: FitFailedWarning: Estimator fit failed. The score on this train-test partition for these parameters will be set to nan. Details: \n",
      "Traceback (most recent call last):\n",
      "  File \"C:\\Users\\drago\\anaconda3\\envs\\learn-env\\lib\\site-packages\\sklearn\\model_selection\\_validation.py\", line 531, in _fit_and_score\n",
      "    estimator.fit(X_train, y_train, **fit_params)\n",
      "  File \"C:\\Users\\drago\\anaconda3\\envs\\learn-env\\lib\\site-packages\\sklearn\\pipeline.py\", line 335, in fit\n",
      "    self._final_estimator.fit(Xt, y, **fit_params_last_step)\n",
      "  File \"C:\\Users\\drago\\anaconda3\\envs\\learn-env\\lib\\site-packages\\sklearn\\linear_model\\_logistic.py\", line 1304, in fit\n",
      "    solver = _check_solver(self.solver, self.penalty, self.dual)\n",
      "  File \"C:\\Users\\drago\\anaconda3\\envs\\learn-env\\lib\\site-packages\\sklearn\\linear_model\\_logistic.py\", line 438, in _check_solver\n",
      "    raise ValueError(\"Logistic Regression supports only penalties in %s,\"\n",
      "ValueError: Logistic Regression supports only penalties in ['l1', 'l2', 'elasticnet', 'none'], got None.\n",
      "\n",
      "  warnings.warn(\"Estimator fit failed. The score on this train-test\"\n",
      "C:\\Users\\drago\\anaconda3\\envs\\learn-env\\lib\\site-packages\\sklearn\\model_selection\\_validation.py:548: FitFailedWarning: Estimator fit failed. The score on this train-test partition for these parameters will be set to nan. Details: \n",
      "Traceback (most recent call last):\n",
      "  File \"C:\\Users\\drago\\anaconda3\\envs\\learn-env\\lib\\site-packages\\sklearn\\model_selection\\_validation.py\", line 531, in _fit_and_score\n",
      "    estimator.fit(X_train, y_train, **fit_params)\n",
      "  File \"C:\\Users\\drago\\anaconda3\\envs\\learn-env\\lib\\site-packages\\sklearn\\pipeline.py\", line 335, in fit\n",
      "    self._final_estimator.fit(Xt, y, **fit_params_last_step)\n",
      "  File \"C:\\Users\\drago\\anaconda3\\envs\\learn-env\\lib\\site-packages\\sklearn\\linear_model\\_logistic.py\", line 1304, in fit\n",
      "    solver = _check_solver(self.solver, self.penalty, self.dual)\n",
      "  File \"C:\\Users\\drago\\anaconda3\\envs\\learn-env\\lib\\site-packages\\sklearn\\linear_model\\_logistic.py\", line 438, in _check_solver\n",
      "    raise ValueError(\"Logistic Regression supports only penalties in %s,\"\n",
      "ValueError: Logistic Regression supports only penalties in ['l1', 'l2', 'elasticnet', 'none'], got None.\n",
      "\n",
      "  warnings.warn(\"Estimator fit failed. The score on this train-test\"\n"
     ]
    },
    {
     "name": "stdout",
     "output_type": "stream",
     "text": [
      "[CV]  lf__C=0.01, lf__penalty=None, lf__solver=liblinear, score=nan, total=   0.1s\n",
      "[CV] lf__C=0.01, lf__penalty=None, lf__solver=sag ....................\n",
      "[CV]  lf__C=0.01, lf__penalty=None, lf__solver=sag, score=nan, total=   0.1s\n",
      "[CV] lf__C=0.01, lf__penalty=None, lf__solver=sag ....................\n"
     ]
    },
    {
     "name": "stderr",
     "output_type": "stream",
     "text": [
      "C:\\Users\\drago\\anaconda3\\envs\\learn-env\\lib\\site-packages\\sklearn\\model_selection\\_validation.py:548: FitFailedWarning: Estimator fit failed. The score on this train-test partition for these parameters will be set to nan. Details: \n",
      "Traceback (most recent call last):\n",
      "  File \"C:\\Users\\drago\\anaconda3\\envs\\learn-env\\lib\\site-packages\\sklearn\\model_selection\\_validation.py\", line 531, in _fit_and_score\n",
      "    estimator.fit(X_train, y_train, **fit_params)\n",
      "  File \"C:\\Users\\drago\\anaconda3\\envs\\learn-env\\lib\\site-packages\\sklearn\\pipeline.py\", line 335, in fit\n",
      "    self._final_estimator.fit(Xt, y, **fit_params_last_step)\n",
      "  File \"C:\\Users\\drago\\anaconda3\\envs\\learn-env\\lib\\site-packages\\sklearn\\linear_model\\_logistic.py\", line 1304, in fit\n",
      "    solver = _check_solver(self.solver, self.penalty, self.dual)\n",
      "  File \"C:\\Users\\drago\\anaconda3\\envs\\learn-env\\lib\\site-packages\\sklearn\\linear_model\\_logistic.py\", line 438, in _check_solver\n",
      "    raise ValueError(\"Logistic Regression supports only penalties in %s,\"\n",
      "ValueError: Logistic Regression supports only penalties in ['l1', 'l2', 'elasticnet', 'none'], got None.\n",
      "\n",
      "  warnings.warn(\"Estimator fit failed. The score on this train-test\"\n",
      "C:\\Users\\drago\\anaconda3\\envs\\learn-env\\lib\\site-packages\\sklearn\\model_selection\\_validation.py:548: FitFailedWarning: Estimator fit failed. The score on this train-test partition for these parameters will be set to nan. Details: \n",
      "Traceback (most recent call last):\n",
      "  File \"C:\\Users\\drago\\anaconda3\\envs\\learn-env\\lib\\site-packages\\sklearn\\model_selection\\_validation.py\", line 531, in _fit_and_score\n",
      "    estimator.fit(X_train, y_train, **fit_params)\n",
      "  File \"C:\\Users\\drago\\anaconda3\\envs\\learn-env\\lib\\site-packages\\sklearn\\pipeline.py\", line 335, in fit\n",
      "    self._final_estimator.fit(Xt, y, **fit_params_last_step)\n",
      "  File \"C:\\Users\\drago\\anaconda3\\envs\\learn-env\\lib\\site-packages\\sklearn\\linear_model\\_logistic.py\", line 1304, in fit\n",
      "    solver = _check_solver(self.solver, self.penalty, self.dual)\n",
      "  File \"C:\\Users\\drago\\anaconda3\\envs\\learn-env\\lib\\site-packages\\sklearn\\linear_model\\_logistic.py\", line 438, in _check_solver\n",
      "    raise ValueError(\"Logistic Regression supports only penalties in %s,\"\n",
      "ValueError: Logistic Regression supports only penalties in ['l1', 'l2', 'elasticnet', 'none'], got None.\n",
      "\n",
      "  warnings.warn(\"Estimator fit failed. The score on this train-test\"\n"
     ]
    },
    {
     "name": "stdout",
     "output_type": "stream",
     "text": [
      "[CV]  lf__C=0.01, lf__penalty=None, lf__solver=sag, score=nan, total=   0.1s\n",
      "[CV] lf__C=0.01, lf__penalty=None, lf__solver=sag ....................\n",
      "[CV]  lf__C=0.01, lf__penalty=None, lf__solver=sag, score=nan, total=   0.1s\n",
      "[CV] lf__C=0.01, lf__penalty=None, lf__solver=sag ....................\n"
     ]
    },
    {
     "name": "stderr",
     "output_type": "stream",
     "text": [
      "C:\\Users\\drago\\anaconda3\\envs\\learn-env\\lib\\site-packages\\sklearn\\model_selection\\_validation.py:548: FitFailedWarning: Estimator fit failed. The score on this train-test partition for these parameters will be set to nan. Details: \n",
      "Traceback (most recent call last):\n",
      "  File \"C:\\Users\\drago\\anaconda3\\envs\\learn-env\\lib\\site-packages\\sklearn\\model_selection\\_validation.py\", line 531, in _fit_and_score\n",
      "    estimator.fit(X_train, y_train, **fit_params)\n",
      "  File \"C:\\Users\\drago\\anaconda3\\envs\\learn-env\\lib\\site-packages\\sklearn\\pipeline.py\", line 335, in fit\n",
      "    self._final_estimator.fit(Xt, y, **fit_params_last_step)\n",
      "  File \"C:\\Users\\drago\\anaconda3\\envs\\learn-env\\lib\\site-packages\\sklearn\\linear_model\\_logistic.py\", line 1304, in fit\n",
      "    solver = _check_solver(self.solver, self.penalty, self.dual)\n",
      "  File \"C:\\Users\\drago\\anaconda3\\envs\\learn-env\\lib\\site-packages\\sklearn\\linear_model\\_logistic.py\", line 438, in _check_solver\n",
      "    raise ValueError(\"Logistic Regression supports only penalties in %s,\"\n",
      "ValueError: Logistic Regression supports only penalties in ['l1', 'l2', 'elasticnet', 'none'], got None.\n",
      "\n",
      "  warnings.warn(\"Estimator fit failed. The score on this train-test\"\n",
      "C:\\Users\\drago\\anaconda3\\envs\\learn-env\\lib\\site-packages\\sklearn\\model_selection\\_validation.py:548: FitFailedWarning: Estimator fit failed. The score on this train-test partition for these parameters will be set to nan. Details: \n",
      "Traceback (most recent call last):\n",
      "  File \"C:\\Users\\drago\\anaconda3\\envs\\learn-env\\lib\\site-packages\\sklearn\\model_selection\\_validation.py\", line 531, in _fit_and_score\n",
      "    estimator.fit(X_train, y_train, **fit_params)\n",
      "  File \"C:\\Users\\drago\\anaconda3\\envs\\learn-env\\lib\\site-packages\\sklearn\\pipeline.py\", line 335, in fit\n",
      "    self._final_estimator.fit(Xt, y, **fit_params_last_step)\n",
      "  File \"C:\\Users\\drago\\anaconda3\\envs\\learn-env\\lib\\site-packages\\sklearn\\linear_model\\_logistic.py\", line 1304, in fit\n",
      "    solver = _check_solver(self.solver, self.penalty, self.dual)\n",
      "  File \"C:\\Users\\drago\\anaconda3\\envs\\learn-env\\lib\\site-packages\\sklearn\\linear_model\\_logistic.py\", line 438, in _check_solver\n",
      "    raise ValueError(\"Logistic Regression supports only penalties in %s,\"\n",
      "ValueError: Logistic Regression supports only penalties in ['l1', 'l2', 'elasticnet', 'none'], got None.\n",
      "\n",
      "  warnings.warn(\"Estimator fit failed. The score on this train-test\"\n"
     ]
    },
    {
     "name": "stdout",
     "output_type": "stream",
     "text": [
      "[CV]  lf__C=0.01, lf__penalty=None, lf__solver=sag, score=nan, total=   0.1s\n",
      "[CV] lf__C=0.01, lf__penalty=None, lf__solver=sag ....................\n",
      "[CV]  lf__C=0.01, lf__penalty=None, lf__solver=sag, score=nan, total=   0.1s\n",
      "[CV] lf__C=0.01, lf__penalty=None, lf__solver=saga ...................\n"
     ]
    },
    {
     "name": "stderr",
     "output_type": "stream",
     "text": [
      "C:\\Users\\drago\\anaconda3\\envs\\learn-env\\lib\\site-packages\\sklearn\\model_selection\\_validation.py:548: FitFailedWarning: Estimator fit failed. The score on this train-test partition for these parameters will be set to nan. Details: \n",
      "Traceback (most recent call last):\n",
      "  File \"C:\\Users\\drago\\anaconda3\\envs\\learn-env\\lib\\site-packages\\sklearn\\model_selection\\_validation.py\", line 531, in _fit_and_score\n",
      "    estimator.fit(X_train, y_train, **fit_params)\n",
      "  File \"C:\\Users\\drago\\anaconda3\\envs\\learn-env\\lib\\site-packages\\sklearn\\pipeline.py\", line 335, in fit\n",
      "    self._final_estimator.fit(Xt, y, **fit_params_last_step)\n",
      "  File \"C:\\Users\\drago\\anaconda3\\envs\\learn-env\\lib\\site-packages\\sklearn\\linear_model\\_logistic.py\", line 1304, in fit\n",
      "    solver = _check_solver(self.solver, self.penalty, self.dual)\n",
      "  File \"C:\\Users\\drago\\anaconda3\\envs\\learn-env\\lib\\site-packages\\sklearn\\linear_model\\_logistic.py\", line 438, in _check_solver\n",
      "    raise ValueError(\"Logistic Regression supports only penalties in %s,\"\n",
      "ValueError: Logistic Regression supports only penalties in ['l1', 'l2', 'elasticnet', 'none'], got None.\n",
      "\n",
      "  warnings.warn(\"Estimator fit failed. The score on this train-test\"\n",
      "C:\\Users\\drago\\anaconda3\\envs\\learn-env\\lib\\site-packages\\sklearn\\model_selection\\_validation.py:548: FitFailedWarning: Estimator fit failed. The score on this train-test partition for these parameters will be set to nan. Details: \n",
      "Traceback (most recent call last):\n",
      "  File \"C:\\Users\\drago\\anaconda3\\envs\\learn-env\\lib\\site-packages\\sklearn\\model_selection\\_validation.py\", line 531, in _fit_and_score\n",
      "    estimator.fit(X_train, y_train, **fit_params)\n",
      "  File \"C:\\Users\\drago\\anaconda3\\envs\\learn-env\\lib\\site-packages\\sklearn\\pipeline.py\", line 335, in fit\n",
      "    self._final_estimator.fit(Xt, y, **fit_params_last_step)\n",
      "  File \"C:\\Users\\drago\\anaconda3\\envs\\learn-env\\lib\\site-packages\\sklearn\\linear_model\\_logistic.py\", line 1304, in fit\n",
      "    solver = _check_solver(self.solver, self.penalty, self.dual)\n",
      "  File \"C:\\Users\\drago\\anaconda3\\envs\\learn-env\\lib\\site-packages\\sklearn\\linear_model\\_logistic.py\", line 438, in _check_solver\n",
      "    raise ValueError(\"Logistic Regression supports only penalties in %s,\"\n",
      "ValueError: Logistic Regression supports only penalties in ['l1', 'l2', 'elasticnet', 'none'], got None.\n",
      "\n",
      "  warnings.warn(\"Estimator fit failed. The score on this train-test\"\n"
     ]
    },
    {
     "name": "stdout",
     "output_type": "stream",
     "text": [
      "[CV]  lf__C=0.01, lf__penalty=None, lf__solver=saga, score=nan, total=   0.1s\n",
      "[CV] lf__C=0.01, lf__penalty=None, lf__solver=saga ...................\n",
      "[CV]  lf__C=0.01, lf__penalty=None, lf__solver=saga, score=nan, total=   0.1s\n",
      "[CV] lf__C=0.01, lf__penalty=None, lf__solver=saga ...................\n"
     ]
    },
    {
     "name": "stderr",
     "output_type": "stream",
     "text": [
      "C:\\Users\\drago\\anaconda3\\envs\\learn-env\\lib\\site-packages\\sklearn\\model_selection\\_validation.py:548: FitFailedWarning: Estimator fit failed. The score on this train-test partition for these parameters will be set to nan. Details: \n",
      "Traceback (most recent call last):\n",
      "  File \"C:\\Users\\drago\\anaconda3\\envs\\learn-env\\lib\\site-packages\\sklearn\\model_selection\\_validation.py\", line 531, in _fit_and_score\n",
      "    estimator.fit(X_train, y_train, **fit_params)\n",
      "  File \"C:\\Users\\drago\\anaconda3\\envs\\learn-env\\lib\\site-packages\\sklearn\\pipeline.py\", line 335, in fit\n",
      "    self._final_estimator.fit(Xt, y, **fit_params_last_step)\n",
      "  File \"C:\\Users\\drago\\anaconda3\\envs\\learn-env\\lib\\site-packages\\sklearn\\linear_model\\_logistic.py\", line 1304, in fit\n",
      "    solver = _check_solver(self.solver, self.penalty, self.dual)\n",
      "  File \"C:\\Users\\drago\\anaconda3\\envs\\learn-env\\lib\\site-packages\\sklearn\\linear_model\\_logistic.py\", line 438, in _check_solver\n",
      "    raise ValueError(\"Logistic Regression supports only penalties in %s,\"\n",
      "ValueError: Logistic Regression supports only penalties in ['l1', 'l2', 'elasticnet', 'none'], got None.\n",
      "\n",
      "  warnings.warn(\"Estimator fit failed. The score on this train-test\"\n",
      "C:\\Users\\drago\\anaconda3\\envs\\learn-env\\lib\\site-packages\\sklearn\\model_selection\\_validation.py:548: FitFailedWarning: Estimator fit failed. The score on this train-test partition for these parameters will be set to nan. Details: \n",
      "Traceback (most recent call last):\n",
      "  File \"C:\\Users\\drago\\anaconda3\\envs\\learn-env\\lib\\site-packages\\sklearn\\model_selection\\_validation.py\", line 531, in _fit_and_score\n",
      "    estimator.fit(X_train, y_train, **fit_params)\n",
      "  File \"C:\\Users\\drago\\anaconda3\\envs\\learn-env\\lib\\site-packages\\sklearn\\pipeline.py\", line 335, in fit\n",
      "    self._final_estimator.fit(Xt, y, **fit_params_last_step)\n",
      "  File \"C:\\Users\\drago\\anaconda3\\envs\\learn-env\\lib\\site-packages\\sklearn\\linear_model\\_logistic.py\", line 1304, in fit\n",
      "    solver = _check_solver(self.solver, self.penalty, self.dual)\n",
      "  File \"C:\\Users\\drago\\anaconda3\\envs\\learn-env\\lib\\site-packages\\sklearn\\linear_model\\_logistic.py\", line 438, in _check_solver\n",
      "    raise ValueError(\"Logistic Regression supports only penalties in %s,\"\n",
      "ValueError: Logistic Regression supports only penalties in ['l1', 'l2', 'elasticnet', 'none'], got None.\n",
      "\n",
      "  warnings.warn(\"Estimator fit failed. The score on this train-test\"\n"
     ]
    },
    {
     "name": "stdout",
     "output_type": "stream",
     "text": [
      "[CV]  lf__C=0.01, lf__penalty=None, lf__solver=saga, score=nan, total=   0.1s\n",
      "[CV] lf__C=0.01, lf__penalty=None, lf__solver=saga ...................\n",
      "[CV]  lf__C=0.01, lf__penalty=None, lf__solver=saga, score=nan, total=   0.1s\n",
      "[CV] lf__C=0.01, lf__penalty=None, lf__solver=saga ...................\n"
     ]
    },
    {
     "name": "stderr",
     "output_type": "stream",
     "text": [
      "C:\\Users\\drago\\anaconda3\\envs\\learn-env\\lib\\site-packages\\sklearn\\model_selection\\_validation.py:548: FitFailedWarning: Estimator fit failed. The score on this train-test partition for these parameters will be set to nan. Details: \n",
      "Traceback (most recent call last):\n",
      "  File \"C:\\Users\\drago\\anaconda3\\envs\\learn-env\\lib\\site-packages\\sklearn\\model_selection\\_validation.py\", line 531, in _fit_and_score\n",
      "    estimator.fit(X_train, y_train, **fit_params)\n",
      "  File \"C:\\Users\\drago\\anaconda3\\envs\\learn-env\\lib\\site-packages\\sklearn\\pipeline.py\", line 335, in fit\n",
      "    self._final_estimator.fit(Xt, y, **fit_params_last_step)\n",
      "  File \"C:\\Users\\drago\\anaconda3\\envs\\learn-env\\lib\\site-packages\\sklearn\\linear_model\\_logistic.py\", line 1304, in fit\n",
      "    solver = _check_solver(self.solver, self.penalty, self.dual)\n",
      "  File \"C:\\Users\\drago\\anaconda3\\envs\\learn-env\\lib\\site-packages\\sklearn\\linear_model\\_logistic.py\", line 438, in _check_solver\n",
      "    raise ValueError(\"Logistic Regression supports only penalties in %s,\"\n",
      "ValueError: Logistic Regression supports only penalties in ['l1', 'l2', 'elasticnet', 'none'], got None.\n",
      "\n",
      "  warnings.warn(\"Estimator fit failed. The score on this train-test\"\n",
      "C:\\Users\\drago\\anaconda3\\envs\\learn-env\\lib\\site-packages\\sklearn\\model_selection\\_validation.py:548: FitFailedWarning: Estimator fit failed. The score on this train-test partition for these parameters will be set to nan. Details: \n",
      "Traceback (most recent call last):\n",
      "  File \"C:\\Users\\drago\\anaconda3\\envs\\learn-env\\lib\\site-packages\\sklearn\\model_selection\\_validation.py\", line 531, in _fit_and_score\n",
      "    estimator.fit(X_train, y_train, **fit_params)\n",
      "  File \"C:\\Users\\drago\\anaconda3\\envs\\learn-env\\lib\\site-packages\\sklearn\\pipeline.py\", line 335, in fit\n",
      "    self._final_estimator.fit(Xt, y, **fit_params_last_step)\n",
      "  File \"C:\\Users\\drago\\anaconda3\\envs\\learn-env\\lib\\site-packages\\sklearn\\linear_model\\_logistic.py\", line 1304, in fit\n",
      "    solver = _check_solver(self.solver, self.penalty, self.dual)\n",
      "  File \"C:\\Users\\drago\\anaconda3\\envs\\learn-env\\lib\\site-packages\\sklearn\\linear_model\\_logistic.py\", line 438, in _check_solver\n",
      "    raise ValueError(\"Logistic Regression supports only penalties in %s,\"\n",
      "ValueError: Logistic Regression supports only penalties in ['l1', 'l2', 'elasticnet', 'none'], got None.\n",
      "\n",
      "  warnings.warn(\"Estimator fit failed. The score on this train-test\"\n"
     ]
    },
    {
     "name": "stdout",
     "output_type": "stream",
     "text": [
      "[CV]  lf__C=0.01, lf__penalty=None, lf__solver=saga, score=nan, total=   0.1s\n",
      "[CV] lf__C=0.001, lf__penalty=l1, lf__solver=newton-cg ...............\n",
      "[CV]  lf__C=0.001, lf__penalty=l1, lf__solver=newton-cg, score=nan, total=   0.1s\n",
      "[CV] lf__C=0.001, lf__penalty=l1, lf__solver=newton-cg ...............\n"
     ]
    },
    {
     "name": "stderr",
     "output_type": "stream",
     "text": [
      "C:\\Users\\drago\\anaconda3\\envs\\learn-env\\lib\\site-packages\\sklearn\\model_selection\\_validation.py:548: FitFailedWarning: Estimator fit failed. The score on this train-test partition for these parameters will be set to nan. Details: \n",
      "Traceback (most recent call last):\n",
      "  File \"C:\\Users\\drago\\anaconda3\\envs\\learn-env\\lib\\site-packages\\sklearn\\model_selection\\_validation.py\", line 531, in _fit_and_score\n",
      "    estimator.fit(X_train, y_train, **fit_params)\n",
      "  File \"C:\\Users\\drago\\anaconda3\\envs\\learn-env\\lib\\site-packages\\sklearn\\pipeline.py\", line 335, in fit\n",
      "    self._final_estimator.fit(Xt, y, **fit_params_last_step)\n",
      "  File \"C:\\Users\\drago\\anaconda3\\envs\\learn-env\\lib\\site-packages\\sklearn\\linear_model\\_logistic.py\", line 1304, in fit\n",
      "    solver = _check_solver(self.solver, self.penalty, self.dual)\n",
      "  File \"C:\\Users\\drago\\anaconda3\\envs\\learn-env\\lib\\site-packages\\sklearn\\linear_model\\_logistic.py\", line 442, in _check_solver\n",
      "    raise ValueError(\"Solver %s supports only 'l2' or 'none' penalties, \"\n",
      "ValueError: Solver newton-cg supports only 'l2' or 'none' penalties, got l1 penalty.\n",
      "\n",
      "  warnings.warn(\"Estimator fit failed. The score on this train-test\"\n",
      "C:\\Users\\drago\\anaconda3\\envs\\learn-env\\lib\\site-packages\\sklearn\\model_selection\\_validation.py:548: FitFailedWarning: Estimator fit failed. The score on this train-test partition for these parameters will be set to nan. Details: \n",
      "Traceback (most recent call last):\n",
      "  File \"C:\\Users\\drago\\anaconda3\\envs\\learn-env\\lib\\site-packages\\sklearn\\model_selection\\_validation.py\", line 531, in _fit_and_score\n",
      "    estimator.fit(X_train, y_train, **fit_params)\n",
      "  File \"C:\\Users\\drago\\anaconda3\\envs\\learn-env\\lib\\site-packages\\sklearn\\pipeline.py\", line 335, in fit\n",
      "    self._final_estimator.fit(Xt, y, **fit_params_last_step)\n",
      "  File \"C:\\Users\\drago\\anaconda3\\envs\\learn-env\\lib\\site-packages\\sklearn\\linear_model\\_logistic.py\", line 1304, in fit\n",
      "    solver = _check_solver(self.solver, self.penalty, self.dual)\n",
      "  File \"C:\\Users\\drago\\anaconda3\\envs\\learn-env\\lib\\site-packages\\sklearn\\linear_model\\_logistic.py\", line 442, in _check_solver\n",
      "    raise ValueError(\"Solver %s supports only 'l2' or 'none' penalties, \"\n",
      "ValueError: Solver newton-cg supports only 'l2' or 'none' penalties, got l1 penalty.\n",
      "\n",
      "  warnings.warn(\"Estimator fit failed. The score on this train-test\"\n"
     ]
    },
    {
     "name": "stdout",
     "output_type": "stream",
     "text": [
      "[CV]  lf__C=0.001, lf__penalty=l1, lf__solver=newton-cg, score=nan, total=   0.1s\n",
      "[CV] lf__C=0.001, lf__penalty=l1, lf__solver=newton-cg ...............\n",
      "[CV]  lf__C=0.001, lf__penalty=l1, lf__solver=newton-cg, score=nan, total=   0.1s\n",
      "[CV] lf__C=0.001, lf__penalty=l1, lf__solver=newton-cg ...............\n"
     ]
    },
    {
     "name": "stderr",
     "output_type": "stream",
     "text": [
      "C:\\Users\\drago\\anaconda3\\envs\\learn-env\\lib\\site-packages\\sklearn\\model_selection\\_validation.py:548: FitFailedWarning: Estimator fit failed. The score on this train-test partition for these parameters will be set to nan. Details: \n",
      "Traceback (most recent call last):\n",
      "  File \"C:\\Users\\drago\\anaconda3\\envs\\learn-env\\lib\\site-packages\\sklearn\\model_selection\\_validation.py\", line 531, in _fit_and_score\n",
      "    estimator.fit(X_train, y_train, **fit_params)\n",
      "  File \"C:\\Users\\drago\\anaconda3\\envs\\learn-env\\lib\\site-packages\\sklearn\\pipeline.py\", line 335, in fit\n",
      "    self._final_estimator.fit(Xt, y, **fit_params_last_step)\n",
      "  File \"C:\\Users\\drago\\anaconda3\\envs\\learn-env\\lib\\site-packages\\sklearn\\linear_model\\_logistic.py\", line 1304, in fit\n",
      "    solver = _check_solver(self.solver, self.penalty, self.dual)\n",
      "  File \"C:\\Users\\drago\\anaconda3\\envs\\learn-env\\lib\\site-packages\\sklearn\\linear_model\\_logistic.py\", line 442, in _check_solver\n",
      "    raise ValueError(\"Solver %s supports only 'l2' or 'none' penalties, \"\n",
      "ValueError: Solver newton-cg supports only 'l2' or 'none' penalties, got l1 penalty.\n",
      "\n",
      "  warnings.warn(\"Estimator fit failed. The score on this train-test\"\n",
      "C:\\Users\\drago\\anaconda3\\envs\\learn-env\\lib\\site-packages\\sklearn\\model_selection\\_validation.py:548: FitFailedWarning: Estimator fit failed. The score on this train-test partition for these parameters will be set to nan. Details: \n",
      "Traceback (most recent call last):\n",
      "  File \"C:\\Users\\drago\\anaconda3\\envs\\learn-env\\lib\\site-packages\\sklearn\\model_selection\\_validation.py\", line 531, in _fit_and_score\n",
      "    estimator.fit(X_train, y_train, **fit_params)\n",
      "  File \"C:\\Users\\drago\\anaconda3\\envs\\learn-env\\lib\\site-packages\\sklearn\\pipeline.py\", line 335, in fit\n",
      "    self._final_estimator.fit(Xt, y, **fit_params_last_step)\n",
      "  File \"C:\\Users\\drago\\anaconda3\\envs\\learn-env\\lib\\site-packages\\sklearn\\linear_model\\_logistic.py\", line 1304, in fit\n",
      "    solver = _check_solver(self.solver, self.penalty, self.dual)\n",
      "  File \"C:\\Users\\drago\\anaconda3\\envs\\learn-env\\lib\\site-packages\\sklearn\\linear_model\\_logistic.py\", line 442, in _check_solver\n",
      "    raise ValueError(\"Solver %s supports only 'l2' or 'none' penalties, \"\n",
      "ValueError: Solver newton-cg supports only 'l2' or 'none' penalties, got l1 penalty.\n",
      "\n",
      "  warnings.warn(\"Estimator fit failed. The score on this train-test\"\n"
     ]
    },
    {
     "name": "stdout",
     "output_type": "stream",
     "text": [
      "[CV]  lf__C=0.001, lf__penalty=l1, lf__solver=newton-cg, score=nan, total=   0.1s\n",
      "[CV] lf__C=0.001, lf__penalty=l1, lf__solver=newton-cg ...............\n",
      "[CV]  lf__C=0.001, lf__penalty=l1, lf__solver=newton-cg, score=nan, total=   0.1s\n",
      "[CV] lf__C=0.001, lf__penalty=l1, lf__solver=lbfgs ...................\n"
     ]
    },
    {
     "name": "stderr",
     "output_type": "stream",
     "text": [
      "C:\\Users\\drago\\anaconda3\\envs\\learn-env\\lib\\site-packages\\sklearn\\model_selection\\_validation.py:548: FitFailedWarning: Estimator fit failed. The score on this train-test partition for these parameters will be set to nan. Details: \n",
      "Traceback (most recent call last):\n",
      "  File \"C:\\Users\\drago\\anaconda3\\envs\\learn-env\\lib\\site-packages\\sklearn\\model_selection\\_validation.py\", line 531, in _fit_and_score\n",
      "    estimator.fit(X_train, y_train, **fit_params)\n",
      "  File \"C:\\Users\\drago\\anaconda3\\envs\\learn-env\\lib\\site-packages\\sklearn\\pipeline.py\", line 335, in fit\n",
      "    self._final_estimator.fit(Xt, y, **fit_params_last_step)\n",
      "  File \"C:\\Users\\drago\\anaconda3\\envs\\learn-env\\lib\\site-packages\\sklearn\\linear_model\\_logistic.py\", line 1304, in fit\n",
      "    solver = _check_solver(self.solver, self.penalty, self.dual)\n",
      "  File \"C:\\Users\\drago\\anaconda3\\envs\\learn-env\\lib\\site-packages\\sklearn\\linear_model\\_logistic.py\", line 442, in _check_solver\n",
      "    raise ValueError(\"Solver %s supports only 'l2' or 'none' penalties, \"\n",
      "ValueError: Solver newton-cg supports only 'l2' or 'none' penalties, got l1 penalty.\n",
      "\n",
      "  warnings.warn(\"Estimator fit failed. The score on this train-test\"\n",
      "C:\\Users\\drago\\anaconda3\\envs\\learn-env\\lib\\site-packages\\sklearn\\model_selection\\_validation.py:548: FitFailedWarning: Estimator fit failed. The score on this train-test partition for these parameters will be set to nan. Details: \n",
      "Traceback (most recent call last):\n",
      "  File \"C:\\Users\\drago\\anaconda3\\envs\\learn-env\\lib\\site-packages\\sklearn\\model_selection\\_validation.py\", line 531, in _fit_and_score\n",
      "    estimator.fit(X_train, y_train, **fit_params)\n",
      "  File \"C:\\Users\\drago\\anaconda3\\envs\\learn-env\\lib\\site-packages\\sklearn\\pipeline.py\", line 335, in fit\n",
      "    self._final_estimator.fit(Xt, y, **fit_params_last_step)\n",
      "  File \"C:\\Users\\drago\\anaconda3\\envs\\learn-env\\lib\\site-packages\\sklearn\\linear_model\\_logistic.py\", line 1304, in fit\n",
      "    solver = _check_solver(self.solver, self.penalty, self.dual)\n",
      "  File \"C:\\Users\\drago\\anaconda3\\envs\\learn-env\\lib\\site-packages\\sklearn\\linear_model\\_logistic.py\", line 442, in _check_solver\n",
      "    raise ValueError(\"Solver %s supports only 'l2' or 'none' penalties, \"\n",
      "ValueError: Solver lbfgs supports only 'l2' or 'none' penalties, got l1 penalty.\n",
      "\n",
      "  warnings.warn(\"Estimator fit failed. The score on this train-test\"\n"
     ]
    },
    {
     "name": "stdout",
     "output_type": "stream",
     "text": [
      "[CV]  lf__C=0.001, lf__penalty=l1, lf__solver=lbfgs, score=nan, total=   0.1s\n",
      "[CV] lf__C=0.001, lf__penalty=l1, lf__solver=lbfgs ...................\n",
      "[CV]  lf__C=0.001, lf__penalty=l1, lf__solver=lbfgs, score=nan, total=   0.1s\n",
      "[CV] lf__C=0.001, lf__penalty=l1, lf__solver=lbfgs ...................\n"
     ]
    },
    {
     "name": "stderr",
     "output_type": "stream",
     "text": [
      "C:\\Users\\drago\\anaconda3\\envs\\learn-env\\lib\\site-packages\\sklearn\\model_selection\\_validation.py:548: FitFailedWarning: Estimator fit failed. The score on this train-test partition for these parameters will be set to nan. Details: \n",
      "Traceback (most recent call last):\n",
      "  File \"C:\\Users\\drago\\anaconda3\\envs\\learn-env\\lib\\site-packages\\sklearn\\model_selection\\_validation.py\", line 531, in _fit_and_score\n",
      "    estimator.fit(X_train, y_train, **fit_params)\n",
      "  File \"C:\\Users\\drago\\anaconda3\\envs\\learn-env\\lib\\site-packages\\sklearn\\pipeline.py\", line 335, in fit\n",
      "    self._final_estimator.fit(Xt, y, **fit_params_last_step)\n",
      "  File \"C:\\Users\\drago\\anaconda3\\envs\\learn-env\\lib\\site-packages\\sklearn\\linear_model\\_logistic.py\", line 1304, in fit\n",
      "    solver = _check_solver(self.solver, self.penalty, self.dual)\n",
      "  File \"C:\\Users\\drago\\anaconda3\\envs\\learn-env\\lib\\site-packages\\sklearn\\linear_model\\_logistic.py\", line 442, in _check_solver\n",
      "    raise ValueError(\"Solver %s supports only 'l2' or 'none' penalties, \"\n",
      "ValueError: Solver lbfgs supports only 'l2' or 'none' penalties, got l1 penalty.\n",
      "\n",
      "  warnings.warn(\"Estimator fit failed. The score on this train-test\"\n",
      "C:\\Users\\drago\\anaconda3\\envs\\learn-env\\lib\\site-packages\\sklearn\\model_selection\\_validation.py:548: FitFailedWarning: Estimator fit failed. The score on this train-test partition for these parameters will be set to nan. Details: \n",
      "Traceback (most recent call last):\n",
      "  File \"C:\\Users\\drago\\anaconda3\\envs\\learn-env\\lib\\site-packages\\sklearn\\model_selection\\_validation.py\", line 531, in _fit_and_score\n",
      "    estimator.fit(X_train, y_train, **fit_params)\n",
      "  File \"C:\\Users\\drago\\anaconda3\\envs\\learn-env\\lib\\site-packages\\sklearn\\pipeline.py\", line 335, in fit\n",
      "    self._final_estimator.fit(Xt, y, **fit_params_last_step)\n",
      "  File \"C:\\Users\\drago\\anaconda3\\envs\\learn-env\\lib\\site-packages\\sklearn\\linear_model\\_logistic.py\", line 1304, in fit\n",
      "    solver = _check_solver(self.solver, self.penalty, self.dual)\n",
      "  File \"C:\\Users\\drago\\anaconda3\\envs\\learn-env\\lib\\site-packages\\sklearn\\linear_model\\_logistic.py\", line 442, in _check_solver\n",
      "    raise ValueError(\"Solver %s supports only 'l2' or 'none' penalties, \"\n",
      "ValueError: Solver lbfgs supports only 'l2' or 'none' penalties, got l1 penalty.\n",
      "\n",
      "  warnings.warn(\"Estimator fit failed. The score on this train-test\"\n"
     ]
    },
    {
     "name": "stdout",
     "output_type": "stream",
     "text": [
      "[CV]  lf__C=0.001, lf__penalty=l1, lf__solver=lbfgs, score=nan, total=   0.1s\n",
      "[CV] lf__C=0.001, lf__penalty=l1, lf__solver=lbfgs ...................\n",
      "[CV]  lf__C=0.001, lf__penalty=l1, lf__solver=lbfgs, score=nan, total=   0.1s\n",
      "[CV] lf__C=0.001, lf__penalty=l1, lf__solver=lbfgs ...................\n"
     ]
    },
    {
     "name": "stderr",
     "output_type": "stream",
     "text": [
      "C:\\Users\\drago\\anaconda3\\envs\\learn-env\\lib\\site-packages\\sklearn\\model_selection\\_validation.py:548: FitFailedWarning: Estimator fit failed. The score on this train-test partition for these parameters will be set to nan. Details: \n",
      "Traceback (most recent call last):\n",
      "  File \"C:\\Users\\drago\\anaconda3\\envs\\learn-env\\lib\\site-packages\\sklearn\\model_selection\\_validation.py\", line 531, in _fit_and_score\n",
      "    estimator.fit(X_train, y_train, **fit_params)\n",
      "  File \"C:\\Users\\drago\\anaconda3\\envs\\learn-env\\lib\\site-packages\\sklearn\\pipeline.py\", line 335, in fit\n",
      "    self._final_estimator.fit(Xt, y, **fit_params_last_step)\n",
      "  File \"C:\\Users\\drago\\anaconda3\\envs\\learn-env\\lib\\site-packages\\sklearn\\linear_model\\_logistic.py\", line 1304, in fit\n",
      "    solver = _check_solver(self.solver, self.penalty, self.dual)\n",
      "  File \"C:\\Users\\drago\\anaconda3\\envs\\learn-env\\lib\\site-packages\\sklearn\\linear_model\\_logistic.py\", line 442, in _check_solver\n",
      "    raise ValueError(\"Solver %s supports only 'l2' or 'none' penalties, \"\n",
      "ValueError: Solver lbfgs supports only 'l2' or 'none' penalties, got l1 penalty.\n",
      "\n",
      "  warnings.warn(\"Estimator fit failed. The score on this train-test\"\n",
      "C:\\Users\\drago\\anaconda3\\envs\\learn-env\\lib\\site-packages\\sklearn\\model_selection\\_validation.py:548: FitFailedWarning: Estimator fit failed. The score on this train-test partition for these parameters will be set to nan. Details: \n",
      "Traceback (most recent call last):\n",
      "  File \"C:\\Users\\drago\\anaconda3\\envs\\learn-env\\lib\\site-packages\\sklearn\\model_selection\\_validation.py\", line 531, in _fit_and_score\n",
      "    estimator.fit(X_train, y_train, **fit_params)\n",
      "  File \"C:\\Users\\drago\\anaconda3\\envs\\learn-env\\lib\\site-packages\\sklearn\\pipeline.py\", line 335, in fit\n",
      "    self._final_estimator.fit(Xt, y, **fit_params_last_step)\n",
      "  File \"C:\\Users\\drago\\anaconda3\\envs\\learn-env\\lib\\site-packages\\sklearn\\linear_model\\_logistic.py\", line 1304, in fit\n",
      "    solver = _check_solver(self.solver, self.penalty, self.dual)\n",
      "  File \"C:\\Users\\drago\\anaconda3\\envs\\learn-env\\lib\\site-packages\\sklearn\\linear_model\\_logistic.py\", line 442, in _check_solver\n",
      "    raise ValueError(\"Solver %s supports only 'l2' or 'none' penalties, \"\n",
      "ValueError: Solver lbfgs supports only 'l2' or 'none' penalties, got l1 penalty.\n",
      "\n",
      "  warnings.warn(\"Estimator fit failed. The score on this train-test\"\n"
     ]
    },
    {
     "name": "stdout",
     "output_type": "stream",
     "text": [
      "[CV]  lf__C=0.001, lf__penalty=l1, lf__solver=lbfgs, score=nan, total=   0.1s\n",
      "[CV] lf__C=0.001, lf__penalty=l1, lf__solver=liblinear ...............\n",
      "[CV]  lf__C=0.001, lf__penalty=l1, lf__solver=liblinear, score=0.430, total=   0.3s\n",
      "[CV] lf__C=0.001, lf__penalty=l1, lf__solver=liblinear ...............\n",
      "[CV]  lf__C=0.001, lf__penalty=l1, lf__solver=liblinear, score=0.441, total=   0.3s\n",
      "[CV] lf__C=0.001, lf__penalty=l1, lf__solver=liblinear ...............\n",
      "[CV]  lf__C=0.001, lf__penalty=l1, lf__solver=liblinear, score=0.433, total=   0.3s\n",
      "[CV] lf__C=0.001, lf__penalty=l1, lf__solver=liblinear ...............\n",
      "[CV]  lf__C=0.001, lf__penalty=l1, lf__solver=liblinear, score=0.445, total=   0.4s\n",
      "[CV] lf__C=0.001, lf__penalty=l1, lf__solver=liblinear ...............\n",
      "[CV]  lf__C=0.001, lf__penalty=l1, lf__solver=liblinear, score=0.435, total=   0.3s\n",
      "[CV] lf__C=0.001, lf__penalty=l1, lf__solver=sag .....................\n",
      "[CV]  lf__C=0.001, lf__penalty=l1, lf__solver=sag, score=nan, total=   0.1s\n",
      "[CV] lf__C=0.001, lf__penalty=l1, lf__solver=sag .....................\n"
     ]
    },
    {
     "name": "stderr",
     "output_type": "stream",
     "text": [
      "C:\\Users\\drago\\anaconda3\\envs\\learn-env\\lib\\site-packages\\sklearn\\model_selection\\_validation.py:548: FitFailedWarning: Estimator fit failed. The score on this train-test partition for these parameters will be set to nan. Details: \n",
      "Traceback (most recent call last):\n",
      "  File \"C:\\Users\\drago\\anaconda3\\envs\\learn-env\\lib\\site-packages\\sklearn\\model_selection\\_validation.py\", line 531, in _fit_and_score\n",
      "    estimator.fit(X_train, y_train, **fit_params)\n",
      "  File \"C:\\Users\\drago\\anaconda3\\envs\\learn-env\\lib\\site-packages\\sklearn\\pipeline.py\", line 335, in fit\n",
      "    self._final_estimator.fit(Xt, y, **fit_params_last_step)\n",
      "  File \"C:\\Users\\drago\\anaconda3\\envs\\learn-env\\lib\\site-packages\\sklearn\\linear_model\\_logistic.py\", line 1304, in fit\n",
      "    solver = _check_solver(self.solver, self.penalty, self.dual)\n",
      "  File \"C:\\Users\\drago\\anaconda3\\envs\\learn-env\\lib\\site-packages\\sklearn\\linear_model\\_logistic.py\", line 442, in _check_solver\n",
      "    raise ValueError(\"Solver %s supports only 'l2' or 'none' penalties, \"\n",
      "ValueError: Solver sag supports only 'l2' or 'none' penalties, got l1 penalty.\n",
      "\n",
      "  warnings.warn(\"Estimator fit failed. The score on this train-test\"\n",
      "C:\\Users\\drago\\anaconda3\\envs\\learn-env\\lib\\site-packages\\sklearn\\model_selection\\_validation.py:548: FitFailedWarning: Estimator fit failed. The score on this train-test partition for these parameters will be set to nan. Details: \n",
      "Traceback (most recent call last):\n",
      "  File \"C:\\Users\\drago\\anaconda3\\envs\\learn-env\\lib\\site-packages\\sklearn\\model_selection\\_validation.py\", line 531, in _fit_and_score\n",
      "    estimator.fit(X_train, y_train, **fit_params)\n",
      "  File \"C:\\Users\\drago\\anaconda3\\envs\\learn-env\\lib\\site-packages\\sklearn\\pipeline.py\", line 335, in fit\n",
      "    self._final_estimator.fit(Xt, y, **fit_params_last_step)\n",
      "  File \"C:\\Users\\drago\\anaconda3\\envs\\learn-env\\lib\\site-packages\\sklearn\\linear_model\\_logistic.py\", line 1304, in fit\n",
      "    solver = _check_solver(self.solver, self.penalty, self.dual)\n",
      "  File \"C:\\Users\\drago\\anaconda3\\envs\\learn-env\\lib\\site-packages\\sklearn\\linear_model\\_logistic.py\", line 442, in _check_solver\n",
      "    raise ValueError(\"Solver %s supports only 'l2' or 'none' penalties, \"\n",
      "ValueError: Solver sag supports only 'l2' or 'none' penalties, got l1 penalty.\n",
      "\n",
      "  warnings.warn(\"Estimator fit failed. The score on this train-test\"\n"
     ]
    },
    {
     "name": "stdout",
     "output_type": "stream",
     "text": [
      "[CV]  lf__C=0.001, lf__penalty=l1, lf__solver=sag, score=nan, total=   0.1s\n",
      "[CV] lf__C=0.001, lf__penalty=l1, lf__solver=sag .....................\n",
      "[CV]  lf__C=0.001, lf__penalty=l1, lf__solver=sag, score=nan, total=   0.1s\n",
      "[CV] lf__C=0.001, lf__penalty=l1, lf__solver=sag .....................\n"
     ]
    },
    {
     "name": "stderr",
     "output_type": "stream",
     "text": [
      "C:\\Users\\drago\\anaconda3\\envs\\learn-env\\lib\\site-packages\\sklearn\\model_selection\\_validation.py:548: FitFailedWarning: Estimator fit failed. The score on this train-test partition for these parameters will be set to nan. Details: \n",
      "Traceback (most recent call last):\n",
      "  File \"C:\\Users\\drago\\anaconda3\\envs\\learn-env\\lib\\site-packages\\sklearn\\model_selection\\_validation.py\", line 531, in _fit_and_score\n",
      "    estimator.fit(X_train, y_train, **fit_params)\n",
      "  File \"C:\\Users\\drago\\anaconda3\\envs\\learn-env\\lib\\site-packages\\sklearn\\pipeline.py\", line 335, in fit\n",
      "    self._final_estimator.fit(Xt, y, **fit_params_last_step)\n",
      "  File \"C:\\Users\\drago\\anaconda3\\envs\\learn-env\\lib\\site-packages\\sklearn\\linear_model\\_logistic.py\", line 1304, in fit\n",
      "    solver = _check_solver(self.solver, self.penalty, self.dual)\n",
      "  File \"C:\\Users\\drago\\anaconda3\\envs\\learn-env\\lib\\site-packages\\sklearn\\linear_model\\_logistic.py\", line 442, in _check_solver\n",
      "    raise ValueError(\"Solver %s supports only 'l2' or 'none' penalties, \"\n",
      "ValueError: Solver sag supports only 'l2' or 'none' penalties, got l1 penalty.\n",
      "\n",
      "  warnings.warn(\"Estimator fit failed. The score on this train-test\"\n",
      "C:\\Users\\drago\\anaconda3\\envs\\learn-env\\lib\\site-packages\\sklearn\\model_selection\\_validation.py:548: FitFailedWarning: Estimator fit failed. The score on this train-test partition for these parameters will be set to nan. Details: \n",
      "Traceback (most recent call last):\n",
      "  File \"C:\\Users\\drago\\anaconda3\\envs\\learn-env\\lib\\site-packages\\sklearn\\model_selection\\_validation.py\", line 531, in _fit_and_score\n",
      "    estimator.fit(X_train, y_train, **fit_params)\n",
      "  File \"C:\\Users\\drago\\anaconda3\\envs\\learn-env\\lib\\site-packages\\sklearn\\pipeline.py\", line 335, in fit\n",
      "    self._final_estimator.fit(Xt, y, **fit_params_last_step)\n",
      "  File \"C:\\Users\\drago\\anaconda3\\envs\\learn-env\\lib\\site-packages\\sklearn\\linear_model\\_logistic.py\", line 1304, in fit\n",
      "    solver = _check_solver(self.solver, self.penalty, self.dual)\n",
      "  File \"C:\\Users\\drago\\anaconda3\\envs\\learn-env\\lib\\site-packages\\sklearn\\linear_model\\_logistic.py\", line 442, in _check_solver\n",
      "    raise ValueError(\"Solver %s supports only 'l2' or 'none' penalties, \"\n",
      "ValueError: Solver sag supports only 'l2' or 'none' penalties, got l1 penalty.\n",
      "\n",
      "  warnings.warn(\"Estimator fit failed. The score on this train-test\"\n"
     ]
    },
    {
     "name": "stdout",
     "output_type": "stream",
     "text": [
      "[CV]  lf__C=0.001, lf__penalty=l1, lf__solver=sag, score=nan, total=   0.1s\n",
      "[CV] lf__C=0.001, lf__penalty=l1, lf__solver=sag .....................\n",
      "[CV]  lf__C=0.001, lf__penalty=l1, lf__solver=sag, score=nan, total=   0.1s\n",
      "[CV] lf__C=0.001, lf__penalty=l1, lf__solver=saga ....................\n"
     ]
    },
    {
     "name": "stderr",
     "output_type": "stream",
     "text": [
      "C:\\Users\\drago\\anaconda3\\envs\\learn-env\\lib\\site-packages\\sklearn\\model_selection\\_validation.py:548: FitFailedWarning: Estimator fit failed. The score on this train-test partition for these parameters will be set to nan. Details: \n",
      "Traceback (most recent call last):\n",
      "  File \"C:\\Users\\drago\\anaconda3\\envs\\learn-env\\lib\\site-packages\\sklearn\\model_selection\\_validation.py\", line 531, in _fit_and_score\n",
      "    estimator.fit(X_train, y_train, **fit_params)\n",
      "  File \"C:\\Users\\drago\\anaconda3\\envs\\learn-env\\lib\\site-packages\\sklearn\\pipeline.py\", line 335, in fit\n",
      "    self._final_estimator.fit(Xt, y, **fit_params_last_step)\n",
      "  File \"C:\\Users\\drago\\anaconda3\\envs\\learn-env\\lib\\site-packages\\sklearn\\linear_model\\_logistic.py\", line 1304, in fit\n",
      "    solver = _check_solver(self.solver, self.penalty, self.dual)\n",
      "  File \"C:\\Users\\drago\\anaconda3\\envs\\learn-env\\lib\\site-packages\\sklearn\\linear_model\\_logistic.py\", line 442, in _check_solver\n",
      "    raise ValueError(\"Solver %s supports only 'l2' or 'none' penalties, \"\n",
      "ValueError: Solver sag supports only 'l2' or 'none' penalties, got l1 penalty.\n",
      "\n",
      "  warnings.warn(\"Estimator fit failed. The score on this train-test\"\n"
     ]
    },
    {
     "name": "stdout",
     "output_type": "stream",
     "text": [
      "[CV]  lf__C=0.001, lf__penalty=l1, lf__solver=saga, score=0.481, total=   1.9s\n",
      "[CV] lf__C=0.001, lf__penalty=l1, lf__solver=saga ....................\n",
      "[CV]  lf__C=0.001, lf__penalty=l1, lf__solver=saga, score=0.487, total=   2.0s\n",
      "[CV] lf__C=0.001, lf__penalty=l1, lf__solver=saga ....................\n",
      "[CV]  lf__C=0.001, lf__penalty=l1, lf__solver=saga, score=0.477, total=   2.2s\n",
      "[CV] lf__C=0.001, lf__penalty=l1, lf__solver=saga ....................\n",
      "[CV]  lf__C=0.001, lf__penalty=l1, lf__solver=saga, score=0.491, total=   2.4s\n",
      "[CV] lf__C=0.001, lf__penalty=l1, lf__solver=saga ....................\n",
      "[CV]  lf__C=0.001, lf__penalty=l1, lf__solver=saga, score=0.484, total=   2.1s\n",
      "[CV] lf__C=0.001, lf__penalty=l2, lf__solver=newton-cg ...............\n",
      "[CV]  lf__C=0.001, lf__penalty=l2, lf__solver=newton-cg, score=0.589, total=   1.2s\n",
      "[CV] lf__C=0.001, lf__penalty=l2, lf__solver=newton-cg ...............\n",
      "[CV]  lf__C=0.001, lf__penalty=l2, lf__solver=newton-cg, score=0.589, total=   1.2s\n",
      "[CV] lf__C=0.001, lf__penalty=l2, lf__solver=newton-cg ...............\n",
      "[CV]  lf__C=0.001, lf__penalty=l2, lf__solver=newton-cg, score=0.596, total=   1.3s\n",
      "[CV] lf__C=0.001, lf__penalty=l2, lf__solver=newton-cg ...............\n",
      "[CV]  lf__C=0.001, lf__penalty=l2, lf__solver=newton-cg, score=0.588, total=   1.4s\n",
      "[CV] lf__C=0.001, lf__penalty=l2, lf__solver=newton-cg ...............\n",
      "[CV]  lf__C=0.001, lf__penalty=l2, lf__solver=newton-cg, score=0.586, total=   1.2s\n",
      "[CV] lf__C=0.001, lf__penalty=l2, lf__solver=lbfgs ...................\n",
      "[CV]  lf__C=0.001, lf__penalty=l2, lf__solver=lbfgs, score=0.589, total=   0.8s\n",
      "[CV] lf__C=0.001, lf__penalty=l2, lf__solver=lbfgs ...................\n",
      "[CV]  lf__C=0.001, lf__penalty=l2, lf__solver=lbfgs, score=0.589, total=   0.8s\n",
      "[CV] lf__C=0.001, lf__penalty=l2, lf__solver=lbfgs ...................\n",
      "[CV]  lf__C=0.001, lf__penalty=l2, lf__solver=lbfgs, score=0.596, total=   0.8s\n",
      "[CV] lf__C=0.001, lf__penalty=l2, lf__solver=lbfgs ...................\n",
      "[CV]  lf__C=0.001, lf__penalty=l2, lf__solver=lbfgs, score=0.588, total=   0.8s\n",
      "[CV] lf__C=0.001, lf__penalty=l2, lf__solver=lbfgs ...................\n",
      "[CV]  lf__C=0.001, lf__penalty=l2, lf__solver=lbfgs, score=0.586, total=   0.8s\n",
      "[CV] lf__C=0.001, lf__penalty=l2, lf__solver=liblinear ...............\n",
      "[CV]  lf__C=0.001, lf__penalty=l2, lf__solver=liblinear, score=0.511, total=   0.4s\n",
      "[CV] lf__C=0.001, lf__penalty=l2, lf__solver=liblinear ...............\n",
      "[CV]  lf__C=0.001, lf__penalty=l2, lf__solver=liblinear, score=0.511, total=   0.5s\n",
      "[CV] lf__C=0.001, lf__penalty=l2, lf__solver=liblinear ...............\n",
      "[CV]  lf__C=0.001, lf__penalty=l2, lf__solver=liblinear, score=0.512, total=   0.5s\n",
      "[CV] lf__C=0.001, lf__penalty=l2, lf__solver=liblinear ...............\n",
      "[CV]  lf__C=0.001, lf__penalty=l2, lf__solver=liblinear, score=0.521, total=   0.4s\n",
      "[CV] lf__C=0.001, lf__penalty=l2, lf__solver=liblinear ...............\n",
      "[CV]  lf__C=0.001, lf__penalty=l2, lf__solver=liblinear, score=0.524, total=   0.4s\n",
      "[CV] lf__C=0.001, lf__penalty=l2, lf__solver=sag .....................\n",
      "[CV]  lf__C=0.001, lf__penalty=l2, lf__solver=sag, score=0.589, total=   1.0s\n",
      "[CV] lf__C=0.001, lf__penalty=l2, lf__solver=sag .....................\n",
      "[CV]  lf__C=0.001, lf__penalty=l2, lf__solver=sag, score=0.589, total=   1.0s\n",
      "[CV] lf__C=0.001, lf__penalty=l2, lf__solver=sag .....................\n",
      "[CV]  lf__C=0.001, lf__penalty=l2, lf__solver=sag, score=0.596, total=   1.0s\n",
      "[CV] lf__C=0.001, lf__penalty=l2, lf__solver=sag .....................\n",
      "[CV]  lf__C=0.001, lf__penalty=l2, lf__solver=sag, score=0.588, total=   1.2s\n",
      "[CV] lf__C=0.001, lf__penalty=l2, lf__solver=sag .....................\n",
      "[CV]  lf__C=0.001, lf__penalty=l2, lf__solver=sag, score=0.586, total=   1.0s\n",
      "[CV] lf__C=0.001, lf__penalty=l2, lf__solver=saga ....................\n",
      "[CV]  lf__C=0.001, lf__penalty=l2, lf__solver=saga, score=0.589, total=   3.0s\n",
      "[CV] lf__C=0.001, lf__penalty=l2, lf__solver=saga ....................\n",
      "[CV]  lf__C=0.001, lf__penalty=l2, lf__solver=saga, score=0.590, total=   3.1s\n",
      "[CV] lf__C=0.001, lf__penalty=l2, lf__solver=saga ....................\n",
      "[CV]  lf__C=0.001, lf__penalty=l2, lf__solver=saga, score=0.596, total=   2.9s\n",
      "[CV] lf__C=0.001, lf__penalty=l2, lf__solver=saga ....................\n",
      "[CV]  lf__C=0.001, lf__penalty=l2, lf__solver=saga, score=0.588, total=   2.5s\n",
      "[CV] lf__C=0.001, lf__penalty=l2, lf__solver=saga ....................\n",
      "[CV]  lf__C=0.001, lf__penalty=l2, lf__solver=saga, score=0.586, total=   2.5s\n",
      "[CV] lf__C=0.001, lf__penalty=elasticnet, lf__solver=newton-cg .......\n",
      "[CV]  lf__C=0.001, lf__penalty=elasticnet, lf__solver=newton-cg, score=nan, total=   0.1s\n",
      "[CV] lf__C=0.001, lf__penalty=elasticnet, lf__solver=newton-cg .......\n"
     ]
    },
    {
     "name": "stderr",
     "output_type": "stream",
     "text": [
      "C:\\Users\\drago\\anaconda3\\envs\\learn-env\\lib\\site-packages\\sklearn\\model_selection\\_validation.py:548: FitFailedWarning: Estimator fit failed. The score on this train-test partition for these parameters will be set to nan. Details: \n",
      "Traceback (most recent call last):\n",
      "  File \"C:\\Users\\drago\\anaconda3\\envs\\learn-env\\lib\\site-packages\\sklearn\\model_selection\\_validation.py\", line 531, in _fit_and_score\n",
      "    estimator.fit(X_train, y_train, **fit_params)\n",
      "  File \"C:\\Users\\drago\\anaconda3\\envs\\learn-env\\lib\\site-packages\\sklearn\\pipeline.py\", line 335, in fit\n",
      "    self._final_estimator.fit(Xt, y, **fit_params_last_step)\n",
      "  File \"C:\\Users\\drago\\anaconda3\\envs\\learn-env\\lib\\site-packages\\sklearn\\linear_model\\_logistic.py\", line 1304, in fit\n",
      "    solver = _check_solver(self.solver, self.penalty, self.dual)\n",
      "  File \"C:\\Users\\drago\\anaconda3\\envs\\learn-env\\lib\\site-packages\\sklearn\\linear_model\\_logistic.py\", line 442, in _check_solver\n",
      "    raise ValueError(\"Solver %s supports only 'l2' or 'none' penalties, \"\n",
      "ValueError: Solver newton-cg supports only 'l2' or 'none' penalties, got elasticnet penalty.\n",
      "\n",
      "  warnings.warn(\"Estimator fit failed. The score on this train-test\"\n",
      "C:\\Users\\drago\\anaconda3\\envs\\learn-env\\lib\\site-packages\\sklearn\\model_selection\\_validation.py:548: FitFailedWarning: Estimator fit failed. The score on this train-test partition for these parameters will be set to nan. Details: \n",
      "Traceback (most recent call last):\n",
      "  File \"C:\\Users\\drago\\anaconda3\\envs\\learn-env\\lib\\site-packages\\sklearn\\model_selection\\_validation.py\", line 531, in _fit_and_score\n",
      "    estimator.fit(X_train, y_train, **fit_params)\n",
      "  File \"C:\\Users\\drago\\anaconda3\\envs\\learn-env\\lib\\site-packages\\sklearn\\pipeline.py\", line 335, in fit\n",
      "    self._final_estimator.fit(Xt, y, **fit_params_last_step)\n",
      "  File \"C:\\Users\\drago\\anaconda3\\envs\\learn-env\\lib\\site-packages\\sklearn\\linear_model\\_logistic.py\", line 1304, in fit\n",
      "    solver = _check_solver(self.solver, self.penalty, self.dual)\n",
      "  File \"C:\\Users\\drago\\anaconda3\\envs\\learn-env\\lib\\site-packages\\sklearn\\linear_model\\_logistic.py\", line 442, in _check_solver\n",
      "    raise ValueError(\"Solver %s supports only 'l2' or 'none' penalties, \"\n",
      "ValueError: Solver newton-cg supports only 'l2' or 'none' penalties, got elasticnet penalty.\n",
      "\n",
      "  warnings.warn(\"Estimator fit failed. The score on this train-test\"\n"
     ]
    },
    {
     "name": "stdout",
     "output_type": "stream",
     "text": [
      "[CV]  lf__C=0.001, lf__penalty=elasticnet, lf__solver=newton-cg, score=nan, total=   0.1s\n",
      "[CV] lf__C=0.001, lf__penalty=elasticnet, lf__solver=newton-cg .......\n",
      "[CV]  lf__C=0.001, lf__penalty=elasticnet, lf__solver=newton-cg, score=nan, total=   0.1s\n",
      "[CV] lf__C=0.001, lf__penalty=elasticnet, lf__solver=newton-cg .......\n"
     ]
    },
    {
     "name": "stderr",
     "output_type": "stream",
     "text": [
      "C:\\Users\\drago\\anaconda3\\envs\\learn-env\\lib\\site-packages\\sklearn\\model_selection\\_validation.py:548: FitFailedWarning: Estimator fit failed. The score on this train-test partition for these parameters will be set to nan. Details: \n",
      "Traceback (most recent call last):\n",
      "  File \"C:\\Users\\drago\\anaconda3\\envs\\learn-env\\lib\\site-packages\\sklearn\\model_selection\\_validation.py\", line 531, in _fit_and_score\n",
      "    estimator.fit(X_train, y_train, **fit_params)\n",
      "  File \"C:\\Users\\drago\\anaconda3\\envs\\learn-env\\lib\\site-packages\\sklearn\\pipeline.py\", line 335, in fit\n",
      "    self._final_estimator.fit(Xt, y, **fit_params_last_step)\n",
      "  File \"C:\\Users\\drago\\anaconda3\\envs\\learn-env\\lib\\site-packages\\sklearn\\linear_model\\_logistic.py\", line 1304, in fit\n",
      "    solver = _check_solver(self.solver, self.penalty, self.dual)\n",
      "  File \"C:\\Users\\drago\\anaconda3\\envs\\learn-env\\lib\\site-packages\\sklearn\\linear_model\\_logistic.py\", line 442, in _check_solver\n",
      "    raise ValueError(\"Solver %s supports only 'l2' or 'none' penalties, \"\n",
      "ValueError: Solver newton-cg supports only 'l2' or 'none' penalties, got elasticnet penalty.\n",
      "\n",
      "  warnings.warn(\"Estimator fit failed. The score on this train-test\"\n",
      "C:\\Users\\drago\\anaconda3\\envs\\learn-env\\lib\\site-packages\\sklearn\\model_selection\\_validation.py:548: FitFailedWarning: Estimator fit failed. The score on this train-test partition for these parameters will be set to nan. Details: \n",
      "Traceback (most recent call last):\n",
      "  File \"C:\\Users\\drago\\anaconda3\\envs\\learn-env\\lib\\site-packages\\sklearn\\model_selection\\_validation.py\", line 531, in _fit_and_score\n",
      "    estimator.fit(X_train, y_train, **fit_params)\n",
      "  File \"C:\\Users\\drago\\anaconda3\\envs\\learn-env\\lib\\site-packages\\sklearn\\pipeline.py\", line 335, in fit\n",
      "    self._final_estimator.fit(Xt, y, **fit_params_last_step)\n",
      "  File \"C:\\Users\\drago\\anaconda3\\envs\\learn-env\\lib\\site-packages\\sklearn\\linear_model\\_logistic.py\", line 1304, in fit\n",
      "    solver = _check_solver(self.solver, self.penalty, self.dual)\n",
      "  File \"C:\\Users\\drago\\anaconda3\\envs\\learn-env\\lib\\site-packages\\sklearn\\linear_model\\_logistic.py\", line 442, in _check_solver\n",
      "    raise ValueError(\"Solver %s supports only 'l2' or 'none' penalties, \"\n",
      "ValueError: Solver newton-cg supports only 'l2' or 'none' penalties, got elasticnet penalty.\n",
      "\n",
      "  warnings.warn(\"Estimator fit failed. The score on this train-test\"\n"
     ]
    },
    {
     "name": "stdout",
     "output_type": "stream",
     "text": [
      "[CV]  lf__C=0.001, lf__penalty=elasticnet, lf__solver=newton-cg, score=nan, total=   0.1s\n",
      "[CV] lf__C=0.001, lf__penalty=elasticnet, lf__solver=newton-cg .......\n",
      "[CV]  lf__C=0.001, lf__penalty=elasticnet, lf__solver=newton-cg, score=nan, total=   0.1s\n",
      "[CV] lf__C=0.001, lf__penalty=elasticnet, lf__solver=lbfgs ...........\n"
     ]
    },
    {
     "name": "stderr",
     "output_type": "stream",
     "text": [
      "C:\\Users\\drago\\anaconda3\\envs\\learn-env\\lib\\site-packages\\sklearn\\model_selection\\_validation.py:548: FitFailedWarning: Estimator fit failed. The score on this train-test partition for these parameters will be set to nan. Details: \n",
      "Traceback (most recent call last):\n",
      "  File \"C:\\Users\\drago\\anaconda3\\envs\\learn-env\\lib\\site-packages\\sklearn\\model_selection\\_validation.py\", line 531, in _fit_and_score\n",
      "    estimator.fit(X_train, y_train, **fit_params)\n",
      "  File \"C:\\Users\\drago\\anaconda3\\envs\\learn-env\\lib\\site-packages\\sklearn\\pipeline.py\", line 335, in fit\n",
      "    self._final_estimator.fit(Xt, y, **fit_params_last_step)\n",
      "  File \"C:\\Users\\drago\\anaconda3\\envs\\learn-env\\lib\\site-packages\\sklearn\\linear_model\\_logistic.py\", line 1304, in fit\n",
      "    solver = _check_solver(self.solver, self.penalty, self.dual)\n",
      "  File \"C:\\Users\\drago\\anaconda3\\envs\\learn-env\\lib\\site-packages\\sklearn\\linear_model\\_logistic.py\", line 442, in _check_solver\n",
      "    raise ValueError(\"Solver %s supports only 'l2' or 'none' penalties, \"\n",
      "ValueError: Solver newton-cg supports only 'l2' or 'none' penalties, got elasticnet penalty.\n",
      "\n",
      "  warnings.warn(\"Estimator fit failed. The score on this train-test\"\n",
      "C:\\Users\\drago\\anaconda3\\envs\\learn-env\\lib\\site-packages\\sklearn\\model_selection\\_validation.py:548: FitFailedWarning: Estimator fit failed. The score on this train-test partition for these parameters will be set to nan. Details: \n",
      "Traceback (most recent call last):\n",
      "  File \"C:\\Users\\drago\\anaconda3\\envs\\learn-env\\lib\\site-packages\\sklearn\\model_selection\\_validation.py\", line 531, in _fit_and_score\n",
      "    estimator.fit(X_train, y_train, **fit_params)\n",
      "  File \"C:\\Users\\drago\\anaconda3\\envs\\learn-env\\lib\\site-packages\\sklearn\\pipeline.py\", line 335, in fit\n",
      "    self._final_estimator.fit(Xt, y, **fit_params_last_step)\n",
      "  File \"C:\\Users\\drago\\anaconda3\\envs\\learn-env\\lib\\site-packages\\sklearn\\linear_model\\_logistic.py\", line 1304, in fit\n",
      "    solver = _check_solver(self.solver, self.penalty, self.dual)\n",
      "  File \"C:\\Users\\drago\\anaconda3\\envs\\learn-env\\lib\\site-packages\\sklearn\\linear_model\\_logistic.py\", line 442, in _check_solver\n",
      "    raise ValueError(\"Solver %s supports only 'l2' or 'none' penalties, \"\n",
      "ValueError: Solver lbfgs supports only 'l2' or 'none' penalties, got elasticnet penalty.\n",
      "\n",
      "  warnings.warn(\"Estimator fit failed. The score on this train-test\"\n"
     ]
    },
    {
     "name": "stdout",
     "output_type": "stream",
     "text": [
      "[CV]  lf__C=0.001, lf__penalty=elasticnet, lf__solver=lbfgs, score=nan, total=   0.1s\n",
      "[CV] lf__C=0.001, lf__penalty=elasticnet, lf__solver=lbfgs ...........\n",
      "[CV]  lf__C=0.001, lf__penalty=elasticnet, lf__solver=lbfgs, score=nan, total=   0.1s\n",
      "[CV] lf__C=0.001, lf__penalty=elasticnet, lf__solver=lbfgs ...........\n"
     ]
    },
    {
     "name": "stderr",
     "output_type": "stream",
     "text": [
      "C:\\Users\\drago\\anaconda3\\envs\\learn-env\\lib\\site-packages\\sklearn\\model_selection\\_validation.py:548: FitFailedWarning: Estimator fit failed. The score on this train-test partition for these parameters will be set to nan. Details: \n",
      "Traceback (most recent call last):\n",
      "  File \"C:\\Users\\drago\\anaconda3\\envs\\learn-env\\lib\\site-packages\\sklearn\\model_selection\\_validation.py\", line 531, in _fit_and_score\n",
      "    estimator.fit(X_train, y_train, **fit_params)\n",
      "  File \"C:\\Users\\drago\\anaconda3\\envs\\learn-env\\lib\\site-packages\\sklearn\\pipeline.py\", line 335, in fit\n",
      "    self._final_estimator.fit(Xt, y, **fit_params_last_step)\n",
      "  File \"C:\\Users\\drago\\anaconda3\\envs\\learn-env\\lib\\site-packages\\sklearn\\linear_model\\_logistic.py\", line 1304, in fit\n",
      "    solver = _check_solver(self.solver, self.penalty, self.dual)\n",
      "  File \"C:\\Users\\drago\\anaconda3\\envs\\learn-env\\lib\\site-packages\\sklearn\\linear_model\\_logistic.py\", line 442, in _check_solver\n",
      "    raise ValueError(\"Solver %s supports only 'l2' or 'none' penalties, \"\n",
      "ValueError: Solver lbfgs supports only 'l2' or 'none' penalties, got elasticnet penalty.\n",
      "\n",
      "  warnings.warn(\"Estimator fit failed. The score on this train-test\"\n",
      "C:\\Users\\drago\\anaconda3\\envs\\learn-env\\lib\\site-packages\\sklearn\\model_selection\\_validation.py:548: FitFailedWarning: Estimator fit failed. The score on this train-test partition for these parameters will be set to nan. Details: \n",
      "Traceback (most recent call last):\n",
      "  File \"C:\\Users\\drago\\anaconda3\\envs\\learn-env\\lib\\site-packages\\sklearn\\model_selection\\_validation.py\", line 531, in _fit_and_score\n",
      "    estimator.fit(X_train, y_train, **fit_params)\n",
      "  File \"C:\\Users\\drago\\anaconda3\\envs\\learn-env\\lib\\site-packages\\sklearn\\pipeline.py\", line 335, in fit\n",
      "    self._final_estimator.fit(Xt, y, **fit_params_last_step)\n",
      "  File \"C:\\Users\\drago\\anaconda3\\envs\\learn-env\\lib\\site-packages\\sklearn\\linear_model\\_logistic.py\", line 1304, in fit\n",
      "    solver = _check_solver(self.solver, self.penalty, self.dual)\n",
      "  File \"C:\\Users\\drago\\anaconda3\\envs\\learn-env\\lib\\site-packages\\sklearn\\linear_model\\_logistic.py\", line 442, in _check_solver\n",
      "    raise ValueError(\"Solver %s supports only 'l2' or 'none' penalties, \"\n",
      "ValueError: Solver lbfgs supports only 'l2' or 'none' penalties, got elasticnet penalty.\n",
      "\n",
      "  warnings.warn(\"Estimator fit failed. The score on this train-test\"\n"
     ]
    },
    {
     "name": "stdout",
     "output_type": "stream",
     "text": [
      "[CV]  lf__C=0.001, lf__penalty=elasticnet, lf__solver=lbfgs, score=nan, total=   0.1s\n",
      "[CV] lf__C=0.001, lf__penalty=elasticnet, lf__solver=lbfgs ...........\n",
      "[CV]  lf__C=0.001, lf__penalty=elasticnet, lf__solver=lbfgs, score=nan, total=   0.1s\n",
      "[CV] lf__C=0.001, lf__penalty=elasticnet, lf__solver=lbfgs ...........\n"
     ]
    },
    {
     "name": "stderr",
     "output_type": "stream",
     "text": [
      "C:\\Users\\drago\\anaconda3\\envs\\learn-env\\lib\\site-packages\\sklearn\\model_selection\\_validation.py:548: FitFailedWarning: Estimator fit failed. The score on this train-test partition for these parameters will be set to nan. Details: \n",
      "Traceback (most recent call last):\n",
      "  File \"C:\\Users\\drago\\anaconda3\\envs\\learn-env\\lib\\site-packages\\sklearn\\model_selection\\_validation.py\", line 531, in _fit_and_score\n",
      "    estimator.fit(X_train, y_train, **fit_params)\n",
      "  File \"C:\\Users\\drago\\anaconda3\\envs\\learn-env\\lib\\site-packages\\sklearn\\pipeline.py\", line 335, in fit\n",
      "    self._final_estimator.fit(Xt, y, **fit_params_last_step)\n",
      "  File \"C:\\Users\\drago\\anaconda3\\envs\\learn-env\\lib\\site-packages\\sklearn\\linear_model\\_logistic.py\", line 1304, in fit\n",
      "    solver = _check_solver(self.solver, self.penalty, self.dual)\n",
      "  File \"C:\\Users\\drago\\anaconda3\\envs\\learn-env\\lib\\site-packages\\sklearn\\linear_model\\_logistic.py\", line 442, in _check_solver\n",
      "    raise ValueError(\"Solver %s supports only 'l2' or 'none' penalties, \"\n",
      "ValueError: Solver lbfgs supports only 'l2' or 'none' penalties, got elasticnet penalty.\n",
      "\n",
      "  warnings.warn(\"Estimator fit failed. The score on this train-test\"\n",
      "C:\\Users\\drago\\anaconda3\\envs\\learn-env\\lib\\site-packages\\sklearn\\model_selection\\_validation.py:548: FitFailedWarning: Estimator fit failed. The score on this train-test partition for these parameters will be set to nan. Details: \n",
      "Traceback (most recent call last):\n",
      "  File \"C:\\Users\\drago\\anaconda3\\envs\\learn-env\\lib\\site-packages\\sklearn\\model_selection\\_validation.py\", line 531, in _fit_and_score\n",
      "    estimator.fit(X_train, y_train, **fit_params)\n",
      "  File \"C:\\Users\\drago\\anaconda3\\envs\\learn-env\\lib\\site-packages\\sklearn\\pipeline.py\", line 335, in fit\n",
      "    self._final_estimator.fit(Xt, y, **fit_params_last_step)\n",
      "  File \"C:\\Users\\drago\\anaconda3\\envs\\learn-env\\lib\\site-packages\\sklearn\\linear_model\\_logistic.py\", line 1304, in fit\n",
      "    solver = _check_solver(self.solver, self.penalty, self.dual)\n",
      "  File \"C:\\Users\\drago\\anaconda3\\envs\\learn-env\\lib\\site-packages\\sklearn\\linear_model\\_logistic.py\", line 442, in _check_solver\n",
      "    raise ValueError(\"Solver %s supports only 'l2' or 'none' penalties, \"\n",
      "ValueError: Solver lbfgs supports only 'l2' or 'none' penalties, got elasticnet penalty.\n",
      "\n",
      "  warnings.warn(\"Estimator fit failed. The score on this train-test\"\n",
      "C:\\Users\\drago\\anaconda3\\envs\\learn-env\\lib\\site-packages\\sklearn\\model_selection\\_validation.py:548: FitFailedWarning: Estimator fit failed. The score on this train-test partition for these parameters will be set to nan. Details: \n",
      "Traceback (most recent call last):\n",
      "  File \"C:\\Users\\drago\\anaconda3\\envs\\learn-env\\lib\\site-packages\\sklearn\\model_selection\\_validation.py\", line 531, in _fit_and_score\n",
      "    estimator.fit(X_train, y_train, **fit_params)\n",
      "  File \"C:\\Users\\drago\\anaconda3\\envs\\learn-env\\lib\\site-packages\\sklearn\\pipeline.py\", line 335, in fit\n",
      "    self._final_estimator.fit(Xt, y, **fit_params_last_step)\n",
      "  File \"C:\\Users\\drago\\anaconda3\\envs\\learn-env\\lib\\site-packages\\sklearn\\linear_model\\_logistic.py\", line 1304, in fit\n",
      "    solver = _check_solver(self.solver, self.penalty, self.dual)\n",
      "  File \"C:\\Users\\drago\\anaconda3\\envs\\learn-env\\lib\\site-packages\\sklearn\\linear_model\\_logistic.py\", line 449, in _check_solver\n",
      "    raise ValueError(\"Only 'saga' solver supports elasticnet penalty,\"\n",
      "ValueError: Only 'saga' solver supports elasticnet penalty, got solver=liblinear.\n",
      "\n",
      "  warnings.warn(\"Estimator fit failed. The score on this train-test\"\n"
     ]
    },
    {
     "name": "stdout",
     "output_type": "stream",
     "text": [
      "[CV]  lf__C=0.001, lf__penalty=elasticnet, lf__solver=lbfgs, score=nan, total=   0.1s\n",
      "[CV] lf__C=0.001, lf__penalty=elasticnet, lf__solver=liblinear .......\n",
      "[CV]  lf__C=0.001, lf__penalty=elasticnet, lf__solver=liblinear, score=nan, total=   0.1s\n",
      "[CV] lf__C=0.001, lf__penalty=elasticnet, lf__solver=liblinear .......\n"
     ]
    },
    {
     "name": "stderr",
     "output_type": "stream",
     "text": [
      "C:\\Users\\drago\\anaconda3\\envs\\learn-env\\lib\\site-packages\\sklearn\\model_selection\\_validation.py:548: FitFailedWarning: Estimator fit failed. The score on this train-test partition for these parameters will be set to nan. Details: \n",
      "Traceback (most recent call last):\n",
      "  File \"C:\\Users\\drago\\anaconda3\\envs\\learn-env\\lib\\site-packages\\sklearn\\model_selection\\_validation.py\", line 531, in _fit_and_score\n",
      "    estimator.fit(X_train, y_train, **fit_params)\n",
      "  File \"C:\\Users\\drago\\anaconda3\\envs\\learn-env\\lib\\site-packages\\sklearn\\pipeline.py\", line 335, in fit\n",
      "    self._final_estimator.fit(Xt, y, **fit_params_last_step)\n",
      "  File \"C:\\Users\\drago\\anaconda3\\envs\\learn-env\\lib\\site-packages\\sklearn\\linear_model\\_logistic.py\", line 1304, in fit\n",
      "    solver = _check_solver(self.solver, self.penalty, self.dual)\n",
      "  File \"C:\\Users\\drago\\anaconda3\\envs\\learn-env\\lib\\site-packages\\sklearn\\linear_model\\_logistic.py\", line 449, in _check_solver\n",
      "    raise ValueError(\"Only 'saga' solver supports elasticnet penalty,\"\n",
      "ValueError: Only 'saga' solver supports elasticnet penalty, got solver=liblinear.\n",
      "\n",
      "  warnings.warn(\"Estimator fit failed. The score on this train-test\"\n",
      "C:\\Users\\drago\\anaconda3\\envs\\learn-env\\lib\\site-packages\\sklearn\\model_selection\\_validation.py:548: FitFailedWarning: Estimator fit failed. The score on this train-test partition for these parameters will be set to nan. Details: \n",
      "Traceback (most recent call last):\n",
      "  File \"C:\\Users\\drago\\anaconda3\\envs\\learn-env\\lib\\site-packages\\sklearn\\model_selection\\_validation.py\", line 531, in _fit_and_score\n",
      "    estimator.fit(X_train, y_train, **fit_params)\n",
      "  File \"C:\\Users\\drago\\anaconda3\\envs\\learn-env\\lib\\site-packages\\sklearn\\pipeline.py\", line 335, in fit\n",
      "    self._final_estimator.fit(Xt, y, **fit_params_last_step)\n",
      "  File \"C:\\Users\\drago\\anaconda3\\envs\\learn-env\\lib\\site-packages\\sklearn\\linear_model\\_logistic.py\", line 1304, in fit\n",
      "    solver = _check_solver(self.solver, self.penalty, self.dual)\n",
      "  File \"C:\\Users\\drago\\anaconda3\\envs\\learn-env\\lib\\site-packages\\sklearn\\linear_model\\_logistic.py\", line 449, in _check_solver\n",
      "    raise ValueError(\"Only 'saga' solver supports elasticnet penalty,\"\n",
      "ValueError: Only 'saga' solver supports elasticnet penalty, got solver=liblinear.\n",
      "\n",
      "  warnings.warn(\"Estimator fit failed. The score on this train-test\"\n"
     ]
    },
    {
     "name": "stdout",
     "output_type": "stream",
     "text": [
      "[CV]  lf__C=0.001, lf__penalty=elasticnet, lf__solver=liblinear, score=nan, total=   0.1s\n",
      "[CV] lf__C=0.001, lf__penalty=elasticnet, lf__solver=liblinear .......\n",
      "[CV]  lf__C=0.001, lf__penalty=elasticnet, lf__solver=liblinear, score=nan, total=   0.1s\n",
      "[CV] lf__C=0.001, lf__penalty=elasticnet, lf__solver=liblinear .......\n"
     ]
    },
    {
     "name": "stderr",
     "output_type": "stream",
     "text": [
      "C:\\Users\\drago\\anaconda3\\envs\\learn-env\\lib\\site-packages\\sklearn\\model_selection\\_validation.py:548: FitFailedWarning: Estimator fit failed. The score on this train-test partition for these parameters will be set to nan. Details: \n",
      "Traceback (most recent call last):\n",
      "  File \"C:\\Users\\drago\\anaconda3\\envs\\learn-env\\lib\\site-packages\\sklearn\\model_selection\\_validation.py\", line 531, in _fit_and_score\n",
      "    estimator.fit(X_train, y_train, **fit_params)\n",
      "  File \"C:\\Users\\drago\\anaconda3\\envs\\learn-env\\lib\\site-packages\\sklearn\\pipeline.py\", line 335, in fit\n",
      "    self._final_estimator.fit(Xt, y, **fit_params_last_step)\n",
      "  File \"C:\\Users\\drago\\anaconda3\\envs\\learn-env\\lib\\site-packages\\sklearn\\linear_model\\_logistic.py\", line 1304, in fit\n",
      "    solver = _check_solver(self.solver, self.penalty, self.dual)\n",
      "  File \"C:\\Users\\drago\\anaconda3\\envs\\learn-env\\lib\\site-packages\\sklearn\\linear_model\\_logistic.py\", line 449, in _check_solver\n",
      "    raise ValueError(\"Only 'saga' solver supports elasticnet penalty,\"\n",
      "ValueError: Only 'saga' solver supports elasticnet penalty, got solver=liblinear.\n",
      "\n",
      "  warnings.warn(\"Estimator fit failed. The score on this train-test\"\n",
      "C:\\Users\\drago\\anaconda3\\envs\\learn-env\\lib\\site-packages\\sklearn\\model_selection\\_validation.py:548: FitFailedWarning: Estimator fit failed. The score on this train-test partition for these parameters will be set to nan. Details: \n",
      "Traceback (most recent call last):\n",
      "  File \"C:\\Users\\drago\\anaconda3\\envs\\learn-env\\lib\\site-packages\\sklearn\\model_selection\\_validation.py\", line 531, in _fit_and_score\n",
      "    estimator.fit(X_train, y_train, **fit_params)\n",
      "  File \"C:\\Users\\drago\\anaconda3\\envs\\learn-env\\lib\\site-packages\\sklearn\\pipeline.py\", line 335, in fit\n",
      "    self._final_estimator.fit(Xt, y, **fit_params_last_step)\n",
      "  File \"C:\\Users\\drago\\anaconda3\\envs\\learn-env\\lib\\site-packages\\sklearn\\linear_model\\_logistic.py\", line 1304, in fit\n",
      "    solver = _check_solver(self.solver, self.penalty, self.dual)\n",
      "  File \"C:\\Users\\drago\\anaconda3\\envs\\learn-env\\lib\\site-packages\\sklearn\\linear_model\\_logistic.py\", line 449, in _check_solver\n",
      "    raise ValueError(\"Only 'saga' solver supports elasticnet penalty,\"\n",
      "ValueError: Only 'saga' solver supports elasticnet penalty, got solver=liblinear.\n",
      "\n",
      "  warnings.warn(\"Estimator fit failed. The score on this train-test\"\n"
     ]
    },
    {
     "name": "stdout",
     "output_type": "stream",
     "text": [
      "[CV]  lf__C=0.001, lf__penalty=elasticnet, lf__solver=liblinear, score=nan, total=   0.1s\n",
      "[CV] lf__C=0.001, lf__penalty=elasticnet, lf__solver=liblinear .......\n",
      "[CV]  lf__C=0.001, lf__penalty=elasticnet, lf__solver=liblinear, score=nan, total=   0.1s\n",
      "[CV] lf__C=0.001, lf__penalty=elasticnet, lf__solver=sag .............\n"
     ]
    },
    {
     "name": "stderr",
     "output_type": "stream",
     "text": [
      "C:\\Users\\drago\\anaconda3\\envs\\learn-env\\lib\\site-packages\\sklearn\\model_selection\\_validation.py:548: FitFailedWarning: Estimator fit failed. The score on this train-test partition for these parameters will be set to nan. Details: \n",
      "Traceback (most recent call last):\n",
      "  File \"C:\\Users\\drago\\anaconda3\\envs\\learn-env\\lib\\site-packages\\sklearn\\model_selection\\_validation.py\", line 531, in _fit_and_score\n",
      "    estimator.fit(X_train, y_train, **fit_params)\n",
      "  File \"C:\\Users\\drago\\anaconda3\\envs\\learn-env\\lib\\site-packages\\sklearn\\pipeline.py\", line 335, in fit\n",
      "    self._final_estimator.fit(Xt, y, **fit_params_last_step)\n",
      "  File \"C:\\Users\\drago\\anaconda3\\envs\\learn-env\\lib\\site-packages\\sklearn\\linear_model\\_logistic.py\", line 1304, in fit\n",
      "    solver = _check_solver(self.solver, self.penalty, self.dual)\n",
      "  File \"C:\\Users\\drago\\anaconda3\\envs\\learn-env\\lib\\site-packages\\sklearn\\linear_model\\_logistic.py\", line 442, in _check_solver\n",
      "    raise ValueError(\"Solver %s supports only 'l2' or 'none' penalties, \"\n",
      "ValueError: Solver sag supports only 'l2' or 'none' penalties, got elasticnet penalty.\n",
      "\n",
      "  warnings.warn(\"Estimator fit failed. The score on this train-test\"\n",
      "C:\\Users\\drago\\anaconda3\\envs\\learn-env\\lib\\site-packages\\sklearn\\model_selection\\_validation.py:548: FitFailedWarning: Estimator fit failed. The score on this train-test partition for these parameters will be set to nan. Details: \n",
      "Traceback (most recent call last):\n",
      "  File \"C:\\Users\\drago\\anaconda3\\envs\\learn-env\\lib\\site-packages\\sklearn\\model_selection\\_validation.py\", line 531, in _fit_and_score\n",
      "    estimator.fit(X_train, y_train, **fit_params)\n",
      "  File \"C:\\Users\\drago\\anaconda3\\envs\\learn-env\\lib\\site-packages\\sklearn\\pipeline.py\", line 335, in fit\n",
      "    self._final_estimator.fit(Xt, y, **fit_params_last_step)\n",
      "  File \"C:\\Users\\drago\\anaconda3\\envs\\learn-env\\lib\\site-packages\\sklearn\\linear_model\\_logistic.py\", line 1304, in fit\n",
      "    solver = _check_solver(self.solver, self.penalty, self.dual)\n",
      "  File \"C:\\Users\\drago\\anaconda3\\envs\\learn-env\\lib\\site-packages\\sklearn\\linear_model\\_logistic.py\", line 442, in _check_solver\n",
      "    raise ValueError(\"Solver %s supports only 'l2' or 'none' penalties, \"\n",
      "ValueError: Solver sag supports only 'l2' or 'none' penalties, got elasticnet penalty.\n",
      "\n",
      "  warnings.warn(\"Estimator fit failed. The score on this train-test\"\n"
     ]
    },
    {
     "name": "stdout",
     "output_type": "stream",
     "text": [
      "[CV]  lf__C=0.001, lf__penalty=elasticnet, lf__solver=sag, score=nan, total=   0.1s\n",
      "[CV] lf__C=0.001, lf__penalty=elasticnet, lf__solver=sag .............\n",
      "[CV]  lf__C=0.001, lf__penalty=elasticnet, lf__solver=sag, score=nan, total=   0.1s\n",
      "[CV] lf__C=0.001, lf__penalty=elasticnet, lf__solver=sag .............\n"
     ]
    },
    {
     "name": "stderr",
     "output_type": "stream",
     "text": [
      "C:\\Users\\drago\\anaconda3\\envs\\learn-env\\lib\\site-packages\\sklearn\\model_selection\\_validation.py:548: FitFailedWarning: Estimator fit failed. The score on this train-test partition for these parameters will be set to nan. Details: \n",
      "Traceback (most recent call last):\n",
      "  File \"C:\\Users\\drago\\anaconda3\\envs\\learn-env\\lib\\site-packages\\sklearn\\model_selection\\_validation.py\", line 531, in _fit_and_score\n",
      "    estimator.fit(X_train, y_train, **fit_params)\n",
      "  File \"C:\\Users\\drago\\anaconda3\\envs\\learn-env\\lib\\site-packages\\sklearn\\pipeline.py\", line 335, in fit\n",
      "    self._final_estimator.fit(Xt, y, **fit_params_last_step)\n",
      "  File \"C:\\Users\\drago\\anaconda3\\envs\\learn-env\\lib\\site-packages\\sklearn\\linear_model\\_logistic.py\", line 1304, in fit\n",
      "    solver = _check_solver(self.solver, self.penalty, self.dual)\n",
      "  File \"C:\\Users\\drago\\anaconda3\\envs\\learn-env\\lib\\site-packages\\sklearn\\linear_model\\_logistic.py\", line 442, in _check_solver\n",
      "    raise ValueError(\"Solver %s supports only 'l2' or 'none' penalties, \"\n",
      "ValueError: Solver sag supports only 'l2' or 'none' penalties, got elasticnet penalty.\n",
      "\n",
      "  warnings.warn(\"Estimator fit failed. The score on this train-test\"\n",
      "C:\\Users\\drago\\anaconda3\\envs\\learn-env\\lib\\site-packages\\sklearn\\model_selection\\_validation.py:548: FitFailedWarning: Estimator fit failed. The score on this train-test partition for these parameters will be set to nan. Details: \n",
      "Traceback (most recent call last):\n",
      "  File \"C:\\Users\\drago\\anaconda3\\envs\\learn-env\\lib\\site-packages\\sklearn\\model_selection\\_validation.py\", line 531, in _fit_and_score\n",
      "    estimator.fit(X_train, y_train, **fit_params)\n",
      "  File \"C:\\Users\\drago\\anaconda3\\envs\\learn-env\\lib\\site-packages\\sklearn\\pipeline.py\", line 335, in fit\n",
      "    self._final_estimator.fit(Xt, y, **fit_params_last_step)\n",
      "  File \"C:\\Users\\drago\\anaconda3\\envs\\learn-env\\lib\\site-packages\\sklearn\\linear_model\\_logistic.py\", line 1304, in fit\n",
      "    solver = _check_solver(self.solver, self.penalty, self.dual)\n",
      "  File \"C:\\Users\\drago\\anaconda3\\envs\\learn-env\\lib\\site-packages\\sklearn\\linear_model\\_logistic.py\", line 442, in _check_solver\n",
      "    raise ValueError(\"Solver %s supports only 'l2' or 'none' penalties, \"\n",
      "ValueError: Solver sag supports only 'l2' or 'none' penalties, got elasticnet penalty.\n",
      "\n",
      "  warnings.warn(\"Estimator fit failed. The score on this train-test\"\n"
     ]
    },
    {
     "name": "stdout",
     "output_type": "stream",
     "text": [
      "[CV]  lf__C=0.001, lf__penalty=elasticnet, lf__solver=sag, score=nan, total=   0.1s\n",
      "[CV] lf__C=0.001, lf__penalty=elasticnet, lf__solver=sag .............\n",
      "[CV]  lf__C=0.001, lf__penalty=elasticnet, lf__solver=sag, score=nan, total=   0.1s\n",
      "[CV] lf__C=0.001, lf__penalty=elasticnet, lf__solver=sag .............\n"
     ]
    },
    {
     "name": "stderr",
     "output_type": "stream",
     "text": [
      "C:\\Users\\drago\\anaconda3\\envs\\learn-env\\lib\\site-packages\\sklearn\\model_selection\\_validation.py:548: FitFailedWarning: Estimator fit failed. The score on this train-test partition for these parameters will be set to nan. Details: \n",
      "Traceback (most recent call last):\n",
      "  File \"C:\\Users\\drago\\anaconda3\\envs\\learn-env\\lib\\site-packages\\sklearn\\model_selection\\_validation.py\", line 531, in _fit_and_score\n",
      "    estimator.fit(X_train, y_train, **fit_params)\n",
      "  File \"C:\\Users\\drago\\anaconda3\\envs\\learn-env\\lib\\site-packages\\sklearn\\pipeline.py\", line 335, in fit\n",
      "    self._final_estimator.fit(Xt, y, **fit_params_last_step)\n",
      "  File \"C:\\Users\\drago\\anaconda3\\envs\\learn-env\\lib\\site-packages\\sklearn\\linear_model\\_logistic.py\", line 1304, in fit\n",
      "    solver = _check_solver(self.solver, self.penalty, self.dual)\n",
      "  File \"C:\\Users\\drago\\anaconda3\\envs\\learn-env\\lib\\site-packages\\sklearn\\linear_model\\_logistic.py\", line 442, in _check_solver\n",
      "    raise ValueError(\"Solver %s supports only 'l2' or 'none' penalties, \"\n",
      "ValueError: Solver sag supports only 'l2' or 'none' penalties, got elasticnet penalty.\n",
      "\n",
      "  warnings.warn(\"Estimator fit failed. The score on this train-test\"\n",
      "C:\\Users\\drago\\anaconda3\\envs\\learn-env\\lib\\site-packages\\sklearn\\model_selection\\_validation.py:548: FitFailedWarning: Estimator fit failed. The score on this train-test partition for these parameters will be set to nan. Details: \n",
      "Traceback (most recent call last):\n",
      "  File \"C:\\Users\\drago\\anaconda3\\envs\\learn-env\\lib\\site-packages\\sklearn\\model_selection\\_validation.py\", line 531, in _fit_and_score\n",
      "    estimator.fit(X_train, y_train, **fit_params)\n",
      "  File \"C:\\Users\\drago\\anaconda3\\envs\\learn-env\\lib\\site-packages\\sklearn\\pipeline.py\", line 335, in fit\n",
      "    self._final_estimator.fit(Xt, y, **fit_params_last_step)\n",
      "  File \"C:\\Users\\drago\\anaconda3\\envs\\learn-env\\lib\\site-packages\\sklearn\\linear_model\\_logistic.py\", line 1312, in fit\n",
      "    raise ValueError(\"l1_ratio must be between 0 and 1;\"\n",
      "ValueError: l1_ratio must be between 0 and 1; got (l1_ratio=None)\n",
      "\n",
      "  warnings.warn(\"Estimator fit failed. The score on this train-test\"\n"
     ]
    },
    {
     "name": "stdout",
     "output_type": "stream",
     "text": [
      "[CV]  lf__C=0.001, lf__penalty=elasticnet, lf__solver=sag, score=nan, total=   0.1s\n",
      "[CV] lf__C=0.001, lf__penalty=elasticnet, lf__solver=saga ............\n",
      "[CV]  lf__C=0.001, lf__penalty=elasticnet, lf__solver=saga, score=nan, total=   0.1s\n",
      "[CV] lf__C=0.001, lf__penalty=elasticnet, lf__solver=saga ............\n"
     ]
    },
    {
     "name": "stderr",
     "output_type": "stream",
     "text": [
      "C:\\Users\\drago\\anaconda3\\envs\\learn-env\\lib\\site-packages\\sklearn\\model_selection\\_validation.py:548: FitFailedWarning: Estimator fit failed. The score on this train-test partition for these parameters will be set to nan. Details: \n",
      "Traceback (most recent call last):\n",
      "  File \"C:\\Users\\drago\\anaconda3\\envs\\learn-env\\lib\\site-packages\\sklearn\\model_selection\\_validation.py\", line 531, in _fit_and_score\n",
      "    estimator.fit(X_train, y_train, **fit_params)\n",
      "  File \"C:\\Users\\drago\\anaconda3\\envs\\learn-env\\lib\\site-packages\\sklearn\\pipeline.py\", line 335, in fit\n",
      "    self._final_estimator.fit(Xt, y, **fit_params_last_step)\n",
      "  File \"C:\\Users\\drago\\anaconda3\\envs\\learn-env\\lib\\site-packages\\sklearn\\linear_model\\_logistic.py\", line 1312, in fit\n",
      "    raise ValueError(\"l1_ratio must be between 0 and 1;\"\n",
      "ValueError: l1_ratio must be between 0 and 1; got (l1_ratio=None)\n",
      "\n",
      "  warnings.warn(\"Estimator fit failed. The score on this train-test\"\n",
      "C:\\Users\\drago\\anaconda3\\envs\\learn-env\\lib\\site-packages\\sklearn\\model_selection\\_validation.py:548: FitFailedWarning: Estimator fit failed. The score on this train-test partition for these parameters will be set to nan. Details: \n",
      "Traceback (most recent call last):\n",
      "  File \"C:\\Users\\drago\\anaconda3\\envs\\learn-env\\lib\\site-packages\\sklearn\\model_selection\\_validation.py\", line 531, in _fit_and_score\n",
      "    estimator.fit(X_train, y_train, **fit_params)\n",
      "  File \"C:\\Users\\drago\\anaconda3\\envs\\learn-env\\lib\\site-packages\\sklearn\\pipeline.py\", line 335, in fit\n",
      "    self._final_estimator.fit(Xt, y, **fit_params_last_step)\n",
      "  File \"C:\\Users\\drago\\anaconda3\\envs\\learn-env\\lib\\site-packages\\sklearn\\linear_model\\_logistic.py\", line 1312, in fit\n",
      "    raise ValueError(\"l1_ratio must be between 0 and 1;\"\n",
      "ValueError: l1_ratio must be between 0 and 1; got (l1_ratio=None)\n",
      "\n",
      "  warnings.warn(\"Estimator fit failed. The score on this train-test\"\n"
     ]
    },
    {
     "name": "stdout",
     "output_type": "stream",
     "text": [
      "[CV]  lf__C=0.001, lf__penalty=elasticnet, lf__solver=saga, score=nan, total=   0.1s\n",
      "[CV] lf__C=0.001, lf__penalty=elasticnet, lf__solver=saga ............\n",
      "[CV]  lf__C=0.001, lf__penalty=elasticnet, lf__solver=saga, score=nan, total=   0.1s\n",
      "[CV] lf__C=0.001, lf__penalty=elasticnet, lf__solver=saga ............\n"
     ]
    },
    {
     "name": "stderr",
     "output_type": "stream",
     "text": [
      "C:\\Users\\drago\\anaconda3\\envs\\learn-env\\lib\\site-packages\\sklearn\\model_selection\\_validation.py:548: FitFailedWarning: Estimator fit failed. The score on this train-test partition for these parameters will be set to nan. Details: \n",
      "Traceback (most recent call last):\n",
      "  File \"C:\\Users\\drago\\anaconda3\\envs\\learn-env\\lib\\site-packages\\sklearn\\model_selection\\_validation.py\", line 531, in _fit_and_score\n",
      "    estimator.fit(X_train, y_train, **fit_params)\n",
      "  File \"C:\\Users\\drago\\anaconda3\\envs\\learn-env\\lib\\site-packages\\sklearn\\pipeline.py\", line 335, in fit\n",
      "    self._final_estimator.fit(Xt, y, **fit_params_last_step)\n",
      "  File \"C:\\Users\\drago\\anaconda3\\envs\\learn-env\\lib\\site-packages\\sklearn\\linear_model\\_logistic.py\", line 1312, in fit\n",
      "    raise ValueError(\"l1_ratio must be between 0 and 1;\"\n",
      "ValueError: l1_ratio must be between 0 and 1; got (l1_ratio=None)\n",
      "\n",
      "  warnings.warn(\"Estimator fit failed. The score on this train-test\"\n",
      "C:\\Users\\drago\\anaconda3\\envs\\learn-env\\lib\\site-packages\\sklearn\\model_selection\\_validation.py:548: FitFailedWarning: Estimator fit failed. The score on this train-test partition for these parameters will be set to nan. Details: \n",
      "Traceback (most recent call last):\n",
      "  File \"C:\\Users\\drago\\anaconda3\\envs\\learn-env\\lib\\site-packages\\sklearn\\model_selection\\_validation.py\", line 531, in _fit_and_score\n",
      "    estimator.fit(X_train, y_train, **fit_params)\n",
      "  File \"C:\\Users\\drago\\anaconda3\\envs\\learn-env\\lib\\site-packages\\sklearn\\pipeline.py\", line 335, in fit\n",
      "    self._final_estimator.fit(Xt, y, **fit_params_last_step)\n",
      "  File \"C:\\Users\\drago\\anaconda3\\envs\\learn-env\\lib\\site-packages\\sklearn\\linear_model\\_logistic.py\", line 1312, in fit\n",
      "    raise ValueError(\"l1_ratio must be between 0 and 1;\"\n",
      "ValueError: l1_ratio must be between 0 and 1; got (l1_ratio=None)\n",
      "\n",
      "  warnings.warn(\"Estimator fit failed. The score on this train-test\"\n"
     ]
    },
    {
     "name": "stdout",
     "output_type": "stream",
     "text": [
      "[CV]  lf__C=0.001, lf__penalty=elasticnet, lf__solver=saga, score=nan, total=   0.1s\n",
      "[CV] lf__C=0.001, lf__penalty=elasticnet, lf__solver=saga ............\n",
      "[CV]  lf__C=0.001, lf__penalty=elasticnet, lf__solver=saga, score=nan, total=   0.1s\n",
      "[CV] lf__C=0.001, lf__penalty=None, lf__solver=newton-cg .............\n"
     ]
    },
    {
     "name": "stderr",
     "output_type": "stream",
     "text": [
      "C:\\Users\\drago\\anaconda3\\envs\\learn-env\\lib\\site-packages\\sklearn\\model_selection\\_validation.py:548: FitFailedWarning: Estimator fit failed. The score on this train-test partition for these parameters will be set to nan. Details: \n",
      "Traceback (most recent call last):\n",
      "  File \"C:\\Users\\drago\\anaconda3\\envs\\learn-env\\lib\\site-packages\\sklearn\\model_selection\\_validation.py\", line 531, in _fit_and_score\n",
      "    estimator.fit(X_train, y_train, **fit_params)\n",
      "  File \"C:\\Users\\drago\\anaconda3\\envs\\learn-env\\lib\\site-packages\\sklearn\\pipeline.py\", line 335, in fit\n",
      "    self._final_estimator.fit(Xt, y, **fit_params_last_step)\n",
      "  File \"C:\\Users\\drago\\anaconda3\\envs\\learn-env\\lib\\site-packages\\sklearn\\linear_model\\_logistic.py\", line 1304, in fit\n",
      "    solver = _check_solver(self.solver, self.penalty, self.dual)\n",
      "  File \"C:\\Users\\drago\\anaconda3\\envs\\learn-env\\lib\\site-packages\\sklearn\\linear_model\\_logistic.py\", line 438, in _check_solver\n",
      "    raise ValueError(\"Logistic Regression supports only penalties in %s,\"\n",
      "ValueError: Logistic Regression supports only penalties in ['l1', 'l2', 'elasticnet', 'none'], got None.\n",
      "\n",
      "  warnings.warn(\"Estimator fit failed. The score on this train-test\"\n",
      "C:\\Users\\drago\\anaconda3\\envs\\learn-env\\lib\\site-packages\\sklearn\\model_selection\\_validation.py:548: FitFailedWarning: Estimator fit failed. The score on this train-test partition for these parameters will be set to nan. Details: \n",
      "Traceback (most recent call last):\n",
      "  File \"C:\\Users\\drago\\anaconda3\\envs\\learn-env\\lib\\site-packages\\sklearn\\model_selection\\_validation.py\", line 531, in _fit_and_score\n",
      "    estimator.fit(X_train, y_train, **fit_params)\n",
      "  File \"C:\\Users\\drago\\anaconda3\\envs\\learn-env\\lib\\site-packages\\sklearn\\pipeline.py\", line 335, in fit\n",
      "    self._final_estimator.fit(Xt, y, **fit_params_last_step)\n",
      "  File \"C:\\Users\\drago\\anaconda3\\envs\\learn-env\\lib\\site-packages\\sklearn\\linear_model\\_logistic.py\", line 1304, in fit\n",
      "    solver = _check_solver(self.solver, self.penalty, self.dual)\n",
      "  File \"C:\\Users\\drago\\anaconda3\\envs\\learn-env\\lib\\site-packages\\sklearn\\linear_model\\_logistic.py\", line 438, in _check_solver\n",
      "    raise ValueError(\"Logistic Regression supports only penalties in %s,\"\n",
      "ValueError: Logistic Regression supports only penalties in ['l1', 'l2', 'elasticnet', 'none'], got None.\n",
      "\n",
      "  warnings.warn(\"Estimator fit failed. The score on this train-test\"\n"
     ]
    },
    {
     "name": "stdout",
     "output_type": "stream",
     "text": [
      "[CV]  lf__C=0.001, lf__penalty=None, lf__solver=newton-cg, score=nan, total=   0.1s\n",
      "[CV] lf__C=0.001, lf__penalty=None, lf__solver=newton-cg .............\n",
      "[CV]  lf__C=0.001, lf__penalty=None, lf__solver=newton-cg, score=nan, total=   0.1s\n",
      "[CV] lf__C=0.001, lf__penalty=None, lf__solver=newton-cg .............\n"
     ]
    },
    {
     "name": "stderr",
     "output_type": "stream",
     "text": [
      "C:\\Users\\drago\\anaconda3\\envs\\learn-env\\lib\\site-packages\\sklearn\\model_selection\\_validation.py:548: FitFailedWarning: Estimator fit failed. The score on this train-test partition for these parameters will be set to nan. Details: \n",
      "Traceback (most recent call last):\n",
      "  File \"C:\\Users\\drago\\anaconda3\\envs\\learn-env\\lib\\site-packages\\sklearn\\model_selection\\_validation.py\", line 531, in _fit_and_score\n",
      "    estimator.fit(X_train, y_train, **fit_params)\n",
      "  File \"C:\\Users\\drago\\anaconda3\\envs\\learn-env\\lib\\site-packages\\sklearn\\pipeline.py\", line 335, in fit\n",
      "    self._final_estimator.fit(Xt, y, **fit_params_last_step)\n",
      "  File \"C:\\Users\\drago\\anaconda3\\envs\\learn-env\\lib\\site-packages\\sklearn\\linear_model\\_logistic.py\", line 1304, in fit\n",
      "    solver = _check_solver(self.solver, self.penalty, self.dual)\n",
      "  File \"C:\\Users\\drago\\anaconda3\\envs\\learn-env\\lib\\site-packages\\sklearn\\linear_model\\_logistic.py\", line 438, in _check_solver\n",
      "    raise ValueError(\"Logistic Regression supports only penalties in %s,\"\n",
      "ValueError: Logistic Regression supports only penalties in ['l1', 'l2', 'elasticnet', 'none'], got None.\n",
      "\n",
      "  warnings.warn(\"Estimator fit failed. The score on this train-test\"\n",
      "C:\\Users\\drago\\anaconda3\\envs\\learn-env\\lib\\site-packages\\sklearn\\model_selection\\_validation.py:548: FitFailedWarning: Estimator fit failed. The score on this train-test partition for these parameters will be set to nan. Details: \n",
      "Traceback (most recent call last):\n",
      "  File \"C:\\Users\\drago\\anaconda3\\envs\\learn-env\\lib\\site-packages\\sklearn\\model_selection\\_validation.py\", line 531, in _fit_and_score\n",
      "    estimator.fit(X_train, y_train, **fit_params)\n",
      "  File \"C:\\Users\\drago\\anaconda3\\envs\\learn-env\\lib\\site-packages\\sklearn\\pipeline.py\", line 335, in fit\n",
      "    self._final_estimator.fit(Xt, y, **fit_params_last_step)\n",
      "  File \"C:\\Users\\drago\\anaconda3\\envs\\learn-env\\lib\\site-packages\\sklearn\\linear_model\\_logistic.py\", line 1304, in fit\n",
      "    solver = _check_solver(self.solver, self.penalty, self.dual)\n",
      "  File \"C:\\Users\\drago\\anaconda3\\envs\\learn-env\\lib\\site-packages\\sklearn\\linear_model\\_logistic.py\", line 438, in _check_solver\n",
      "    raise ValueError(\"Logistic Regression supports only penalties in %s,\"\n",
      "ValueError: Logistic Regression supports only penalties in ['l1', 'l2', 'elasticnet', 'none'], got None.\n",
      "\n",
      "  warnings.warn(\"Estimator fit failed. The score on this train-test\"\n"
     ]
    },
    {
     "name": "stdout",
     "output_type": "stream",
     "text": [
      "[CV]  lf__C=0.001, lf__penalty=None, lf__solver=newton-cg, score=nan, total=   0.1s\n",
      "[CV] lf__C=0.001, lf__penalty=None, lf__solver=newton-cg .............\n",
      "[CV]  lf__C=0.001, lf__penalty=None, lf__solver=newton-cg, score=nan, total=   0.1s\n",
      "[CV] lf__C=0.001, lf__penalty=None, lf__solver=newton-cg .............\n"
     ]
    },
    {
     "name": "stderr",
     "output_type": "stream",
     "text": [
      "C:\\Users\\drago\\anaconda3\\envs\\learn-env\\lib\\site-packages\\sklearn\\model_selection\\_validation.py:548: FitFailedWarning: Estimator fit failed. The score on this train-test partition for these parameters will be set to nan. Details: \n",
      "Traceback (most recent call last):\n",
      "  File \"C:\\Users\\drago\\anaconda3\\envs\\learn-env\\lib\\site-packages\\sklearn\\model_selection\\_validation.py\", line 531, in _fit_and_score\n",
      "    estimator.fit(X_train, y_train, **fit_params)\n",
      "  File \"C:\\Users\\drago\\anaconda3\\envs\\learn-env\\lib\\site-packages\\sklearn\\pipeline.py\", line 335, in fit\n",
      "    self._final_estimator.fit(Xt, y, **fit_params_last_step)\n",
      "  File \"C:\\Users\\drago\\anaconda3\\envs\\learn-env\\lib\\site-packages\\sklearn\\linear_model\\_logistic.py\", line 1304, in fit\n",
      "    solver = _check_solver(self.solver, self.penalty, self.dual)\n",
      "  File \"C:\\Users\\drago\\anaconda3\\envs\\learn-env\\lib\\site-packages\\sklearn\\linear_model\\_logistic.py\", line 438, in _check_solver\n",
      "    raise ValueError(\"Logistic Regression supports only penalties in %s,\"\n",
      "ValueError: Logistic Regression supports only penalties in ['l1', 'l2', 'elasticnet', 'none'], got None.\n",
      "\n",
      "  warnings.warn(\"Estimator fit failed. The score on this train-test\"\n",
      "C:\\Users\\drago\\anaconda3\\envs\\learn-env\\lib\\site-packages\\sklearn\\model_selection\\_validation.py:548: FitFailedWarning: Estimator fit failed. The score on this train-test partition for these parameters will be set to nan. Details: \n",
      "Traceback (most recent call last):\n",
      "  File \"C:\\Users\\drago\\anaconda3\\envs\\learn-env\\lib\\site-packages\\sklearn\\model_selection\\_validation.py\", line 531, in _fit_and_score\n",
      "    estimator.fit(X_train, y_train, **fit_params)\n",
      "  File \"C:\\Users\\drago\\anaconda3\\envs\\learn-env\\lib\\site-packages\\sklearn\\pipeline.py\", line 335, in fit\n",
      "    self._final_estimator.fit(Xt, y, **fit_params_last_step)\n",
      "  File \"C:\\Users\\drago\\anaconda3\\envs\\learn-env\\lib\\site-packages\\sklearn\\linear_model\\_logistic.py\", line 1304, in fit\n",
      "    solver = _check_solver(self.solver, self.penalty, self.dual)\n",
      "  File \"C:\\Users\\drago\\anaconda3\\envs\\learn-env\\lib\\site-packages\\sklearn\\linear_model\\_logistic.py\", line 438, in _check_solver\n",
      "    raise ValueError(\"Logistic Regression supports only penalties in %s,\"\n",
      "ValueError: Logistic Regression supports only penalties in ['l1', 'l2', 'elasticnet', 'none'], got None.\n",
      "\n",
      "  warnings.warn(\"Estimator fit failed. The score on this train-test\"\n"
     ]
    },
    {
     "name": "stdout",
     "output_type": "stream",
     "text": [
      "[CV]  lf__C=0.001, lf__penalty=None, lf__solver=newton-cg, score=nan, total=   0.1s\n",
      "[CV] lf__C=0.001, lf__penalty=None, lf__solver=lbfgs .................\n",
      "[CV]  lf__C=0.001, lf__penalty=None, lf__solver=lbfgs, score=nan, total=   0.1s\n",
      "[CV] lf__C=0.001, lf__penalty=None, lf__solver=lbfgs .................\n"
     ]
    },
    {
     "name": "stderr",
     "output_type": "stream",
     "text": [
      "C:\\Users\\drago\\anaconda3\\envs\\learn-env\\lib\\site-packages\\sklearn\\model_selection\\_validation.py:548: FitFailedWarning: Estimator fit failed. The score on this train-test partition for these parameters will be set to nan. Details: \n",
      "Traceback (most recent call last):\n",
      "  File \"C:\\Users\\drago\\anaconda3\\envs\\learn-env\\lib\\site-packages\\sklearn\\model_selection\\_validation.py\", line 531, in _fit_and_score\n",
      "    estimator.fit(X_train, y_train, **fit_params)\n",
      "  File \"C:\\Users\\drago\\anaconda3\\envs\\learn-env\\lib\\site-packages\\sklearn\\pipeline.py\", line 335, in fit\n",
      "    self._final_estimator.fit(Xt, y, **fit_params_last_step)\n",
      "  File \"C:\\Users\\drago\\anaconda3\\envs\\learn-env\\lib\\site-packages\\sklearn\\linear_model\\_logistic.py\", line 1304, in fit\n",
      "    solver = _check_solver(self.solver, self.penalty, self.dual)\n",
      "  File \"C:\\Users\\drago\\anaconda3\\envs\\learn-env\\lib\\site-packages\\sklearn\\linear_model\\_logistic.py\", line 438, in _check_solver\n",
      "    raise ValueError(\"Logistic Regression supports only penalties in %s,\"\n",
      "ValueError: Logistic Regression supports only penalties in ['l1', 'l2', 'elasticnet', 'none'], got None.\n",
      "\n",
      "  warnings.warn(\"Estimator fit failed. The score on this train-test\"\n",
      "C:\\Users\\drago\\anaconda3\\envs\\learn-env\\lib\\site-packages\\sklearn\\model_selection\\_validation.py:548: FitFailedWarning: Estimator fit failed. The score on this train-test partition for these parameters will be set to nan. Details: \n",
      "Traceback (most recent call last):\n",
      "  File \"C:\\Users\\drago\\anaconda3\\envs\\learn-env\\lib\\site-packages\\sklearn\\model_selection\\_validation.py\", line 531, in _fit_and_score\n",
      "    estimator.fit(X_train, y_train, **fit_params)\n",
      "  File \"C:\\Users\\drago\\anaconda3\\envs\\learn-env\\lib\\site-packages\\sklearn\\pipeline.py\", line 335, in fit\n",
      "    self._final_estimator.fit(Xt, y, **fit_params_last_step)\n",
      "  File \"C:\\Users\\drago\\anaconda3\\envs\\learn-env\\lib\\site-packages\\sklearn\\linear_model\\_logistic.py\", line 1304, in fit\n",
      "    solver = _check_solver(self.solver, self.penalty, self.dual)\n",
      "  File \"C:\\Users\\drago\\anaconda3\\envs\\learn-env\\lib\\site-packages\\sklearn\\linear_model\\_logistic.py\", line 438, in _check_solver\n",
      "    raise ValueError(\"Logistic Regression supports only penalties in %s,\"\n",
      "ValueError: Logistic Regression supports only penalties in ['l1', 'l2', 'elasticnet', 'none'], got None.\n",
      "\n",
      "  warnings.warn(\"Estimator fit failed. The score on this train-test\"\n"
     ]
    },
    {
     "name": "stdout",
     "output_type": "stream",
     "text": [
      "[CV]  lf__C=0.001, lf__penalty=None, lf__solver=lbfgs, score=nan, total=   0.1s\n",
      "[CV] lf__C=0.001, lf__penalty=None, lf__solver=lbfgs .................\n",
      "[CV]  lf__C=0.001, lf__penalty=None, lf__solver=lbfgs, score=nan, total=   0.1s\n",
      "[CV] lf__C=0.001, lf__penalty=None, lf__solver=lbfgs .................\n"
     ]
    },
    {
     "name": "stderr",
     "output_type": "stream",
     "text": [
      "C:\\Users\\drago\\anaconda3\\envs\\learn-env\\lib\\site-packages\\sklearn\\model_selection\\_validation.py:548: FitFailedWarning: Estimator fit failed. The score on this train-test partition for these parameters will be set to nan. Details: \n",
      "Traceback (most recent call last):\n",
      "  File \"C:\\Users\\drago\\anaconda3\\envs\\learn-env\\lib\\site-packages\\sklearn\\model_selection\\_validation.py\", line 531, in _fit_and_score\n",
      "    estimator.fit(X_train, y_train, **fit_params)\n",
      "  File \"C:\\Users\\drago\\anaconda3\\envs\\learn-env\\lib\\site-packages\\sklearn\\pipeline.py\", line 335, in fit\n",
      "    self._final_estimator.fit(Xt, y, **fit_params_last_step)\n",
      "  File \"C:\\Users\\drago\\anaconda3\\envs\\learn-env\\lib\\site-packages\\sklearn\\linear_model\\_logistic.py\", line 1304, in fit\n",
      "    solver = _check_solver(self.solver, self.penalty, self.dual)\n",
      "  File \"C:\\Users\\drago\\anaconda3\\envs\\learn-env\\lib\\site-packages\\sklearn\\linear_model\\_logistic.py\", line 438, in _check_solver\n",
      "    raise ValueError(\"Logistic Regression supports only penalties in %s,\"\n",
      "ValueError: Logistic Regression supports only penalties in ['l1', 'l2', 'elasticnet', 'none'], got None.\n",
      "\n",
      "  warnings.warn(\"Estimator fit failed. The score on this train-test\"\n",
      "C:\\Users\\drago\\anaconda3\\envs\\learn-env\\lib\\site-packages\\sklearn\\model_selection\\_validation.py:548: FitFailedWarning: Estimator fit failed. The score on this train-test partition for these parameters will be set to nan. Details: \n",
      "Traceback (most recent call last):\n",
      "  File \"C:\\Users\\drago\\anaconda3\\envs\\learn-env\\lib\\site-packages\\sklearn\\model_selection\\_validation.py\", line 531, in _fit_and_score\n",
      "    estimator.fit(X_train, y_train, **fit_params)\n",
      "  File \"C:\\Users\\drago\\anaconda3\\envs\\learn-env\\lib\\site-packages\\sklearn\\pipeline.py\", line 335, in fit\n",
      "    self._final_estimator.fit(Xt, y, **fit_params_last_step)\n",
      "  File \"C:\\Users\\drago\\anaconda3\\envs\\learn-env\\lib\\site-packages\\sklearn\\linear_model\\_logistic.py\", line 1304, in fit\n",
      "    solver = _check_solver(self.solver, self.penalty, self.dual)\n",
      "  File \"C:\\Users\\drago\\anaconda3\\envs\\learn-env\\lib\\site-packages\\sklearn\\linear_model\\_logistic.py\", line 438, in _check_solver\n",
      "    raise ValueError(\"Logistic Regression supports only penalties in %s,\"\n",
      "ValueError: Logistic Regression supports only penalties in ['l1', 'l2', 'elasticnet', 'none'], got None.\n",
      "\n",
      "  warnings.warn(\"Estimator fit failed. The score on this train-test\"\n"
     ]
    },
    {
     "name": "stdout",
     "output_type": "stream",
     "text": [
      "[CV]  lf__C=0.001, lf__penalty=None, lf__solver=lbfgs, score=nan, total=   0.1s\n",
      "[CV] lf__C=0.001, lf__penalty=None, lf__solver=lbfgs .................\n",
      "[CV]  lf__C=0.001, lf__penalty=None, lf__solver=lbfgs, score=nan, total=   0.1s\n",
      "[CV] lf__C=0.001, lf__penalty=None, lf__solver=liblinear .............\n"
     ]
    },
    {
     "name": "stderr",
     "output_type": "stream",
     "text": [
      "C:\\Users\\drago\\anaconda3\\envs\\learn-env\\lib\\site-packages\\sklearn\\model_selection\\_validation.py:548: FitFailedWarning: Estimator fit failed. The score on this train-test partition for these parameters will be set to nan. Details: \n",
      "Traceback (most recent call last):\n",
      "  File \"C:\\Users\\drago\\anaconda3\\envs\\learn-env\\lib\\site-packages\\sklearn\\model_selection\\_validation.py\", line 531, in _fit_and_score\n",
      "    estimator.fit(X_train, y_train, **fit_params)\n",
      "  File \"C:\\Users\\drago\\anaconda3\\envs\\learn-env\\lib\\site-packages\\sklearn\\pipeline.py\", line 335, in fit\n",
      "    self._final_estimator.fit(Xt, y, **fit_params_last_step)\n",
      "  File \"C:\\Users\\drago\\anaconda3\\envs\\learn-env\\lib\\site-packages\\sklearn\\linear_model\\_logistic.py\", line 1304, in fit\n",
      "    solver = _check_solver(self.solver, self.penalty, self.dual)\n",
      "  File \"C:\\Users\\drago\\anaconda3\\envs\\learn-env\\lib\\site-packages\\sklearn\\linear_model\\_logistic.py\", line 438, in _check_solver\n",
      "    raise ValueError(\"Logistic Regression supports only penalties in %s,\"\n",
      "ValueError: Logistic Regression supports only penalties in ['l1', 'l2', 'elasticnet', 'none'], got None.\n",
      "\n",
      "  warnings.warn(\"Estimator fit failed. The score on this train-test\"\n",
      "C:\\Users\\drago\\anaconda3\\envs\\learn-env\\lib\\site-packages\\sklearn\\model_selection\\_validation.py:548: FitFailedWarning: Estimator fit failed. The score on this train-test partition for these parameters will be set to nan. Details: \n",
      "Traceback (most recent call last):\n",
      "  File \"C:\\Users\\drago\\anaconda3\\envs\\learn-env\\lib\\site-packages\\sklearn\\model_selection\\_validation.py\", line 531, in _fit_and_score\n",
      "    estimator.fit(X_train, y_train, **fit_params)\n",
      "  File \"C:\\Users\\drago\\anaconda3\\envs\\learn-env\\lib\\site-packages\\sklearn\\pipeline.py\", line 335, in fit\n",
      "    self._final_estimator.fit(Xt, y, **fit_params_last_step)\n",
      "  File \"C:\\Users\\drago\\anaconda3\\envs\\learn-env\\lib\\site-packages\\sklearn\\linear_model\\_logistic.py\", line 1304, in fit\n",
      "    solver = _check_solver(self.solver, self.penalty, self.dual)\n",
      "  File \"C:\\Users\\drago\\anaconda3\\envs\\learn-env\\lib\\site-packages\\sklearn\\linear_model\\_logistic.py\", line 438, in _check_solver\n",
      "    raise ValueError(\"Logistic Regression supports only penalties in %s,\"\n",
      "ValueError: Logistic Regression supports only penalties in ['l1', 'l2', 'elasticnet', 'none'], got None.\n",
      "\n",
      "  warnings.warn(\"Estimator fit failed. The score on this train-test\"\n"
     ]
    },
    {
     "name": "stdout",
     "output_type": "stream",
     "text": [
      "[CV]  lf__C=0.001, lf__penalty=None, lf__solver=liblinear, score=nan, total=   0.1s\n",
      "[CV] lf__C=0.001, lf__penalty=None, lf__solver=liblinear .............\n",
      "[CV]  lf__C=0.001, lf__penalty=None, lf__solver=liblinear, score=nan, total=   0.1s\n",
      "[CV] lf__C=0.001, lf__penalty=None, lf__solver=liblinear .............\n"
     ]
    },
    {
     "name": "stderr",
     "output_type": "stream",
     "text": [
      "C:\\Users\\drago\\anaconda3\\envs\\learn-env\\lib\\site-packages\\sklearn\\model_selection\\_validation.py:548: FitFailedWarning: Estimator fit failed. The score on this train-test partition for these parameters will be set to nan. Details: \n",
      "Traceback (most recent call last):\n",
      "  File \"C:\\Users\\drago\\anaconda3\\envs\\learn-env\\lib\\site-packages\\sklearn\\model_selection\\_validation.py\", line 531, in _fit_and_score\n",
      "    estimator.fit(X_train, y_train, **fit_params)\n",
      "  File \"C:\\Users\\drago\\anaconda3\\envs\\learn-env\\lib\\site-packages\\sklearn\\pipeline.py\", line 335, in fit\n",
      "    self._final_estimator.fit(Xt, y, **fit_params_last_step)\n",
      "  File \"C:\\Users\\drago\\anaconda3\\envs\\learn-env\\lib\\site-packages\\sklearn\\linear_model\\_logistic.py\", line 1304, in fit\n",
      "    solver = _check_solver(self.solver, self.penalty, self.dual)\n",
      "  File \"C:\\Users\\drago\\anaconda3\\envs\\learn-env\\lib\\site-packages\\sklearn\\linear_model\\_logistic.py\", line 438, in _check_solver\n",
      "    raise ValueError(\"Logistic Regression supports only penalties in %s,\"\n",
      "ValueError: Logistic Regression supports only penalties in ['l1', 'l2', 'elasticnet', 'none'], got None.\n",
      "\n",
      "  warnings.warn(\"Estimator fit failed. The score on this train-test\"\n",
      "C:\\Users\\drago\\anaconda3\\envs\\learn-env\\lib\\site-packages\\sklearn\\model_selection\\_validation.py:548: FitFailedWarning: Estimator fit failed. The score on this train-test partition for these parameters will be set to nan. Details: \n",
      "Traceback (most recent call last):\n",
      "  File \"C:\\Users\\drago\\anaconda3\\envs\\learn-env\\lib\\site-packages\\sklearn\\model_selection\\_validation.py\", line 531, in _fit_and_score\n",
      "    estimator.fit(X_train, y_train, **fit_params)\n",
      "  File \"C:\\Users\\drago\\anaconda3\\envs\\learn-env\\lib\\site-packages\\sklearn\\pipeline.py\", line 335, in fit\n",
      "    self._final_estimator.fit(Xt, y, **fit_params_last_step)\n",
      "  File \"C:\\Users\\drago\\anaconda3\\envs\\learn-env\\lib\\site-packages\\sklearn\\linear_model\\_logistic.py\", line 1304, in fit\n",
      "    solver = _check_solver(self.solver, self.penalty, self.dual)\n",
      "  File \"C:\\Users\\drago\\anaconda3\\envs\\learn-env\\lib\\site-packages\\sklearn\\linear_model\\_logistic.py\", line 438, in _check_solver\n",
      "    raise ValueError(\"Logistic Regression supports only penalties in %s,\"\n",
      "ValueError: Logistic Regression supports only penalties in ['l1', 'l2', 'elasticnet', 'none'], got None.\n",
      "\n",
      "  warnings.warn(\"Estimator fit failed. The score on this train-test\"\n"
     ]
    },
    {
     "name": "stdout",
     "output_type": "stream",
     "text": [
      "[CV]  lf__C=0.001, lf__penalty=None, lf__solver=liblinear, score=nan, total=   0.1s\n",
      "[CV] lf__C=0.001, lf__penalty=None, lf__solver=liblinear .............\n",
      "[CV]  lf__C=0.001, lf__penalty=None, lf__solver=liblinear, score=nan, total=   0.1s\n",
      "[CV] lf__C=0.001, lf__penalty=None, lf__solver=liblinear .............\n"
     ]
    },
    {
     "name": "stderr",
     "output_type": "stream",
     "text": [
      "C:\\Users\\drago\\anaconda3\\envs\\learn-env\\lib\\site-packages\\sklearn\\model_selection\\_validation.py:548: FitFailedWarning: Estimator fit failed. The score on this train-test partition for these parameters will be set to nan. Details: \n",
      "Traceback (most recent call last):\n",
      "  File \"C:\\Users\\drago\\anaconda3\\envs\\learn-env\\lib\\site-packages\\sklearn\\model_selection\\_validation.py\", line 531, in _fit_and_score\n",
      "    estimator.fit(X_train, y_train, **fit_params)\n",
      "  File \"C:\\Users\\drago\\anaconda3\\envs\\learn-env\\lib\\site-packages\\sklearn\\pipeline.py\", line 335, in fit\n",
      "    self._final_estimator.fit(Xt, y, **fit_params_last_step)\n",
      "  File \"C:\\Users\\drago\\anaconda3\\envs\\learn-env\\lib\\site-packages\\sklearn\\linear_model\\_logistic.py\", line 1304, in fit\n",
      "    solver = _check_solver(self.solver, self.penalty, self.dual)\n",
      "  File \"C:\\Users\\drago\\anaconda3\\envs\\learn-env\\lib\\site-packages\\sklearn\\linear_model\\_logistic.py\", line 438, in _check_solver\n",
      "    raise ValueError(\"Logistic Regression supports only penalties in %s,\"\n",
      "ValueError: Logistic Regression supports only penalties in ['l1', 'l2', 'elasticnet', 'none'], got None.\n",
      "\n",
      "  warnings.warn(\"Estimator fit failed. The score on this train-test\"\n",
      "C:\\Users\\drago\\anaconda3\\envs\\learn-env\\lib\\site-packages\\sklearn\\model_selection\\_validation.py:548: FitFailedWarning: Estimator fit failed. The score on this train-test partition for these parameters will be set to nan. Details: \n",
      "Traceback (most recent call last):\n",
      "  File \"C:\\Users\\drago\\anaconda3\\envs\\learn-env\\lib\\site-packages\\sklearn\\model_selection\\_validation.py\", line 531, in _fit_and_score\n",
      "    estimator.fit(X_train, y_train, **fit_params)\n",
      "  File \"C:\\Users\\drago\\anaconda3\\envs\\learn-env\\lib\\site-packages\\sklearn\\pipeline.py\", line 335, in fit\n",
      "    self._final_estimator.fit(Xt, y, **fit_params_last_step)\n",
      "  File \"C:\\Users\\drago\\anaconda3\\envs\\learn-env\\lib\\site-packages\\sklearn\\linear_model\\_logistic.py\", line 1304, in fit\n",
      "    solver = _check_solver(self.solver, self.penalty, self.dual)\n",
      "  File \"C:\\Users\\drago\\anaconda3\\envs\\learn-env\\lib\\site-packages\\sklearn\\linear_model\\_logistic.py\", line 438, in _check_solver\n",
      "    raise ValueError(\"Logistic Regression supports only penalties in %s,\"\n",
      "ValueError: Logistic Regression supports only penalties in ['l1', 'l2', 'elasticnet', 'none'], got None.\n",
      "\n",
      "  warnings.warn(\"Estimator fit failed. The score on this train-test\"\n"
     ]
    },
    {
     "name": "stdout",
     "output_type": "stream",
     "text": [
      "[CV]  lf__C=0.001, lf__penalty=None, lf__solver=liblinear, score=nan, total=   0.1s\n",
      "[CV] lf__C=0.001, lf__penalty=None, lf__solver=sag ...................\n",
      "[CV]  lf__C=0.001, lf__penalty=None, lf__solver=sag, score=nan, total=   0.1s\n",
      "[CV] lf__C=0.001, lf__penalty=None, lf__solver=sag ...................\n"
     ]
    },
    {
     "name": "stderr",
     "output_type": "stream",
     "text": [
      "C:\\Users\\drago\\anaconda3\\envs\\learn-env\\lib\\site-packages\\sklearn\\model_selection\\_validation.py:548: FitFailedWarning: Estimator fit failed. The score on this train-test partition for these parameters will be set to nan. Details: \n",
      "Traceback (most recent call last):\n",
      "  File \"C:\\Users\\drago\\anaconda3\\envs\\learn-env\\lib\\site-packages\\sklearn\\model_selection\\_validation.py\", line 531, in _fit_and_score\n",
      "    estimator.fit(X_train, y_train, **fit_params)\n",
      "  File \"C:\\Users\\drago\\anaconda3\\envs\\learn-env\\lib\\site-packages\\sklearn\\pipeline.py\", line 335, in fit\n",
      "    self._final_estimator.fit(Xt, y, **fit_params_last_step)\n",
      "  File \"C:\\Users\\drago\\anaconda3\\envs\\learn-env\\lib\\site-packages\\sklearn\\linear_model\\_logistic.py\", line 1304, in fit\n",
      "    solver = _check_solver(self.solver, self.penalty, self.dual)\n",
      "  File \"C:\\Users\\drago\\anaconda3\\envs\\learn-env\\lib\\site-packages\\sklearn\\linear_model\\_logistic.py\", line 438, in _check_solver\n",
      "    raise ValueError(\"Logistic Regression supports only penalties in %s,\"\n",
      "ValueError: Logistic Regression supports only penalties in ['l1', 'l2', 'elasticnet', 'none'], got None.\n",
      "\n",
      "  warnings.warn(\"Estimator fit failed. The score on this train-test\"\n",
      "C:\\Users\\drago\\anaconda3\\envs\\learn-env\\lib\\site-packages\\sklearn\\model_selection\\_validation.py:548: FitFailedWarning: Estimator fit failed. The score on this train-test partition for these parameters will be set to nan. Details: \n",
      "Traceback (most recent call last):\n",
      "  File \"C:\\Users\\drago\\anaconda3\\envs\\learn-env\\lib\\site-packages\\sklearn\\model_selection\\_validation.py\", line 531, in _fit_and_score\n",
      "    estimator.fit(X_train, y_train, **fit_params)\n",
      "  File \"C:\\Users\\drago\\anaconda3\\envs\\learn-env\\lib\\site-packages\\sklearn\\pipeline.py\", line 335, in fit\n",
      "    self._final_estimator.fit(Xt, y, **fit_params_last_step)\n",
      "  File \"C:\\Users\\drago\\anaconda3\\envs\\learn-env\\lib\\site-packages\\sklearn\\linear_model\\_logistic.py\", line 1304, in fit\n",
      "    solver = _check_solver(self.solver, self.penalty, self.dual)\n",
      "  File \"C:\\Users\\drago\\anaconda3\\envs\\learn-env\\lib\\site-packages\\sklearn\\linear_model\\_logistic.py\", line 438, in _check_solver\n",
      "    raise ValueError(\"Logistic Regression supports only penalties in %s,\"\n",
      "ValueError: Logistic Regression supports only penalties in ['l1', 'l2', 'elasticnet', 'none'], got None.\n",
      "\n",
      "  warnings.warn(\"Estimator fit failed. The score on this train-test\"\n"
     ]
    },
    {
     "name": "stdout",
     "output_type": "stream",
     "text": [
      "[CV]  lf__C=0.001, lf__penalty=None, lf__solver=sag, score=nan, total=   0.1s\n",
      "[CV] lf__C=0.001, lf__penalty=None, lf__solver=sag ...................\n",
      "[CV]  lf__C=0.001, lf__penalty=None, lf__solver=sag, score=nan, total=   0.1s\n",
      "[CV] lf__C=0.001, lf__penalty=None, lf__solver=sag ...................\n"
     ]
    },
    {
     "name": "stderr",
     "output_type": "stream",
     "text": [
      "C:\\Users\\drago\\anaconda3\\envs\\learn-env\\lib\\site-packages\\sklearn\\model_selection\\_validation.py:548: FitFailedWarning: Estimator fit failed. The score on this train-test partition for these parameters will be set to nan. Details: \n",
      "Traceback (most recent call last):\n",
      "  File \"C:\\Users\\drago\\anaconda3\\envs\\learn-env\\lib\\site-packages\\sklearn\\model_selection\\_validation.py\", line 531, in _fit_and_score\n",
      "    estimator.fit(X_train, y_train, **fit_params)\n",
      "  File \"C:\\Users\\drago\\anaconda3\\envs\\learn-env\\lib\\site-packages\\sklearn\\pipeline.py\", line 335, in fit\n",
      "    self._final_estimator.fit(Xt, y, **fit_params_last_step)\n",
      "  File \"C:\\Users\\drago\\anaconda3\\envs\\learn-env\\lib\\site-packages\\sklearn\\linear_model\\_logistic.py\", line 1304, in fit\n",
      "    solver = _check_solver(self.solver, self.penalty, self.dual)\n",
      "  File \"C:\\Users\\drago\\anaconda3\\envs\\learn-env\\lib\\site-packages\\sklearn\\linear_model\\_logistic.py\", line 438, in _check_solver\n",
      "    raise ValueError(\"Logistic Regression supports only penalties in %s,\"\n",
      "ValueError: Logistic Regression supports only penalties in ['l1', 'l2', 'elasticnet', 'none'], got None.\n",
      "\n",
      "  warnings.warn(\"Estimator fit failed. The score on this train-test\"\n",
      "C:\\Users\\drago\\anaconda3\\envs\\learn-env\\lib\\site-packages\\sklearn\\model_selection\\_validation.py:548: FitFailedWarning: Estimator fit failed. The score on this train-test partition for these parameters will be set to nan. Details: \n",
      "Traceback (most recent call last):\n",
      "  File \"C:\\Users\\drago\\anaconda3\\envs\\learn-env\\lib\\site-packages\\sklearn\\model_selection\\_validation.py\", line 531, in _fit_and_score\n",
      "    estimator.fit(X_train, y_train, **fit_params)\n",
      "  File \"C:\\Users\\drago\\anaconda3\\envs\\learn-env\\lib\\site-packages\\sklearn\\pipeline.py\", line 335, in fit\n",
      "    self._final_estimator.fit(Xt, y, **fit_params_last_step)\n",
      "  File \"C:\\Users\\drago\\anaconda3\\envs\\learn-env\\lib\\site-packages\\sklearn\\linear_model\\_logistic.py\", line 1304, in fit\n",
      "    solver = _check_solver(self.solver, self.penalty, self.dual)\n",
      "  File \"C:\\Users\\drago\\anaconda3\\envs\\learn-env\\lib\\site-packages\\sklearn\\linear_model\\_logistic.py\", line 438, in _check_solver\n",
      "    raise ValueError(\"Logistic Regression supports only penalties in %s,\"\n",
      "ValueError: Logistic Regression supports only penalties in ['l1', 'l2', 'elasticnet', 'none'], got None.\n",
      "\n",
      "  warnings.warn(\"Estimator fit failed. The score on this train-test\"\n"
     ]
    },
    {
     "name": "stdout",
     "output_type": "stream",
     "text": [
      "[CV]  lf__C=0.001, lf__penalty=None, lf__solver=sag, score=nan, total=   0.1s\n",
      "[CV] lf__C=0.001, lf__penalty=None, lf__solver=sag ...................\n",
      "[CV]  lf__C=0.001, lf__penalty=None, lf__solver=sag, score=nan, total=   0.1s\n",
      "[CV] lf__C=0.001, lf__penalty=None, lf__solver=saga ..................\n"
     ]
    },
    {
     "name": "stderr",
     "output_type": "stream",
     "text": [
      "C:\\Users\\drago\\anaconda3\\envs\\learn-env\\lib\\site-packages\\sklearn\\model_selection\\_validation.py:548: FitFailedWarning: Estimator fit failed. The score on this train-test partition for these parameters will be set to nan. Details: \n",
      "Traceback (most recent call last):\n",
      "  File \"C:\\Users\\drago\\anaconda3\\envs\\learn-env\\lib\\site-packages\\sklearn\\model_selection\\_validation.py\", line 531, in _fit_and_score\n",
      "    estimator.fit(X_train, y_train, **fit_params)\n",
      "  File \"C:\\Users\\drago\\anaconda3\\envs\\learn-env\\lib\\site-packages\\sklearn\\pipeline.py\", line 335, in fit\n",
      "    self._final_estimator.fit(Xt, y, **fit_params_last_step)\n",
      "  File \"C:\\Users\\drago\\anaconda3\\envs\\learn-env\\lib\\site-packages\\sklearn\\linear_model\\_logistic.py\", line 1304, in fit\n",
      "    solver = _check_solver(self.solver, self.penalty, self.dual)\n",
      "  File \"C:\\Users\\drago\\anaconda3\\envs\\learn-env\\lib\\site-packages\\sklearn\\linear_model\\_logistic.py\", line 438, in _check_solver\n",
      "    raise ValueError(\"Logistic Regression supports only penalties in %s,\"\n",
      "ValueError: Logistic Regression supports only penalties in ['l1', 'l2', 'elasticnet', 'none'], got None.\n",
      "\n",
      "  warnings.warn(\"Estimator fit failed. The score on this train-test\"\n",
      "C:\\Users\\drago\\anaconda3\\envs\\learn-env\\lib\\site-packages\\sklearn\\model_selection\\_validation.py:548: FitFailedWarning: Estimator fit failed. The score on this train-test partition for these parameters will be set to nan. Details: \n",
      "Traceback (most recent call last):\n",
      "  File \"C:\\Users\\drago\\anaconda3\\envs\\learn-env\\lib\\site-packages\\sklearn\\model_selection\\_validation.py\", line 531, in _fit_and_score\n",
      "    estimator.fit(X_train, y_train, **fit_params)\n",
      "  File \"C:\\Users\\drago\\anaconda3\\envs\\learn-env\\lib\\site-packages\\sklearn\\pipeline.py\", line 335, in fit\n",
      "    self._final_estimator.fit(Xt, y, **fit_params_last_step)\n",
      "  File \"C:\\Users\\drago\\anaconda3\\envs\\learn-env\\lib\\site-packages\\sklearn\\linear_model\\_logistic.py\", line 1304, in fit\n",
      "    solver = _check_solver(self.solver, self.penalty, self.dual)\n",
      "  File \"C:\\Users\\drago\\anaconda3\\envs\\learn-env\\lib\\site-packages\\sklearn\\linear_model\\_logistic.py\", line 438, in _check_solver\n",
      "    raise ValueError(\"Logistic Regression supports only penalties in %s,\"\n",
      "ValueError: Logistic Regression supports only penalties in ['l1', 'l2', 'elasticnet', 'none'], got None.\n",
      "\n",
      "  warnings.warn(\"Estimator fit failed. The score on this train-test\"\n"
     ]
    },
    {
     "name": "stdout",
     "output_type": "stream",
     "text": [
      "[CV]  lf__C=0.001, lf__penalty=None, lf__solver=saga, score=nan, total=   0.1s\n",
      "[CV] lf__C=0.001, lf__penalty=None, lf__solver=saga ..................\n",
      "[CV]  lf__C=0.001, lf__penalty=None, lf__solver=saga, score=nan, total=   0.1s\n",
      "[CV] lf__C=0.001, lf__penalty=None, lf__solver=saga ..................\n"
     ]
    },
    {
     "name": "stderr",
     "output_type": "stream",
     "text": [
      "C:\\Users\\drago\\anaconda3\\envs\\learn-env\\lib\\site-packages\\sklearn\\model_selection\\_validation.py:548: FitFailedWarning: Estimator fit failed. The score on this train-test partition for these parameters will be set to nan. Details: \n",
      "Traceback (most recent call last):\n",
      "  File \"C:\\Users\\drago\\anaconda3\\envs\\learn-env\\lib\\site-packages\\sklearn\\model_selection\\_validation.py\", line 531, in _fit_and_score\n",
      "    estimator.fit(X_train, y_train, **fit_params)\n",
      "  File \"C:\\Users\\drago\\anaconda3\\envs\\learn-env\\lib\\site-packages\\sklearn\\pipeline.py\", line 335, in fit\n",
      "    self._final_estimator.fit(Xt, y, **fit_params_last_step)\n",
      "  File \"C:\\Users\\drago\\anaconda3\\envs\\learn-env\\lib\\site-packages\\sklearn\\linear_model\\_logistic.py\", line 1304, in fit\n",
      "    solver = _check_solver(self.solver, self.penalty, self.dual)\n",
      "  File \"C:\\Users\\drago\\anaconda3\\envs\\learn-env\\lib\\site-packages\\sklearn\\linear_model\\_logistic.py\", line 438, in _check_solver\n",
      "    raise ValueError(\"Logistic Regression supports only penalties in %s,\"\n",
      "ValueError: Logistic Regression supports only penalties in ['l1', 'l2', 'elasticnet', 'none'], got None.\n",
      "\n",
      "  warnings.warn(\"Estimator fit failed. The score on this train-test\"\n",
      "C:\\Users\\drago\\anaconda3\\envs\\learn-env\\lib\\site-packages\\sklearn\\model_selection\\_validation.py:548: FitFailedWarning: Estimator fit failed. The score on this train-test partition for these parameters will be set to nan. Details: \n",
      "Traceback (most recent call last):\n",
      "  File \"C:\\Users\\drago\\anaconda3\\envs\\learn-env\\lib\\site-packages\\sklearn\\model_selection\\_validation.py\", line 531, in _fit_and_score\n",
      "    estimator.fit(X_train, y_train, **fit_params)\n",
      "  File \"C:\\Users\\drago\\anaconda3\\envs\\learn-env\\lib\\site-packages\\sklearn\\pipeline.py\", line 335, in fit\n",
      "    self._final_estimator.fit(Xt, y, **fit_params_last_step)\n",
      "  File \"C:\\Users\\drago\\anaconda3\\envs\\learn-env\\lib\\site-packages\\sklearn\\linear_model\\_logistic.py\", line 1304, in fit\n",
      "    solver = _check_solver(self.solver, self.penalty, self.dual)\n",
      "  File \"C:\\Users\\drago\\anaconda3\\envs\\learn-env\\lib\\site-packages\\sklearn\\linear_model\\_logistic.py\", line 438, in _check_solver\n",
      "    raise ValueError(\"Logistic Regression supports only penalties in %s,\"\n",
      "ValueError: Logistic Regression supports only penalties in ['l1', 'l2', 'elasticnet', 'none'], got None.\n",
      "\n",
      "  warnings.warn(\"Estimator fit failed. The score on this train-test\"\n"
     ]
    },
    {
     "name": "stdout",
     "output_type": "stream",
     "text": [
      "[CV]  lf__C=0.001, lf__penalty=None, lf__solver=saga, score=nan, total=   0.1s\n",
      "[CV] lf__C=0.001, lf__penalty=None, lf__solver=saga ..................\n",
      "[CV]  lf__C=0.001, lf__penalty=None, lf__solver=saga, score=nan, total=   0.1s\n",
      "[CV] lf__C=0.001, lf__penalty=None, lf__solver=saga ..................\n"
     ]
    },
    {
     "name": "stderr",
     "output_type": "stream",
     "text": [
      "C:\\Users\\drago\\anaconda3\\envs\\learn-env\\lib\\site-packages\\sklearn\\model_selection\\_validation.py:548: FitFailedWarning: Estimator fit failed. The score on this train-test partition for these parameters will be set to nan. Details: \n",
      "Traceback (most recent call last):\n",
      "  File \"C:\\Users\\drago\\anaconda3\\envs\\learn-env\\lib\\site-packages\\sklearn\\model_selection\\_validation.py\", line 531, in _fit_and_score\n",
      "    estimator.fit(X_train, y_train, **fit_params)\n",
      "  File \"C:\\Users\\drago\\anaconda3\\envs\\learn-env\\lib\\site-packages\\sklearn\\pipeline.py\", line 335, in fit\n",
      "    self._final_estimator.fit(Xt, y, **fit_params_last_step)\n",
      "  File \"C:\\Users\\drago\\anaconda3\\envs\\learn-env\\lib\\site-packages\\sklearn\\linear_model\\_logistic.py\", line 1304, in fit\n",
      "    solver = _check_solver(self.solver, self.penalty, self.dual)\n",
      "  File \"C:\\Users\\drago\\anaconda3\\envs\\learn-env\\lib\\site-packages\\sklearn\\linear_model\\_logistic.py\", line 438, in _check_solver\n",
      "    raise ValueError(\"Logistic Regression supports only penalties in %s,\"\n",
      "ValueError: Logistic Regression supports only penalties in ['l1', 'l2', 'elasticnet', 'none'], got None.\n",
      "\n",
      "  warnings.warn(\"Estimator fit failed. The score on this train-test\"\n",
      "[Parallel(n_jobs=1)]: Done 400 out of 400 | elapsed:  7.4min finished\n"
     ]
    },
    {
     "name": "stdout",
     "output_type": "stream",
     "text": [
      "[CV]  lf__C=0.001, lf__penalty=None, lf__solver=saga, score=nan, total=   0.1s\n",
      "+++++++++++++\n",
      "LogisticRegression\n",
      "+++++++++++++\n",
      "Mean_Test Score\n",
      "-------------\n",
      "[       nan        nan 0.58462399        nan 0.53738501 0.60614383\n",
      " 0.60695133 0.58465656 0.50264193 0.60028189        nan        nan\n",
      "        nan        nan        nan        nan        nan        nan\n",
      "        nan        nan        nan        nan 0.57747299        nan\n",
      " 0.5566746  0.60588348 0.60601551 0.5788889  0.60588348 0.60597274\n",
      "        nan        nan        nan        nan        nan        nan\n",
      "        nan        nan        nan        nan        nan        nan\n",
      " 0.54917155        nan 0.54416474 0.60663644 0.60673288 0.56666942\n",
      " 0.60663644 0.60663644        nan        nan        nan        nan\n",
      "        nan        nan        nan        nan        nan        nan\n",
      "        nan        nan 0.43702           nan 0.48407773 0.5895007\n",
      " 0.5895007  0.51573808 0.5895007  0.58966513        nan        nan\n",
      "        nan        nan        nan        nan        nan        nan\n",
      "        nan        nan]\n",
      "-------------\n",
      "Best Params\n",
      "-------------\n",
      "{'lf__C': 1.0, 'lf__penalty': 'l2', 'lf__solver': 'lbfgs'}\n"
     ]
    },
    {
     "name": "stderr",
     "output_type": "stream",
     "text": [
      "C:\\Users\\drago\\anaconda3\\envs\\learn-env\\lib\\site-packages\\sklearn\\linear_model\\_logistic.py:762: ConvergenceWarning: lbfgs failed to converge (status=1):\n",
      "STOP: TOTAL NO. of ITERATIONS REACHED LIMIT.\n",
      "\n",
      "Increase the number of iterations (max_iter) or scale the data as shown in:\n",
      "    https://scikit-learn.org/stable/modules/preprocessing.html\n",
      "Please also refer to the documentation for alternative solver options:\n",
      "    https://scikit-learn.org/stable/modules/linear_model.html#logistic-regression\n",
      "  n_iter_i = _check_optimize_result(\n"
     ]
    }
   ],
   "source": [
    "gs = GridSearchCV(lf_pipeline, lf_param_grid, cv=5, scoring='recall_macro', verbose=3)\n",
    "gs.fit(X_train, y_train)\n",
    "print('+++++++++++++')\n",
    "print('LogisticRegression')\n",
    "print('+++++++++++++')\n",
    "print('Mean_Test Score')\n",
    "print('-------------')\n",
    "print(gs.cv_results_['mean_test_score'])\n",
    "print('-------------')\n",
    "print('Best Params')\n",
    "print('-------------')\n",
    "print(gs.best_params_)"
   ]
  },
  {
   "cell_type": "code",
   "execution_count": 94,
   "metadata": {
    "scrolled": true
   },
   "outputs": [
    {
     "name": "stderr",
     "output_type": "stream",
     "text": [
      "[Parallel(n_jobs=1)]: Using backend SequentialBackend with 1 concurrent workers.\n"
     ]
    },
    {
     "name": "stdout",
     "output_type": "stream",
     "text": [
      "Fitting 5 folds for each of 18 candidates, totalling 90 fits\n",
      "[CV] knc__metric=manhattan, knc__n_neighbors=3, knc__weights=uniform .\n",
      "[CV]  knc__metric=manhattan, knc__n_neighbors=3, knc__weights=uniform, score=0.544, total=  15.9s\n",
      "[CV] knc__metric=manhattan, knc__n_neighbors=3, knc__weights=uniform .\n"
     ]
    },
    {
     "name": "stderr",
     "output_type": "stream",
     "text": [
      "[Parallel(n_jobs=1)]: Done   1 out of   1 | elapsed:   15.8s remaining:    0.0s\n"
     ]
    },
    {
     "name": "stdout",
     "output_type": "stream",
     "text": [
      "[CV]  knc__metric=manhattan, knc__n_neighbors=3, knc__weights=uniform, score=0.551, total=  15.3s\n",
      "[CV] knc__metric=manhattan, knc__n_neighbors=3, knc__weights=uniform .\n"
     ]
    },
    {
     "name": "stderr",
     "output_type": "stream",
     "text": [
      "[Parallel(n_jobs=1)]: Done   2 out of   2 | elapsed:   31.1s remaining:    0.0s\n"
     ]
    },
    {
     "name": "stdout",
     "output_type": "stream",
     "text": [
      "[CV]  knc__metric=manhattan, knc__n_neighbors=3, knc__weights=uniform, score=0.548, total=  13.9s\n",
      "[CV] knc__metric=manhattan, knc__n_neighbors=3, knc__weights=uniform .\n",
      "[CV]  knc__metric=manhattan, knc__n_neighbors=3, knc__weights=uniform, score=0.548, total=  15.1s\n",
      "[CV] knc__metric=manhattan, knc__n_neighbors=3, knc__weights=uniform .\n",
      "[CV]  knc__metric=manhattan, knc__n_neighbors=3, knc__weights=uniform, score=0.531, total=  16.2s\n",
      "[CV] knc__metric=manhattan, knc__n_neighbors=3, knc__weights=distance \n",
      "[CV]  knc__metric=manhattan, knc__n_neighbors=3, knc__weights=distance, score=0.545, total=  15.7s\n",
      "[CV] knc__metric=manhattan, knc__n_neighbors=3, knc__weights=distance \n",
      "[CV]  knc__metric=manhattan, knc__n_neighbors=3, knc__weights=distance, score=0.554, total=  15.3s\n",
      "[CV] knc__metric=manhattan, knc__n_neighbors=3, knc__weights=distance \n",
      "[CV]  knc__metric=manhattan, knc__n_neighbors=3, knc__weights=distance, score=0.550, total=  14.4s\n",
      "[CV] knc__metric=manhattan, knc__n_neighbors=3, knc__weights=distance \n",
      "[CV]  knc__metric=manhattan, knc__n_neighbors=3, knc__weights=distance, score=0.552, total=  14.2s\n",
      "[CV] knc__metric=manhattan, knc__n_neighbors=3, knc__weights=distance \n",
      "[CV]  knc__metric=manhattan, knc__n_neighbors=3, knc__weights=distance, score=0.535, total=  14.2s\n",
      "[CV] knc__metric=manhattan, knc__n_neighbors=5, knc__weights=uniform .\n",
      "[CV]  knc__metric=manhattan, knc__n_neighbors=5, knc__weights=uniform, score=0.549, total=  15.2s\n",
      "[CV] knc__metric=manhattan, knc__n_neighbors=5, knc__weights=uniform .\n",
      "[CV]  knc__metric=manhattan, knc__n_neighbors=5, knc__weights=uniform, score=0.553, total=  14.9s\n",
      "[CV] knc__metric=manhattan, knc__n_neighbors=5, knc__weights=uniform .\n",
      "[CV]  knc__metric=manhattan, knc__n_neighbors=5, knc__weights=uniform, score=0.552, total=  14.9s\n",
      "[CV] knc__metric=manhattan, knc__n_neighbors=5, knc__weights=uniform .\n",
      "[CV]  knc__metric=manhattan, knc__n_neighbors=5, knc__weights=uniform, score=0.560, total=  15.1s\n",
      "[CV] knc__metric=manhattan, knc__n_neighbors=5, knc__weights=uniform .\n",
      "[CV]  knc__metric=manhattan, knc__n_neighbors=5, knc__weights=uniform, score=0.554, total=  16.0s\n",
      "[CV] knc__metric=manhattan, knc__n_neighbors=5, knc__weights=distance \n",
      "[CV]  knc__metric=manhattan, knc__n_neighbors=5, knc__weights=distance, score=0.554, total=  16.8s\n",
      "[CV] knc__metric=manhattan, knc__n_neighbors=5, knc__weights=distance \n",
      "[CV]  knc__metric=manhattan, knc__n_neighbors=5, knc__weights=distance, score=0.561, total=  17.1s\n",
      "[CV] knc__metric=manhattan, knc__n_neighbors=5, knc__weights=distance \n",
      "[CV]  knc__metric=manhattan, knc__n_neighbors=5, knc__weights=distance, score=0.558, total=  17.3s\n",
      "[CV] knc__metric=manhattan, knc__n_neighbors=5, knc__weights=distance \n",
      "[CV]  knc__metric=manhattan, knc__n_neighbors=5, knc__weights=distance, score=0.565, total=  16.5s\n",
      "[CV] knc__metric=manhattan, knc__n_neighbors=5, knc__weights=distance \n",
      "[CV]  knc__metric=manhattan, knc__n_neighbors=5, knc__weights=distance, score=0.564, total=  15.3s\n",
      "[CV] knc__metric=manhattan, knc__n_neighbors=10, knc__weights=uniform \n",
      "[CV]  knc__metric=manhattan, knc__n_neighbors=10, knc__weights=uniform, score=0.549, total=  18.9s\n",
      "[CV] knc__metric=manhattan, knc__n_neighbors=10, knc__weights=uniform \n",
      "[CV]  knc__metric=manhattan, knc__n_neighbors=10, knc__weights=uniform, score=0.542, total=  18.0s\n",
      "[CV] knc__metric=manhattan, knc__n_neighbors=10, knc__weights=uniform \n",
      "[CV]  knc__metric=manhattan, knc__n_neighbors=10, knc__weights=uniform, score=0.547, total=  16.9s\n",
      "[CV] knc__metric=manhattan, knc__n_neighbors=10, knc__weights=uniform \n",
      "[CV]  knc__metric=manhattan, knc__n_neighbors=10, knc__weights=uniform, score=0.546, total=  17.0s\n",
      "[CV] knc__metric=manhattan, knc__n_neighbors=10, knc__weights=uniform \n",
      "[CV]  knc__metric=manhattan, knc__n_neighbors=10, knc__weights=uniform, score=0.536, total=  17.9s\n",
      "[CV] knc__metric=manhattan, knc__n_neighbors=10, knc__weights=distance \n",
      "[CV]  knc__metric=manhattan, knc__n_neighbors=10, knc__weights=distance, score=0.563, total=  18.8s\n",
      "[CV] knc__metric=manhattan, knc__n_neighbors=10, knc__weights=distance \n",
      "[CV]  knc__metric=manhattan, knc__n_neighbors=10, knc__weights=distance, score=0.555, total=  18.4s\n",
      "[CV] knc__metric=manhattan, knc__n_neighbors=10, knc__weights=distance \n",
      "[CV]  knc__metric=manhattan, knc__n_neighbors=10, knc__weights=distance, score=0.560, total=  16.9s\n",
      "[CV] knc__metric=manhattan, knc__n_neighbors=10, knc__weights=distance \n",
      "[CV]  knc__metric=manhattan, knc__n_neighbors=10, knc__weights=distance, score=0.558, total=  16.6s\n",
      "[CV] knc__metric=manhattan, knc__n_neighbors=10, knc__weights=distance \n",
      "[CV]  knc__metric=manhattan, knc__n_neighbors=10, knc__weights=distance, score=0.550, total=  17.4s\n",
      "[CV] knc__metric=euclidean, knc__n_neighbors=3, knc__weights=uniform .\n",
      "[CV]  knc__metric=euclidean, knc__n_neighbors=3, knc__weights=uniform, score=0.544, total=  16.4s\n",
      "[CV] knc__metric=euclidean, knc__n_neighbors=3, knc__weights=uniform .\n",
      "[CV]  knc__metric=euclidean, knc__n_neighbors=3, knc__weights=uniform, score=0.551, total=  16.8s\n",
      "[CV] knc__metric=euclidean, knc__n_neighbors=3, knc__weights=uniform .\n",
      "[CV]  knc__metric=euclidean, knc__n_neighbors=3, knc__weights=uniform, score=0.548, total=  16.6s\n",
      "[CV] knc__metric=euclidean, knc__n_neighbors=3, knc__weights=uniform .\n",
      "[CV]  knc__metric=euclidean, knc__n_neighbors=3, knc__weights=uniform, score=0.548, total=  16.3s\n",
      "[CV] knc__metric=euclidean, knc__n_neighbors=3, knc__weights=uniform .\n",
      "[CV]  knc__metric=euclidean, knc__n_neighbors=3, knc__weights=uniform, score=0.531, total=  16.8s\n",
      "[CV] knc__metric=euclidean, knc__n_neighbors=3, knc__weights=distance \n",
      "[CV]  knc__metric=euclidean, knc__n_neighbors=3, knc__weights=distance, score=0.545, total=  16.8s\n",
      "[CV] knc__metric=euclidean, knc__n_neighbors=3, knc__weights=distance \n",
      "[CV]  knc__metric=euclidean, knc__n_neighbors=3, knc__weights=distance, score=0.554, total=  16.9s\n",
      "[CV] knc__metric=euclidean, knc__n_neighbors=3, knc__weights=distance \n",
      "[CV]  knc__metric=euclidean, knc__n_neighbors=3, knc__weights=distance, score=0.550, total=  16.1s\n",
      "[CV] knc__metric=euclidean, knc__n_neighbors=3, knc__weights=distance \n",
      "[CV]  knc__metric=euclidean, knc__n_neighbors=3, knc__weights=distance, score=0.552, total=  16.3s\n",
      "[CV] knc__metric=euclidean, knc__n_neighbors=3, knc__weights=distance \n",
      "[CV]  knc__metric=euclidean, knc__n_neighbors=3, knc__weights=distance, score=0.535, total=  16.4s\n",
      "[CV] knc__metric=euclidean, knc__n_neighbors=5, knc__weights=uniform .\n",
      "[CV]  knc__metric=euclidean, knc__n_neighbors=5, knc__weights=uniform, score=0.549, total=  17.1s\n",
      "[CV] knc__metric=euclidean, knc__n_neighbors=5, knc__weights=uniform .\n",
      "[CV]  knc__metric=euclidean, knc__n_neighbors=5, knc__weights=uniform, score=0.553, total=  17.8s\n",
      "[CV] knc__metric=euclidean, knc__n_neighbors=5, knc__weights=uniform .\n",
      "[CV]  knc__metric=euclidean, knc__n_neighbors=5, knc__weights=uniform, score=0.552, total=  17.8s\n",
      "[CV] knc__metric=euclidean, knc__n_neighbors=5, knc__weights=uniform .\n",
      "[CV]  knc__metric=euclidean, knc__n_neighbors=5, knc__weights=uniform, score=0.560, total=  17.8s\n",
      "[CV] knc__metric=euclidean, knc__n_neighbors=5, knc__weights=uniform .\n",
      "[CV]  knc__metric=euclidean, knc__n_neighbors=5, knc__weights=uniform, score=0.554, total=  17.5s\n",
      "[CV] knc__metric=euclidean, knc__n_neighbors=5, knc__weights=distance \n",
      "[CV]  knc__metric=euclidean, knc__n_neighbors=5, knc__weights=distance, score=0.554, total=  16.9s\n",
      "[CV] knc__metric=euclidean, knc__n_neighbors=5, knc__weights=distance \n",
      "[CV]  knc__metric=euclidean, knc__n_neighbors=5, knc__weights=distance, score=0.561, total=  18.4s\n",
      "[CV] knc__metric=euclidean, knc__n_neighbors=5, knc__weights=distance \n",
      "[CV]  knc__metric=euclidean, knc__n_neighbors=5, knc__weights=distance, score=0.558, total=  17.1s\n",
      "[CV] knc__metric=euclidean, knc__n_neighbors=5, knc__weights=distance \n",
      "[CV]  knc__metric=euclidean, knc__n_neighbors=5, knc__weights=distance, score=0.565, total=  17.5s\n",
      "[CV] knc__metric=euclidean, knc__n_neighbors=5, knc__weights=distance \n",
      "[CV]  knc__metric=euclidean, knc__n_neighbors=5, knc__weights=distance, score=0.563, total=  18.0s\n",
      "[CV] knc__metric=euclidean, knc__n_neighbors=10, knc__weights=uniform \n",
      "[CV]  knc__metric=euclidean, knc__n_neighbors=10, knc__weights=uniform, score=0.549, total=  19.9s\n",
      "[CV] knc__metric=euclidean, knc__n_neighbors=10, knc__weights=uniform \n"
     ]
    },
    {
     "name": "stdout",
     "output_type": "stream",
     "text": [
      "[CV]  knc__metric=euclidean, knc__n_neighbors=10, knc__weights=uniform, score=0.542, total=  20.2s\n",
      "[CV] knc__metric=euclidean, knc__n_neighbors=10, knc__weights=uniform \n",
      "[CV]  knc__metric=euclidean, knc__n_neighbors=10, knc__weights=uniform, score=0.547, total=  20.0s\n",
      "[CV] knc__metric=euclidean, knc__n_neighbors=10, knc__weights=uniform \n",
      "[CV]  knc__metric=euclidean, knc__n_neighbors=10, knc__weights=uniform, score=0.546, total=  19.6s\n",
      "[CV] knc__metric=euclidean, knc__n_neighbors=10, knc__weights=uniform \n",
      "[CV]  knc__metric=euclidean, knc__n_neighbors=10, knc__weights=uniform, score=0.536, total=  20.0s\n",
      "[CV] knc__metric=euclidean, knc__n_neighbors=10, knc__weights=distance \n",
      "[CV]  knc__metric=euclidean, knc__n_neighbors=10, knc__weights=distance, score=0.563, total=  19.2s\n",
      "[CV] knc__metric=euclidean, knc__n_neighbors=10, knc__weights=distance \n",
      "[CV]  knc__metric=euclidean, knc__n_neighbors=10, knc__weights=distance, score=0.555, total=  19.1s\n",
      "[CV] knc__metric=euclidean, knc__n_neighbors=10, knc__weights=distance \n",
      "[CV]  knc__metric=euclidean, knc__n_neighbors=10, knc__weights=distance, score=0.559, total=  19.3s\n",
      "[CV] knc__metric=euclidean, knc__n_neighbors=10, knc__weights=distance \n",
      "[CV]  knc__metric=euclidean, knc__n_neighbors=10, knc__weights=distance, score=0.558, total=  19.1s\n",
      "[CV] knc__metric=euclidean, knc__n_neighbors=10, knc__weights=distance \n",
      "[CV]  knc__metric=euclidean, knc__n_neighbors=10, knc__weights=distance, score=0.550, total=  19.4s\n",
      "[CV] knc__metric=minkowski, knc__n_neighbors=3, knc__weights=uniform .\n",
      "[CV]  knc__metric=minkowski, knc__n_neighbors=3, knc__weights=uniform, score=0.544, total=  16.2s\n",
      "[CV] knc__metric=minkowski, knc__n_neighbors=3, knc__weights=uniform .\n",
      "[CV]  knc__metric=minkowski, knc__n_neighbors=3, knc__weights=uniform, score=0.551, total=  16.4s\n",
      "[CV] knc__metric=minkowski, knc__n_neighbors=3, knc__weights=uniform .\n",
      "[CV]  knc__metric=minkowski, knc__n_neighbors=3, knc__weights=uniform, score=0.548, total=  16.8s\n",
      "[CV] knc__metric=minkowski, knc__n_neighbors=3, knc__weights=uniform .\n",
      "[CV]  knc__metric=minkowski, knc__n_neighbors=3, knc__weights=uniform, score=0.548, total=  16.3s\n",
      "[CV] knc__metric=minkowski, knc__n_neighbors=3, knc__weights=uniform .\n",
      "[CV]  knc__metric=minkowski, knc__n_neighbors=3, knc__weights=uniform, score=0.531, total=  17.6s\n",
      "[CV] knc__metric=minkowski, knc__n_neighbors=3, knc__weights=distance \n",
      "[CV]  knc__metric=minkowski, knc__n_neighbors=3, knc__weights=distance, score=0.545, total=  17.0s\n",
      "[CV] knc__metric=minkowski, knc__n_neighbors=3, knc__weights=distance \n",
      "[CV]  knc__metric=minkowski, knc__n_neighbors=3, knc__weights=distance, score=0.554, total=  17.3s\n",
      "[CV] knc__metric=minkowski, knc__n_neighbors=3, knc__weights=distance \n",
      "[CV]  knc__metric=minkowski, knc__n_neighbors=3, knc__weights=distance, score=0.550, total=  18.3s\n",
      "[CV] knc__metric=minkowski, knc__n_neighbors=3, knc__weights=distance \n",
      "[CV]  knc__metric=minkowski, knc__n_neighbors=3, knc__weights=distance, score=0.552, total=  17.9s\n",
      "[CV] knc__metric=minkowski, knc__n_neighbors=3, knc__weights=distance \n",
      "[CV]  knc__metric=minkowski, knc__n_neighbors=3, knc__weights=distance, score=0.535, total=  17.0s\n",
      "[CV] knc__metric=minkowski, knc__n_neighbors=5, knc__weights=uniform .\n",
      "[CV]  knc__metric=minkowski, knc__n_neighbors=5, knc__weights=uniform, score=0.549, total=  20.0s\n",
      "[CV] knc__metric=minkowski, knc__n_neighbors=5, knc__weights=uniform .\n",
      "[CV]  knc__metric=minkowski, knc__n_neighbors=5, knc__weights=uniform, score=0.553, total=  18.5s\n",
      "[CV] knc__metric=minkowski, knc__n_neighbors=5, knc__weights=uniform .\n",
      "[CV]  knc__metric=minkowski, knc__n_neighbors=5, knc__weights=uniform, score=0.552, total=  18.9s\n",
      "[CV] knc__metric=minkowski, knc__n_neighbors=5, knc__weights=uniform .\n",
      "[CV]  knc__metric=minkowski, knc__n_neighbors=5, knc__weights=uniform, score=0.560, total=  18.4s\n",
      "[CV] knc__metric=minkowski, knc__n_neighbors=5, knc__weights=uniform .\n",
      "[CV]  knc__metric=minkowski, knc__n_neighbors=5, knc__weights=uniform, score=0.554, total=  18.4s\n",
      "[CV] knc__metric=minkowski, knc__n_neighbors=5, knc__weights=distance \n",
      "[CV]  knc__metric=minkowski, knc__n_neighbors=5, knc__weights=distance, score=0.554, total=  17.9s\n",
      "[CV] knc__metric=minkowski, knc__n_neighbors=5, knc__weights=distance \n",
      "[CV]  knc__metric=minkowski, knc__n_neighbors=5, knc__weights=distance, score=0.561, total=  18.1s\n",
      "[CV] knc__metric=minkowski, knc__n_neighbors=5, knc__weights=distance \n",
      "[CV]  knc__metric=minkowski, knc__n_neighbors=5, knc__weights=distance, score=0.558, total=  18.2s\n",
      "[CV] knc__metric=minkowski, knc__n_neighbors=5, knc__weights=distance \n",
      "[CV]  knc__metric=minkowski, knc__n_neighbors=5, knc__weights=distance, score=0.565, total=  18.6s\n",
      "[CV] knc__metric=minkowski, knc__n_neighbors=5, knc__weights=distance \n",
      "[CV]  knc__metric=minkowski, knc__n_neighbors=5, knc__weights=distance, score=0.563, total=  18.1s\n",
      "[CV] knc__metric=minkowski, knc__n_neighbors=10, knc__weights=uniform \n",
      "[CV]  knc__metric=minkowski, knc__n_neighbors=10, knc__weights=uniform, score=0.549, total=  20.9s\n",
      "[CV] knc__metric=minkowski, knc__n_neighbors=10, knc__weights=uniform \n",
      "[CV]  knc__metric=minkowski, knc__n_neighbors=10, knc__weights=uniform, score=0.542, total=  22.2s\n",
      "[CV] knc__metric=minkowski, knc__n_neighbors=10, knc__weights=uniform \n",
      "[CV]  knc__metric=minkowski, knc__n_neighbors=10, knc__weights=uniform, score=0.547, total=  22.3s\n",
      "[CV] knc__metric=minkowski, knc__n_neighbors=10, knc__weights=uniform \n",
      "[CV]  knc__metric=minkowski, knc__n_neighbors=10, knc__weights=uniform, score=0.546, total=  21.7s\n",
      "[CV] knc__metric=minkowski, knc__n_neighbors=10, knc__weights=uniform \n",
      "[CV]  knc__metric=minkowski, knc__n_neighbors=10, knc__weights=uniform, score=0.536, total=  21.4s\n",
      "[CV] knc__metric=minkowski, knc__n_neighbors=10, knc__weights=distance \n",
      "[CV]  knc__metric=minkowski, knc__n_neighbors=10, knc__weights=distance, score=0.563, total=  20.1s\n",
      "[CV] knc__metric=minkowski, knc__n_neighbors=10, knc__weights=distance \n",
      "[CV]  knc__metric=minkowski, knc__n_neighbors=10, knc__weights=distance, score=0.555, total=  21.4s\n",
      "[CV] knc__metric=minkowski, knc__n_neighbors=10, knc__weights=distance \n",
      "[CV]  knc__metric=minkowski, knc__n_neighbors=10, knc__weights=distance, score=0.559, total=  20.1s\n",
      "[CV] knc__metric=minkowski, knc__n_neighbors=10, knc__weights=distance \n",
      "[CV]  knc__metric=minkowski, knc__n_neighbors=10, knc__weights=distance, score=0.558, total=  19.0s\n",
      "[CV] knc__metric=minkowski, knc__n_neighbors=10, knc__weights=distance \n",
      "[CV]  knc__metric=minkowski, knc__n_neighbors=10, knc__weights=distance, score=0.550, total=  19.4s\n"
     ]
    },
    {
     "name": "stderr",
     "output_type": "stream",
     "text": [
      "[Parallel(n_jobs=1)]: Done  90 out of  90 | elapsed: 26.5min finished\n"
     ]
    },
    {
     "name": "stdout",
     "output_type": "stream",
     "text": [
      "+++++++++++++\n",
      "KNeighborsClassifier\n",
      "+++++++++++++\n",
      "Mean_Test Score\n",
      "-------------\n",
      "[0.54436114 0.54696627 0.55354727 0.56034297 0.54388575 0.55698375\n",
      " 0.54436114 0.54711838 0.55354727 0.56043242 0.54388575 0.55726978\n",
      " 0.54436114 0.54711838 0.55354727 0.56043242 0.54388575 0.55726978]\n",
      "-------------\n",
      "Best Params\n",
      "-------------\n",
      "{'knc__metric': 'euclidean', 'knc__n_neighbors': 5, 'knc__weights': 'distance'}\n"
     ]
    }
   ],
   "source": [
    "gs = GridSearchCV(knc_pipeline, knc_param_grid, cv=5, scoring='recall_macro', verbose=3)\n",
    "gs.fit(X_train, y_train)\n",
    "print('+++++++++++++')\n",
    "print('KNeighborsClassifier')\n",
    "print('+++++++++++++')\n",
    "print('Mean_Test Score')\n",
    "print('-------------')\n",
    "print(gs.cv_results_['mean_test_score'])\n",
    "print('-------------')\n",
    "print('Best Params')\n",
    "print('-------------')\n",
    "print(gs.best_params_)"
   ]
  },
  {
   "cell_type": "code",
   "execution_count": 102,
   "metadata": {},
   "outputs": [
    {
     "data": {
      "text/plain": [
       "Pipeline(steps=[('preprocessor',\n",
       "                 ColumnTransformer(transformers=[('categorical',\n",
       "                                                  OneHotEncoder(drop='first',\n",
       "                                                                sparse=False),\n",
       "                                                  ['basin', 'region',\n",
       "                                                   'extraction_type_class',\n",
       "                                                   'management_group',\n",
       "                                                   'payment', 'payment_type',\n",
       "                                                   'quality_group', 'quantity',\n",
       "                                                   'quantity_group',\n",
       "                                                   'source_type',\n",
       "                                                   'source_class'])])),\n",
       "                ('rfc',\n",
       "                 RandomForestClassifier(class_weight='balanced',\n",
       "                                        criterion='entropy', min_samples_leaf=2,\n",
       "                                        n_estimators=500, random_state=42))])"
      ]
     },
     "execution_count": 102,
     "metadata": {},
     "output_type": "execute_result"
    }
   ],
   "source": [
    "rfc_pipeline = Pipeline([('preprocessor', preprocessor), \n",
    "                         ('rfc', RandomForestClassifier(random_state=42, class_weight=\"balanced\", \n",
    "                                                        criterion='entropy', max_depth=None, \n",
    "                                                        min_samples_leaf=2, n_estimators=500))])\n",
    "\n",
    "rfc_pipeline.fit(X_train, y_train)"
   ]
  },
  {
   "cell_type": "code",
   "execution_count": 103,
   "metadata": {},
   "outputs": [],
   "source": [
    "y_hat = rfc_pipeline.predict(X_test)"
   ]
  },
  {
   "cell_type": "code",
   "execution_count": 104,
   "metadata": {},
   "outputs": [
    {
     "data": {
      "text/plain": [
       "0.6734046661429508"
      ]
     },
     "execution_count": 104,
     "metadata": {},
     "output_type": "execute_result"
    }
   ],
   "source": [
    "recall_score(y_test, y_hat, average='macro')"
   ]
  },
  {
   "cell_type": "code",
   "execution_count": null,
   "metadata": {},
   "outputs": [],
   "source": []
  }
 ],
 "metadata": {
  "kernelspec": {
   "display_name": "learn-env",
   "language": "python",
   "name": "learn-env"
  },
  "language_info": {
   "codemirror_mode": {
    "name": "ipython",
    "version": 3
   },
   "file_extension": ".py",
   "mimetype": "text/x-python",
   "name": "python",
   "nbconvert_exporter": "python",
   "pygments_lexer": "ipython3",
   "version": "3.9.5"
  }
 },
 "nbformat": 4,
 "nbformat_minor": 4
}
