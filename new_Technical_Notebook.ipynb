{
 "cells": [
  {
   "cell_type": "markdown",
   "metadata": {
    "pycharm": {
     "name": "#%% md\n"
    }
   },
   "source": [
    "# Tanzanian Water Well's Status Predictions"
   ]
  },
  {
   "cell_type": "markdown",
   "metadata": {
    "pycharm": {
     "name": "#%% md\n"
    }
   },
   "source": [
    "#### Authors: Kyle Dufrane and Brad Horn"
   ]
  },
  {
   "cell_type": "markdown",
   "metadata": {
    "pycharm": {
     "name": "#%% md\n"
    }
   },
   "source": [
    "### Overview\n",
    "\n",
    "#### This project analyzes the Tanzanian Water Wells datasets released by the Tanzanian Government. The dataset includes 59,400 rows each repressenting a unique well within the Tanzanian Governments realm. Our targets are broken down into three categories:\n",
    "\n",
    "* Functional\n",
    "* Non Functional\n",
    "* Functional Needs Repair\n",
    "\n",
    "#### We will attempt to predict the status of the wells condition through utilizing Exploratory Data Analysis (EDA) and building classification models tuned to the parameters that will have the largest impact on our predictive ability. \n",
    "\n",
    "\n",
    "### Business Understanding\n",
    "\n",
    "#### Flatiron LLC has recently been awarded a contract to maintain wells in Tanzania. They're looking for a system to help develop preventative maintenance schedules by predicting pump failures and replacement schedules to better serve their client. Flatiron LLC would like key insights on:\n",
    "\n",
    "* Regional impact on wells\n",
    "* Area's with low water quantity\n",
    "* Negatively impacting factors on wells \n",
    "\n",
    "\n",
    "### Data Understanding\n",
    "\n",
    "#### This dataset comes with two applicable files training_set_labels and training_set_values. During our EDA we will join these tables together to give us one file to work with. The values dataset has 39 total columns and contains all of our predicitve features. Below is a description of each column. \n",
    "\n",
    "* amount_tsh : Total static head (amount water available to waterpoint)\n",
    "* date_recorded : The date the row was entered\n",
    "* funder : Who funded the well\n",
    "* gps_height : Altitude of the well\n",
    "* installer : Organization that installed the well\n",
    "* longitude : GPS coordinate\n",
    "* latitude : GPS coordinate\n",
    "* wpt_name : Name of the waterpoint if there is one\n",
    "* num_private :Private use or not\n",
    "* basin : Geographic water basin\n",
    "* subvillage : Geographic location\n",
    "* region : Geographic location\n",
    "* region_code : Geographic location (coded)\n",
    "* district_code : Geographic location (coded)\n",
    "* lga : Geographic location\n",
    "* ward : Geographic location\n",
    "* population : Population around the well\n",
    "* public_meeting : True/False\n",
    "* recorded_by : Group entering this row of data\n",
    "* scheme_management : Who operates the waterpoint\n",
    "* scheme_name : Who operates the waterpoint\n",
    "* permit : If the waterpoint is permitted\n",
    "* construction_year : Year the waterpoint was constructed\n",
    "* extraction_type : The kind of extraction the waterpoint uses\n",
    "* extraction_type_group : The kind of extraction the waterpoint uses\n",
    "* extraction_type_class : The kind of extraction the waterpoint uses\n",
    "* management : How the waterpoint is managed\n",
    "* management_group : How the waterpoint is managed\n",
    "* payment : What the water costs\n",
    "* payment_type : What the water costs\n",
    "* water_quality : The quality of the water\n",
    "* quality_group : The quality of the water\n",
    "* quantity : The quantity of water\n",
    "* quantity_group : The quantity of water\n",
    "* source : The source of the water\n",
    "* source_type : The source of the water\n",
    "* source_class : The source of the water\n",
    "* waterpoint_type : The kind of waterpoint\n",
    "* waterpoint_type_group : The kind of waterpoint\n",
    "\n",
    "#### To start we will import all of our needed libraries and dive into our datasets."
   ]
  },
  {
   "cell_type": "code",
   "execution_count": 1,
   "metadata": {
    "pycharm": {
     "name": "#%%\n"
    }
   },
   "outputs": [
    {
     "name": "stderr",
     "output_type": "stream",
     "text": [
      "/home/kyle/anaconda3/envs/myenv/lib/python3.9/site-packages/xgboost/compat.py:36: FutureWarning: pandas.Int64Index is deprecated and will be removed from pandas in a future version. Use pandas.Index with the appropriate dtype instead.\n",
      "  from pandas import MultiIndex, Int64Index\n"
     ]
    }
   ],
   "source": [
    "# Import needed libraries\n",
    "\n",
    "# Import libaries needed for EDA and visualizations\n",
    "import matplotlib.pyplot as plt\n",
    "import numpy as np\n",
    "import pandas as pd\n",
    "\n",
    "# Import Pickle to saved files giving us the ability to only run each model once.\n",
    "import pickle\n",
    "\n",
    "# Import needed SKLearn libraries for modeling, imputing, and pipelines\n",
    "from sklearn.model_selection import train_test_split, GridSearchCV, cross_val_score, RandomizedSearchCV\n",
    "from sklearn.tree import DecisionTreeClassifier\n",
    "from sklearn.ensemble import RandomForestClassifier\n",
    "from sklearn.preprocessing import OneHotEncoder, StandardScaler\n",
    "from sklearn.impute import SimpleImputer\n",
    "from sklearn.compose import ColumnTransformer\n",
    "from sklearn.pipeline import Pipeline, make_pipeline\n",
    "from sklearn.svm import SVC\n",
    "from sklearn.neighbors import KNeighborsClassifier\n",
    "from sklearn.metrics import accuracy_score, plot_confusion_matrix\n",
    "from xgboost import XGBClassifier\n",
    "\n",
    "import eli5\n",
    "\n",
    "#Import py files\n",
    "#Use the functions in the py file for preprocessing\n",
    "import sys\n",
    "sys.path.insert(0, 'src/')\n",
    "import functions\n",
    "from src.functions import *\n",
    "\n",
    "# pd.set_option('display.max_columns', 999)"
   ]
  },
  {
   "cell_type": "markdown",
   "metadata": {
    "pycharm": {
     "name": "#%% md\n"
    }
   },
   "source": [
    "### Import data"
   ]
  },
  {
   "cell_type": "code",
   "execution_count": 2,
   "metadata": {
    "pycharm": {
     "name": "#%%\n"
    }
   },
   "outputs": [],
   "source": [
    "# Import training labels CSV\n",
    "df_training_labels = pd.read_csv('data/Training_set_labels.csv')"
   ]
  },
  {
   "cell_type": "code",
   "execution_count": 3,
   "metadata": {
    "pycharm": {
     "name": "#%%\n"
    }
   },
   "outputs": [
    {
     "data": {
      "text/plain": "(59400, 2)"
     },
     "execution_count": 3,
     "metadata": {},
     "output_type": "execute_result"
    }
   ],
   "source": [
    "df_training_labels.shape"
   ]
  },
  {
   "cell_type": "code",
   "execution_count": 4,
   "metadata": {
    "pycharm": {
     "name": "#%%\n"
    }
   },
   "outputs": [
    {
     "data": {
      "text/plain": "      id    status_group\n0  69572      functional\n1   8776      functional\n2  34310      functional\n3  67743  non functional\n4  19728      functional",
      "text/html": "<div>\n<style scoped>\n    .dataframe tbody tr th:only-of-type {\n        vertical-align: middle;\n    }\n\n    .dataframe tbody tr th {\n        vertical-align: top;\n    }\n\n    .dataframe thead th {\n        text-align: right;\n    }\n</style>\n<table border=\"1\" class=\"dataframe\">\n  <thead>\n    <tr style=\"text-align: right;\">\n      <th></th>\n      <th>id</th>\n      <th>status_group</th>\n    </tr>\n  </thead>\n  <tbody>\n    <tr>\n      <th>0</th>\n      <td>69572</td>\n      <td>functional</td>\n    </tr>\n    <tr>\n      <th>1</th>\n      <td>8776</td>\n      <td>functional</td>\n    </tr>\n    <tr>\n      <th>2</th>\n      <td>34310</td>\n      <td>functional</td>\n    </tr>\n    <tr>\n      <th>3</th>\n      <td>67743</td>\n      <td>non functional</td>\n    </tr>\n    <tr>\n      <th>4</th>\n      <td>19728</td>\n      <td>functional</td>\n    </tr>\n  </tbody>\n</table>\n</div>"
     },
     "execution_count": 4,
     "metadata": {},
     "output_type": "execute_result"
    }
   ],
   "source": [
    "df_training_labels.head()"
   ]
  },
  {
   "cell_type": "code",
   "execution_count": 5,
   "metadata": {
    "pycharm": {
     "name": "#%%\n"
    }
   },
   "outputs": [
    {
     "name": "stdout",
     "output_type": "stream",
     "text": [
      "<class 'pandas.core.frame.DataFrame'>\n",
      "RangeIndex: 59400 entries, 0 to 59399\n",
      "Data columns (total 2 columns):\n",
      " #   Column        Non-Null Count  Dtype \n",
      "---  ------        --------------  ----- \n",
      " 0   id            59400 non-null  int64 \n",
      " 1   status_group  59400 non-null  object\n",
      "dtypes: int64(1), object(1)\n",
      "memory usage: 928.2+ KB\n"
     ]
    }
   ],
   "source": [
    "df_training_labels.info()"
   ]
  },
  {
   "cell_type": "code",
   "execution_count": 6,
   "metadata": {
    "pycharm": {
     "name": "#%%\n"
    }
   },
   "outputs": [
    {
     "data": {
      "text/plain": "functional                 32259\nnon functional             22824\nfunctional needs repair     4317\nName: status_group, dtype: int64"
     },
     "execution_count": 6,
     "metadata": {},
     "output_type": "execute_result"
    }
   ],
   "source": [
    "df_training_labels['status_group'].value_counts()"
   ]
  },
  {
   "cell_type": "markdown",
   "metadata": {
    "pycharm": {
     "name": "#%% md\n"
    }
   },
   "source": [
    "#### Revewing the above information we do not have any nulls in our this dataset which is a good start as these are our targets. We can see that this dataset has two columns, one of which being 'id'. Hopefully we can use this to join our tables later in the EDA process. \n",
    "\n",
    "#### The big catch here is seeing the **class imbalance**, we will have to adjust our model accordingly to make up for the lack of values especially within the 'functional needs repair' category. "
   ]
  },
  {
   "cell_type": "markdown",
   "metadata": {
    "pycharm": {
     "name": "#%% md\n"
    }
   },
   "source": [
    "### Now we'll review our predictors within the Training_set_values.cvs"
   ]
  },
  {
   "cell_type": "code",
   "execution_count": 7,
   "metadata": {
    "pycharm": {
     "name": "#%%\n"
    }
   },
   "outputs": [
    {
     "data": {
      "text/plain": "      id  amount_tsh date_recorded        funder  gps_height     installer  \\\n0  69572      6000.0    2011-03-14         Roman        1390         Roman   \n1   8776         0.0    2013-03-06       Grumeti        1399       GRUMETI   \n2  34310        25.0    2013-02-25  Lottery Club         686  World vision   \n3  67743         0.0    2013-01-28        Unicef         263        UNICEF   \n4  19728         0.0    2011-07-13   Action In A           0       Artisan   \n\n   longitude   latitude              wpt_name  num_private  ... payment_type  \\\n0  34.938093  -9.856322                  none            0  ...     annually   \n1  34.698766  -2.147466              Zahanati            0  ...    never pay   \n2  37.460664  -3.821329           Kwa Mahundi            0  ...   per bucket   \n3  38.486161 -11.155298  Zahanati Ya Nanyumbu            0  ...    never pay   \n4  31.130847  -1.825359               Shuleni            0  ...    never pay   \n\n  water_quality quality_group      quantity  quantity_group  \\\n0          soft          good        enough          enough   \n1          soft          good  insufficient    insufficient   \n2          soft          good        enough          enough   \n3          soft          good           dry             dry   \n4          soft          good      seasonal        seasonal   \n\n                 source           source_type  source_class  \\\n0                spring                spring   groundwater   \n1  rainwater harvesting  rainwater harvesting       surface   \n2                   dam                   dam       surface   \n3           machine dbh              borehole   groundwater   \n4  rainwater harvesting  rainwater harvesting       surface   \n\n               waterpoint_type waterpoint_type_group  \n0           communal standpipe    communal standpipe  \n1           communal standpipe    communal standpipe  \n2  communal standpipe multiple    communal standpipe  \n3  communal standpipe multiple    communal standpipe  \n4           communal standpipe    communal standpipe  \n\n[5 rows x 40 columns]",
      "text/html": "<div>\n<style scoped>\n    .dataframe tbody tr th:only-of-type {\n        vertical-align: middle;\n    }\n\n    .dataframe tbody tr th {\n        vertical-align: top;\n    }\n\n    .dataframe thead th {\n        text-align: right;\n    }\n</style>\n<table border=\"1\" class=\"dataframe\">\n  <thead>\n    <tr style=\"text-align: right;\">\n      <th></th>\n      <th>id</th>\n      <th>amount_tsh</th>\n      <th>date_recorded</th>\n      <th>funder</th>\n      <th>gps_height</th>\n      <th>installer</th>\n      <th>longitude</th>\n      <th>latitude</th>\n      <th>wpt_name</th>\n      <th>num_private</th>\n      <th>...</th>\n      <th>payment_type</th>\n      <th>water_quality</th>\n      <th>quality_group</th>\n      <th>quantity</th>\n      <th>quantity_group</th>\n      <th>source</th>\n      <th>source_type</th>\n      <th>source_class</th>\n      <th>waterpoint_type</th>\n      <th>waterpoint_type_group</th>\n    </tr>\n  </thead>\n  <tbody>\n    <tr>\n      <th>0</th>\n      <td>69572</td>\n      <td>6000.0</td>\n      <td>2011-03-14</td>\n      <td>Roman</td>\n      <td>1390</td>\n      <td>Roman</td>\n      <td>34.938093</td>\n      <td>-9.856322</td>\n      <td>none</td>\n      <td>0</td>\n      <td>...</td>\n      <td>annually</td>\n      <td>soft</td>\n      <td>good</td>\n      <td>enough</td>\n      <td>enough</td>\n      <td>spring</td>\n      <td>spring</td>\n      <td>groundwater</td>\n      <td>communal standpipe</td>\n      <td>communal standpipe</td>\n    </tr>\n    <tr>\n      <th>1</th>\n      <td>8776</td>\n      <td>0.0</td>\n      <td>2013-03-06</td>\n      <td>Grumeti</td>\n      <td>1399</td>\n      <td>GRUMETI</td>\n      <td>34.698766</td>\n      <td>-2.147466</td>\n      <td>Zahanati</td>\n      <td>0</td>\n      <td>...</td>\n      <td>never pay</td>\n      <td>soft</td>\n      <td>good</td>\n      <td>insufficient</td>\n      <td>insufficient</td>\n      <td>rainwater harvesting</td>\n      <td>rainwater harvesting</td>\n      <td>surface</td>\n      <td>communal standpipe</td>\n      <td>communal standpipe</td>\n    </tr>\n    <tr>\n      <th>2</th>\n      <td>34310</td>\n      <td>25.0</td>\n      <td>2013-02-25</td>\n      <td>Lottery Club</td>\n      <td>686</td>\n      <td>World vision</td>\n      <td>37.460664</td>\n      <td>-3.821329</td>\n      <td>Kwa Mahundi</td>\n      <td>0</td>\n      <td>...</td>\n      <td>per bucket</td>\n      <td>soft</td>\n      <td>good</td>\n      <td>enough</td>\n      <td>enough</td>\n      <td>dam</td>\n      <td>dam</td>\n      <td>surface</td>\n      <td>communal standpipe multiple</td>\n      <td>communal standpipe</td>\n    </tr>\n    <tr>\n      <th>3</th>\n      <td>67743</td>\n      <td>0.0</td>\n      <td>2013-01-28</td>\n      <td>Unicef</td>\n      <td>263</td>\n      <td>UNICEF</td>\n      <td>38.486161</td>\n      <td>-11.155298</td>\n      <td>Zahanati Ya Nanyumbu</td>\n      <td>0</td>\n      <td>...</td>\n      <td>never pay</td>\n      <td>soft</td>\n      <td>good</td>\n      <td>dry</td>\n      <td>dry</td>\n      <td>machine dbh</td>\n      <td>borehole</td>\n      <td>groundwater</td>\n      <td>communal standpipe multiple</td>\n      <td>communal standpipe</td>\n    </tr>\n    <tr>\n      <th>4</th>\n      <td>19728</td>\n      <td>0.0</td>\n      <td>2011-07-13</td>\n      <td>Action In A</td>\n      <td>0</td>\n      <td>Artisan</td>\n      <td>31.130847</td>\n      <td>-1.825359</td>\n      <td>Shuleni</td>\n      <td>0</td>\n      <td>...</td>\n      <td>never pay</td>\n      <td>soft</td>\n      <td>good</td>\n      <td>seasonal</td>\n      <td>seasonal</td>\n      <td>rainwater harvesting</td>\n      <td>rainwater harvesting</td>\n      <td>surface</td>\n      <td>communal standpipe</td>\n      <td>communal standpipe</td>\n    </tr>\n  </tbody>\n</table>\n<p>5 rows × 40 columns</p>\n</div>"
     },
     "execution_count": 7,
     "metadata": {},
     "output_type": "execute_result"
    }
   ],
   "source": [
    "# Import training values CSV\n",
    "df_training_values = pd.read_csv('data/Training_set_values.csv')\n",
    "df_training_values.head()"
   ]
  },
  {
   "cell_type": "code",
   "execution_count": 8,
   "metadata": {
    "pycharm": {
     "name": "#%%\n"
    }
   },
   "outputs": [
    {
     "data": {
      "text/plain": "(59400, 40)"
     },
     "execution_count": 8,
     "metadata": {},
     "output_type": "execute_result"
    }
   ],
   "source": [
    "df_training_values.shape"
   ]
  },
  {
   "cell_type": "code",
   "execution_count": 9,
   "metadata": {
    "pycharm": {
     "name": "#%%\n"
    }
   },
   "outputs": [
    {
     "name": "stdout",
     "output_type": "stream",
     "text": [
      "<class 'pandas.core.frame.DataFrame'>\n",
      "RangeIndex: 59400 entries, 0 to 59399\n",
      "Data columns (total 40 columns):\n",
      " #   Column                 Non-Null Count  Dtype  \n",
      "---  ------                 --------------  -----  \n",
      " 0   id                     59400 non-null  int64  \n",
      " 1   amount_tsh             59400 non-null  float64\n",
      " 2   date_recorded          59400 non-null  object \n",
      " 3   funder                 55765 non-null  object \n",
      " 4   gps_height             59400 non-null  int64  \n",
      " 5   installer              55745 non-null  object \n",
      " 6   longitude              59400 non-null  float64\n",
      " 7   latitude               59400 non-null  float64\n",
      " 8   wpt_name               59400 non-null  object \n",
      " 9   num_private            59400 non-null  int64  \n",
      " 10  basin                  59400 non-null  object \n",
      " 11  subvillage             59029 non-null  object \n",
      " 12  region                 59400 non-null  object \n",
      " 13  region_code            59400 non-null  int64  \n",
      " 14  district_code          59400 non-null  int64  \n",
      " 15  lga                    59400 non-null  object \n",
      " 16  ward                   59400 non-null  object \n",
      " 17  population             59400 non-null  int64  \n",
      " 18  public_meeting         56066 non-null  object \n",
      " 19  recorded_by            59400 non-null  object \n",
      " 20  scheme_management      55523 non-null  object \n",
      " 21  scheme_name            31234 non-null  object \n",
      " 22  permit                 56344 non-null  object \n",
      " 23  construction_year      59400 non-null  int64  \n",
      " 24  extraction_type        59400 non-null  object \n",
      " 25  extraction_type_group  59400 non-null  object \n",
      " 26  extraction_type_class  59400 non-null  object \n",
      " 27  management             59400 non-null  object \n",
      " 28  management_group       59400 non-null  object \n",
      " 29  payment                59400 non-null  object \n",
      " 30  payment_type           59400 non-null  object \n",
      " 31  water_quality          59400 non-null  object \n",
      " 32  quality_group          59400 non-null  object \n",
      " 33  quantity               59400 non-null  object \n",
      " 34  quantity_group         59400 non-null  object \n",
      " 35  source                 59400 non-null  object \n",
      " 36  source_type            59400 non-null  object \n",
      " 37  source_class           59400 non-null  object \n",
      " 38  waterpoint_type        59400 non-null  object \n",
      " 39  waterpoint_type_group  59400 non-null  object \n",
      "dtypes: float64(3), int64(7), object(30)\n",
      "memory usage: 18.1+ MB\n"
     ]
    }
   ],
   "source": [
    "df_training_values.info()"
   ]
  },
  {
   "cell_type": "markdown",
   "metadata": {
    "pycharm": {
     "name": "#%% md\n"
    }
   },
   "source": [
    "#### Reviewing the above output, we have a few columns with Null values. Going forward we will review these columns and identify the appropriate way to either replace or drop these columns. Also, we can see that we have an 'id' column which should allow us to join our tables. \n",
    "\n",
    "#### Below we will get a clearer understanding of what columns are missing columns. "
   ]
  },
  {
   "cell_type": "code",
   "execution_count": 10,
   "metadata": {
    "pycharm": {
     "name": "#%%\n"
    }
   },
   "outputs": [
    {
     "data": {
      "text/plain": "id                           0\namount_tsh                   0\ndate_recorded                0\nfunder                    3635\ngps_height                   0\ninstaller                 3655\nlongitude                    0\nlatitude                     0\nwpt_name                     0\nnum_private                  0\nbasin                        0\nsubvillage                 371\nregion                       0\nregion_code                  0\ndistrict_code                0\nlga                          0\nward                         0\npopulation                   0\npublic_meeting            3334\nrecorded_by                  0\nscheme_management         3877\nscheme_name              28166\npermit                    3056\nconstruction_year            0\nextraction_type              0\nextraction_type_group        0\nextraction_type_class        0\nmanagement                   0\nmanagement_group             0\npayment                      0\npayment_type                 0\nwater_quality                0\nquality_group                0\nquantity                     0\nquantity_group               0\nsource                       0\nsource_type                  0\nsource_class                 0\nwaterpoint_type              0\nwaterpoint_type_group        0\ndtype: int64"
     },
     "execution_count": 10,
     "metadata": {},
     "output_type": "execute_result"
    }
   ],
   "source": [
    "df_training_values.isna().sum()"
   ]
  },
  {
   "cell_type": "markdown",
   "metadata": {
    "pycharm": {
     "name": "#%% md\n"
    }
   },
   "source": [
    "#### Out of the 39 features 7 of them are missing values. A few items stand out:\n",
    "\n",
    "* Funder and installer have close to equal amounts of missing values\n",
    "* subvillage has the least amount of missing values\n",
    "* scheme_name is missing almost half of the values\n",
    "\n",
    "#### Since scheme name is missing half of the data we will drop this column."
   ]
  },
  {
   "cell_type": "code",
   "execution_count": 11,
   "metadata": {
    "pycharm": {
     "name": "#%%\n"
    }
   },
   "outputs": [],
   "source": [
    "# df_training_values.drop(['scheme_name', 'wpt_name'], axis=1, inplace=True)"
   ]
  },
  {
   "cell_type": "code",
   "execution_count": 12,
   "outputs": [],
   "source": [
    "df = df_training_values.merge(df_training_labels, on='id')"
   ],
   "metadata": {
    "collapsed": false,
    "pycharm": {
     "name": "#%%\n"
    }
   }
  },
  {
   "cell_type": "code",
   "execution_count": 13,
   "outputs": [
    {
     "data": {
      "text/plain": "      id  amount_tsh date_recorded        funder  gps_height     installer  \\\n0  69572      6000.0    2011-03-14         Roman        1390         Roman   \n1   8776         0.0    2013-03-06       Grumeti        1399       GRUMETI   \n2  34310        25.0    2013-02-25  Lottery Club         686  World vision   \n3  67743         0.0    2013-01-28        Unicef         263        UNICEF   \n4  19728         0.0    2011-07-13   Action In A           0       Artisan   \n\n   longitude   latitude              wpt_name  num_private  ... water_quality  \\\n0  34.938093  -9.856322                  none            0  ...          soft   \n1  34.698766  -2.147466              Zahanati            0  ...          soft   \n2  37.460664  -3.821329           Kwa Mahundi            0  ...          soft   \n3  38.486161 -11.155298  Zahanati Ya Nanyumbu            0  ...          soft   \n4  31.130847  -1.825359               Shuleni            0  ...          soft   \n\n  quality_group      quantity  quantity_group                source  \\\n0          good        enough          enough                spring   \n1          good  insufficient    insufficient  rainwater harvesting   \n2          good        enough          enough                   dam   \n3          good           dry             dry           machine dbh   \n4          good      seasonal        seasonal  rainwater harvesting   \n\n            source_type source_class              waterpoint_type  \\\n0                spring  groundwater           communal standpipe   \n1  rainwater harvesting      surface           communal standpipe   \n2                   dam      surface  communal standpipe multiple   \n3              borehole  groundwater  communal standpipe multiple   \n4  rainwater harvesting      surface           communal standpipe   \n\n  waterpoint_type_group    status_group  \n0    communal standpipe      functional  \n1    communal standpipe      functional  \n2    communal standpipe      functional  \n3    communal standpipe  non functional  \n4    communal standpipe      functional  \n\n[5 rows x 41 columns]",
      "text/html": "<div>\n<style scoped>\n    .dataframe tbody tr th:only-of-type {\n        vertical-align: middle;\n    }\n\n    .dataframe tbody tr th {\n        vertical-align: top;\n    }\n\n    .dataframe thead th {\n        text-align: right;\n    }\n</style>\n<table border=\"1\" class=\"dataframe\">\n  <thead>\n    <tr style=\"text-align: right;\">\n      <th></th>\n      <th>id</th>\n      <th>amount_tsh</th>\n      <th>date_recorded</th>\n      <th>funder</th>\n      <th>gps_height</th>\n      <th>installer</th>\n      <th>longitude</th>\n      <th>latitude</th>\n      <th>wpt_name</th>\n      <th>num_private</th>\n      <th>...</th>\n      <th>water_quality</th>\n      <th>quality_group</th>\n      <th>quantity</th>\n      <th>quantity_group</th>\n      <th>source</th>\n      <th>source_type</th>\n      <th>source_class</th>\n      <th>waterpoint_type</th>\n      <th>waterpoint_type_group</th>\n      <th>status_group</th>\n    </tr>\n  </thead>\n  <tbody>\n    <tr>\n      <th>0</th>\n      <td>69572</td>\n      <td>6000.0</td>\n      <td>2011-03-14</td>\n      <td>Roman</td>\n      <td>1390</td>\n      <td>Roman</td>\n      <td>34.938093</td>\n      <td>-9.856322</td>\n      <td>none</td>\n      <td>0</td>\n      <td>...</td>\n      <td>soft</td>\n      <td>good</td>\n      <td>enough</td>\n      <td>enough</td>\n      <td>spring</td>\n      <td>spring</td>\n      <td>groundwater</td>\n      <td>communal standpipe</td>\n      <td>communal standpipe</td>\n      <td>functional</td>\n    </tr>\n    <tr>\n      <th>1</th>\n      <td>8776</td>\n      <td>0.0</td>\n      <td>2013-03-06</td>\n      <td>Grumeti</td>\n      <td>1399</td>\n      <td>GRUMETI</td>\n      <td>34.698766</td>\n      <td>-2.147466</td>\n      <td>Zahanati</td>\n      <td>0</td>\n      <td>...</td>\n      <td>soft</td>\n      <td>good</td>\n      <td>insufficient</td>\n      <td>insufficient</td>\n      <td>rainwater harvesting</td>\n      <td>rainwater harvesting</td>\n      <td>surface</td>\n      <td>communal standpipe</td>\n      <td>communal standpipe</td>\n      <td>functional</td>\n    </tr>\n    <tr>\n      <th>2</th>\n      <td>34310</td>\n      <td>25.0</td>\n      <td>2013-02-25</td>\n      <td>Lottery Club</td>\n      <td>686</td>\n      <td>World vision</td>\n      <td>37.460664</td>\n      <td>-3.821329</td>\n      <td>Kwa Mahundi</td>\n      <td>0</td>\n      <td>...</td>\n      <td>soft</td>\n      <td>good</td>\n      <td>enough</td>\n      <td>enough</td>\n      <td>dam</td>\n      <td>dam</td>\n      <td>surface</td>\n      <td>communal standpipe multiple</td>\n      <td>communal standpipe</td>\n      <td>functional</td>\n    </tr>\n    <tr>\n      <th>3</th>\n      <td>67743</td>\n      <td>0.0</td>\n      <td>2013-01-28</td>\n      <td>Unicef</td>\n      <td>263</td>\n      <td>UNICEF</td>\n      <td>38.486161</td>\n      <td>-11.155298</td>\n      <td>Zahanati Ya Nanyumbu</td>\n      <td>0</td>\n      <td>...</td>\n      <td>soft</td>\n      <td>good</td>\n      <td>dry</td>\n      <td>dry</td>\n      <td>machine dbh</td>\n      <td>borehole</td>\n      <td>groundwater</td>\n      <td>communal standpipe multiple</td>\n      <td>communal standpipe</td>\n      <td>non functional</td>\n    </tr>\n    <tr>\n      <th>4</th>\n      <td>19728</td>\n      <td>0.0</td>\n      <td>2011-07-13</td>\n      <td>Action In A</td>\n      <td>0</td>\n      <td>Artisan</td>\n      <td>31.130847</td>\n      <td>-1.825359</td>\n      <td>Shuleni</td>\n      <td>0</td>\n      <td>...</td>\n      <td>soft</td>\n      <td>good</td>\n      <td>seasonal</td>\n      <td>seasonal</td>\n      <td>rainwater harvesting</td>\n      <td>rainwater harvesting</td>\n      <td>surface</td>\n      <td>communal standpipe</td>\n      <td>communal standpipe</td>\n      <td>functional</td>\n    </tr>\n  </tbody>\n</table>\n<p>5 rows × 41 columns</p>\n</div>"
     },
     "execution_count": 13,
     "metadata": {},
     "output_type": "execute_result"
    }
   ],
   "source": [
    "df.head()"
   ],
   "metadata": {
    "collapsed": false,
    "pycharm": {
     "name": "#%%\n"
    }
   }
  },
  {
   "cell_type": "code",
   "execution_count": 14,
   "outputs": [],
   "source": [
    "df.drop('id', axis=1, inplace=True)"
   ],
   "metadata": {
    "collapsed": false,
    "pycharm": {
     "name": "#%%\n"
    }
   }
  },
  {
   "cell_type": "markdown",
   "metadata": {
    "pycharm": {
     "name": "#%% md\n"
    }
   },
   "source": [
    "#### As seen above, 7 columns are missing data. Lets take a deeper look into these columns."
   ]
  },
  {
   "cell_type": "code",
   "execution_count": 15,
   "metadata": {
    "pycharm": {
     "name": "#%%\n"
    }
   },
   "outputs": [
    {
     "data": {
      "text/plain": "                funder     installer    subvillage public_meeting  \\\n0                Roman         Roman      Mnyusi B           True   \n1              Grumeti       GRUMETI       Nyamara            NaN   \n2         Lottery Club  World vision       Majengo           True   \n3               Unicef        UNICEF    Mahakamani           True   \n4          Action In A       Artisan    Kyanyamisa           True   \n...                ...           ...           ...            ...   \n59395  Germany Republi           CES      Kiduruni           True   \n59396      Cefa-njombe          Cefa      Igumbilo           True   \n59397              NaN           NaN     Madungulu           True   \n59398            Malec          Musa        Mwinyi           True   \n59399       World Bank         World  Kikatanyemba           True   \n\n      scheme_management permit    status_group  \n0                   VWC  False      functional  \n1                 Other   True      functional  \n2                   VWC   True      functional  \n3                   VWC   True  non functional  \n4                   NaN   True      functional  \n...                 ...    ...             ...  \n59395       Water Board   True      functional  \n59396               VWC   True      functional  \n59397               VWC  False      functional  \n59398               VWC   True      functional  \n59399               VWC   True      functional  \n\n[59400 rows x 7 columns]",
      "text/html": "<div>\n<style scoped>\n    .dataframe tbody tr th:only-of-type {\n        vertical-align: middle;\n    }\n\n    .dataframe tbody tr th {\n        vertical-align: top;\n    }\n\n    .dataframe thead th {\n        text-align: right;\n    }\n</style>\n<table border=\"1\" class=\"dataframe\">\n  <thead>\n    <tr style=\"text-align: right;\">\n      <th></th>\n      <th>funder</th>\n      <th>installer</th>\n      <th>subvillage</th>\n      <th>public_meeting</th>\n      <th>scheme_management</th>\n      <th>permit</th>\n      <th>status_group</th>\n    </tr>\n  </thead>\n  <tbody>\n    <tr>\n      <th>0</th>\n      <td>Roman</td>\n      <td>Roman</td>\n      <td>Mnyusi B</td>\n      <td>True</td>\n      <td>VWC</td>\n      <td>False</td>\n      <td>functional</td>\n    </tr>\n    <tr>\n      <th>1</th>\n      <td>Grumeti</td>\n      <td>GRUMETI</td>\n      <td>Nyamara</td>\n      <td>NaN</td>\n      <td>Other</td>\n      <td>True</td>\n      <td>functional</td>\n    </tr>\n    <tr>\n      <th>2</th>\n      <td>Lottery Club</td>\n      <td>World vision</td>\n      <td>Majengo</td>\n      <td>True</td>\n      <td>VWC</td>\n      <td>True</td>\n      <td>functional</td>\n    </tr>\n    <tr>\n      <th>3</th>\n      <td>Unicef</td>\n      <td>UNICEF</td>\n      <td>Mahakamani</td>\n      <td>True</td>\n      <td>VWC</td>\n      <td>True</td>\n      <td>non functional</td>\n    </tr>\n    <tr>\n      <th>4</th>\n      <td>Action In A</td>\n      <td>Artisan</td>\n      <td>Kyanyamisa</td>\n      <td>True</td>\n      <td>NaN</td>\n      <td>True</td>\n      <td>functional</td>\n    </tr>\n    <tr>\n      <th>...</th>\n      <td>...</td>\n      <td>...</td>\n      <td>...</td>\n      <td>...</td>\n      <td>...</td>\n      <td>...</td>\n      <td>...</td>\n    </tr>\n    <tr>\n      <th>59395</th>\n      <td>Germany Republi</td>\n      <td>CES</td>\n      <td>Kiduruni</td>\n      <td>True</td>\n      <td>Water Board</td>\n      <td>True</td>\n      <td>functional</td>\n    </tr>\n    <tr>\n      <th>59396</th>\n      <td>Cefa-njombe</td>\n      <td>Cefa</td>\n      <td>Igumbilo</td>\n      <td>True</td>\n      <td>VWC</td>\n      <td>True</td>\n      <td>functional</td>\n    </tr>\n    <tr>\n      <th>59397</th>\n      <td>NaN</td>\n      <td>NaN</td>\n      <td>Madungulu</td>\n      <td>True</td>\n      <td>VWC</td>\n      <td>False</td>\n      <td>functional</td>\n    </tr>\n    <tr>\n      <th>59398</th>\n      <td>Malec</td>\n      <td>Musa</td>\n      <td>Mwinyi</td>\n      <td>True</td>\n      <td>VWC</td>\n      <td>True</td>\n      <td>functional</td>\n    </tr>\n    <tr>\n      <th>59399</th>\n      <td>World Bank</td>\n      <td>World</td>\n      <td>Kikatanyemba</td>\n      <td>True</td>\n      <td>VWC</td>\n      <td>True</td>\n      <td>functional</td>\n    </tr>\n  </tbody>\n</table>\n<p>59400 rows × 7 columns</p>\n</div>"
     },
     "execution_count": 15,
     "metadata": {},
     "output_type": "execute_result"
    }
   ],
   "source": [
    "# Creating a list of columns with missing values\n",
    "missing_values = ['funder', 'installer', 'subvillage', 'public_meeting',\\\n",
    "                  'scheme_management', 'permit', 'status_group']\n",
    "\n",
    "# Creating a dataframe with above missing_values\n",
    "df[missing_values]"
   ]
  },
  {
   "cell_type": "code",
   "execution_count": 16,
   "metadata": {
    "pycharm": {
     "name": "#%%\n"
    }
   },
   "outputs": [
    {
     "name": "stdout",
     "output_type": "stream",
     "text": [
      "<class 'pandas.core.frame.DataFrame'>\n",
      "Int64Index: 59400 entries, 0 to 59399\n",
      "Data columns (total 7 columns):\n",
      " #   Column             Non-Null Count  Dtype \n",
      "---  ------             --------------  ----- \n",
      " 0   funder             55765 non-null  object\n",
      " 1   installer          55745 non-null  object\n",
      " 2   subvillage         59029 non-null  object\n",
      " 3   public_meeting     56066 non-null  object\n",
      " 4   scheme_management  55523 non-null  object\n",
      " 5   permit             56344 non-null  object\n",
      " 6   status_group       59400 non-null  object\n",
      "dtypes: object(7)\n",
      "memory usage: 3.6+ MB\n"
     ]
    }
   ],
   "source": [
    "df[missing_values].info()"
   ]
  },
  {
   "cell_type": "code",
   "execution_count": 17,
   "metadata": {
    "pycharm": {
     "name": "#%%\n"
    }
   },
   "outputs": [
    {
     "data": {
      "text/plain": "funder               3635\ninstaller            3655\nsubvillage            371\npublic_meeting       3334\nscheme_management    3877\npermit               3056\nstatus_group            0\ndtype: int64"
     },
     "execution_count": 17,
     "metadata": {},
     "output_type": "execute_result"
    }
   ],
   "source": [
    "df[missing_values].isna().sum()"
   ]
  },
  {
   "cell_type": "markdown",
   "metadata": {
    "pycharm": {
     "name": "#%% md\n"
    }
   },
   "source": [
    "#### We can now see that all of these features are of the dtype object which narrows down our options to dealing with the missing values. What are these features composed of?\n",
    "\n",
    "#### To start, lets take a look at our previous mentioned insite of funders and installers having close to the same amount of missing values."
   ]
  },
  {
   "cell_type": "code",
   "execution_count": 18,
   "metadata": {
    "pycharm": {
     "name": "#%%\n"
    }
   },
   "outputs": [],
   "source": [
    "df.fillna('Unknown', inplace=True)"
   ]
  },
  {
   "cell_type": "code",
   "execution_count": 19,
   "outputs": [],
   "source": [
    "drop_columns = [\n",
    "    'date_recorded', 'wpt_name', 'recorded_by', 'scheme_name', 'waterpoint_type_group', 'source_class', 'source', 'quantity_group','quality_group', 'payment_type','management_group','extraction_type', 'extraction_type_group',\n",
    "]\n",
    "\n",
    "df.drop(drop_columns, axis=1, inplace=True)"
   ],
   "metadata": {
    "collapsed": false,
    "pycharm": {
     "name": "#%%\n"
    }
   }
  },
  {
   "cell_type": "code",
   "execution_count": 20,
   "outputs": [],
   "source": [
    "df['construction_year'] = df['construction_year'].replace(0, df['construction_year'].median())"
   ],
   "metadata": {
    "collapsed": false,
    "pycharm": {
     "name": "#%%\n"
    }
   }
  },
  {
   "cell_type": "code",
   "execution_count": 21,
   "outputs": [
    {
     "data": {
      "text/plain": "       amount_tsh           funder  gps_height     installer  longitude  \\\n0          6000.0            Roman        1390         Roman  34.938093   \n1             0.0          Grumeti        1399       GRUMETI  34.698766   \n2            25.0     Lottery Club         686  World vision  37.460664   \n3             0.0           Unicef         263        UNICEF  38.486161   \n4             0.0      Action In A           0       Artisan  31.130847   \n...           ...              ...         ...           ...        ...   \n59395        10.0  Germany Republi        1210           CES  37.169807   \n59396      4700.0      Cefa-njombe        1212          Cefa  35.249991   \n59397         0.0          Unknown           0       Unknown  34.017087   \n59398         0.0            Malec           0          Musa  35.861315   \n59399         0.0       World Bank         191         World  38.104048   \n\n        latitude  num_private                    basin    subvillage  \\\n0      -9.856322            0               Lake Nyasa      Mnyusi B   \n1      -2.147466            0            Lake Victoria       Nyamara   \n2      -3.821329            0                  Pangani       Majengo   \n3     -11.155298            0  Ruvuma / Southern Coast    Mahakamani   \n4      -1.825359            0            Lake Victoria    Kyanyamisa   \n...          ...          ...                      ...           ...   \n59395  -3.253847            0                  Pangani      Kiduruni   \n59396  -9.070629            0                   Rufiji      Igumbilo   \n59397  -8.750434            0                   Rufiji     Madungulu   \n59398  -6.378573            0                   Rufiji        Mwinyi   \n59399  -6.747464            0              Wami / Ruvu  Kikatanyemba   \n\n            region  ...  permit  construction_year extraction_type_class  \\\n0           Iringa  ...   False               1999               gravity   \n1             Mara  ...    True               2010               gravity   \n2          Manyara  ...    True               2009               gravity   \n3           Mtwara  ...    True               1986           submersible   \n4           Kagera  ...    True               1986               gravity   \n...            ...  ...     ...                ...                   ...   \n59395  Kilimanjaro  ...    True               1999               gravity   \n59396       Iringa  ...    True               1996               gravity   \n59397        Mbeya  ...   False               1986              handpump   \n59398       Dodoma  ...    True               1986              handpump   \n59399     Morogoro  ...    True               2002              handpump   \n\n        management                payment water_quality      quantity  \\\n0              vwc           pay annually          soft        enough   \n1              wug              never pay          soft  insufficient   \n2              vwc         pay per bucket          soft        enough   \n3              vwc              never pay          soft           dry   \n4            other              never pay          soft      seasonal   \n...            ...                    ...           ...           ...   \n59395  water board         pay per bucket          soft        enough   \n59396          vwc           pay annually          soft        enough   \n59397          vwc            pay monthly      fluoride        enough   \n59398          vwc              never pay          soft  insufficient   \n59399          vwc  pay when scheme fails         salty        enough   \n\n                source_type              waterpoint_type    status_group  \n0                    spring           communal standpipe      functional  \n1      rainwater harvesting           communal standpipe      functional  \n2                       dam  communal standpipe multiple      functional  \n3                  borehole  communal standpipe multiple  non functional  \n4      rainwater harvesting           communal standpipe      functional  \n...                     ...                          ...             ...  \n59395                spring           communal standpipe      functional  \n59396            river/lake           communal standpipe      functional  \n59397              borehole                    hand pump      functional  \n59398          shallow well                    hand pump      functional  \n59399          shallow well                    hand pump      functional  \n\n[59400 rows x 27 columns]",
      "text/html": "<div>\n<style scoped>\n    .dataframe tbody tr th:only-of-type {\n        vertical-align: middle;\n    }\n\n    .dataframe tbody tr th {\n        vertical-align: top;\n    }\n\n    .dataframe thead th {\n        text-align: right;\n    }\n</style>\n<table border=\"1\" class=\"dataframe\">\n  <thead>\n    <tr style=\"text-align: right;\">\n      <th></th>\n      <th>amount_tsh</th>\n      <th>funder</th>\n      <th>gps_height</th>\n      <th>installer</th>\n      <th>longitude</th>\n      <th>latitude</th>\n      <th>num_private</th>\n      <th>basin</th>\n      <th>subvillage</th>\n      <th>region</th>\n      <th>...</th>\n      <th>permit</th>\n      <th>construction_year</th>\n      <th>extraction_type_class</th>\n      <th>management</th>\n      <th>payment</th>\n      <th>water_quality</th>\n      <th>quantity</th>\n      <th>source_type</th>\n      <th>waterpoint_type</th>\n      <th>status_group</th>\n    </tr>\n  </thead>\n  <tbody>\n    <tr>\n      <th>0</th>\n      <td>6000.0</td>\n      <td>Roman</td>\n      <td>1390</td>\n      <td>Roman</td>\n      <td>34.938093</td>\n      <td>-9.856322</td>\n      <td>0</td>\n      <td>Lake Nyasa</td>\n      <td>Mnyusi B</td>\n      <td>Iringa</td>\n      <td>...</td>\n      <td>False</td>\n      <td>1999</td>\n      <td>gravity</td>\n      <td>vwc</td>\n      <td>pay annually</td>\n      <td>soft</td>\n      <td>enough</td>\n      <td>spring</td>\n      <td>communal standpipe</td>\n      <td>functional</td>\n    </tr>\n    <tr>\n      <th>1</th>\n      <td>0.0</td>\n      <td>Grumeti</td>\n      <td>1399</td>\n      <td>GRUMETI</td>\n      <td>34.698766</td>\n      <td>-2.147466</td>\n      <td>0</td>\n      <td>Lake Victoria</td>\n      <td>Nyamara</td>\n      <td>Mara</td>\n      <td>...</td>\n      <td>True</td>\n      <td>2010</td>\n      <td>gravity</td>\n      <td>wug</td>\n      <td>never pay</td>\n      <td>soft</td>\n      <td>insufficient</td>\n      <td>rainwater harvesting</td>\n      <td>communal standpipe</td>\n      <td>functional</td>\n    </tr>\n    <tr>\n      <th>2</th>\n      <td>25.0</td>\n      <td>Lottery Club</td>\n      <td>686</td>\n      <td>World vision</td>\n      <td>37.460664</td>\n      <td>-3.821329</td>\n      <td>0</td>\n      <td>Pangani</td>\n      <td>Majengo</td>\n      <td>Manyara</td>\n      <td>...</td>\n      <td>True</td>\n      <td>2009</td>\n      <td>gravity</td>\n      <td>vwc</td>\n      <td>pay per bucket</td>\n      <td>soft</td>\n      <td>enough</td>\n      <td>dam</td>\n      <td>communal standpipe multiple</td>\n      <td>functional</td>\n    </tr>\n    <tr>\n      <th>3</th>\n      <td>0.0</td>\n      <td>Unicef</td>\n      <td>263</td>\n      <td>UNICEF</td>\n      <td>38.486161</td>\n      <td>-11.155298</td>\n      <td>0</td>\n      <td>Ruvuma / Southern Coast</td>\n      <td>Mahakamani</td>\n      <td>Mtwara</td>\n      <td>...</td>\n      <td>True</td>\n      <td>1986</td>\n      <td>submersible</td>\n      <td>vwc</td>\n      <td>never pay</td>\n      <td>soft</td>\n      <td>dry</td>\n      <td>borehole</td>\n      <td>communal standpipe multiple</td>\n      <td>non functional</td>\n    </tr>\n    <tr>\n      <th>4</th>\n      <td>0.0</td>\n      <td>Action In A</td>\n      <td>0</td>\n      <td>Artisan</td>\n      <td>31.130847</td>\n      <td>-1.825359</td>\n      <td>0</td>\n      <td>Lake Victoria</td>\n      <td>Kyanyamisa</td>\n      <td>Kagera</td>\n      <td>...</td>\n      <td>True</td>\n      <td>1986</td>\n      <td>gravity</td>\n      <td>other</td>\n      <td>never pay</td>\n      <td>soft</td>\n      <td>seasonal</td>\n      <td>rainwater harvesting</td>\n      <td>communal standpipe</td>\n      <td>functional</td>\n    </tr>\n    <tr>\n      <th>...</th>\n      <td>...</td>\n      <td>...</td>\n      <td>...</td>\n      <td>...</td>\n      <td>...</td>\n      <td>...</td>\n      <td>...</td>\n      <td>...</td>\n      <td>...</td>\n      <td>...</td>\n      <td>...</td>\n      <td>...</td>\n      <td>...</td>\n      <td>...</td>\n      <td>...</td>\n      <td>...</td>\n      <td>...</td>\n      <td>...</td>\n      <td>...</td>\n      <td>...</td>\n      <td>...</td>\n    </tr>\n    <tr>\n      <th>59395</th>\n      <td>10.0</td>\n      <td>Germany Republi</td>\n      <td>1210</td>\n      <td>CES</td>\n      <td>37.169807</td>\n      <td>-3.253847</td>\n      <td>0</td>\n      <td>Pangani</td>\n      <td>Kiduruni</td>\n      <td>Kilimanjaro</td>\n      <td>...</td>\n      <td>True</td>\n      <td>1999</td>\n      <td>gravity</td>\n      <td>water board</td>\n      <td>pay per bucket</td>\n      <td>soft</td>\n      <td>enough</td>\n      <td>spring</td>\n      <td>communal standpipe</td>\n      <td>functional</td>\n    </tr>\n    <tr>\n      <th>59396</th>\n      <td>4700.0</td>\n      <td>Cefa-njombe</td>\n      <td>1212</td>\n      <td>Cefa</td>\n      <td>35.249991</td>\n      <td>-9.070629</td>\n      <td>0</td>\n      <td>Rufiji</td>\n      <td>Igumbilo</td>\n      <td>Iringa</td>\n      <td>...</td>\n      <td>True</td>\n      <td>1996</td>\n      <td>gravity</td>\n      <td>vwc</td>\n      <td>pay annually</td>\n      <td>soft</td>\n      <td>enough</td>\n      <td>river/lake</td>\n      <td>communal standpipe</td>\n      <td>functional</td>\n    </tr>\n    <tr>\n      <th>59397</th>\n      <td>0.0</td>\n      <td>Unknown</td>\n      <td>0</td>\n      <td>Unknown</td>\n      <td>34.017087</td>\n      <td>-8.750434</td>\n      <td>0</td>\n      <td>Rufiji</td>\n      <td>Madungulu</td>\n      <td>Mbeya</td>\n      <td>...</td>\n      <td>False</td>\n      <td>1986</td>\n      <td>handpump</td>\n      <td>vwc</td>\n      <td>pay monthly</td>\n      <td>fluoride</td>\n      <td>enough</td>\n      <td>borehole</td>\n      <td>hand pump</td>\n      <td>functional</td>\n    </tr>\n    <tr>\n      <th>59398</th>\n      <td>0.0</td>\n      <td>Malec</td>\n      <td>0</td>\n      <td>Musa</td>\n      <td>35.861315</td>\n      <td>-6.378573</td>\n      <td>0</td>\n      <td>Rufiji</td>\n      <td>Mwinyi</td>\n      <td>Dodoma</td>\n      <td>...</td>\n      <td>True</td>\n      <td>1986</td>\n      <td>handpump</td>\n      <td>vwc</td>\n      <td>never pay</td>\n      <td>soft</td>\n      <td>insufficient</td>\n      <td>shallow well</td>\n      <td>hand pump</td>\n      <td>functional</td>\n    </tr>\n    <tr>\n      <th>59399</th>\n      <td>0.0</td>\n      <td>World Bank</td>\n      <td>191</td>\n      <td>World</td>\n      <td>38.104048</td>\n      <td>-6.747464</td>\n      <td>0</td>\n      <td>Wami / Ruvu</td>\n      <td>Kikatanyemba</td>\n      <td>Morogoro</td>\n      <td>...</td>\n      <td>True</td>\n      <td>2002</td>\n      <td>handpump</td>\n      <td>vwc</td>\n      <td>pay when scheme fails</td>\n      <td>salty</td>\n      <td>enough</td>\n      <td>shallow well</td>\n      <td>hand pump</td>\n      <td>functional</td>\n    </tr>\n  </tbody>\n</table>\n<p>59400 rows × 27 columns</p>\n</div>"
     },
     "execution_count": 21,
     "metadata": {},
     "output_type": "execute_result"
    }
   ],
   "source": [
    "df"
   ],
   "metadata": {
    "collapsed": false,
    "pycharm": {
     "name": "#%%\n"
    }
   }
  },
  {
   "cell_type": "code",
   "execution_count": 22,
   "outputs": [],
   "source": [
    "funder_mask = df['funder'].map(df['funder'].value_counts()) < 800\n",
    "installer_mask = df['installer'].map(df['installer'].value_counts()) < 100\n",
    "subvillage_mask = df['subvillage'].map(df['subvillage'].value_counts()) < 5\n",
    "lga_mask = df['lga'].map(df['lga'].value_counts()) < 200\n",
    "\n",
    "\n",
    "df['funder'] = df['funder'].mask(funder_mask, 'other')\n",
    "# df['lga'] = df['lga'].mask(lga_mask, 'other')\n",
    "\n",
    "# df['installer'] = df['installer'].mask(installer_mask, 'other')\n",
    "# df['subvillage'] = df['subvillage'].mask(subvillage_mask, 'other')"
   ],
   "metadata": {
    "collapsed": false,
    "pycharm": {
     "name": "#%%\n"
    }
   }
  },
  {
   "cell_type": "markdown",
   "source": [
    "## Feature Selection"
   ],
   "metadata": {
    "collapsed": false,
    "pycharm": {
     "name": "#%% md\n"
    }
   }
  },
  {
   "cell_type": "code",
   "execution_count": 23,
   "outputs": [],
   "source": [
    "# temp_df = df[(df['longitude'] != 0) & (df['latitude'] != 0)]"
   ],
   "metadata": {
    "collapsed": false,
    "pycharm": {
     "name": "#%%\n"
    }
   }
  },
  {
   "cell_type": "code",
   "execution_count": 24,
   "outputs": [],
   "source": [
    "# plt.figure(figsize=(15,15))\n",
    "# plt.scatter(x=temp_df['longitude'], y=temp_df['latitude'])\n",
    "# plt.plot"
   ],
   "metadata": {
    "collapsed": false,
    "pycharm": {
     "name": "#%%\n"
    }
   }
  },
  {
   "cell_type": "code",
   "execution_count": 25,
   "outputs": [],
   "source": [
    "# step = 0.5\n",
    "# to_bin = lambda x: '%0.3f' % (np.floor(x / step) * step)\n",
    "# df[\"lat_long_bin\"] = df['latitude'].map(to_bin) + 'x' + \\\n",
    "#               df['longitude'].map(to_bin)"
   ],
   "metadata": {
    "collapsed": false,
    "pycharm": {
     "name": "#%%\n"
    }
   }
  },
  {
   "cell_type": "code",
   "execution_count": 26,
   "outputs": [],
   "source": [
    "# df['lat_long_bin'].unique()"
   ],
   "metadata": {
    "collapsed": false,
    "pycharm": {
     "name": "#%%\n"
    }
   }
  },
  {
   "cell_type": "code",
   "execution_count": 27,
   "outputs": [],
   "source": [
    "# objects_ = ['region_code', 'district_code', 'construction_year']\n",
    "df[['public_meeting', 'permit']] = df[['public_meeting','permit']].astype(bool)\n",
    "\n",
    "# df[objects_] = df[objects_].astype('object')"
   ],
   "metadata": {
    "collapsed": false,
    "pycharm": {
     "name": "#%%\n"
    }
   }
  },
  {
   "cell_type": "code",
   "execution_count": 28,
   "outputs": [],
   "source": [
    "# for col in df.select_dtypes(['int', 'float']):\n",
    "#     # if col != 'longitude' or col != 'latitude':\n",
    "#     df[f'{col}_log'] = (df[col] - df[col].min()+1).transform(np.log)"
   ],
   "metadata": {
    "collapsed": false,
    "pycharm": {
     "name": "#%%\n"
    }
   }
  },
  {
   "cell_type": "code",
   "execution_count": 29,
   "outputs": [],
   "source": [
    "# drop = ['amount_tsh', 'gps_height', 'num_private',\n",
    "#         'population', 'longitude_log', 'latitude_log']\n",
    "# df.drop(drop, axis=1, inplace=True)"
   ],
   "metadata": {
    "collapsed": false,
    "pycharm": {
     "name": "#%%\n"
    }
   }
  },
  {
   "cell_type": "code",
   "execution_count": 29,
   "outputs": [],
   "source": [],
   "metadata": {
    "collapsed": false,
    "pycharm": {
     "name": "#%%\n"
    }
   }
  },
  {
   "cell_type": "code",
   "execution_count": 30,
   "outputs": [
    {
     "data": {
      "text/plain": "                                       cc\npairs                                    \n(region_code, district_code)     0.678602\n(latitude, longitude)            0.425802\n(gps_height, construction_year)  0.296245\n(latitude, region_code)          0.221018\n(district_code, latitude)        0.201020\n(construction_year, longitude)   0.188632\n(gps_height, region_code)        0.183521\n(gps_height, district_code)      0.171233\n(district_code, longitude)       0.151398\n(gps_height, longitude)          0.149155",
      "text/html": "<div>\n<style scoped>\n    .dataframe tbody tr th:only-of-type {\n        vertical-align: middle;\n    }\n\n    .dataframe tbody tr th {\n        vertical-align: top;\n    }\n\n    .dataframe thead th {\n        text-align: right;\n    }\n</style>\n<table border=\"1\" class=\"dataframe\">\n  <thead>\n    <tr style=\"text-align: right;\">\n      <th></th>\n      <th>cc</th>\n    </tr>\n    <tr>\n      <th>pairs</th>\n      <th></th>\n    </tr>\n  </thead>\n  <tbody>\n    <tr>\n      <th>(region_code, district_code)</th>\n      <td>0.678602</td>\n    </tr>\n    <tr>\n      <th>(latitude, longitude)</th>\n      <td>0.425802</td>\n    </tr>\n    <tr>\n      <th>(gps_height, construction_year)</th>\n      <td>0.296245</td>\n    </tr>\n    <tr>\n      <th>(latitude, region_code)</th>\n      <td>0.221018</td>\n    </tr>\n    <tr>\n      <th>(district_code, latitude)</th>\n      <td>0.201020</td>\n    </tr>\n    <tr>\n      <th>(construction_year, longitude)</th>\n      <td>0.188632</td>\n    </tr>\n    <tr>\n      <th>(gps_height, region_code)</th>\n      <td>0.183521</td>\n    </tr>\n    <tr>\n      <th>(gps_height, district_code)</th>\n      <td>0.171233</td>\n    </tr>\n    <tr>\n      <th>(district_code, longitude)</th>\n      <td>0.151398</td>\n    </tr>\n    <tr>\n      <th>(gps_height, longitude)</th>\n      <td>0.149155</td>\n    </tr>\n  </tbody>\n</table>\n</div>"
     },
     "execution_count": 30,
     "metadata": {},
     "output_type": "execute_result"
    }
   ],
   "source": [
    "corr_df = df.corr()\n",
    "\n",
    "df_corr=corr_df.abs().stack().reset_index().sort_values(0, ascending=False)\n",
    "df_corr['pairs'] = list(zip(df_corr.level_0, df_corr.level_1))\n",
    "df_corr.set_index(['pairs'], inplace = True)\n",
    "df_corr.drop(columns=['level_1', 'level_0'], inplace = True)\n",
    "df_corr.columns = ['cc']\n",
    "df_corr.drop_duplicates(inplace=True)\n",
    "df_corr = df_corr[df_corr['cc'] < 1.0000]\n",
    "df_corr.head(10)"
   ],
   "metadata": {
    "collapsed": false,
    "pycharm": {
     "name": "#%%\n"
    }
   }
  },
  {
   "cell_type": "code",
   "execution_count": 31,
   "outputs": [],
   "source": [
    "drop_cols = ['longitude', 'population', 'permit', 'region_code', 'gps_height', 'latitude']\n",
    "\n",
    "df.drop(drop_cols, axis=1, inplace=True)"
   ],
   "metadata": {
    "collapsed": false,
    "pycharm": {
     "name": "#%%\n"
    }
   }
  },
  {
   "cell_type": "code",
   "execution_count": 32,
   "outputs": [
    {
     "data": {
      "text/plain": "                                           cc\npairs                                        \n(public_meeting, construction_year)  0.038857\n(construction_year, amount_tsh)      0.036297\n(construction_year, district_code)   0.027986\n(district_code, amount_tsh)          0.023599\n(public_meeting, amount_tsh)         0.015798\n(district_code, public_meeting)      0.012133\n(num_private, construction_year)     0.009013\n(public_meeting, num_private)        0.008618\n(district_code, num_private)         0.004478\n(amount_tsh, num_private)            0.002944",
      "text/html": "<div>\n<style scoped>\n    .dataframe tbody tr th:only-of-type {\n        vertical-align: middle;\n    }\n\n    .dataframe tbody tr th {\n        vertical-align: top;\n    }\n\n    .dataframe thead th {\n        text-align: right;\n    }\n</style>\n<table border=\"1\" class=\"dataframe\">\n  <thead>\n    <tr style=\"text-align: right;\">\n      <th></th>\n      <th>cc</th>\n    </tr>\n    <tr>\n      <th>pairs</th>\n      <th></th>\n    </tr>\n  </thead>\n  <tbody>\n    <tr>\n      <th>(public_meeting, construction_year)</th>\n      <td>0.038857</td>\n    </tr>\n    <tr>\n      <th>(construction_year, amount_tsh)</th>\n      <td>0.036297</td>\n    </tr>\n    <tr>\n      <th>(construction_year, district_code)</th>\n      <td>0.027986</td>\n    </tr>\n    <tr>\n      <th>(district_code, amount_tsh)</th>\n      <td>0.023599</td>\n    </tr>\n    <tr>\n      <th>(public_meeting, amount_tsh)</th>\n      <td>0.015798</td>\n    </tr>\n    <tr>\n      <th>(district_code, public_meeting)</th>\n      <td>0.012133</td>\n    </tr>\n    <tr>\n      <th>(num_private, construction_year)</th>\n      <td>0.009013</td>\n    </tr>\n    <tr>\n      <th>(public_meeting, num_private)</th>\n      <td>0.008618</td>\n    </tr>\n    <tr>\n      <th>(district_code, num_private)</th>\n      <td>0.004478</td>\n    </tr>\n    <tr>\n      <th>(amount_tsh, num_private)</th>\n      <td>0.002944</td>\n    </tr>\n  </tbody>\n</table>\n</div>"
     },
     "execution_count": 32,
     "metadata": {},
     "output_type": "execute_result"
    }
   ],
   "source": [
    "corr_df = df.corr()\n",
    "\n",
    "df_corr=corr_df.abs().stack().reset_index().sort_values(0, ascending=False)\n",
    "df_corr['pairs'] = list(zip(df_corr.level_0, df_corr.level_1))\n",
    "df_corr.set_index(['pairs'], inplace = True)\n",
    "df_corr.drop(columns=['level_1', 'level_0'], inplace = True)\n",
    "df_corr.columns = ['cc']\n",
    "df_corr.drop_duplicates(inplace=True)\n",
    "df_corr = df_corr[df_corr['cc'] < 1.0000]\n",
    "df_corr.head(10)"
   ],
   "metadata": {
    "collapsed": false,
    "pycharm": {
     "name": "#%%\n"
    }
   }
  },
  {
   "cell_type": "code",
   "execution_count": 33,
   "outputs": [],
   "source": [
    "# X = df.drop(['status_group'], axis=1)\n",
    "# y = df['status_group']\n",
    "#\n",
    "# X_train, X_test, y_train, y_test = train_test_split(X,y, random_state=42, stratify=y)\n",
    "#\n",
    "# numeric_features = X_train.select_dtypes(['int64', 'float64']).columns.to_list()\n",
    "# cat_features = X_train.select_dtypes(['object', 'bool']).columns.to_list()\n",
    "#\n",
    "# numeric_transformer = Pipeline(steps=[('scaler',  StandardScaler())])\n",
    "#\n",
    "# cat_transformer = OneHotEncoder(drop='first', handle_unknown='ignore')\n",
    "#\n",
    "# preprocessor = ColumnTransformer(transformers=[\n",
    "#     ('num', numeric_transformer, numeric_features),\n",
    "#     ('cat', cat_transformer, cat_features)])\n",
    "#\n",
    "# rf = RandomForestClassifier(random_state=42)\n",
    "#\n",
    "# rf_clf = Pipeline(steps=[('preprocessor', preprocessor),\n",
    "#                          ('feature_selection', SequentialFeatureSelector(rf, n_features_to_select='auto', tol=0.1, direction='forward', cv=5, n_jobs=-1)),\n",
    "#                          ('classifier', RandomForestClassifier(random_state=42, n_jobs=-1))])\n",
    "#\n",
    "# rf_clf.fit(X_train, y_train)\n",
    "#\n",
    "# y_hat = rf_clf.predict(X_test)\n",
    "#\n",
    "# print('Accuracy:', accuracy_score(y_test, y_hat))\n",
    "\n",
    "# sfs = SequentialFeatureSelector(rf, n_features_to_select='auto', tol=0.1, direction='forward', cv=5, n_jobs=-1)\n",
    "# sfs.fit(X_train,y_train)"
   ],
   "metadata": {
    "collapsed": false,
    "pycharm": {
     "name": "#%%\n"
    }
   }
  },
  {
   "cell_type": "code",
   "execution_count": 34,
   "outputs": [
    {
     "data": {
      "text/plain": "       amount_tsh      funder     installer  num_private  \\\n0          6000.0       other         Roman            0   \n1             0.0       other       GRUMETI            0   \n2            25.0       other  World vision            0   \n3             0.0      Unicef        UNICEF            0   \n4             0.0       other       Artisan            0   \n...           ...         ...           ...          ...   \n59395        10.0       other           CES            0   \n59396      4700.0       other          Cefa            0   \n59397         0.0     Unknown       Unknown            0   \n59398         0.0       other          Musa            0   \n59399         0.0  World Bank         World            0   \n\n                         basin    subvillage       region  district_code  \\\n0                   Lake Nyasa      Mnyusi B       Iringa              5   \n1                Lake Victoria       Nyamara         Mara              2   \n2                      Pangani       Majengo      Manyara              4   \n3      Ruvuma / Southern Coast    Mahakamani       Mtwara             63   \n4                Lake Victoria    Kyanyamisa       Kagera              1   \n...                        ...           ...          ...            ...   \n59395                  Pangani      Kiduruni  Kilimanjaro              5   \n59396                   Rufiji      Igumbilo       Iringa              4   \n59397                   Rufiji     Madungulu        Mbeya              7   \n59398                   Rufiji        Mwinyi       Dodoma              4   \n59399              Wami / Ruvu  Kikatanyemba     Morogoro              2   \n\n                  lga              ward  ...  scheme_management  \\\n0              Ludewa          Mundindi  ...                VWC   \n1           Serengeti             Natta  ...              Other   \n2           Simanjiro           Ngorika  ...                VWC   \n3            Nanyumbu          Nanyumbu  ...                VWC   \n4             Karagwe        Nyakasimbi  ...            Unknown   \n...               ...               ...  ...                ...   \n59395             Hai  Masama Magharibi  ...        Water Board   \n59396          Njombe            Ikondo  ...                VWC   \n59397         Mbarali           Chimala  ...                VWC   \n59398        Chamwino      Mvumi Makulu  ...                VWC   \n59399  Morogoro Rural        Ngerengere  ...                VWC   \n\n      construction_year  extraction_type_class   management  \\\n0                  1999                gravity          vwc   \n1                  2010                gravity          wug   \n2                  2009                gravity          vwc   \n3                  1986            submersible          vwc   \n4                  1986                gravity        other   \n...                 ...                    ...          ...   \n59395              1999                gravity  water board   \n59396              1996                gravity          vwc   \n59397              1986               handpump          vwc   \n59398              1986               handpump          vwc   \n59399              2002               handpump          vwc   \n\n                     payment water_quality      quantity  \\\n0               pay annually          soft        enough   \n1                  never pay          soft  insufficient   \n2             pay per bucket          soft        enough   \n3                  never pay          soft           dry   \n4                  never pay          soft      seasonal   \n...                      ...           ...           ...   \n59395         pay per bucket          soft        enough   \n59396           pay annually          soft        enough   \n59397            pay monthly      fluoride        enough   \n59398              never pay          soft  insufficient   \n59399  pay when scheme fails         salty        enough   \n\n                source_type              waterpoint_type    status_group  \n0                    spring           communal standpipe      functional  \n1      rainwater harvesting           communal standpipe      functional  \n2                       dam  communal standpipe multiple      functional  \n3                  borehole  communal standpipe multiple  non functional  \n4      rainwater harvesting           communal standpipe      functional  \n...                     ...                          ...             ...  \n59395                spring           communal standpipe      functional  \n59396            river/lake           communal standpipe      functional  \n59397              borehole                    hand pump      functional  \n59398          shallow well                    hand pump      functional  \n59399          shallow well                    hand pump      functional  \n\n[59400 rows x 21 columns]",
      "text/html": "<div>\n<style scoped>\n    .dataframe tbody tr th:only-of-type {\n        vertical-align: middle;\n    }\n\n    .dataframe tbody tr th {\n        vertical-align: top;\n    }\n\n    .dataframe thead th {\n        text-align: right;\n    }\n</style>\n<table border=\"1\" class=\"dataframe\">\n  <thead>\n    <tr style=\"text-align: right;\">\n      <th></th>\n      <th>amount_tsh</th>\n      <th>funder</th>\n      <th>installer</th>\n      <th>num_private</th>\n      <th>basin</th>\n      <th>subvillage</th>\n      <th>region</th>\n      <th>district_code</th>\n      <th>lga</th>\n      <th>ward</th>\n      <th>...</th>\n      <th>scheme_management</th>\n      <th>construction_year</th>\n      <th>extraction_type_class</th>\n      <th>management</th>\n      <th>payment</th>\n      <th>water_quality</th>\n      <th>quantity</th>\n      <th>source_type</th>\n      <th>waterpoint_type</th>\n      <th>status_group</th>\n    </tr>\n  </thead>\n  <tbody>\n    <tr>\n      <th>0</th>\n      <td>6000.0</td>\n      <td>other</td>\n      <td>Roman</td>\n      <td>0</td>\n      <td>Lake Nyasa</td>\n      <td>Mnyusi B</td>\n      <td>Iringa</td>\n      <td>5</td>\n      <td>Ludewa</td>\n      <td>Mundindi</td>\n      <td>...</td>\n      <td>VWC</td>\n      <td>1999</td>\n      <td>gravity</td>\n      <td>vwc</td>\n      <td>pay annually</td>\n      <td>soft</td>\n      <td>enough</td>\n      <td>spring</td>\n      <td>communal standpipe</td>\n      <td>functional</td>\n    </tr>\n    <tr>\n      <th>1</th>\n      <td>0.0</td>\n      <td>other</td>\n      <td>GRUMETI</td>\n      <td>0</td>\n      <td>Lake Victoria</td>\n      <td>Nyamara</td>\n      <td>Mara</td>\n      <td>2</td>\n      <td>Serengeti</td>\n      <td>Natta</td>\n      <td>...</td>\n      <td>Other</td>\n      <td>2010</td>\n      <td>gravity</td>\n      <td>wug</td>\n      <td>never pay</td>\n      <td>soft</td>\n      <td>insufficient</td>\n      <td>rainwater harvesting</td>\n      <td>communal standpipe</td>\n      <td>functional</td>\n    </tr>\n    <tr>\n      <th>2</th>\n      <td>25.0</td>\n      <td>other</td>\n      <td>World vision</td>\n      <td>0</td>\n      <td>Pangani</td>\n      <td>Majengo</td>\n      <td>Manyara</td>\n      <td>4</td>\n      <td>Simanjiro</td>\n      <td>Ngorika</td>\n      <td>...</td>\n      <td>VWC</td>\n      <td>2009</td>\n      <td>gravity</td>\n      <td>vwc</td>\n      <td>pay per bucket</td>\n      <td>soft</td>\n      <td>enough</td>\n      <td>dam</td>\n      <td>communal standpipe multiple</td>\n      <td>functional</td>\n    </tr>\n    <tr>\n      <th>3</th>\n      <td>0.0</td>\n      <td>Unicef</td>\n      <td>UNICEF</td>\n      <td>0</td>\n      <td>Ruvuma / Southern Coast</td>\n      <td>Mahakamani</td>\n      <td>Mtwara</td>\n      <td>63</td>\n      <td>Nanyumbu</td>\n      <td>Nanyumbu</td>\n      <td>...</td>\n      <td>VWC</td>\n      <td>1986</td>\n      <td>submersible</td>\n      <td>vwc</td>\n      <td>never pay</td>\n      <td>soft</td>\n      <td>dry</td>\n      <td>borehole</td>\n      <td>communal standpipe multiple</td>\n      <td>non functional</td>\n    </tr>\n    <tr>\n      <th>4</th>\n      <td>0.0</td>\n      <td>other</td>\n      <td>Artisan</td>\n      <td>0</td>\n      <td>Lake Victoria</td>\n      <td>Kyanyamisa</td>\n      <td>Kagera</td>\n      <td>1</td>\n      <td>Karagwe</td>\n      <td>Nyakasimbi</td>\n      <td>...</td>\n      <td>Unknown</td>\n      <td>1986</td>\n      <td>gravity</td>\n      <td>other</td>\n      <td>never pay</td>\n      <td>soft</td>\n      <td>seasonal</td>\n      <td>rainwater harvesting</td>\n      <td>communal standpipe</td>\n      <td>functional</td>\n    </tr>\n    <tr>\n      <th>...</th>\n      <td>...</td>\n      <td>...</td>\n      <td>...</td>\n      <td>...</td>\n      <td>...</td>\n      <td>...</td>\n      <td>...</td>\n      <td>...</td>\n      <td>...</td>\n      <td>...</td>\n      <td>...</td>\n      <td>...</td>\n      <td>...</td>\n      <td>...</td>\n      <td>...</td>\n      <td>...</td>\n      <td>...</td>\n      <td>...</td>\n      <td>...</td>\n      <td>...</td>\n      <td>...</td>\n    </tr>\n    <tr>\n      <th>59395</th>\n      <td>10.0</td>\n      <td>other</td>\n      <td>CES</td>\n      <td>0</td>\n      <td>Pangani</td>\n      <td>Kiduruni</td>\n      <td>Kilimanjaro</td>\n      <td>5</td>\n      <td>Hai</td>\n      <td>Masama Magharibi</td>\n      <td>...</td>\n      <td>Water Board</td>\n      <td>1999</td>\n      <td>gravity</td>\n      <td>water board</td>\n      <td>pay per bucket</td>\n      <td>soft</td>\n      <td>enough</td>\n      <td>spring</td>\n      <td>communal standpipe</td>\n      <td>functional</td>\n    </tr>\n    <tr>\n      <th>59396</th>\n      <td>4700.0</td>\n      <td>other</td>\n      <td>Cefa</td>\n      <td>0</td>\n      <td>Rufiji</td>\n      <td>Igumbilo</td>\n      <td>Iringa</td>\n      <td>4</td>\n      <td>Njombe</td>\n      <td>Ikondo</td>\n      <td>...</td>\n      <td>VWC</td>\n      <td>1996</td>\n      <td>gravity</td>\n      <td>vwc</td>\n      <td>pay annually</td>\n      <td>soft</td>\n      <td>enough</td>\n      <td>river/lake</td>\n      <td>communal standpipe</td>\n      <td>functional</td>\n    </tr>\n    <tr>\n      <th>59397</th>\n      <td>0.0</td>\n      <td>Unknown</td>\n      <td>Unknown</td>\n      <td>0</td>\n      <td>Rufiji</td>\n      <td>Madungulu</td>\n      <td>Mbeya</td>\n      <td>7</td>\n      <td>Mbarali</td>\n      <td>Chimala</td>\n      <td>...</td>\n      <td>VWC</td>\n      <td>1986</td>\n      <td>handpump</td>\n      <td>vwc</td>\n      <td>pay monthly</td>\n      <td>fluoride</td>\n      <td>enough</td>\n      <td>borehole</td>\n      <td>hand pump</td>\n      <td>functional</td>\n    </tr>\n    <tr>\n      <th>59398</th>\n      <td>0.0</td>\n      <td>other</td>\n      <td>Musa</td>\n      <td>0</td>\n      <td>Rufiji</td>\n      <td>Mwinyi</td>\n      <td>Dodoma</td>\n      <td>4</td>\n      <td>Chamwino</td>\n      <td>Mvumi Makulu</td>\n      <td>...</td>\n      <td>VWC</td>\n      <td>1986</td>\n      <td>handpump</td>\n      <td>vwc</td>\n      <td>never pay</td>\n      <td>soft</td>\n      <td>insufficient</td>\n      <td>shallow well</td>\n      <td>hand pump</td>\n      <td>functional</td>\n    </tr>\n    <tr>\n      <th>59399</th>\n      <td>0.0</td>\n      <td>World Bank</td>\n      <td>World</td>\n      <td>0</td>\n      <td>Wami / Ruvu</td>\n      <td>Kikatanyemba</td>\n      <td>Morogoro</td>\n      <td>2</td>\n      <td>Morogoro Rural</td>\n      <td>Ngerengere</td>\n      <td>...</td>\n      <td>VWC</td>\n      <td>2002</td>\n      <td>handpump</td>\n      <td>vwc</td>\n      <td>pay when scheme fails</td>\n      <td>salty</td>\n      <td>enough</td>\n      <td>shallow well</td>\n      <td>hand pump</td>\n      <td>functional</td>\n    </tr>\n  </tbody>\n</table>\n<p>59400 rows × 21 columns</p>\n</div>"
     },
     "execution_count": 34,
     "metadata": {},
     "output_type": "execute_result"
    }
   ],
   "source": [
    "df"
   ],
   "metadata": {
    "collapsed": false,
    "pycharm": {
     "name": "#%%\n"
    }
   }
  },
  {
   "cell_type": "code",
   "execution_count": 35,
   "outputs": [],
   "source": [
    "from sklearn.preprocessing import LabelEncoder\n",
    "X = df.drop(['status_group'], axis=1)\n",
    "y = df['status_group']\n",
    "\n",
    "# le = LabelEncoder()\n",
    "# y = le.fit_transform(y)\n",
    "\n",
    "# ohe = OneHotEncoder(drop='first', handle_unknown='ignore')\n",
    "# ohe_ = ohe.fit_transform(X.select_dtypes(['object', 'bool'])).toarray()\n",
    "# ohe_ = pd.DataFrame(ohe_, columns=ohe.get_feature_names_out())\n",
    "# X = pd.concat([X.select_dtypes(['int', 'float']), ohe_], axis=1)"
   ],
   "metadata": {
    "collapsed": false,
    "pycharm": {
     "name": "#%%\n"
    }
   }
  },
  {
   "cell_type": "code",
   "execution_count": 36,
   "outputs": [],
   "source": [
    "idx_val = []\n",
    "\n",
    "for idx, col in enumerate(X.select_dtypes(['object', 'bool']).columns.to_list()):\n",
    "    for idx_, col_ in enumerate(X.columns.to_list()):\n",
    "        if col == col_:\n",
    "            idx_val.append(idx_)"
   ],
   "metadata": {
    "collapsed": false,
    "pycharm": {
     "name": "#%%\n"
    }
   }
  },
  {
   "cell_type": "code",
   "execution_count": 37,
   "outputs": [
    {
     "data": {
      "text/plain": "[1, 2, 4, 5, 6, 8, 9, 10, 11, 13, 14, 15, 16, 17, 18, 19]"
     },
     "execution_count": 37,
     "metadata": {},
     "output_type": "execute_result"
    }
   ],
   "source": [
    "idx_val"
   ],
   "metadata": {
    "collapsed": false,
    "pycharm": {
     "name": "#%%\n"
    }
   }
  },
  {
   "cell_type": "code",
   "execution_count": 38,
   "outputs": [
    {
     "data": {
      "text/plain": "       amount_tsh      funder     installer  num_private  \\\n0          6000.0       other         Roman            0   \n1             0.0       other       GRUMETI            0   \n2            25.0       other  World vision            0   \n3             0.0      Unicef        UNICEF            0   \n4             0.0       other       Artisan            0   \n...           ...         ...           ...          ...   \n59395        10.0       other           CES            0   \n59396      4700.0       other          Cefa            0   \n59397         0.0     Unknown       Unknown            0   \n59398         0.0       other          Musa            0   \n59399         0.0  World Bank         World            0   \n\n                         basin    subvillage       region  district_code  \\\n0                   Lake Nyasa      Mnyusi B       Iringa              5   \n1                Lake Victoria       Nyamara         Mara              2   \n2                      Pangani       Majengo      Manyara              4   \n3      Ruvuma / Southern Coast    Mahakamani       Mtwara             63   \n4                Lake Victoria    Kyanyamisa       Kagera              1   \n...                        ...           ...          ...            ...   \n59395                  Pangani      Kiduruni  Kilimanjaro              5   \n59396                   Rufiji      Igumbilo       Iringa              4   \n59397                   Rufiji     Madungulu        Mbeya              7   \n59398                   Rufiji        Mwinyi       Dodoma              4   \n59399              Wami / Ruvu  Kikatanyemba     Morogoro              2   \n\n                  lga              ward  public_meeting scheme_management  \\\n0              Ludewa          Mundindi            True               VWC   \n1           Serengeti             Natta            True             Other   \n2           Simanjiro           Ngorika            True               VWC   \n3            Nanyumbu          Nanyumbu            True               VWC   \n4             Karagwe        Nyakasimbi            True           Unknown   \n...               ...               ...             ...               ...   \n59395             Hai  Masama Magharibi            True       Water Board   \n59396          Njombe            Ikondo            True               VWC   \n59397         Mbarali           Chimala            True               VWC   \n59398        Chamwino      Mvumi Makulu            True               VWC   \n59399  Morogoro Rural        Ngerengere            True               VWC   \n\n       construction_year extraction_type_class   management  \\\n0                   1999               gravity          vwc   \n1                   2010               gravity          wug   \n2                   2009               gravity          vwc   \n3                   1986           submersible          vwc   \n4                   1986               gravity        other   \n...                  ...                   ...          ...   \n59395               1999               gravity  water board   \n59396               1996               gravity          vwc   \n59397               1986              handpump          vwc   \n59398               1986              handpump          vwc   \n59399               2002              handpump          vwc   \n\n                     payment water_quality      quantity  \\\n0               pay annually          soft        enough   \n1                  never pay          soft  insufficient   \n2             pay per bucket          soft        enough   \n3                  never pay          soft           dry   \n4                  never pay          soft      seasonal   \n...                      ...           ...           ...   \n59395         pay per bucket          soft        enough   \n59396           pay annually          soft        enough   \n59397            pay monthly      fluoride        enough   \n59398              never pay          soft  insufficient   \n59399  pay when scheme fails         salty        enough   \n\n                source_type              waterpoint_type  \n0                    spring           communal standpipe  \n1      rainwater harvesting           communal standpipe  \n2                       dam  communal standpipe multiple  \n3                  borehole  communal standpipe multiple  \n4      rainwater harvesting           communal standpipe  \n...                     ...                          ...  \n59395                spring           communal standpipe  \n59396            river/lake           communal standpipe  \n59397              borehole                    hand pump  \n59398          shallow well                    hand pump  \n59399          shallow well                    hand pump  \n\n[59400 rows x 20 columns]",
      "text/html": "<div>\n<style scoped>\n    .dataframe tbody tr th:only-of-type {\n        vertical-align: middle;\n    }\n\n    .dataframe tbody tr th {\n        vertical-align: top;\n    }\n\n    .dataframe thead th {\n        text-align: right;\n    }\n</style>\n<table border=\"1\" class=\"dataframe\">\n  <thead>\n    <tr style=\"text-align: right;\">\n      <th></th>\n      <th>amount_tsh</th>\n      <th>funder</th>\n      <th>installer</th>\n      <th>num_private</th>\n      <th>basin</th>\n      <th>subvillage</th>\n      <th>region</th>\n      <th>district_code</th>\n      <th>lga</th>\n      <th>ward</th>\n      <th>public_meeting</th>\n      <th>scheme_management</th>\n      <th>construction_year</th>\n      <th>extraction_type_class</th>\n      <th>management</th>\n      <th>payment</th>\n      <th>water_quality</th>\n      <th>quantity</th>\n      <th>source_type</th>\n      <th>waterpoint_type</th>\n    </tr>\n  </thead>\n  <tbody>\n    <tr>\n      <th>0</th>\n      <td>6000.0</td>\n      <td>other</td>\n      <td>Roman</td>\n      <td>0</td>\n      <td>Lake Nyasa</td>\n      <td>Mnyusi B</td>\n      <td>Iringa</td>\n      <td>5</td>\n      <td>Ludewa</td>\n      <td>Mundindi</td>\n      <td>True</td>\n      <td>VWC</td>\n      <td>1999</td>\n      <td>gravity</td>\n      <td>vwc</td>\n      <td>pay annually</td>\n      <td>soft</td>\n      <td>enough</td>\n      <td>spring</td>\n      <td>communal standpipe</td>\n    </tr>\n    <tr>\n      <th>1</th>\n      <td>0.0</td>\n      <td>other</td>\n      <td>GRUMETI</td>\n      <td>0</td>\n      <td>Lake Victoria</td>\n      <td>Nyamara</td>\n      <td>Mara</td>\n      <td>2</td>\n      <td>Serengeti</td>\n      <td>Natta</td>\n      <td>True</td>\n      <td>Other</td>\n      <td>2010</td>\n      <td>gravity</td>\n      <td>wug</td>\n      <td>never pay</td>\n      <td>soft</td>\n      <td>insufficient</td>\n      <td>rainwater harvesting</td>\n      <td>communal standpipe</td>\n    </tr>\n    <tr>\n      <th>2</th>\n      <td>25.0</td>\n      <td>other</td>\n      <td>World vision</td>\n      <td>0</td>\n      <td>Pangani</td>\n      <td>Majengo</td>\n      <td>Manyara</td>\n      <td>4</td>\n      <td>Simanjiro</td>\n      <td>Ngorika</td>\n      <td>True</td>\n      <td>VWC</td>\n      <td>2009</td>\n      <td>gravity</td>\n      <td>vwc</td>\n      <td>pay per bucket</td>\n      <td>soft</td>\n      <td>enough</td>\n      <td>dam</td>\n      <td>communal standpipe multiple</td>\n    </tr>\n    <tr>\n      <th>3</th>\n      <td>0.0</td>\n      <td>Unicef</td>\n      <td>UNICEF</td>\n      <td>0</td>\n      <td>Ruvuma / Southern Coast</td>\n      <td>Mahakamani</td>\n      <td>Mtwara</td>\n      <td>63</td>\n      <td>Nanyumbu</td>\n      <td>Nanyumbu</td>\n      <td>True</td>\n      <td>VWC</td>\n      <td>1986</td>\n      <td>submersible</td>\n      <td>vwc</td>\n      <td>never pay</td>\n      <td>soft</td>\n      <td>dry</td>\n      <td>borehole</td>\n      <td>communal standpipe multiple</td>\n    </tr>\n    <tr>\n      <th>4</th>\n      <td>0.0</td>\n      <td>other</td>\n      <td>Artisan</td>\n      <td>0</td>\n      <td>Lake Victoria</td>\n      <td>Kyanyamisa</td>\n      <td>Kagera</td>\n      <td>1</td>\n      <td>Karagwe</td>\n      <td>Nyakasimbi</td>\n      <td>True</td>\n      <td>Unknown</td>\n      <td>1986</td>\n      <td>gravity</td>\n      <td>other</td>\n      <td>never pay</td>\n      <td>soft</td>\n      <td>seasonal</td>\n      <td>rainwater harvesting</td>\n      <td>communal standpipe</td>\n    </tr>\n    <tr>\n      <th>...</th>\n      <td>...</td>\n      <td>...</td>\n      <td>...</td>\n      <td>...</td>\n      <td>...</td>\n      <td>...</td>\n      <td>...</td>\n      <td>...</td>\n      <td>...</td>\n      <td>...</td>\n      <td>...</td>\n      <td>...</td>\n      <td>...</td>\n      <td>...</td>\n      <td>...</td>\n      <td>...</td>\n      <td>...</td>\n      <td>...</td>\n      <td>...</td>\n      <td>...</td>\n    </tr>\n    <tr>\n      <th>59395</th>\n      <td>10.0</td>\n      <td>other</td>\n      <td>CES</td>\n      <td>0</td>\n      <td>Pangani</td>\n      <td>Kiduruni</td>\n      <td>Kilimanjaro</td>\n      <td>5</td>\n      <td>Hai</td>\n      <td>Masama Magharibi</td>\n      <td>True</td>\n      <td>Water Board</td>\n      <td>1999</td>\n      <td>gravity</td>\n      <td>water board</td>\n      <td>pay per bucket</td>\n      <td>soft</td>\n      <td>enough</td>\n      <td>spring</td>\n      <td>communal standpipe</td>\n    </tr>\n    <tr>\n      <th>59396</th>\n      <td>4700.0</td>\n      <td>other</td>\n      <td>Cefa</td>\n      <td>0</td>\n      <td>Rufiji</td>\n      <td>Igumbilo</td>\n      <td>Iringa</td>\n      <td>4</td>\n      <td>Njombe</td>\n      <td>Ikondo</td>\n      <td>True</td>\n      <td>VWC</td>\n      <td>1996</td>\n      <td>gravity</td>\n      <td>vwc</td>\n      <td>pay annually</td>\n      <td>soft</td>\n      <td>enough</td>\n      <td>river/lake</td>\n      <td>communal standpipe</td>\n    </tr>\n    <tr>\n      <th>59397</th>\n      <td>0.0</td>\n      <td>Unknown</td>\n      <td>Unknown</td>\n      <td>0</td>\n      <td>Rufiji</td>\n      <td>Madungulu</td>\n      <td>Mbeya</td>\n      <td>7</td>\n      <td>Mbarali</td>\n      <td>Chimala</td>\n      <td>True</td>\n      <td>VWC</td>\n      <td>1986</td>\n      <td>handpump</td>\n      <td>vwc</td>\n      <td>pay monthly</td>\n      <td>fluoride</td>\n      <td>enough</td>\n      <td>borehole</td>\n      <td>hand pump</td>\n    </tr>\n    <tr>\n      <th>59398</th>\n      <td>0.0</td>\n      <td>other</td>\n      <td>Musa</td>\n      <td>0</td>\n      <td>Rufiji</td>\n      <td>Mwinyi</td>\n      <td>Dodoma</td>\n      <td>4</td>\n      <td>Chamwino</td>\n      <td>Mvumi Makulu</td>\n      <td>True</td>\n      <td>VWC</td>\n      <td>1986</td>\n      <td>handpump</td>\n      <td>vwc</td>\n      <td>never pay</td>\n      <td>soft</td>\n      <td>insufficient</td>\n      <td>shallow well</td>\n      <td>hand pump</td>\n    </tr>\n    <tr>\n      <th>59399</th>\n      <td>0.0</td>\n      <td>World Bank</td>\n      <td>World</td>\n      <td>0</td>\n      <td>Wami / Ruvu</td>\n      <td>Kikatanyemba</td>\n      <td>Morogoro</td>\n      <td>2</td>\n      <td>Morogoro Rural</td>\n      <td>Ngerengere</td>\n      <td>True</td>\n      <td>VWC</td>\n      <td>2002</td>\n      <td>handpump</td>\n      <td>vwc</td>\n      <td>pay when scheme fails</td>\n      <td>salty</td>\n      <td>enough</td>\n      <td>shallow well</td>\n      <td>hand pump</td>\n    </tr>\n  </tbody>\n</table>\n<p>59400 rows × 20 columns</p>\n</div>"
     },
     "execution_count": 38,
     "metadata": {},
     "output_type": "execute_result"
    }
   ],
   "source": [
    "X"
   ],
   "metadata": {
    "collapsed": false,
    "pycharm": {
     "name": "#%%\n"
    }
   }
  },
  {
   "cell_type": "code",
   "execution_count": null,
   "outputs": [],
   "source": [
    "# from imblearn.over_sampling import SMOTENC\n",
    "#\n",
    "# X_smote, y_smote = SMOTENC(categorical_features=idx_val,n_jobs=-1).fit_resample(X,y)\n",
    "# # X_adasyn, y_adasyn = ADASYN(n_jobs=-1).fit_resample(X,y)"
   ],
   "metadata": {
    "collapsed": false,
    "pycharm": {
     "name": "#%%\n"
    }
   }
  },
  {
   "cell_type": "markdown",
   "source": [],
   "metadata": {
    "collapsed": false,
    "pycharm": {
     "name": "#%% md\n"
    }
   }
  },
  {
   "cell_type": "code",
   "execution_count": 45,
   "outputs": [],
   "source": [
    "# smote_data = pd.concat([X_smote, y_smote], axis=1)\n",
    "# smote_data.to_csv('data/smote_data.csv')\n"
   ],
   "metadata": {
    "collapsed": false,
    "pycharm": {
     "name": "#%%\n"
    }
   }
  },
  {
   "cell_type": "code",
   "execution_count": null,
   "outputs": [],
   "source": [
    "smote_data = pd.read_csv('data/smote_data.csv')"
   ],
   "metadata": {
    "collapsed": false,
    "pycharm": {
     "name": "#%%\n",
     "is_executing": true
    }
   }
  },
  {
   "cell_type": "code",
   "execution_count": null,
   "outputs": [],
   "source": [
    "\n",
    "# X_train, X_test, y_train, y_test = train_test_split(X_smote,y_smote, random_state=42)\n",
    "# numeric_features = X_train.select_dtypes(['int64', 'float64']).columns.to_list()\n",
    "# cat_features = X_train.select_dtypes(['object', 'bool']).columns.to_list()\n",
    "#\n",
    "# numeric_transformer = Pipeline(steps=[('scaler',  StandardScaler())])\n",
    "#\n",
    "# cat_transformer = OneHotEncoder(drop='first', handle_unknown='infrequent_if_exist')\n",
    "#\n",
    "# preprocessor = ColumnTransformer(transformers=[\n",
    "#     ('num', numeric_transformer, numeric_features),\n",
    "#     ('cat', cat_transformer, cat_features)])\n",
    "#\n",
    "# rf_clf = Pipeline(steps=[('preprocessor', preprocessor),\n",
    "#                          ('classifier', RandomForestClassifier(random_state=42))])\n",
    "#\n",
    "# rf_clf.fit(X_train, y_train)\n",
    "# y_hat = rf_clf.predict(X_test)\n",
    "#\n",
    "# print('Accuracy:', accuracy_score(y_test, y_hat))\n",
    "\n",
    "print('Accuracy: 0.8661706964248812')"
   ],
   "metadata": {
    "collapsed": false,
    "pycharm": {
     "name": "#%%\n"
    }
   }
  },
  {
   "cell_type": "code",
   "execution_count": null,
   "outputs": [],
   "source": [
    "# from sklearn.model_selection import cross_val_score\n",
    "#\n",
    "# scores = cross_val_score(rf_clf, X_train, y_train, cv=5, scoring='accuracy', n_jobs=-1)\n",
    "\n",
    "print('[0.85837294, 0.8554109 , 0.85781207, 0.85801874, 0.85788096]')"
   ],
   "metadata": {
    "collapsed": false,
    "pycharm": {
     "name": "#%%\n"
    }
   }
  },
  {
   "cell_type": "code",
   "execution_count": null,
   "outputs": [],
   "source": [
    "numeric_features = X_train.select_dtypes(['int64', 'float64']).columns.to_list()\n",
    "cat_features = X_train.select_dtypes(['object', 'bool']).columns.to_list()\n",
    "\n",
    "numeric_transformer = Pipeline(steps=[('scaler',  StandardScaler())])\n",
    "\n",
    "cat_transformer = OneHotEncoder(drop='first', handle_unknown='infrequent_if_exist')\n",
    "\n",
    "preprocessor = ColumnTransformer(transformers=[\n",
    "    ('num', numeric_transformer, numeric_features),\n",
    "    ('cat', cat_transformer, cat_features)])\n",
    "\n",
    "clf = Pipeline(steps=[('preprocessor', preprocessor),\n",
    "                      ('classifier', RandomForestClassifier(random_state=42))])\n",
    "\n",
    "param_grid = {\n",
    "    'classifier__n_estimators': range(0,5000,100),\n",
    "    'classifier__max_depth': [None, 500, 1000, 1500, 2500, 5000],\n",
    "    'classifier__min_samples_split': range(1,50,2),\n",
    "    'classifier__min_samples_leaf': range(1,50,2),\n",
    "    'classifier__max_features': ['sqrt','log2', None],\n",
    "    'classifier__bootstrap': [True, False],\n",
    "    'classifier__oob_score': [True, False],\n",
    "    'classifier__ccp_alpha': np.linspace(0,1,9),\n",
    "    # 'classifier__class_weight': ['balanced', 'balanced_subsample', None]\n",
    "}\n",
    "\n",
    "grid_search_rf = RandomizedSearchCV(clf,param_grid, n_iter=10, n_jobs=-1, scoring='accuracy')\n",
    "\n",
    "grid_search_rf.fit(X_train, y_train)\n",
    "\n",
    "y_hat = grid_search_rf.predict(X_test)\n",
    "\n",
    "print('Accuracy Score:', accuracy_score(y_test, y_hat))"
   ],
   "metadata": {
    "collapsed": false,
    "pycharm": {
     "name": "#%%\n"
    }
   }
  },
  {
   "cell_type": "code",
   "execution_count": null,
   "outputs": [],
   "source": [
    "submission = pd.read_csv('data/Test_set.csv')\n",
    "submission_ = pd.DataFrame(submission['id'])\n",
    "submission = submission[X_train.columns.to_list()]\n",
    "submission['public_meeting'] = submission['public_meeting'].astype('bool')"
   ],
   "metadata": {
    "collapsed": false,
    "pycharm": {
     "name": "#%%\n"
    }
   }
  },
  {
   "cell_type": "code",
   "execution_count": null,
   "outputs": [],
   "source": [
    "pred = rf_clf.predict(submission)"
   ],
   "metadata": {
    "collapsed": false,
    "pycharm": {
     "name": "#%%\n"
    }
   }
  },
  {
   "cell_type": "code",
   "execution_count": null,
   "outputs": [],
   "source": [
    "final_submission = pd.concat([submission_, pd.DataFrame(pred)], axis=1)"
   ],
   "metadata": {
    "collapsed": false,
    "pycharm": {
     "name": "#%%\n"
    }
   }
  },
  {
   "cell_type": "code",
   "execution_count": null,
   "outputs": [],
   "source": [
    "final_submission.rename(columns={0:'status_group'}, inplace=True)"
   ],
   "metadata": {
    "collapsed": false,
    "pycharm": {
     "name": "#%%\n"
    }
   }
  },
  {
   "cell_type": "code",
   "execution_count": null,
   "outputs": [],
   "source": [
    "final_submission"
   ],
   "metadata": {
    "collapsed": false,
    "pycharm": {
     "name": "#%%\n"
    }
   }
  },
  {
   "cell_type": "code",
   "execution_count": null,
   "outputs": [],
   "source": [
    "keys = submission_.id\n",
    "final_submission.set_index('id', inplace=True)\n",
    "final_submission = final_submission.reindex(list(keys))"
   ],
   "metadata": {
    "collapsed": false,
    "pycharm": {
     "name": "#%%\n"
    }
   }
  },
  {
   "cell_type": "code",
   "execution_count": null,
   "outputs": [],
   "source": [
    "final_submission.reset_index(inplace=True)"
   ],
   "metadata": {
    "collapsed": false,
    "pycharm": {
     "name": "#%%\n"
    }
   }
  },
  {
   "cell_type": "code",
   "execution_count": null,
   "outputs": [],
   "source": [
    "\n",
    "# id = pd.DataFrame(submission.index)\n",
    "# id\n",
    "# final_sub = pd.concat([id, submission_pred], axis = 1)\n",
    "# final_sub.set_index('id', inplace=True)\n",
    "# # final_sub.reset_index(inplace=True, drop=True)\n",
    "final_submission.to_csv('final_submit_1.csv', index=False)"
   ],
   "metadata": {
    "collapsed": false,
    "pycharm": {
     "name": "#%%\n"
    }
   }
  },
  {
   "cell_type": "code",
   "execution_count": null,
   "outputs": [],
   "source": [
    "final_submission"
   ],
   "metadata": {
    "collapsed": false,
    "pycharm": {
     "name": "#%%\n"
    }
   }
  },
  {
   "cell_type": "code",
   "execution_count": null,
   "outputs": [],
   "source": [
    "X = df.drop(['status_group', 'num_private'], axis=1)\n",
    "y = df['status_group']\n",
    "\n",
    "X_train, X_test, y_train, y_test = train_test_split(X,y, random_state=42, stratify=y)\n",
    "numeric_features = X_train.select_dtypes(['int64', 'float64']).columns.to_list()\n",
    "cat_features = X_train.select_dtypes(['object', 'bool']).columns.to_list()\n",
    "\n",
    "numeric_transformer = Pipeline(steps=[('scaler',  StandardScaler())])\n",
    "\n",
    "cat_transformer = OneHotEncoder(drop='first', handle_unknown='ignore')\n",
    "\n",
    "preprocessor = ColumnTransformer(transformers=[\n",
    "    ('num', numeric_transformer, numeric_features),\n",
    "    ('cat', cat_transformer, cat_features)])\n",
    "\n",
    "rf_clf = Pipeline(steps=[('preprocessor', preprocessor),\n",
    "                      ('classifier', RandomForestClassifier(random_state=42, n_jobs=-1))])\n",
    "\n",
    "rf_clf.fit(X_train, y_train)\n",
    "\n",
    "y_hat = rf_clf.predict(X_test)\n",
    "\n",
    "print('Accuracy:', accuracy_score(y_test, y_hat))"
   ],
   "metadata": {
    "collapsed": false,
    "pycharm": {
     "name": "#%%\n"
    }
   }
  },
  {
   "cell_type": "code",
   "execution_count": null,
   "outputs": [],
   "source": [
    "asdfasd"
   ],
   "metadata": {
    "collapsed": false,
    "pycharm": {
     "name": "#%%\n"
    }
   }
  },
  {
   "cell_type": "code",
   "execution_count": null,
   "outputs": [],
   "source": [
    "feat_import_cat_names = list(rf_clf.named_steps['preprocessor'].named_transformers_['cat'].get_feature_names(input_features = cat_features))\n",
    "feat_import = feat_import_cat_names + numeric_features\n",
    "\n",
    "eli5.explain_weights(rf_clf.named_steps['classifier'], top=50, feature_names=feat_import, feature_filter=lambda x: x != '<BIAS>')"
   ],
   "metadata": {
    "collapsed": false,
    "pycharm": {
     "name": "#%%\n"
    }
   }
  },
  {
   "cell_type": "code",
   "execution_count": null,
   "outputs": [],
   "source": [
    "X = df.select_dtypes('object').drop(['status_group'], axis=1)\n",
    "y = df['status_group']\n",
    "\n",
    "X_train, X_test, y_train, y_test = train_test_split(X,y, random_state=42, stratify=y)\n",
    "\n",
    "numeric_features = X_train.select_dtypes(['int64', 'float64']).columns.to_list()\n",
    "cat_features = X_train.select_dtypes(['object', 'bool']).columns.to_list()\n",
    "\n",
    "numeric_transformer = Pipeline(steps=[('scaler',  StandardScaler())])\n",
    "\n",
    "cat_transformer = OneHotEncoder(drop='first', handle_unknown='ignore')\n",
    "\n",
    "preprocessor = ColumnTransformer(transformers=[\n",
    "    ('num', numeric_transformer, numeric_features),\n",
    "    ('cat', cat_transformer, cat_features)])\n",
    "\n",
    "xgb_clf = Pipeline(steps=[('preprocessor', preprocessor),\n",
    "                          ('classifier', LogisticRegression(random_state=42))])\n",
    "\n",
    "xgb_clf.fit(X_train, y_train)\n",
    "\n",
    "y_hat = xgb_clf.predict(X_test)\n",
    "\n",
    "print('Accuracy:', accuracy_score(y_test, y_hat))"
   ],
   "metadata": {
    "collapsed": false,
    "pycharm": {
     "name": "#%%\n"
    }
   }
  },
  {
   "cell_type": "code",
   "execution_count": null,
   "outputs": [],
   "source": [
    "X = df.select_dtypes('object').drop(['status_group'], axis=1)\n",
    "y = df['status_group']\n",
    "\n",
    "X_train, X_test, y_train, y_test = train_test_split(X,y, random_state=42, stratify=y)\n",
    "\n",
    "numeric_features = X_train.select_dtypes(['int64', 'float64']).columns.to_list()\n",
    "cat_features = X_train.select_dtypes(['object', 'bool']).columns.to_list()\n",
    "\n",
    "numeric_transformer = Pipeline(steps=[('scaler',  StandardScaler())])\n",
    "\n",
    "cat_transformer = OneHotEncoder(drop='first', handle_unknown='ignore')\n",
    "\n",
    "preprocessor = ColumnTransformer(transformers=[\n",
    "    ('num', numeric_transformer, numeric_features),\n",
    "    ('cat', cat_transformer, cat_features)])\n",
    "\n",
    "xgb_clf = Pipeline(steps=[('preprocessor', preprocessor),\n",
    "                          ('classifier', XGBClassifier(random_state=42))])\n",
    "\n",
    "xgb_clf.fit(X_train, y_train)\n",
    "\n",
    "y_hat = xgb_clf.predict(X_test)\n",
    "\n",
    "print('Accuracy:', accuracy_score(y_test, y_hat))"
   ],
   "metadata": {
    "collapsed": false,
    "pycharm": {
     "name": "#%%\n"
    }
   }
  },
  {
   "cell_type": "code",
   "execution_count": null,
   "outputs": [],
   "source": [
    "print('Accuracy:', accuracy_score(y_test, y_hat))"
   ],
   "metadata": {
    "collapsed": false,
    "pycharm": {
     "name": "#%%\n"
    }
   }
  },
  {
   "cell_type": "code",
   "execution_count": null,
   "outputs": [],
   "source": [
    "numeric_features = X_train.select_dtypes(['int64', 'float64']).columns.to_list()\n",
    "cat_features = X_train.select_dtypes(['object', 'bool']).columns.to_list()\n",
    "\n",
    "numeric_transformer = Pipeline(steps=[('scaler',  StandardScaler())])\n",
    "\n",
    "preprocessor = ColumnTransformer(transformers=[\n",
    "    ('num', numeric_transformer, numeric_features),\n",
    "    ('cat', cat_transformer, cat_features)])\n",
    "\n",
    "clf = Pipeline(steps=[('preprocessor', preprocessor),\n",
    "                          ('classifier', RandomForestClassifier(random_state=42))])\n",
    "\n",
    "param_grid = {\n",
    "    'classifier__n_estimators': range(0,5000,100),\n",
    "    'classifier__max_depth': [None],\n",
    "    'classifier__min_samples_split': range(1,50,2),\n",
    "    'classifier__min_samples_leaf': range(1,50,2),\n",
    "    'classifier__max_features': ['sqrt','log2', None],\n",
    "    'classifier__bootstrap': [True, False],\n",
    "    'classifier__oob_score': [True, False],\n",
    "    'classifier__ccp_alpha': np.linspace(0,1,9),\n",
    "    'classifier__class_weight': ['balanced', 'balanced_subsample', None]\n",
    "}\n",
    "\n",
    "grid_search_rf = RandomizedSearchCV(clf,param_grid, n_iter=25, n_jobs=-1, scoring='accuracy')\n",
    "\n",
    "grid_search_rf.fit(X_train, y_train)"
   ],
   "metadata": {
    "collapsed": false,
    "pycharm": {
     "name": "#%%\n"
    }
   }
  },
  {
   "cell_type": "code",
   "execution_count": null,
   "outputs": [],
   "source": [
    "grid_search_rf.best_params_"
   ],
   "metadata": {
    "collapsed": false,
    "pycharm": {
     "name": "#%%\n"
    }
   }
  },
  {
   "cell_type": "code",
   "execution_count": null,
   "outputs": [],
   "source": [
    "y_hat = grid_search_rf.predict(X_test)\n",
    "\n",
    "accuracy_score(y_test, y_hat)"
   ],
   "metadata": {
    "collapsed": false,
    "pycharm": {
     "name": "#%%\n"
    }
   }
  },
  {
   "cell_type": "code",
   "execution_count": null,
   "outputs": [],
   "source": [
    "submission_ = pd.read_csv('data/Test_set.csv')\n",
    "keys = submission_.id\n",
    "submission\n",
    "submission.set_index('id', inplace=True)\n",
    "submission = submission.reindex(list(keys))\n",
    "submission_pred = num_clf.predict(submission)\n",
    "submission_pred = pd.DataFrame(submission_pred, columns=['status_group'])\n",
    "submission_pred\n",
    "id = pd.DataFrame(submission.index)\n",
    "id\n",
    "final_sub = pd.concat([id, submission_pred], axis = 1)\n",
    "final_sub.set_index('id', inplace=True)\n",
    "# final_sub.reset_index(inplace=True, drop=True)\n",
    "final_sub.to_csv('new_final_submit.csv', index=False)"
   ],
   "metadata": {
    "collapsed": false,
    "pycharm": {
     "name": "#%%\n"
    }
   }
  },
  {
   "cell_type": "code",
   "execution_count": null,
   "outputs": [],
   "source": [
    "final_sub"
   ],
   "metadata": {
    "collapsed": false,
    "pycharm": {
     "name": "#%%\n"
    }
   }
  },
  {
   "cell_type": "code",
   "execution_count": null,
   "outputs": [],
   "source": [
    "# feat_import_cat_names = list(num_clf.named_steps['preprocessor'].named_transformers_['cat'].get_feature_names(input_features = cat_features))\n",
    "feat_import = numeric_features\n",
    "\n",
    "eli5.explain_weights(num_clf.named_steps['classifier'], top=50, feature_names=feat_import, feature_filter=lambda x: x != '<BIAS>')"
   ],
   "metadata": {
    "collapsed": false,
    "pycharm": {
     "name": "#%%\n"
    }
   }
  },
  {
   "cell_type": "code",
   "execution_count": null,
   "outputs": [],
   "source": [
    "# low_weight = ['population', 'amount_tsh', 'district_code', 'region_code', 'num_private']\n",
    "#\n",
    "# X = df.drop(['status_group','district_code', 'region_code', 'num_private'], axis=1)\n",
    "# y = df['status_group']\n",
    "#\n",
    "# X_train, X_test, y_train, y_test = train_test_split(X,y, random_state=42, stratify=y)\n",
    "#\n",
    "# numeric_features = X_train.select_dtypes(['int64', 'float64']).columns.to_list()\n",
    "# cat_features = X_train.select_dtypes(['object', 'bool']).columns.to_list()\n",
    "#\n",
    "# numeric_transformer = Pipeline(steps=[('scaler',  StandardScaler())])\n",
    "#\n",
    "# cat_transformer = OneHotEncoder(drop='first', handle_unknown='ignore')\n",
    "#\n",
    "# preprocessor = ColumnTransformer(transformers=[\n",
    "#     ('num', numeric_transformer, numeric_features)])\n",
    "# # ('cat', cat_transformer, cat_features)])\n",
    "#\n",
    "# num_clf = Pipeline(steps=[('preprocessor', preprocessor),\n",
    "#                           ('classifier', RandomForestClassifier(random_state=42))])\n",
    "#\n",
    "# num_clf.fit(X_train, y_train)\n",
    "#\n",
    "# y_hat = num_clf.predict(X_test)\n",
    "#\n",
    "# print('Accuracy:', accuracy_score(y_test, y_hat))"
   ],
   "metadata": {
    "collapsed": false,
    "pycharm": {
     "name": "#%%\n"
    }
   }
  },
  {
   "cell_type": "code",
   "execution_count": null,
   "outputs": [],
   "source": [
    "numeric_features = X_train.select_dtypes(['int64', 'float64']).columns.to_list()\n",
    "cat_features = X_train.select_dtypes(['object', 'bool']).columns.to_list()\n",
    "\n",
    "numeric_transformer = Pipeline(steps=[('scaler',  StandardScaler())])\n",
    "\n",
    "cat_transformer = OneHotEncoder(drop='first', handle_unknown='ignore')\n",
    "\n",
    "preprocessor = ColumnTransformer(transformers=[\n",
    "    # ('num', numeric_transformer, numeric_features)])\n",
    "    ('cat', cat_transformer, cat_features)])\n",
    "\n",
    "cat_clf = Pipeline(steps=[('preprocessor', preprocessor),\n",
    "                      ('classifier', RandomForestClassifier(random_state=42))])\n",
    "\n",
    "cat_clf.fit(X_train, y_train)\n",
    "\n",
    "y_hat = cat_clf.predict(X_test)\n",
    "\n",
    "print('Accuracy:', accuracy_score(y_test, y_hat))"
   ],
   "metadata": {
    "collapsed": false,
    "pycharm": {
     "name": "#%%\n"
    }
   }
  },
  {
   "cell_type": "code",
   "execution_count": null,
   "outputs": [],
   "source": [
    "feat_import_cat_names = list(cat_clf.named_steps['preprocessor'].named_transformers_['cat'].get_feature_names(input_features = cat_features))\n",
    "feat_import = feat_import_cat_names\n",
    "\n",
    "eli5.explain_weights(cat_clf.named_steps['classifier'], top=50, feature_names=feat_import, feature_filter=lambda x: x != '<BIAS>')"
   ],
   "metadata": {
    "collapsed": false,
    "pycharm": {
     "name": "#%%\n"
    }
   }
  },
  {
   "cell_type": "code",
   "execution_count": null,
   "outputs": [],
   "source": [
    "numeric_features = X_train.select_dtypes(['int64', 'float64']).columns.to_list()\n",
    "cat_features = X_train.select_dtypes(['object', 'bool']).columns.to_list()\n",
    "\n",
    "numeric_transformer = Pipeline(steps=[('scaler',  StandardScaler())])\n",
    "\n",
    "cat_transformer = OneHotEncoder(drop='first', handle_unknown='ignore')\n",
    "\n",
    "preprocessor = ColumnTransformer(transformers=[\n",
    "    ('num', numeric_transformer, numeric_features),\n",
    "    ('cat', cat_transformer, cat_features)])\n",
    "\n",
    "cat_clf = Pipeline(steps=[('preprocessor', preprocessor),\n",
    "                          ('classifier', RandomForestClassifier(random_state=42))])\n",
    "\n",
    "cat_clf.fit(X_train, y_train)\n",
    "\n",
    "y_hat = cat_clf.predict(X_test)\n",
    "\n",
    "print('Accuracy:', accuracy_score(y_test, y_hat))"
   ],
   "metadata": {
    "collapsed": false,
    "pycharm": {
     "name": "#%%\n"
    }
   }
  },
  {
   "cell_type": "code",
   "execution_count": null,
   "outputs": [],
   "source": [
    "feat_import_cat_names = list(cat_clf.named_steps['preprocessor'].named_transformers_['cat'].get_feature_names(input_features = cat_features))\n",
    "feat_import = feat_import_cat_names + numeric_features\n",
    "\n",
    "eli5.explain_weights(cat_clf.named_steps['classifier'], top=50, feature_names=feat_import, feature_filter=lambda x: x != '<BIAS>')"
   ],
   "metadata": {
    "collapsed": false,
    "pycharm": {
     "name": "#%%\n"
    }
   }
  },
  {
   "cell_type": "code",
   "execution_count": null,
   "outputs": [],
   "source": [
    "df['funder'].value_counts()"
   ],
   "metadata": {
    "collapsed": false,
    "pycharm": {
     "name": "#%%\n"
    }
   }
  },
  {
   "cell_type": "markdown",
   "source": [],
   "metadata": {
    "collapsed": false,
    "pycharm": {
     "name": "#%% md\n"
    }
   }
  },
  {
   "cell_type": "code",
   "execution_count": null,
   "outputs": [],
   "source": [],
   "metadata": {
    "collapsed": false,
    "pycharm": {
     "name": "#%%\n"
    }
   }
  },
  {
   "cell_type": "code",
   "execution_count": null,
   "outputs": [],
   "source": [],
   "metadata": {
    "collapsed": false,
    "pycharm": {
     "name": "#%%\n"
    }
   }
  }
 ],
 "metadata": {
  "kernelspec": {
   "display_name": "myenv",
   "language": "python",
   "name": "myenv"
  },
  "language_info": {
   "codemirror_mode": {
    "name": "ipython",
    "version": 3
   },
   "file_extension": ".py",
   "mimetype": "text/x-python",
   "name": "python",
   "nbconvert_exporter": "python",
   "pygments_lexer": "ipython3",
   "version": "3.9.7"
  }
 },
 "nbformat": 4,
 "nbformat_minor": 4
}